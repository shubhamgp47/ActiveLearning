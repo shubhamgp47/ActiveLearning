{
 "cells": [
  {
   "cell_type": "code",
   "execution_count": 11,
   "metadata": {},
   "outputs": [],
   "source": [
    "# Below pickle reading and displaying the data\n",
    "import os\n",
    "import pickle\n",
    "import numpy as np\n",
    "import pandas as pd\n",
    "import matplotlib.pyplot as plt\n",
    "from plotly import graph_objects, subplots\n",
    "import pickle\n",
    "import plotly.graph_objects as go\n",
    "import plotly.subplots as subplots\n",
    "import numpy as np"
   ]
  },
  {
   "cell_type": "code",
   "execution_count": 12,
   "metadata": {},
   "outputs": [],
   "source": [
    "average_score_file = \"AL_average_score_results_for_multilabel_classification_s43.pickle\"\n",
    "\n",
    "with open(average_score_file, 'rb') as pickle_file:\n",
    "    average_score_results = pickle.load(pickle_file)\n",
    "\n"
   ]
  },
  {
   "cell_type": "code",
   "execution_count": 13,
   "metadata": {},
   "outputs": [],
   "source": [
    "no_of_samples = [8, 24, 56, 112, 212, 388, 704, 1264, 2264, 4048, 7200, 12824, 22824, 26880]\n",
    "performance_test_data = average_score_results[\"test_f1_scores_macro\"]\n"
   ]
  },
  {
   "cell_type": "code",
   "execution_count": 14,
   "metadata": {},
   "outputs": [],
   "source": [
    "import pandas as pd\n",
    "import plotly.graph_objects as go\n",
    "import numpy as np\n",
    "\n",
    "# Load the CSV file\n",
    "csv_path = 'training_history_s43.csv'\n",
    "df = pd.read_csv(csv_path)\n",
    "\n",
    "# Create an 'iteration' column by checking where epoch == 1\n",
    "df['iteration'] = (df['epoch'] == 1).cumsum()\n",
    "\n",
    "# We start from the second iteration (skipping the first one) and go through 13 iterations\n",
    "performance = []\n",
    "for i in range(1, 15):  # Start from 2 and go up to 14 (inclusive)\n",
    "    iteration_data = df[df['iteration'] == i]\n",
    "    performance.append({\n",
    "        'val_loss': iteration_data['valid_loss'].tolist(),\n",
    "        'val_f1_score': iteration_data['valid_f1'].tolist()\n",
    "    })\n",
    "\n",
    "# Ensure that performance and no_of_samples have the same length\n",
    "min_length = min(len(performance), len(no_of_samples))\n",
    "performance = performance[:min_length]\n",
    "no_of_samples = no_of_samples[:min_length]\n",
    "\n",
    "# Function to plot validation performance\n",
    "def plot_validation_performance_vs_epochs(performance, no_of_samples, title, x_axes, y_axes, plotting_curve):\n",
    "    fig = go.Figure()\n",
    "\n",
    "    if \"loss\" in plotting_curve.lower():  \n",
    "        for i in range(len(performance)):\n",
    "            val_loss = performance[i]['val_loss']\n",
    "            fig.add_trace(go.Scatter(\n",
    "                x=list(range(1, len(val_loss) + 1)),\n",
    "                y=val_loss,\n",
    "                mode='lines',\n",
    "                name=f\"{no_of_samples[i]} Images used: Val loss: {val_loss[-1]:.3f}\",\n",
    "                line=dict(width=2)  # Adjust the line width here\n",
    "            ))\n",
    "    \n",
    "    elif \"f1\" in plotting_curve.lower():  \n",
    "        for i in range(len(performance)):\n",
    "            val_f1 = performance[i]['val_f1_score']\n",
    "            fig.add_trace(go.Scatter(\n",
    "                x=list(range(1, len(val_f1) + 1)),\n",
    "                y=val_f1,\n",
    "                mode='lines',\n",
    "                name=f\"{no_of_samples[i]} Images used: Val F1 score: {val_f1[-1]:.3f}\",\n",
    "                line=dict(width=2)  # Adjust the line width here\n",
    "            ))\n",
    "    \n",
    "    else:\n",
    "        raise NameError(\"Unknown name given for plotting curve\")\n",
    "    \n",
    "    fig.update_layout(\n",
    "        title=title,\n",
    "        xaxis_title=x_axes,\n",
    "        yaxis_title=y_axes,\n",
    "        legend_title=\"Legend\",\n",
    "        hovermode=\"x unified\"\n",
    "    )\n",
    "\n",
    "    fig.show()\n"
   ]
  },
  {
   "cell_type": "code",
   "execution_count": 15,
   "metadata": {},
   "outputs": [
    {
     "data": {
      "application/vnd.plotly.v1+json": {
       "config": {
        "plotlyServerURL": "https://plot.ly"
       },
       "data": [
        {
         "line": {
          "width": 2
         },
         "mode": "lines",
         "name": "8 Images used: Val loss: 0.694",
         "type": "scatter",
         "x": [
          1,
          2,
          3,
          4,
          5,
          6,
          7,
          8,
          9,
          10,
          11,
          12,
          13,
          14,
          15,
          16
         ],
         "y": [
          0.6878936806486713,
          0.6885625578463077,
          0.6915668485893144,
          0.6931773202286826,
          0.6830378353595734,
          0.6870123138858213,
          0.6952378877335125,
          0.6926567961772283,
          0.6932485164039665,
          0.6929183918568823,
          0.6947221385935942,
          0.6937716441849867,
          0.6928828419082694,
          0.6932404405540891,
          0.6943895207511054,
          0.6942729754580392
         ]
        },
        {
         "line": {
          "width": 2
         },
         "mode": "lines",
         "name": "24 Images used: Val loss: 0.741",
         "type": "scatter",
         "x": [
          1,
          2,
          3,
          4,
          5,
          6,
          7,
          8,
          9,
          10,
          11,
          12
         ],
         "y": [
          0.7214585543506675,
          0.7331901314357917,
          0.7513858172628615,
          0.7474871694213814,
          0.7489775992102093,
          0.7472576950159338,
          0.7448044266551733,
          0.7445308601690663,
          0.7445956209053596,
          0.7384405276013746,
          0.7406571538498005,
          0.7408584023929304
         ]
        },
        {
         "line": {
          "width": 2
         },
         "mode": "lines",
         "name": "56 Images used: Val loss: 0.681",
         "type": "scatter",
         "x": [
          1,
          2,
          3,
          4,
          5,
          6,
          7,
          8,
          9,
          10,
          11,
          12,
          13,
          14,
          15,
          16,
          17,
          18,
          19,
          20,
          21,
          22,
          23,
          24,
          25,
          26,
          27,
          28,
          29,
          30,
          31,
          32,
          33,
          34,
          35,
          36,
          37,
          38,
          39,
          40,
          41,
          42
         ],
         "y": [
          0.7155935794115067,
          0.7206392762561639,
          0.7092817198485136,
          0.7032077054182688,
          0.7019160017785099,
          0.7007823661797576,
          0.6948415457374519,
          0.6907351139105029,
          0.6900825473583407,
          0.6866709009226826,
          0.68630064709319,
          0.6841358319338825,
          0.6839863744874796,
          0.6830867351343234,
          0.6833845545020368,
          0.6828543508218394,
          0.683197710580296,
          0.682311509963539,
          0.6819754350930453,
          0.6814943191077975,
          0.6815870758146048,
          0.6815626225123803,
          0.6816250508858098,
          0.6813584248638815,
          0.6812936250534323,
          0.6813576080732875,
          0.6813493031180567,
          0.681335861608386,
          0.6812817236615551,
          0.6812315149439706,
          0.6811758913513687,
          0.6811759203258488,
          0.6811770214802689,
          0.6811831874565946,
          0.6811626007987394,
          0.6811617774267992,
          0.6811427546458112,
          0.6811292801880174,
          0.6811140328231785,
          0.6811159323900938,
          0.6811167363077402,
          0.6811201233416796
         ]
        },
        {
         "line": {
          "width": 2
         },
         "mode": "lines",
         "name": "112 Images used: Val loss: 0.650",
         "type": "scatter",
         "x": [
          1,
          2,
          3,
          4,
          5,
          6,
          7,
          8,
          9,
          10,
          11,
          12,
          13,
          14,
          15,
          16,
          17,
          18,
          19,
          20,
          21,
          22,
          23,
          24,
          25,
          26,
          27,
          28
         ],
         "y": [
          0.6889705270528793,
          0.6747330824120177,
          0.6663322350217237,
          0.66562849726114,
          0.658296510991123,
          0.6581241155250205,
          0.655894616453184,
          0.6533267225656244,
          0.6517934142715401,
          0.6513348454402552,
          0.6502791225910187,
          0.6495398560745849,
          0.6506297029140923,
          0.6500892671859927,
          0.6495542833788528,
          0.6497211580061251,
          0.6493914338035716,
          0.649809664570623,
          0.64934377492302,
          0.6497244431326786,
          0.6497606615639395,
          0.6497069345994129,
          0.6497150431490607,
          0.6494993552979496,
          0.6496068286399047,
          0.6495542828821473,
          0.649589541554451,
          0.6495832378251685
         ]
        },
        {
         "line": {
          "width": 2
         },
         "mode": "lines",
         "name": "212 Images used: Val loss: 0.638",
         "type": "scatter",
         "x": [
          1,
          2,
          3,
          4,
          5,
          6,
          7,
          8,
          9,
          10,
          11,
          12,
          13,
          14,
          15,
          16,
          17,
          18,
          19,
          20,
          21,
          22,
          23,
          24,
          25,
          26,
          27,
          28,
          29
         ],
         "y": [
          0.6652923639449808,
          0.6533664284894863,
          0.6520249670164453,
          0.6514029533912739,
          0.6477701703707377,
          0.6441242737074693,
          0.6414807826280594,
          0.6418409997390376,
          0.6409872552173005,
          0.6418263927929931,
          0.6404627589715852,
          0.6399086260961162,
          0.6396884949670898,
          0.6398088011476729,
          0.6391565997981363,
          0.6387154522869322,
          0.638576504174206,
          0.6382226065215137,
          0.6388168192572063,
          0.6386289474036958,
          0.6383696477860212,
          0.6385393530544308,
          0.638857255420751,
          0.6385066028270456,
          0.6385250751343038,
          0.6384956681480011,
          0.6385039509998427,
          0.6384591336051623,
          0.6383937428808875
         ]
        },
        {
         "line": {
          "width": 2
         },
         "mode": "lines",
         "name": "388 Images used: Val loss: 0.620",
         "type": "scatter",
         "x": [
          1,
          2,
          3,
          4,
          5,
          6,
          7,
          8,
          9,
          10,
          11,
          12,
          13,
          14,
          15,
          16,
          17,
          18
         ],
         "y": [
          0.6878966403504213,
          0.6524849527411991,
          0.6390290403945579,
          0.6268784729142983,
          0.6219127485735549,
          0.6174174222681258,
          0.6162720407048862,
          0.6180051553580496,
          0.6166542107032404,
          0.6184870277841886,
          0.6170878175232145,
          0.6183903552591801,
          0.6201061632484197,
          0.617432640078995,
          0.6185234997007582,
          0.6186884045600891,
          0.6202874687396818,
          0.6198277407222323
         ]
        },
        {
         "line": {
          "width": 2
         },
         "mode": "lines",
         "name": "704 Images used: Val loss: 0.578",
         "type": "scatter",
         "x": [
          1,
          2,
          3,
          4,
          5,
          6,
          7,
          8,
          9,
          10,
          11,
          12,
          13,
          14,
          15,
          16,
          17,
          18,
          19,
          20,
          21,
          22
         ],
         "y": [
          0.673729001896249,
          0.6257384847849607,
          0.5970037751313713,
          0.5917896119670736,
          0.5813531270043717,
          0.5822159249749449,
          0.5798078381352955,
          0.5782879184931516,
          0.5818361709101333,
          0.5795044265273545,
          0.5766738336119387,
          0.5783372229586045,
          0.5792282508893145,
          0.5802083185977406,
          0.5806161048925585,
          0.5795040589653784,
          0.5778508589499527,
          0.5785977181047202,
          0.5788279306557443,
          0.5775860259930293,
          0.5779349636700418,
          0.5779822885990142
         ]
        },
        {
         "line": {
          "width": 2
         },
         "mode": "lines",
         "name": "1264 Images used: Val loss: 0.554",
         "type": "scatter",
         "x": [
          1,
          2,
          3,
          4,
          5,
          6,
          7,
          8,
          9,
          10,
          11,
          12,
          13,
          14,
          15,
          16,
          17,
          18,
          19,
          20,
          21,
          22,
          23,
          24,
          25,
          26,
          27,
          28,
          29,
          30,
          31,
          32,
          33,
          34,
          35,
          36
         ],
         "y": [
          0.5910090953939491,
          0.6019708830863237,
          0.6009478024724457,
          0.6004977591335774,
          0.6078916586521599,
          0.5746920584804482,
          0.5738202478736639,
          0.5650577521572511,
          0.5647937034153276,
          0.5640523232105705,
          0.5574721951037646,
          0.5564827771236499,
          0.55871621751123,
          0.5561289857866035,
          0.5570012218008439,
          0.5547444665183624,
          0.5554774490495523,
          0.5549937614136272,
          0.5555129064040052,
          0.5545187255574597,
          0.5540593191981316,
          0.5541856900685364,
          0.5540934367312326,
          0.5544488067842193,
          0.5539717227013574,
          0.5539722943885459,
          0.5544061761142479,
          0.5541935579437348,
          0.5539902839809656,
          0.5541974501063426,
          0.5540926072125634,
          0.5541173138759202,
          0.5540624145832327,
          0.5539431164041162,
          0.5539664322717323,
          0.5539730579074886
         ]
        },
        {
         "line": {
          "width": 2
         },
         "mode": "lines",
         "name": "2264 Images used: Val loss: 0.445",
         "type": "scatter",
         "x": [
          1,
          2,
          3,
          4,
          5,
          6,
          7,
          8,
          9,
          10,
          11,
          12,
          13,
          14,
          15,
          16,
          17,
          18,
          19,
          20,
          21,
          22,
          23,
          24,
          25,
          26,
          27,
          28,
          29,
          30
         ],
         "y": [
          0.5387467747761143,
          0.5001015988282032,
          0.4897510592929191,
          0.4719504059809777,
          0.4599624172473947,
          0.458632934693661,
          0.458779460295207,
          0.4498369257483217,
          0.4549181062728166,
          0.4452634932680262,
          0.4465607985440227,
          0.4438994239394863,
          0.4464870519936085,
          0.4443507293446196,
          0.4437525383300251,
          0.4443479221728112,
          0.4434999315068125,
          0.4435228349640965,
          0.4427351671167546,
          0.444633717296852,
          0.4451572549011972,
          0.4454870156529877,
          0.4444308329787519,
          0.4440357516623205,
          0.4438273623999622,
          0.4446282281850775,
          0.4448178022479017,
          0.4448828587929407,
          0.4451378210344248,
          0.4452676178266604
         ]
        },
        {
         "line": {
          "width": 2
         },
         "mode": "lines",
         "name": "4048 Images used: Val loss: 0.506",
         "type": "scatter",
         "x": [
          1,
          2,
          3,
          4,
          5,
          6,
          7,
          8,
          9,
          10,
          11,
          12,
          13,
          14,
          15,
          16,
          17,
          18,
          19,
          20,
          21,
          22,
          23,
          24
         ],
         "y": [
          0.5814613293856382,
          0.5524407463769118,
          0.5838867102025284,
          0.5472050981182192,
          0.5171317689431211,
          0.5049017418382896,
          0.5075474146546589,
          0.5031656543620758,
          0.5062211819820934,
          0.4981173856183886,
          0.4985534943847192,
          0.4924017643762959,
          0.4913916710039808,
          0.5008392518696686,
          0.500189959951159,
          0.5014785116124484,
          0.5011937616806891,
          0.5045340485042996,
          0.5049036379282673,
          0.5077913999247055,
          0.5079513810988929,
          0.5059749020160073,
          0.5048449887376693,
          0.5055789325593246
         ]
        },
        {
         "line": {
          "width": 2
         },
         "mode": "lines",
         "name": "7200 Images used: Val loss: 0.434",
         "type": "scatter",
         "x": [
          1,
          2,
          3,
          4,
          5,
          6,
          7,
          8,
          9,
          10,
          11,
          12,
          13
         ],
         "y": [
          0.409134874244531,
          0.4078921700517336,
          0.4297785320629676,
          0.481731368187401,
          0.574102253622065,
          0.4274971283765302,
          0.4333569123616649,
          0.4511734928521845,
          0.4370358524430129,
          0.4403416500116388,
          0.4192040544210209,
          0.4328062362865441,
          0.4336395301545659
         ]
        },
        {
         "line": {
          "width": 2
         },
         "mode": "lines",
         "name": "12824 Images used: Val loss: 0.221",
         "type": "scatter",
         "x": [
          1,
          2,
          3,
          4,
          5,
          6,
          7,
          8,
          9,
          10,
          11,
          12,
          13,
          14,
          15
         ],
         "y": [
          0.2201353000683917,
          0.1957944992981437,
          0.1931099419326832,
          0.1879712420463976,
          0.2040885167274003,
          0.2027228134813615,
          0.2012894850741658,
          0.2016174379322264,
          0.2029034663664384,
          0.1986585951565454,
          0.2107609317042968,
          0.2125714483179359,
          0.2164257371435976,
          0.2160444882129215,
          0.2213013515911168
         ]
        },
        {
         "line": {
          "width": 2
         },
         "mode": "lines",
         "name": "22824 Images used: Val loss: 0.201",
         "type": "scatter",
         "x": [
          1,
          2,
          3,
          4,
          5,
          6,
          7,
          8,
          9,
          10,
          11,
          12,
          13
         ],
         "y": [
          0.1725050862412899,
          0.1587501105438504,
          0.1688112691950259,
          0.1695705529800357,
          0.1849792129004425,
          0.167420824844804,
          0.178233532853321,
          0.1737045721496947,
          0.1766985521984881,
          0.1794928500244471,
          0.1951821787195513,
          0.1995190427625655,
          0.2013956640151769
         ]
        },
        {
         "line": {
          "width": 2
         },
         "mode": "lines",
         "name": "26880 Images used: Val loss: 0.221",
         "type": "scatter",
         "x": [
          1,
          2,
          3,
          4,
          5,
          6,
          7,
          8,
          9,
          10,
          11,
          12,
          13,
          14
         ],
         "y": [
          0.1777732722124912,
          0.1735235479964305,
          0.1724479002858667,
          0.2023457933851103,
          0.2275061276233625,
          0.1889393239760668,
          0.1878704274309307,
          0.1962874931043997,
          0.1950793598369475,
          0.1963622900775388,
          0.1983062257678183,
          0.2063244814281158,
          0.2144341720458922,
          0.2205416960565748
         ]
        }
       ],
       "layout": {
        "hovermode": "x unified",
        "legend": {
         "title": {
          "text": "Legend"
         }
        },
        "template": {
         "data": {
          "bar": [
           {
            "error_x": {
             "color": "#2a3f5f"
            },
            "error_y": {
             "color": "#2a3f5f"
            },
            "marker": {
             "line": {
              "color": "#E5ECF6",
              "width": 0.5
             },
             "pattern": {
              "fillmode": "overlay",
              "size": 10,
              "solidity": 0.2
             }
            },
            "type": "bar"
           }
          ],
          "barpolar": [
           {
            "marker": {
             "line": {
              "color": "#E5ECF6",
              "width": 0.5
             },
             "pattern": {
              "fillmode": "overlay",
              "size": 10,
              "solidity": 0.2
             }
            },
            "type": "barpolar"
           }
          ],
          "carpet": [
           {
            "aaxis": {
             "endlinecolor": "#2a3f5f",
             "gridcolor": "white",
             "linecolor": "white",
             "minorgridcolor": "white",
             "startlinecolor": "#2a3f5f"
            },
            "baxis": {
             "endlinecolor": "#2a3f5f",
             "gridcolor": "white",
             "linecolor": "white",
             "minorgridcolor": "white",
             "startlinecolor": "#2a3f5f"
            },
            "type": "carpet"
           }
          ],
          "choropleth": [
           {
            "colorbar": {
             "outlinewidth": 0,
             "ticks": ""
            },
            "type": "choropleth"
           }
          ],
          "contour": [
           {
            "colorbar": {
             "outlinewidth": 0,
             "ticks": ""
            },
            "colorscale": [
             [
              0,
              "#0d0887"
             ],
             [
              0.1111111111111111,
              "#46039f"
             ],
             [
              0.2222222222222222,
              "#7201a8"
             ],
             [
              0.3333333333333333,
              "#9c179e"
             ],
             [
              0.4444444444444444,
              "#bd3786"
             ],
             [
              0.5555555555555556,
              "#d8576b"
             ],
             [
              0.6666666666666666,
              "#ed7953"
             ],
             [
              0.7777777777777778,
              "#fb9f3a"
             ],
             [
              0.8888888888888888,
              "#fdca26"
             ],
             [
              1,
              "#f0f921"
             ]
            ],
            "type": "contour"
           }
          ],
          "contourcarpet": [
           {
            "colorbar": {
             "outlinewidth": 0,
             "ticks": ""
            },
            "type": "contourcarpet"
           }
          ],
          "heatmap": [
           {
            "colorbar": {
             "outlinewidth": 0,
             "ticks": ""
            },
            "colorscale": [
             [
              0,
              "#0d0887"
             ],
             [
              0.1111111111111111,
              "#46039f"
             ],
             [
              0.2222222222222222,
              "#7201a8"
             ],
             [
              0.3333333333333333,
              "#9c179e"
             ],
             [
              0.4444444444444444,
              "#bd3786"
             ],
             [
              0.5555555555555556,
              "#d8576b"
             ],
             [
              0.6666666666666666,
              "#ed7953"
             ],
             [
              0.7777777777777778,
              "#fb9f3a"
             ],
             [
              0.8888888888888888,
              "#fdca26"
             ],
             [
              1,
              "#f0f921"
             ]
            ],
            "type": "heatmap"
           }
          ],
          "heatmapgl": [
           {
            "colorbar": {
             "outlinewidth": 0,
             "ticks": ""
            },
            "colorscale": [
             [
              0,
              "#0d0887"
             ],
             [
              0.1111111111111111,
              "#46039f"
             ],
             [
              0.2222222222222222,
              "#7201a8"
             ],
             [
              0.3333333333333333,
              "#9c179e"
             ],
             [
              0.4444444444444444,
              "#bd3786"
             ],
             [
              0.5555555555555556,
              "#d8576b"
             ],
             [
              0.6666666666666666,
              "#ed7953"
             ],
             [
              0.7777777777777778,
              "#fb9f3a"
             ],
             [
              0.8888888888888888,
              "#fdca26"
             ],
             [
              1,
              "#f0f921"
             ]
            ],
            "type": "heatmapgl"
           }
          ],
          "histogram": [
           {
            "marker": {
             "pattern": {
              "fillmode": "overlay",
              "size": 10,
              "solidity": 0.2
             }
            },
            "type": "histogram"
           }
          ],
          "histogram2d": [
           {
            "colorbar": {
             "outlinewidth": 0,
             "ticks": ""
            },
            "colorscale": [
             [
              0,
              "#0d0887"
             ],
             [
              0.1111111111111111,
              "#46039f"
             ],
             [
              0.2222222222222222,
              "#7201a8"
             ],
             [
              0.3333333333333333,
              "#9c179e"
             ],
             [
              0.4444444444444444,
              "#bd3786"
             ],
             [
              0.5555555555555556,
              "#d8576b"
             ],
             [
              0.6666666666666666,
              "#ed7953"
             ],
             [
              0.7777777777777778,
              "#fb9f3a"
             ],
             [
              0.8888888888888888,
              "#fdca26"
             ],
             [
              1,
              "#f0f921"
             ]
            ],
            "type": "histogram2d"
           }
          ],
          "histogram2dcontour": [
           {
            "colorbar": {
             "outlinewidth": 0,
             "ticks": ""
            },
            "colorscale": [
             [
              0,
              "#0d0887"
             ],
             [
              0.1111111111111111,
              "#46039f"
             ],
             [
              0.2222222222222222,
              "#7201a8"
             ],
             [
              0.3333333333333333,
              "#9c179e"
             ],
             [
              0.4444444444444444,
              "#bd3786"
             ],
             [
              0.5555555555555556,
              "#d8576b"
             ],
             [
              0.6666666666666666,
              "#ed7953"
             ],
             [
              0.7777777777777778,
              "#fb9f3a"
             ],
             [
              0.8888888888888888,
              "#fdca26"
             ],
             [
              1,
              "#f0f921"
             ]
            ],
            "type": "histogram2dcontour"
           }
          ],
          "mesh3d": [
           {
            "colorbar": {
             "outlinewidth": 0,
             "ticks": ""
            },
            "type": "mesh3d"
           }
          ],
          "parcoords": [
           {
            "line": {
             "colorbar": {
              "outlinewidth": 0,
              "ticks": ""
             }
            },
            "type": "parcoords"
           }
          ],
          "pie": [
           {
            "automargin": true,
            "type": "pie"
           }
          ],
          "scatter": [
           {
            "fillpattern": {
             "fillmode": "overlay",
             "size": 10,
             "solidity": 0.2
            },
            "type": "scatter"
           }
          ],
          "scatter3d": [
           {
            "line": {
             "colorbar": {
              "outlinewidth": 0,
              "ticks": ""
             }
            },
            "marker": {
             "colorbar": {
              "outlinewidth": 0,
              "ticks": ""
             }
            },
            "type": "scatter3d"
           }
          ],
          "scattercarpet": [
           {
            "marker": {
             "colorbar": {
              "outlinewidth": 0,
              "ticks": ""
             }
            },
            "type": "scattercarpet"
           }
          ],
          "scattergeo": [
           {
            "marker": {
             "colorbar": {
              "outlinewidth": 0,
              "ticks": ""
             }
            },
            "type": "scattergeo"
           }
          ],
          "scattergl": [
           {
            "marker": {
             "colorbar": {
              "outlinewidth": 0,
              "ticks": ""
             }
            },
            "type": "scattergl"
           }
          ],
          "scattermapbox": [
           {
            "marker": {
             "colorbar": {
              "outlinewidth": 0,
              "ticks": ""
             }
            },
            "type": "scattermapbox"
           }
          ],
          "scatterpolar": [
           {
            "marker": {
             "colorbar": {
              "outlinewidth": 0,
              "ticks": ""
             }
            },
            "type": "scatterpolar"
           }
          ],
          "scatterpolargl": [
           {
            "marker": {
             "colorbar": {
              "outlinewidth": 0,
              "ticks": ""
             }
            },
            "type": "scatterpolargl"
           }
          ],
          "scatterternary": [
           {
            "marker": {
             "colorbar": {
              "outlinewidth": 0,
              "ticks": ""
             }
            },
            "type": "scatterternary"
           }
          ],
          "surface": [
           {
            "colorbar": {
             "outlinewidth": 0,
             "ticks": ""
            },
            "colorscale": [
             [
              0,
              "#0d0887"
             ],
             [
              0.1111111111111111,
              "#46039f"
             ],
             [
              0.2222222222222222,
              "#7201a8"
             ],
             [
              0.3333333333333333,
              "#9c179e"
             ],
             [
              0.4444444444444444,
              "#bd3786"
             ],
             [
              0.5555555555555556,
              "#d8576b"
             ],
             [
              0.6666666666666666,
              "#ed7953"
             ],
             [
              0.7777777777777778,
              "#fb9f3a"
             ],
             [
              0.8888888888888888,
              "#fdca26"
             ],
             [
              1,
              "#f0f921"
             ]
            ],
            "type": "surface"
           }
          ],
          "table": [
           {
            "cells": {
             "fill": {
              "color": "#EBF0F8"
             },
             "line": {
              "color": "white"
             }
            },
            "header": {
             "fill": {
              "color": "#C8D4E3"
             },
             "line": {
              "color": "white"
             }
            },
            "type": "table"
           }
          ]
         },
         "layout": {
          "annotationdefaults": {
           "arrowcolor": "#2a3f5f",
           "arrowhead": 0,
           "arrowwidth": 1
          },
          "autotypenumbers": "strict",
          "coloraxis": {
           "colorbar": {
            "outlinewidth": 0,
            "ticks": ""
           }
          },
          "colorscale": {
           "diverging": [
            [
             0,
             "#8e0152"
            ],
            [
             0.1,
             "#c51b7d"
            ],
            [
             0.2,
             "#de77ae"
            ],
            [
             0.3,
             "#f1b6da"
            ],
            [
             0.4,
             "#fde0ef"
            ],
            [
             0.5,
             "#f7f7f7"
            ],
            [
             0.6,
             "#e6f5d0"
            ],
            [
             0.7,
             "#b8e186"
            ],
            [
             0.8,
             "#7fbc41"
            ],
            [
             0.9,
             "#4d9221"
            ],
            [
             1,
             "#276419"
            ]
           ],
           "sequential": [
            [
             0,
             "#0d0887"
            ],
            [
             0.1111111111111111,
             "#46039f"
            ],
            [
             0.2222222222222222,
             "#7201a8"
            ],
            [
             0.3333333333333333,
             "#9c179e"
            ],
            [
             0.4444444444444444,
             "#bd3786"
            ],
            [
             0.5555555555555556,
             "#d8576b"
            ],
            [
             0.6666666666666666,
             "#ed7953"
            ],
            [
             0.7777777777777778,
             "#fb9f3a"
            ],
            [
             0.8888888888888888,
             "#fdca26"
            ],
            [
             1,
             "#f0f921"
            ]
           ],
           "sequentialminus": [
            [
             0,
             "#0d0887"
            ],
            [
             0.1111111111111111,
             "#46039f"
            ],
            [
             0.2222222222222222,
             "#7201a8"
            ],
            [
             0.3333333333333333,
             "#9c179e"
            ],
            [
             0.4444444444444444,
             "#bd3786"
            ],
            [
             0.5555555555555556,
             "#d8576b"
            ],
            [
             0.6666666666666666,
             "#ed7953"
            ],
            [
             0.7777777777777778,
             "#fb9f3a"
            ],
            [
             0.8888888888888888,
             "#fdca26"
            ],
            [
             1,
             "#f0f921"
            ]
           ]
          },
          "colorway": [
           "#636efa",
           "#EF553B",
           "#00cc96",
           "#ab63fa",
           "#FFA15A",
           "#19d3f3",
           "#FF6692",
           "#B6E880",
           "#FF97FF",
           "#FECB52"
          ],
          "font": {
           "color": "#2a3f5f"
          },
          "geo": {
           "bgcolor": "white",
           "lakecolor": "white",
           "landcolor": "#E5ECF6",
           "showlakes": true,
           "showland": true,
           "subunitcolor": "white"
          },
          "hoverlabel": {
           "align": "left"
          },
          "hovermode": "closest",
          "mapbox": {
           "style": "light"
          },
          "paper_bgcolor": "white",
          "plot_bgcolor": "#E5ECF6",
          "polar": {
           "angularaxis": {
            "gridcolor": "white",
            "linecolor": "white",
            "ticks": ""
           },
           "bgcolor": "#E5ECF6",
           "radialaxis": {
            "gridcolor": "white",
            "linecolor": "white",
            "ticks": ""
           }
          },
          "scene": {
           "xaxis": {
            "backgroundcolor": "#E5ECF6",
            "gridcolor": "white",
            "gridwidth": 2,
            "linecolor": "white",
            "showbackground": true,
            "ticks": "",
            "zerolinecolor": "white"
           },
           "yaxis": {
            "backgroundcolor": "#E5ECF6",
            "gridcolor": "white",
            "gridwidth": 2,
            "linecolor": "white",
            "showbackground": true,
            "ticks": "",
            "zerolinecolor": "white"
           },
           "zaxis": {
            "backgroundcolor": "#E5ECF6",
            "gridcolor": "white",
            "gridwidth": 2,
            "linecolor": "white",
            "showbackground": true,
            "ticks": "",
            "zerolinecolor": "white"
           }
          },
          "shapedefaults": {
           "line": {
            "color": "#2a3f5f"
           }
          },
          "ternary": {
           "aaxis": {
            "gridcolor": "white",
            "linecolor": "white",
            "ticks": ""
           },
           "baxis": {
            "gridcolor": "white",
            "linecolor": "white",
            "ticks": ""
           },
           "bgcolor": "#E5ECF6",
           "caxis": {
            "gridcolor": "white",
            "linecolor": "white",
            "ticks": ""
           }
          },
          "title": {
           "x": 0.05
          },
          "xaxis": {
           "automargin": true,
           "gridcolor": "white",
           "linecolor": "white",
           "ticks": "",
           "title": {
            "standoff": 15
           },
           "zerolinecolor": "white",
           "zerolinewidth": 2
          },
          "yaxis": {
           "automargin": true,
           "gridcolor": "white",
           "linecolor": "white",
           "ticks": "",
           "title": {
            "standoff": 15
           },
           "zerolinecolor": "white",
           "zerolinewidth": 2
          }
         }
        },
        "title": {
         "text": "Validation set loss using Average Score"
        },
        "xaxis": {
         "title": {
          "text": "Number of Epochs"
         }
        },
        "yaxis": {
         "title": {
          "text": "Validation loss"
         }
        }
       }
      },
      "text/html": [
       "<div>                            <div id=\"da3c5431-18a6-4156-8c8e-6e04b542d4eb\" class=\"plotly-graph-div\" style=\"height:525px; width:100%;\"></div>            <script type=\"text/javascript\">                require([\"plotly\"], function(Plotly) {                    window.PLOTLYENV=window.PLOTLYENV || {};                                    if (document.getElementById(\"da3c5431-18a6-4156-8c8e-6e04b542d4eb\")) {                    Plotly.newPlot(                        \"da3c5431-18a6-4156-8c8e-6e04b542d4eb\",                        [{\"line\":{\"width\":2},\"mode\":\"lines\",\"name\":\"8 Images used: Val loss: 0.694\",\"x\":[1,2,3,4,5,6,7,8,9,10,11,12,13,14,15,16],\"y\":[0.6878936806486713,0.6885625578463077,0.6915668485893144,0.6931773202286826,0.6830378353595734,0.6870123138858213,0.6952378877335125,0.6926567961772283,0.6932485164039665,0.6929183918568823,0.6947221385935942,0.6937716441849867,0.6928828419082694,0.6932404405540891,0.6943895207511054,0.6942729754580392],\"type\":\"scatter\"},{\"line\":{\"width\":2},\"mode\":\"lines\",\"name\":\"24 Images used: Val loss: 0.741\",\"x\":[1,2,3,4,5,6,7,8,9,10,11,12],\"y\":[0.7214585543506675,0.7331901314357917,0.7513858172628615,0.7474871694213814,0.7489775992102093,0.7472576950159338,0.7448044266551733,0.7445308601690663,0.7445956209053596,0.7384405276013746,0.7406571538498005,0.7408584023929304],\"type\":\"scatter\"},{\"line\":{\"width\":2},\"mode\":\"lines\",\"name\":\"56 Images used: Val loss: 0.681\",\"x\":[1,2,3,4,5,6,7,8,9,10,11,12,13,14,15,16,17,18,19,20,21,22,23,24,25,26,27,28,29,30,31,32,33,34,35,36,37,38,39,40,41,42],\"y\":[0.7155935794115067,0.7206392762561639,0.7092817198485136,0.7032077054182688,0.7019160017785099,0.7007823661797576,0.6948415457374519,0.6907351139105029,0.6900825473583407,0.6866709009226826,0.68630064709319,0.6841358319338825,0.6839863744874796,0.6830867351343234,0.6833845545020368,0.6828543508218394,0.683197710580296,0.682311509963539,0.6819754350930453,0.6814943191077975,0.6815870758146048,0.6815626225123803,0.6816250508858098,0.6813584248638815,0.6812936250534323,0.6813576080732875,0.6813493031180567,0.681335861608386,0.6812817236615551,0.6812315149439706,0.6811758913513687,0.6811759203258488,0.6811770214802689,0.6811831874565946,0.6811626007987394,0.6811617774267992,0.6811427546458112,0.6811292801880174,0.6811140328231785,0.6811159323900938,0.6811167363077402,0.6811201233416796],\"type\":\"scatter\"},{\"line\":{\"width\":2},\"mode\":\"lines\",\"name\":\"112 Images used: Val loss: 0.650\",\"x\":[1,2,3,4,5,6,7,8,9,10,11,12,13,14,15,16,17,18,19,20,21,22,23,24,25,26,27,28],\"y\":[0.6889705270528793,0.6747330824120177,0.6663322350217237,0.66562849726114,0.658296510991123,0.6581241155250205,0.655894616453184,0.6533267225656244,0.6517934142715401,0.6513348454402552,0.6502791225910187,0.6495398560745849,0.6506297029140923,0.6500892671859927,0.6495542833788528,0.6497211580061251,0.6493914338035716,0.649809664570623,0.64934377492302,0.6497244431326786,0.6497606615639395,0.6497069345994129,0.6497150431490607,0.6494993552979496,0.6496068286399047,0.6495542828821473,0.649589541554451,0.6495832378251685],\"type\":\"scatter\"},{\"line\":{\"width\":2},\"mode\":\"lines\",\"name\":\"212 Images used: Val loss: 0.638\",\"x\":[1,2,3,4,5,6,7,8,9,10,11,12,13,14,15,16,17,18,19,20,21,22,23,24,25,26,27,28,29],\"y\":[0.6652923639449808,0.6533664284894863,0.6520249670164453,0.6514029533912739,0.6477701703707377,0.6441242737074693,0.6414807826280594,0.6418409997390376,0.6409872552173005,0.6418263927929931,0.6404627589715852,0.6399086260961162,0.6396884949670898,0.6398088011476729,0.6391565997981363,0.6387154522869322,0.638576504174206,0.6382226065215137,0.6388168192572063,0.6386289474036958,0.6383696477860212,0.6385393530544308,0.638857255420751,0.6385066028270456,0.6385250751343038,0.6384956681480011,0.6385039509998427,0.6384591336051623,0.6383937428808875],\"type\":\"scatter\"},{\"line\":{\"width\":2},\"mode\":\"lines\",\"name\":\"388 Images used: Val loss: 0.620\",\"x\":[1,2,3,4,5,6,7,8,9,10,11,12,13,14,15,16,17,18],\"y\":[0.6878966403504213,0.6524849527411991,0.6390290403945579,0.6268784729142983,0.6219127485735549,0.6174174222681258,0.6162720407048862,0.6180051553580496,0.6166542107032404,0.6184870277841886,0.6170878175232145,0.6183903552591801,0.6201061632484197,0.617432640078995,0.6185234997007582,0.6186884045600891,0.6202874687396818,0.6198277407222323],\"type\":\"scatter\"},{\"line\":{\"width\":2},\"mode\":\"lines\",\"name\":\"704 Images used: Val loss: 0.578\",\"x\":[1,2,3,4,5,6,7,8,9,10,11,12,13,14,15,16,17,18,19,20,21,22],\"y\":[0.673729001896249,0.6257384847849607,0.5970037751313713,0.5917896119670736,0.5813531270043717,0.5822159249749449,0.5798078381352955,0.5782879184931516,0.5818361709101333,0.5795044265273545,0.5766738336119387,0.5783372229586045,0.5792282508893145,0.5802083185977406,0.5806161048925585,0.5795040589653784,0.5778508589499527,0.5785977181047202,0.5788279306557443,0.5775860259930293,0.5779349636700418,0.5779822885990142],\"type\":\"scatter\"},{\"line\":{\"width\":2},\"mode\":\"lines\",\"name\":\"1264 Images used: Val loss: 0.554\",\"x\":[1,2,3,4,5,6,7,8,9,10,11,12,13,14,15,16,17,18,19,20,21,22,23,24,25,26,27,28,29,30,31,32,33,34,35,36],\"y\":[0.5910090953939491,0.6019708830863237,0.6009478024724457,0.6004977591335774,0.6078916586521599,0.5746920584804482,0.5738202478736639,0.5650577521572511,0.5647937034153276,0.5640523232105705,0.5574721951037646,0.5564827771236499,0.55871621751123,0.5561289857866035,0.5570012218008439,0.5547444665183624,0.5554774490495523,0.5549937614136272,0.5555129064040052,0.5545187255574597,0.5540593191981316,0.5541856900685364,0.5540934367312326,0.5544488067842193,0.5539717227013574,0.5539722943885459,0.5544061761142479,0.5541935579437348,0.5539902839809656,0.5541974501063426,0.5540926072125634,0.5541173138759202,0.5540624145832327,0.5539431164041162,0.5539664322717323,0.5539730579074886],\"type\":\"scatter\"},{\"line\":{\"width\":2},\"mode\":\"lines\",\"name\":\"2264 Images used: Val loss: 0.445\",\"x\":[1,2,3,4,5,6,7,8,9,10,11,12,13,14,15,16,17,18,19,20,21,22,23,24,25,26,27,28,29,30],\"y\":[0.5387467747761143,0.5001015988282032,0.4897510592929191,0.4719504059809777,0.4599624172473947,0.458632934693661,0.458779460295207,0.4498369257483217,0.4549181062728166,0.4452634932680262,0.4465607985440227,0.4438994239394863,0.4464870519936085,0.4443507293446196,0.4437525383300251,0.4443479221728112,0.4434999315068125,0.4435228349640965,0.4427351671167546,0.444633717296852,0.4451572549011972,0.4454870156529877,0.4444308329787519,0.4440357516623205,0.4438273623999622,0.4446282281850775,0.4448178022479017,0.4448828587929407,0.4451378210344248,0.4452676178266604],\"type\":\"scatter\"},{\"line\":{\"width\":2},\"mode\":\"lines\",\"name\":\"4048 Images used: Val loss: 0.506\",\"x\":[1,2,3,4,5,6,7,8,9,10,11,12,13,14,15,16,17,18,19,20,21,22,23,24],\"y\":[0.5814613293856382,0.5524407463769118,0.5838867102025284,0.5472050981182192,0.5171317689431211,0.5049017418382896,0.5075474146546589,0.5031656543620758,0.5062211819820934,0.4981173856183886,0.4985534943847192,0.4924017643762959,0.4913916710039808,0.5008392518696686,0.500189959951159,0.5014785116124484,0.5011937616806891,0.5045340485042996,0.5049036379282673,0.5077913999247055,0.5079513810988929,0.5059749020160073,0.5048449887376693,0.5055789325593246],\"type\":\"scatter\"},{\"line\":{\"width\":2},\"mode\":\"lines\",\"name\":\"7200 Images used: Val loss: 0.434\",\"x\":[1,2,3,4,5,6,7,8,9,10,11,12,13],\"y\":[0.409134874244531,0.4078921700517336,0.4297785320629676,0.481731368187401,0.574102253622065,0.4274971283765302,0.4333569123616649,0.4511734928521845,0.4370358524430129,0.4403416500116388,0.4192040544210209,0.4328062362865441,0.4336395301545659],\"type\":\"scatter\"},{\"line\":{\"width\":2},\"mode\":\"lines\",\"name\":\"12824 Images used: Val loss: 0.221\",\"x\":[1,2,3,4,5,6,7,8,9,10,11,12,13,14,15],\"y\":[0.2201353000683917,0.1957944992981437,0.1931099419326832,0.1879712420463976,0.2040885167274003,0.2027228134813615,0.2012894850741658,0.2016174379322264,0.2029034663664384,0.1986585951565454,0.2107609317042968,0.2125714483179359,0.2164257371435976,0.2160444882129215,0.2213013515911168],\"type\":\"scatter\"},{\"line\":{\"width\":2},\"mode\":\"lines\",\"name\":\"22824 Images used: Val loss: 0.201\",\"x\":[1,2,3,4,5,6,7,8,9,10,11,12,13],\"y\":[0.1725050862412899,0.1587501105438504,0.1688112691950259,0.1695705529800357,0.1849792129004425,0.167420824844804,0.178233532853321,0.1737045721496947,0.1766985521984881,0.1794928500244471,0.1951821787195513,0.1995190427625655,0.2013956640151769],\"type\":\"scatter\"},{\"line\":{\"width\":2},\"mode\":\"lines\",\"name\":\"26880 Images used: Val loss: 0.221\",\"x\":[1,2,3,4,5,6,7,8,9,10,11,12,13,14],\"y\":[0.1777732722124912,0.1735235479964305,0.1724479002858667,0.2023457933851103,0.2275061276233625,0.1889393239760668,0.1878704274309307,0.1962874931043997,0.1950793598369475,0.1963622900775388,0.1983062257678183,0.2063244814281158,0.2144341720458922,0.2205416960565748],\"type\":\"scatter\"}],                        {\"template\":{\"data\":{\"histogram2dcontour\":[{\"type\":\"histogram2dcontour\",\"colorbar\":{\"outlinewidth\":0,\"ticks\":\"\"},\"colorscale\":[[0.0,\"#0d0887\"],[0.1111111111111111,\"#46039f\"],[0.2222222222222222,\"#7201a8\"],[0.3333333333333333,\"#9c179e\"],[0.4444444444444444,\"#bd3786\"],[0.5555555555555556,\"#d8576b\"],[0.6666666666666666,\"#ed7953\"],[0.7777777777777778,\"#fb9f3a\"],[0.8888888888888888,\"#fdca26\"],[1.0,\"#f0f921\"]]}],\"choropleth\":[{\"type\":\"choropleth\",\"colorbar\":{\"outlinewidth\":0,\"ticks\":\"\"}}],\"histogram2d\":[{\"type\":\"histogram2d\",\"colorbar\":{\"outlinewidth\":0,\"ticks\":\"\"},\"colorscale\":[[0.0,\"#0d0887\"],[0.1111111111111111,\"#46039f\"],[0.2222222222222222,\"#7201a8\"],[0.3333333333333333,\"#9c179e\"],[0.4444444444444444,\"#bd3786\"],[0.5555555555555556,\"#d8576b\"],[0.6666666666666666,\"#ed7953\"],[0.7777777777777778,\"#fb9f3a\"],[0.8888888888888888,\"#fdca26\"],[1.0,\"#f0f921\"]]}],\"heatmap\":[{\"type\":\"heatmap\",\"colorbar\":{\"outlinewidth\":0,\"ticks\":\"\"},\"colorscale\":[[0.0,\"#0d0887\"],[0.1111111111111111,\"#46039f\"],[0.2222222222222222,\"#7201a8\"],[0.3333333333333333,\"#9c179e\"],[0.4444444444444444,\"#bd3786\"],[0.5555555555555556,\"#d8576b\"],[0.6666666666666666,\"#ed7953\"],[0.7777777777777778,\"#fb9f3a\"],[0.8888888888888888,\"#fdca26\"],[1.0,\"#f0f921\"]]}],\"heatmapgl\":[{\"type\":\"heatmapgl\",\"colorbar\":{\"outlinewidth\":0,\"ticks\":\"\"},\"colorscale\":[[0.0,\"#0d0887\"],[0.1111111111111111,\"#46039f\"],[0.2222222222222222,\"#7201a8\"],[0.3333333333333333,\"#9c179e\"],[0.4444444444444444,\"#bd3786\"],[0.5555555555555556,\"#d8576b\"],[0.6666666666666666,\"#ed7953\"],[0.7777777777777778,\"#fb9f3a\"],[0.8888888888888888,\"#fdca26\"],[1.0,\"#f0f921\"]]}],\"contourcarpet\":[{\"type\":\"contourcarpet\",\"colorbar\":{\"outlinewidth\":0,\"ticks\":\"\"}}],\"contour\":[{\"type\":\"contour\",\"colorbar\":{\"outlinewidth\":0,\"ticks\":\"\"},\"colorscale\":[[0.0,\"#0d0887\"],[0.1111111111111111,\"#46039f\"],[0.2222222222222222,\"#7201a8\"],[0.3333333333333333,\"#9c179e\"],[0.4444444444444444,\"#bd3786\"],[0.5555555555555556,\"#d8576b\"],[0.6666666666666666,\"#ed7953\"],[0.7777777777777778,\"#fb9f3a\"],[0.8888888888888888,\"#fdca26\"],[1.0,\"#f0f921\"]]}],\"surface\":[{\"type\":\"surface\",\"colorbar\":{\"outlinewidth\":0,\"ticks\":\"\"},\"colorscale\":[[0.0,\"#0d0887\"],[0.1111111111111111,\"#46039f\"],[0.2222222222222222,\"#7201a8\"],[0.3333333333333333,\"#9c179e\"],[0.4444444444444444,\"#bd3786\"],[0.5555555555555556,\"#d8576b\"],[0.6666666666666666,\"#ed7953\"],[0.7777777777777778,\"#fb9f3a\"],[0.8888888888888888,\"#fdca26\"],[1.0,\"#f0f921\"]]}],\"mesh3d\":[{\"type\":\"mesh3d\",\"colorbar\":{\"outlinewidth\":0,\"ticks\":\"\"}}],\"scatter\":[{\"fillpattern\":{\"fillmode\":\"overlay\",\"size\":10,\"solidity\":0.2},\"type\":\"scatter\"}],\"parcoords\":[{\"type\":\"parcoords\",\"line\":{\"colorbar\":{\"outlinewidth\":0,\"ticks\":\"\"}}}],\"scatterpolargl\":[{\"type\":\"scatterpolargl\",\"marker\":{\"colorbar\":{\"outlinewidth\":0,\"ticks\":\"\"}}}],\"bar\":[{\"error_x\":{\"color\":\"#2a3f5f\"},\"error_y\":{\"color\":\"#2a3f5f\"},\"marker\":{\"line\":{\"color\":\"#E5ECF6\",\"width\":0.5},\"pattern\":{\"fillmode\":\"overlay\",\"size\":10,\"solidity\":0.2}},\"type\":\"bar\"}],\"scattergeo\":[{\"type\":\"scattergeo\",\"marker\":{\"colorbar\":{\"outlinewidth\":0,\"ticks\":\"\"}}}],\"scatterpolar\":[{\"type\":\"scatterpolar\",\"marker\":{\"colorbar\":{\"outlinewidth\":0,\"ticks\":\"\"}}}],\"histogram\":[{\"marker\":{\"pattern\":{\"fillmode\":\"overlay\",\"size\":10,\"solidity\":0.2}},\"type\":\"histogram\"}],\"scattergl\":[{\"type\":\"scattergl\",\"marker\":{\"colorbar\":{\"outlinewidth\":0,\"ticks\":\"\"}}}],\"scatter3d\":[{\"type\":\"scatter3d\",\"line\":{\"colorbar\":{\"outlinewidth\":0,\"ticks\":\"\"}},\"marker\":{\"colorbar\":{\"outlinewidth\":0,\"ticks\":\"\"}}}],\"scattermapbox\":[{\"type\":\"scattermapbox\",\"marker\":{\"colorbar\":{\"outlinewidth\":0,\"ticks\":\"\"}}}],\"scatterternary\":[{\"type\":\"scatterternary\",\"marker\":{\"colorbar\":{\"outlinewidth\":0,\"ticks\":\"\"}}}],\"scattercarpet\":[{\"type\":\"scattercarpet\",\"marker\":{\"colorbar\":{\"outlinewidth\":0,\"ticks\":\"\"}}}],\"carpet\":[{\"aaxis\":{\"endlinecolor\":\"#2a3f5f\",\"gridcolor\":\"white\",\"linecolor\":\"white\",\"minorgridcolor\":\"white\",\"startlinecolor\":\"#2a3f5f\"},\"baxis\":{\"endlinecolor\":\"#2a3f5f\",\"gridcolor\":\"white\",\"linecolor\":\"white\",\"minorgridcolor\":\"white\",\"startlinecolor\":\"#2a3f5f\"},\"type\":\"carpet\"}],\"table\":[{\"cells\":{\"fill\":{\"color\":\"#EBF0F8\"},\"line\":{\"color\":\"white\"}},\"header\":{\"fill\":{\"color\":\"#C8D4E3\"},\"line\":{\"color\":\"white\"}},\"type\":\"table\"}],\"barpolar\":[{\"marker\":{\"line\":{\"color\":\"#E5ECF6\",\"width\":0.5},\"pattern\":{\"fillmode\":\"overlay\",\"size\":10,\"solidity\":0.2}},\"type\":\"barpolar\"}],\"pie\":[{\"automargin\":true,\"type\":\"pie\"}]},\"layout\":{\"autotypenumbers\":\"strict\",\"colorway\":[\"#636efa\",\"#EF553B\",\"#00cc96\",\"#ab63fa\",\"#FFA15A\",\"#19d3f3\",\"#FF6692\",\"#B6E880\",\"#FF97FF\",\"#FECB52\"],\"font\":{\"color\":\"#2a3f5f\"},\"hovermode\":\"closest\",\"hoverlabel\":{\"align\":\"left\"},\"paper_bgcolor\":\"white\",\"plot_bgcolor\":\"#E5ECF6\",\"polar\":{\"bgcolor\":\"#E5ECF6\",\"angularaxis\":{\"gridcolor\":\"white\",\"linecolor\":\"white\",\"ticks\":\"\"},\"radialaxis\":{\"gridcolor\":\"white\",\"linecolor\":\"white\",\"ticks\":\"\"}},\"ternary\":{\"bgcolor\":\"#E5ECF6\",\"aaxis\":{\"gridcolor\":\"white\",\"linecolor\":\"white\",\"ticks\":\"\"},\"baxis\":{\"gridcolor\":\"white\",\"linecolor\":\"white\",\"ticks\":\"\"},\"caxis\":{\"gridcolor\":\"white\",\"linecolor\":\"white\",\"ticks\":\"\"}},\"coloraxis\":{\"colorbar\":{\"outlinewidth\":0,\"ticks\":\"\"}},\"colorscale\":{\"sequential\":[[0.0,\"#0d0887\"],[0.1111111111111111,\"#46039f\"],[0.2222222222222222,\"#7201a8\"],[0.3333333333333333,\"#9c179e\"],[0.4444444444444444,\"#bd3786\"],[0.5555555555555556,\"#d8576b\"],[0.6666666666666666,\"#ed7953\"],[0.7777777777777778,\"#fb9f3a\"],[0.8888888888888888,\"#fdca26\"],[1.0,\"#f0f921\"]],\"sequentialminus\":[[0.0,\"#0d0887\"],[0.1111111111111111,\"#46039f\"],[0.2222222222222222,\"#7201a8\"],[0.3333333333333333,\"#9c179e\"],[0.4444444444444444,\"#bd3786\"],[0.5555555555555556,\"#d8576b\"],[0.6666666666666666,\"#ed7953\"],[0.7777777777777778,\"#fb9f3a\"],[0.8888888888888888,\"#fdca26\"],[1.0,\"#f0f921\"]],\"diverging\":[[0,\"#8e0152\"],[0.1,\"#c51b7d\"],[0.2,\"#de77ae\"],[0.3,\"#f1b6da\"],[0.4,\"#fde0ef\"],[0.5,\"#f7f7f7\"],[0.6,\"#e6f5d0\"],[0.7,\"#b8e186\"],[0.8,\"#7fbc41\"],[0.9,\"#4d9221\"],[1,\"#276419\"]]},\"xaxis\":{\"gridcolor\":\"white\",\"linecolor\":\"white\",\"ticks\":\"\",\"title\":{\"standoff\":15},\"zerolinecolor\":\"white\",\"automargin\":true,\"zerolinewidth\":2},\"yaxis\":{\"gridcolor\":\"white\",\"linecolor\":\"white\",\"ticks\":\"\",\"title\":{\"standoff\":15},\"zerolinecolor\":\"white\",\"automargin\":true,\"zerolinewidth\":2},\"scene\":{\"xaxis\":{\"backgroundcolor\":\"#E5ECF6\",\"gridcolor\":\"white\",\"linecolor\":\"white\",\"showbackground\":true,\"ticks\":\"\",\"zerolinecolor\":\"white\",\"gridwidth\":2},\"yaxis\":{\"backgroundcolor\":\"#E5ECF6\",\"gridcolor\":\"white\",\"linecolor\":\"white\",\"showbackground\":true,\"ticks\":\"\",\"zerolinecolor\":\"white\",\"gridwidth\":2},\"zaxis\":{\"backgroundcolor\":\"#E5ECF6\",\"gridcolor\":\"white\",\"linecolor\":\"white\",\"showbackground\":true,\"ticks\":\"\",\"zerolinecolor\":\"white\",\"gridwidth\":2}},\"shapedefaults\":{\"line\":{\"color\":\"#2a3f5f\"}},\"annotationdefaults\":{\"arrowcolor\":\"#2a3f5f\",\"arrowhead\":0,\"arrowwidth\":1},\"geo\":{\"bgcolor\":\"white\",\"landcolor\":\"#E5ECF6\",\"subunitcolor\":\"white\",\"showland\":true,\"showlakes\":true,\"lakecolor\":\"white\"},\"title\":{\"x\":0.05},\"mapbox\":{\"style\":\"light\"}}},\"title\":{\"text\":\"Validation set loss using Average Score\"},\"xaxis\":{\"title\":{\"text\":\"Number of Epochs\"}},\"yaxis\":{\"title\":{\"text\":\"Validation loss\"}},\"legend\":{\"title\":{\"text\":\"Legend\"}},\"hovermode\":\"x unified\"},                        {\"responsive\": true}                    ).then(function(){\n",
       "                            \n",
       "var gd = document.getElementById('da3c5431-18a6-4156-8c8e-6e04b542d4eb');\n",
       "var x = new MutationObserver(function (mutations, observer) {{\n",
       "        var display = window.getComputedStyle(gd).display;\n",
       "        if (!display || display === 'none') {{\n",
       "            console.log([gd, 'removed!']);\n",
       "            Plotly.purge(gd);\n",
       "            observer.disconnect();\n",
       "        }}\n",
       "}});\n",
       "\n",
       "// Listen for the removal of the full notebook cells\n",
       "var notebookContainer = gd.closest('#notebook-container');\n",
       "if (notebookContainer) {{\n",
       "    x.observe(notebookContainer, {childList: true});\n",
       "}}\n",
       "\n",
       "// Listen for the clearing of the current output cell\n",
       "var outputEl = gd.closest('.output');\n",
       "if (outputEl) {{\n",
       "    x.observe(outputEl, {childList: true});\n",
       "}}\n",
       "\n",
       "                        })                };                });            </script>        </div>"
      ]
     },
     "metadata": {},
     "output_type": "display_data"
    }
   ],
   "source": [
    "plot_validation_performance_vs_epochs(\n",
    "    performance, \n",
    "    no_of_samples, \n",
    "    title=\"Validation set loss using Average Score\", \n",
    "    x_axes=\"Number of Epochs\", \n",
    "    y_axes=\"Validation loss\", \n",
    "    plotting_curve=\"val loss\"  # Change to \"f1\" if you want to plot F1 scores instead\n",
    ")"
   ]
  },
  {
   "cell_type": "code",
   "execution_count": 16,
   "metadata": {},
   "outputs": [
    {
     "data": {
      "application/vnd.plotly.v1+json": {
       "config": {
        "plotlyServerURL": "https://plot.ly"
       },
       "data": [
        {
         "line": {
          "width": 2
         },
         "mode": "lines",
         "name": "8 Images used: Val F1 score: 0.469",
         "type": "scatter",
         "x": [
          1,
          2,
          3,
          4,
          5,
          6,
          7,
          8,
          9,
          10,
          11,
          12,
          13,
          14,
          15,
          16
         ],
         "y": [
          0.4634677035475021,
          0.4492991834848107,
          0.445417247998336,
          0.4448684828171179,
          0.4772745700009755,
          0.4599194758576326,
          0.4601546250827444,
          0.4645508054674565,
          0.4597593972662814,
          0.4740334004967994,
          0.4687219522348642,
          0.4676942039783821,
          0.4698307568983472,
          0.4707534679653842,
          0.4700993653499236,
          0.468950578929856
         ]
        },
        {
         "line": {
          "width": 2
         },
         "mode": "lines",
         "name": "24 Images used: Val F1 score: 0.487",
         "type": "scatter",
         "x": [
          1,
          2,
          3,
          4,
          5,
          6,
          7,
          8,
          9,
          10,
          11,
          12
         ],
         "y": [
          0.4693782318634296,
          0.4576750632564586,
          0.4724116255597964,
          0.4692205047194074,
          0.4679179567886259,
          0.4717633667376379,
          0.4685890783903947,
          0.4813362723062708,
          0.4846375662647039,
          0.4803893424526029,
          0.4860513076350185,
          0.4867213205538453
         ]
        },
        {
         "line": {
          "width": 2
         },
         "mode": "lines",
         "name": "56 Images used: Val F1 score: 0.470",
         "type": "scatter",
         "x": [
          1,
          2,
          3,
          4,
          5,
          6,
          7,
          8,
          9,
          10,
          11,
          12,
          13,
          14,
          15,
          16,
          17,
          18,
          19,
          20,
          21,
          22,
          23,
          24,
          25,
          26,
          27,
          28,
          29,
          30,
          31,
          32,
          33,
          34,
          35,
          36,
          37,
          38,
          39,
          40,
          41,
          42
         ],
         "y": [
          0.5396601006331393,
          0.5086295292306243,
          0.4983193183522797,
          0.4807140276856245,
          0.4954036054317858,
          0.4765117234443652,
          0.4730277685006518,
          0.4744024123222639,
          0.4731223196313837,
          0.4705645579067328,
          0.4701132509761135,
          0.4712099048342729,
          0.4715675344362047,
          0.4706547348288212,
          0.4701688396283299,
          0.4694926485001704,
          0.4697781274120677,
          0.4703391454471348,
          0.4697118265125704,
          0.4699890138250487,
          0.4700768729708073,
          0.4700569824638809,
          0.4706302326546018,
          0.4700458547147612,
          0.469949207016384,
          0.4699172259115294,
          0.4699854309433807,
          0.4699172259115294,
          0.4699053110855855,
          0.4699894536089423,
          0.4699894536089423,
          0.4699894536089423,
          0.4698690575459436,
          0.4698690575459436,
          0.4699292294951069,
          0.4699292294951069,
          0.4699292294951069,
          0.4699292294951069,
          0.4699292294951069,
          0.4699292294951069,
          0.4699292294951069,
          0.4699292294951069
         ]
        },
        {
         "line": {
          "width": 2
         },
         "mode": "lines",
         "name": "112 Images used: Val F1 score: 0.481",
         "type": "scatter",
         "x": [
          1,
          2,
          3,
          4,
          5,
          6,
          7,
          8,
          9,
          10,
          11,
          12,
          13,
          14,
          15,
          16,
          17,
          18,
          19,
          20,
          21,
          22,
          23,
          24,
          25,
          26,
          27,
          28
         ],
         "y": [
          0.5329976203131387,
          0.5099535473821837,
          0.5086755038101273,
          0.4952710217188123,
          0.4878537681873295,
          0.4832223218687292,
          0.4829595457726021,
          0.4820104180683658,
          0.4845594543807071,
          0.4808523723040905,
          0.4809293884389072,
          0.4816057961715332,
          0.4804506779980435,
          0.4800491825567033,
          0.4815984398284541,
          0.4816301018473592,
          0.480412749118551,
          0.4801835887563097,
          0.4803476840377154,
          0.4800018231070271,
          0.4798800927621473,
          0.4803101829547166,
          0.4808840226494957,
          0.480752128889576,
          0.4807448288799059,
          0.4808734296280803,
          0.4807185881797409,
          0.4808807358024859
         ]
        },
        {
         "line": {
          "width": 2
         },
         "mode": "lines",
         "name": "212 Images used: Val F1 score: 0.489",
         "type": "scatter",
         "x": [
          1,
          2,
          3,
          4,
          5,
          6,
          7,
          8,
          9,
          10,
          11,
          12,
          13,
          14,
          15,
          16,
          17,
          18,
          19,
          20,
          21,
          22,
          23,
          24,
          25,
          26,
          27,
          28,
          29
         ],
         "y": [
          0.5410181896842307,
          0.5240791776252326,
          0.5169895605754273,
          0.5212602909791632,
          0.5097479922539411,
          0.5018584577628439,
          0.4997409349017429,
          0.4984426709818072,
          0.4975889384605416,
          0.4947685631443693,
          0.49279365928741,
          0.4937099185937513,
          0.4926831211284753,
          0.4953823440251683,
          0.4943947395751858,
          0.4896693168484509,
          0.4920216296793977,
          0.4926608080415682,
          0.4920019105733563,
          0.4930774239238983,
          0.4906269267967469,
          0.4907134362587672,
          0.4902067590179268,
          0.4894348709160135,
          0.4892599879663509,
          0.4891402912347589,
          0.4892691959316895,
          0.489076906072754,
          0.4891449732782736
         ]
        },
        {
         "line": {
          "width": 2
         },
         "mode": "lines",
         "name": "388 Images used: Val F1 score: 0.533",
         "type": "scatter",
         "x": [
          1,
          2,
          3,
          4,
          5,
          6,
          7,
          8,
          9,
          10,
          11,
          12,
          13,
          14,
          15,
          16,
          17,
          18
         ],
         "y": [
          0.5572095883030607,
          0.5642172599659703,
          0.5569284972449529,
          0.5446380440609737,
          0.5467705252876766,
          0.5404618653713196,
          0.5406782837265769,
          0.5363919701410444,
          0.5395997148788862,
          0.5395844986833668,
          0.5361467254859967,
          0.5333087342092427,
          0.5330100030768559,
          0.5377928533187025,
          0.534852834062845,
          0.5339411511246621,
          0.5328077511160698,
          0.5332404430686262
         ]
        },
        {
         "line": {
          "width": 2
         },
         "mode": "lines",
         "name": "704 Images used: Val F1 score: 0.612",
         "type": "scatter",
         "x": [
          1,
          2,
          3,
          4,
          5,
          6,
          7,
          8,
          9,
          10,
          11,
          12,
          13,
          14,
          15,
          16,
          17,
          18,
          19,
          20,
          21,
          22
         ],
         "y": [
          0.5902733314210558,
          0.5796105606260472,
          0.5909355374218261,
          0.5987999428107148,
          0.6031050311979848,
          0.604192168473775,
          0.6056988052604996,
          0.6074572339372961,
          0.6103262277893666,
          0.6102678028884826,
          0.6116943265713868,
          0.6085325287635164,
          0.6107412270239362,
          0.6126816618776559,
          0.6126589795453682,
          0.6127600101418463,
          0.6129165184495934,
          0.6138132210716701,
          0.6124658749104692,
          0.6140330382899614,
          0.6140302176143151,
          0.612444053633123
         ]
        },
        {
         "line": {
          "width": 2
         },
         "mode": "lines",
         "name": "1264 Images used: Val F1 score: 0.674",
         "type": "scatter",
         "x": [
          1,
          2,
          3,
          4,
          5,
          6,
          7,
          8,
          9,
          10,
          11,
          12,
          13,
          14,
          15,
          16,
          17,
          18,
          19,
          20,
          21,
          22,
          23,
          24,
          25,
          26,
          27,
          28,
          29,
          30,
          31,
          32,
          33,
          34,
          35,
          36
         ],
         "y": [
          0.6601822277288196,
          0.6656196385831813,
          0.6688135591867134,
          0.6728406012714969,
          0.6757259224031834,
          0.6669363961633502,
          0.6674245345999991,
          0.6706742085726146,
          0.6718325530602893,
          0.6716466701026161,
          0.6738552293140736,
          0.6729315562729082,
          0.6741786134166521,
          0.6739831607609418,
          0.6737997491268123,
          0.6735821539037392,
          0.6738966250738333,
          0.6730893467326133,
          0.674856797912437,
          0.6738437630291628,
          0.6734845466310638,
          0.6737955900691084,
          0.6733243822382615,
          0.6733503665169495,
          0.6733494291191265,
          0.673251595669425,
          0.6733308860952699,
          0.6733369555668586,
          0.6733297599967644,
          0.6733659687475481,
          0.6733414451724112,
          0.6734496682604072,
          0.6734725135663305,
          0.6732883133792874,
          0.6732846935646949,
          0.673584326337391
         ]
        },
        {
         "line": {
          "width": 2
         },
         "mode": "lines",
         "name": "2264 Images used: Val F1 score: 0.757",
         "type": "scatter",
         "x": [
          1,
          2,
          3,
          4,
          5,
          6,
          7,
          8,
          9,
          10,
          11,
          12,
          13,
          14,
          15,
          16,
          17,
          18,
          19,
          20,
          21,
          22,
          23,
          24,
          25,
          26,
          27,
          28,
          29,
          30
         ],
         "y": [
          0.6884469607113729,
          0.704976277926869,
          0.7157231523404498,
          0.7264431936255553,
          0.7348915985706733,
          0.7467321741854122,
          0.7490981104013912,
          0.7499759175377333,
          0.7501669001864536,
          0.7518247580965932,
          0.7534913689649173,
          0.7511909209907234,
          0.7524441903530582,
          0.753879728745764,
          0.7542921084802777,
          0.7556746704832277,
          0.7552760473192164,
          0.755216284634847,
          0.7555496704130938,
          0.7560982802449749,
          0.7557398929389705,
          0.7563645807390599,
          0.7562179033364695,
          0.7561908089373821,
          0.7557924041829366,
          0.7561239482049373,
          0.7562764206760278,
          0.7563711477348057,
          0.7567195320532393,
          0.757139701603511
         ]
        },
        {
         "line": {
          "width": 2
         },
         "mode": "lines",
         "name": "4048 Images used: Val F1 score: 0.756",
         "type": "scatter",
         "x": [
          1,
          2,
          3,
          4,
          5,
          6,
          7,
          8,
          9,
          10,
          11,
          12,
          13,
          14,
          15,
          16,
          17,
          18,
          19,
          20,
          21,
          22,
          23,
          24
         ],
         "y": [
          0.7173021880831243,
          0.7263221163919512,
          0.7305675683650691,
          0.7396037023648532,
          0.7505843750953115,
          0.750061084824771,
          0.7534432222625002,
          0.7511729751361061,
          0.7499624060469605,
          0.7552461714447204,
          0.7560068445079201,
          0.7591612827908197,
          0.7603117690851035,
          0.7579848675480454,
          0.758856335284405,
          0.7562698354258606,
          0.7575888749083939,
          0.7563191688298027,
          0.756176899992616,
          0.7552903800180379,
          0.7547540645075141,
          0.7561765444076913,
          0.7560912108901007,
          0.756496993543422
         ]
        },
        {
         "line": {
          "width": 2
         },
         "mode": "lines",
         "name": "7200 Images used: Val F1 score: 0.793",
         "type": "scatter",
         "x": [
          1,
          2,
          3,
          4,
          5,
          6,
          7,
          8,
          9,
          10,
          11,
          12,
          13
         ],
         "y": [
          0.7648511093227972,
          0.7837012030698262,
          0.7699991892405632,
          0.7630184894241402,
          0.7279131041638864,
          0.790558225843605,
          0.7885086805217502,
          0.7812402629386196,
          0.7825852246978036,
          0.7805856981205211,
          0.7986235584029492,
          0.7942024845647859,
          0.7929291629810379
         ]
        },
        {
         "line": {
          "width": 2
         },
         "mode": "lines",
         "name": "12824 Images used: Val F1 score: 0.900",
         "type": "scatter",
         "x": [
          1,
          2,
          3,
          4,
          5,
          6,
          7,
          8,
          9,
          10,
          11,
          12,
          13,
          14,
          15
         ],
         "y": [
          0.8653636588915194,
          0.8980337358865143,
          0.8812154418961171,
          0.9001047493013585,
          0.897089302723038,
          0.8932480381568052,
          0.8992721761395476,
          0.9007131454662662,
          0.899130588165308,
          0.9016934539295112,
          0.900080675639491,
          0.9002103705829753,
          0.900888890964874,
          0.900715821982903,
          0.8998987194738546
         ]
        },
        {
         "line": {
          "width": 2
         },
         "mode": "lines",
         "name": "22824 Images used: Val F1 score: 0.905",
         "type": "scatter",
         "x": [
          1,
          2,
          3,
          4,
          5,
          6,
          7,
          8,
          9,
          10,
          11,
          12,
          13
         ],
         "y": [
          0.8962789576520559,
          0.900143269219915,
          0.9029153727979048,
          0.8957445446252469,
          0.8827656860825989,
          0.9084337019853368,
          0.9051799341926432,
          0.9117328971168192,
          0.9092199516690236,
          0.9113732093625004,
          0.9076668675459642,
          0.9051024743796772,
          0.9052366597572664
         ]
        },
        {
         "line": {
          "width": 2
         },
         "mode": "lines",
         "name": "26880 Images used: Val F1 score: 0.906",
         "type": "scatter",
         "x": [
          1,
          2,
          3,
          4,
          5,
          6,
          7,
          8,
          9,
          10,
          11,
          12,
          13,
          14
         ],
         "y": [
          0.8790015819112561,
          0.8912837839539143,
          0.8928225920672267,
          0.8798280069714347,
          0.876884122354103,
          0.8996058849699948,
          0.9046740555817292,
          0.9007383748072018,
          0.9046257329529902,
          0.9042996074419736,
          0.9115891410370012,
          0.90798956406039,
          0.9094595621619908,
          0.9062491011057976
         ]
        }
       ],
       "layout": {
        "hovermode": "x unified",
        "legend": {
         "title": {
          "text": "Legend"
         }
        },
        "template": {
         "data": {
          "bar": [
           {
            "error_x": {
             "color": "#2a3f5f"
            },
            "error_y": {
             "color": "#2a3f5f"
            },
            "marker": {
             "line": {
              "color": "#E5ECF6",
              "width": 0.5
             },
             "pattern": {
              "fillmode": "overlay",
              "size": 10,
              "solidity": 0.2
             }
            },
            "type": "bar"
           }
          ],
          "barpolar": [
           {
            "marker": {
             "line": {
              "color": "#E5ECF6",
              "width": 0.5
             },
             "pattern": {
              "fillmode": "overlay",
              "size": 10,
              "solidity": 0.2
             }
            },
            "type": "barpolar"
           }
          ],
          "carpet": [
           {
            "aaxis": {
             "endlinecolor": "#2a3f5f",
             "gridcolor": "white",
             "linecolor": "white",
             "minorgridcolor": "white",
             "startlinecolor": "#2a3f5f"
            },
            "baxis": {
             "endlinecolor": "#2a3f5f",
             "gridcolor": "white",
             "linecolor": "white",
             "minorgridcolor": "white",
             "startlinecolor": "#2a3f5f"
            },
            "type": "carpet"
           }
          ],
          "choropleth": [
           {
            "colorbar": {
             "outlinewidth": 0,
             "ticks": ""
            },
            "type": "choropleth"
           }
          ],
          "contour": [
           {
            "colorbar": {
             "outlinewidth": 0,
             "ticks": ""
            },
            "colorscale": [
             [
              0,
              "#0d0887"
             ],
             [
              0.1111111111111111,
              "#46039f"
             ],
             [
              0.2222222222222222,
              "#7201a8"
             ],
             [
              0.3333333333333333,
              "#9c179e"
             ],
             [
              0.4444444444444444,
              "#bd3786"
             ],
             [
              0.5555555555555556,
              "#d8576b"
             ],
             [
              0.6666666666666666,
              "#ed7953"
             ],
             [
              0.7777777777777778,
              "#fb9f3a"
             ],
             [
              0.8888888888888888,
              "#fdca26"
             ],
             [
              1,
              "#f0f921"
             ]
            ],
            "type": "contour"
           }
          ],
          "contourcarpet": [
           {
            "colorbar": {
             "outlinewidth": 0,
             "ticks": ""
            },
            "type": "contourcarpet"
           }
          ],
          "heatmap": [
           {
            "colorbar": {
             "outlinewidth": 0,
             "ticks": ""
            },
            "colorscale": [
             [
              0,
              "#0d0887"
             ],
             [
              0.1111111111111111,
              "#46039f"
             ],
             [
              0.2222222222222222,
              "#7201a8"
             ],
             [
              0.3333333333333333,
              "#9c179e"
             ],
             [
              0.4444444444444444,
              "#bd3786"
             ],
             [
              0.5555555555555556,
              "#d8576b"
             ],
             [
              0.6666666666666666,
              "#ed7953"
             ],
             [
              0.7777777777777778,
              "#fb9f3a"
             ],
             [
              0.8888888888888888,
              "#fdca26"
             ],
             [
              1,
              "#f0f921"
             ]
            ],
            "type": "heatmap"
           }
          ],
          "heatmapgl": [
           {
            "colorbar": {
             "outlinewidth": 0,
             "ticks": ""
            },
            "colorscale": [
             [
              0,
              "#0d0887"
             ],
             [
              0.1111111111111111,
              "#46039f"
             ],
             [
              0.2222222222222222,
              "#7201a8"
             ],
             [
              0.3333333333333333,
              "#9c179e"
             ],
             [
              0.4444444444444444,
              "#bd3786"
             ],
             [
              0.5555555555555556,
              "#d8576b"
             ],
             [
              0.6666666666666666,
              "#ed7953"
             ],
             [
              0.7777777777777778,
              "#fb9f3a"
             ],
             [
              0.8888888888888888,
              "#fdca26"
             ],
             [
              1,
              "#f0f921"
             ]
            ],
            "type": "heatmapgl"
           }
          ],
          "histogram": [
           {
            "marker": {
             "pattern": {
              "fillmode": "overlay",
              "size": 10,
              "solidity": 0.2
             }
            },
            "type": "histogram"
           }
          ],
          "histogram2d": [
           {
            "colorbar": {
             "outlinewidth": 0,
             "ticks": ""
            },
            "colorscale": [
             [
              0,
              "#0d0887"
             ],
             [
              0.1111111111111111,
              "#46039f"
             ],
             [
              0.2222222222222222,
              "#7201a8"
             ],
             [
              0.3333333333333333,
              "#9c179e"
             ],
             [
              0.4444444444444444,
              "#bd3786"
             ],
             [
              0.5555555555555556,
              "#d8576b"
             ],
             [
              0.6666666666666666,
              "#ed7953"
             ],
             [
              0.7777777777777778,
              "#fb9f3a"
             ],
             [
              0.8888888888888888,
              "#fdca26"
             ],
             [
              1,
              "#f0f921"
             ]
            ],
            "type": "histogram2d"
           }
          ],
          "histogram2dcontour": [
           {
            "colorbar": {
             "outlinewidth": 0,
             "ticks": ""
            },
            "colorscale": [
             [
              0,
              "#0d0887"
             ],
             [
              0.1111111111111111,
              "#46039f"
             ],
             [
              0.2222222222222222,
              "#7201a8"
             ],
             [
              0.3333333333333333,
              "#9c179e"
             ],
             [
              0.4444444444444444,
              "#bd3786"
             ],
             [
              0.5555555555555556,
              "#d8576b"
             ],
             [
              0.6666666666666666,
              "#ed7953"
             ],
             [
              0.7777777777777778,
              "#fb9f3a"
             ],
             [
              0.8888888888888888,
              "#fdca26"
             ],
             [
              1,
              "#f0f921"
             ]
            ],
            "type": "histogram2dcontour"
           }
          ],
          "mesh3d": [
           {
            "colorbar": {
             "outlinewidth": 0,
             "ticks": ""
            },
            "type": "mesh3d"
           }
          ],
          "parcoords": [
           {
            "line": {
             "colorbar": {
              "outlinewidth": 0,
              "ticks": ""
             }
            },
            "type": "parcoords"
           }
          ],
          "pie": [
           {
            "automargin": true,
            "type": "pie"
           }
          ],
          "scatter": [
           {
            "fillpattern": {
             "fillmode": "overlay",
             "size": 10,
             "solidity": 0.2
            },
            "type": "scatter"
           }
          ],
          "scatter3d": [
           {
            "line": {
             "colorbar": {
              "outlinewidth": 0,
              "ticks": ""
             }
            },
            "marker": {
             "colorbar": {
              "outlinewidth": 0,
              "ticks": ""
             }
            },
            "type": "scatter3d"
           }
          ],
          "scattercarpet": [
           {
            "marker": {
             "colorbar": {
              "outlinewidth": 0,
              "ticks": ""
             }
            },
            "type": "scattercarpet"
           }
          ],
          "scattergeo": [
           {
            "marker": {
             "colorbar": {
              "outlinewidth": 0,
              "ticks": ""
             }
            },
            "type": "scattergeo"
           }
          ],
          "scattergl": [
           {
            "marker": {
             "colorbar": {
              "outlinewidth": 0,
              "ticks": ""
             }
            },
            "type": "scattergl"
           }
          ],
          "scattermapbox": [
           {
            "marker": {
             "colorbar": {
              "outlinewidth": 0,
              "ticks": ""
             }
            },
            "type": "scattermapbox"
           }
          ],
          "scatterpolar": [
           {
            "marker": {
             "colorbar": {
              "outlinewidth": 0,
              "ticks": ""
             }
            },
            "type": "scatterpolar"
           }
          ],
          "scatterpolargl": [
           {
            "marker": {
             "colorbar": {
              "outlinewidth": 0,
              "ticks": ""
             }
            },
            "type": "scatterpolargl"
           }
          ],
          "scatterternary": [
           {
            "marker": {
             "colorbar": {
              "outlinewidth": 0,
              "ticks": ""
             }
            },
            "type": "scatterternary"
           }
          ],
          "surface": [
           {
            "colorbar": {
             "outlinewidth": 0,
             "ticks": ""
            },
            "colorscale": [
             [
              0,
              "#0d0887"
             ],
             [
              0.1111111111111111,
              "#46039f"
             ],
             [
              0.2222222222222222,
              "#7201a8"
             ],
             [
              0.3333333333333333,
              "#9c179e"
             ],
             [
              0.4444444444444444,
              "#bd3786"
             ],
             [
              0.5555555555555556,
              "#d8576b"
             ],
             [
              0.6666666666666666,
              "#ed7953"
             ],
             [
              0.7777777777777778,
              "#fb9f3a"
             ],
             [
              0.8888888888888888,
              "#fdca26"
             ],
             [
              1,
              "#f0f921"
             ]
            ],
            "type": "surface"
           }
          ],
          "table": [
           {
            "cells": {
             "fill": {
              "color": "#EBF0F8"
             },
             "line": {
              "color": "white"
             }
            },
            "header": {
             "fill": {
              "color": "#C8D4E3"
             },
             "line": {
              "color": "white"
             }
            },
            "type": "table"
           }
          ]
         },
         "layout": {
          "annotationdefaults": {
           "arrowcolor": "#2a3f5f",
           "arrowhead": 0,
           "arrowwidth": 1
          },
          "autotypenumbers": "strict",
          "coloraxis": {
           "colorbar": {
            "outlinewidth": 0,
            "ticks": ""
           }
          },
          "colorscale": {
           "diverging": [
            [
             0,
             "#8e0152"
            ],
            [
             0.1,
             "#c51b7d"
            ],
            [
             0.2,
             "#de77ae"
            ],
            [
             0.3,
             "#f1b6da"
            ],
            [
             0.4,
             "#fde0ef"
            ],
            [
             0.5,
             "#f7f7f7"
            ],
            [
             0.6,
             "#e6f5d0"
            ],
            [
             0.7,
             "#b8e186"
            ],
            [
             0.8,
             "#7fbc41"
            ],
            [
             0.9,
             "#4d9221"
            ],
            [
             1,
             "#276419"
            ]
           ],
           "sequential": [
            [
             0,
             "#0d0887"
            ],
            [
             0.1111111111111111,
             "#46039f"
            ],
            [
             0.2222222222222222,
             "#7201a8"
            ],
            [
             0.3333333333333333,
             "#9c179e"
            ],
            [
             0.4444444444444444,
             "#bd3786"
            ],
            [
             0.5555555555555556,
             "#d8576b"
            ],
            [
             0.6666666666666666,
             "#ed7953"
            ],
            [
             0.7777777777777778,
             "#fb9f3a"
            ],
            [
             0.8888888888888888,
             "#fdca26"
            ],
            [
             1,
             "#f0f921"
            ]
           ],
           "sequentialminus": [
            [
             0,
             "#0d0887"
            ],
            [
             0.1111111111111111,
             "#46039f"
            ],
            [
             0.2222222222222222,
             "#7201a8"
            ],
            [
             0.3333333333333333,
             "#9c179e"
            ],
            [
             0.4444444444444444,
             "#bd3786"
            ],
            [
             0.5555555555555556,
             "#d8576b"
            ],
            [
             0.6666666666666666,
             "#ed7953"
            ],
            [
             0.7777777777777778,
             "#fb9f3a"
            ],
            [
             0.8888888888888888,
             "#fdca26"
            ],
            [
             1,
             "#f0f921"
            ]
           ]
          },
          "colorway": [
           "#636efa",
           "#EF553B",
           "#00cc96",
           "#ab63fa",
           "#FFA15A",
           "#19d3f3",
           "#FF6692",
           "#B6E880",
           "#FF97FF",
           "#FECB52"
          ],
          "font": {
           "color": "#2a3f5f"
          },
          "geo": {
           "bgcolor": "white",
           "lakecolor": "white",
           "landcolor": "#E5ECF6",
           "showlakes": true,
           "showland": true,
           "subunitcolor": "white"
          },
          "hoverlabel": {
           "align": "left"
          },
          "hovermode": "closest",
          "mapbox": {
           "style": "light"
          },
          "paper_bgcolor": "white",
          "plot_bgcolor": "#E5ECF6",
          "polar": {
           "angularaxis": {
            "gridcolor": "white",
            "linecolor": "white",
            "ticks": ""
           },
           "bgcolor": "#E5ECF6",
           "radialaxis": {
            "gridcolor": "white",
            "linecolor": "white",
            "ticks": ""
           }
          },
          "scene": {
           "xaxis": {
            "backgroundcolor": "#E5ECF6",
            "gridcolor": "white",
            "gridwidth": 2,
            "linecolor": "white",
            "showbackground": true,
            "ticks": "",
            "zerolinecolor": "white"
           },
           "yaxis": {
            "backgroundcolor": "#E5ECF6",
            "gridcolor": "white",
            "gridwidth": 2,
            "linecolor": "white",
            "showbackground": true,
            "ticks": "",
            "zerolinecolor": "white"
           },
           "zaxis": {
            "backgroundcolor": "#E5ECF6",
            "gridcolor": "white",
            "gridwidth": 2,
            "linecolor": "white",
            "showbackground": true,
            "ticks": "",
            "zerolinecolor": "white"
           }
          },
          "shapedefaults": {
           "line": {
            "color": "#2a3f5f"
           }
          },
          "ternary": {
           "aaxis": {
            "gridcolor": "white",
            "linecolor": "white",
            "ticks": ""
           },
           "baxis": {
            "gridcolor": "white",
            "linecolor": "white",
            "ticks": ""
           },
           "bgcolor": "#E5ECF6",
           "caxis": {
            "gridcolor": "white",
            "linecolor": "white",
            "ticks": ""
           }
          },
          "title": {
           "x": 0.05
          },
          "xaxis": {
           "automargin": true,
           "gridcolor": "white",
           "linecolor": "white",
           "ticks": "",
           "title": {
            "standoff": 15
           },
           "zerolinecolor": "white",
           "zerolinewidth": 2
          },
          "yaxis": {
           "automargin": true,
           "gridcolor": "white",
           "linecolor": "white",
           "ticks": "",
           "title": {
            "standoff": 15
           },
           "zerolinecolor": "white",
           "zerolinewidth": 2
          }
         }
        },
        "title": {
         "text": "Validation set F1 using Average Score"
        },
        "xaxis": {
         "title": {
          "text": "Number of Epochs"
         }
        },
        "yaxis": {
         "title": {
          "text": "Validation F1 score"
         }
        }
       }
      },
      "text/html": [
       "<div>                            <div id=\"7ebe4716-beb2-4a35-8369-aba015c854de\" class=\"plotly-graph-div\" style=\"height:525px; width:100%;\"></div>            <script type=\"text/javascript\">                require([\"plotly\"], function(Plotly) {                    window.PLOTLYENV=window.PLOTLYENV || {};                                    if (document.getElementById(\"7ebe4716-beb2-4a35-8369-aba015c854de\")) {                    Plotly.newPlot(                        \"7ebe4716-beb2-4a35-8369-aba015c854de\",                        [{\"line\":{\"width\":2},\"mode\":\"lines\",\"name\":\"8 Images used: Val F1 score: 0.469\",\"x\":[1,2,3,4,5,6,7,8,9,10,11,12,13,14,15,16],\"y\":[0.4634677035475021,0.4492991834848107,0.445417247998336,0.4448684828171179,0.4772745700009755,0.4599194758576326,0.4601546250827444,0.4645508054674565,0.4597593972662814,0.4740334004967994,0.4687219522348642,0.4676942039783821,0.4698307568983472,0.4707534679653842,0.4700993653499236,0.468950578929856],\"type\":\"scatter\"},{\"line\":{\"width\":2},\"mode\":\"lines\",\"name\":\"24 Images used: Val F1 score: 0.487\",\"x\":[1,2,3,4,5,6,7,8,9,10,11,12],\"y\":[0.4693782318634296,0.4576750632564586,0.4724116255597964,0.4692205047194074,0.4679179567886259,0.4717633667376379,0.4685890783903947,0.4813362723062708,0.4846375662647039,0.4803893424526029,0.4860513076350185,0.4867213205538453],\"type\":\"scatter\"},{\"line\":{\"width\":2},\"mode\":\"lines\",\"name\":\"56 Images used: Val F1 score: 0.470\",\"x\":[1,2,3,4,5,6,7,8,9,10,11,12,13,14,15,16,17,18,19,20,21,22,23,24,25,26,27,28,29,30,31,32,33,34,35,36,37,38,39,40,41,42],\"y\":[0.5396601006331393,0.5086295292306243,0.4983193183522797,0.4807140276856245,0.4954036054317858,0.4765117234443652,0.4730277685006518,0.4744024123222639,0.4731223196313837,0.4705645579067328,0.4701132509761135,0.4712099048342729,0.4715675344362047,0.4706547348288212,0.4701688396283299,0.4694926485001704,0.4697781274120677,0.4703391454471348,0.4697118265125704,0.4699890138250487,0.4700768729708073,0.4700569824638809,0.4706302326546018,0.4700458547147612,0.469949207016384,0.4699172259115294,0.4699854309433807,0.4699172259115294,0.4699053110855855,0.4699894536089423,0.4699894536089423,0.4699894536089423,0.4698690575459436,0.4698690575459436,0.4699292294951069,0.4699292294951069,0.4699292294951069,0.4699292294951069,0.4699292294951069,0.4699292294951069,0.4699292294951069,0.4699292294951069],\"type\":\"scatter\"},{\"line\":{\"width\":2},\"mode\":\"lines\",\"name\":\"112 Images used: Val F1 score: 0.481\",\"x\":[1,2,3,4,5,6,7,8,9,10,11,12,13,14,15,16,17,18,19,20,21,22,23,24,25,26,27,28],\"y\":[0.5329976203131387,0.5099535473821837,0.5086755038101273,0.4952710217188123,0.4878537681873295,0.4832223218687292,0.4829595457726021,0.4820104180683658,0.4845594543807071,0.4808523723040905,0.4809293884389072,0.4816057961715332,0.4804506779980435,0.4800491825567033,0.4815984398284541,0.4816301018473592,0.480412749118551,0.4801835887563097,0.4803476840377154,0.4800018231070271,0.4798800927621473,0.4803101829547166,0.4808840226494957,0.480752128889576,0.4807448288799059,0.4808734296280803,0.4807185881797409,0.4808807358024859],\"type\":\"scatter\"},{\"line\":{\"width\":2},\"mode\":\"lines\",\"name\":\"212 Images used: Val F1 score: 0.489\",\"x\":[1,2,3,4,5,6,7,8,9,10,11,12,13,14,15,16,17,18,19,20,21,22,23,24,25,26,27,28,29],\"y\":[0.5410181896842307,0.5240791776252326,0.5169895605754273,0.5212602909791632,0.5097479922539411,0.5018584577628439,0.4997409349017429,0.4984426709818072,0.4975889384605416,0.4947685631443693,0.49279365928741,0.4937099185937513,0.4926831211284753,0.4953823440251683,0.4943947395751858,0.4896693168484509,0.4920216296793977,0.4926608080415682,0.4920019105733563,0.4930774239238983,0.4906269267967469,0.4907134362587672,0.4902067590179268,0.4894348709160135,0.4892599879663509,0.4891402912347589,0.4892691959316895,0.489076906072754,0.4891449732782736],\"type\":\"scatter\"},{\"line\":{\"width\":2},\"mode\":\"lines\",\"name\":\"388 Images used: Val F1 score: 0.533\",\"x\":[1,2,3,4,5,6,7,8,9,10,11,12,13,14,15,16,17,18],\"y\":[0.5572095883030607,0.5642172599659703,0.5569284972449529,0.5446380440609737,0.5467705252876766,0.5404618653713196,0.5406782837265769,0.5363919701410444,0.5395997148788862,0.5395844986833668,0.5361467254859967,0.5333087342092427,0.5330100030768559,0.5377928533187025,0.534852834062845,0.5339411511246621,0.5328077511160698,0.5332404430686262],\"type\":\"scatter\"},{\"line\":{\"width\":2},\"mode\":\"lines\",\"name\":\"704 Images used: Val F1 score: 0.612\",\"x\":[1,2,3,4,5,6,7,8,9,10,11,12,13,14,15,16,17,18,19,20,21,22],\"y\":[0.5902733314210558,0.5796105606260472,0.5909355374218261,0.5987999428107148,0.6031050311979848,0.604192168473775,0.6056988052604996,0.6074572339372961,0.6103262277893666,0.6102678028884826,0.6116943265713868,0.6085325287635164,0.6107412270239362,0.6126816618776559,0.6126589795453682,0.6127600101418463,0.6129165184495934,0.6138132210716701,0.6124658749104692,0.6140330382899614,0.6140302176143151,0.612444053633123],\"type\":\"scatter\"},{\"line\":{\"width\":2},\"mode\":\"lines\",\"name\":\"1264 Images used: Val F1 score: 0.674\",\"x\":[1,2,3,4,5,6,7,8,9,10,11,12,13,14,15,16,17,18,19,20,21,22,23,24,25,26,27,28,29,30,31,32,33,34,35,36],\"y\":[0.6601822277288196,0.6656196385831813,0.6688135591867134,0.6728406012714969,0.6757259224031834,0.6669363961633502,0.6674245345999991,0.6706742085726146,0.6718325530602893,0.6716466701026161,0.6738552293140736,0.6729315562729082,0.6741786134166521,0.6739831607609418,0.6737997491268123,0.6735821539037392,0.6738966250738333,0.6730893467326133,0.674856797912437,0.6738437630291628,0.6734845466310638,0.6737955900691084,0.6733243822382615,0.6733503665169495,0.6733494291191265,0.673251595669425,0.6733308860952699,0.6733369555668586,0.6733297599967644,0.6733659687475481,0.6733414451724112,0.6734496682604072,0.6734725135663305,0.6732883133792874,0.6732846935646949,0.673584326337391],\"type\":\"scatter\"},{\"line\":{\"width\":2},\"mode\":\"lines\",\"name\":\"2264 Images used: Val F1 score: 0.757\",\"x\":[1,2,3,4,5,6,7,8,9,10,11,12,13,14,15,16,17,18,19,20,21,22,23,24,25,26,27,28,29,30],\"y\":[0.6884469607113729,0.704976277926869,0.7157231523404498,0.7264431936255553,0.7348915985706733,0.7467321741854122,0.7490981104013912,0.7499759175377333,0.7501669001864536,0.7518247580965932,0.7534913689649173,0.7511909209907234,0.7524441903530582,0.753879728745764,0.7542921084802777,0.7556746704832277,0.7552760473192164,0.755216284634847,0.7555496704130938,0.7560982802449749,0.7557398929389705,0.7563645807390599,0.7562179033364695,0.7561908089373821,0.7557924041829366,0.7561239482049373,0.7562764206760278,0.7563711477348057,0.7567195320532393,0.757139701603511],\"type\":\"scatter\"},{\"line\":{\"width\":2},\"mode\":\"lines\",\"name\":\"4048 Images used: Val F1 score: 0.756\",\"x\":[1,2,3,4,5,6,7,8,9,10,11,12,13,14,15,16,17,18,19,20,21,22,23,24],\"y\":[0.7173021880831243,0.7263221163919512,0.7305675683650691,0.7396037023648532,0.7505843750953115,0.750061084824771,0.7534432222625002,0.7511729751361061,0.7499624060469605,0.7552461714447204,0.7560068445079201,0.7591612827908197,0.7603117690851035,0.7579848675480454,0.758856335284405,0.7562698354258606,0.7575888749083939,0.7563191688298027,0.756176899992616,0.7552903800180379,0.7547540645075141,0.7561765444076913,0.7560912108901007,0.756496993543422],\"type\":\"scatter\"},{\"line\":{\"width\":2},\"mode\":\"lines\",\"name\":\"7200 Images used: Val F1 score: 0.793\",\"x\":[1,2,3,4,5,6,7,8,9,10,11,12,13],\"y\":[0.7648511093227972,0.7837012030698262,0.7699991892405632,0.7630184894241402,0.7279131041638864,0.790558225843605,0.7885086805217502,0.7812402629386196,0.7825852246978036,0.7805856981205211,0.7986235584029492,0.7942024845647859,0.7929291629810379],\"type\":\"scatter\"},{\"line\":{\"width\":2},\"mode\":\"lines\",\"name\":\"12824 Images used: Val F1 score: 0.900\",\"x\":[1,2,3,4,5,6,7,8,9,10,11,12,13,14,15],\"y\":[0.8653636588915194,0.8980337358865143,0.8812154418961171,0.9001047493013585,0.897089302723038,0.8932480381568052,0.8992721761395476,0.9007131454662662,0.899130588165308,0.9016934539295112,0.900080675639491,0.9002103705829753,0.900888890964874,0.900715821982903,0.8998987194738546],\"type\":\"scatter\"},{\"line\":{\"width\":2},\"mode\":\"lines\",\"name\":\"22824 Images used: Val F1 score: 0.905\",\"x\":[1,2,3,4,5,6,7,8,9,10,11,12,13],\"y\":[0.8962789576520559,0.900143269219915,0.9029153727979048,0.8957445446252469,0.8827656860825989,0.9084337019853368,0.9051799341926432,0.9117328971168192,0.9092199516690236,0.9113732093625004,0.9076668675459642,0.9051024743796772,0.9052366597572664],\"type\":\"scatter\"},{\"line\":{\"width\":2},\"mode\":\"lines\",\"name\":\"26880 Images used: Val F1 score: 0.906\",\"x\":[1,2,3,4,5,6,7,8,9,10,11,12,13,14],\"y\":[0.8790015819112561,0.8912837839539143,0.8928225920672267,0.8798280069714347,0.876884122354103,0.8996058849699948,0.9046740555817292,0.9007383748072018,0.9046257329529902,0.9042996074419736,0.9115891410370012,0.90798956406039,0.9094595621619908,0.9062491011057976],\"type\":\"scatter\"}],                        {\"template\":{\"data\":{\"histogram2dcontour\":[{\"type\":\"histogram2dcontour\",\"colorbar\":{\"outlinewidth\":0,\"ticks\":\"\"},\"colorscale\":[[0.0,\"#0d0887\"],[0.1111111111111111,\"#46039f\"],[0.2222222222222222,\"#7201a8\"],[0.3333333333333333,\"#9c179e\"],[0.4444444444444444,\"#bd3786\"],[0.5555555555555556,\"#d8576b\"],[0.6666666666666666,\"#ed7953\"],[0.7777777777777778,\"#fb9f3a\"],[0.8888888888888888,\"#fdca26\"],[1.0,\"#f0f921\"]]}],\"choropleth\":[{\"type\":\"choropleth\",\"colorbar\":{\"outlinewidth\":0,\"ticks\":\"\"}}],\"histogram2d\":[{\"type\":\"histogram2d\",\"colorbar\":{\"outlinewidth\":0,\"ticks\":\"\"},\"colorscale\":[[0.0,\"#0d0887\"],[0.1111111111111111,\"#46039f\"],[0.2222222222222222,\"#7201a8\"],[0.3333333333333333,\"#9c179e\"],[0.4444444444444444,\"#bd3786\"],[0.5555555555555556,\"#d8576b\"],[0.6666666666666666,\"#ed7953\"],[0.7777777777777778,\"#fb9f3a\"],[0.8888888888888888,\"#fdca26\"],[1.0,\"#f0f921\"]]}],\"heatmap\":[{\"type\":\"heatmap\",\"colorbar\":{\"outlinewidth\":0,\"ticks\":\"\"},\"colorscale\":[[0.0,\"#0d0887\"],[0.1111111111111111,\"#46039f\"],[0.2222222222222222,\"#7201a8\"],[0.3333333333333333,\"#9c179e\"],[0.4444444444444444,\"#bd3786\"],[0.5555555555555556,\"#d8576b\"],[0.6666666666666666,\"#ed7953\"],[0.7777777777777778,\"#fb9f3a\"],[0.8888888888888888,\"#fdca26\"],[1.0,\"#f0f921\"]]}],\"heatmapgl\":[{\"type\":\"heatmapgl\",\"colorbar\":{\"outlinewidth\":0,\"ticks\":\"\"},\"colorscale\":[[0.0,\"#0d0887\"],[0.1111111111111111,\"#46039f\"],[0.2222222222222222,\"#7201a8\"],[0.3333333333333333,\"#9c179e\"],[0.4444444444444444,\"#bd3786\"],[0.5555555555555556,\"#d8576b\"],[0.6666666666666666,\"#ed7953\"],[0.7777777777777778,\"#fb9f3a\"],[0.8888888888888888,\"#fdca26\"],[1.0,\"#f0f921\"]]}],\"contourcarpet\":[{\"type\":\"contourcarpet\",\"colorbar\":{\"outlinewidth\":0,\"ticks\":\"\"}}],\"contour\":[{\"type\":\"contour\",\"colorbar\":{\"outlinewidth\":0,\"ticks\":\"\"},\"colorscale\":[[0.0,\"#0d0887\"],[0.1111111111111111,\"#46039f\"],[0.2222222222222222,\"#7201a8\"],[0.3333333333333333,\"#9c179e\"],[0.4444444444444444,\"#bd3786\"],[0.5555555555555556,\"#d8576b\"],[0.6666666666666666,\"#ed7953\"],[0.7777777777777778,\"#fb9f3a\"],[0.8888888888888888,\"#fdca26\"],[1.0,\"#f0f921\"]]}],\"surface\":[{\"type\":\"surface\",\"colorbar\":{\"outlinewidth\":0,\"ticks\":\"\"},\"colorscale\":[[0.0,\"#0d0887\"],[0.1111111111111111,\"#46039f\"],[0.2222222222222222,\"#7201a8\"],[0.3333333333333333,\"#9c179e\"],[0.4444444444444444,\"#bd3786\"],[0.5555555555555556,\"#d8576b\"],[0.6666666666666666,\"#ed7953\"],[0.7777777777777778,\"#fb9f3a\"],[0.8888888888888888,\"#fdca26\"],[1.0,\"#f0f921\"]]}],\"mesh3d\":[{\"type\":\"mesh3d\",\"colorbar\":{\"outlinewidth\":0,\"ticks\":\"\"}}],\"scatter\":[{\"fillpattern\":{\"fillmode\":\"overlay\",\"size\":10,\"solidity\":0.2},\"type\":\"scatter\"}],\"parcoords\":[{\"type\":\"parcoords\",\"line\":{\"colorbar\":{\"outlinewidth\":0,\"ticks\":\"\"}}}],\"scatterpolargl\":[{\"type\":\"scatterpolargl\",\"marker\":{\"colorbar\":{\"outlinewidth\":0,\"ticks\":\"\"}}}],\"bar\":[{\"error_x\":{\"color\":\"#2a3f5f\"},\"error_y\":{\"color\":\"#2a3f5f\"},\"marker\":{\"line\":{\"color\":\"#E5ECF6\",\"width\":0.5},\"pattern\":{\"fillmode\":\"overlay\",\"size\":10,\"solidity\":0.2}},\"type\":\"bar\"}],\"scattergeo\":[{\"type\":\"scattergeo\",\"marker\":{\"colorbar\":{\"outlinewidth\":0,\"ticks\":\"\"}}}],\"scatterpolar\":[{\"type\":\"scatterpolar\",\"marker\":{\"colorbar\":{\"outlinewidth\":0,\"ticks\":\"\"}}}],\"histogram\":[{\"marker\":{\"pattern\":{\"fillmode\":\"overlay\",\"size\":10,\"solidity\":0.2}},\"type\":\"histogram\"}],\"scattergl\":[{\"type\":\"scattergl\",\"marker\":{\"colorbar\":{\"outlinewidth\":0,\"ticks\":\"\"}}}],\"scatter3d\":[{\"type\":\"scatter3d\",\"line\":{\"colorbar\":{\"outlinewidth\":0,\"ticks\":\"\"}},\"marker\":{\"colorbar\":{\"outlinewidth\":0,\"ticks\":\"\"}}}],\"scattermapbox\":[{\"type\":\"scattermapbox\",\"marker\":{\"colorbar\":{\"outlinewidth\":0,\"ticks\":\"\"}}}],\"scatterternary\":[{\"type\":\"scatterternary\",\"marker\":{\"colorbar\":{\"outlinewidth\":0,\"ticks\":\"\"}}}],\"scattercarpet\":[{\"type\":\"scattercarpet\",\"marker\":{\"colorbar\":{\"outlinewidth\":0,\"ticks\":\"\"}}}],\"carpet\":[{\"aaxis\":{\"endlinecolor\":\"#2a3f5f\",\"gridcolor\":\"white\",\"linecolor\":\"white\",\"minorgridcolor\":\"white\",\"startlinecolor\":\"#2a3f5f\"},\"baxis\":{\"endlinecolor\":\"#2a3f5f\",\"gridcolor\":\"white\",\"linecolor\":\"white\",\"minorgridcolor\":\"white\",\"startlinecolor\":\"#2a3f5f\"},\"type\":\"carpet\"}],\"table\":[{\"cells\":{\"fill\":{\"color\":\"#EBF0F8\"},\"line\":{\"color\":\"white\"}},\"header\":{\"fill\":{\"color\":\"#C8D4E3\"},\"line\":{\"color\":\"white\"}},\"type\":\"table\"}],\"barpolar\":[{\"marker\":{\"line\":{\"color\":\"#E5ECF6\",\"width\":0.5},\"pattern\":{\"fillmode\":\"overlay\",\"size\":10,\"solidity\":0.2}},\"type\":\"barpolar\"}],\"pie\":[{\"automargin\":true,\"type\":\"pie\"}]},\"layout\":{\"autotypenumbers\":\"strict\",\"colorway\":[\"#636efa\",\"#EF553B\",\"#00cc96\",\"#ab63fa\",\"#FFA15A\",\"#19d3f3\",\"#FF6692\",\"#B6E880\",\"#FF97FF\",\"#FECB52\"],\"font\":{\"color\":\"#2a3f5f\"},\"hovermode\":\"closest\",\"hoverlabel\":{\"align\":\"left\"},\"paper_bgcolor\":\"white\",\"plot_bgcolor\":\"#E5ECF6\",\"polar\":{\"bgcolor\":\"#E5ECF6\",\"angularaxis\":{\"gridcolor\":\"white\",\"linecolor\":\"white\",\"ticks\":\"\"},\"radialaxis\":{\"gridcolor\":\"white\",\"linecolor\":\"white\",\"ticks\":\"\"}},\"ternary\":{\"bgcolor\":\"#E5ECF6\",\"aaxis\":{\"gridcolor\":\"white\",\"linecolor\":\"white\",\"ticks\":\"\"},\"baxis\":{\"gridcolor\":\"white\",\"linecolor\":\"white\",\"ticks\":\"\"},\"caxis\":{\"gridcolor\":\"white\",\"linecolor\":\"white\",\"ticks\":\"\"}},\"coloraxis\":{\"colorbar\":{\"outlinewidth\":0,\"ticks\":\"\"}},\"colorscale\":{\"sequential\":[[0.0,\"#0d0887\"],[0.1111111111111111,\"#46039f\"],[0.2222222222222222,\"#7201a8\"],[0.3333333333333333,\"#9c179e\"],[0.4444444444444444,\"#bd3786\"],[0.5555555555555556,\"#d8576b\"],[0.6666666666666666,\"#ed7953\"],[0.7777777777777778,\"#fb9f3a\"],[0.8888888888888888,\"#fdca26\"],[1.0,\"#f0f921\"]],\"sequentialminus\":[[0.0,\"#0d0887\"],[0.1111111111111111,\"#46039f\"],[0.2222222222222222,\"#7201a8\"],[0.3333333333333333,\"#9c179e\"],[0.4444444444444444,\"#bd3786\"],[0.5555555555555556,\"#d8576b\"],[0.6666666666666666,\"#ed7953\"],[0.7777777777777778,\"#fb9f3a\"],[0.8888888888888888,\"#fdca26\"],[1.0,\"#f0f921\"]],\"diverging\":[[0,\"#8e0152\"],[0.1,\"#c51b7d\"],[0.2,\"#de77ae\"],[0.3,\"#f1b6da\"],[0.4,\"#fde0ef\"],[0.5,\"#f7f7f7\"],[0.6,\"#e6f5d0\"],[0.7,\"#b8e186\"],[0.8,\"#7fbc41\"],[0.9,\"#4d9221\"],[1,\"#276419\"]]},\"xaxis\":{\"gridcolor\":\"white\",\"linecolor\":\"white\",\"ticks\":\"\",\"title\":{\"standoff\":15},\"zerolinecolor\":\"white\",\"automargin\":true,\"zerolinewidth\":2},\"yaxis\":{\"gridcolor\":\"white\",\"linecolor\":\"white\",\"ticks\":\"\",\"title\":{\"standoff\":15},\"zerolinecolor\":\"white\",\"automargin\":true,\"zerolinewidth\":2},\"scene\":{\"xaxis\":{\"backgroundcolor\":\"#E5ECF6\",\"gridcolor\":\"white\",\"linecolor\":\"white\",\"showbackground\":true,\"ticks\":\"\",\"zerolinecolor\":\"white\",\"gridwidth\":2},\"yaxis\":{\"backgroundcolor\":\"#E5ECF6\",\"gridcolor\":\"white\",\"linecolor\":\"white\",\"showbackground\":true,\"ticks\":\"\",\"zerolinecolor\":\"white\",\"gridwidth\":2},\"zaxis\":{\"backgroundcolor\":\"#E5ECF6\",\"gridcolor\":\"white\",\"linecolor\":\"white\",\"showbackground\":true,\"ticks\":\"\",\"zerolinecolor\":\"white\",\"gridwidth\":2}},\"shapedefaults\":{\"line\":{\"color\":\"#2a3f5f\"}},\"annotationdefaults\":{\"arrowcolor\":\"#2a3f5f\",\"arrowhead\":0,\"arrowwidth\":1},\"geo\":{\"bgcolor\":\"white\",\"landcolor\":\"#E5ECF6\",\"subunitcolor\":\"white\",\"showland\":true,\"showlakes\":true,\"lakecolor\":\"white\"},\"title\":{\"x\":0.05},\"mapbox\":{\"style\":\"light\"}}},\"title\":{\"text\":\"Validation set F1 using Average Score\"},\"xaxis\":{\"title\":{\"text\":\"Number of Epochs\"}},\"yaxis\":{\"title\":{\"text\":\"Validation F1 score\"}},\"legend\":{\"title\":{\"text\":\"Legend\"}},\"hovermode\":\"x unified\"},                        {\"responsive\": true}                    ).then(function(){\n",
       "                            \n",
       "var gd = document.getElementById('7ebe4716-beb2-4a35-8369-aba015c854de');\n",
       "var x = new MutationObserver(function (mutations, observer) {{\n",
       "        var display = window.getComputedStyle(gd).display;\n",
       "        if (!display || display === 'none') {{\n",
       "            console.log([gd, 'removed!']);\n",
       "            Plotly.purge(gd);\n",
       "            observer.disconnect();\n",
       "        }}\n",
       "}});\n",
       "\n",
       "// Listen for the removal of the full notebook cells\n",
       "var notebookContainer = gd.closest('#notebook-container');\n",
       "if (notebookContainer) {{\n",
       "    x.observe(notebookContainer, {childList: true});\n",
       "}}\n",
       "\n",
       "// Listen for the clearing of the current output cell\n",
       "var outputEl = gd.closest('.output');\n",
       "if (outputEl) {{\n",
       "    x.observe(outputEl, {childList: true});\n",
       "}}\n",
       "\n",
       "                        })                };                });            </script>        </div>"
      ]
     },
     "metadata": {},
     "output_type": "display_data"
    }
   ],
   "source": [
    "plot_validation_performance_vs_epochs(\n",
    "    performance, \n",
    "    no_of_samples, \n",
    "    title=\"Validation set F1 using Average Score\", \n",
    "    x_axes=\"Number of Epochs\", \n",
    "    y_axes=\"Validation F1 score\", \n",
    "    plotting_curve=\"f1\"  # Change to \"f1\" if you want to plot F1 scores instead\n",
    ")"
   ]
  },
  {
   "cell_type": "code",
   "execution_count": 17,
   "metadata": {},
   "outputs": [],
   "source": [
    "import pandas as pd\n",
    "import plotly.graph_objects as go\n",
    "import plotly.subplots as subplots\n",
    "import numpy as np\n",
    "\n",
    "# Load the CSV file\n",
    "csv_path = 'training_history_s43.csv'\n",
    "df = pd.read_csv(csv_path)\n",
    "\n",
    "# Create an 'iteration' column by checking where epoch == 1\n",
    "df['iteration'] = (df['epoch'] == 1).cumsum()\n",
    "\n",
    "# We start from the second iteration (skipping the first one) and go through 13 iterations\n",
    "performance = []\n",
    "for i in range(1, 15):  # Start from 2 and go up to 14 (inclusive)\n",
    "    iteration_data = df[df['iteration'] == i]\n",
    "    performance.append({\n",
    "        'val_loss': iteration_data['valid_loss'].tolist(),\n",
    "        'val_f1_score': iteration_data['valid_f1'].tolist()\n",
    "    })\n",
    "\n",
    "# Ensure that performance and no_of_samples have the same length\n",
    "min_length = min(len(performance), len(no_of_samples))\n",
    "performance = performance[:min_length]\n",
    "no_of_samples = no_of_samples[:min_length]\n",
    "\n",
    "# Load test data\n",
    "performance_test_data = average_score_results[\"test_f1_scores_macro\"]\n",
    "\n",
    "# Function to plot performance vs amount of data\n",
    "def plot_performance_vs_amount_of_data(performance, no_of_samples, performance_test_data, title, x_axes, y_axes, y_axes_secondary, mode):\n",
    "    fig = subplots.make_subplots(specs=[[{\"secondary_y\": True}]])\n",
    "    fig.update_layout(plot_bgcolor='rgb(209, 217, 222)')\n",
    "\n",
    "    samples_text = [str(f) for f in no_of_samples]\n",
    "\n",
    "    for line, label in zip(no_of_samples, samples_text):\n",
    "        fig.add_trace(go.Scatter(\n",
    "            x=[line, line],\n",
    "            y=[0, 1.12],\n",
    "            mode='lines',\n",
    "            line=dict(dash='dash', color='rgb(149, 162, 171)', width=1),\n",
    "            showlegend=False,\n",
    "            yaxis='y2'\n",
    "        ))\n",
    "\n",
    "        fig.add_trace(go.Scatter(\n",
    "            x=[line],\n",
    "            y=[1.13],\n",
    "            mode='text',\n",
    "            marker=dict(size=0),\n",
    "            text=[label],\n",
    "            textposition='top center',\n",
    "            showlegend=False,\n",
    "            yaxis='y2',\n",
    "            textfont=dict(family='Arial', color='black', size=8.5)\n",
    "        ))\n",
    "\n",
    "    if type(performance) == list:\n",
    "        if \"val\" in str(mode).casefold():\n",
    "            loss = []\n",
    "            f1 = []\n",
    "\n",
    "            for i in range(len(performance)):\n",
    "                loss.append(performance[i][\"val_loss\"][-1])  # Collecting the last validation loss\n",
    "                f1.append(performance[i][\"val_f1_score\"][-1])  # Collecting the last validation F1 score\n",
    "\n",
    "            fig.add_trace(go.Scatter(\n",
    "                x=no_of_samples,\n",
    "                y=loss,\n",
    "                name=f\"Val loss ({loss[-1]:.3f})\",\n",
    "                marker=dict(color='rgb(97,192,134)'),\n",
    "                textfont=dict(family=\"Arial\", size=11),\n",
    "                line=dict(width=2)\n",
    "            ), secondary_y=False)\n",
    "\n",
    "            fig.add_trace(go.Scatter(\n",
    "                x=no_of_samples,\n",
    "                y=f1,\n",
    "                name=f\"Val F1 score ({f1[-1]:.3f})\",\n",
    "                marker=dict(color='rgb(245,130,31)'),\n",
    "                textfont=dict(family=\"Arial\", size=11),\n",
    "                line=dict(width=2)\n",
    "            ), secondary_y=True)\n",
    "\n",
    "        elif \"test\" in str(mode).casefold():\n",
    "            fig.add_trace(go.Scatter(\n",
    "                x=no_of_samples,\n",
    "                y=performance_test_data,\n",
    "                name=f\"Test F1 score ({performance_test_data[-1]:.3f})\",\n",
    "                marker=dict(color='rgb(151,193,57)'),\n",
    "                textfont=dict(family=\"Arial\", size=11),\n",
    "                line=dict(width=2)\n",
    "            ), secondary_y=False)\n",
    "\n",
    "        else:\n",
    "            raise NameError(f\"Unknown mode: {str(mode)}\")\n",
    "\n",
    "    else:\n",
    "        raise TypeError(\"Performance input must be a list\")\n",
    "\n",
    "    if type(no_of_samples) != list:\n",
    "        raise TypeError(\"No of samples input must be a list\")\n",
    "\n",
    "    fig.update_layout(\n",
    "        title_text=str(title),\n",
    "        legend=dict(font=dict(color='black')),\n",
    "        title_font_color='black'\n",
    "    )\n",
    "\n",
    "    fig.update_xaxes(\n",
    "        title_text=str(x_axes),\n",
    "        title_font=dict(color=\"black\", family=\"Arial\"),\n",
    "        tickfont_color='black',\n",
    "        type=\"log\"\n",
    "    )\n",
    "\n",
    "    fig.update_yaxes(\n",
    "        title_text=str(y_axes),\n",
    "        title_font=dict(color=\"black\", family=\"Arial\"),\n",
    "        tickfont_color='black',\n",
    "        secondary_y=False\n",
    "    )\n",
    "\n",
    "    fig.update_yaxes(\n",
    "        title_text=str(y_axes_secondary),\n",
    "        title_font=dict(color=\"black\", family=\"Arial\"),\n",
    "        tickfont_color='black',\n",
    "        secondary_y=True\n",
    "    )\n",
    "\n",
    "    fig.show()\n"
   ]
  },
  {
   "cell_type": "code",
   "execution_count": 18,
   "metadata": {},
   "outputs": [
    {
     "data": {
      "application/vnd.plotly.v1+json": {
       "config": {
        "plotlyServerURL": "https://plot.ly"
       },
       "data": [
        {
         "line": {
          "color": "rgb(149, 162, 171)",
          "dash": "dash",
          "width": 1
         },
         "mode": "lines",
         "showlegend": false,
         "type": "scatter",
         "x": [
          8,
          8
         ],
         "y": [
          0,
          1.12
         ],
         "yaxis": "y2"
        },
        {
         "marker": {
          "size": 0
         },
         "mode": "text",
         "showlegend": false,
         "text": [
          "8"
         ],
         "textfont": {
          "color": "black",
          "family": "Arial",
          "size": 8.5
         },
         "textposition": "top center",
         "type": "scatter",
         "x": [
          8
         ],
         "y": [
          1.13
         ],
         "yaxis": "y2"
        },
        {
         "line": {
          "color": "rgb(149, 162, 171)",
          "dash": "dash",
          "width": 1
         },
         "mode": "lines",
         "showlegend": false,
         "type": "scatter",
         "x": [
          24,
          24
         ],
         "y": [
          0,
          1.12
         ],
         "yaxis": "y2"
        },
        {
         "marker": {
          "size": 0
         },
         "mode": "text",
         "showlegend": false,
         "text": [
          "24"
         ],
         "textfont": {
          "color": "black",
          "family": "Arial",
          "size": 8.5
         },
         "textposition": "top center",
         "type": "scatter",
         "x": [
          24
         ],
         "y": [
          1.13
         ],
         "yaxis": "y2"
        },
        {
         "line": {
          "color": "rgb(149, 162, 171)",
          "dash": "dash",
          "width": 1
         },
         "mode": "lines",
         "showlegend": false,
         "type": "scatter",
         "x": [
          56,
          56
         ],
         "y": [
          0,
          1.12
         ],
         "yaxis": "y2"
        },
        {
         "marker": {
          "size": 0
         },
         "mode": "text",
         "showlegend": false,
         "text": [
          "56"
         ],
         "textfont": {
          "color": "black",
          "family": "Arial",
          "size": 8.5
         },
         "textposition": "top center",
         "type": "scatter",
         "x": [
          56
         ],
         "y": [
          1.13
         ],
         "yaxis": "y2"
        },
        {
         "line": {
          "color": "rgb(149, 162, 171)",
          "dash": "dash",
          "width": 1
         },
         "mode": "lines",
         "showlegend": false,
         "type": "scatter",
         "x": [
          112,
          112
         ],
         "y": [
          0,
          1.12
         ],
         "yaxis": "y2"
        },
        {
         "marker": {
          "size": 0
         },
         "mode": "text",
         "showlegend": false,
         "text": [
          "112"
         ],
         "textfont": {
          "color": "black",
          "family": "Arial",
          "size": 8.5
         },
         "textposition": "top center",
         "type": "scatter",
         "x": [
          112
         ],
         "y": [
          1.13
         ],
         "yaxis": "y2"
        },
        {
         "line": {
          "color": "rgb(149, 162, 171)",
          "dash": "dash",
          "width": 1
         },
         "mode": "lines",
         "showlegend": false,
         "type": "scatter",
         "x": [
          212,
          212
         ],
         "y": [
          0,
          1.12
         ],
         "yaxis": "y2"
        },
        {
         "marker": {
          "size": 0
         },
         "mode": "text",
         "showlegend": false,
         "text": [
          "212"
         ],
         "textfont": {
          "color": "black",
          "family": "Arial",
          "size": 8.5
         },
         "textposition": "top center",
         "type": "scatter",
         "x": [
          212
         ],
         "y": [
          1.13
         ],
         "yaxis": "y2"
        },
        {
         "line": {
          "color": "rgb(149, 162, 171)",
          "dash": "dash",
          "width": 1
         },
         "mode": "lines",
         "showlegend": false,
         "type": "scatter",
         "x": [
          388,
          388
         ],
         "y": [
          0,
          1.12
         ],
         "yaxis": "y2"
        },
        {
         "marker": {
          "size": 0
         },
         "mode": "text",
         "showlegend": false,
         "text": [
          "388"
         ],
         "textfont": {
          "color": "black",
          "family": "Arial",
          "size": 8.5
         },
         "textposition": "top center",
         "type": "scatter",
         "x": [
          388
         ],
         "y": [
          1.13
         ],
         "yaxis": "y2"
        },
        {
         "line": {
          "color": "rgb(149, 162, 171)",
          "dash": "dash",
          "width": 1
         },
         "mode": "lines",
         "showlegend": false,
         "type": "scatter",
         "x": [
          704,
          704
         ],
         "y": [
          0,
          1.12
         ],
         "yaxis": "y2"
        },
        {
         "marker": {
          "size": 0
         },
         "mode": "text",
         "showlegend": false,
         "text": [
          "704"
         ],
         "textfont": {
          "color": "black",
          "family": "Arial",
          "size": 8.5
         },
         "textposition": "top center",
         "type": "scatter",
         "x": [
          704
         ],
         "y": [
          1.13
         ],
         "yaxis": "y2"
        },
        {
         "line": {
          "color": "rgb(149, 162, 171)",
          "dash": "dash",
          "width": 1
         },
         "mode": "lines",
         "showlegend": false,
         "type": "scatter",
         "x": [
          1264,
          1264
         ],
         "y": [
          0,
          1.12
         ],
         "yaxis": "y2"
        },
        {
         "marker": {
          "size": 0
         },
         "mode": "text",
         "showlegend": false,
         "text": [
          "1264"
         ],
         "textfont": {
          "color": "black",
          "family": "Arial",
          "size": 8.5
         },
         "textposition": "top center",
         "type": "scatter",
         "x": [
          1264
         ],
         "y": [
          1.13
         ],
         "yaxis": "y2"
        },
        {
         "line": {
          "color": "rgb(149, 162, 171)",
          "dash": "dash",
          "width": 1
         },
         "mode": "lines",
         "showlegend": false,
         "type": "scatter",
         "x": [
          2264,
          2264
         ],
         "y": [
          0,
          1.12
         ],
         "yaxis": "y2"
        },
        {
         "marker": {
          "size": 0
         },
         "mode": "text",
         "showlegend": false,
         "text": [
          "2264"
         ],
         "textfont": {
          "color": "black",
          "family": "Arial",
          "size": 8.5
         },
         "textposition": "top center",
         "type": "scatter",
         "x": [
          2264
         ],
         "y": [
          1.13
         ],
         "yaxis": "y2"
        },
        {
         "line": {
          "color": "rgb(149, 162, 171)",
          "dash": "dash",
          "width": 1
         },
         "mode": "lines",
         "showlegend": false,
         "type": "scatter",
         "x": [
          4048,
          4048
         ],
         "y": [
          0,
          1.12
         ],
         "yaxis": "y2"
        },
        {
         "marker": {
          "size": 0
         },
         "mode": "text",
         "showlegend": false,
         "text": [
          "4048"
         ],
         "textfont": {
          "color": "black",
          "family": "Arial",
          "size": 8.5
         },
         "textposition": "top center",
         "type": "scatter",
         "x": [
          4048
         ],
         "y": [
          1.13
         ],
         "yaxis": "y2"
        },
        {
         "line": {
          "color": "rgb(149, 162, 171)",
          "dash": "dash",
          "width": 1
         },
         "mode": "lines",
         "showlegend": false,
         "type": "scatter",
         "x": [
          7200,
          7200
         ],
         "y": [
          0,
          1.12
         ],
         "yaxis": "y2"
        },
        {
         "marker": {
          "size": 0
         },
         "mode": "text",
         "showlegend": false,
         "text": [
          "7200"
         ],
         "textfont": {
          "color": "black",
          "family": "Arial",
          "size": 8.5
         },
         "textposition": "top center",
         "type": "scatter",
         "x": [
          7200
         ],
         "y": [
          1.13
         ],
         "yaxis": "y2"
        },
        {
         "line": {
          "color": "rgb(149, 162, 171)",
          "dash": "dash",
          "width": 1
         },
         "mode": "lines",
         "showlegend": false,
         "type": "scatter",
         "x": [
          12824,
          12824
         ],
         "y": [
          0,
          1.12
         ],
         "yaxis": "y2"
        },
        {
         "marker": {
          "size": 0
         },
         "mode": "text",
         "showlegend": false,
         "text": [
          "12824"
         ],
         "textfont": {
          "color": "black",
          "family": "Arial",
          "size": 8.5
         },
         "textposition": "top center",
         "type": "scatter",
         "x": [
          12824
         ],
         "y": [
          1.13
         ],
         "yaxis": "y2"
        },
        {
         "line": {
          "color": "rgb(149, 162, 171)",
          "dash": "dash",
          "width": 1
         },
         "mode": "lines",
         "showlegend": false,
         "type": "scatter",
         "x": [
          22824,
          22824
         ],
         "y": [
          0,
          1.12
         ],
         "yaxis": "y2"
        },
        {
         "marker": {
          "size": 0
         },
         "mode": "text",
         "showlegend": false,
         "text": [
          "22824"
         ],
         "textfont": {
          "color": "black",
          "family": "Arial",
          "size": 8.5
         },
         "textposition": "top center",
         "type": "scatter",
         "x": [
          22824
         ],
         "y": [
          1.13
         ],
         "yaxis": "y2"
        },
        {
         "line": {
          "color": "rgb(149, 162, 171)",
          "dash": "dash",
          "width": 1
         },
         "mode": "lines",
         "showlegend": false,
         "type": "scatter",
         "x": [
          26880,
          26880
         ],
         "y": [
          0,
          1.12
         ],
         "yaxis": "y2"
        },
        {
         "marker": {
          "size": 0
         },
         "mode": "text",
         "showlegend": false,
         "text": [
          "26880"
         ],
         "textfont": {
          "color": "black",
          "family": "Arial",
          "size": 8.5
         },
         "textposition": "top center",
         "type": "scatter",
         "x": [
          26880
         ],
         "y": [
          1.13
         ],
         "yaxis": "y2"
        },
        {
         "line": {
          "width": 2
         },
         "marker": {
          "color": "rgb(97,192,134)"
         },
         "name": "Val loss (0.221)",
         "textfont": {
          "family": "Arial",
          "size": 11
         },
         "type": "scatter",
         "x": [
          8,
          24,
          56,
          112,
          212,
          388,
          704,
          1264,
          2264,
          4048,
          7200,
          12824,
          22824,
          26880
         ],
         "xaxis": "x",
         "y": [
          0.6942729754580392,
          0.7408584023929304,
          0.6811201233416796,
          0.6495832378251685,
          0.6383937428808875,
          0.6198277407222323,
          0.5779822885990142,
          0.5539730579074886,
          0.4452676178266604,
          0.5055789325593246,
          0.4336395301545659,
          0.2213013515911168,
          0.2013956640151769,
          0.2205416960565748
         ],
         "yaxis": "y"
        },
        {
         "line": {
          "width": 2
         },
         "marker": {
          "color": "rgb(245,130,31)"
         },
         "name": "Val F1 score (0.906)",
         "textfont": {
          "family": "Arial",
          "size": 11
         },
         "type": "scatter",
         "x": [
          8,
          24,
          56,
          112,
          212,
          388,
          704,
          1264,
          2264,
          4048,
          7200,
          12824,
          22824,
          26880
         ],
         "xaxis": "x",
         "y": [
          0.468950578929856,
          0.4867213205538453,
          0.4699292294951069,
          0.4808807358024859,
          0.4891449732782736,
          0.5332404430686262,
          0.612444053633123,
          0.673584326337391,
          0.757139701603511,
          0.756496993543422,
          0.7929291629810379,
          0.8998987194738546,
          0.9052366597572664,
          0.9062491011057976
         ],
         "yaxis": "y2"
        }
       ],
       "layout": {
        "legend": {
         "font": {
          "color": "black"
         }
        },
        "plot_bgcolor": "rgb(209, 217, 222)",
        "template": {
         "data": {
          "bar": [
           {
            "error_x": {
             "color": "#2a3f5f"
            },
            "error_y": {
             "color": "#2a3f5f"
            },
            "marker": {
             "line": {
              "color": "#E5ECF6",
              "width": 0.5
             },
             "pattern": {
              "fillmode": "overlay",
              "size": 10,
              "solidity": 0.2
             }
            },
            "type": "bar"
           }
          ],
          "barpolar": [
           {
            "marker": {
             "line": {
              "color": "#E5ECF6",
              "width": 0.5
             },
             "pattern": {
              "fillmode": "overlay",
              "size": 10,
              "solidity": 0.2
             }
            },
            "type": "barpolar"
           }
          ],
          "carpet": [
           {
            "aaxis": {
             "endlinecolor": "#2a3f5f",
             "gridcolor": "white",
             "linecolor": "white",
             "minorgridcolor": "white",
             "startlinecolor": "#2a3f5f"
            },
            "baxis": {
             "endlinecolor": "#2a3f5f",
             "gridcolor": "white",
             "linecolor": "white",
             "minorgridcolor": "white",
             "startlinecolor": "#2a3f5f"
            },
            "type": "carpet"
           }
          ],
          "choropleth": [
           {
            "colorbar": {
             "outlinewidth": 0,
             "ticks": ""
            },
            "type": "choropleth"
           }
          ],
          "contour": [
           {
            "colorbar": {
             "outlinewidth": 0,
             "ticks": ""
            },
            "colorscale": [
             [
              0,
              "#0d0887"
             ],
             [
              0.1111111111111111,
              "#46039f"
             ],
             [
              0.2222222222222222,
              "#7201a8"
             ],
             [
              0.3333333333333333,
              "#9c179e"
             ],
             [
              0.4444444444444444,
              "#bd3786"
             ],
             [
              0.5555555555555556,
              "#d8576b"
             ],
             [
              0.6666666666666666,
              "#ed7953"
             ],
             [
              0.7777777777777778,
              "#fb9f3a"
             ],
             [
              0.8888888888888888,
              "#fdca26"
             ],
             [
              1,
              "#f0f921"
             ]
            ],
            "type": "contour"
           }
          ],
          "contourcarpet": [
           {
            "colorbar": {
             "outlinewidth": 0,
             "ticks": ""
            },
            "type": "contourcarpet"
           }
          ],
          "heatmap": [
           {
            "colorbar": {
             "outlinewidth": 0,
             "ticks": ""
            },
            "colorscale": [
             [
              0,
              "#0d0887"
             ],
             [
              0.1111111111111111,
              "#46039f"
             ],
             [
              0.2222222222222222,
              "#7201a8"
             ],
             [
              0.3333333333333333,
              "#9c179e"
             ],
             [
              0.4444444444444444,
              "#bd3786"
             ],
             [
              0.5555555555555556,
              "#d8576b"
             ],
             [
              0.6666666666666666,
              "#ed7953"
             ],
             [
              0.7777777777777778,
              "#fb9f3a"
             ],
             [
              0.8888888888888888,
              "#fdca26"
             ],
             [
              1,
              "#f0f921"
             ]
            ],
            "type": "heatmap"
           }
          ],
          "heatmapgl": [
           {
            "colorbar": {
             "outlinewidth": 0,
             "ticks": ""
            },
            "colorscale": [
             [
              0,
              "#0d0887"
             ],
             [
              0.1111111111111111,
              "#46039f"
             ],
             [
              0.2222222222222222,
              "#7201a8"
             ],
             [
              0.3333333333333333,
              "#9c179e"
             ],
             [
              0.4444444444444444,
              "#bd3786"
             ],
             [
              0.5555555555555556,
              "#d8576b"
             ],
             [
              0.6666666666666666,
              "#ed7953"
             ],
             [
              0.7777777777777778,
              "#fb9f3a"
             ],
             [
              0.8888888888888888,
              "#fdca26"
             ],
             [
              1,
              "#f0f921"
             ]
            ],
            "type": "heatmapgl"
           }
          ],
          "histogram": [
           {
            "marker": {
             "pattern": {
              "fillmode": "overlay",
              "size": 10,
              "solidity": 0.2
             }
            },
            "type": "histogram"
           }
          ],
          "histogram2d": [
           {
            "colorbar": {
             "outlinewidth": 0,
             "ticks": ""
            },
            "colorscale": [
             [
              0,
              "#0d0887"
             ],
             [
              0.1111111111111111,
              "#46039f"
             ],
             [
              0.2222222222222222,
              "#7201a8"
             ],
             [
              0.3333333333333333,
              "#9c179e"
             ],
             [
              0.4444444444444444,
              "#bd3786"
             ],
             [
              0.5555555555555556,
              "#d8576b"
             ],
             [
              0.6666666666666666,
              "#ed7953"
             ],
             [
              0.7777777777777778,
              "#fb9f3a"
             ],
             [
              0.8888888888888888,
              "#fdca26"
             ],
             [
              1,
              "#f0f921"
             ]
            ],
            "type": "histogram2d"
           }
          ],
          "histogram2dcontour": [
           {
            "colorbar": {
             "outlinewidth": 0,
             "ticks": ""
            },
            "colorscale": [
             [
              0,
              "#0d0887"
             ],
             [
              0.1111111111111111,
              "#46039f"
             ],
             [
              0.2222222222222222,
              "#7201a8"
             ],
             [
              0.3333333333333333,
              "#9c179e"
             ],
             [
              0.4444444444444444,
              "#bd3786"
             ],
             [
              0.5555555555555556,
              "#d8576b"
             ],
             [
              0.6666666666666666,
              "#ed7953"
             ],
             [
              0.7777777777777778,
              "#fb9f3a"
             ],
             [
              0.8888888888888888,
              "#fdca26"
             ],
             [
              1,
              "#f0f921"
             ]
            ],
            "type": "histogram2dcontour"
           }
          ],
          "mesh3d": [
           {
            "colorbar": {
             "outlinewidth": 0,
             "ticks": ""
            },
            "type": "mesh3d"
           }
          ],
          "parcoords": [
           {
            "line": {
             "colorbar": {
              "outlinewidth": 0,
              "ticks": ""
             }
            },
            "type": "parcoords"
           }
          ],
          "pie": [
           {
            "automargin": true,
            "type": "pie"
           }
          ],
          "scatter": [
           {
            "fillpattern": {
             "fillmode": "overlay",
             "size": 10,
             "solidity": 0.2
            },
            "type": "scatter"
           }
          ],
          "scatter3d": [
           {
            "line": {
             "colorbar": {
              "outlinewidth": 0,
              "ticks": ""
             }
            },
            "marker": {
             "colorbar": {
              "outlinewidth": 0,
              "ticks": ""
             }
            },
            "type": "scatter3d"
           }
          ],
          "scattercarpet": [
           {
            "marker": {
             "colorbar": {
              "outlinewidth": 0,
              "ticks": ""
             }
            },
            "type": "scattercarpet"
           }
          ],
          "scattergeo": [
           {
            "marker": {
             "colorbar": {
              "outlinewidth": 0,
              "ticks": ""
             }
            },
            "type": "scattergeo"
           }
          ],
          "scattergl": [
           {
            "marker": {
             "colorbar": {
              "outlinewidth": 0,
              "ticks": ""
             }
            },
            "type": "scattergl"
           }
          ],
          "scattermapbox": [
           {
            "marker": {
             "colorbar": {
              "outlinewidth": 0,
              "ticks": ""
             }
            },
            "type": "scattermapbox"
           }
          ],
          "scatterpolar": [
           {
            "marker": {
             "colorbar": {
              "outlinewidth": 0,
              "ticks": ""
             }
            },
            "type": "scatterpolar"
           }
          ],
          "scatterpolargl": [
           {
            "marker": {
             "colorbar": {
              "outlinewidth": 0,
              "ticks": ""
             }
            },
            "type": "scatterpolargl"
           }
          ],
          "scatterternary": [
           {
            "marker": {
             "colorbar": {
              "outlinewidth": 0,
              "ticks": ""
             }
            },
            "type": "scatterternary"
           }
          ],
          "surface": [
           {
            "colorbar": {
             "outlinewidth": 0,
             "ticks": ""
            },
            "colorscale": [
             [
              0,
              "#0d0887"
             ],
             [
              0.1111111111111111,
              "#46039f"
             ],
             [
              0.2222222222222222,
              "#7201a8"
             ],
             [
              0.3333333333333333,
              "#9c179e"
             ],
             [
              0.4444444444444444,
              "#bd3786"
             ],
             [
              0.5555555555555556,
              "#d8576b"
             ],
             [
              0.6666666666666666,
              "#ed7953"
             ],
             [
              0.7777777777777778,
              "#fb9f3a"
             ],
             [
              0.8888888888888888,
              "#fdca26"
             ],
             [
              1,
              "#f0f921"
             ]
            ],
            "type": "surface"
           }
          ],
          "table": [
           {
            "cells": {
             "fill": {
              "color": "#EBF0F8"
             },
             "line": {
              "color": "white"
             }
            },
            "header": {
             "fill": {
              "color": "#C8D4E3"
             },
             "line": {
              "color": "white"
             }
            },
            "type": "table"
           }
          ]
         },
         "layout": {
          "annotationdefaults": {
           "arrowcolor": "#2a3f5f",
           "arrowhead": 0,
           "arrowwidth": 1
          },
          "autotypenumbers": "strict",
          "coloraxis": {
           "colorbar": {
            "outlinewidth": 0,
            "ticks": ""
           }
          },
          "colorscale": {
           "diverging": [
            [
             0,
             "#8e0152"
            ],
            [
             0.1,
             "#c51b7d"
            ],
            [
             0.2,
             "#de77ae"
            ],
            [
             0.3,
             "#f1b6da"
            ],
            [
             0.4,
             "#fde0ef"
            ],
            [
             0.5,
             "#f7f7f7"
            ],
            [
             0.6,
             "#e6f5d0"
            ],
            [
             0.7,
             "#b8e186"
            ],
            [
             0.8,
             "#7fbc41"
            ],
            [
             0.9,
             "#4d9221"
            ],
            [
             1,
             "#276419"
            ]
           ],
           "sequential": [
            [
             0,
             "#0d0887"
            ],
            [
             0.1111111111111111,
             "#46039f"
            ],
            [
             0.2222222222222222,
             "#7201a8"
            ],
            [
             0.3333333333333333,
             "#9c179e"
            ],
            [
             0.4444444444444444,
             "#bd3786"
            ],
            [
             0.5555555555555556,
             "#d8576b"
            ],
            [
             0.6666666666666666,
             "#ed7953"
            ],
            [
             0.7777777777777778,
             "#fb9f3a"
            ],
            [
             0.8888888888888888,
             "#fdca26"
            ],
            [
             1,
             "#f0f921"
            ]
           ],
           "sequentialminus": [
            [
             0,
             "#0d0887"
            ],
            [
             0.1111111111111111,
             "#46039f"
            ],
            [
             0.2222222222222222,
             "#7201a8"
            ],
            [
             0.3333333333333333,
             "#9c179e"
            ],
            [
             0.4444444444444444,
             "#bd3786"
            ],
            [
             0.5555555555555556,
             "#d8576b"
            ],
            [
             0.6666666666666666,
             "#ed7953"
            ],
            [
             0.7777777777777778,
             "#fb9f3a"
            ],
            [
             0.8888888888888888,
             "#fdca26"
            ],
            [
             1,
             "#f0f921"
            ]
           ]
          },
          "colorway": [
           "#636efa",
           "#EF553B",
           "#00cc96",
           "#ab63fa",
           "#FFA15A",
           "#19d3f3",
           "#FF6692",
           "#B6E880",
           "#FF97FF",
           "#FECB52"
          ],
          "font": {
           "color": "#2a3f5f"
          },
          "geo": {
           "bgcolor": "white",
           "lakecolor": "white",
           "landcolor": "#E5ECF6",
           "showlakes": true,
           "showland": true,
           "subunitcolor": "white"
          },
          "hoverlabel": {
           "align": "left"
          },
          "hovermode": "closest",
          "mapbox": {
           "style": "light"
          },
          "paper_bgcolor": "white",
          "plot_bgcolor": "#E5ECF6",
          "polar": {
           "angularaxis": {
            "gridcolor": "white",
            "linecolor": "white",
            "ticks": ""
           },
           "bgcolor": "#E5ECF6",
           "radialaxis": {
            "gridcolor": "white",
            "linecolor": "white",
            "ticks": ""
           }
          },
          "scene": {
           "xaxis": {
            "backgroundcolor": "#E5ECF6",
            "gridcolor": "white",
            "gridwidth": 2,
            "linecolor": "white",
            "showbackground": true,
            "ticks": "",
            "zerolinecolor": "white"
           },
           "yaxis": {
            "backgroundcolor": "#E5ECF6",
            "gridcolor": "white",
            "gridwidth": 2,
            "linecolor": "white",
            "showbackground": true,
            "ticks": "",
            "zerolinecolor": "white"
           },
           "zaxis": {
            "backgroundcolor": "#E5ECF6",
            "gridcolor": "white",
            "gridwidth": 2,
            "linecolor": "white",
            "showbackground": true,
            "ticks": "",
            "zerolinecolor": "white"
           }
          },
          "shapedefaults": {
           "line": {
            "color": "#2a3f5f"
           }
          },
          "ternary": {
           "aaxis": {
            "gridcolor": "white",
            "linecolor": "white",
            "ticks": ""
           },
           "baxis": {
            "gridcolor": "white",
            "linecolor": "white",
            "ticks": ""
           },
           "bgcolor": "#E5ECF6",
           "caxis": {
            "gridcolor": "white",
            "linecolor": "white",
            "ticks": ""
           }
          },
          "title": {
           "x": 0.05
          },
          "xaxis": {
           "automargin": true,
           "gridcolor": "white",
           "linecolor": "white",
           "ticks": "",
           "title": {
            "standoff": 15
           },
           "zerolinecolor": "white",
           "zerolinewidth": 2
          },
          "yaxis": {
           "automargin": true,
           "gridcolor": "white",
           "linecolor": "white",
           "ticks": "",
           "title": {
            "standoff": 15
           },
           "zerolinecolor": "white",
           "zerolinewidth": 2
          }
         }
        },
        "title": {
         "font": {
          "color": "black"
         },
         "text": "Validation F1 micro score for Average Score"
        },
        "xaxis": {
         "anchor": "y",
         "domain": [
          0,
          0.94
         ],
         "tickfont": {
          "color": "black"
         },
         "title": {
          "font": {
           "color": "black",
           "family": "Arial"
          },
          "text": "Amount of training samples"
         },
         "type": "log"
        },
        "yaxis": {
         "anchor": "x",
         "domain": [
          0,
          1
         ],
         "tickfont": {
          "color": "black"
         },
         "title": {
          "font": {
           "color": "black",
           "family": "Arial"
          },
          "text": "Validation set loss"
         }
        },
        "yaxis2": {
         "anchor": "x",
         "overlaying": "y",
         "side": "right",
         "tickfont": {
          "color": "black"
         },
         "title": {
          "font": {
           "color": "black",
           "family": "Arial"
          },
          "text": "Validation set F1 score"
         }
        }
       }
      },
      "text/html": [
       "<div>                            <div id=\"22f15f47-aedb-4de4-b1a2-fd3578e17b32\" class=\"plotly-graph-div\" style=\"height:525px; width:100%;\"></div>            <script type=\"text/javascript\">                require([\"plotly\"], function(Plotly) {                    window.PLOTLYENV=window.PLOTLYENV || {};                                    if (document.getElementById(\"22f15f47-aedb-4de4-b1a2-fd3578e17b32\")) {                    Plotly.newPlot(                        \"22f15f47-aedb-4de4-b1a2-fd3578e17b32\",                        [{\"line\":{\"color\":\"rgb(149, 162, 171)\",\"dash\":\"dash\",\"width\":1},\"mode\":\"lines\",\"showlegend\":false,\"x\":[8,8],\"y\":[0,1.12],\"yaxis\":\"y2\",\"type\":\"scatter\"},{\"marker\":{\"size\":0},\"mode\":\"text\",\"showlegend\":false,\"text\":[\"8\"],\"textfont\":{\"color\":\"black\",\"family\":\"Arial\",\"size\":8.5},\"textposition\":\"top center\",\"x\":[8],\"y\":[1.13],\"yaxis\":\"y2\",\"type\":\"scatter\"},{\"line\":{\"color\":\"rgb(149, 162, 171)\",\"dash\":\"dash\",\"width\":1},\"mode\":\"lines\",\"showlegend\":false,\"x\":[24,24],\"y\":[0,1.12],\"yaxis\":\"y2\",\"type\":\"scatter\"},{\"marker\":{\"size\":0},\"mode\":\"text\",\"showlegend\":false,\"text\":[\"24\"],\"textfont\":{\"color\":\"black\",\"family\":\"Arial\",\"size\":8.5},\"textposition\":\"top center\",\"x\":[24],\"y\":[1.13],\"yaxis\":\"y2\",\"type\":\"scatter\"},{\"line\":{\"color\":\"rgb(149, 162, 171)\",\"dash\":\"dash\",\"width\":1},\"mode\":\"lines\",\"showlegend\":false,\"x\":[56,56],\"y\":[0,1.12],\"yaxis\":\"y2\",\"type\":\"scatter\"},{\"marker\":{\"size\":0},\"mode\":\"text\",\"showlegend\":false,\"text\":[\"56\"],\"textfont\":{\"color\":\"black\",\"family\":\"Arial\",\"size\":8.5},\"textposition\":\"top center\",\"x\":[56],\"y\":[1.13],\"yaxis\":\"y2\",\"type\":\"scatter\"},{\"line\":{\"color\":\"rgb(149, 162, 171)\",\"dash\":\"dash\",\"width\":1},\"mode\":\"lines\",\"showlegend\":false,\"x\":[112,112],\"y\":[0,1.12],\"yaxis\":\"y2\",\"type\":\"scatter\"},{\"marker\":{\"size\":0},\"mode\":\"text\",\"showlegend\":false,\"text\":[\"112\"],\"textfont\":{\"color\":\"black\",\"family\":\"Arial\",\"size\":8.5},\"textposition\":\"top center\",\"x\":[112],\"y\":[1.13],\"yaxis\":\"y2\",\"type\":\"scatter\"},{\"line\":{\"color\":\"rgb(149, 162, 171)\",\"dash\":\"dash\",\"width\":1},\"mode\":\"lines\",\"showlegend\":false,\"x\":[212,212],\"y\":[0,1.12],\"yaxis\":\"y2\",\"type\":\"scatter\"},{\"marker\":{\"size\":0},\"mode\":\"text\",\"showlegend\":false,\"text\":[\"212\"],\"textfont\":{\"color\":\"black\",\"family\":\"Arial\",\"size\":8.5},\"textposition\":\"top center\",\"x\":[212],\"y\":[1.13],\"yaxis\":\"y2\",\"type\":\"scatter\"},{\"line\":{\"color\":\"rgb(149, 162, 171)\",\"dash\":\"dash\",\"width\":1},\"mode\":\"lines\",\"showlegend\":false,\"x\":[388,388],\"y\":[0,1.12],\"yaxis\":\"y2\",\"type\":\"scatter\"},{\"marker\":{\"size\":0},\"mode\":\"text\",\"showlegend\":false,\"text\":[\"388\"],\"textfont\":{\"color\":\"black\",\"family\":\"Arial\",\"size\":8.5},\"textposition\":\"top center\",\"x\":[388],\"y\":[1.13],\"yaxis\":\"y2\",\"type\":\"scatter\"},{\"line\":{\"color\":\"rgb(149, 162, 171)\",\"dash\":\"dash\",\"width\":1},\"mode\":\"lines\",\"showlegend\":false,\"x\":[704,704],\"y\":[0,1.12],\"yaxis\":\"y2\",\"type\":\"scatter\"},{\"marker\":{\"size\":0},\"mode\":\"text\",\"showlegend\":false,\"text\":[\"704\"],\"textfont\":{\"color\":\"black\",\"family\":\"Arial\",\"size\":8.5},\"textposition\":\"top center\",\"x\":[704],\"y\":[1.13],\"yaxis\":\"y2\",\"type\":\"scatter\"},{\"line\":{\"color\":\"rgb(149, 162, 171)\",\"dash\":\"dash\",\"width\":1},\"mode\":\"lines\",\"showlegend\":false,\"x\":[1264,1264],\"y\":[0,1.12],\"yaxis\":\"y2\",\"type\":\"scatter\"},{\"marker\":{\"size\":0},\"mode\":\"text\",\"showlegend\":false,\"text\":[\"1264\"],\"textfont\":{\"color\":\"black\",\"family\":\"Arial\",\"size\":8.5},\"textposition\":\"top center\",\"x\":[1264],\"y\":[1.13],\"yaxis\":\"y2\",\"type\":\"scatter\"},{\"line\":{\"color\":\"rgb(149, 162, 171)\",\"dash\":\"dash\",\"width\":1},\"mode\":\"lines\",\"showlegend\":false,\"x\":[2264,2264],\"y\":[0,1.12],\"yaxis\":\"y2\",\"type\":\"scatter\"},{\"marker\":{\"size\":0},\"mode\":\"text\",\"showlegend\":false,\"text\":[\"2264\"],\"textfont\":{\"color\":\"black\",\"family\":\"Arial\",\"size\":8.5},\"textposition\":\"top center\",\"x\":[2264],\"y\":[1.13],\"yaxis\":\"y2\",\"type\":\"scatter\"},{\"line\":{\"color\":\"rgb(149, 162, 171)\",\"dash\":\"dash\",\"width\":1},\"mode\":\"lines\",\"showlegend\":false,\"x\":[4048,4048],\"y\":[0,1.12],\"yaxis\":\"y2\",\"type\":\"scatter\"},{\"marker\":{\"size\":0},\"mode\":\"text\",\"showlegend\":false,\"text\":[\"4048\"],\"textfont\":{\"color\":\"black\",\"family\":\"Arial\",\"size\":8.5},\"textposition\":\"top center\",\"x\":[4048],\"y\":[1.13],\"yaxis\":\"y2\",\"type\":\"scatter\"},{\"line\":{\"color\":\"rgb(149, 162, 171)\",\"dash\":\"dash\",\"width\":1},\"mode\":\"lines\",\"showlegend\":false,\"x\":[7200,7200],\"y\":[0,1.12],\"yaxis\":\"y2\",\"type\":\"scatter\"},{\"marker\":{\"size\":0},\"mode\":\"text\",\"showlegend\":false,\"text\":[\"7200\"],\"textfont\":{\"color\":\"black\",\"family\":\"Arial\",\"size\":8.5},\"textposition\":\"top center\",\"x\":[7200],\"y\":[1.13],\"yaxis\":\"y2\",\"type\":\"scatter\"},{\"line\":{\"color\":\"rgb(149, 162, 171)\",\"dash\":\"dash\",\"width\":1},\"mode\":\"lines\",\"showlegend\":false,\"x\":[12824,12824],\"y\":[0,1.12],\"yaxis\":\"y2\",\"type\":\"scatter\"},{\"marker\":{\"size\":0},\"mode\":\"text\",\"showlegend\":false,\"text\":[\"12824\"],\"textfont\":{\"color\":\"black\",\"family\":\"Arial\",\"size\":8.5},\"textposition\":\"top center\",\"x\":[12824],\"y\":[1.13],\"yaxis\":\"y2\",\"type\":\"scatter\"},{\"line\":{\"color\":\"rgb(149, 162, 171)\",\"dash\":\"dash\",\"width\":1},\"mode\":\"lines\",\"showlegend\":false,\"x\":[22824,22824],\"y\":[0,1.12],\"yaxis\":\"y2\",\"type\":\"scatter\"},{\"marker\":{\"size\":0},\"mode\":\"text\",\"showlegend\":false,\"text\":[\"22824\"],\"textfont\":{\"color\":\"black\",\"family\":\"Arial\",\"size\":8.5},\"textposition\":\"top center\",\"x\":[22824],\"y\":[1.13],\"yaxis\":\"y2\",\"type\":\"scatter\"},{\"line\":{\"color\":\"rgb(149, 162, 171)\",\"dash\":\"dash\",\"width\":1},\"mode\":\"lines\",\"showlegend\":false,\"x\":[26880,26880],\"y\":[0,1.12],\"yaxis\":\"y2\",\"type\":\"scatter\"},{\"marker\":{\"size\":0},\"mode\":\"text\",\"showlegend\":false,\"text\":[\"26880\"],\"textfont\":{\"color\":\"black\",\"family\":\"Arial\",\"size\":8.5},\"textposition\":\"top center\",\"x\":[26880],\"y\":[1.13],\"yaxis\":\"y2\",\"type\":\"scatter\"},{\"line\":{\"width\":2},\"marker\":{\"color\":\"rgb(97,192,134)\"},\"name\":\"Val loss (0.221)\",\"textfont\":{\"family\":\"Arial\",\"size\":11},\"x\":[8,24,56,112,212,388,704,1264,2264,4048,7200,12824,22824,26880],\"y\":[0.6942729754580392,0.7408584023929304,0.6811201233416796,0.6495832378251685,0.6383937428808875,0.6198277407222323,0.5779822885990142,0.5539730579074886,0.4452676178266604,0.5055789325593246,0.4336395301545659,0.2213013515911168,0.2013956640151769,0.2205416960565748],\"type\":\"scatter\",\"xaxis\":\"x\",\"yaxis\":\"y\"},{\"line\":{\"width\":2},\"marker\":{\"color\":\"rgb(245,130,31)\"},\"name\":\"Val F1 score (0.906)\",\"textfont\":{\"family\":\"Arial\",\"size\":11},\"x\":[8,24,56,112,212,388,704,1264,2264,4048,7200,12824,22824,26880],\"y\":[0.468950578929856,0.4867213205538453,0.4699292294951069,0.4808807358024859,0.4891449732782736,0.5332404430686262,0.612444053633123,0.673584326337391,0.757139701603511,0.756496993543422,0.7929291629810379,0.8998987194738546,0.9052366597572664,0.9062491011057976],\"type\":\"scatter\",\"xaxis\":\"x\",\"yaxis\":\"y2\"}],                        {\"template\":{\"data\":{\"histogram2dcontour\":[{\"type\":\"histogram2dcontour\",\"colorbar\":{\"outlinewidth\":0,\"ticks\":\"\"},\"colorscale\":[[0.0,\"#0d0887\"],[0.1111111111111111,\"#46039f\"],[0.2222222222222222,\"#7201a8\"],[0.3333333333333333,\"#9c179e\"],[0.4444444444444444,\"#bd3786\"],[0.5555555555555556,\"#d8576b\"],[0.6666666666666666,\"#ed7953\"],[0.7777777777777778,\"#fb9f3a\"],[0.8888888888888888,\"#fdca26\"],[1.0,\"#f0f921\"]]}],\"choropleth\":[{\"type\":\"choropleth\",\"colorbar\":{\"outlinewidth\":0,\"ticks\":\"\"}}],\"histogram2d\":[{\"type\":\"histogram2d\",\"colorbar\":{\"outlinewidth\":0,\"ticks\":\"\"},\"colorscale\":[[0.0,\"#0d0887\"],[0.1111111111111111,\"#46039f\"],[0.2222222222222222,\"#7201a8\"],[0.3333333333333333,\"#9c179e\"],[0.4444444444444444,\"#bd3786\"],[0.5555555555555556,\"#d8576b\"],[0.6666666666666666,\"#ed7953\"],[0.7777777777777778,\"#fb9f3a\"],[0.8888888888888888,\"#fdca26\"],[1.0,\"#f0f921\"]]}],\"heatmap\":[{\"type\":\"heatmap\",\"colorbar\":{\"outlinewidth\":0,\"ticks\":\"\"},\"colorscale\":[[0.0,\"#0d0887\"],[0.1111111111111111,\"#46039f\"],[0.2222222222222222,\"#7201a8\"],[0.3333333333333333,\"#9c179e\"],[0.4444444444444444,\"#bd3786\"],[0.5555555555555556,\"#d8576b\"],[0.6666666666666666,\"#ed7953\"],[0.7777777777777778,\"#fb9f3a\"],[0.8888888888888888,\"#fdca26\"],[1.0,\"#f0f921\"]]}],\"heatmapgl\":[{\"type\":\"heatmapgl\",\"colorbar\":{\"outlinewidth\":0,\"ticks\":\"\"},\"colorscale\":[[0.0,\"#0d0887\"],[0.1111111111111111,\"#46039f\"],[0.2222222222222222,\"#7201a8\"],[0.3333333333333333,\"#9c179e\"],[0.4444444444444444,\"#bd3786\"],[0.5555555555555556,\"#d8576b\"],[0.6666666666666666,\"#ed7953\"],[0.7777777777777778,\"#fb9f3a\"],[0.8888888888888888,\"#fdca26\"],[1.0,\"#f0f921\"]]}],\"contourcarpet\":[{\"type\":\"contourcarpet\",\"colorbar\":{\"outlinewidth\":0,\"ticks\":\"\"}}],\"contour\":[{\"type\":\"contour\",\"colorbar\":{\"outlinewidth\":0,\"ticks\":\"\"},\"colorscale\":[[0.0,\"#0d0887\"],[0.1111111111111111,\"#46039f\"],[0.2222222222222222,\"#7201a8\"],[0.3333333333333333,\"#9c179e\"],[0.4444444444444444,\"#bd3786\"],[0.5555555555555556,\"#d8576b\"],[0.6666666666666666,\"#ed7953\"],[0.7777777777777778,\"#fb9f3a\"],[0.8888888888888888,\"#fdca26\"],[1.0,\"#f0f921\"]]}],\"surface\":[{\"type\":\"surface\",\"colorbar\":{\"outlinewidth\":0,\"ticks\":\"\"},\"colorscale\":[[0.0,\"#0d0887\"],[0.1111111111111111,\"#46039f\"],[0.2222222222222222,\"#7201a8\"],[0.3333333333333333,\"#9c179e\"],[0.4444444444444444,\"#bd3786\"],[0.5555555555555556,\"#d8576b\"],[0.6666666666666666,\"#ed7953\"],[0.7777777777777778,\"#fb9f3a\"],[0.8888888888888888,\"#fdca26\"],[1.0,\"#f0f921\"]]}],\"mesh3d\":[{\"type\":\"mesh3d\",\"colorbar\":{\"outlinewidth\":0,\"ticks\":\"\"}}],\"scatter\":[{\"fillpattern\":{\"fillmode\":\"overlay\",\"size\":10,\"solidity\":0.2},\"type\":\"scatter\"}],\"parcoords\":[{\"type\":\"parcoords\",\"line\":{\"colorbar\":{\"outlinewidth\":0,\"ticks\":\"\"}}}],\"scatterpolargl\":[{\"type\":\"scatterpolargl\",\"marker\":{\"colorbar\":{\"outlinewidth\":0,\"ticks\":\"\"}}}],\"bar\":[{\"error_x\":{\"color\":\"#2a3f5f\"},\"error_y\":{\"color\":\"#2a3f5f\"},\"marker\":{\"line\":{\"color\":\"#E5ECF6\",\"width\":0.5},\"pattern\":{\"fillmode\":\"overlay\",\"size\":10,\"solidity\":0.2}},\"type\":\"bar\"}],\"scattergeo\":[{\"type\":\"scattergeo\",\"marker\":{\"colorbar\":{\"outlinewidth\":0,\"ticks\":\"\"}}}],\"scatterpolar\":[{\"type\":\"scatterpolar\",\"marker\":{\"colorbar\":{\"outlinewidth\":0,\"ticks\":\"\"}}}],\"histogram\":[{\"marker\":{\"pattern\":{\"fillmode\":\"overlay\",\"size\":10,\"solidity\":0.2}},\"type\":\"histogram\"}],\"scattergl\":[{\"type\":\"scattergl\",\"marker\":{\"colorbar\":{\"outlinewidth\":0,\"ticks\":\"\"}}}],\"scatter3d\":[{\"type\":\"scatter3d\",\"line\":{\"colorbar\":{\"outlinewidth\":0,\"ticks\":\"\"}},\"marker\":{\"colorbar\":{\"outlinewidth\":0,\"ticks\":\"\"}}}],\"scattermapbox\":[{\"type\":\"scattermapbox\",\"marker\":{\"colorbar\":{\"outlinewidth\":0,\"ticks\":\"\"}}}],\"scatterternary\":[{\"type\":\"scatterternary\",\"marker\":{\"colorbar\":{\"outlinewidth\":0,\"ticks\":\"\"}}}],\"scattercarpet\":[{\"type\":\"scattercarpet\",\"marker\":{\"colorbar\":{\"outlinewidth\":0,\"ticks\":\"\"}}}],\"carpet\":[{\"aaxis\":{\"endlinecolor\":\"#2a3f5f\",\"gridcolor\":\"white\",\"linecolor\":\"white\",\"minorgridcolor\":\"white\",\"startlinecolor\":\"#2a3f5f\"},\"baxis\":{\"endlinecolor\":\"#2a3f5f\",\"gridcolor\":\"white\",\"linecolor\":\"white\",\"minorgridcolor\":\"white\",\"startlinecolor\":\"#2a3f5f\"},\"type\":\"carpet\"}],\"table\":[{\"cells\":{\"fill\":{\"color\":\"#EBF0F8\"},\"line\":{\"color\":\"white\"}},\"header\":{\"fill\":{\"color\":\"#C8D4E3\"},\"line\":{\"color\":\"white\"}},\"type\":\"table\"}],\"barpolar\":[{\"marker\":{\"line\":{\"color\":\"#E5ECF6\",\"width\":0.5},\"pattern\":{\"fillmode\":\"overlay\",\"size\":10,\"solidity\":0.2}},\"type\":\"barpolar\"}],\"pie\":[{\"automargin\":true,\"type\":\"pie\"}]},\"layout\":{\"autotypenumbers\":\"strict\",\"colorway\":[\"#636efa\",\"#EF553B\",\"#00cc96\",\"#ab63fa\",\"#FFA15A\",\"#19d3f3\",\"#FF6692\",\"#B6E880\",\"#FF97FF\",\"#FECB52\"],\"font\":{\"color\":\"#2a3f5f\"},\"hovermode\":\"closest\",\"hoverlabel\":{\"align\":\"left\"},\"paper_bgcolor\":\"white\",\"plot_bgcolor\":\"#E5ECF6\",\"polar\":{\"bgcolor\":\"#E5ECF6\",\"angularaxis\":{\"gridcolor\":\"white\",\"linecolor\":\"white\",\"ticks\":\"\"},\"radialaxis\":{\"gridcolor\":\"white\",\"linecolor\":\"white\",\"ticks\":\"\"}},\"ternary\":{\"bgcolor\":\"#E5ECF6\",\"aaxis\":{\"gridcolor\":\"white\",\"linecolor\":\"white\",\"ticks\":\"\"},\"baxis\":{\"gridcolor\":\"white\",\"linecolor\":\"white\",\"ticks\":\"\"},\"caxis\":{\"gridcolor\":\"white\",\"linecolor\":\"white\",\"ticks\":\"\"}},\"coloraxis\":{\"colorbar\":{\"outlinewidth\":0,\"ticks\":\"\"}},\"colorscale\":{\"sequential\":[[0.0,\"#0d0887\"],[0.1111111111111111,\"#46039f\"],[0.2222222222222222,\"#7201a8\"],[0.3333333333333333,\"#9c179e\"],[0.4444444444444444,\"#bd3786\"],[0.5555555555555556,\"#d8576b\"],[0.6666666666666666,\"#ed7953\"],[0.7777777777777778,\"#fb9f3a\"],[0.8888888888888888,\"#fdca26\"],[1.0,\"#f0f921\"]],\"sequentialminus\":[[0.0,\"#0d0887\"],[0.1111111111111111,\"#46039f\"],[0.2222222222222222,\"#7201a8\"],[0.3333333333333333,\"#9c179e\"],[0.4444444444444444,\"#bd3786\"],[0.5555555555555556,\"#d8576b\"],[0.6666666666666666,\"#ed7953\"],[0.7777777777777778,\"#fb9f3a\"],[0.8888888888888888,\"#fdca26\"],[1.0,\"#f0f921\"]],\"diverging\":[[0,\"#8e0152\"],[0.1,\"#c51b7d\"],[0.2,\"#de77ae\"],[0.3,\"#f1b6da\"],[0.4,\"#fde0ef\"],[0.5,\"#f7f7f7\"],[0.6,\"#e6f5d0\"],[0.7,\"#b8e186\"],[0.8,\"#7fbc41\"],[0.9,\"#4d9221\"],[1,\"#276419\"]]},\"xaxis\":{\"gridcolor\":\"white\",\"linecolor\":\"white\",\"ticks\":\"\",\"title\":{\"standoff\":15},\"zerolinecolor\":\"white\",\"automargin\":true,\"zerolinewidth\":2},\"yaxis\":{\"gridcolor\":\"white\",\"linecolor\":\"white\",\"ticks\":\"\",\"title\":{\"standoff\":15},\"zerolinecolor\":\"white\",\"automargin\":true,\"zerolinewidth\":2},\"scene\":{\"xaxis\":{\"backgroundcolor\":\"#E5ECF6\",\"gridcolor\":\"white\",\"linecolor\":\"white\",\"showbackground\":true,\"ticks\":\"\",\"zerolinecolor\":\"white\",\"gridwidth\":2},\"yaxis\":{\"backgroundcolor\":\"#E5ECF6\",\"gridcolor\":\"white\",\"linecolor\":\"white\",\"showbackground\":true,\"ticks\":\"\",\"zerolinecolor\":\"white\",\"gridwidth\":2},\"zaxis\":{\"backgroundcolor\":\"#E5ECF6\",\"gridcolor\":\"white\",\"linecolor\":\"white\",\"showbackground\":true,\"ticks\":\"\",\"zerolinecolor\":\"white\",\"gridwidth\":2}},\"shapedefaults\":{\"line\":{\"color\":\"#2a3f5f\"}},\"annotationdefaults\":{\"arrowcolor\":\"#2a3f5f\",\"arrowhead\":0,\"arrowwidth\":1},\"geo\":{\"bgcolor\":\"white\",\"landcolor\":\"#E5ECF6\",\"subunitcolor\":\"white\",\"showland\":true,\"showlakes\":true,\"lakecolor\":\"white\"},\"title\":{\"x\":0.05},\"mapbox\":{\"style\":\"light\"}}},\"xaxis\":{\"anchor\":\"y\",\"domain\":[0.0,0.94],\"title\":{\"font\":{\"color\":\"black\",\"family\":\"Arial\"},\"text\":\"Amount of training samples\"},\"tickfont\":{\"color\":\"black\"},\"type\":\"log\"},\"yaxis\":{\"anchor\":\"x\",\"domain\":[0.0,1.0],\"title\":{\"font\":{\"color\":\"black\",\"family\":\"Arial\"},\"text\":\"Validation set loss\"},\"tickfont\":{\"color\":\"black\"}},\"yaxis2\":{\"anchor\":\"x\",\"overlaying\":\"y\",\"side\":\"right\",\"title\":{\"font\":{\"color\":\"black\",\"family\":\"Arial\"},\"text\":\"Validation set F1 score\"},\"tickfont\":{\"color\":\"black\"}},\"plot_bgcolor\":\"rgb(209, 217, 222)\",\"title\":{\"font\":{\"color\":\"black\"},\"text\":\"Validation F1 micro score for Average Score\"},\"legend\":{\"font\":{\"color\":\"black\"}}},                        {\"responsive\": true}                    ).then(function(){\n",
       "                            \n",
       "var gd = document.getElementById('22f15f47-aedb-4de4-b1a2-fd3578e17b32');\n",
       "var x = new MutationObserver(function (mutations, observer) {{\n",
       "        var display = window.getComputedStyle(gd).display;\n",
       "        if (!display || display === 'none') {{\n",
       "            console.log([gd, 'removed!']);\n",
       "            Plotly.purge(gd);\n",
       "            observer.disconnect();\n",
       "        }}\n",
       "}});\n",
       "\n",
       "// Listen for the removal of the full notebook cells\n",
       "var notebookContainer = gd.closest('#notebook-container');\n",
       "if (notebookContainer) {{\n",
       "    x.observe(notebookContainer, {childList: true});\n",
       "}}\n",
       "\n",
       "// Listen for the clearing of the current output cell\n",
       "var outputEl = gd.closest('.output');\n",
       "if (outputEl) {{\n",
       "    x.observe(outputEl, {childList: true});\n",
       "}}\n",
       "\n",
       "                        })                };                });            </script>        </div>"
      ]
     },
     "metadata": {},
     "output_type": "display_data"
    }
   ],
   "source": [
    "plot_performance_vs_amount_of_data(\n",
    "    performance, \n",
    "    no_of_samples,\n",
    "    performance_test_data,\n",
    "    title=\"Validation F1 micro score for Average Score\", \n",
    "    x_axes=\"Amount of training samples\", \n",
    "    y_axes=\"Validation set loss\", \n",
    "    y_axes_secondary=\"Validation set F1 score\", \n",
    "    mode=\"val\"\n",
    ")"
   ]
  },
  {
   "cell_type": "code",
   "execution_count": 19,
   "metadata": {},
   "outputs": [
    {
     "data": {
      "application/vnd.plotly.v1+json": {
       "config": {
        "plotlyServerURL": "https://plot.ly"
       },
       "data": [
        {
         "line": {
          "color": "rgb(149, 162, 171)",
          "dash": "dash",
          "width": 1
         },
         "mode": "lines",
         "showlegend": false,
         "type": "scatter",
         "x": [
          8,
          8
         ],
         "y": [
          0,
          1.12
         ],
         "yaxis": "y2"
        },
        {
         "marker": {
          "size": 0
         },
         "mode": "text",
         "showlegend": false,
         "text": [
          "8"
         ],
         "textfont": {
          "color": "black",
          "family": "Arial",
          "size": 8.5
         },
         "textposition": "top center",
         "type": "scatter",
         "x": [
          8
         ],
         "y": [
          1.13
         ],
         "yaxis": "y2"
        },
        {
         "line": {
          "color": "rgb(149, 162, 171)",
          "dash": "dash",
          "width": 1
         },
         "mode": "lines",
         "showlegend": false,
         "type": "scatter",
         "x": [
          24,
          24
         ],
         "y": [
          0,
          1.12
         ],
         "yaxis": "y2"
        },
        {
         "marker": {
          "size": 0
         },
         "mode": "text",
         "showlegend": false,
         "text": [
          "24"
         ],
         "textfont": {
          "color": "black",
          "family": "Arial",
          "size": 8.5
         },
         "textposition": "top center",
         "type": "scatter",
         "x": [
          24
         ],
         "y": [
          1.13
         ],
         "yaxis": "y2"
        },
        {
         "line": {
          "color": "rgb(149, 162, 171)",
          "dash": "dash",
          "width": 1
         },
         "mode": "lines",
         "showlegend": false,
         "type": "scatter",
         "x": [
          56,
          56
         ],
         "y": [
          0,
          1.12
         ],
         "yaxis": "y2"
        },
        {
         "marker": {
          "size": 0
         },
         "mode": "text",
         "showlegend": false,
         "text": [
          "56"
         ],
         "textfont": {
          "color": "black",
          "family": "Arial",
          "size": 8.5
         },
         "textposition": "top center",
         "type": "scatter",
         "x": [
          56
         ],
         "y": [
          1.13
         ],
         "yaxis": "y2"
        },
        {
         "line": {
          "color": "rgb(149, 162, 171)",
          "dash": "dash",
          "width": 1
         },
         "mode": "lines",
         "showlegend": false,
         "type": "scatter",
         "x": [
          112,
          112
         ],
         "y": [
          0,
          1.12
         ],
         "yaxis": "y2"
        },
        {
         "marker": {
          "size": 0
         },
         "mode": "text",
         "showlegend": false,
         "text": [
          "112"
         ],
         "textfont": {
          "color": "black",
          "family": "Arial",
          "size": 8.5
         },
         "textposition": "top center",
         "type": "scatter",
         "x": [
          112
         ],
         "y": [
          1.13
         ],
         "yaxis": "y2"
        },
        {
         "line": {
          "color": "rgb(149, 162, 171)",
          "dash": "dash",
          "width": 1
         },
         "mode": "lines",
         "showlegend": false,
         "type": "scatter",
         "x": [
          212,
          212
         ],
         "y": [
          0,
          1.12
         ],
         "yaxis": "y2"
        },
        {
         "marker": {
          "size": 0
         },
         "mode": "text",
         "showlegend": false,
         "text": [
          "212"
         ],
         "textfont": {
          "color": "black",
          "family": "Arial",
          "size": 8.5
         },
         "textposition": "top center",
         "type": "scatter",
         "x": [
          212
         ],
         "y": [
          1.13
         ],
         "yaxis": "y2"
        },
        {
         "line": {
          "color": "rgb(149, 162, 171)",
          "dash": "dash",
          "width": 1
         },
         "mode": "lines",
         "showlegend": false,
         "type": "scatter",
         "x": [
          388,
          388
         ],
         "y": [
          0,
          1.12
         ],
         "yaxis": "y2"
        },
        {
         "marker": {
          "size": 0
         },
         "mode": "text",
         "showlegend": false,
         "text": [
          "388"
         ],
         "textfont": {
          "color": "black",
          "family": "Arial",
          "size": 8.5
         },
         "textposition": "top center",
         "type": "scatter",
         "x": [
          388
         ],
         "y": [
          1.13
         ],
         "yaxis": "y2"
        },
        {
         "line": {
          "color": "rgb(149, 162, 171)",
          "dash": "dash",
          "width": 1
         },
         "mode": "lines",
         "showlegend": false,
         "type": "scatter",
         "x": [
          704,
          704
         ],
         "y": [
          0,
          1.12
         ],
         "yaxis": "y2"
        },
        {
         "marker": {
          "size": 0
         },
         "mode": "text",
         "showlegend": false,
         "text": [
          "704"
         ],
         "textfont": {
          "color": "black",
          "family": "Arial",
          "size": 8.5
         },
         "textposition": "top center",
         "type": "scatter",
         "x": [
          704
         ],
         "y": [
          1.13
         ],
         "yaxis": "y2"
        },
        {
         "line": {
          "color": "rgb(149, 162, 171)",
          "dash": "dash",
          "width": 1
         },
         "mode": "lines",
         "showlegend": false,
         "type": "scatter",
         "x": [
          1264,
          1264
         ],
         "y": [
          0,
          1.12
         ],
         "yaxis": "y2"
        },
        {
         "marker": {
          "size": 0
         },
         "mode": "text",
         "showlegend": false,
         "text": [
          "1264"
         ],
         "textfont": {
          "color": "black",
          "family": "Arial",
          "size": 8.5
         },
         "textposition": "top center",
         "type": "scatter",
         "x": [
          1264
         ],
         "y": [
          1.13
         ],
         "yaxis": "y2"
        },
        {
         "line": {
          "color": "rgb(149, 162, 171)",
          "dash": "dash",
          "width": 1
         },
         "mode": "lines",
         "showlegend": false,
         "type": "scatter",
         "x": [
          2264,
          2264
         ],
         "y": [
          0,
          1.12
         ],
         "yaxis": "y2"
        },
        {
         "marker": {
          "size": 0
         },
         "mode": "text",
         "showlegend": false,
         "text": [
          "2264"
         ],
         "textfont": {
          "color": "black",
          "family": "Arial",
          "size": 8.5
         },
         "textposition": "top center",
         "type": "scatter",
         "x": [
          2264
         ],
         "y": [
          1.13
         ],
         "yaxis": "y2"
        },
        {
         "line": {
          "color": "rgb(149, 162, 171)",
          "dash": "dash",
          "width": 1
         },
         "mode": "lines",
         "showlegend": false,
         "type": "scatter",
         "x": [
          4048,
          4048
         ],
         "y": [
          0,
          1.12
         ],
         "yaxis": "y2"
        },
        {
         "marker": {
          "size": 0
         },
         "mode": "text",
         "showlegend": false,
         "text": [
          "4048"
         ],
         "textfont": {
          "color": "black",
          "family": "Arial",
          "size": 8.5
         },
         "textposition": "top center",
         "type": "scatter",
         "x": [
          4048
         ],
         "y": [
          1.13
         ],
         "yaxis": "y2"
        },
        {
         "line": {
          "color": "rgb(149, 162, 171)",
          "dash": "dash",
          "width": 1
         },
         "mode": "lines",
         "showlegend": false,
         "type": "scatter",
         "x": [
          7200,
          7200
         ],
         "y": [
          0,
          1.12
         ],
         "yaxis": "y2"
        },
        {
         "marker": {
          "size": 0
         },
         "mode": "text",
         "showlegend": false,
         "text": [
          "7200"
         ],
         "textfont": {
          "color": "black",
          "family": "Arial",
          "size": 8.5
         },
         "textposition": "top center",
         "type": "scatter",
         "x": [
          7200
         ],
         "y": [
          1.13
         ],
         "yaxis": "y2"
        },
        {
         "line": {
          "color": "rgb(149, 162, 171)",
          "dash": "dash",
          "width": 1
         },
         "mode": "lines",
         "showlegend": false,
         "type": "scatter",
         "x": [
          12824,
          12824
         ],
         "y": [
          0,
          1.12
         ],
         "yaxis": "y2"
        },
        {
         "marker": {
          "size": 0
         },
         "mode": "text",
         "showlegend": false,
         "text": [
          "12824"
         ],
         "textfont": {
          "color": "black",
          "family": "Arial",
          "size": 8.5
         },
         "textposition": "top center",
         "type": "scatter",
         "x": [
          12824
         ],
         "y": [
          1.13
         ],
         "yaxis": "y2"
        },
        {
         "line": {
          "color": "rgb(149, 162, 171)",
          "dash": "dash",
          "width": 1
         },
         "mode": "lines",
         "showlegend": false,
         "type": "scatter",
         "x": [
          22824,
          22824
         ],
         "y": [
          0,
          1.12
         ],
         "yaxis": "y2"
        },
        {
         "marker": {
          "size": 0
         },
         "mode": "text",
         "showlegend": false,
         "text": [
          "22824"
         ],
         "textfont": {
          "color": "black",
          "family": "Arial",
          "size": 8.5
         },
         "textposition": "top center",
         "type": "scatter",
         "x": [
          22824
         ],
         "y": [
          1.13
         ],
         "yaxis": "y2"
        },
        {
         "line": {
          "color": "rgb(149, 162, 171)",
          "dash": "dash",
          "width": 1
         },
         "mode": "lines",
         "showlegend": false,
         "type": "scatter",
         "x": [
          26880,
          26880
         ],
         "y": [
          0,
          1.12
         ],
         "yaxis": "y2"
        },
        {
         "marker": {
          "size": 0
         },
         "mode": "text",
         "showlegend": false,
         "text": [
          "26880"
         ],
         "textfont": {
          "color": "black",
          "family": "Arial",
          "size": 8.5
         },
         "textposition": "top center",
         "type": "scatter",
         "x": [
          26880
         ],
         "y": [
          1.13
         ],
         "yaxis": "y2"
        },
        {
         "line": {
          "width": 2
         },
         "marker": {
          "color": "rgb(151,193,57)"
         },
         "name": "Test F1 score (0.922)",
         "textfont": {
          "family": "Arial",
          "size": 11
         },
         "type": "scatter",
         "x": [
          8,
          24,
          56,
          112,
          212,
          388,
          704,
          1264,
          2264,
          4048,
          7200,
          12824,
          22824,
          26880
         ],
         "xaxis": "x",
         "y": [
          0.47859102784285196,
          0.5142049078181291,
          0.4666474857104705,
          0.4867887769226815,
          0.4993442688281767,
          0.5695333942438495,
          0.6161688631090189,
          0.7111796715872335,
          0.7814175232561916,
          0.7613144463146432,
          0.8084467962157751,
          0.916445255622921,
          0.9182801559408741,
          0.9219362862114284
         ],
         "yaxis": "y"
        }
       ],
       "layout": {
        "legend": {
         "font": {
          "color": "black"
         }
        },
        "plot_bgcolor": "rgb(209, 217, 222)",
        "template": {
         "data": {
          "bar": [
           {
            "error_x": {
             "color": "#2a3f5f"
            },
            "error_y": {
             "color": "#2a3f5f"
            },
            "marker": {
             "line": {
              "color": "#E5ECF6",
              "width": 0.5
             },
             "pattern": {
              "fillmode": "overlay",
              "size": 10,
              "solidity": 0.2
             }
            },
            "type": "bar"
           }
          ],
          "barpolar": [
           {
            "marker": {
             "line": {
              "color": "#E5ECF6",
              "width": 0.5
             },
             "pattern": {
              "fillmode": "overlay",
              "size": 10,
              "solidity": 0.2
             }
            },
            "type": "barpolar"
           }
          ],
          "carpet": [
           {
            "aaxis": {
             "endlinecolor": "#2a3f5f",
             "gridcolor": "white",
             "linecolor": "white",
             "minorgridcolor": "white",
             "startlinecolor": "#2a3f5f"
            },
            "baxis": {
             "endlinecolor": "#2a3f5f",
             "gridcolor": "white",
             "linecolor": "white",
             "minorgridcolor": "white",
             "startlinecolor": "#2a3f5f"
            },
            "type": "carpet"
           }
          ],
          "choropleth": [
           {
            "colorbar": {
             "outlinewidth": 0,
             "ticks": ""
            },
            "type": "choropleth"
           }
          ],
          "contour": [
           {
            "colorbar": {
             "outlinewidth": 0,
             "ticks": ""
            },
            "colorscale": [
             [
              0,
              "#0d0887"
             ],
             [
              0.1111111111111111,
              "#46039f"
             ],
             [
              0.2222222222222222,
              "#7201a8"
             ],
             [
              0.3333333333333333,
              "#9c179e"
             ],
             [
              0.4444444444444444,
              "#bd3786"
             ],
             [
              0.5555555555555556,
              "#d8576b"
             ],
             [
              0.6666666666666666,
              "#ed7953"
             ],
             [
              0.7777777777777778,
              "#fb9f3a"
             ],
             [
              0.8888888888888888,
              "#fdca26"
             ],
             [
              1,
              "#f0f921"
             ]
            ],
            "type": "contour"
           }
          ],
          "contourcarpet": [
           {
            "colorbar": {
             "outlinewidth": 0,
             "ticks": ""
            },
            "type": "contourcarpet"
           }
          ],
          "heatmap": [
           {
            "colorbar": {
             "outlinewidth": 0,
             "ticks": ""
            },
            "colorscale": [
             [
              0,
              "#0d0887"
             ],
             [
              0.1111111111111111,
              "#46039f"
             ],
             [
              0.2222222222222222,
              "#7201a8"
             ],
             [
              0.3333333333333333,
              "#9c179e"
             ],
             [
              0.4444444444444444,
              "#bd3786"
             ],
             [
              0.5555555555555556,
              "#d8576b"
             ],
             [
              0.6666666666666666,
              "#ed7953"
             ],
             [
              0.7777777777777778,
              "#fb9f3a"
             ],
             [
              0.8888888888888888,
              "#fdca26"
             ],
             [
              1,
              "#f0f921"
             ]
            ],
            "type": "heatmap"
           }
          ],
          "heatmapgl": [
           {
            "colorbar": {
             "outlinewidth": 0,
             "ticks": ""
            },
            "colorscale": [
             [
              0,
              "#0d0887"
             ],
             [
              0.1111111111111111,
              "#46039f"
             ],
             [
              0.2222222222222222,
              "#7201a8"
             ],
             [
              0.3333333333333333,
              "#9c179e"
             ],
             [
              0.4444444444444444,
              "#bd3786"
             ],
             [
              0.5555555555555556,
              "#d8576b"
             ],
             [
              0.6666666666666666,
              "#ed7953"
             ],
             [
              0.7777777777777778,
              "#fb9f3a"
             ],
             [
              0.8888888888888888,
              "#fdca26"
             ],
             [
              1,
              "#f0f921"
             ]
            ],
            "type": "heatmapgl"
           }
          ],
          "histogram": [
           {
            "marker": {
             "pattern": {
              "fillmode": "overlay",
              "size": 10,
              "solidity": 0.2
             }
            },
            "type": "histogram"
           }
          ],
          "histogram2d": [
           {
            "colorbar": {
             "outlinewidth": 0,
             "ticks": ""
            },
            "colorscale": [
             [
              0,
              "#0d0887"
             ],
             [
              0.1111111111111111,
              "#46039f"
             ],
             [
              0.2222222222222222,
              "#7201a8"
             ],
             [
              0.3333333333333333,
              "#9c179e"
             ],
             [
              0.4444444444444444,
              "#bd3786"
             ],
             [
              0.5555555555555556,
              "#d8576b"
             ],
             [
              0.6666666666666666,
              "#ed7953"
             ],
             [
              0.7777777777777778,
              "#fb9f3a"
             ],
             [
              0.8888888888888888,
              "#fdca26"
             ],
             [
              1,
              "#f0f921"
             ]
            ],
            "type": "histogram2d"
           }
          ],
          "histogram2dcontour": [
           {
            "colorbar": {
             "outlinewidth": 0,
             "ticks": ""
            },
            "colorscale": [
             [
              0,
              "#0d0887"
             ],
             [
              0.1111111111111111,
              "#46039f"
             ],
             [
              0.2222222222222222,
              "#7201a8"
             ],
             [
              0.3333333333333333,
              "#9c179e"
             ],
             [
              0.4444444444444444,
              "#bd3786"
             ],
             [
              0.5555555555555556,
              "#d8576b"
             ],
             [
              0.6666666666666666,
              "#ed7953"
             ],
             [
              0.7777777777777778,
              "#fb9f3a"
             ],
             [
              0.8888888888888888,
              "#fdca26"
             ],
             [
              1,
              "#f0f921"
             ]
            ],
            "type": "histogram2dcontour"
           }
          ],
          "mesh3d": [
           {
            "colorbar": {
             "outlinewidth": 0,
             "ticks": ""
            },
            "type": "mesh3d"
           }
          ],
          "parcoords": [
           {
            "line": {
             "colorbar": {
              "outlinewidth": 0,
              "ticks": ""
             }
            },
            "type": "parcoords"
           }
          ],
          "pie": [
           {
            "automargin": true,
            "type": "pie"
           }
          ],
          "scatter": [
           {
            "fillpattern": {
             "fillmode": "overlay",
             "size": 10,
             "solidity": 0.2
            },
            "type": "scatter"
           }
          ],
          "scatter3d": [
           {
            "line": {
             "colorbar": {
              "outlinewidth": 0,
              "ticks": ""
             }
            },
            "marker": {
             "colorbar": {
              "outlinewidth": 0,
              "ticks": ""
             }
            },
            "type": "scatter3d"
           }
          ],
          "scattercarpet": [
           {
            "marker": {
             "colorbar": {
              "outlinewidth": 0,
              "ticks": ""
             }
            },
            "type": "scattercarpet"
           }
          ],
          "scattergeo": [
           {
            "marker": {
             "colorbar": {
              "outlinewidth": 0,
              "ticks": ""
             }
            },
            "type": "scattergeo"
           }
          ],
          "scattergl": [
           {
            "marker": {
             "colorbar": {
              "outlinewidth": 0,
              "ticks": ""
             }
            },
            "type": "scattergl"
           }
          ],
          "scattermapbox": [
           {
            "marker": {
             "colorbar": {
              "outlinewidth": 0,
              "ticks": ""
             }
            },
            "type": "scattermapbox"
           }
          ],
          "scatterpolar": [
           {
            "marker": {
             "colorbar": {
              "outlinewidth": 0,
              "ticks": ""
             }
            },
            "type": "scatterpolar"
           }
          ],
          "scatterpolargl": [
           {
            "marker": {
             "colorbar": {
              "outlinewidth": 0,
              "ticks": ""
             }
            },
            "type": "scatterpolargl"
           }
          ],
          "scatterternary": [
           {
            "marker": {
             "colorbar": {
              "outlinewidth": 0,
              "ticks": ""
             }
            },
            "type": "scatterternary"
           }
          ],
          "surface": [
           {
            "colorbar": {
             "outlinewidth": 0,
             "ticks": ""
            },
            "colorscale": [
             [
              0,
              "#0d0887"
             ],
             [
              0.1111111111111111,
              "#46039f"
             ],
             [
              0.2222222222222222,
              "#7201a8"
             ],
             [
              0.3333333333333333,
              "#9c179e"
             ],
             [
              0.4444444444444444,
              "#bd3786"
             ],
             [
              0.5555555555555556,
              "#d8576b"
             ],
             [
              0.6666666666666666,
              "#ed7953"
             ],
             [
              0.7777777777777778,
              "#fb9f3a"
             ],
             [
              0.8888888888888888,
              "#fdca26"
             ],
             [
              1,
              "#f0f921"
             ]
            ],
            "type": "surface"
           }
          ],
          "table": [
           {
            "cells": {
             "fill": {
              "color": "#EBF0F8"
             },
             "line": {
              "color": "white"
             }
            },
            "header": {
             "fill": {
              "color": "#C8D4E3"
             },
             "line": {
              "color": "white"
             }
            },
            "type": "table"
           }
          ]
         },
         "layout": {
          "annotationdefaults": {
           "arrowcolor": "#2a3f5f",
           "arrowhead": 0,
           "arrowwidth": 1
          },
          "autotypenumbers": "strict",
          "coloraxis": {
           "colorbar": {
            "outlinewidth": 0,
            "ticks": ""
           }
          },
          "colorscale": {
           "diverging": [
            [
             0,
             "#8e0152"
            ],
            [
             0.1,
             "#c51b7d"
            ],
            [
             0.2,
             "#de77ae"
            ],
            [
             0.3,
             "#f1b6da"
            ],
            [
             0.4,
             "#fde0ef"
            ],
            [
             0.5,
             "#f7f7f7"
            ],
            [
             0.6,
             "#e6f5d0"
            ],
            [
             0.7,
             "#b8e186"
            ],
            [
             0.8,
             "#7fbc41"
            ],
            [
             0.9,
             "#4d9221"
            ],
            [
             1,
             "#276419"
            ]
           ],
           "sequential": [
            [
             0,
             "#0d0887"
            ],
            [
             0.1111111111111111,
             "#46039f"
            ],
            [
             0.2222222222222222,
             "#7201a8"
            ],
            [
             0.3333333333333333,
             "#9c179e"
            ],
            [
             0.4444444444444444,
             "#bd3786"
            ],
            [
             0.5555555555555556,
             "#d8576b"
            ],
            [
             0.6666666666666666,
             "#ed7953"
            ],
            [
             0.7777777777777778,
             "#fb9f3a"
            ],
            [
             0.8888888888888888,
             "#fdca26"
            ],
            [
             1,
             "#f0f921"
            ]
           ],
           "sequentialminus": [
            [
             0,
             "#0d0887"
            ],
            [
             0.1111111111111111,
             "#46039f"
            ],
            [
             0.2222222222222222,
             "#7201a8"
            ],
            [
             0.3333333333333333,
             "#9c179e"
            ],
            [
             0.4444444444444444,
             "#bd3786"
            ],
            [
             0.5555555555555556,
             "#d8576b"
            ],
            [
             0.6666666666666666,
             "#ed7953"
            ],
            [
             0.7777777777777778,
             "#fb9f3a"
            ],
            [
             0.8888888888888888,
             "#fdca26"
            ],
            [
             1,
             "#f0f921"
            ]
           ]
          },
          "colorway": [
           "#636efa",
           "#EF553B",
           "#00cc96",
           "#ab63fa",
           "#FFA15A",
           "#19d3f3",
           "#FF6692",
           "#B6E880",
           "#FF97FF",
           "#FECB52"
          ],
          "font": {
           "color": "#2a3f5f"
          },
          "geo": {
           "bgcolor": "white",
           "lakecolor": "white",
           "landcolor": "#E5ECF6",
           "showlakes": true,
           "showland": true,
           "subunitcolor": "white"
          },
          "hoverlabel": {
           "align": "left"
          },
          "hovermode": "closest",
          "mapbox": {
           "style": "light"
          },
          "paper_bgcolor": "white",
          "plot_bgcolor": "#E5ECF6",
          "polar": {
           "angularaxis": {
            "gridcolor": "white",
            "linecolor": "white",
            "ticks": ""
           },
           "bgcolor": "#E5ECF6",
           "radialaxis": {
            "gridcolor": "white",
            "linecolor": "white",
            "ticks": ""
           }
          },
          "scene": {
           "xaxis": {
            "backgroundcolor": "#E5ECF6",
            "gridcolor": "white",
            "gridwidth": 2,
            "linecolor": "white",
            "showbackground": true,
            "ticks": "",
            "zerolinecolor": "white"
           },
           "yaxis": {
            "backgroundcolor": "#E5ECF6",
            "gridcolor": "white",
            "gridwidth": 2,
            "linecolor": "white",
            "showbackground": true,
            "ticks": "",
            "zerolinecolor": "white"
           },
           "zaxis": {
            "backgroundcolor": "#E5ECF6",
            "gridcolor": "white",
            "gridwidth": 2,
            "linecolor": "white",
            "showbackground": true,
            "ticks": "",
            "zerolinecolor": "white"
           }
          },
          "shapedefaults": {
           "line": {
            "color": "#2a3f5f"
           }
          },
          "ternary": {
           "aaxis": {
            "gridcolor": "white",
            "linecolor": "white",
            "ticks": ""
           },
           "baxis": {
            "gridcolor": "white",
            "linecolor": "white",
            "ticks": ""
           },
           "bgcolor": "#E5ECF6",
           "caxis": {
            "gridcolor": "white",
            "linecolor": "white",
            "ticks": ""
           }
          },
          "title": {
           "x": 0.05
          },
          "xaxis": {
           "automargin": true,
           "gridcolor": "white",
           "linecolor": "white",
           "ticks": "",
           "title": {
            "standoff": 15
           },
           "zerolinecolor": "white",
           "zerolinewidth": 2
          },
          "yaxis": {
           "automargin": true,
           "gridcolor": "white",
           "linecolor": "white",
           "ticks": "",
           "title": {
            "standoff": 15
           },
           "zerolinecolor": "white",
           "zerolinewidth": 2
          }
         }
        },
        "title": {
         "font": {
          "color": "black"
         },
         "text": "Test F1 micro score for Average Score"
        },
        "xaxis": {
         "anchor": "y",
         "domain": [
          0,
          0.94
         ],
         "tickfont": {
          "color": "black"
         },
         "title": {
          "font": {
           "color": "black",
           "family": "Arial"
          },
          "text": "Amount of training samples"
         },
         "type": "log"
        },
        "yaxis": {
         "anchor": "x",
         "domain": [
          0,
          1
         ],
         "tickfont": {
          "color": "black"
         },
         "title": {
          "font": {
           "color": "black",
           "family": "Arial"
          },
          "text": "Test set F1 score"
         }
        },
        "yaxis2": {
         "anchor": "x",
         "overlaying": "y",
         "side": "right",
         "tickfont": {
          "color": "black"
         },
         "title": {
          "font": {
           "color": "black",
           "family": "Arial"
          },
          "text": "Test set F1 score"
         }
        }
       }
      },
      "text/html": [
       "<div>                            <div id=\"fe659df6-d119-4919-a369-33be1b965200\" class=\"plotly-graph-div\" style=\"height:525px; width:100%;\"></div>            <script type=\"text/javascript\">                require([\"plotly\"], function(Plotly) {                    window.PLOTLYENV=window.PLOTLYENV || {};                                    if (document.getElementById(\"fe659df6-d119-4919-a369-33be1b965200\")) {                    Plotly.newPlot(                        \"fe659df6-d119-4919-a369-33be1b965200\",                        [{\"line\":{\"color\":\"rgb(149, 162, 171)\",\"dash\":\"dash\",\"width\":1},\"mode\":\"lines\",\"showlegend\":false,\"x\":[8,8],\"y\":[0,1.12],\"yaxis\":\"y2\",\"type\":\"scatter\"},{\"marker\":{\"size\":0},\"mode\":\"text\",\"showlegend\":false,\"text\":[\"8\"],\"textfont\":{\"color\":\"black\",\"family\":\"Arial\",\"size\":8.5},\"textposition\":\"top center\",\"x\":[8],\"y\":[1.13],\"yaxis\":\"y2\",\"type\":\"scatter\"},{\"line\":{\"color\":\"rgb(149, 162, 171)\",\"dash\":\"dash\",\"width\":1},\"mode\":\"lines\",\"showlegend\":false,\"x\":[24,24],\"y\":[0,1.12],\"yaxis\":\"y2\",\"type\":\"scatter\"},{\"marker\":{\"size\":0},\"mode\":\"text\",\"showlegend\":false,\"text\":[\"24\"],\"textfont\":{\"color\":\"black\",\"family\":\"Arial\",\"size\":8.5},\"textposition\":\"top center\",\"x\":[24],\"y\":[1.13],\"yaxis\":\"y2\",\"type\":\"scatter\"},{\"line\":{\"color\":\"rgb(149, 162, 171)\",\"dash\":\"dash\",\"width\":1},\"mode\":\"lines\",\"showlegend\":false,\"x\":[56,56],\"y\":[0,1.12],\"yaxis\":\"y2\",\"type\":\"scatter\"},{\"marker\":{\"size\":0},\"mode\":\"text\",\"showlegend\":false,\"text\":[\"56\"],\"textfont\":{\"color\":\"black\",\"family\":\"Arial\",\"size\":8.5},\"textposition\":\"top center\",\"x\":[56],\"y\":[1.13],\"yaxis\":\"y2\",\"type\":\"scatter\"},{\"line\":{\"color\":\"rgb(149, 162, 171)\",\"dash\":\"dash\",\"width\":1},\"mode\":\"lines\",\"showlegend\":false,\"x\":[112,112],\"y\":[0,1.12],\"yaxis\":\"y2\",\"type\":\"scatter\"},{\"marker\":{\"size\":0},\"mode\":\"text\",\"showlegend\":false,\"text\":[\"112\"],\"textfont\":{\"color\":\"black\",\"family\":\"Arial\",\"size\":8.5},\"textposition\":\"top center\",\"x\":[112],\"y\":[1.13],\"yaxis\":\"y2\",\"type\":\"scatter\"},{\"line\":{\"color\":\"rgb(149, 162, 171)\",\"dash\":\"dash\",\"width\":1},\"mode\":\"lines\",\"showlegend\":false,\"x\":[212,212],\"y\":[0,1.12],\"yaxis\":\"y2\",\"type\":\"scatter\"},{\"marker\":{\"size\":0},\"mode\":\"text\",\"showlegend\":false,\"text\":[\"212\"],\"textfont\":{\"color\":\"black\",\"family\":\"Arial\",\"size\":8.5},\"textposition\":\"top center\",\"x\":[212],\"y\":[1.13],\"yaxis\":\"y2\",\"type\":\"scatter\"},{\"line\":{\"color\":\"rgb(149, 162, 171)\",\"dash\":\"dash\",\"width\":1},\"mode\":\"lines\",\"showlegend\":false,\"x\":[388,388],\"y\":[0,1.12],\"yaxis\":\"y2\",\"type\":\"scatter\"},{\"marker\":{\"size\":0},\"mode\":\"text\",\"showlegend\":false,\"text\":[\"388\"],\"textfont\":{\"color\":\"black\",\"family\":\"Arial\",\"size\":8.5},\"textposition\":\"top center\",\"x\":[388],\"y\":[1.13],\"yaxis\":\"y2\",\"type\":\"scatter\"},{\"line\":{\"color\":\"rgb(149, 162, 171)\",\"dash\":\"dash\",\"width\":1},\"mode\":\"lines\",\"showlegend\":false,\"x\":[704,704],\"y\":[0,1.12],\"yaxis\":\"y2\",\"type\":\"scatter\"},{\"marker\":{\"size\":0},\"mode\":\"text\",\"showlegend\":false,\"text\":[\"704\"],\"textfont\":{\"color\":\"black\",\"family\":\"Arial\",\"size\":8.5},\"textposition\":\"top center\",\"x\":[704],\"y\":[1.13],\"yaxis\":\"y2\",\"type\":\"scatter\"},{\"line\":{\"color\":\"rgb(149, 162, 171)\",\"dash\":\"dash\",\"width\":1},\"mode\":\"lines\",\"showlegend\":false,\"x\":[1264,1264],\"y\":[0,1.12],\"yaxis\":\"y2\",\"type\":\"scatter\"},{\"marker\":{\"size\":0},\"mode\":\"text\",\"showlegend\":false,\"text\":[\"1264\"],\"textfont\":{\"color\":\"black\",\"family\":\"Arial\",\"size\":8.5},\"textposition\":\"top center\",\"x\":[1264],\"y\":[1.13],\"yaxis\":\"y2\",\"type\":\"scatter\"},{\"line\":{\"color\":\"rgb(149, 162, 171)\",\"dash\":\"dash\",\"width\":1},\"mode\":\"lines\",\"showlegend\":false,\"x\":[2264,2264],\"y\":[0,1.12],\"yaxis\":\"y2\",\"type\":\"scatter\"},{\"marker\":{\"size\":0},\"mode\":\"text\",\"showlegend\":false,\"text\":[\"2264\"],\"textfont\":{\"color\":\"black\",\"family\":\"Arial\",\"size\":8.5},\"textposition\":\"top center\",\"x\":[2264],\"y\":[1.13],\"yaxis\":\"y2\",\"type\":\"scatter\"},{\"line\":{\"color\":\"rgb(149, 162, 171)\",\"dash\":\"dash\",\"width\":1},\"mode\":\"lines\",\"showlegend\":false,\"x\":[4048,4048],\"y\":[0,1.12],\"yaxis\":\"y2\",\"type\":\"scatter\"},{\"marker\":{\"size\":0},\"mode\":\"text\",\"showlegend\":false,\"text\":[\"4048\"],\"textfont\":{\"color\":\"black\",\"family\":\"Arial\",\"size\":8.5},\"textposition\":\"top center\",\"x\":[4048],\"y\":[1.13],\"yaxis\":\"y2\",\"type\":\"scatter\"},{\"line\":{\"color\":\"rgb(149, 162, 171)\",\"dash\":\"dash\",\"width\":1},\"mode\":\"lines\",\"showlegend\":false,\"x\":[7200,7200],\"y\":[0,1.12],\"yaxis\":\"y2\",\"type\":\"scatter\"},{\"marker\":{\"size\":0},\"mode\":\"text\",\"showlegend\":false,\"text\":[\"7200\"],\"textfont\":{\"color\":\"black\",\"family\":\"Arial\",\"size\":8.5},\"textposition\":\"top center\",\"x\":[7200],\"y\":[1.13],\"yaxis\":\"y2\",\"type\":\"scatter\"},{\"line\":{\"color\":\"rgb(149, 162, 171)\",\"dash\":\"dash\",\"width\":1},\"mode\":\"lines\",\"showlegend\":false,\"x\":[12824,12824],\"y\":[0,1.12],\"yaxis\":\"y2\",\"type\":\"scatter\"},{\"marker\":{\"size\":0},\"mode\":\"text\",\"showlegend\":false,\"text\":[\"12824\"],\"textfont\":{\"color\":\"black\",\"family\":\"Arial\",\"size\":8.5},\"textposition\":\"top center\",\"x\":[12824],\"y\":[1.13],\"yaxis\":\"y2\",\"type\":\"scatter\"},{\"line\":{\"color\":\"rgb(149, 162, 171)\",\"dash\":\"dash\",\"width\":1},\"mode\":\"lines\",\"showlegend\":false,\"x\":[22824,22824],\"y\":[0,1.12],\"yaxis\":\"y2\",\"type\":\"scatter\"},{\"marker\":{\"size\":0},\"mode\":\"text\",\"showlegend\":false,\"text\":[\"22824\"],\"textfont\":{\"color\":\"black\",\"family\":\"Arial\",\"size\":8.5},\"textposition\":\"top center\",\"x\":[22824],\"y\":[1.13],\"yaxis\":\"y2\",\"type\":\"scatter\"},{\"line\":{\"color\":\"rgb(149, 162, 171)\",\"dash\":\"dash\",\"width\":1},\"mode\":\"lines\",\"showlegend\":false,\"x\":[26880,26880],\"y\":[0,1.12],\"yaxis\":\"y2\",\"type\":\"scatter\"},{\"marker\":{\"size\":0},\"mode\":\"text\",\"showlegend\":false,\"text\":[\"26880\"],\"textfont\":{\"color\":\"black\",\"family\":\"Arial\",\"size\":8.5},\"textposition\":\"top center\",\"x\":[26880],\"y\":[1.13],\"yaxis\":\"y2\",\"type\":\"scatter\"},{\"line\":{\"width\":2},\"marker\":{\"color\":\"rgb(151,193,57)\"},\"name\":\"Test F1 score (0.922)\",\"textfont\":{\"family\":\"Arial\",\"size\":11},\"x\":[8,24,56,112,212,388,704,1264,2264,4048,7200,12824,22824,26880],\"y\":[0.47859102784285196,0.5142049078181291,0.4666474857104705,0.4867887769226815,0.4993442688281767,0.5695333942438495,0.6161688631090189,0.7111796715872335,0.7814175232561916,0.7613144463146432,0.8084467962157751,0.916445255622921,0.9182801559408741,0.9219362862114284],\"type\":\"scatter\",\"xaxis\":\"x\",\"yaxis\":\"y\"}],                        {\"template\":{\"data\":{\"histogram2dcontour\":[{\"type\":\"histogram2dcontour\",\"colorbar\":{\"outlinewidth\":0,\"ticks\":\"\"},\"colorscale\":[[0.0,\"#0d0887\"],[0.1111111111111111,\"#46039f\"],[0.2222222222222222,\"#7201a8\"],[0.3333333333333333,\"#9c179e\"],[0.4444444444444444,\"#bd3786\"],[0.5555555555555556,\"#d8576b\"],[0.6666666666666666,\"#ed7953\"],[0.7777777777777778,\"#fb9f3a\"],[0.8888888888888888,\"#fdca26\"],[1.0,\"#f0f921\"]]}],\"choropleth\":[{\"type\":\"choropleth\",\"colorbar\":{\"outlinewidth\":0,\"ticks\":\"\"}}],\"histogram2d\":[{\"type\":\"histogram2d\",\"colorbar\":{\"outlinewidth\":0,\"ticks\":\"\"},\"colorscale\":[[0.0,\"#0d0887\"],[0.1111111111111111,\"#46039f\"],[0.2222222222222222,\"#7201a8\"],[0.3333333333333333,\"#9c179e\"],[0.4444444444444444,\"#bd3786\"],[0.5555555555555556,\"#d8576b\"],[0.6666666666666666,\"#ed7953\"],[0.7777777777777778,\"#fb9f3a\"],[0.8888888888888888,\"#fdca26\"],[1.0,\"#f0f921\"]]}],\"heatmap\":[{\"type\":\"heatmap\",\"colorbar\":{\"outlinewidth\":0,\"ticks\":\"\"},\"colorscale\":[[0.0,\"#0d0887\"],[0.1111111111111111,\"#46039f\"],[0.2222222222222222,\"#7201a8\"],[0.3333333333333333,\"#9c179e\"],[0.4444444444444444,\"#bd3786\"],[0.5555555555555556,\"#d8576b\"],[0.6666666666666666,\"#ed7953\"],[0.7777777777777778,\"#fb9f3a\"],[0.8888888888888888,\"#fdca26\"],[1.0,\"#f0f921\"]]}],\"heatmapgl\":[{\"type\":\"heatmapgl\",\"colorbar\":{\"outlinewidth\":0,\"ticks\":\"\"},\"colorscale\":[[0.0,\"#0d0887\"],[0.1111111111111111,\"#46039f\"],[0.2222222222222222,\"#7201a8\"],[0.3333333333333333,\"#9c179e\"],[0.4444444444444444,\"#bd3786\"],[0.5555555555555556,\"#d8576b\"],[0.6666666666666666,\"#ed7953\"],[0.7777777777777778,\"#fb9f3a\"],[0.8888888888888888,\"#fdca26\"],[1.0,\"#f0f921\"]]}],\"contourcarpet\":[{\"type\":\"contourcarpet\",\"colorbar\":{\"outlinewidth\":0,\"ticks\":\"\"}}],\"contour\":[{\"type\":\"contour\",\"colorbar\":{\"outlinewidth\":0,\"ticks\":\"\"},\"colorscale\":[[0.0,\"#0d0887\"],[0.1111111111111111,\"#46039f\"],[0.2222222222222222,\"#7201a8\"],[0.3333333333333333,\"#9c179e\"],[0.4444444444444444,\"#bd3786\"],[0.5555555555555556,\"#d8576b\"],[0.6666666666666666,\"#ed7953\"],[0.7777777777777778,\"#fb9f3a\"],[0.8888888888888888,\"#fdca26\"],[1.0,\"#f0f921\"]]}],\"surface\":[{\"type\":\"surface\",\"colorbar\":{\"outlinewidth\":0,\"ticks\":\"\"},\"colorscale\":[[0.0,\"#0d0887\"],[0.1111111111111111,\"#46039f\"],[0.2222222222222222,\"#7201a8\"],[0.3333333333333333,\"#9c179e\"],[0.4444444444444444,\"#bd3786\"],[0.5555555555555556,\"#d8576b\"],[0.6666666666666666,\"#ed7953\"],[0.7777777777777778,\"#fb9f3a\"],[0.8888888888888888,\"#fdca26\"],[1.0,\"#f0f921\"]]}],\"mesh3d\":[{\"type\":\"mesh3d\",\"colorbar\":{\"outlinewidth\":0,\"ticks\":\"\"}}],\"scatter\":[{\"fillpattern\":{\"fillmode\":\"overlay\",\"size\":10,\"solidity\":0.2},\"type\":\"scatter\"}],\"parcoords\":[{\"type\":\"parcoords\",\"line\":{\"colorbar\":{\"outlinewidth\":0,\"ticks\":\"\"}}}],\"scatterpolargl\":[{\"type\":\"scatterpolargl\",\"marker\":{\"colorbar\":{\"outlinewidth\":0,\"ticks\":\"\"}}}],\"bar\":[{\"error_x\":{\"color\":\"#2a3f5f\"},\"error_y\":{\"color\":\"#2a3f5f\"},\"marker\":{\"line\":{\"color\":\"#E5ECF6\",\"width\":0.5},\"pattern\":{\"fillmode\":\"overlay\",\"size\":10,\"solidity\":0.2}},\"type\":\"bar\"}],\"scattergeo\":[{\"type\":\"scattergeo\",\"marker\":{\"colorbar\":{\"outlinewidth\":0,\"ticks\":\"\"}}}],\"scatterpolar\":[{\"type\":\"scatterpolar\",\"marker\":{\"colorbar\":{\"outlinewidth\":0,\"ticks\":\"\"}}}],\"histogram\":[{\"marker\":{\"pattern\":{\"fillmode\":\"overlay\",\"size\":10,\"solidity\":0.2}},\"type\":\"histogram\"}],\"scattergl\":[{\"type\":\"scattergl\",\"marker\":{\"colorbar\":{\"outlinewidth\":0,\"ticks\":\"\"}}}],\"scatter3d\":[{\"type\":\"scatter3d\",\"line\":{\"colorbar\":{\"outlinewidth\":0,\"ticks\":\"\"}},\"marker\":{\"colorbar\":{\"outlinewidth\":0,\"ticks\":\"\"}}}],\"scattermapbox\":[{\"type\":\"scattermapbox\",\"marker\":{\"colorbar\":{\"outlinewidth\":0,\"ticks\":\"\"}}}],\"scatterternary\":[{\"type\":\"scatterternary\",\"marker\":{\"colorbar\":{\"outlinewidth\":0,\"ticks\":\"\"}}}],\"scattercarpet\":[{\"type\":\"scattercarpet\",\"marker\":{\"colorbar\":{\"outlinewidth\":0,\"ticks\":\"\"}}}],\"carpet\":[{\"aaxis\":{\"endlinecolor\":\"#2a3f5f\",\"gridcolor\":\"white\",\"linecolor\":\"white\",\"minorgridcolor\":\"white\",\"startlinecolor\":\"#2a3f5f\"},\"baxis\":{\"endlinecolor\":\"#2a3f5f\",\"gridcolor\":\"white\",\"linecolor\":\"white\",\"minorgridcolor\":\"white\",\"startlinecolor\":\"#2a3f5f\"},\"type\":\"carpet\"}],\"table\":[{\"cells\":{\"fill\":{\"color\":\"#EBF0F8\"},\"line\":{\"color\":\"white\"}},\"header\":{\"fill\":{\"color\":\"#C8D4E3\"},\"line\":{\"color\":\"white\"}},\"type\":\"table\"}],\"barpolar\":[{\"marker\":{\"line\":{\"color\":\"#E5ECF6\",\"width\":0.5},\"pattern\":{\"fillmode\":\"overlay\",\"size\":10,\"solidity\":0.2}},\"type\":\"barpolar\"}],\"pie\":[{\"automargin\":true,\"type\":\"pie\"}]},\"layout\":{\"autotypenumbers\":\"strict\",\"colorway\":[\"#636efa\",\"#EF553B\",\"#00cc96\",\"#ab63fa\",\"#FFA15A\",\"#19d3f3\",\"#FF6692\",\"#B6E880\",\"#FF97FF\",\"#FECB52\"],\"font\":{\"color\":\"#2a3f5f\"},\"hovermode\":\"closest\",\"hoverlabel\":{\"align\":\"left\"},\"paper_bgcolor\":\"white\",\"plot_bgcolor\":\"#E5ECF6\",\"polar\":{\"bgcolor\":\"#E5ECF6\",\"angularaxis\":{\"gridcolor\":\"white\",\"linecolor\":\"white\",\"ticks\":\"\"},\"radialaxis\":{\"gridcolor\":\"white\",\"linecolor\":\"white\",\"ticks\":\"\"}},\"ternary\":{\"bgcolor\":\"#E5ECF6\",\"aaxis\":{\"gridcolor\":\"white\",\"linecolor\":\"white\",\"ticks\":\"\"},\"baxis\":{\"gridcolor\":\"white\",\"linecolor\":\"white\",\"ticks\":\"\"},\"caxis\":{\"gridcolor\":\"white\",\"linecolor\":\"white\",\"ticks\":\"\"}},\"coloraxis\":{\"colorbar\":{\"outlinewidth\":0,\"ticks\":\"\"}},\"colorscale\":{\"sequential\":[[0.0,\"#0d0887\"],[0.1111111111111111,\"#46039f\"],[0.2222222222222222,\"#7201a8\"],[0.3333333333333333,\"#9c179e\"],[0.4444444444444444,\"#bd3786\"],[0.5555555555555556,\"#d8576b\"],[0.6666666666666666,\"#ed7953\"],[0.7777777777777778,\"#fb9f3a\"],[0.8888888888888888,\"#fdca26\"],[1.0,\"#f0f921\"]],\"sequentialminus\":[[0.0,\"#0d0887\"],[0.1111111111111111,\"#46039f\"],[0.2222222222222222,\"#7201a8\"],[0.3333333333333333,\"#9c179e\"],[0.4444444444444444,\"#bd3786\"],[0.5555555555555556,\"#d8576b\"],[0.6666666666666666,\"#ed7953\"],[0.7777777777777778,\"#fb9f3a\"],[0.8888888888888888,\"#fdca26\"],[1.0,\"#f0f921\"]],\"diverging\":[[0,\"#8e0152\"],[0.1,\"#c51b7d\"],[0.2,\"#de77ae\"],[0.3,\"#f1b6da\"],[0.4,\"#fde0ef\"],[0.5,\"#f7f7f7\"],[0.6,\"#e6f5d0\"],[0.7,\"#b8e186\"],[0.8,\"#7fbc41\"],[0.9,\"#4d9221\"],[1,\"#276419\"]]},\"xaxis\":{\"gridcolor\":\"white\",\"linecolor\":\"white\",\"ticks\":\"\",\"title\":{\"standoff\":15},\"zerolinecolor\":\"white\",\"automargin\":true,\"zerolinewidth\":2},\"yaxis\":{\"gridcolor\":\"white\",\"linecolor\":\"white\",\"ticks\":\"\",\"title\":{\"standoff\":15},\"zerolinecolor\":\"white\",\"automargin\":true,\"zerolinewidth\":2},\"scene\":{\"xaxis\":{\"backgroundcolor\":\"#E5ECF6\",\"gridcolor\":\"white\",\"linecolor\":\"white\",\"showbackground\":true,\"ticks\":\"\",\"zerolinecolor\":\"white\",\"gridwidth\":2},\"yaxis\":{\"backgroundcolor\":\"#E5ECF6\",\"gridcolor\":\"white\",\"linecolor\":\"white\",\"showbackground\":true,\"ticks\":\"\",\"zerolinecolor\":\"white\",\"gridwidth\":2},\"zaxis\":{\"backgroundcolor\":\"#E5ECF6\",\"gridcolor\":\"white\",\"linecolor\":\"white\",\"showbackground\":true,\"ticks\":\"\",\"zerolinecolor\":\"white\",\"gridwidth\":2}},\"shapedefaults\":{\"line\":{\"color\":\"#2a3f5f\"}},\"annotationdefaults\":{\"arrowcolor\":\"#2a3f5f\",\"arrowhead\":0,\"arrowwidth\":1},\"geo\":{\"bgcolor\":\"white\",\"landcolor\":\"#E5ECF6\",\"subunitcolor\":\"white\",\"showland\":true,\"showlakes\":true,\"lakecolor\":\"white\"},\"title\":{\"x\":0.05},\"mapbox\":{\"style\":\"light\"}}},\"xaxis\":{\"anchor\":\"y\",\"domain\":[0.0,0.94],\"title\":{\"font\":{\"color\":\"black\",\"family\":\"Arial\"},\"text\":\"Amount of training samples\"},\"tickfont\":{\"color\":\"black\"},\"type\":\"log\"},\"yaxis\":{\"anchor\":\"x\",\"domain\":[0.0,1.0],\"title\":{\"font\":{\"color\":\"black\",\"family\":\"Arial\"},\"text\":\"Test set F1 score\"},\"tickfont\":{\"color\":\"black\"}},\"yaxis2\":{\"anchor\":\"x\",\"overlaying\":\"y\",\"side\":\"right\",\"title\":{\"font\":{\"color\":\"black\",\"family\":\"Arial\"},\"text\":\"Test set F1 score\"},\"tickfont\":{\"color\":\"black\"}},\"plot_bgcolor\":\"rgb(209, 217, 222)\",\"title\":{\"font\":{\"color\":\"black\"},\"text\":\"Test F1 micro score for Average Score\"},\"legend\":{\"font\":{\"color\":\"black\"}}},                        {\"responsive\": true}                    ).then(function(){\n",
       "                            \n",
       "var gd = document.getElementById('fe659df6-d119-4919-a369-33be1b965200');\n",
       "var x = new MutationObserver(function (mutations, observer) {{\n",
       "        var display = window.getComputedStyle(gd).display;\n",
       "        if (!display || display === 'none') {{\n",
       "            console.log([gd, 'removed!']);\n",
       "            Plotly.purge(gd);\n",
       "            observer.disconnect();\n",
       "        }}\n",
       "}});\n",
       "\n",
       "// Listen for the removal of the full notebook cells\n",
       "var notebookContainer = gd.closest('#notebook-container');\n",
       "if (notebookContainer) {{\n",
       "    x.observe(notebookContainer, {childList: true});\n",
       "}}\n",
       "\n",
       "// Listen for the clearing of the current output cell\n",
       "var outputEl = gd.closest('.output');\n",
       "if (outputEl) {{\n",
       "    x.observe(outputEl, {childList: true});\n",
       "}}\n",
       "\n",
       "                        })                };                });            </script>        </div>"
      ]
     },
     "metadata": {},
     "output_type": "display_data"
    }
   ],
   "source": [
    "plot_performance_vs_amount_of_data(\n",
    "    performance, \n",
    "    no_of_samples, \n",
    "    performance_test_data,\n",
    "    title=\"Test F1 micro score for Average Score\", \n",
    "    x_axes=\"Amount of training samples\", \n",
    "    y_axes=\"Test set F1 score\", \n",
    "    y_axes_secondary=\"Test set F1 score\", \n",
    "    mode=\"test\"\n",
    ")"
   ]
  }
 ],
 "metadata": {
  "kernelspec": {
   "display_name": "ActiveLearning01",
   "language": "python",
   "name": "python3"
  },
  "language_info": {
   "codemirror_mode": {
    "name": "ipython",
    "version": 3
   },
   "file_extension": ".py",
   "mimetype": "text/x-python",
   "name": "python",
   "nbconvert_exporter": "python",
   "pygments_lexer": "ipython3",
   "version": "3.8.19"
  }
 },
 "nbformat": 4,
 "nbformat_minor": 2
}
