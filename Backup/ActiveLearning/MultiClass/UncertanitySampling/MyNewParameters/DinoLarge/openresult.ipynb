{
 "cells": [
  {
   "cell_type": "code",
   "execution_count": 2,
   "metadata": {},
   "outputs": [
    {
     "name": "stdout",
     "output_type": "stream",
     "text": [
      "{'f1_scores': [0.17829861111111112, 0.41805555555555557, 0.5196180555555555, 0.5932291666666667, 0.7690972222222222, 0.8567708333333334, 0.8751736111111111, 0.8789930555555554, 0.8671875, 0.8675347222222223, 0.8713541666666665, 0.8711805555555555, 0.8661458333333333, 0.8795138888888889], 'accuracies': [0.17829861111111112, 0.41805555555555557, 0.5196180555555555, 0.5932291666666667, 0.7690972222222222, 0.8567708333333334, 0.8751736111111111, 0.8789930555555555, 0.8671875, 0.8675347222222223, 0.8713541666666667, 0.8711805555555555, 0.8661458333333333, 0.8795138888888889], 'val_performance': [{'accuracy': 0.12604166666666666, 'f1': 0.12604166666666666}, {'accuracy': 0.33194444444444443, 'f1': 0.33194444444444443}, {'accuracy': 0.45989583333333334, 'f1': 0.45989583333333334}, {'accuracy': 0.49722222222222223, 'f1': 0.49722222222222223}, {'accuracy': 0.6930555555555555, 'f1': 0.6930555555555555}, {'accuracy': 0.7805555555555556, 'f1': 0.7805555555555554}, {'accuracy': 0.7986111111111112, 'f1': 0.7986111111111112}, {'accuracy': 0.8105902777777778, 'f1': 0.8105902777777778}, {'accuracy': 0.8401041666666667, 'f1': 0.8401041666666667}, {'accuracy': 0.8397569444444445, 'f1': 0.8397569444444445}, {'accuracy': 0.8342013888888888, 'f1': 0.834201388888889}, {'accuracy': 0.8432291666666667, 'f1': 0.8432291666666667}, {'accuracy': 0.8328125, 'f1': 0.8328125}, {'accuracy': 0.8479166666666667, 'f1': 0.8479166666666667}], 'no_of_samples': [8, 24, 56, 112, 208, 384, 704, 1264, 2264, 4040, 7200, 12824, 22824, 26880]}\n"
     ]
    }
   ],
   "source": [
    "import numpy as np\n",
    "\n",
    "# Replace 'your_file.npy' with the path to your .npy file\n",
    "file_path = 'performance_results.npy'\n",
    "\n",
    "# Load the .npy file\n",
    "data = np.load(file_path, allow_pickle=True)\n",
    "\n",
    "# Now 'data' contains the contents of your .npy file\n",
    "print(data)\n"
   ]
  }
 ],
 "metadata": {
  "kernelspec": {
   "display_name": "shubham_gupta_AL01",
   "language": "python",
   "name": "python3"
  },
  "language_info": {
   "codemirror_mode": {
    "name": "ipython",
    "version": 3
   },
   "file_extension": ".py",
   "mimetype": "text/x-python",
   "name": "python",
   "nbconvert_exporter": "python",
   "pygments_lexer": "ipython3",
   "version": "3.8.19"
  }
 },
 "nbformat": 4,
 "nbformat_minor": 2
}
