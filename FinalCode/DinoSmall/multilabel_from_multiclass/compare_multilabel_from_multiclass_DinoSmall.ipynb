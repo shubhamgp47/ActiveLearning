{
 "cells": [
  {
   "cell_type": "code",
   "execution_count": 4,
   "metadata": {},
   "outputs": [
    {
     "name": "stdout",
     "output_type": "stream",
     "text": [
      "Loading pickle file: /home/woody/iwfa/iwfa044h/CleanLab_Test/ActiveLearningApproaches/EOD/DInoS/multilabel_from_multiclass_2/AL/MS/run1/AL_margin_sampling_results_for_multilabel_classification_s42.pickle\n",
      "Loading pickle file: /home/woody/iwfa/iwfa044h/CleanLab_Test/ActiveLearningApproaches/EOD/DInoS/multilabel_from_multiclass_2/AL/MS/run2/AL_margin_sampling_results_for_multilabel_classification_s43.pickle\n",
      "Loading pickle file: /home/woody/iwfa/iwfa044h/CleanLab_Test/ActiveLearningApproaches/EOD/DInoS/multilabel_from_multiclass_2/AL/MS/run3/AL_margin_sampling_results_for_multilabel_classification_s44.pickle\n",
      "Loading pickle file: /home/woody/iwfa/iwfa044h/CleanLab_Test/ActiveLearningApproaches/EOD/DInoS/multilabel_from_multiclass_2/AL/MS/run4/AL_margin_sampling_results_for_multilabel_classification_s45.pickle\n",
      "Loading pickle file: /home/woody/iwfa/iwfa044h/CleanLab_Test/ActiveLearningApproaches/EOD/DInoS/multilabel_from_multiclass_2/AL/MS/run5/AL_margin_sampling_results_for_multilabel_classification_s46.pickle\n",
      "Loading pickle file: /home/woody/iwfa/iwfa044h/CleanLab_Test/ActiveLearningApproaches/EOD/DInoS/multilabel_from_multiclass_2/AL/MS/run1/AL_margin_sampling_results_for_multilabel_classification_s42.pickle\n",
      "Loading pickle file: /home/woody/iwfa/iwfa044h/CleanLab_Test/ActiveLearningApproaches/EOD/DInoS/multilabel_from_multiclass_2/AL/MS/run2/AL_margin_sampling_results_for_multilabel_classification_s43.pickle\n",
      "Loading pickle file: /home/woody/iwfa/iwfa044h/CleanLab_Test/ActiveLearningApproaches/EOD/DInoS/multilabel_from_multiclass_2/AL/MS/run3/AL_margin_sampling_results_for_multilabel_classification_s44.pickle\n",
      "Loading pickle file: /home/woody/iwfa/iwfa044h/CleanLab_Test/ActiveLearningApproaches/EOD/DInoS/multilabel_from_multiclass_2/AL/MS/run4/AL_margin_sampling_results_for_multilabel_classification_s45.pickle\n",
      "Loading pickle file: /home/woody/iwfa/iwfa044h/CleanLab_Test/ActiveLearningApproaches/EOD/DInoS/multilabel_from_multiclass_2/AL/MS/run5/AL_margin_sampling_results_for_multilabel_classification_s46.pickle\n",
      "Loading pickle file: /home/woody/iwfa/iwfa044h/CleanLab_Test/ActiveLearningApproaches/EOD/DInoS/multilabel_from_multiclass_2/AL/ES/run1/AL_entropy_sampling_results_for_multilabel_classification_s42.pickle\n",
      "Loading pickle file: /home/woody/iwfa/iwfa044h/CleanLab_Test/ActiveLearningApproaches/EOD/DInoS/multilabel_from_multiclass_2/AL/ES/run2/AL_entropy_sampling_results_for_multilabel_classification_s43.pickle\n",
      "Loading pickle file: /home/woody/iwfa/iwfa044h/CleanLab_Test/ActiveLearningApproaches/EOD/DInoS/multilabel_from_multiclass_2/AL/ES/run3/AL_entropy_sampling_results_for_multilabel_classification_s44.pickle\n",
      "Loading pickle file: /home/woody/iwfa/iwfa044h/CleanLab_Test/ActiveLearningApproaches/EOD/DInoS/multilabel_from_multiclass_2/AL/ES/run4/AL_entropy_sampling_results_for_multilabel_classification_s45.pickle\n",
      "Loading pickle file: /home/woody/iwfa/iwfa044h/CleanLab_Test/ActiveLearningApproaches/EOD/DInoS/multilabel_from_multiclass_2/AL/ES/run5/AL_entropy_sampling_results_for_multilabel_classification_s46.pickle\n",
      "Loading pickle file: /home/woody/iwfa/iwfa044h/CleanLab_Test/ActiveLearningApproaches/EOD/DInoS/multilabel_from_multiclass_2/AL/ES/run1/AL_entropy_sampling_results_for_multilabel_classification_s42.pickle\n",
      "Loading pickle file: /home/woody/iwfa/iwfa044h/CleanLab_Test/ActiveLearningApproaches/EOD/DInoS/multilabel_from_multiclass_2/AL/ES/run2/AL_entropy_sampling_results_for_multilabel_classification_s43.pickle\n",
      "Loading pickle file: /home/woody/iwfa/iwfa044h/CleanLab_Test/ActiveLearningApproaches/EOD/DInoS/multilabel_from_multiclass_2/AL/ES/run3/AL_entropy_sampling_results_for_multilabel_classification_s44.pickle\n",
      "Loading pickle file: /home/woody/iwfa/iwfa044h/CleanLab_Test/ActiveLearningApproaches/EOD/DInoS/multilabel_from_multiclass_2/AL/ES/run4/AL_entropy_sampling_results_for_multilabel_classification_s45.pickle\n",
      "Loading pickle file: /home/woody/iwfa/iwfa044h/CleanLab_Test/ActiveLearningApproaches/EOD/DInoS/multilabel_from_multiclass_2/AL/ES/run5/AL_entropy_sampling_results_for_multilabel_classification_s46.pickle\n",
      "Loading pickle file: /home/woody/iwfa/iwfa044h/CleanLab_Test/ActiveLearningApproaches/EOD/DInoS/multilabel_from_multiclass_2/AL/US/run1/AL_uncertainty_sampling_results_for_multilabel_classification_s42.pickle\n",
      "Loading pickle file: /home/woody/iwfa/iwfa044h/CleanLab_Test/ActiveLearningApproaches/EOD/DInoS/multilabel_from_multiclass_2/AL/US/run2/AL_uncertainty_sampling_results_for_multilabel_classification_s43.pickle\n",
      "Loading pickle file: /home/woody/iwfa/iwfa044h/CleanLab_Test/ActiveLearningApproaches/EOD/DInoS/multilabel_from_multiclass_2/AL/US/run3/AL_uncertainty_sampling_results_for_multilabel_classification_s44.pickle\n",
      "Loading pickle file: /home/woody/iwfa/iwfa044h/CleanLab_Test/ActiveLearningApproaches/EOD/DInoS/multilabel_from_multiclass_2/AL/US/run4/AL_uncertainty_sampling_results_for_multilabel_classification_s45.pickle\n",
      "Loading pickle file: /home/woody/iwfa/iwfa044h/CleanLab_Test/ActiveLearningApproaches/EOD/DInoS/multilabel_from_multiclass_2/AL/US/run5/AL_uncertainty_sampling_results_for_multilabel_classification_s46.pickle\n",
      "Loading pickle file: /home/woody/iwfa/iwfa044h/CleanLab_Test/ActiveLearningApproaches/EOD/DInoS/multilabel_from_multiclass_2/AL/US/run1/AL_uncertainty_sampling_results_for_multilabel_classification_s42.pickle\n",
      "Loading pickle file: /home/woody/iwfa/iwfa044h/CleanLab_Test/ActiveLearningApproaches/EOD/DInoS/multilabel_from_multiclass_2/AL/US/run2/AL_uncertainty_sampling_results_for_multilabel_classification_s43.pickle\n",
      "Loading pickle file: /home/woody/iwfa/iwfa044h/CleanLab_Test/ActiveLearningApproaches/EOD/DInoS/multilabel_from_multiclass_2/AL/US/run3/AL_uncertainty_sampling_results_for_multilabel_classification_s44.pickle\n",
      "Loading pickle file: /home/woody/iwfa/iwfa044h/CleanLab_Test/ActiveLearningApproaches/EOD/DInoS/multilabel_from_multiclass_2/AL/US/run4/AL_uncertainty_sampling_results_for_multilabel_classification_s45.pickle\n",
      "Loading pickle file: /home/woody/iwfa/iwfa044h/CleanLab_Test/ActiveLearningApproaches/EOD/DInoS/multilabel_from_multiclass_2/AL/US/run5/AL_uncertainty_sampling_results_for_multilabel_classification_s46.pickle\n",
      "Loading pickle file: /home/woody/iwfa/iwfa044h/CleanLab_Test/ActiveLearningApproaches/EOD/DInoS/multilabel_from_multiclass_2/RS/run1/random_sampling_results_for_multilabel_classification_s42.pickle\n",
      "Loading pickle file: /home/woody/iwfa/iwfa044h/CleanLab_Test/ActiveLearningApproaches/EOD/DInoS/multilabel_from_multiclass_2/RS/run2/random_sampling_results_for_multilabel_classification_s43.pickle\n",
      "Loading pickle file: /home/woody/iwfa/iwfa044h/CleanLab_Test/ActiveLearningApproaches/EOD/DInoS/multilabel_from_multiclass_2/RS/run3/random_sampling_results_for_multilabel_classification_s44.pickle\n",
      "Loading pickle file: /home/woody/iwfa/iwfa044h/CleanLab_Test/ActiveLearningApproaches/EOD/DInoS/multilabel_from_multiclass_2/RS/run4/random_sampling_results_for_multilabel_classification_s45.pickle\n",
      "Loading pickle file: /home/woody/iwfa/iwfa044h/CleanLab_Test/ActiveLearningApproaches/EOD/DInoS/multilabel_from_multiclass_2/RS/run5/random_sampling_results_for_multilabel_classification_s46.pickle\n",
      "Loading pickle file: /home/woody/iwfa/iwfa044h/CleanLab_Test/ActiveLearningApproaches/EOD/DInoS/multilabel_from_multiclass_2/RS/run1/random_sampling_results_for_multilabel_classification_s42.pickle\n",
      "Loading pickle file: /home/woody/iwfa/iwfa044h/CleanLab_Test/ActiveLearningApproaches/EOD/DInoS/multilabel_from_multiclass_2/RS/run2/random_sampling_results_for_multilabel_classification_s43.pickle\n",
      "Loading pickle file: /home/woody/iwfa/iwfa044h/CleanLab_Test/ActiveLearningApproaches/EOD/DInoS/multilabel_from_multiclass_2/RS/run3/random_sampling_results_for_multilabel_classification_s44.pickle\n",
      "Loading pickle file: /home/woody/iwfa/iwfa044h/CleanLab_Test/ActiveLearningApproaches/EOD/DInoS/multilabel_from_multiclass_2/RS/run4/random_sampling_results_for_multilabel_classification_s45.pickle\n",
      "Loading pickle file: /home/woody/iwfa/iwfa044h/CleanLab_Test/ActiveLearningApproaches/EOD/DInoS/multilabel_from_multiclass_2/RS/run5/random_sampling_results_for_multilabel_classification_s46.pickle\n"
     ]
    },
    {
     "data": {
      "application/vnd.plotly.v1+json": {
       "config": {
        "plotlyServerURL": "https://plot.ly"
       },
       "data": [
        {
         "line": {
          "color": "rgb(149, 162, 171)",
          "dash": "dash",
          "width": 1
         },
         "mode": "lines",
         "showlegend": false,
         "type": "scatter",
         "x": [
          8,
          8
         ],
         "y": [
          0,
          1.12
         ]
        },
        {
         "marker": {
          "size": 0
         },
         "mode": "text",
         "showlegend": false,
         "text": [
          "8"
         ],
         "textfont": {
          "color": "black",
          "family": "Arial",
          "size": 8.5
         },
         "textposition": "top center",
         "type": "scatter",
         "x": [
          8
         ],
         "y": [
          1.13
         ]
        },
        {
         "line": {
          "color": "rgb(149, 162, 171)",
          "dash": "dash",
          "width": 1
         },
         "mode": "lines",
         "showlegend": false,
         "type": "scatter",
         "x": [
          24,
          24
         ],
         "y": [
          0,
          1.12
         ]
        },
        {
         "marker": {
          "size": 0
         },
         "mode": "text",
         "showlegend": false,
         "text": [
          "24"
         ],
         "textfont": {
          "color": "black",
          "family": "Arial",
          "size": 8.5
         },
         "textposition": "top center",
         "type": "scatter",
         "x": [
          24
         ],
         "y": [
          1.13
         ]
        },
        {
         "line": {
          "color": "rgb(149, 162, 171)",
          "dash": "dash",
          "width": 1
         },
         "mode": "lines",
         "showlegend": false,
         "type": "scatter",
         "x": [
          56,
          56
         ],
         "y": [
          0,
          1.12
         ]
        },
        {
         "marker": {
          "size": 0
         },
         "mode": "text",
         "showlegend": false,
         "text": [
          "56"
         ],
         "textfont": {
          "color": "black",
          "family": "Arial",
          "size": 8.5
         },
         "textposition": "top center",
         "type": "scatter",
         "x": [
          56
         ],
         "y": [
          1.13
         ]
        },
        {
         "line": {
          "color": "rgb(149, 162, 171)",
          "dash": "dash",
          "width": 1
         },
         "mode": "lines",
         "showlegend": false,
         "type": "scatter",
         "x": [
          112,
          112
         ],
         "y": [
          0,
          1.12
         ]
        },
        {
         "marker": {
          "size": 0
         },
         "mode": "text",
         "showlegend": false,
         "text": [
          "112"
         ],
         "textfont": {
          "color": "black",
          "family": "Arial",
          "size": 8.5
         },
         "textposition": "top center",
         "type": "scatter",
         "x": [
          112
         ],
         "y": [
          1.13
         ]
        },
        {
         "line": {
          "color": "rgb(149, 162, 171)",
          "dash": "dash",
          "width": 1
         },
         "mode": "lines",
         "showlegend": false,
         "type": "scatter",
         "x": [
          212,
          212
         ],
         "y": [
          0,
          1.12
         ]
        },
        {
         "marker": {
          "size": 0
         },
         "mode": "text",
         "showlegend": false,
         "text": [
          "212"
         ],
         "textfont": {
          "color": "black",
          "family": "Arial",
          "size": 8.5
         },
         "textposition": "top center",
         "type": "scatter",
         "x": [
          212
         ],
         "y": [
          1.13
         ]
        },
        {
         "line": {
          "color": "rgb(149, 162, 171)",
          "dash": "dash",
          "width": 1
         },
         "mode": "lines",
         "showlegend": false,
         "type": "scatter",
         "x": [
          388,
          388
         ],
         "y": [
          0,
          1.12
         ]
        },
        {
         "marker": {
          "size": 0
         },
         "mode": "text",
         "showlegend": false,
         "text": [
          "388"
         ],
         "textfont": {
          "color": "black",
          "family": "Arial",
          "size": 8.5
         },
         "textposition": "top center",
         "type": "scatter",
         "x": [
          388
         ],
         "y": [
          1.13
         ]
        },
        {
         "line": {
          "color": "rgb(149, 162, 171)",
          "dash": "dash",
          "width": 1
         },
         "mode": "lines",
         "showlegend": false,
         "type": "scatter",
         "x": [
          704,
          704
         ],
         "y": [
          0,
          1.12
         ]
        },
        {
         "marker": {
          "size": 0
         },
         "mode": "text",
         "showlegend": false,
         "text": [
          "704"
         ],
         "textfont": {
          "color": "black",
          "family": "Arial",
          "size": 8.5
         },
         "textposition": "top center",
         "type": "scatter",
         "x": [
          704
         ],
         "y": [
          1.13
         ]
        },
        {
         "line": {
          "color": "rgb(149, 162, 171)",
          "dash": "dash",
          "width": 1
         },
         "mode": "lines",
         "showlegend": false,
         "type": "scatter",
         "x": [
          1264,
          1264
         ],
         "y": [
          0,
          1.12
         ]
        },
        {
         "marker": {
          "size": 0
         },
         "mode": "text",
         "showlegend": false,
         "text": [
          "1264"
         ],
         "textfont": {
          "color": "black",
          "family": "Arial",
          "size": 8.5
         },
         "textposition": "top center",
         "type": "scatter",
         "x": [
          1264
         ],
         "y": [
          1.13
         ]
        },
        {
         "line": {
          "color": "rgb(149, 162, 171)",
          "dash": "dash",
          "width": 1
         },
         "mode": "lines",
         "showlegend": false,
         "type": "scatter",
         "x": [
          2264,
          2264
         ],
         "y": [
          0,
          1.12
         ]
        },
        {
         "marker": {
          "size": 0
         },
         "mode": "text",
         "showlegend": false,
         "text": [
          "2264"
         ],
         "textfont": {
          "color": "black",
          "family": "Arial",
          "size": 8.5
         },
         "textposition": "top center",
         "type": "scatter",
         "x": [
          2264
         ],
         "y": [
          1.13
         ]
        },
        {
         "line": {
          "color": "rgb(149, 162, 171)",
          "dash": "dash",
          "width": 1
         },
         "mode": "lines",
         "showlegend": false,
         "type": "scatter",
         "x": [
          4048,
          4048
         ],
         "y": [
          0,
          1.12
         ]
        },
        {
         "marker": {
          "size": 0
         },
         "mode": "text",
         "showlegend": false,
         "text": [
          "4048"
         ],
         "textfont": {
          "color": "black",
          "family": "Arial",
          "size": 8.5
         },
         "textposition": "top center",
         "type": "scatter",
         "x": [
          4048
         ],
         "y": [
          1.13
         ]
        },
        {
         "line": {
          "color": "rgb(149, 162, 171)",
          "dash": "dash",
          "width": 1
         },
         "mode": "lines",
         "showlegend": false,
         "type": "scatter",
         "x": [
          7200,
          7200
         ],
         "y": [
          0,
          1.12
         ]
        },
        {
         "marker": {
          "size": 0
         },
         "mode": "text",
         "showlegend": false,
         "text": [
          "7200"
         ],
         "textfont": {
          "color": "black",
          "family": "Arial",
          "size": 8.5
         },
         "textposition": "top center",
         "type": "scatter",
         "x": [
          7200
         ],
         "y": [
          1.13
         ]
        },
        {
         "line": {
          "color": "rgb(149, 162, 171)",
          "dash": "dash",
          "width": 1
         },
         "mode": "lines",
         "showlegend": false,
         "type": "scatter",
         "x": [
          12824,
          12824
         ],
         "y": [
          0,
          1.12
         ]
        },
        {
         "marker": {
          "size": 0
         },
         "mode": "text",
         "showlegend": false,
         "text": [
          "12824"
         ],
         "textfont": {
          "color": "black",
          "family": "Arial",
          "size": 8.5
         },
         "textposition": "top center",
         "type": "scatter",
         "x": [
          12824
         ],
         "y": [
          1.13
         ]
        },
        {
         "line": {
          "color": "rgb(149, 162, 171)",
          "dash": "dash",
          "width": 1
         },
         "mode": "lines",
         "showlegend": false,
         "type": "scatter",
         "x": [
          22824,
          22824
         ],
         "y": [
          0,
          1.12
         ]
        },
        {
         "marker": {
          "size": 0
         },
         "mode": "text",
         "showlegend": false,
         "text": [
          "22824"
         ],
         "textfont": {
          "color": "black",
          "family": "Arial",
          "size": 8.5
         },
         "textposition": "top center",
         "type": "scatter",
         "x": [
          22824
         ],
         "y": [
          1.13
         ]
        },
        {
         "line": {
          "color": "rgb(149, 162, 171)",
          "dash": "dash",
          "width": 1
         },
         "mode": "lines",
         "showlegend": false,
         "type": "scatter",
         "x": [
          26880,
          26880
         ],
         "y": [
          0,
          1.12
         ]
        },
        {
         "marker": {
          "size": 0
         },
         "mode": "text",
         "showlegend": false,
         "text": [
          "26880"
         ],
         "textfont": {
          "color": "black",
          "family": "Arial",
          "size": 8.5
         },
         "textposition": "top center",
         "type": "scatter",
         "x": [
          26880
         ],
         "y": [
          1.13
         ]
        },
        {
         "fill": "toself",
         "fillcolor": "rgba(97, 192, 134,0.2)",
         "legendgroup": "margin_sampling",
         "line": {
          "width": 0
         },
         "showlegend": false,
         "type": "scatter",
         "x": [
          8,
          24,
          56,
          112,
          212,
          388,
          704,
          1264,
          2264,
          4048,
          7200,
          12824,
          22824,
          26880,
          26880,
          22824,
          12824,
          7200,
          4048,
          2264,
          1264,
          704,
          388,
          212,
          112,
          56,
          24,
          8
         ],
         "y": [
          0.5318265071507686,
          0.6017739275120567,
          0.7911745077588735,
          0.8521253004495493,
          0.8718634395047774,
          0.8748303663165821,
          0.8996506884926814,
          0.9148843334046869,
          0.9220209327465967,
          0.9235131969662125,
          0.9248704207815185,
          0.9250647189365052,
          0.9248921988230242,
          0.9233164107344788,
          0.9135051008936196,
          0.9125019615955655,
          0.9063402989685266,
          0.8993351877307482,
          0.9000479110782904,
          0.8949762231467098,
          0.8831579300711142,
          0.8741980799518391,
          0.8506161153126505,
          0.8425016749728337,
          0.777917025737362,
          0.4269541367573162,
          0.1410727527235407,
          0.4350967355496078
         ]
        },
        {
         "legendgroup": "margin_sampling",
         "line": {
          "width": 2
         },
         "marker": {
          "color": "rgb(97, 192, 134)"
         },
         "name": "margin_sampling (final: 0.918)",
         "textfont": {
          "family": "Arial",
          "size": 11
         },
         "type": "scatter",
         "x": [
          8,
          24,
          56,
          112,
          212,
          388,
          704,
          1264,
          2264,
          4048,
          7200,
          12824,
          22824,
          26880
         ],
         "y": [
          0.47386675133882966,
          0.43368613832419217,
          0.687072293861787,
          0.8245287740132919,
          0.8529213546528774,
          0.8628547281771514,
          0.881561058214381,
          0.8970674782429613,
          0.9049169854982765,
          0.9117284994362033,
          0.9114895980945811,
          0.9162720098588186,
          0.9193394236509818,
          0.9178554094722345
         ]
        },
        {
         "fill": "toself",
         "fillcolor": "rgba(45, 140, 58,0.2)",
         "legendgroup": "entropy_sampling",
         "line": {
          "width": 0
         },
         "showlegend": false,
         "type": "scatter",
         "x": [
          8,
          24,
          56,
          112,
          212,
          388,
          704,
          1264,
          2264,
          4048,
          7200,
          12824,
          22824,
          26880,
          26880,
          22824,
          12824,
          7200,
          4048,
          2264,
          1264,
          704,
          388,
          212,
          112,
          56,
          24,
          8
         ],
         "y": [
          0.5318265071507686,
          0.6744540986102093,
          0.8357255646112756,
          0.8446732737685579,
          0.8608305123388605,
          0.8813337730083987,
          0.8864568473078673,
          0.9020684189428781,
          0.9077700911778036,
          0.910044300852467,
          0.9125692409520241,
          0.9124051836263186,
          0.9166475897912756,
          0.9194291211743514,
          0.9068514787518033,
          0.910768822276323,
          0.9064551940425537,
          0.9051859309574373,
          0.9000606380714954,
          0.8923878363517659,
          0.8790045698650409,
          0.8600435199035464,
          0.8400694065261588,
          0.8229860577550306,
          0.7643550028166469,
          0.6252670292122123,
          0.5015920019166573,
          0.4350967355496078
         ]
        },
        {
         "legendgroup": "entropy_sampling",
         "line": {
          "width": 2
         },
         "marker": {
          "color": "rgb(45, 140, 58)"
         },
         "name": "entropy_sampling (final: 0.913)",
         "textfont": {
          "family": "Arial",
          "size": 11
         },
         "type": "scatter",
         "x": [
          8,
          24,
          56,
          112,
          212,
          388,
          704,
          1264,
          2264,
          4048,
          7200,
          12824,
          22824,
          26880
         ],
         "y": [
          0.47386675133882966,
          0.5816451720230008,
          0.7025799094816711,
          0.8189019167186664,
          0.8473582972140006,
          0.8611580457267273,
          0.8733526374887361,
          0.8879454951937348,
          0.8992875155187523,
          0.9048831427838518,
          0.9076399493617109,
          0.9094248691000464,
          0.9136078831193494,
          0.9125860268871401
         ]
        },
        {
         "fill": "toself",
         "fillcolor": "rgba(151, 193, 57,0.2)",
         "legendgroup": "uncertainty_sampling",
         "line": {
          "width": 0
         },
         "showlegend": false,
         "type": "scatter",
         "x": [
          8,
          24,
          56,
          112,
          212,
          388,
          704,
          1264,
          2264,
          4048,
          7200,
          12824,
          22824,
          26880,
          26880,
          22824,
          12824,
          7200,
          4048,
          2264,
          1264,
          704,
          388,
          212,
          112,
          56,
          24,
          8
         ],
         "y": [
          0.5318265071507686,
          0.7494575692838765,
          0.8283218656558619,
          0.8575666816545535,
          0.8676109990776878,
          0.8760285420640571,
          0.8876285242275381,
          0.8972594180810006,
          0.9105785090571845,
          0.9122139673169278,
          0.9163405660382012,
          0.9161830630087947,
          0.9182463242864248,
          0.9198799888057047,
          0.9060913151789268,
          0.9033762949896317,
          0.8988175730307049,
          0.8937521219861922,
          0.8871756929084033,
          0.8820703739145656,
          0.8804747383324546,
          0.8657790221028226,
          0.8527214831409995,
          0.8435009705998319,
          0.819212343114568,
          0.6268622937768499,
          0.15415403676009734,
          0.4350967355496078
         ]
        },
        {
         "legendgroup": "uncertainty_sampling",
         "line": {
          "width": 2
         },
         "marker": {
          "color": "rgb(151, 193, 57)"
         },
         "name": "uncertainty_sampling (final: 0.912)",
         "textfont": {
          "family": "Arial",
          "size": 11
         },
         "type": "scatter",
         "x": [
          8,
          24,
          56,
          112,
          212,
          388,
          704,
          1264,
          2264,
          4048,
          7200,
          12824,
          22824,
          26880
         ],
         "y": [
          0.47386675133882966,
          0.4857261672540033,
          0.7503605798088576,
          0.8398407146146024,
          0.8557379345796164,
          0.8671912778349737,
          0.8786585576356754,
          0.890973673475342,
          0.9000728747808047,
          0.9039883165380918,
          0.9071012656307588,
          0.9080180281389915,
          0.9104788106979654,
          0.9115490451573429
         ]
        },
        {
         "fill": "toself",
         "fillcolor": "rgba(255, 0, 0,0.2)",
         "legendgroup": "random_sampling",
         "line": {
          "width": 0
         },
         "showlegend": false,
         "type": "scatter",
         "x": [
          8,
          24,
          56,
          112,
          212,
          388,
          704,
          1264,
          2264,
          4048,
          7200,
          12824,
          22824,
          26880,
          26880,
          22824,
          12824,
          7200,
          4048,
          2264,
          1264,
          704,
          388,
          212,
          112,
          56,
          24,
          8
         ],
         "y": [
          0.5318265071507686,
          0.6374826518958132,
          0.8414673542903257,
          0.8579106743121079,
          0.8655246737117208,
          0.8761317068190518,
          0.8941887208385273,
          0.9070037480872976,
          0.9183215508948938,
          0.9187487357492747,
          0.9218930271885689,
          0.9292817135495612,
          0.9284526578413651,
          0.9331900149766444,
          0.912196629050789,
          0.9078356278562051,
          0.900870092237955,
          0.9005140367449597,
          0.8987090390398805,
          0.8930306069638559,
          0.891488122258972,
          0.8735358680721492,
          0.8579439708616299,
          0.8311976222864624,
          0.8054143941722822,
          0.6404697304782841,
          0.4858937634195888,
          0.4350967355496078
         ]
        },
        {
         "legendgroup": "random_sampling",
         "line": {
          "width": 2
         },
         "marker": {
          "color": "rgb(255, 0, 0)"
         },
         "name": "random_sampling (final: 0.919)",
         "textfont": {
          "family": "Arial",
          "size": 11
         },
         "type": "scatter",
         "x": [
          8,
          24,
          56,
          112,
          212,
          388,
          704,
          1264,
          2264,
          4048,
          7200,
          12824,
          22824,
          26880
         ],
         "y": [
          0.47386675133882966,
          0.548029230947463,
          0.7463188725045021,
          0.8352187885497038,
          0.8517657547261462,
          0.8642988724529171,
          0.8806056859194074,
          0.8964047924358953,
          0.9068112867268467,
          0.9091027950972915,
          0.9086332220100493,
          0.912681403296844,
          0.9170309644115389,
          0.9187071911651887
         ]
        }
       ],
       "layout": {
        "legend": {
         "font": {
          "color": "black"
         }
        },
        "plot_bgcolor": "rgb(209, 217, 222)",
        "template": {
         "data": {
          "bar": [
           {
            "error_x": {
             "color": "#2a3f5f"
            },
            "error_y": {
             "color": "#2a3f5f"
            },
            "marker": {
             "line": {
              "color": "#E5ECF6",
              "width": 0.5
             },
             "pattern": {
              "fillmode": "overlay",
              "size": 10,
              "solidity": 0.2
             }
            },
            "type": "bar"
           }
          ],
          "barpolar": [
           {
            "marker": {
             "line": {
              "color": "#E5ECF6",
              "width": 0.5
             },
             "pattern": {
              "fillmode": "overlay",
              "size": 10,
              "solidity": 0.2
             }
            },
            "type": "barpolar"
           }
          ],
          "carpet": [
           {
            "aaxis": {
             "endlinecolor": "#2a3f5f",
             "gridcolor": "white",
             "linecolor": "white",
             "minorgridcolor": "white",
             "startlinecolor": "#2a3f5f"
            },
            "baxis": {
             "endlinecolor": "#2a3f5f",
             "gridcolor": "white",
             "linecolor": "white",
             "minorgridcolor": "white",
             "startlinecolor": "#2a3f5f"
            },
            "type": "carpet"
           }
          ],
          "choropleth": [
           {
            "colorbar": {
             "outlinewidth": 0,
             "ticks": ""
            },
            "type": "choropleth"
           }
          ],
          "contour": [
           {
            "colorbar": {
             "outlinewidth": 0,
             "ticks": ""
            },
            "colorscale": [
             [
              0,
              "#0d0887"
             ],
             [
              0.1111111111111111,
              "#46039f"
             ],
             [
              0.2222222222222222,
              "#7201a8"
             ],
             [
              0.3333333333333333,
              "#9c179e"
             ],
             [
              0.4444444444444444,
              "#bd3786"
             ],
             [
              0.5555555555555556,
              "#d8576b"
             ],
             [
              0.6666666666666666,
              "#ed7953"
             ],
             [
              0.7777777777777778,
              "#fb9f3a"
             ],
             [
              0.8888888888888888,
              "#fdca26"
             ],
             [
              1,
              "#f0f921"
             ]
            ],
            "type": "contour"
           }
          ],
          "contourcarpet": [
           {
            "colorbar": {
             "outlinewidth": 0,
             "ticks": ""
            },
            "type": "contourcarpet"
           }
          ],
          "heatmap": [
           {
            "colorbar": {
             "outlinewidth": 0,
             "ticks": ""
            },
            "colorscale": [
             [
              0,
              "#0d0887"
             ],
             [
              0.1111111111111111,
              "#46039f"
             ],
             [
              0.2222222222222222,
              "#7201a8"
             ],
             [
              0.3333333333333333,
              "#9c179e"
             ],
             [
              0.4444444444444444,
              "#bd3786"
             ],
             [
              0.5555555555555556,
              "#d8576b"
             ],
             [
              0.6666666666666666,
              "#ed7953"
             ],
             [
              0.7777777777777778,
              "#fb9f3a"
             ],
             [
              0.8888888888888888,
              "#fdca26"
             ],
             [
              1,
              "#f0f921"
             ]
            ],
            "type": "heatmap"
           }
          ],
          "heatmapgl": [
           {
            "colorbar": {
             "outlinewidth": 0,
             "ticks": ""
            },
            "colorscale": [
             [
              0,
              "#0d0887"
             ],
             [
              0.1111111111111111,
              "#46039f"
             ],
             [
              0.2222222222222222,
              "#7201a8"
             ],
             [
              0.3333333333333333,
              "#9c179e"
             ],
             [
              0.4444444444444444,
              "#bd3786"
             ],
             [
              0.5555555555555556,
              "#d8576b"
             ],
             [
              0.6666666666666666,
              "#ed7953"
             ],
             [
              0.7777777777777778,
              "#fb9f3a"
             ],
             [
              0.8888888888888888,
              "#fdca26"
             ],
             [
              1,
              "#f0f921"
             ]
            ],
            "type": "heatmapgl"
           }
          ],
          "histogram": [
           {
            "marker": {
             "pattern": {
              "fillmode": "overlay",
              "size": 10,
              "solidity": 0.2
             }
            },
            "type": "histogram"
           }
          ],
          "histogram2d": [
           {
            "colorbar": {
             "outlinewidth": 0,
             "ticks": ""
            },
            "colorscale": [
             [
              0,
              "#0d0887"
             ],
             [
              0.1111111111111111,
              "#46039f"
             ],
             [
              0.2222222222222222,
              "#7201a8"
             ],
             [
              0.3333333333333333,
              "#9c179e"
             ],
             [
              0.4444444444444444,
              "#bd3786"
             ],
             [
              0.5555555555555556,
              "#d8576b"
             ],
             [
              0.6666666666666666,
              "#ed7953"
             ],
             [
              0.7777777777777778,
              "#fb9f3a"
             ],
             [
              0.8888888888888888,
              "#fdca26"
             ],
             [
              1,
              "#f0f921"
             ]
            ],
            "type": "histogram2d"
           }
          ],
          "histogram2dcontour": [
           {
            "colorbar": {
             "outlinewidth": 0,
             "ticks": ""
            },
            "colorscale": [
             [
              0,
              "#0d0887"
             ],
             [
              0.1111111111111111,
              "#46039f"
             ],
             [
              0.2222222222222222,
              "#7201a8"
             ],
             [
              0.3333333333333333,
              "#9c179e"
             ],
             [
              0.4444444444444444,
              "#bd3786"
             ],
             [
              0.5555555555555556,
              "#d8576b"
             ],
             [
              0.6666666666666666,
              "#ed7953"
             ],
             [
              0.7777777777777778,
              "#fb9f3a"
             ],
             [
              0.8888888888888888,
              "#fdca26"
             ],
             [
              1,
              "#f0f921"
             ]
            ],
            "type": "histogram2dcontour"
           }
          ],
          "mesh3d": [
           {
            "colorbar": {
             "outlinewidth": 0,
             "ticks": ""
            },
            "type": "mesh3d"
           }
          ],
          "parcoords": [
           {
            "line": {
             "colorbar": {
              "outlinewidth": 0,
              "ticks": ""
             }
            },
            "type": "parcoords"
           }
          ],
          "pie": [
           {
            "automargin": true,
            "type": "pie"
           }
          ],
          "scatter": [
           {
            "fillpattern": {
             "fillmode": "overlay",
             "size": 10,
             "solidity": 0.2
            },
            "type": "scatter"
           }
          ],
          "scatter3d": [
           {
            "line": {
             "colorbar": {
              "outlinewidth": 0,
              "ticks": ""
             }
            },
            "marker": {
             "colorbar": {
              "outlinewidth": 0,
              "ticks": ""
             }
            },
            "type": "scatter3d"
           }
          ],
          "scattercarpet": [
           {
            "marker": {
             "colorbar": {
              "outlinewidth": 0,
              "ticks": ""
             }
            },
            "type": "scattercarpet"
           }
          ],
          "scattergeo": [
           {
            "marker": {
             "colorbar": {
              "outlinewidth": 0,
              "ticks": ""
             }
            },
            "type": "scattergeo"
           }
          ],
          "scattergl": [
           {
            "marker": {
             "colorbar": {
              "outlinewidth": 0,
              "ticks": ""
             }
            },
            "type": "scattergl"
           }
          ],
          "scattermapbox": [
           {
            "marker": {
             "colorbar": {
              "outlinewidth": 0,
              "ticks": ""
             }
            },
            "type": "scattermapbox"
           }
          ],
          "scatterpolar": [
           {
            "marker": {
             "colorbar": {
              "outlinewidth": 0,
              "ticks": ""
             }
            },
            "type": "scatterpolar"
           }
          ],
          "scatterpolargl": [
           {
            "marker": {
             "colorbar": {
              "outlinewidth": 0,
              "ticks": ""
             }
            },
            "type": "scatterpolargl"
           }
          ],
          "scatterternary": [
           {
            "marker": {
             "colorbar": {
              "outlinewidth": 0,
              "ticks": ""
             }
            },
            "type": "scatterternary"
           }
          ],
          "surface": [
           {
            "colorbar": {
             "outlinewidth": 0,
             "ticks": ""
            },
            "colorscale": [
             [
              0,
              "#0d0887"
             ],
             [
              0.1111111111111111,
              "#46039f"
             ],
             [
              0.2222222222222222,
              "#7201a8"
             ],
             [
              0.3333333333333333,
              "#9c179e"
             ],
             [
              0.4444444444444444,
              "#bd3786"
             ],
             [
              0.5555555555555556,
              "#d8576b"
             ],
             [
              0.6666666666666666,
              "#ed7953"
             ],
             [
              0.7777777777777778,
              "#fb9f3a"
             ],
             [
              0.8888888888888888,
              "#fdca26"
             ],
             [
              1,
              "#f0f921"
             ]
            ],
            "type": "surface"
           }
          ],
          "table": [
           {
            "cells": {
             "fill": {
              "color": "#EBF0F8"
             },
             "line": {
              "color": "white"
             }
            },
            "header": {
             "fill": {
              "color": "#C8D4E3"
             },
             "line": {
              "color": "white"
             }
            },
            "type": "table"
           }
          ]
         },
         "layout": {
          "annotationdefaults": {
           "arrowcolor": "#2a3f5f",
           "arrowhead": 0,
           "arrowwidth": 1
          },
          "autotypenumbers": "strict",
          "coloraxis": {
           "colorbar": {
            "outlinewidth": 0,
            "ticks": ""
           }
          },
          "colorscale": {
           "diverging": [
            [
             0,
             "#8e0152"
            ],
            [
             0.1,
             "#c51b7d"
            ],
            [
             0.2,
             "#de77ae"
            ],
            [
             0.3,
             "#f1b6da"
            ],
            [
             0.4,
             "#fde0ef"
            ],
            [
             0.5,
             "#f7f7f7"
            ],
            [
             0.6,
             "#e6f5d0"
            ],
            [
             0.7,
             "#b8e186"
            ],
            [
             0.8,
             "#7fbc41"
            ],
            [
             0.9,
             "#4d9221"
            ],
            [
             1,
             "#276419"
            ]
           ],
           "sequential": [
            [
             0,
             "#0d0887"
            ],
            [
             0.1111111111111111,
             "#46039f"
            ],
            [
             0.2222222222222222,
             "#7201a8"
            ],
            [
             0.3333333333333333,
             "#9c179e"
            ],
            [
             0.4444444444444444,
             "#bd3786"
            ],
            [
             0.5555555555555556,
             "#d8576b"
            ],
            [
             0.6666666666666666,
             "#ed7953"
            ],
            [
             0.7777777777777778,
             "#fb9f3a"
            ],
            [
             0.8888888888888888,
             "#fdca26"
            ],
            [
             1,
             "#f0f921"
            ]
           ],
           "sequentialminus": [
            [
             0,
             "#0d0887"
            ],
            [
             0.1111111111111111,
             "#46039f"
            ],
            [
             0.2222222222222222,
             "#7201a8"
            ],
            [
             0.3333333333333333,
             "#9c179e"
            ],
            [
             0.4444444444444444,
             "#bd3786"
            ],
            [
             0.5555555555555556,
             "#d8576b"
            ],
            [
             0.6666666666666666,
             "#ed7953"
            ],
            [
             0.7777777777777778,
             "#fb9f3a"
            ],
            [
             0.8888888888888888,
             "#fdca26"
            ],
            [
             1,
             "#f0f921"
            ]
           ]
          },
          "colorway": [
           "#636efa",
           "#EF553B",
           "#00cc96",
           "#ab63fa",
           "#FFA15A",
           "#19d3f3",
           "#FF6692",
           "#B6E880",
           "#FF97FF",
           "#FECB52"
          ],
          "font": {
           "color": "#2a3f5f"
          },
          "geo": {
           "bgcolor": "white",
           "lakecolor": "white",
           "landcolor": "#E5ECF6",
           "showlakes": true,
           "showland": true,
           "subunitcolor": "white"
          },
          "hoverlabel": {
           "align": "left"
          },
          "hovermode": "closest",
          "mapbox": {
           "style": "light"
          },
          "paper_bgcolor": "white",
          "plot_bgcolor": "#E5ECF6",
          "polar": {
           "angularaxis": {
            "gridcolor": "white",
            "linecolor": "white",
            "ticks": ""
           },
           "bgcolor": "#E5ECF6",
           "radialaxis": {
            "gridcolor": "white",
            "linecolor": "white",
            "ticks": ""
           }
          },
          "scene": {
           "xaxis": {
            "backgroundcolor": "#E5ECF6",
            "gridcolor": "white",
            "gridwidth": 2,
            "linecolor": "white",
            "showbackground": true,
            "ticks": "",
            "zerolinecolor": "white"
           },
           "yaxis": {
            "backgroundcolor": "#E5ECF6",
            "gridcolor": "white",
            "gridwidth": 2,
            "linecolor": "white",
            "showbackground": true,
            "ticks": "",
            "zerolinecolor": "white"
           },
           "zaxis": {
            "backgroundcolor": "#E5ECF6",
            "gridcolor": "white",
            "gridwidth": 2,
            "linecolor": "white",
            "showbackground": true,
            "ticks": "",
            "zerolinecolor": "white"
           }
          },
          "shapedefaults": {
           "line": {
            "color": "#2a3f5f"
           }
          },
          "ternary": {
           "aaxis": {
            "gridcolor": "white",
            "linecolor": "white",
            "ticks": ""
           },
           "baxis": {
            "gridcolor": "white",
            "linecolor": "white",
            "ticks": ""
           },
           "bgcolor": "#E5ECF6",
           "caxis": {
            "gridcolor": "white",
            "linecolor": "white",
            "ticks": ""
           }
          },
          "title": {
           "x": 0.05
          },
          "xaxis": {
           "automargin": true,
           "gridcolor": "white",
           "linecolor": "white",
           "ticks": "",
           "title": {
            "standoff": 15
           },
           "zerolinecolor": "white",
           "zerolinewidth": 2
          },
          "yaxis": {
           "automargin": true,
           "gridcolor": "white",
           "linecolor": "white",
           "ticks": "",
           "title": {
            "standoff": 15
           },
           "zerolinecolor": "white",
           "zerolinewidth": 2
          }
         }
        },
        "title": {
         "font": {
          "color": "black"
         },
         "text": "Average DINOv2S Test F1 Macro Scores with Fluctuations for images selected from multiclass and trained on multilabel"
        },
        "xaxis": {
         "tickfont": {
          "color": "black"
         },
         "title": {
          "font": {
           "color": "black",
           "family": "Arial"
          },
          "text": "Amount of Training Samples"
         },
         "type": "log"
        },
        "yaxis": {
         "tickfont": {
          "color": "black"
         },
         "title": {
          "font": {
           "color": "black",
           "family": "Arial"
          },
          "text": "Test F1 Score"
         }
        }
       }
      },
      "text/html": [
       "<div>                            <div id=\"87d291b6-7acc-4d83-8e94-c97881fbece8\" class=\"plotly-graph-div\" style=\"height:525px; width:100%;\"></div>            <script type=\"text/javascript\">                require([\"plotly\"], function(Plotly) {                    window.PLOTLYENV=window.PLOTLYENV || {};                                    if (document.getElementById(\"87d291b6-7acc-4d83-8e94-c97881fbece8\")) {                    Plotly.newPlot(                        \"87d291b6-7acc-4d83-8e94-c97881fbece8\",                        [{\"line\":{\"color\":\"rgb(149, 162, 171)\",\"dash\":\"dash\",\"width\":1},\"mode\":\"lines\",\"showlegend\":false,\"x\":[8,8],\"y\":[0,1.12],\"type\":\"scatter\"},{\"marker\":{\"size\":0},\"mode\":\"text\",\"showlegend\":false,\"text\":[\"8\"],\"textfont\":{\"color\":\"black\",\"family\":\"Arial\",\"size\":8.5},\"textposition\":\"top center\",\"x\":[8],\"y\":[1.13],\"type\":\"scatter\"},{\"line\":{\"color\":\"rgb(149, 162, 171)\",\"dash\":\"dash\",\"width\":1},\"mode\":\"lines\",\"showlegend\":false,\"x\":[24,24],\"y\":[0,1.12],\"type\":\"scatter\"},{\"marker\":{\"size\":0},\"mode\":\"text\",\"showlegend\":false,\"text\":[\"24\"],\"textfont\":{\"color\":\"black\",\"family\":\"Arial\",\"size\":8.5},\"textposition\":\"top center\",\"x\":[24],\"y\":[1.13],\"type\":\"scatter\"},{\"line\":{\"color\":\"rgb(149, 162, 171)\",\"dash\":\"dash\",\"width\":1},\"mode\":\"lines\",\"showlegend\":false,\"x\":[56,56],\"y\":[0,1.12],\"type\":\"scatter\"},{\"marker\":{\"size\":0},\"mode\":\"text\",\"showlegend\":false,\"text\":[\"56\"],\"textfont\":{\"color\":\"black\",\"family\":\"Arial\",\"size\":8.5},\"textposition\":\"top center\",\"x\":[56],\"y\":[1.13],\"type\":\"scatter\"},{\"line\":{\"color\":\"rgb(149, 162, 171)\",\"dash\":\"dash\",\"width\":1},\"mode\":\"lines\",\"showlegend\":false,\"x\":[112,112],\"y\":[0,1.12],\"type\":\"scatter\"},{\"marker\":{\"size\":0},\"mode\":\"text\",\"showlegend\":false,\"text\":[\"112\"],\"textfont\":{\"color\":\"black\",\"family\":\"Arial\",\"size\":8.5},\"textposition\":\"top center\",\"x\":[112],\"y\":[1.13],\"type\":\"scatter\"},{\"line\":{\"color\":\"rgb(149, 162, 171)\",\"dash\":\"dash\",\"width\":1},\"mode\":\"lines\",\"showlegend\":false,\"x\":[212,212],\"y\":[0,1.12],\"type\":\"scatter\"},{\"marker\":{\"size\":0},\"mode\":\"text\",\"showlegend\":false,\"text\":[\"212\"],\"textfont\":{\"color\":\"black\",\"family\":\"Arial\",\"size\":8.5},\"textposition\":\"top center\",\"x\":[212],\"y\":[1.13],\"type\":\"scatter\"},{\"line\":{\"color\":\"rgb(149, 162, 171)\",\"dash\":\"dash\",\"width\":1},\"mode\":\"lines\",\"showlegend\":false,\"x\":[388,388],\"y\":[0,1.12],\"type\":\"scatter\"},{\"marker\":{\"size\":0},\"mode\":\"text\",\"showlegend\":false,\"text\":[\"388\"],\"textfont\":{\"color\":\"black\",\"family\":\"Arial\",\"size\":8.5},\"textposition\":\"top center\",\"x\":[388],\"y\":[1.13],\"type\":\"scatter\"},{\"line\":{\"color\":\"rgb(149, 162, 171)\",\"dash\":\"dash\",\"width\":1},\"mode\":\"lines\",\"showlegend\":false,\"x\":[704,704],\"y\":[0,1.12],\"type\":\"scatter\"},{\"marker\":{\"size\":0},\"mode\":\"text\",\"showlegend\":false,\"text\":[\"704\"],\"textfont\":{\"color\":\"black\",\"family\":\"Arial\",\"size\":8.5},\"textposition\":\"top center\",\"x\":[704],\"y\":[1.13],\"type\":\"scatter\"},{\"line\":{\"color\":\"rgb(149, 162, 171)\",\"dash\":\"dash\",\"width\":1},\"mode\":\"lines\",\"showlegend\":false,\"x\":[1264,1264],\"y\":[0,1.12],\"type\":\"scatter\"},{\"marker\":{\"size\":0},\"mode\":\"text\",\"showlegend\":false,\"text\":[\"1264\"],\"textfont\":{\"color\":\"black\",\"family\":\"Arial\",\"size\":8.5},\"textposition\":\"top center\",\"x\":[1264],\"y\":[1.13],\"type\":\"scatter\"},{\"line\":{\"color\":\"rgb(149, 162, 171)\",\"dash\":\"dash\",\"width\":1},\"mode\":\"lines\",\"showlegend\":false,\"x\":[2264,2264],\"y\":[0,1.12],\"type\":\"scatter\"},{\"marker\":{\"size\":0},\"mode\":\"text\",\"showlegend\":false,\"text\":[\"2264\"],\"textfont\":{\"color\":\"black\",\"family\":\"Arial\",\"size\":8.5},\"textposition\":\"top center\",\"x\":[2264],\"y\":[1.13],\"type\":\"scatter\"},{\"line\":{\"color\":\"rgb(149, 162, 171)\",\"dash\":\"dash\",\"width\":1},\"mode\":\"lines\",\"showlegend\":false,\"x\":[4048,4048],\"y\":[0,1.12],\"type\":\"scatter\"},{\"marker\":{\"size\":0},\"mode\":\"text\",\"showlegend\":false,\"text\":[\"4048\"],\"textfont\":{\"color\":\"black\",\"family\":\"Arial\",\"size\":8.5},\"textposition\":\"top center\",\"x\":[4048],\"y\":[1.13],\"type\":\"scatter\"},{\"line\":{\"color\":\"rgb(149, 162, 171)\",\"dash\":\"dash\",\"width\":1},\"mode\":\"lines\",\"showlegend\":false,\"x\":[7200,7200],\"y\":[0,1.12],\"type\":\"scatter\"},{\"marker\":{\"size\":0},\"mode\":\"text\",\"showlegend\":false,\"text\":[\"7200\"],\"textfont\":{\"color\":\"black\",\"family\":\"Arial\",\"size\":8.5},\"textposition\":\"top center\",\"x\":[7200],\"y\":[1.13],\"type\":\"scatter\"},{\"line\":{\"color\":\"rgb(149, 162, 171)\",\"dash\":\"dash\",\"width\":1},\"mode\":\"lines\",\"showlegend\":false,\"x\":[12824,12824],\"y\":[0,1.12],\"type\":\"scatter\"},{\"marker\":{\"size\":0},\"mode\":\"text\",\"showlegend\":false,\"text\":[\"12824\"],\"textfont\":{\"color\":\"black\",\"family\":\"Arial\",\"size\":8.5},\"textposition\":\"top center\",\"x\":[12824],\"y\":[1.13],\"type\":\"scatter\"},{\"line\":{\"color\":\"rgb(149, 162, 171)\",\"dash\":\"dash\",\"width\":1},\"mode\":\"lines\",\"showlegend\":false,\"x\":[22824,22824],\"y\":[0,1.12],\"type\":\"scatter\"},{\"marker\":{\"size\":0},\"mode\":\"text\",\"showlegend\":false,\"text\":[\"22824\"],\"textfont\":{\"color\":\"black\",\"family\":\"Arial\",\"size\":8.5},\"textposition\":\"top center\",\"x\":[22824],\"y\":[1.13],\"type\":\"scatter\"},{\"line\":{\"color\":\"rgb(149, 162, 171)\",\"dash\":\"dash\",\"width\":1},\"mode\":\"lines\",\"showlegend\":false,\"x\":[26880,26880],\"y\":[0,1.12],\"type\":\"scatter\"},{\"marker\":{\"size\":0},\"mode\":\"text\",\"showlegend\":false,\"text\":[\"26880\"],\"textfont\":{\"color\":\"black\",\"family\":\"Arial\",\"size\":8.5},\"textposition\":\"top center\",\"x\":[26880],\"y\":[1.13],\"type\":\"scatter\"},{\"fill\":\"toself\",\"fillcolor\":\"rgba(97, 192, 134,0.2)\",\"legendgroup\":\"margin_sampling\",\"line\":{\"width\":0},\"showlegend\":false,\"x\":[8,24,56,112,212,388,704,1264,2264,4048,7200,12824,22824,26880,26880,22824,12824,7200,4048,2264,1264,704,388,212,112,56,24,8],\"y\":[0.5318265071507686,0.6017739275120567,0.7911745077588735,0.8521253004495493,0.8718634395047774,0.8748303663165821,0.8996506884926814,0.9148843334046869,0.9220209327465967,0.9235131969662125,0.9248704207815185,0.9250647189365052,0.9248921988230242,0.9233164107344788,0.9135051008936196,0.9125019615955655,0.9063402989685266,0.8993351877307482,0.9000479110782904,0.8949762231467098,0.8831579300711142,0.8741980799518391,0.8506161153126505,0.8425016749728337,0.777917025737362,0.4269541367573162,0.1410727527235407,0.4350967355496078],\"type\":\"scatter\"},{\"legendgroup\":\"margin_sampling\",\"line\":{\"width\":2},\"marker\":{\"color\":\"rgb(97, 192, 134)\"},\"name\":\"margin_sampling (final: 0.918)\",\"textfont\":{\"family\":\"Arial\",\"size\":11},\"x\":[8,24,56,112,212,388,704,1264,2264,4048,7200,12824,22824,26880],\"y\":[0.47386675133882966,0.43368613832419217,0.687072293861787,0.8245287740132919,0.8529213546528774,0.8628547281771514,0.881561058214381,0.8970674782429613,0.9049169854982765,0.9117284994362033,0.9114895980945811,0.9162720098588186,0.9193394236509818,0.9178554094722345],\"type\":\"scatter\"},{\"fill\":\"toself\",\"fillcolor\":\"rgba(45, 140, 58,0.2)\",\"legendgroup\":\"entropy_sampling\",\"line\":{\"width\":0},\"showlegend\":false,\"x\":[8,24,56,112,212,388,704,1264,2264,4048,7200,12824,22824,26880,26880,22824,12824,7200,4048,2264,1264,704,388,212,112,56,24,8],\"y\":[0.5318265071507686,0.6744540986102093,0.8357255646112756,0.8446732737685579,0.8608305123388605,0.8813337730083987,0.8864568473078673,0.9020684189428781,0.9077700911778036,0.910044300852467,0.9125692409520241,0.9124051836263186,0.9166475897912756,0.9194291211743514,0.9068514787518033,0.910768822276323,0.9064551940425537,0.9051859309574373,0.9000606380714954,0.8923878363517659,0.8790045698650409,0.8600435199035464,0.8400694065261588,0.8229860577550306,0.7643550028166469,0.6252670292122123,0.5015920019166573,0.4350967355496078],\"type\":\"scatter\"},{\"legendgroup\":\"entropy_sampling\",\"line\":{\"width\":2},\"marker\":{\"color\":\"rgb(45, 140, 58)\"},\"name\":\"entropy_sampling (final: 0.913)\",\"textfont\":{\"family\":\"Arial\",\"size\":11},\"x\":[8,24,56,112,212,388,704,1264,2264,4048,7200,12824,22824,26880],\"y\":[0.47386675133882966,0.5816451720230008,0.7025799094816711,0.8189019167186664,0.8473582972140006,0.8611580457267273,0.8733526374887361,0.8879454951937348,0.8992875155187523,0.9048831427838518,0.9076399493617109,0.9094248691000464,0.9136078831193494,0.9125860268871401],\"type\":\"scatter\"},{\"fill\":\"toself\",\"fillcolor\":\"rgba(151, 193, 57,0.2)\",\"legendgroup\":\"uncertainty_sampling\",\"line\":{\"width\":0},\"showlegend\":false,\"x\":[8,24,56,112,212,388,704,1264,2264,4048,7200,12824,22824,26880,26880,22824,12824,7200,4048,2264,1264,704,388,212,112,56,24,8],\"y\":[0.5318265071507686,0.7494575692838765,0.8283218656558619,0.8575666816545535,0.8676109990776878,0.8760285420640571,0.8876285242275381,0.8972594180810006,0.9105785090571845,0.9122139673169278,0.9163405660382012,0.9161830630087947,0.9182463242864248,0.9198799888057047,0.9060913151789268,0.9033762949896317,0.8988175730307049,0.8937521219861922,0.8871756929084033,0.8820703739145656,0.8804747383324546,0.8657790221028226,0.8527214831409995,0.8435009705998319,0.819212343114568,0.6268622937768499,0.15415403676009734,0.4350967355496078],\"type\":\"scatter\"},{\"legendgroup\":\"uncertainty_sampling\",\"line\":{\"width\":2},\"marker\":{\"color\":\"rgb(151, 193, 57)\"},\"name\":\"uncertainty_sampling (final: 0.912)\",\"textfont\":{\"family\":\"Arial\",\"size\":11},\"x\":[8,24,56,112,212,388,704,1264,2264,4048,7200,12824,22824,26880],\"y\":[0.47386675133882966,0.4857261672540033,0.7503605798088576,0.8398407146146024,0.8557379345796164,0.8671912778349737,0.8786585576356754,0.890973673475342,0.9000728747808047,0.9039883165380918,0.9071012656307588,0.9080180281389915,0.9104788106979654,0.9115490451573429],\"type\":\"scatter\"},{\"fill\":\"toself\",\"fillcolor\":\"rgba(255, 0, 0,0.2)\",\"legendgroup\":\"random_sampling\",\"line\":{\"width\":0},\"showlegend\":false,\"x\":[8,24,56,112,212,388,704,1264,2264,4048,7200,12824,22824,26880,26880,22824,12824,7200,4048,2264,1264,704,388,212,112,56,24,8],\"y\":[0.5318265071507686,0.6374826518958132,0.8414673542903257,0.8579106743121079,0.8655246737117208,0.8761317068190518,0.8941887208385273,0.9070037480872976,0.9183215508948938,0.9187487357492747,0.9218930271885689,0.9292817135495612,0.9284526578413651,0.9331900149766444,0.912196629050789,0.9078356278562051,0.900870092237955,0.9005140367449597,0.8987090390398805,0.8930306069638559,0.891488122258972,0.8735358680721492,0.8579439708616299,0.8311976222864624,0.8054143941722822,0.6404697304782841,0.4858937634195888,0.4350967355496078],\"type\":\"scatter\"},{\"legendgroup\":\"random_sampling\",\"line\":{\"width\":2},\"marker\":{\"color\":\"rgb(255, 0, 0)\"},\"name\":\"random_sampling (final: 0.919)\",\"textfont\":{\"family\":\"Arial\",\"size\":11},\"x\":[8,24,56,112,212,388,704,1264,2264,4048,7200,12824,22824,26880],\"y\":[0.47386675133882966,0.548029230947463,0.7463188725045021,0.8352187885497038,0.8517657547261462,0.8642988724529171,0.8806056859194074,0.8964047924358953,0.9068112867268467,0.9091027950972915,0.9086332220100493,0.912681403296844,0.9170309644115389,0.9187071911651887],\"type\":\"scatter\"}],                        {\"template\":{\"data\":{\"histogram2dcontour\":[{\"type\":\"histogram2dcontour\",\"colorbar\":{\"outlinewidth\":0,\"ticks\":\"\"},\"colorscale\":[[0.0,\"#0d0887\"],[0.1111111111111111,\"#46039f\"],[0.2222222222222222,\"#7201a8\"],[0.3333333333333333,\"#9c179e\"],[0.4444444444444444,\"#bd3786\"],[0.5555555555555556,\"#d8576b\"],[0.6666666666666666,\"#ed7953\"],[0.7777777777777778,\"#fb9f3a\"],[0.8888888888888888,\"#fdca26\"],[1.0,\"#f0f921\"]]}],\"choropleth\":[{\"type\":\"choropleth\",\"colorbar\":{\"outlinewidth\":0,\"ticks\":\"\"}}],\"histogram2d\":[{\"type\":\"histogram2d\",\"colorbar\":{\"outlinewidth\":0,\"ticks\":\"\"},\"colorscale\":[[0.0,\"#0d0887\"],[0.1111111111111111,\"#46039f\"],[0.2222222222222222,\"#7201a8\"],[0.3333333333333333,\"#9c179e\"],[0.4444444444444444,\"#bd3786\"],[0.5555555555555556,\"#d8576b\"],[0.6666666666666666,\"#ed7953\"],[0.7777777777777778,\"#fb9f3a\"],[0.8888888888888888,\"#fdca26\"],[1.0,\"#f0f921\"]]}],\"heatmap\":[{\"type\":\"heatmap\",\"colorbar\":{\"outlinewidth\":0,\"ticks\":\"\"},\"colorscale\":[[0.0,\"#0d0887\"],[0.1111111111111111,\"#46039f\"],[0.2222222222222222,\"#7201a8\"],[0.3333333333333333,\"#9c179e\"],[0.4444444444444444,\"#bd3786\"],[0.5555555555555556,\"#d8576b\"],[0.6666666666666666,\"#ed7953\"],[0.7777777777777778,\"#fb9f3a\"],[0.8888888888888888,\"#fdca26\"],[1.0,\"#f0f921\"]]}],\"heatmapgl\":[{\"type\":\"heatmapgl\",\"colorbar\":{\"outlinewidth\":0,\"ticks\":\"\"},\"colorscale\":[[0.0,\"#0d0887\"],[0.1111111111111111,\"#46039f\"],[0.2222222222222222,\"#7201a8\"],[0.3333333333333333,\"#9c179e\"],[0.4444444444444444,\"#bd3786\"],[0.5555555555555556,\"#d8576b\"],[0.6666666666666666,\"#ed7953\"],[0.7777777777777778,\"#fb9f3a\"],[0.8888888888888888,\"#fdca26\"],[1.0,\"#f0f921\"]]}],\"contourcarpet\":[{\"type\":\"contourcarpet\",\"colorbar\":{\"outlinewidth\":0,\"ticks\":\"\"}}],\"contour\":[{\"type\":\"contour\",\"colorbar\":{\"outlinewidth\":0,\"ticks\":\"\"},\"colorscale\":[[0.0,\"#0d0887\"],[0.1111111111111111,\"#46039f\"],[0.2222222222222222,\"#7201a8\"],[0.3333333333333333,\"#9c179e\"],[0.4444444444444444,\"#bd3786\"],[0.5555555555555556,\"#d8576b\"],[0.6666666666666666,\"#ed7953\"],[0.7777777777777778,\"#fb9f3a\"],[0.8888888888888888,\"#fdca26\"],[1.0,\"#f0f921\"]]}],\"surface\":[{\"type\":\"surface\",\"colorbar\":{\"outlinewidth\":0,\"ticks\":\"\"},\"colorscale\":[[0.0,\"#0d0887\"],[0.1111111111111111,\"#46039f\"],[0.2222222222222222,\"#7201a8\"],[0.3333333333333333,\"#9c179e\"],[0.4444444444444444,\"#bd3786\"],[0.5555555555555556,\"#d8576b\"],[0.6666666666666666,\"#ed7953\"],[0.7777777777777778,\"#fb9f3a\"],[0.8888888888888888,\"#fdca26\"],[1.0,\"#f0f921\"]]}],\"mesh3d\":[{\"type\":\"mesh3d\",\"colorbar\":{\"outlinewidth\":0,\"ticks\":\"\"}}],\"scatter\":[{\"fillpattern\":{\"fillmode\":\"overlay\",\"size\":10,\"solidity\":0.2},\"type\":\"scatter\"}],\"parcoords\":[{\"type\":\"parcoords\",\"line\":{\"colorbar\":{\"outlinewidth\":0,\"ticks\":\"\"}}}],\"scatterpolargl\":[{\"type\":\"scatterpolargl\",\"marker\":{\"colorbar\":{\"outlinewidth\":0,\"ticks\":\"\"}}}],\"bar\":[{\"error_x\":{\"color\":\"#2a3f5f\"},\"error_y\":{\"color\":\"#2a3f5f\"},\"marker\":{\"line\":{\"color\":\"#E5ECF6\",\"width\":0.5},\"pattern\":{\"fillmode\":\"overlay\",\"size\":10,\"solidity\":0.2}},\"type\":\"bar\"}],\"scattergeo\":[{\"type\":\"scattergeo\",\"marker\":{\"colorbar\":{\"outlinewidth\":0,\"ticks\":\"\"}}}],\"scatterpolar\":[{\"type\":\"scatterpolar\",\"marker\":{\"colorbar\":{\"outlinewidth\":0,\"ticks\":\"\"}}}],\"histogram\":[{\"marker\":{\"pattern\":{\"fillmode\":\"overlay\",\"size\":10,\"solidity\":0.2}},\"type\":\"histogram\"}],\"scattergl\":[{\"type\":\"scattergl\",\"marker\":{\"colorbar\":{\"outlinewidth\":0,\"ticks\":\"\"}}}],\"scatter3d\":[{\"type\":\"scatter3d\",\"line\":{\"colorbar\":{\"outlinewidth\":0,\"ticks\":\"\"}},\"marker\":{\"colorbar\":{\"outlinewidth\":0,\"ticks\":\"\"}}}],\"scattermapbox\":[{\"type\":\"scattermapbox\",\"marker\":{\"colorbar\":{\"outlinewidth\":0,\"ticks\":\"\"}}}],\"scatterternary\":[{\"type\":\"scatterternary\",\"marker\":{\"colorbar\":{\"outlinewidth\":0,\"ticks\":\"\"}}}],\"scattercarpet\":[{\"type\":\"scattercarpet\",\"marker\":{\"colorbar\":{\"outlinewidth\":0,\"ticks\":\"\"}}}],\"carpet\":[{\"aaxis\":{\"endlinecolor\":\"#2a3f5f\",\"gridcolor\":\"white\",\"linecolor\":\"white\",\"minorgridcolor\":\"white\",\"startlinecolor\":\"#2a3f5f\"},\"baxis\":{\"endlinecolor\":\"#2a3f5f\",\"gridcolor\":\"white\",\"linecolor\":\"white\",\"minorgridcolor\":\"white\",\"startlinecolor\":\"#2a3f5f\"},\"type\":\"carpet\"}],\"table\":[{\"cells\":{\"fill\":{\"color\":\"#EBF0F8\"},\"line\":{\"color\":\"white\"}},\"header\":{\"fill\":{\"color\":\"#C8D4E3\"},\"line\":{\"color\":\"white\"}},\"type\":\"table\"}],\"barpolar\":[{\"marker\":{\"line\":{\"color\":\"#E5ECF6\",\"width\":0.5},\"pattern\":{\"fillmode\":\"overlay\",\"size\":10,\"solidity\":0.2}},\"type\":\"barpolar\"}],\"pie\":[{\"automargin\":true,\"type\":\"pie\"}]},\"layout\":{\"autotypenumbers\":\"strict\",\"colorway\":[\"#636efa\",\"#EF553B\",\"#00cc96\",\"#ab63fa\",\"#FFA15A\",\"#19d3f3\",\"#FF6692\",\"#B6E880\",\"#FF97FF\",\"#FECB52\"],\"font\":{\"color\":\"#2a3f5f\"},\"hovermode\":\"closest\",\"hoverlabel\":{\"align\":\"left\"},\"paper_bgcolor\":\"white\",\"plot_bgcolor\":\"#E5ECF6\",\"polar\":{\"bgcolor\":\"#E5ECF6\",\"angularaxis\":{\"gridcolor\":\"white\",\"linecolor\":\"white\",\"ticks\":\"\"},\"radialaxis\":{\"gridcolor\":\"white\",\"linecolor\":\"white\",\"ticks\":\"\"}},\"ternary\":{\"bgcolor\":\"#E5ECF6\",\"aaxis\":{\"gridcolor\":\"white\",\"linecolor\":\"white\",\"ticks\":\"\"},\"baxis\":{\"gridcolor\":\"white\",\"linecolor\":\"white\",\"ticks\":\"\"},\"caxis\":{\"gridcolor\":\"white\",\"linecolor\":\"white\",\"ticks\":\"\"}},\"coloraxis\":{\"colorbar\":{\"outlinewidth\":0,\"ticks\":\"\"}},\"colorscale\":{\"sequential\":[[0.0,\"#0d0887\"],[0.1111111111111111,\"#46039f\"],[0.2222222222222222,\"#7201a8\"],[0.3333333333333333,\"#9c179e\"],[0.4444444444444444,\"#bd3786\"],[0.5555555555555556,\"#d8576b\"],[0.6666666666666666,\"#ed7953\"],[0.7777777777777778,\"#fb9f3a\"],[0.8888888888888888,\"#fdca26\"],[1.0,\"#f0f921\"]],\"sequentialminus\":[[0.0,\"#0d0887\"],[0.1111111111111111,\"#46039f\"],[0.2222222222222222,\"#7201a8\"],[0.3333333333333333,\"#9c179e\"],[0.4444444444444444,\"#bd3786\"],[0.5555555555555556,\"#d8576b\"],[0.6666666666666666,\"#ed7953\"],[0.7777777777777778,\"#fb9f3a\"],[0.8888888888888888,\"#fdca26\"],[1.0,\"#f0f921\"]],\"diverging\":[[0,\"#8e0152\"],[0.1,\"#c51b7d\"],[0.2,\"#de77ae\"],[0.3,\"#f1b6da\"],[0.4,\"#fde0ef\"],[0.5,\"#f7f7f7\"],[0.6,\"#e6f5d0\"],[0.7,\"#b8e186\"],[0.8,\"#7fbc41\"],[0.9,\"#4d9221\"],[1,\"#276419\"]]},\"xaxis\":{\"gridcolor\":\"white\",\"linecolor\":\"white\",\"ticks\":\"\",\"title\":{\"standoff\":15},\"zerolinecolor\":\"white\",\"automargin\":true,\"zerolinewidth\":2},\"yaxis\":{\"gridcolor\":\"white\",\"linecolor\":\"white\",\"ticks\":\"\",\"title\":{\"standoff\":15},\"zerolinecolor\":\"white\",\"automargin\":true,\"zerolinewidth\":2},\"scene\":{\"xaxis\":{\"backgroundcolor\":\"#E5ECF6\",\"gridcolor\":\"white\",\"linecolor\":\"white\",\"showbackground\":true,\"ticks\":\"\",\"zerolinecolor\":\"white\",\"gridwidth\":2},\"yaxis\":{\"backgroundcolor\":\"#E5ECF6\",\"gridcolor\":\"white\",\"linecolor\":\"white\",\"showbackground\":true,\"ticks\":\"\",\"zerolinecolor\":\"white\",\"gridwidth\":2},\"zaxis\":{\"backgroundcolor\":\"#E5ECF6\",\"gridcolor\":\"white\",\"linecolor\":\"white\",\"showbackground\":true,\"ticks\":\"\",\"zerolinecolor\":\"white\",\"gridwidth\":2}},\"shapedefaults\":{\"line\":{\"color\":\"#2a3f5f\"}},\"annotationdefaults\":{\"arrowcolor\":\"#2a3f5f\",\"arrowhead\":0,\"arrowwidth\":1},\"geo\":{\"bgcolor\":\"white\",\"landcolor\":\"#E5ECF6\",\"subunitcolor\":\"white\",\"showland\":true,\"showlakes\":true,\"lakecolor\":\"white\"},\"title\":{\"x\":0.05},\"mapbox\":{\"style\":\"light\"}}},\"plot_bgcolor\":\"rgb(209, 217, 222)\",\"title\":{\"font\":{\"color\":\"black\"},\"text\":\"Average DINOv2S Test F1 Macro Scores with Fluctuations for images selected from multiclass and trained on multilabel\"},\"legend\":{\"font\":{\"color\":\"black\"}},\"xaxis\":{\"title\":{\"font\":{\"color\":\"black\",\"family\":\"Arial\"},\"text\":\"Amount of Training Samples\"},\"tickfont\":{\"color\":\"black\"},\"type\":\"log\"},\"yaxis\":{\"title\":{\"font\":{\"color\":\"black\",\"family\":\"Arial\"},\"text\":\"Test F1 Score\"},\"tickfont\":{\"color\":\"black\"}}},                        {\"responsive\": true}                    ).then(function(){\n",
       "                            \n",
       "var gd = document.getElementById('87d291b6-7acc-4d83-8e94-c97881fbece8');\n",
       "var x = new MutationObserver(function (mutations, observer) {{\n",
       "        var display = window.getComputedStyle(gd).display;\n",
       "        if (!display || display === 'none') {{\n",
       "            console.log([gd, 'removed!']);\n",
       "            Plotly.purge(gd);\n",
       "            observer.disconnect();\n",
       "        }}\n",
       "}});\n",
       "\n",
       "// Listen for the removal of the full notebook cells\n",
       "var notebookContainer = gd.closest('#notebook-container');\n",
       "if (notebookContainer) {{\n",
       "    x.observe(notebookContainer, {childList: true});\n",
       "}}\n",
       "\n",
       "// Listen for the clearing of the current output cell\n",
       "var outputEl = gd.closest('.output');\n",
       "if (outputEl) {{\n",
       "    x.observe(outputEl, {childList: true});\n",
       "}}\n",
       "\n",
       "                        })                };                });            </script>        </div>"
      ]
     },
     "metadata": {},
     "output_type": "display_data"
    }
   ],
   "source": [
    "import pickle\n",
    "import numpy as np\n",
    "import os\n",
    "import plotly.graph_objects as go\n",
    "\n",
    "def read_and_average_test_f1(root_folder, run_folders, filename_template, file_indices):\n",
    "    \"\"\"\n",
    "    Reads pickle files for a specific strategy, extracts test F1 scores, and computes their average across runs.\n",
    "    \"\"\"\n",
    "    performance_test_data_all = []\n",
    "\n",
    "    for run_folder, file_index in zip(run_folders, file_indices):\n",
    "        pickle_filename = filename_template.format(file_index)  # Dynamically generate filenames\n",
    "        pickle_path = os.path.join(root_folder, run_folder, pickle_filename)\n",
    "        \n",
    "        print(f\"Loading pickle file: {pickle_path}\")\n",
    "        with open(pickle_path, 'rb') as pickle_file:\n",
    "            results = pickle.load(pickle_file)\n",
    "            performance_test_data_all.append(results[\"test_f1_scores_macro\"])\n",
    "\n",
    "    # Calculate the average test F1 score across runs\n",
    "    average_test_f1 = np.mean(performance_test_data_all, axis=0)\n",
    "    return average_test_f1\n",
    "\n",
    "def read_test_f1_min_max(root_folder, run_folders, filename_template, file_indices):\n",
    "    \"\"\"\n",
    "    Reads pickle files for a specific strategy, extracts test F1 scores, and computes their min and max across runs.\n",
    "    \"\"\"\n",
    "    performance_test_data_all = []\n",
    "\n",
    "    for run_folder, file_index in zip(run_folders, file_indices):\n",
    "        pickle_filename = filename_template.format(file_index)  # Dynamically generate filenames\n",
    "        pickle_path = os.path.join(root_folder, run_folder, pickle_filename)\n",
    "        \n",
    "        print(f\"Loading pickle file: {pickle_path}\")\n",
    "        with open(pickle_path, 'rb') as pickle_file:\n",
    "            results = pickle.load(pickle_file)\n",
    "            performance_test_data_all.append(results[\"test_f1_scores_macro\"])\n",
    "\n",
    "    # Convert to a NumPy array for easier computation\n",
    "    performance_test_data_all = np.array(performance_test_data_all)\n",
    "    # Calculate min and max F1 scores across runs\n",
    "    min_f1 = np.min(performance_test_data_all, axis=0)\n",
    "    max_f1 = np.max(performance_test_data_all, axis=0)\n",
    "\n",
    "    return min_f1, max_f1\n",
    "\n",
    "def plot_all_test_performance_with_fluctuations(no_of_samples, performances, min_max_values, strategies, title, x_axes, y_axes):\n",
    "    \"\"\"\n",
    "    Plots the average test F1 scores of multiple strategies with fluctuation ranges shaded.\n",
    "    \"\"\"\n",
    "    fig = go.Figure()\n",
    "    fig.update_layout(plot_bgcolor='rgb(209, 217, 222)')\n",
    "\n",
    "    # Add dashed lines for sample numbers and text labels on top of the graph\n",
    "    samples_text = [str(f) for f in no_of_samples]\n",
    "    for line, label in zip(no_of_samples, samples_text):\n",
    "        fig.add_trace(go.Scatter(\n",
    "            x=[line, line],\n",
    "            y=[0, 1.12],\n",
    "            mode='lines',\n",
    "            line=dict(dash='dash', color='rgb(149, 162, 171)', width=1),\n",
    "            showlegend=False\n",
    "        ))\n",
    "\n",
    "        fig.add_trace(go.Scatter(\n",
    "            x=[line],\n",
    "            y=[1.13],\n",
    "            mode='text',\n",
    "            marker=dict(size=0),\n",
    "            text=[label],\n",
    "            textposition='top center',\n",
    "            showlegend=False,\n",
    "            textfont=dict(family='Arial', color='black', size=8.5)\n",
    "        ))\n",
    "\n",
    "    # Define the color palette, with random sampling in red and other strategies in different shades of green\n",
    "    colors = [\n",
    "        'rgb(97, 192, 134)',  # Green for margin sampling\n",
    "        'rgb(45, 140, 58)',   # Darker green for entropy sampling\n",
    "        'rgb(151, 193, 57)',  # Lighter green for uncertainty sampling\n",
    "        'rgb(255, 0, 0)'      # Red for random sampling\n",
    "    ]\n",
    "\n",
    "    # Add traces for each strategy\n",
    "    for idx, (performance, (min_performance, max_performance), strategy) in enumerate(zip(performances, min_max_values, strategies)):\n",
    "        # Ensure random sampling is always red\n",
    "        color = colors[strategies.index(strategy)]\n",
    "        \n",
    "        # Add the shaded region (fluctuation range)\n",
    "        fig.add_trace(go.Scatter(\n",
    "            x=no_of_samples + no_of_samples[::-1],\n",
    "            y=list(max_performance) + list(min_performance)[::-1],\n",
    "            fill='toself',\n",
    "            fillcolor=color.replace('rgb', 'rgba').replace(')', ',0.2)'),  # Add transparency\n",
    "            line=dict(width=0),  # No border for shaded region\n",
    "            showlegend=False,  # Don't show a separate legend entry for the shaded region\n",
    "            legendgroup=strategy  # Group with the corresponding line\n",
    "        ))\n",
    "        \n",
    "        # Add the average line\n",
    "        fig.add_trace(go.Scatter(\n",
    "            x=no_of_samples,\n",
    "            y=performance,\n",
    "            name=f\"{strategy} (final: {performance[-1]:.3f})\",\n",
    "            marker=dict(color=color),\n",
    "            textfont=dict(family=\"Arial\", size=11),\n",
    "            line=dict(width=2),\n",
    "            legendgroup=strategy  # Group with the shaded region\n",
    "        ))\n",
    "\n",
    "    fig.update_layout(\n",
    "        title_text=str(title),\n",
    "        legend=dict(font=dict(color='black')),\n",
    "        title_font_color='black'\n",
    "    )\n",
    "\n",
    "    # Set the x-axis to be on a log scale\n",
    "    fig.update_xaxes(\n",
    "        title_text=str(x_axes),\n",
    "        title_font=dict(color=\"black\", family=\"Arial\"),\n",
    "        tickfont_color='black',\n",
    "        type=\"log\"\n",
    "    )\n",
    "\n",
    "    # Update y-axis for test F1 score\n",
    "    fig.update_yaxes(\n",
    "        title_text=str(y_axes),\n",
    "        title_font=dict(color=\"black\", family=\"Arial\"),\n",
    "        tickfont_color='black'\n",
    "    )\n",
    "\n",
    "    fig.show()\n",
    "\n",
    "# Define file paths and folders for each strategy\n",
    "strategies = ['margin_sampling', 'entropy_sampling', 'uncertainty_sampling', 'random_sampling']\n",
    "root_folders = {\n",
    "    'margin_sampling': \"/home/woody/iwfa/iwfa044h/CleanLab_Test/ActiveLearningApproaches/EOD/DInoS/multilabel_from_multiclass_2/AL/MS\",\n",
    "    'entropy_sampling': \"/home/woody/iwfa/iwfa044h/CleanLab_Test/ActiveLearningApproaches/EOD/DInoS/multilabel_from_multiclass_2/AL/ES\",\n",
    "    'uncertainty_sampling': \"/home/woody/iwfa/iwfa044h/CleanLab_Test/ActiveLearningApproaches/EOD/DInoS/multilabel_from_multiclass_2/AL/US\",\n",
    "    'random_sampling': \"/home/woody/iwfa/iwfa044h/CleanLab_Test/ActiveLearningApproaches/EOD/DInoS/multilabel_from_multiclass_2/RS\"\n",
    "}\n",
    "run_folders = [f\"run{i}\" for i in range(1, 6)]\n",
    "file_indices = [2, 3, 4, 5, 6]  # Corresponding indices for the filenames\n",
    "\n",
    "# Template for filenames for each strategy\n",
    "filename_templates = {\n",
    "    'margin_sampling': \"AL_margin_sampling_results_for_multilabel_classification_s4{}.pickle\",\n",
    "    'entropy_sampling': \"AL_entropy_sampling_results_for_multilabel_classification_s4{}.pickle\",\n",
    "    'uncertainty_sampling': \"AL_uncertainty_sampling_results_for_multilabel_classification_s4{}.pickle\",\n",
    "    'random_sampling': \"random_sampling_results_for_multilabel_classification_s4{}.pickle\"\n",
    "}\n",
    "\n",
    "# Sample counts\n",
    "no_of_samples = [8, 24, 56, 112, 212, 388, 704, 1264, 2264, 4048, 7200, 12824, 22824, 26880]\n",
    "\n",
    "# Calculate averages and fluctuation ranges for each strategy\n",
    "performances = []\n",
    "min_max_values = []\n",
    "for strategy in strategies:\n",
    "    average_f1 = read_and_average_test_f1(\n",
    "        root_folder=root_folders[strategy],\n",
    "        run_folders=run_folders,\n",
    "        filename_template=filename_templates[strategy],\n",
    "        file_indices=file_indices\n",
    "    )\n",
    "    min_f1, max_f1 = read_test_f1_min_max(\n",
    "        root_folder=root_folders[strategy],\n",
    "        run_folders=run_folders,\n",
    "        filename_template=filename_templates[strategy],\n",
    "        file_indices=file_indices\n",
    "    )\n",
    "    performances.append(average_f1)\n",
    "    min_max_values.append((min_f1, max_f1))\n",
    "\n",
    "# Plot the results with fluctuation shading\n",
    "plot_all_test_performance_with_fluctuations(\n",
    "    no_of_samples, \n",
    "    performances, \n",
    "    min_max_values, \n",
    "    strategies, \n",
    "    title=\"Average DINOv2S Test F1 Macro Scores with Fluctuations for images selected from multiclass and trained on multilabel\",\n",
    "    x_axes=\"Amount of Training Samples\",\n",
    "    y_axes=\"Test F1 Score\"\n",
    ")\n"
   ]
  },
  {
   "cell_type": "code",
   "execution_count": 7,
   "metadata": {},
   "outputs": [
    {
     "name": "stdout",
     "output_type": "stream",
     "text": [
      "T-test between Random Sampling vs margin_sampling:\n",
      "T-statistic: 0.214, P-value: 0.832\n",
      "No significant difference (p >= 0.05)\n",
      "\n",
      "T-test between Random Sampling vs entropy_sampling:\n",
      "T-statistic: 0.102, P-value: 0.920\n",
      "No significant difference (p >= 0.05)\n",
      "\n",
      "T-test between Random Sampling vs uncertainty_sampling:\n",
      "T-statistic: 0.111, P-value: 0.912\n",
      "No significant difference (p >= 0.05)\n",
      "\n",
      "T-test between margin_sampling vs entropy_sampling:\n",
      "T-statistic: -0.123, P-value: 0.903\n",
      "No significant difference (p >= 0.05)\n",
      "\n",
      "T-test between margin_sampling vs uncertainty_sampling:\n",
      "T-statistic: -0.106, P-value: 0.916\n",
      "No significant difference (p >= 0.05)\n",
      "\n",
      "T-test between entropy_sampling vs uncertainty_sampling:\n",
      "T-statistic: 0.014, P-value: 0.989\n",
      "No significant difference (p >= 0.05)\n",
      "\n"
     ]
    }
   ],
   "source": [
    "from scipy import stats\n",
    "\n",
    "def perform_t_tests(performances, strategies):\n",
    "    \"\"\"\n",
    "    Perform t-tests and calculate p-values between each active learning approach and random sampling,\n",
    "    as well as between all pairs of active learning strategies.\n",
    "    \"\"\"\n",
    "    random_sampling_performance = performances[strategies.index('random_sampling')]  # Random sampling F1 scores\n",
    "    \n",
    "    # List to store results\n",
    "    t_test_results = []\n",
    "    \n",
    "    # Compare each active learning approach with random sampling\n",
    "    for strategy, performance in zip(strategies, performances):\n",
    "        if strategy == 'random_sampling':\n",
    "            continue  # Skip random sampling, since it's compared with others\n",
    "        \n",
    "        # Perform t-test between the random_sampling and the current strategy\n",
    "        t_stat, p_value = stats.ttest_ind(random_sampling_performance, performance, equal_var=False)  # Welch's t-test\n",
    "        \n",
    "        # Append the result\n",
    "        t_test_results.append((f\"Random Sampling vs {strategy}\", t_stat, p_value))\n",
    "    \n",
    "    # Compare all pairs of active learning strategies\n",
    "    for i in range(len(strategies)):\n",
    "        for j in range(i + 1, len(strategies)):\n",
    "            if strategies[i] != 'random_sampling' and strategies[j] != 'random_sampling':\n",
    "                strategy_1, strategy_2 = strategies[i], strategies[j]\n",
    "                performance_1, performance_2 = performances[i], performances[j]\n",
    "                \n",
    "                # Perform t-test between the two active learning strategies\n",
    "                t_stat, p_value = stats.ttest_ind(performance_1, performance_2, equal_var=False)  # Welch's t-test\n",
    "                \n",
    "                # Append the result\n",
    "                t_test_results.append((f\"{strategy_1} vs {strategy_2}\", t_stat, p_value))\n",
    "\n",
    "    # Display results\n",
    "    for comparison, t_stat, p_value in t_test_results:\n",
    "        print(f\"T-test between {comparison}:\")\n",
    "        print(f\"T-statistic: {t_stat:.3f}, P-value: {p_value:.3f}\")\n",
    "        if p_value < 0.05:\n",
    "            print(f\"Statistically significant difference (p < 0.05)\\n\")\n",
    "        else:\n",
    "            print(f\"No significant difference (p >= 0.05)\\n\")\n",
    "\n",
    "# Perform t-tests and display p-values\n",
    "perform_t_tests(performances, strategies)\n"
   ]
  },
  {
   "cell_type": "code",
   "execution_count": 7,
   "metadata": {},
   "outputs": [
    {
     "name": "stdout",
     "output_type": "stream",
     "text": [
      "Loading pickle file: /home/woody/iwfa/iwfa044h/CleanLab_Test/ActiveLearningApproaches/EOD/DInoS/multilabel_from_multiclass_2/AL/MS/run1/AL_margin_sampling_results_for_multilabel_classification_s42.pickle\n",
      "Loading pickle file: /home/woody/iwfa/iwfa044h/CleanLab_Test/ActiveLearningApproaches/EOD/DInoS/multilabel_from_multiclass_2/AL/MS/run2/AL_margin_sampling_results_for_multilabel_classification_s43.pickle\n",
      "Loading pickle file: /home/woody/iwfa/iwfa044h/CleanLab_Test/ActiveLearningApproaches/EOD/DInoS/multilabel_from_multiclass_2/AL/MS/run3/AL_margin_sampling_results_for_multilabel_classification_s44.pickle\n",
      "Loading pickle file: /home/woody/iwfa/iwfa044h/CleanLab_Test/ActiveLearningApproaches/EOD/DInoS/multilabel_from_multiclass_2/AL/MS/run4/AL_margin_sampling_results_for_multilabel_classification_s45.pickle\n",
      "Loading pickle file: /home/woody/iwfa/iwfa044h/CleanLab_Test/ActiveLearningApproaches/EOD/DInoS/multilabel_from_multiclass_2/AL/MS/run5/AL_margin_sampling_results_for_multilabel_classification_s46.pickle\n"
     ]
    },
    {
     "data": {
      "image/png": "[encoded data removed]",
      "text/plain": [
       "<Figure size 720x432 with 1 Axes>"
      ]
     },
     "metadata": {
      "needs_background": "light"
     },
     "output_type": "display_data"
    },
    {
     "name": "stdout",
     "output_type": "stream",
     "text": [
      "Loading pickle file: /home/woody/iwfa/iwfa044h/CleanLab_Test/ActiveLearningApproaches/EOD/DInoS/multilabel_from_multiclass_2/AL/ES/run1/AL_entropy_sampling_results_for_multilabel_classification_s42.pickle\n",
      "Loading pickle file: /home/woody/iwfa/iwfa044h/CleanLab_Test/ActiveLearningApproaches/EOD/DInoS/multilabel_from_multiclass_2/AL/ES/run2/AL_entropy_sampling_results_for_multilabel_classification_s43.pickle\n",
      "Loading pickle file: /home/woody/iwfa/iwfa044h/CleanLab_Test/ActiveLearningApproaches/EOD/DInoS/multilabel_from_multiclass_2/AL/ES/run3/AL_entropy_sampling_results_for_multilabel_classification_s44.pickle\n",
      "Loading pickle file: /home/woody/iwfa/iwfa044h/CleanLab_Test/ActiveLearningApproaches/EOD/DInoS/multilabel_from_multiclass_2/AL/ES/run4/AL_entropy_sampling_results_for_multilabel_classification_s45.pickle\n",
      "Loading pickle file: /home/woody/iwfa/iwfa044h/CleanLab_Test/ActiveLearningApproaches/EOD/DInoS/multilabel_from_multiclass_2/AL/ES/run5/AL_entropy_sampling_results_for_multilabel_classification_s46.pickle\n"
     ]
    },
    {
     "data": {
      "image/png": "[encoded data removed]",
      "text/plain": [
       "<Figure size 720x432 with 1 Axes>"
      ]
     },
     "metadata": {
      "needs_background": "light"
     },
     "output_type": "display_data"
    },
    {
     "name": "stdout",
     "output_type": "stream",
     "text": [
      "Loading pickle file: /home/woody/iwfa/iwfa044h/CleanLab_Test/ActiveLearningApproaches/EOD/DInoS/multilabel_from_multiclass_2/AL/US/run1/AL_uncertainty_sampling_results_for_multilabel_classification_s42.pickle\n",
      "Loading pickle file: /home/woody/iwfa/iwfa044h/CleanLab_Test/ActiveLearningApproaches/EOD/DInoS/multilabel_from_multiclass_2/AL/US/run2/AL_uncertainty_sampling_results_for_multilabel_classification_s43.pickle\n",
      "Loading pickle file: /home/woody/iwfa/iwfa044h/CleanLab_Test/ActiveLearningApproaches/EOD/DInoS/multilabel_from_multiclass_2/AL/US/run3/AL_uncertainty_sampling_results_for_multilabel_classification_s44.pickle\n",
      "Loading pickle file: /home/woody/iwfa/iwfa044h/CleanLab_Test/ActiveLearningApproaches/EOD/DInoS/multilabel_from_multiclass_2/AL/US/run4/AL_uncertainty_sampling_results_for_multilabel_classification_s45.pickle\n",
      "Loading pickle file: /home/woody/iwfa/iwfa044h/CleanLab_Test/ActiveLearningApproaches/EOD/DInoS/multilabel_from_multiclass_2/AL/US/run5/AL_uncertainty_sampling_results_for_multilabel_classification_s46.pickle\n"
     ]
    },
    {
     "data": {
      "image/png": "[encoded data removed]",
      "text/plain": [
       "<Figure size 720x432 with 1 Axes>"
      ]
     },
     "metadata": {
      "needs_background": "light"
     },
     "output_type": "display_data"
    },
    {
     "name": "stdout",
     "output_type": "stream",
     "text": [
      "Loading pickle file: /home/woody/iwfa/iwfa044h/CleanLab_Test/ActiveLearningApproaches/EOD/DInoS/multilabel_from_multiclass_2/RS/run1/random_sampling_results_for_multilabel_classification_s42.pickle\n",
      "Loading pickle file: /home/woody/iwfa/iwfa044h/CleanLab_Test/ActiveLearningApproaches/EOD/DInoS/multilabel_from_multiclass_2/RS/run2/random_sampling_results_for_multilabel_classification_s43.pickle\n",
      "Loading pickle file: /home/woody/iwfa/iwfa044h/CleanLab_Test/ActiveLearningApproaches/EOD/DInoS/multilabel_from_multiclass_2/RS/run3/random_sampling_results_for_multilabel_classification_s44.pickle\n",
      "Loading pickle file: /home/woody/iwfa/iwfa044h/CleanLab_Test/ActiveLearningApproaches/EOD/DInoS/multilabel_from_multiclass_2/RS/run4/random_sampling_results_for_multilabel_classification_s45.pickle\n",
      "Loading pickle file: /home/woody/iwfa/iwfa044h/CleanLab_Test/ActiveLearningApproaches/EOD/DInoS/multilabel_from_multiclass_2/RS/run5/random_sampling_results_for_multilabel_classification_s46.pickle\n"
     ]
    },
    {
     "data": {
      "image/png": "[encoded data removed]",
      "text/plain": [
       "<Figure size 720x432 with 1 Axes>"
      ]
     },
     "metadata": {
      "needs_background": "light"
     },
     "output_type": "display_data"
    }
   ],
   "source": [
    "import pickle\n",
    "import numpy as np\n",
    "import matplotlib.pyplot as plt\n",
    "import os\n",
    "\n",
    "def read_f1_scores(root_folder, run_folders, filename_template, file_indices):\n",
    "    \"\"\"\n",
    "    Reads pickle files for a specific strategy and extracts F1 scores across runs.\n",
    "    \"\"\"\n",
    "    performance_test_data_all = []\n",
    "\n",
    "    for run_folder, file_index in zip(run_folders, file_indices):\n",
    "        pickle_filename = filename_template.format(file_index)  # Dynamically generate filenames\n",
    "        pickle_path = os.path.join(root_folder, run_folder, pickle_filename)\n",
    "\n",
    "        print(f\"Loading pickle file: {pickle_path}\")\n",
    "        with open(pickle_path, 'rb') as pickle_file:\n",
    "            results = pickle.load(pickle_file)\n",
    "            performance_test_data_all.append(results[\"test_f1_scores_micro\"])  # Adjusted for \"micro\" scores\n",
    "\n",
    "    # Convert to a NumPy array for easier computation\n",
    "    return np.array(performance_test_data_all)\n",
    "\n",
    "def plot_with_std(iterations, f1_scores, title, xlabel, ylabel):\n",
    "    \"\"\"\n",
    "    Plots the mean F1 score with a shaded region representing ±1 standard deviation.\n",
    "    \"\"\"\n",
    "    mean_f1 = np.mean(f1_scores, axis=0)  # Mean F1 score\n",
    "    std_f1 = np.std(f1_scores, axis=0)    # Standard deviation\n",
    "\n",
    "    plt.figure(figsize=(10, 6))\n",
    "\n",
    "    # Plot the mean F1 score\n",
    "    plt.plot(iterations, mean_f1, label=\"Mean F1 Score\", color=\"blue\")\n",
    "\n",
    "    # Add a shaded area for the variation (mean ± std deviation)\n",
    "    plt.fill_between(iterations, mean_f1 - std_f1, mean_f1 + std_f1, color=\"blue\", alpha=0.2, label=\"±1 Standard Deviation\")\n",
    "\n",
    "    # Customize the plot\n",
    "    plt.title(title)\n",
    "    plt.xlabel(xlabel)\n",
    "    plt.ylabel(ylabel)\n",
    "    plt.xticks(iterations)\n",
    "\n",
    "    # Set y-axis to logarithmic scale\n",
    "    plt.yscale('log')\n",
    "\n",
    "    # Adjust grid for better readability\n",
    "    plt.grid(True, which=\"both\", linestyle='--', linewidth=0.5)\n",
    "    plt.legend()\n",
    "\n",
    "    # Show the plot\n",
    "    plt.show()\n",
    "\n",
    "# Define file paths and folders for each strategy\n",
    "strategies = ['margin_sampling', 'entropy_sampling', 'uncertainty_sampling', 'random_sampling']\n",
    "root_folders = {\n",
    "    'margin_sampling': \"/home/woody/iwfa/iwfa044h/CleanLab_Test/ActiveLearningApproaches/EOD/DInoS/multilabel_from_multiclass_2/AL/MS\",\n",
    "    'entropy_sampling': \"/home/woody/iwfa/iwfa044h/CleanLab_Test/ActiveLearningApproaches/EOD/DInoS/multilabel_from_multiclass_2/AL/ES\",\n",
    "    'uncertainty_sampling': \"/home/woody/iwfa/iwfa044h/CleanLab_Test/ActiveLearningApproaches/EOD/DInoS/multilabel_from_multiclass_2/AL/US\",\n",
    "    'random_sampling': \"/home/woody/iwfa/iwfa044h/CleanLab_Test/ActiveLearningApproaches/EOD/DInoS/multilabel_from_multiclass_2/RS\"\n",
    "}\n",
    "run_folders = [f\"run{i}\" for i in range(1, 6)]\n",
    "file_indices = [2, 3, 4, 5, 6]  # Corresponding indices for the filenames\n",
    "\n",
    "filename_templates = {\n",
    "    'margin_sampling': \"AL_margin_sampling_results_for_multilabel_classification_s4{}.pickle\",\n",
    "    'entropy_sampling': \"AL_entropy_sampling_results_for_multilabel_classification_s4{}.pickle\",\n",
    "    'uncertainty_sampling': \"AL_uncertainty_sampling_results_for_multilabel_classification_s4{}.pickle\",\n",
    "    'random_sampling': \"random_sampling_results_for_multilabel_classification_s4{}.pickle\"\n",
    "}\n",
    "\n",
    "# Sample counts\n",
    "iterations = np.arange(1, 15)  # Define iterations\n",
    "\n",
    "# Plot for each strategy\n",
    "for strategy in strategies:\n",
    "    f1_scores = read_f1_scores(\n",
    "        root_folder=root_folders[strategy],\n",
    "        run_folders=run_folders,\n",
    "        filename_template=filename_templates[strategy],\n",
    "        file_indices=file_indices\n",
    "    )\n",
    "    plot_with_std(\n",
    "        iterations,\n",
    "        f1_scores,\n",
    "        title=f\"{strategy.capitalize()} Sampling\",\n",
    "        xlabel=\"Iteration\",\n",
    "        ylabel=\"F1 Score (Micro)\"\n",
    "    )\n"
   ]
  }
 ],
 "metadata": {
  "kernelspec": {
   "display_name": "ActiveLearning01",
   "language": "python",
   "name": "python3"
  },
  "language_info": {
   "codemirror_mode": {
    "name": "ipython",
    "version": 3
   },
   "file_extension": ".py",
   "mimetype": "text/x-python",
   "name": "python",
   "nbconvert_exporter": "python",
   "pygments_lexer": "ipython3",
   "version": "3.8.19"
  }
 },
 "nbformat": 4,
 "nbformat_minor": 2
}
