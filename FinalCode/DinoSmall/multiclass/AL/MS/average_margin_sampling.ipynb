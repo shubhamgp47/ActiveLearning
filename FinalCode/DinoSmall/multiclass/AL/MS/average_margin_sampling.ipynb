{
 "cells": [
  {
   "cell_type": "code",
   "execution_count": 4,
   "metadata": {},
   "outputs": [
    {
     "name": "stdout",
     "output_type": "stream",
     "text": [
      "Loading pickle file for run 1: /home/woody/iwfa/iwfa044h/CleanLab_Test/ActiveLearningApproaches/EOD/DInoS/multiclass/AL/MS/run1/AL_margin_sampling_results_for_multiclass_classification_s42.pickle\n",
      "Loading CSV file for run 1: /home/woody/iwfa/iwfa044h/CleanLab_Test/ActiveLearningApproaches/EOD/DInoS/multiclass/AL/MS/run1/training_history_s42.csv\n",
      "Loading pickle file for run 2: /home/woody/iwfa/iwfa044h/CleanLab_Test/ActiveLearningApproaches/EOD/DInoS/multiclass/AL/MS/run2/AL_margin_sampling_results_for_multiclass_classification_s43.pickle\n",
      "Loading CSV file for run 2: /home/woody/iwfa/iwfa044h/CleanLab_Test/ActiveLearningApproaches/EOD/DInoS/multiclass/AL/MS/run2/training_history_s43.csv\n",
      "Loading pickle file for run 3: /home/woody/iwfa/iwfa044h/CleanLab_Test/ActiveLearningApproaches/EOD/DInoS/multiclass/AL/MS/run3/AL_margin_sampling_results_for_multiclass_classification_s44.pickle\n",
      "Loading CSV file for run 3: /home/woody/iwfa/iwfa044h/CleanLab_Test/ActiveLearningApproaches/EOD/DInoS/multiclass/AL/MS/run3/training_history_s44.csv\n",
      "Loading pickle file for run 4: /home/woody/iwfa/iwfa044h/CleanLab_Test/ActiveLearningApproaches/EOD/DInoS/multiclass/AL/MS/run4/AL_margin_sampling_results_for_multiclass_classification_s45.pickle\n",
      "Loading CSV file for run 4: /home/woody/iwfa/iwfa044h/CleanLab_Test/ActiveLearningApproaches/EOD/DInoS/multiclass/AL/MS/run4/training_history_s45.csv\n",
      "Loading pickle file for run 5: /home/woody/iwfa/iwfa044h/CleanLab_Test/ActiveLearningApproaches/EOD/DInoS/multiclass/AL/MS/run5/AL_margin_sampling_results_for_multiclass_classification_s46.pickle\n",
      "Loading CSV file for run 5: /home/woody/iwfa/iwfa044h/CleanLab_Test/ActiveLearningApproaches/EOD/DInoS/multiclass/AL/MS/run5/training_history_s46.csv\n",
      "Loading pickle file for run 6: /home/woody/iwfa/iwfa044h/CleanLab_Test/ActiveLearningApproaches/EOD/DInoS/multiclass/AL/MS/run6/AL_margin_sampling_results_for_multiclass_classification_s47.pickle\n",
      "Loading CSV file for run 6: /home/woody/iwfa/iwfa044h/CleanLab_Test/ActiveLearningApproaches/EOD/DInoS/multiclass/AL/MS/run6/training_history_s47.csv\n",
      "Loading pickle file for run 7: /home/woody/iwfa/iwfa044h/CleanLab_Test/ActiveLearningApproaches/EOD/DInoS/multiclass/AL/MS/run7/AL_margin_sampling_results_for_multiclass_classification_s48.pickle\n",
      "Loading CSV file for run 7: /home/woody/iwfa/iwfa044h/CleanLab_Test/ActiveLearningApproaches/EOD/DInoS/multiclass/AL/MS/run7/training_history_s48.csv\n",
      "Loading pickle file for run 8: /home/woody/iwfa/iwfa044h/CleanLab_Test/ActiveLearningApproaches/EOD/DInoS/multiclass/AL/MS/run8/AL_margin_sampling_results_for_multiclass_classification_s49.pickle\n",
      "Loading CSV file for run 8: /home/woody/iwfa/iwfa044h/CleanLab_Test/ActiveLearningApproaches/EOD/DInoS/multiclass/AL/MS/run8/training_history_s49.csv\n",
      "Loading pickle file for run 9: /home/woody/iwfa/iwfa044h/CleanLab_Test/ActiveLearningApproaches/EOD/DInoS/multiclass/AL/MS/run9/AL_margin_sampling_results_for_multiclass_classification_s50.pickle\n",
      "Loading CSV file for run 9: /home/woody/iwfa/iwfa044h/CleanLab_Test/ActiveLearningApproaches/EOD/DInoS/multiclass/AL/MS/run9/training_history_s50.csv\n",
      "Loading pickle file for run 10: /home/woody/iwfa/iwfa044h/CleanLab_Test/ActiveLearningApproaches/EOD/DInoS/multiclass/AL/MS/run10/AL_margin_sampling_results_for_multiclass_classification_s51.pickle\n",
      "Loading CSV file for run 10: /home/woody/iwfa/iwfa044h/CleanLab_Test/ActiveLearningApproaches/EOD/DInoS/multiclass/AL/MS/run10/training_history_s51.csv\n"
     ]
    },
    {
     "data": {
      "application/vnd.plotly.v1+json": {
       "config": {
        "plotlyServerURL": "https://plot.ly"
       },
       "data": [
        {
         "line": {
          "color": "rgb(149, 162, 171)",
          "dash": "dash",
          "width": 1
         },
         "mode": "lines",
         "showlegend": false,
         "type": "scatter",
         "x": [
          8,
          8
         ],
         "y": [
          0,
          1.12
         ],
         "yaxis": "y2"
        },
        {
         "marker": {
          "size": 0
         },
         "mode": "text",
         "showlegend": false,
         "text": [
          "8"
         ],
         "textfont": {
          "color": "black",
          "family": "Arial",
          "size": 8.5
         },
         "textposition": "top center",
         "type": "scatter",
         "x": [
          8
         ],
         "y": [
          1.13
         ],
         "yaxis": "y2"
        },
        {
         "line": {
          "color": "rgb(149, 162, 171)",
          "dash": "dash",
          "width": 1
         },
         "mode": "lines",
         "showlegend": false,
         "type": "scatter",
         "x": [
          24,
          24
         ],
         "y": [
          0,
          1.12
         ],
         "yaxis": "y2"
        },
        {
         "marker": {
          "size": 0
         },
         "mode": "text",
         "showlegend": false,
         "text": [
          "24"
         ],
         "textfont": {
          "color": "black",
          "family": "Arial",
          "size": 8.5
         },
         "textposition": "top center",
         "type": "scatter",
         "x": [
          24
         ],
         "y": [
          1.13
         ],
         "yaxis": "y2"
        },
        {
         "line": {
          "color": "rgb(149, 162, 171)",
          "dash": "dash",
          "width": 1
         },
         "mode": "lines",
         "showlegend": false,
         "type": "scatter",
         "x": [
          56,
          56
         ],
         "y": [
          0,
          1.12
         ],
         "yaxis": "y2"
        },
        {
         "marker": {
          "size": 0
         },
         "mode": "text",
         "showlegend": false,
         "text": [
          "56"
         ],
         "textfont": {
          "color": "black",
          "family": "Arial",
          "size": 8.5
         },
         "textposition": "top center",
         "type": "scatter",
         "x": [
          56
         ],
         "y": [
          1.13
         ],
         "yaxis": "y2"
        },
        {
         "line": {
          "color": "rgb(149, 162, 171)",
          "dash": "dash",
          "width": 1
         },
         "mode": "lines",
         "showlegend": false,
         "type": "scatter",
         "x": [
          112,
          112
         ],
         "y": [
          0,
          1.12
         ],
         "yaxis": "y2"
        },
        {
         "marker": {
          "size": 0
         },
         "mode": "text",
         "showlegend": false,
         "text": [
          "112"
         ],
         "textfont": {
          "color": "black",
          "family": "Arial",
          "size": 8.5
         },
         "textposition": "top center",
         "type": "scatter",
         "x": [
          112
         ],
         "y": [
          1.13
         ],
         "yaxis": "y2"
        },
        {
         "line": {
          "color": "rgb(149, 162, 171)",
          "dash": "dash",
          "width": 1
         },
         "mode": "lines",
         "showlegend": false,
         "type": "scatter",
         "x": [
          212,
          212
         ],
         "y": [
          0,
          1.12
         ],
         "yaxis": "y2"
        },
        {
         "marker": {
          "size": 0
         },
         "mode": "text",
         "showlegend": false,
         "text": [
          "212"
         ],
         "textfont": {
          "color": "black",
          "family": "Arial",
          "size": 8.5
         },
         "textposition": "top center",
         "type": "scatter",
         "x": [
          212
         ],
         "y": [
          1.13
         ],
         "yaxis": "y2"
        },
        {
         "line": {
          "color": "rgb(149, 162, 171)",
          "dash": "dash",
          "width": 1
         },
         "mode": "lines",
         "showlegend": false,
         "type": "scatter",
         "x": [
          388,
          388
         ],
         "y": [
          0,
          1.12
         ],
         "yaxis": "y2"
        },
        {
         "marker": {
          "size": 0
         },
         "mode": "text",
         "showlegend": false,
         "text": [
          "388"
         ],
         "textfont": {
          "color": "black",
          "family": "Arial",
          "size": 8.5
         },
         "textposition": "top center",
         "type": "scatter",
         "x": [
          388
         ],
         "y": [
          1.13
         ],
         "yaxis": "y2"
        },
        {
         "line": {
          "color": "rgb(149, 162, 171)",
          "dash": "dash",
          "width": 1
         },
         "mode": "lines",
         "showlegend": false,
         "type": "scatter",
         "x": [
          704,
          704
         ],
         "y": [
          0,
          1.12
         ],
         "yaxis": "y2"
        },
        {
         "marker": {
          "size": 0
         },
         "mode": "text",
         "showlegend": false,
         "text": [
          "704"
         ],
         "textfont": {
          "color": "black",
          "family": "Arial",
          "size": 8.5
         },
         "textposition": "top center",
         "type": "scatter",
         "x": [
          704
         ],
         "y": [
          1.13
         ],
         "yaxis": "y2"
        },
        {
         "line": {
          "color": "rgb(149, 162, 171)",
          "dash": "dash",
          "width": 1
         },
         "mode": "lines",
         "showlegend": false,
         "type": "scatter",
         "x": [
          1264,
          1264
         ],
         "y": [
          0,
          1.12
         ],
         "yaxis": "y2"
        },
        {
         "marker": {
          "size": 0
         },
         "mode": "text",
         "showlegend": false,
         "text": [
          "1264"
         ],
         "textfont": {
          "color": "black",
          "family": "Arial",
          "size": 8.5
         },
         "textposition": "top center",
         "type": "scatter",
         "x": [
          1264
         ],
         "y": [
          1.13
         ],
         "yaxis": "y2"
        },
        {
         "line": {
          "color": "rgb(149, 162, 171)",
          "dash": "dash",
          "width": 1
         },
         "mode": "lines",
         "showlegend": false,
         "type": "scatter",
         "x": [
          2264,
          2264
         ],
         "y": [
          0,
          1.12
         ],
         "yaxis": "y2"
        },
        {
         "marker": {
          "size": 0
         },
         "mode": "text",
         "showlegend": false,
         "text": [
          "2264"
         ],
         "textfont": {
          "color": "black",
          "family": "Arial",
          "size": 8.5
         },
         "textposition": "top center",
         "type": "scatter",
         "x": [
          2264
         ],
         "y": [
          1.13
         ],
         "yaxis": "y2"
        },
        {
         "line": {
          "color": "rgb(149, 162, 171)",
          "dash": "dash",
          "width": 1
         },
         "mode": "lines",
         "showlegend": false,
         "type": "scatter",
         "x": [
          4048,
          4048
         ],
         "y": [
          0,
          1.12
         ],
         "yaxis": "y2"
        },
        {
         "marker": {
          "size": 0
         },
         "mode": "text",
         "showlegend": false,
         "text": [
          "4048"
         ],
         "textfont": {
          "color": "black",
          "family": "Arial",
          "size": 8.5
         },
         "textposition": "top center",
         "type": "scatter",
         "x": [
          4048
         ],
         "y": [
          1.13
         ],
         "yaxis": "y2"
        },
        {
         "line": {
          "color": "rgb(149, 162, 171)",
          "dash": "dash",
          "width": 1
         },
         "mode": "lines",
         "showlegend": false,
         "type": "scatter",
         "x": [
          7200,
          7200
         ],
         "y": [
          0,
          1.12
         ],
         "yaxis": "y2"
        },
        {
         "marker": {
          "size": 0
         },
         "mode": "text",
         "showlegend": false,
         "text": [
          "7200"
         ],
         "textfont": {
          "color": "black",
          "family": "Arial",
          "size": 8.5
         },
         "textposition": "top center",
         "type": "scatter",
         "x": [
          7200
         ],
         "y": [
          1.13
         ],
         "yaxis": "y2"
        },
        {
         "line": {
          "color": "rgb(149, 162, 171)",
          "dash": "dash",
          "width": 1
         },
         "mode": "lines",
         "showlegend": false,
         "type": "scatter",
         "x": [
          12824,
          12824
         ],
         "y": [
          0,
          1.12
         ],
         "yaxis": "y2"
        },
        {
         "marker": {
          "size": 0
         },
         "mode": "text",
         "showlegend": false,
         "text": [
          "12824"
         ],
         "textfont": {
          "color": "black",
          "family": "Arial",
          "size": 8.5
         },
         "textposition": "top center",
         "type": "scatter",
         "x": [
          12824
         ],
         "y": [
          1.13
         ],
         "yaxis": "y2"
        },
        {
         "line": {
          "color": "rgb(149, 162, 171)",
          "dash": "dash",
          "width": 1
         },
         "mode": "lines",
         "showlegend": false,
         "type": "scatter",
         "x": [
          22824,
          22824
         ],
         "y": [
          0,
          1.12
         ],
         "yaxis": "y2"
        },
        {
         "marker": {
          "size": 0
         },
         "mode": "text",
         "showlegend": false,
         "text": [
          "22824"
         ],
         "textfont": {
          "color": "black",
          "family": "Arial",
          "size": 8.5
         },
         "textposition": "top center",
         "type": "scatter",
         "x": [
          22824
         ],
         "y": [
          1.13
         ],
         "yaxis": "y2"
        },
        {
         "line": {
          "color": "rgb(149, 162, 171)",
          "dash": "dash",
          "width": 1
         },
         "mode": "lines",
         "showlegend": false,
         "type": "scatter",
         "x": [
          26880,
          26880
         ],
         "y": [
          0,
          1.12
         ],
         "yaxis": "y2"
        },
        {
         "marker": {
          "size": 0
         },
         "mode": "text",
         "showlegend": false,
         "text": [
          "26880"
         ],
         "textfont": {
          "color": "black",
          "family": "Arial",
          "size": 8.5
         },
         "textposition": "top center",
         "type": "scatter",
         "x": [
          26880
         ],
         "y": [
          1.13
         ],
         "yaxis": "y2"
        },
        {
         "line": {
          "width": 2
         },
         "marker": {
          "color": "rgb(97,192,134)"
         },
         "name": "Val loss (0.923)",
         "textfont": {
          "family": "Arial",
          "size": 11
         },
         "type": "scatter",
         "x": [
          8,
          24,
          56,
          112,
          212,
          388,
          704,
          1264,
          2264,
          4048,
          7200,
          12824,
          22824,
          26880
         ],
         "xaxis": "x",
         "y": [
          2.0679650996956562,
          1.6672727961175973,
          1.4131727604568003,
          1.1739722319278454,
          1.0119747475017276,
          0.8600923237142464,
          0.7389665378071368,
          0.6780883699759013,
          0.6441991820201899,
          0.648482128303084,
          0.6703252181718644,
          0.7310364293667954,
          0.793935015998092,
          0.9227910810579397
         ],
         "yaxis": "y"
        },
        {
         "line": {
          "width": 2
         },
         "marker": {
          "color": "rgb(245,130,31)"
         },
         "name": "Val F1 score (0.823)",
         "textfont": {
          "family": "Arial",
          "size": 11
         },
         "type": "scatter",
         "x": [
          8,
          24,
          56,
          112,
          212,
          388,
          704,
          1264,
          2264,
          4048,
          7200,
          12824,
          22824,
          26880
         ],
         "xaxis": "x",
         "y": [
          0.21078124999999998,
          0.46032986111111107,
          0.5602777777777777,
          0.6600173611111111,
          0.7047222222222222,
          0.7552777777777777,
          0.7910590277777777,
          0.8059722222222223,
          0.8174131944444444,
          0.8167361111111111,
          0.8174305555555555,
          0.8177777777777779,
          0.824965277777778,
          0.8231770833333334
         ],
         "yaxis": "y2"
        }
       ],
       "layout": {
        "legend": {
         "font": {
          "color": "black"
         }
        },
        "plot_bgcolor": "rgb(209, 217, 222)",
        "template": {
         "data": {
          "bar": [
           {
            "error_x": {
             "color": "#2a3f5f"
            },
            "error_y": {
             "color": "#2a3f5f"
            },
            "marker": {
             "line": {
              "color": "#E5ECF6",
              "width": 0.5
             },
             "pattern": {
              "fillmode": "overlay",
              "size": 10,
              "solidity": 0.2
             }
            },
            "type": "bar"
           }
          ],
          "barpolar": [
           {
            "marker": {
             "line": {
              "color": "#E5ECF6",
              "width": 0.5
             },
             "pattern": {
              "fillmode": "overlay",
              "size": 10,
              "solidity": 0.2
             }
            },
            "type": "barpolar"
           }
          ],
          "carpet": [
           {
            "aaxis": {
             "endlinecolor": "#2a3f5f",
             "gridcolor": "white",
             "linecolor": "white",
             "minorgridcolor": "white",
             "startlinecolor": "#2a3f5f"
            },
            "baxis": {
             "endlinecolor": "#2a3f5f",
             "gridcolor": "white",
             "linecolor": "white",
             "minorgridcolor": "white",
             "startlinecolor": "#2a3f5f"
            },
            "type": "carpet"
           }
          ],
          "choropleth": [
           {
            "colorbar": {
             "outlinewidth": 0,
             "ticks": ""
            },
            "type": "choropleth"
           }
          ],
          "contour": [
           {
            "colorbar": {
             "outlinewidth": 0,
             "ticks": ""
            },
            "colorscale": [
             [
              0,
              "#0d0887"
             ],
             [
              0.1111111111111111,
              "#46039f"
             ],
             [
              0.2222222222222222,
              "#7201a8"
             ],
             [
              0.3333333333333333,
              "#9c179e"
             ],
             [
              0.4444444444444444,
              "#bd3786"
             ],
             [
              0.5555555555555556,
              "#d8576b"
             ],
             [
              0.6666666666666666,
              "#ed7953"
             ],
             [
              0.7777777777777778,
              "#fb9f3a"
             ],
             [
              0.8888888888888888,
              "#fdca26"
             ],
             [
              1,
              "#f0f921"
             ]
            ],
            "type": "contour"
           }
          ],
          "contourcarpet": [
           {
            "colorbar": {
             "outlinewidth": 0,
             "ticks": ""
            },
            "type": "contourcarpet"
           }
          ],
          "heatmap": [
           {
            "colorbar": {
             "outlinewidth": 0,
             "ticks": ""
            },
            "colorscale": [
             [
              0,
              "#0d0887"
             ],
             [
              0.1111111111111111,
              "#46039f"
             ],
             [
              0.2222222222222222,
              "#7201a8"
             ],
             [
              0.3333333333333333,
              "#9c179e"
             ],
             [
              0.4444444444444444,
              "#bd3786"
             ],
             [
              0.5555555555555556,
              "#d8576b"
             ],
             [
              0.6666666666666666,
              "#ed7953"
             ],
             [
              0.7777777777777778,
              "#fb9f3a"
             ],
             [
              0.8888888888888888,
              "#fdca26"
             ],
             [
              1,
              "#f0f921"
             ]
            ],
            "type": "heatmap"
           }
          ],
          "heatmapgl": [
           {
            "colorbar": {
             "outlinewidth": 0,
             "ticks": ""
            },
            "colorscale": [
             [
              0,
              "#0d0887"
             ],
             [
              0.1111111111111111,
              "#46039f"
             ],
             [
              0.2222222222222222,
              "#7201a8"
             ],
             [
              0.3333333333333333,
              "#9c179e"
             ],
             [
              0.4444444444444444,
              "#bd3786"
             ],
             [
              0.5555555555555556,
              "#d8576b"
             ],
             [
              0.6666666666666666,
              "#ed7953"
             ],
             [
              0.7777777777777778,
              "#fb9f3a"
             ],
             [
              0.8888888888888888,
              "#fdca26"
             ],
             [
              1,
              "#f0f921"
             ]
            ],
            "type": "heatmapgl"
           }
          ],
          "histogram": [
           {
            "marker": {
             "pattern": {
              "fillmode": "overlay",
              "size": 10,
              "solidity": 0.2
             }
            },
            "type": "histogram"
           }
          ],
          "histogram2d": [
           {
            "colorbar": {
             "outlinewidth": 0,
             "ticks": ""
            },
            "colorscale": [
             [
              0,
              "#0d0887"
             ],
             [
              0.1111111111111111,
              "#46039f"
             ],
             [
              0.2222222222222222,
              "#7201a8"
             ],
             [
              0.3333333333333333,
              "#9c179e"
             ],
             [
              0.4444444444444444,
              "#bd3786"
             ],
             [
              0.5555555555555556,
              "#d8576b"
             ],
             [
              0.6666666666666666,
              "#ed7953"
             ],
             [
              0.7777777777777778,
              "#fb9f3a"
             ],
             [
              0.8888888888888888,
              "#fdca26"
             ],
             [
              1,
              "#f0f921"
             ]
            ],
            "type": "histogram2d"
           }
          ],
          "histogram2dcontour": [
           {
            "colorbar": {
             "outlinewidth": 0,
             "ticks": ""
            },
            "colorscale": [
             [
              0,
              "#0d0887"
             ],
             [
              0.1111111111111111,
              "#46039f"
             ],
             [
              0.2222222222222222,
              "#7201a8"
             ],
             [
              0.3333333333333333,
              "#9c179e"
             ],
             [
              0.4444444444444444,
              "#bd3786"
             ],
             [
              0.5555555555555556,
              "#d8576b"
             ],
             [
              0.6666666666666666,
              "#ed7953"
             ],
             [
              0.7777777777777778,
              "#fb9f3a"
             ],
             [
              0.8888888888888888,
              "#fdca26"
             ],
             [
              1,
              "#f0f921"
             ]
            ],
            "type": "histogram2dcontour"
           }
          ],
          "mesh3d": [
           {
            "colorbar": {
             "outlinewidth": 0,
             "ticks": ""
            },
            "type": "mesh3d"
           }
          ],
          "parcoords": [
           {
            "line": {
             "colorbar": {
              "outlinewidth": 0,
              "ticks": ""
             }
            },
            "type": "parcoords"
           }
          ],
          "pie": [
           {
            "automargin": true,
            "type": "pie"
           }
          ],
          "scatter": [
           {
            "fillpattern": {
             "fillmode": "overlay",
             "size": 10,
             "solidity": 0.2
            },
            "type": "scatter"
           }
          ],
          "scatter3d": [
           {
            "line": {
             "colorbar": {
              "outlinewidth": 0,
              "ticks": ""
             }
            },
            "marker": {
             "colorbar": {
              "outlinewidth": 0,
              "ticks": ""
             }
            },
            "type": "scatter3d"
           }
          ],
          "scattercarpet": [
           {
            "marker": {
             "colorbar": {
              "outlinewidth": 0,
              "ticks": ""
             }
            },
            "type": "scattercarpet"
           }
          ],
          "scattergeo": [
           {
            "marker": {
             "colorbar": {
              "outlinewidth": 0,
              "ticks": ""
             }
            },
            "type": "scattergeo"
           }
          ],
          "scattergl": [
           {
            "marker": {
             "colorbar": {
              "outlinewidth": 0,
              "ticks": ""
             }
            },
            "type": "scattergl"
           }
          ],
          "scattermapbox": [
           {
            "marker": {
             "colorbar": {
              "outlinewidth": 0,
              "ticks": ""
             }
            },
            "type": "scattermapbox"
           }
          ],
          "scatterpolar": [
           {
            "marker": {
             "colorbar": {
              "outlinewidth": 0,
              "ticks": ""
             }
            },
            "type": "scatterpolar"
           }
          ],
          "scatterpolargl": [
           {
            "marker": {
             "colorbar": {
              "outlinewidth": 0,
              "ticks": ""
             }
            },
            "type": "scatterpolargl"
           }
          ],
          "scatterternary": [
           {
            "marker": {
             "colorbar": {
              "outlinewidth": 0,
              "ticks": ""
             }
            },
            "type": "scatterternary"
           }
          ],
          "surface": [
           {
            "colorbar": {
             "outlinewidth": 0,
             "ticks": ""
            },
            "colorscale": [
             [
              0,
              "#0d0887"
             ],
             [
              0.1111111111111111,
              "#46039f"
             ],
             [
              0.2222222222222222,
              "#7201a8"
             ],
             [
              0.3333333333333333,
              "#9c179e"
             ],
             [
              0.4444444444444444,
              "#bd3786"
             ],
             [
              0.5555555555555556,
              "#d8576b"
             ],
             [
              0.6666666666666666,
              "#ed7953"
             ],
             [
              0.7777777777777778,
              "#fb9f3a"
             ],
             [
              0.8888888888888888,
              "#fdca26"
             ],
             [
              1,
              "#f0f921"
             ]
            ],
            "type": "surface"
           }
          ],
          "table": [
           {
            "cells": {
             "fill": {
              "color": "#EBF0F8"
             },
             "line": {
              "color": "white"
             }
            },
            "header": {
             "fill": {
              "color": "#C8D4E3"
             },
             "line": {
              "color": "white"
             }
            },
            "type": "table"
           }
          ]
         },
         "layout": {
          "annotationdefaults": {
           "arrowcolor": "#2a3f5f",
           "arrowhead": 0,
           "arrowwidth": 1
          },
          "autotypenumbers": "strict",
          "coloraxis": {
           "colorbar": {
            "outlinewidth": 0,
            "ticks": ""
           }
          },
          "colorscale": {
           "diverging": [
            [
             0,
             "#8e0152"
            ],
            [
             0.1,
             "#c51b7d"
            ],
            [
             0.2,
             "#de77ae"
            ],
            [
             0.3,
             "#f1b6da"
            ],
            [
             0.4,
             "#fde0ef"
            ],
            [
             0.5,
             "#f7f7f7"
            ],
            [
             0.6,
             "#e6f5d0"
            ],
            [
             0.7,
             "#b8e186"
            ],
            [
             0.8,
             "#7fbc41"
            ],
            [
             0.9,
             "#4d9221"
            ],
            [
             1,
             "#276419"
            ]
           ],
           "sequential": [
            [
             0,
             "#0d0887"
            ],
            [
             0.1111111111111111,
             "#46039f"
            ],
            [
             0.2222222222222222,
             "#7201a8"
            ],
            [
             0.3333333333333333,
             "#9c179e"
            ],
            [
             0.4444444444444444,
             "#bd3786"
            ],
            [
             0.5555555555555556,
             "#d8576b"
            ],
            [
             0.6666666666666666,
             "#ed7953"
            ],
            [
             0.7777777777777778,
             "#fb9f3a"
            ],
            [
             0.8888888888888888,
             "#fdca26"
            ],
            [
             1,
             "#f0f921"
            ]
           ],
           "sequentialminus": [
            [
             0,
             "#0d0887"
            ],
            [
             0.1111111111111111,
             "#46039f"
            ],
            [
             0.2222222222222222,
             "#7201a8"
            ],
            [
             0.3333333333333333,
             "#9c179e"
            ],
            [
             0.4444444444444444,
             "#bd3786"
            ],
            [
             0.5555555555555556,
             "#d8576b"
            ],
            [
             0.6666666666666666,
             "#ed7953"
            ],
            [
             0.7777777777777778,
             "#fb9f3a"
            ],
            [
             0.8888888888888888,
             "#fdca26"
            ],
            [
             1,
             "#f0f921"
            ]
           ]
          },
          "colorway": [
           "#636efa",
           "#EF553B",
           "#00cc96",
           "#ab63fa",
           "#FFA15A",
           "#19d3f3",
           "#FF6692",
           "#B6E880",
           "#FF97FF",
           "#FECB52"
          ],
          "font": {
           "color": "#2a3f5f"
          },
          "geo": {
           "bgcolor": "white",
           "lakecolor": "white",
           "landcolor": "#E5ECF6",
           "showlakes": true,
           "showland": true,
           "subunitcolor": "white"
          },
          "hoverlabel": {
           "align": "left"
          },
          "hovermode": "closest",
          "mapbox": {
           "style": "light"
          },
          "paper_bgcolor": "white",
          "plot_bgcolor": "#E5ECF6",
          "polar": {
           "angularaxis": {
            "gridcolor": "white",
            "linecolor": "white",
            "ticks": ""
           },
           "bgcolor": "#E5ECF6",
           "radialaxis": {
            "gridcolor": "white",
            "linecolor": "white",
            "ticks": ""
           }
          },
          "scene": {
           "xaxis": {
            "backgroundcolor": "#E5ECF6",
            "gridcolor": "white",
            "gridwidth": 2,
            "linecolor": "white",
            "showbackground": true,
            "ticks": "",
            "zerolinecolor": "white"
           },
           "yaxis": {
            "backgroundcolor": "#E5ECF6",
            "gridcolor": "white",
            "gridwidth": 2,
            "linecolor": "white",
            "showbackground": true,
            "ticks": "",
            "zerolinecolor": "white"
           },
           "zaxis": {
            "backgroundcolor": "#E5ECF6",
            "gridcolor": "white",
            "gridwidth": 2,
            "linecolor": "white",
            "showbackground": true,
            "ticks": "",
            "zerolinecolor": "white"
           }
          },
          "shapedefaults": {
           "line": {
            "color": "#2a3f5f"
           }
          },
          "ternary": {
           "aaxis": {
            "gridcolor": "white",
            "linecolor": "white",
            "ticks": ""
           },
           "baxis": {
            "gridcolor": "white",
            "linecolor": "white",
            "ticks": ""
           },
           "bgcolor": "#E5ECF6",
           "caxis": {
            "gridcolor": "white",
            "linecolor": "white",
            "ticks": ""
           }
          },
          "title": {
           "x": 0.05
          },
          "xaxis": {
           "automargin": true,
           "gridcolor": "white",
           "linecolor": "white",
           "ticks": "",
           "title": {
            "standoff": 15
           },
           "zerolinecolor": "white",
           "zerolinewidth": 2
          },
          "yaxis": {
           "automargin": true,
           "gridcolor": "white",
           "linecolor": "white",
           "ticks": "",
           "title": {
            "standoff": 15
           },
           "zerolinecolor": "white",
           "zerolinewidth": 2
          }
         }
        },
        "title": {
         "font": {
          "color": "black"
         },
         "text": "Average Validation Loss and F1 Score for margin sampling"
        },
        "xaxis": {
         "anchor": "y",
         "domain": [
          0,
          0.94
         ],
         "tickfont": {
          "color": "black"
         },
         "title": {
          "font": {
           "color": "black",
           "family": "Arial"
          },
          "text": "Amount of Training Samples"
         },
         "type": "log"
        },
        "yaxis": {
         "anchor": "x",
         "domain": [
          0,
          1
         ],
         "tickfont": {
          "color": "black"
         },
         "title": {
          "font": {
           "color": "black",
           "family": "Arial"
          },
          "text": "Validation Loss"
         }
        },
        "yaxis2": {
         "anchor": "x",
         "overlaying": "y",
         "side": "right",
         "tickfont": {
          "color": "black"
         },
         "title": {
          "font": {
           "color": "black",
           "family": "Arial"
          },
          "text": "Validation F1 Score"
         }
        }
       }
      },
      "text/html": [
       "<div>                            <div id=\"70b0ebc9-12f9-4a46-88e2-c5aa36efdf2d\" class=\"plotly-graph-div\" style=\"height:525px; width:100%;\"></div>            <script type=\"text/javascript\">                require([\"plotly\"], function(Plotly) {                    window.PLOTLYENV=window.PLOTLYENV || {};                                    if (document.getElementById(\"70b0ebc9-12f9-4a46-88e2-c5aa36efdf2d\")) {                    Plotly.newPlot(                        \"70b0ebc9-12f9-4a46-88e2-c5aa36efdf2d\",                        [{\"line\":{\"color\":\"rgb(149, 162, 171)\",\"dash\":\"dash\",\"width\":1},\"mode\":\"lines\",\"showlegend\":false,\"x\":[8,8],\"y\":[0,1.12],\"yaxis\":\"y2\",\"type\":\"scatter\"},{\"marker\":{\"size\":0},\"mode\":\"text\",\"showlegend\":false,\"text\":[\"8\"],\"textfont\":{\"color\":\"black\",\"family\":\"Arial\",\"size\":8.5},\"textposition\":\"top center\",\"x\":[8],\"y\":[1.13],\"yaxis\":\"y2\",\"type\":\"scatter\"},{\"line\":{\"color\":\"rgb(149, 162, 171)\",\"dash\":\"dash\",\"width\":1},\"mode\":\"lines\",\"showlegend\":false,\"x\":[24,24],\"y\":[0,1.12],\"yaxis\":\"y2\",\"type\":\"scatter\"},{\"marker\":{\"size\":0},\"mode\":\"text\",\"showlegend\":false,\"text\":[\"24\"],\"textfont\":{\"color\":\"black\",\"family\":\"Arial\",\"size\":8.5},\"textposition\":\"top center\",\"x\":[24],\"y\":[1.13],\"yaxis\":\"y2\",\"type\":\"scatter\"},{\"line\":{\"color\":\"rgb(149, 162, 171)\",\"dash\":\"dash\",\"width\":1},\"mode\":\"lines\",\"showlegend\":false,\"x\":[56,56],\"y\":[0,1.12],\"yaxis\":\"y2\",\"type\":\"scatter\"},{\"marker\":{\"size\":0},\"mode\":\"text\",\"showlegend\":false,\"text\":[\"56\"],\"textfont\":{\"color\":\"black\",\"family\":\"Arial\",\"size\":8.5},\"textposition\":\"top center\",\"x\":[56],\"y\":[1.13],\"yaxis\":\"y2\",\"type\":\"scatter\"},{\"line\":{\"color\":\"rgb(149, 162, 171)\",\"dash\":\"dash\",\"width\":1},\"mode\":\"lines\",\"showlegend\":false,\"x\":[112,112],\"y\":[0,1.12],\"yaxis\":\"y2\",\"type\":\"scatter\"},{\"marker\":{\"size\":0},\"mode\":\"text\",\"showlegend\":false,\"text\":[\"112\"],\"textfont\":{\"color\":\"black\",\"family\":\"Arial\",\"size\":8.5},\"textposition\":\"top center\",\"x\":[112],\"y\":[1.13],\"yaxis\":\"y2\",\"type\":\"scatter\"},{\"line\":{\"color\":\"rgb(149, 162, 171)\",\"dash\":\"dash\",\"width\":1},\"mode\":\"lines\",\"showlegend\":false,\"x\":[212,212],\"y\":[0,1.12],\"yaxis\":\"y2\",\"type\":\"scatter\"},{\"marker\":{\"size\":0},\"mode\":\"text\",\"showlegend\":false,\"text\":[\"212\"],\"textfont\":{\"color\":\"black\",\"family\":\"Arial\",\"size\":8.5},\"textposition\":\"top center\",\"x\":[212],\"y\":[1.13],\"yaxis\":\"y2\",\"type\":\"scatter\"},{\"line\":{\"color\":\"rgb(149, 162, 171)\",\"dash\":\"dash\",\"width\":1},\"mode\":\"lines\",\"showlegend\":false,\"x\":[388,388],\"y\":[0,1.12],\"yaxis\":\"y2\",\"type\":\"scatter\"},{\"marker\":{\"size\":0},\"mode\":\"text\",\"showlegend\":false,\"text\":[\"388\"],\"textfont\":{\"color\":\"black\",\"family\":\"Arial\",\"size\":8.5},\"textposition\":\"top center\",\"x\":[388],\"y\":[1.13],\"yaxis\":\"y2\",\"type\":\"scatter\"},{\"line\":{\"color\":\"rgb(149, 162, 171)\",\"dash\":\"dash\",\"width\":1},\"mode\":\"lines\",\"showlegend\":false,\"x\":[704,704],\"y\":[0,1.12],\"yaxis\":\"y2\",\"type\":\"scatter\"},{\"marker\":{\"size\":0},\"mode\":\"text\",\"showlegend\":false,\"text\":[\"704\"],\"textfont\":{\"color\":\"black\",\"family\":\"Arial\",\"size\":8.5},\"textposition\":\"top center\",\"x\":[704],\"y\":[1.13],\"yaxis\":\"y2\",\"type\":\"scatter\"},{\"line\":{\"color\":\"rgb(149, 162, 171)\",\"dash\":\"dash\",\"width\":1},\"mode\":\"lines\",\"showlegend\":false,\"x\":[1264,1264],\"y\":[0,1.12],\"yaxis\":\"y2\",\"type\":\"scatter\"},{\"marker\":{\"size\":0},\"mode\":\"text\",\"showlegend\":false,\"text\":[\"1264\"],\"textfont\":{\"color\":\"black\",\"family\":\"Arial\",\"size\":8.5},\"textposition\":\"top center\",\"x\":[1264],\"y\":[1.13],\"yaxis\":\"y2\",\"type\":\"scatter\"},{\"line\":{\"color\":\"rgb(149, 162, 171)\",\"dash\":\"dash\",\"width\":1},\"mode\":\"lines\",\"showlegend\":false,\"x\":[2264,2264],\"y\":[0,1.12],\"yaxis\":\"y2\",\"type\":\"scatter\"},{\"marker\":{\"size\":0},\"mode\":\"text\",\"showlegend\":false,\"text\":[\"2264\"],\"textfont\":{\"color\":\"black\",\"family\":\"Arial\",\"size\":8.5},\"textposition\":\"top center\",\"x\":[2264],\"y\":[1.13],\"yaxis\":\"y2\",\"type\":\"scatter\"},{\"line\":{\"color\":\"rgb(149, 162, 171)\",\"dash\":\"dash\",\"width\":1},\"mode\":\"lines\",\"showlegend\":false,\"x\":[4048,4048],\"y\":[0,1.12],\"yaxis\":\"y2\",\"type\":\"scatter\"},{\"marker\":{\"size\":0},\"mode\":\"text\",\"showlegend\":false,\"text\":[\"4048\"],\"textfont\":{\"color\":\"black\",\"family\":\"Arial\",\"size\":8.5},\"textposition\":\"top center\",\"x\":[4048],\"y\":[1.13],\"yaxis\":\"y2\",\"type\":\"scatter\"},{\"line\":{\"color\":\"rgb(149, 162, 171)\",\"dash\":\"dash\",\"width\":1},\"mode\":\"lines\",\"showlegend\":false,\"x\":[7200,7200],\"y\":[0,1.12],\"yaxis\":\"y2\",\"type\":\"scatter\"},{\"marker\":{\"size\":0},\"mode\":\"text\",\"showlegend\":false,\"text\":[\"7200\"],\"textfont\":{\"color\":\"black\",\"family\":\"Arial\",\"size\":8.5},\"textposition\":\"top center\",\"x\":[7200],\"y\":[1.13],\"yaxis\":\"y2\",\"type\":\"scatter\"},{\"line\":{\"color\":\"rgb(149, 162, 171)\",\"dash\":\"dash\",\"width\":1},\"mode\":\"lines\",\"showlegend\":false,\"x\":[12824,12824],\"y\":[0,1.12],\"yaxis\":\"y2\",\"type\":\"scatter\"},{\"marker\":{\"size\":0},\"mode\":\"text\",\"showlegend\":false,\"text\":[\"12824\"],\"textfont\":{\"color\":\"black\",\"family\":\"Arial\",\"size\":8.5},\"textposition\":\"top center\",\"x\":[12824],\"y\":[1.13],\"yaxis\":\"y2\",\"type\":\"scatter\"},{\"line\":{\"color\":\"rgb(149, 162, 171)\",\"dash\":\"dash\",\"width\":1},\"mode\":\"lines\",\"showlegend\":false,\"x\":[22824,22824],\"y\":[0,1.12],\"yaxis\":\"y2\",\"type\":\"scatter\"},{\"marker\":{\"size\":0},\"mode\":\"text\",\"showlegend\":false,\"text\":[\"22824\"],\"textfont\":{\"color\":\"black\",\"family\":\"Arial\",\"size\":8.5},\"textposition\":\"top center\",\"x\":[22824],\"y\":[1.13],\"yaxis\":\"y2\",\"type\":\"scatter\"},{\"line\":{\"color\":\"rgb(149, 162, 171)\",\"dash\":\"dash\",\"width\":1},\"mode\":\"lines\",\"showlegend\":false,\"x\":[26880,26880],\"y\":[0,1.12],\"yaxis\":\"y2\",\"type\":\"scatter\"},{\"marker\":{\"size\":0},\"mode\":\"text\",\"showlegend\":false,\"text\":[\"26880\"],\"textfont\":{\"color\":\"black\",\"family\":\"Arial\",\"size\":8.5},\"textposition\":\"top center\",\"x\":[26880],\"y\":[1.13],\"yaxis\":\"y2\",\"type\":\"scatter\"},{\"line\":{\"width\":2},\"marker\":{\"color\":\"rgb(97,192,134)\"},\"name\":\"Val loss (0.923)\",\"textfont\":{\"family\":\"Arial\",\"size\":11},\"x\":[8,24,56,112,212,388,704,1264,2264,4048,7200,12824,22824,26880],\"y\":[2.0679650996956562,1.6672727961175973,1.4131727604568003,1.1739722319278454,1.0119747475017276,0.8600923237142464,0.7389665378071368,0.6780883699759013,0.6441991820201899,0.648482128303084,0.6703252181718644,0.7310364293667954,0.793935015998092,0.9227910810579397],\"type\":\"scatter\",\"xaxis\":\"x\",\"yaxis\":\"y\"},{\"line\":{\"width\":2},\"marker\":{\"color\":\"rgb(245,130,31)\"},\"name\":\"Val F1 score (0.823)\",\"textfont\":{\"family\":\"Arial\",\"size\":11},\"x\":[8,24,56,112,212,388,704,1264,2264,4048,7200,12824,22824,26880],\"y\":[0.21078124999999998,0.46032986111111107,0.5602777777777777,0.6600173611111111,0.7047222222222222,0.7552777777777777,0.7910590277777777,0.8059722222222223,0.8174131944444444,0.8167361111111111,0.8174305555555555,0.8177777777777779,0.824965277777778,0.8231770833333334],\"type\":\"scatter\",\"xaxis\":\"x\",\"yaxis\":\"y2\"}],                        {\"template\":{\"data\":{\"histogram2dcontour\":[{\"type\":\"histogram2dcontour\",\"colorbar\":{\"outlinewidth\":0,\"ticks\":\"\"},\"colorscale\":[[0.0,\"#0d0887\"],[0.1111111111111111,\"#46039f\"],[0.2222222222222222,\"#7201a8\"],[0.3333333333333333,\"#9c179e\"],[0.4444444444444444,\"#bd3786\"],[0.5555555555555556,\"#d8576b\"],[0.6666666666666666,\"#ed7953\"],[0.7777777777777778,\"#fb9f3a\"],[0.8888888888888888,\"#fdca26\"],[1.0,\"#f0f921\"]]}],\"choropleth\":[{\"type\":\"choropleth\",\"colorbar\":{\"outlinewidth\":0,\"ticks\":\"\"}}],\"histogram2d\":[{\"type\":\"histogram2d\",\"colorbar\":{\"outlinewidth\":0,\"ticks\":\"\"},\"colorscale\":[[0.0,\"#0d0887\"],[0.1111111111111111,\"#46039f\"],[0.2222222222222222,\"#7201a8\"],[0.3333333333333333,\"#9c179e\"],[0.4444444444444444,\"#bd3786\"],[0.5555555555555556,\"#d8576b\"],[0.6666666666666666,\"#ed7953\"],[0.7777777777777778,\"#fb9f3a\"],[0.8888888888888888,\"#fdca26\"],[1.0,\"#f0f921\"]]}],\"heatmap\":[{\"type\":\"heatmap\",\"colorbar\":{\"outlinewidth\":0,\"ticks\":\"\"},\"colorscale\":[[0.0,\"#0d0887\"],[0.1111111111111111,\"#46039f\"],[0.2222222222222222,\"#7201a8\"],[0.3333333333333333,\"#9c179e\"],[0.4444444444444444,\"#bd3786\"],[0.5555555555555556,\"#d8576b\"],[0.6666666666666666,\"#ed7953\"],[0.7777777777777778,\"#fb9f3a\"],[0.8888888888888888,\"#fdca26\"],[1.0,\"#f0f921\"]]}],\"heatmapgl\":[{\"type\":\"heatmapgl\",\"colorbar\":{\"outlinewidth\":0,\"ticks\":\"\"},\"colorscale\":[[0.0,\"#0d0887\"],[0.1111111111111111,\"#46039f\"],[0.2222222222222222,\"#7201a8\"],[0.3333333333333333,\"#9c179e\"],[0.4444444444444444,\"#bd3786\"],[0.5555555555555556,\"#d8576b\"],[0.6666666666666666,\"#ed7953\"],[0.7777777777777778,\"#fb9f3a\"],[0.8888888888888888,\"#fdca26\"],[1.0,\"#f0f921\"]]}],\"contourcarpet\":[{\"type\":\"contourcarpet\",\"colorbar\":{\"outlinewidth\":0,\"ticks\":\"\"}}],\"contour\":[{\"type\":\"contour\",\"colorbar\":{\"outlinewidth\":0,\"ticks\":\"\"},\"colorscale\":[[0.0,\"#0d0887\"],[0.1111111111111111,\"#46039f\"],[0.2222222222222222,\"#7201a8\"],[0.3333333333333333,\"#9c179e\"],[0.4444444444444444,\"#bd3786\"],[0.5555555555555556,\"#d8576b\"],[0.6666666666666666,\"#ed7953\"],[0.7777777777777778,\"#fb9f3a\"],[0.8888888888888888,\"#fdca26\"],[1.0,\"#f0f921\"]]}],\"surface\":[{\"type\":\"surface\",\"colorbar\":{\"outlinewidth\":0,\"ticks\":\"\"},\"colorscale\":[[0.0,\"#0d0887\"],[0.1111111111111111,\"#46039f\"],[0.2222222222222222,\"#7201a8\"],[0.3333333333333333,\"#9c179e\"],[0.4444444444444444,\"#bd3786\"],[0.5555555555555556,\"#d8576b\"],[0.6666666666666666,\"#ed7953\"],[0.7777777777777778,\"#fb9f3a\"],[0.8888888888888888,\"#fdca26\"],[1.0,\"#f0f921\"]]}],\"mesh3d\":[{\"type\":\"mesh3d\",\"colorbar\":{\"outlinewidth\":0,\"ticks\":\"\"}}],\"scatter\":[{\"fillpattern\":{\"fillmode\":\"overlay\",\"size\":10,\"solidity\":0.2},\"type\":\"scatter\"}],\"parcoords\":[{\"type\":\"parcoords\",\"line\":{\"colorbar\":{\"outlinewidth\":0,\"ticks\":\"\"}}}],\"scatterpolargl\":[{\"type\":\"scatterpolargl\",\"marker\":{\"colorbar\":{\"outlinewidth\":0,\"ticks\":\"\"}}}],\"bar\":[{\"error_x\":{\"color\":\"#2a3f5f\"},\"error_y\":{\"color\":\"#2a3f5f\"},\"marker\":{\"line\":{\"color\":\"#E5ECF6\",\"width\":0.5},\"pattern\":{\"fillmode\":\"overlay\",\"size\":10,\"solidity\":0.2}},\"type\":\"bar\"}],\"scattergeo\":[{\"type\":\"scattergeo\",\"marker\":{\"colorbar\":{\"outlinewidth\":0,\"ticks\":\"\"}}}],\"scatterpolar\":[{\"type\":\"scatterpolar\",\"marker\":{\"colorbar\":{\"outlinewidth\":0,\"ticks\":\"\"}}}],\"histogram\":[{\"marker\":{\"pattern\":{\"fillmode\":\"overlay\",\"size\":10,\"solidity\":0.2}},\"type\":\"histogram\"}],\"scattergl\":[{\"type\":\"scattergl\",\"marker\":{\"colorbar\":{\"outlinewidth\":0,\"ticks\":\"\"}}}],\"scatter3d\":[{\"type\":\"scatter3d\",\"line\":{\"colorbar\":{\"outlinewidth\":0,\"ticks\":\"\"}},\"marker\":{\"colorbar\":{\"outlinewidth\":0,\"ticks\":\"\"}}}],\"scattermapbox\":[{\"type\":\"scattermapbox\",\"marker\":{\"colorbar\":{\"outlinewidth\":0,\"ticks\":\"\"}}}],\"scatterternary\":[{\"type\":\"scatterternary\",\"marker\":{\"colorbar\":{\"outlinewidth\":0,\"ticks\":\"\"}}}],\"scattercarpet\":[{\"type\":\"scattercarpet\",\"marker\":{\"colorbar\":{\"outlinewidth\":0,\"ticks\":\"\"}}}],\"carpet\":[{\"aaxis\":{\"endlinecolor\":\"#2a3f5f\",\"gridcolor\":\"white\",\"linecolor\":\"white\",\"minorgridcolor\":\"white\",\"startlinecolor\":\"#2a3f5f\"},\"baxis\":{\"endlinecolor\":\"#2a3f5f\",\"gridcolor\":\"white\",\"linecolor\":\"white\",\"minorgridcolor\":\"white\",\"startlinecolor\":\"#2a3f5f\"},\"type\":\"carpet\"}],\"table\":[{\"cells\":{\"fill\":{\"color\":\"#EBF0F8\"},\"line\":{\"color\":\"white\"}},\"header\":{\"fill\":{\"color\":\"#C8D4E3\"},\"line\":{\"color\":\"white\"}},\"type\":\"table\"}],\"barpolar\":[{\"marker\":{\"line\":{\"color\":\"#E5ECF6\",\"width\":0.5},\"pattern\":{\"fillmode\":\"overlay\",\"size\":10,\"solidity\":0.2}},\"type\":\"barpolar\"}],\"pie\":[{\"automargin\":true,\"type\":\"pie\"}]},\"layout\":{\"autotypenumbers\":\"strict\",\"colorway\":[\"#636efa\",\"#EF553B\",\"#00cc96\",\"#ab63fa\",\"#FFA15A\",\"#19d3f3\",\"#FF6692\",\"#B6E880\",\"#FF97FF\",\"#FECB52\"],\"font\":{\"color\":\"#2a3f5f\"},\"hovermode\":\"closest\",\"hoverlabel\":{\"align\":\"left\"},\"paper_bgcolor\":\"white\",\"plot_bgcolor\":\"#E5ECF6\",\"polar\":{\"bgcolor\":\"#E5ECF6\",\"angularaxis\":{\"gridcolor\":\"white\",\"linecolor\":\"white\",\"ticks\":\"\"},\"radialaxis\":{\"gridcolor\":\"white\",\"linecolor\":\"white\",\"ticks\":\"\"}},\"ternary\":{\"bgcolor\":\"#E5ECF6\",\"aaxis\":{\"gridcolor\":\"white\",\"linecolor\":\"white\",\"ticks\":\"\"},\"baxis\":{\"gridcolor\":\"white\",\"linecolor\":\"white\",\"ticks\":\"\"},\"caxis\":{\"gridcolor\":\"white\",\"linecolor\":\"white\",\"ticks\":\"\"}},\"coloraxis\":{\"colorbar\":{\"outlinewidth\":0,\"ticks\":\"\"}},\"colorscale\":{\"sequential\":[[0.0,\"#0d0887\"],[0.1111111111111111,\"#46039f\"],[0.2222222222222222,\"#7201a8\"],[0.3333333333333333,\"#9c179e\"],[0.4444444444444444,\"#bd3786\"],[0.5555555555555556,\"#d8576b\"],[0.6666666666666666,\"#ed7953\"],[0.7777777777777778,\"#fb9f3a\"],[0.8888888888888888,\"#fdca26\"],[1.0,\"#f0f921\"]],\"sequentialminus\":[[0.0,\"#0d0887\"],[0.1111111111111111,\"#46039f\"],[0.2222222222222222,\"#7201a8\"],[0.3333333333333333,\"#9c179e\"],[0.4444444444444444,\"#bd3786\"],[0.5555555555555556,\"#d8576b\"],[0.6666666666666666,\"#ed7953\"],[0.7777777777777778,\"#fb9f3a\"],[0.8888888888888888,\"#fdca26\"],[1.0,\"#f0f921\"]],\"diverging\":[[0,\"#8e0152\"],[0.1,\"#c51b7d\"],[0.2,\"#de77ae\"],[0.3,\"#f1b6da\"],[0.4,\"#fde0ef\"],[0.5,\"#f7f7f7\"],[0.6,\"#e6f5d0\"],[0.7,\"#b8e186\"],[0.8,\"#7fbc41\"],[0.9,\"#4d9221\"],[1,\"#276419\"]]},\"xaxis\":{\"gridcolor\":\"white\",\"linecolor\":\"white\",\"ticks\":\"\",\"title\":{\"standoff\":15},\"zerolinecolor\":\"white\",\"automargin\":true,\"zerolinewidth\":2},\"yaxis\":{\"gridcolor\":\"white\",\"linecolor\":\"white\",\"ticks\":\"\",\"title\":{\"standoff\":15},\"zerolinecolor\":\"white\",\"automargin\":true,\"zerolinewidth\":2},\"scene\":{\"xaxis\":{\"backgroundcolor\":\"#E5ECF6\",\"gridcolor\":\"white\",\"linecolor\":\"white\",\"showbackground\":true,\"ticks\":\"\",\"zerolinecolor\":\"white\",\"gridwidth\":2},\"yaxis\":{\"backgroundcolor\":\"#E5ECF6\",\"gridcolor\":\"white\",\"linecolor\":\"white\",\"showbackground\":true,\"ticks\":\"\",\"zerolinecolor\":\"white\",\"gridwidth\":2},\"zaxis\":{\"backgroundcolor\":\"#E5ECF6\",\"gridcolor\":\"white\",\"linecolor\":\"white\",\"showbackground\":true,\"ticks\":\"\",\"zerolinecolor\":\"white\",\"gridwidth\":2}},\"shapedefaults\":{\"line\":{\"color\":\"#2a3f5f\"}},\"annotationdefaults\":{\"arrowcolor\":\"#2a3f5f\",\"arrowhead\":0,\"arrowwidth\":1},\"geo\":{\"bgcolor\":\"white\",\"landcolor\":\"#E5ECF6\",\"subunitcolor\":\"white\",\"showland\":true,\"showlakes\":true,\"lakecolor\":\"white\"},\"title\":{\"x\":0.05},\"mapbox\":{\"style\":\"light\"}}},\"xaxis\":{\"anchor\":\"y\",\"domain\":[0.0,0.94],\"title\":{\"font\":{\"color\":\"black\",\"family\":\"Arial\"},\"text\":\"Amount of Training Samples\"},\"tickfont\":{\"color\":\"black\"},\"type\":\"log\"},\"yaxis\":{\"anchor\":\"x\",\"domain\":[0.0,1.0],\"title\":{\"font\":{\"color\":\"black\",\"family\":\"Arial\"},\"text\":\"Validation Loss\"},\"tickfont\":{\"color\":\"black\"}},\"yaxis2\":{\"anchor\":\"x\",\"overlaying\":\"y\",\"side\":\"right\",\"title\":{\"font\":{\"color\":\"black\",\"family\":\"Arial\"},\"text\":\"Validation F1 Score\"},\"tickfont\":{\"color\":\"black\"}},\"plot_bgcolor\":\"rgb(209, 217, 222)\",\"title\":{\"font\":{\"color\":\"black\"},\"text\":\"Average Validation Loss and F1 Score for margin sampling\"},\"legend\":{\"font\":{\"color\":\"black\"}}},                        {\"responsive\": true}                    ).then(function(){\n",
       "                            \n",
       "var gd = document.getElementById('70b0ebc9-12f9-4a46-88e2-c5aa36efdf2d');\n",
       "var x = new MutationObserver(function (mutations, observer) {{\n",
       "        var display = window.getComputedStyle(gd).display;\n",
       "        if (!display || display === 'none') {{\n",
       "            console.log([gd, 'removed!']);\n",
       "            Plotly.purge(gd);\n",
       "            observer.disconnect();\n",
       "        }}\n",
       "}});\n",
       "\n",
       "// Listen for the removal of the full notebook cells\n",
       "var notebookContainer = gd.closest('#notebook-container');\n",
       "if (notebookContainer) {{\n",
       "    x.observe(notebookContainer, {childList: true});\n",
       "}}\n",
       "\n",
       "// Listen for the clearing of the current output cell\n",
       "var outputEl = gd.closest('.output');\n",
       "if (outputEl) {{\n",
       "    x.observe(outputEl, {childList: true});\n",
       "}}\n",
       "\n",
       "                        })                };                });            </script>        </div>"
      ]
     },
     "metadata": {},
     "output_type": "display_data"
    },
    {
     "data": {
      "application/vnd.plotly.v1+json": {
       "config": {
        "plotlyServerURL": "https://plot.ly"
       },
       "data": [
        {
         "line": {
          "color": "rgb(149, 162, 171)",
          "dash": "dash",
          "width": 1
         },
         "mode": "lines",
         "showlegend": false,
         "type": "scatter",
         "x": [
          8,
          8
         ],
         "y": [
          0,
          1.12
         ]
        },
        {
         "marker": {
          "size": 0
         },
         "mode": "text",
         "showlegend": false,
         "text": [
          "8"
         ],
         "textfont": {
          "color": "black",
          "family": "Arial",
          "size": 8.5
         },
         "textposition": "top center",
         "type": "scatter",
         "x": [
          8
         ],
         "y": [
          1.13
         ]
        },
        {
         "line": {
          "color": "rgb(149, 162, 171)",
          "dash": "dash",
          "width": 1
         },
         "mode": "lines",
         "showlegend": false,
         "type": "scatter",
         "x": [
          24,
          24
         ],
         "y": [
          0,
          1.12
         ]
        },
        {
         "marker": {
          "size": 0
         },
         "mode": "text",
         "showlegend": false,
         "text": [
          "24"
         ],
         "textfont": {
          "color": "black",
          "family": "Arial",
          "size": 8.5
         },
         "textposition": "top center",
         "type": "scatter",
         "x": [
          24
         ],
         "y": [
          1.13
         ]
        },
        {
         "line": {
          "color": "rgb(149, 162, 171)",
          "dash": "dash",
          "width": 1
         },
         "mode": "lines",
         "showlegend": false,
         "type": "scatter",
         "x": [
          56,
          56
         ],
         "y": [
          0,
          1.12
         ]
        },
        {
         "marker": {
          "size": 0
         },
         "mode": "text",
         "showlegend": false,
         "text": [
          "56"
         ],
         "textfont": {
          "color": "black",
          "family": "Arial",
          "size": 8.5
         },
         "textposition": "top center",
         "type": "scatter",
         "x": [
          56
         ],
         "y": [
          1.13
         ]
        },
        {
         "line": {
          "color": "rgb(149, 162, 171)",
          "dash": "dash",
          "width": 1
         },
         "mode": "lines",
         "showlegend": false,
         "type": "scatter",
         "x": [
          112,
          112
         ],
         "y": [
          0,
          1.12
         ]
        },
        {
         "marker": {
          "size": 0
         },
         "mode": "text",
         "showlegend": false,
         "text": [
          "112"
         ],
         "textfont": {
          "color": "black",
          "family": "Arial",
          "size": 8.5
         },
         "textposition": "top center",
         "type": "scatter",
         "x": [
          112
         ],
         "y": [
          1.13
         ]
        },
        {
         "line": {
          "color": "rgb(149, 162, 171)",
          "dash": "dash",
          "width": 1
         },
         "mode": "lines",
         "showlegend": false,
         "type": "scatter",
         "x": [
          212,
          212
         ],
         "y": [
          0,
          1.12
         ]
        },
        {
         "marker": {
          "size": 0
         },
         "mode": "text",
         "showlegend": false,
         "text": [
          "212"
         ],
         "textfont": {
          "color": "black",
          "family": "Arial",
          "size": 8.5
         },
         "textposition": "top center",
         "type": "scatter",
         "x": [
          212
         ],
         "y": [
          1.13
         ]
        },
        {
         "line": {
          "color": "rgb(149, 162, 171)",
          "dash": "dash",
          "width": 1
         },
         "mode": "lines",
         "showlegend": false,
         "type": "scatter",
         "x": [
          388,
          388
         ],
         "y": [
          0,
          1.12
         ]
        },
        {
         "marker": {
          "size": 0
         },
         "mode": "text",
         "showlegend": false,
         "text": [
          "388"
         ],
         "textfont": {
          "color": "black",
          "family": "Arial",
          "size": 8.5
         },
         "textposition": "top center",
         "type": "scatter",
         "x": [
          388
         ],
         "y": [
          1.13
         ]
        },
        {
         "line": {
          "color": "rgb(149, 162, 171)",
          "dash": "dash",
          "width": 1
         },
         "mode": "lines",
         "showlegend": false,
         "type": "scatter",
         "x": [
          704,
          704
         ],
         "y": [
          0,
          1.12
         ]
        },
        {
         "marker": {
          "size": 0
         },
         "mode": "text",
         "showlegend": false,
         "text": [
          "704"
         ],
         "textfont": {
          "color": "black",
          "family": "Arial",
          "size": 8.5
         },
         "textposition": "top center",
         "type": "scatter",
         "x": [
          704
         ],
         "y": [
          1.13
         ]
        },
        {
         "line": {
          "color": "rgb(149, 162, 171)",
          "dash": "dash",
          "width": 1
         },
         "mode": "lines",
         "showlegend": false,
         "type": "scatter",
         "x": [
          1264,
          1264
         ],
         "y": [
          0,
          1.12
         ]
        },
        {
         "marker": {
          "size": 0
         },
         "mode": "text",
         "showlegend": false,
         "text": [
          "1264"
         ],
         "textfont": {
          "color": "black",
          "family": "Arial",
          "size": 8.5
         },
         "textposition": "top center",
         "type": "scatter",
         "x": [
          1264
         ],
         "y": [
          1.13
         ]
        },
        {
         "line": {
          "color": "rgb(149, 162, 171)",
          "dash": "dash",
          "width": 1
         },
         "mode": "lines",
         "showlegend": false,
         "type": "scatter",
         "x": [
          2264,
          2264
         ],
         "y": [
          0,
          1.12
         ]
        },
        {
         "marker": {
          "size": 0
         },
         "mode": "text",
         "showlegend": false,
         "text": [
          "2264"
         ],
         "textfont": {
          "color": "black",
          "family": "Arial",
          "size": 8.5
         },
         "textposition": "top center",
         "type": "scatter",
         "x": [
          2264
         ],
         "y": [
          1.13
         ]
        },
        {
         "line": {
          "color": "rgb(149, 162, 171)",
          "dash": "dash",
          "width": 1
         },
         "mode": "lines",
         "showlegend": false,
         "type": "scatter",
         "x": [
          4048,
          4048
         ],
         "y": [
          0,
          1.12
         ]
        },
        {
         "marker": {
          "size": 0
         },
         "mode": "text",
         "showlegend": false,
         "text": [
          "4048"
         ],
         "textfont": {
          "color": "black",
          "family": "Arial",
          "size": 8.5
         },
         "textposition": "top center",
         "type": "scatter",
         "x": [
          4048
         ],
         "y": [
          1.13
         ]
        },
        {
         "line": {
          "color": "rgb(149, 162, 171)",
          "dash": "dash",
          "width": 1
         },
         "mode": "lines",
         "showlegend": false,
         "type": "scatter",
         "x": [
          7200,
          7200
         ],
         "y": [
          0,
          1.12
         ]
        },
        {
         "marker": {
          "size": 0
         },
         "mode": "text",
         "showlegend": false,
         "text": [
          "7200"
         ],
         "textfont": {
          "color": "black",
          "family": "Arial",
          "size": 8.5
         },
         "textposition": "top center",
         "type": "scatter",
         "x": [
          7200
         ],
         "y": [
          1.13
         ]
        },
        {
         "line": {
          "color": "rgb(149, 162, 171)",
          "dash": "dash",
          "width": 1
         },
         "mode": "lines",
         "showlegend": false,
         "type": "scatter",
         "x": [
          12824,
          12824
         ],
         "y": [
          0,
          1.12
         ]
        },
        {
         "marker": {
          "size": 0
         },
         "mode": "text",
         "showlegend": false,
         "text": [
          "12824"
         ],
         "textfont": {
          "color": "black",
          "family": "Arial",
          "size": 8.5
         },
         "textposition": "top center",
         "type": "scatter",
         "x": [
          12824
         ],
         "y": [
          1.13
         ]
        },
        {
         "line": {
          "color": "rgb(149, 162, 171)",
          "dash": "dash",
          "width": 1
         },
         "mode": "lines",
         "showlegend": false,
         "type": "scatter",
         "x": [
          22824,
          22824
         ],
         "y": [
          0,
          1.12
         ]
        },
        {
         "marker": {
          "size": 0
         },
         "mode": "text",
         "showlegend": false,
         "text": [
          "22824"
         ],
         "textfont": {
          "color": "black",
          "family": "Arial",
          "size": 8.5
         },
         "textposition": "top center",
         "type": "scatter",
         "x": [
          22824
         ],
         "y": [
          1.13
         ]
        },
        {
         "line": {
          "color": "rgb(149, 162, 171)",
          "dash": "dash",
          "width": 1
         },
         "mode": "lines",
         "showlegend": false,
         "type": "scatter",
         "x": [
          26880,
          26880
         ],
         "y": [
          0,
          1.12
         ]
        },
        {
         "marker": {
          "size": 0
         },
         "mode": "text",
         "showlegend": false,
         "text": [
          "26880"
         ],
         "textfont": {
          "color": "black",
          "family": "Arial",
          "size": 8.5
         },
         "textposition": "top center",
         "type": "scatter",
         "x": [
          26880
         ],
         "y": [
          1.13
         ]
        },
        {
         "line": {
          "width": 2
         },
         "marker": {
          "color": "rgb(151,193,57)"
         },
         "name": "Test F1 score (0.843)",
         "textfont": {
          "family": "Arial",
          "size": 11
         },
         "type": "scatter",
         "x": [
          8,
          24,
          56,
          112,
          212,
          388,
          704,
          1264,
          2264,
          4048,
          7200,
          12824,
          22824,
          26880
         ],
         "y": [
          0.2331770833333333,
          0.49039930555555555,
          0.5953819444444444,
          0.689982638888889,
          0.736440972222222,
          0.7779513888888889,
          0.8091493055555556,
          0.8209201388888889,
          0.8328125,
          0.8283854166666668,
          0.832951388888889,
          0.8354687499999999,
          0.8418229166666666,
          0.8433159722222223
         ]
        }
       ],
       "layout": {
        "legend": {
         "font": {
          "color": "black"
         }
        },
        "plot_bgcolor": "rgb(209, 217, 222)",
        "template": {
         "data": {
          "bar": [
           {
            "error_x": {
             "color": "#2a3f5f"
            },
            "error_y": {
             "color": "#2a3f5f"
            },
            "marker": {
             "line": {
              "color": "#E5ECF6",
              "width": 0.5
             },
             "pattern": {
              "fillmode": "overlay",
              "size": 10,
              "solidity": 0.2
             }
            },
            "type": "bar"
           }
          ],
          "barpolar": [
           {
            "marker": {
             "line": {
              "color": "#E5ECF6",
              "width": 0.5
             },
             "pattern": {
              "fillmode": "overlay",
              "size": 10,
              "solidity": 0.2
             }
            },
            "type": "barpolar"
           }
          ],
          "carpet": [
           {
            "aaxis": {
             "endlinecolor": "#2a3f5f",
             "gridcolor": "white",
             "linecolor": "white",
             "minorgridcolor": "white",
             "startlinecolor": "#2a3f5f"
            },
            "baxis": {
             "endlinecolor": "#2a3f5f",
             "gridcolor": "white",
             "linecolor": "white",
             "minorgridcolor": "white",
             "startlinecolor": "#2a3f5f"
            },
            "type": "carpet"
           }
          ],
          "choropleth": [
           {
            "colorbar": {
             "outlinewidth": 0,
             "ticks": ""
            },
            "type": "choropleth"
           }
          ],
          "contour": [
           {
            "colorbar": {
             "outlinewidth": 0,
             "ticks": ""
            },
            "colorscale": [
             [
              0,
              "#0d0887"
             ],
             [
              0.1111111111111111,
              "#46039f"
             ],
             [
              0.2222222222222222,
              "#7201a8"
             ],
             [
              0.3333333333333333,
              "#9c179e"
             ],
             [
              0.4444444444444444,
              "#bd3786"
             ],
             [
              0.5555555555555556,
              "#d8576b"
             ],
             [
              0.6666666666666666,
              "#ed7953"
             ],
             [
              0.7777777777777778,
              "#fb9f3a"
             ],
             [
              0.8888888888888888,
              "#fdca26"
             ],
             [
              1,
              "#f0f921"
             ]
            ],
            "type": "contour"
           }
          ],
          "contourcarpet": [
           {
            "colorbar": {
             "outlinewidth": 0,
             "ticks": ""
            },
            "type": "contourcarpet"
           }
          ],
          "heatmap": [
           {
            "colorbar": {
             "outlinewidth": 0,
             "ticks": ""
            },
            "colorscale": [
             [
              0,
              "#0d0887"
             ],
             [
              0.1111111111111111,
              "#46039f"
             ],
             [
              0.2222222222222222,
              "#7201a8"
             ],
             [
              0.3333333333333333,
              "#9c179e"
             ],
             [
              0.4444444444444444,
              "#bd3786"
             ],
             [
              0.5555555555555556,
              "#d8576b"
             ],
             [
              0.6666666666666666,
              "#ed7953"
             ],
             [
              0.7777777777777778,
              "#fb9f3a"
             ],
             [
              0.8888888888888888,
              "#fdca26"
             ],
             [
              1,
              "#f0f921"
             ]
            ],
            "type": "heatmap"
           }
          ],
          "heatmapgl": [
           {
            "colorbar": {
             "outlinewidth": 0,
             "ticks": ""
            },
            "colorscale": [
             [
              0,
              "#0d0887"
             ],
             [
              0.1111111111111111,
              "#46039f"
             ],
             [
              0.2222222222222222,
              "#7201a8"
             ],
             [
              0.3333333333333333,
              "#9c179e"
             ],
             [
              0.4444444444444444,
              "#bd3786"
             ],
             [
              0.5555555555555556,
              "#d8576b"
             ],
             [
              0.6666666666666666,
              "#ed7953"
             ],
             [
              0.7777777777777778,
              "#fb9f3a"
             ],
             [
              0.8888888888888888,
              "#fdca26"
             ],
             [
              1,
              "#f0f921"
             ]
            ],
            "type": "heatmapgl"
           }
          ],
          "histogram": [
           {
            "marker": {
             "pattern": {
              "fillmode": "overlay",
              "size": 10,
              "solidity": 0.2
             }
            },
            "type": "histogram"
           }
          ],
          "histogram2d": [
           {
            "colorbar": {
             "outlinewidth": 0,
             "ticks": ""
            },
            "colorscale": [
             [
              0,
              "#0d0887"
             ],
             [
              0.1111111111111111,
              "#46039f"
             ],
             [
              0.2222222222222222,
              "#7201a8"
             ],
             [
              0.3333333333333333,
              "#9c179e"
             ],
             [
              0.4444444444444444,
              "#bd3786"
             ],
             [
              0.5555555555555556,
              "#d8576b"
             ],
             [
              0.6666666666666666,
              "#ed7953"
             ],
             [
              0.7777777777777778,
              "#fb9f3a"
             ],
             [
              0.8888888888888888,
              "#fdca26"
             ],
             [
              1,
              "#f0f921"
             ]
            ],
            "type": "histogram2d"
           }
          ],
          "histogram2dcontour": [
           {
            "colorbar": {
             "outlinewidth": 0,
             "ticks": ""
            },
            "colorscale": [
             [
              0,
              "#0d0887"
             ],
             [
              0.1111111111111111,
              "#46039f"
             ],
             [
              0.2222222222222222,
              "#7201a8"
             ],
             [
              0.3333333333333333,
              "#9c179e"
             ],
             [
              0.4444444444444444,
              "#bd3786"
             ],
             [
              0.5555555555555556,
              "#d8576b"
             ],
             [
              0.6666666666666666,
              "#ed7953"
             ],
             [
              0.7777777777777778,
              "#fb9f3a"
             ],
             [
              0.8888888888888888,
              "#fdca26"
             ],
             [
              1,
              "#f0f921"
             ]
            ],
            "type": "histogram2dcontour"
           }
          ],
          "mesh3d": [
           {
            "colorbar": {
             "outlinewidth": 0,
             "ticks": ""
            },
            "type": "mesh3d"
           }
          ],
          "parcoords": [
           {
            "line": {
             "colorbar": {
              "outlinewidth": 0,
              "ticks": ""
             }
            },
            "type": "parcoords"
           }
          ],
          "pie": [
           {
            "automargin": true,
            "type": "pie"
           }
          ],
          "scatter": [
           {
            "fillpattern": {
             "fillmode": "overlay",
             "size": 10,
             "solidity": 0.2
            },
            "type": "scatter"
           }
          ],
          "scatter3d": [
           {
            "line": {
             "colorbar": {
              "outlinewidth": 0,
              "ticks": ""
             }
            },
            "marker": {
             "colorbar": {
              "outlinewidth": 0,
              "ticks": ""
             }
            },
            "type": "scatter3d"
           }
          ],
          "scattercarpet": [
           {
            "marker": {
             "colorbar": {
              "outlinewidth": 0,
              "ticks": ""
             }
            },
            "type": "scattercarpet"
           }
          ],
          "scattergeo": [
           {
            "marker": {
             "colorbar": {
              "outlinewidth": 0,
              "ticks": ""
             }
            },
            "type": "scattergeo"
           }
          ],
          "scattergl": [
           {
            "marker": {
             "colorbar": {
              "outlinewidth": 0,
              "ticks": ""
             }
            },
            "type": "scattergl"
           }
          ],
          "scattermapbox": [
           {
            "marker": {
             "colorbar": {
              "outlinewidth": 0,
              "ticks": ""
             }
            },
            "type": "scattermapbox"
           }
          ],
          "scatterpolar": [
           {
            "marker": {
             "colorbar": {
              "outlinewidth": 0,
              "ticks": ""
             }
            },
            "type": "scatterpolar"
           }
          ],
          "scatterpolargl": [
           {
            "marker": {
             "colorbar": {
              "outlinewidth": 0,
              "ticks": ""
             }
            },
            "type": "scatterpolargl"
           }
          ],
          "scatterternary": [
           {
            "marker": {
             "colorbar": {
              "outlinewidth": 0,
              "ticks": ""
             }
            },
            "type": "scatterternary"
           }
          ],
          "surface": [
           {
            "colorbar": {
             "outlinewidth": 0,
             "ticks": ""
            },
            "colorscale": [
             [
              0,
              "#0d0887"
             ],
             [
              0.1111111111111111,
              "#46039f"
             ],
             [
              0.2222222222222222,
              "#7201a8"
             ],
             [
              0.3333333333333333,
              "#9c179e"
             ],
             [
              0.4444444444444444,
              "#bd3786"
             ],
             [
              0.5555555555555556,
              "#d8576b"
             ],
             [
              0.6666666666666666,
              "#ed7953"
             ],
             [
              0.7777777777777778,
              "#fb9f3a"
             ],
             [
              0.8888888888888888,
              "#fdca26"
             ],
             [
              1,
              "#f0f921"
             ]
            ],
            "type": "surface"
           }
          ],
          "table": [
           {
            "cells": {
             "fill": {
              "color": "#EBF0F8"
             },
             "line": {
              "color": "white"
             }
            },
            "header": {
             "fill": {
              "color": "#C8D4E3"
             },
             "line": {
              "color": "white"
             }
            },
            "type": "table"
           }
          ]
         },
         "layout": {
          "annotationdefaults": {
           "arrowcolor": "#2a3f5f",
           "arrowhead": 0,
           "arrowwidth": 1
          },
          "autotypenumbers": "strict",
          "coloraxis": {
           "colorbar": {
            "outlinewidth": 0,
            "ticks": ""
           }
          },
          "colorscale": {
           "diverging": [
            [
             0,
             "#8e0152"
            ],
            [
             0.1,
             "#c51b7d"
            ],
            [
             0.2,
             "#de77ae"
            ],
            [
             0.3,
             "#f1b6da"
            ],
            [
             0.4,
             "#fde0ef"
            ],
            [
             0.5,
             "#f7f7f7"
            ],
            [
             0.6,
             "#e6f5d0"
            ],
            [
             0.7,
             "#b8e186"
            ],
            [
             0.8,
             "#7fbc41"
            ],
            [
             0.9,
             "#4d9221"
            ],
            [
             1,
             "#276419"
            ]
           ],
           "sequential": [
            [
             0,
             "#0d0887"
            ],
            [
             0.1111111111111111,
             "#46039f"
            ],
            [
             0.2222222222222222,
             "#7201a8"
            ],
            [
             0.3333333333333333,
             "#9c179e"
            ],
            [
             0.4444444444444444,
             "#bd3786"
            ],
            [
             0.5555555555555556,
             "#d8576b"
            ],
            [
             0.6666666666666666,
             "#ed7953"
            ],
            [
             0.7777777777777778,
             "#fb9f3a"
            ],
            [
             0.8888888888888888,
             "#fdca26"
            ],
            [
             1,
             "#f0f921"
            ]
           ],
           "sequentialminus": [
            [
             0,
             "#0d0887"
            ],
            [
             0.1111111111111111,
             "#46039f"
            ],
            [
             0.2222222222222222,
             "#7201a8"
            ],
            [
             0.3333333333333333,
             "#9c179e"
            ],
            [
             0.4444444444444444,
             "#bd3786"
            ],
            [
             0.5555555555555556,
             "#d8576b"
            ],
            [
             0.6666666666666666,
             "#ed7953"
            ],
            [
             0.7777777777777778,
             "#fb9f3a"
            ],
            [
             0.8888888888888888,
             "#fdca26"
            ],
            [
             1,
             "#f0f921"
            ]
           ]
          },
          "colorway": [
           "#636efa",
           "#EF553B",
           "#00cc96",
           "#ab63fa",
           "#FFA15A",
           "#19d3f3",
           "#FF6692",
           "#B6E880",
           "#FF97FF",
           "#FECB52"
          ],
          "font": {
           "color": "#2a3f5f"
          },
          "geo": {
           "bgcolor": "white",
           "lakecolor": "white",
           "landcolor": "#E5ECF6",
           "showlakes": true,
           "showland": true,
           "subunitcolor": "white"
          },
          "hoverlabel": {
           "align": "left"
          },
          "hovermode": "closest",
          "mapbox": {
           "style": "light"
          },
          "paper_bgcolor": "white",
          "plot_bgcolor": "#E5ECF6",
          "polar": {
           "angularaxis": {
            "gridcolor": "white",
            "linecolor": "white",
            "ticks": ""
           },
           "bgcolor": "#E5ECF6",
           "radialaxis": {
            "gridcolor": "white",
            "linecolor": "white",
            "ticks": ""
           }
          },
          "scene": {
           "xaxis": {
            "backgroundcolor": "#E5ECF6",
            "gridcolor": "white",
            "gridwidth": 2,
            "linecolor": "white",
            "showbackground": true,
            "ticks": "",
            "zerolinecolor": "white"
           },
           "yaxis": {
            "backgroundcolor": "#E5ECF6",
            "gridcolor": "white",
            "gridwidth": 2,
            "linecolor": "white",
            "showbackground": true,
            "ticks": "",
            "zerolinecolor": "white"
           },
           "zaxis": {
            "backgroundcolor": "#E5ECF6",
            "gridcolor": "white",
            "gridwidth": 2,
            "linecolor": "white",
            "showbackground": true,
            "ticks": "",
            "zerolinecolor": "white"
           }
          },
          "shapedefaults": {
           "line": {
            "color": "#2a3f5f"
           }
          },
          "ternary": {
           "aaxis": {
            "gridcolor": "white",
            "linecolor": "white",
            "ticks": ""
           },
           "baxis": {
            "gridcolor": "white",
            "linecolor": "white",
            "ticks": ""
           },
           "bgcolor": "#E5ECF6",
           "caxis": {
            "gridcolor": "white",
            "linecolor": "white",
            "ticks": ""
           }
          },
          "title": {
           "x": 0.05
          },
          "xaxis": {
           "automargin": true,
           "gridcolor": "white",
           "linecolor": "white",
           "ticks": "",
           "title": {
            "standoff": 15
           },
           "zerolinecolor": "white",
           "zerolinewidth": 2
          },
          "yaxis": {
           "automargin": true,
           "gridcolor": "white",
           "linecolor": "white",
           "ticks": "",
           "title": {
            "standoff": 15
           },
           "zerolinecolor": "white",
           "zerolinewidth": 2
          }
         }
        },
        "title": {
         "font": {
          "color": "black"
         },
         "text": "Average Test F1 Score for margin sampling"
        },
        "xaxis": {
         "tickfont": {
          "color": "black"
         },
         "title": {
          "font": {
           "color": "black",
           "family": "Arial"
          },
          "text": "Amount of Training Samples"
         },
         "type": "log"
        },
        "yaxis": {
         "tickfont": {
          "color": "black"
         },
         "title": {
          "font": {
           "color": "black",
           "family": "Arial"
          },
          "text": "Test F1 Score"
         }
        }
       }
      },
      "text/html": [
       "<div>                            <div id=\"1f065226-f80c-4bc5-b572-fedda5363f6e\" class=\"plotly-graph-div\" style=\"height:525px; width:100%;\"></div>            <script type=\"text/javascript\">                require([\"plotly\"], function(Plotly) {                    window.PLOTLYENV=window.PLOTLYENV || {};                                    if (document.getElementById(\"1f065226-f80c-4bc5-b572-fedda5363f6e\")) {                    Plotly.newPlot(                        \"1f065226-f80c-4bc5-b572-fedda5363f6e\",                        [{\"line\":{\"color\":\"rgb(149, 162, 171)\",\"dash\":\"dash\",\"width\":1},\"mode\":\"lines\",\"showlegend\":false,\"x\":[8,8],\"y\":[0,1.12],\"type\":\"scatter\"},{\"marker\":{\"size\":0},\"mode\":\"text\",\"showlegend\":false,\"text\":[\"8\"],\"textfont\":{\"color\":\"black\",\"family\":\"Arial\",\"size\":8.5},\"textposition\":\"top center\",\"x\":[8],\"y\":[1.13],\"type\":\"scatter\"},{\"line\":{\"color\":\"rgb(149, 162, 171)\",\"dash\":\"dash\",\"width\":1},\"mode\":\"lines\",\"showlegend\":false,\"x\":[24,24],\"y\":[0,1.12],\"type\":\"scatter\"},{\"marker\":{\"size\":0},\"mode\":\"text\",\"showlegend\":false,\"text\":[\"24\"],\"textfont\":{\"color\":\"black\",\"family\":\"Arial\",\"size\":8.5},\"textposition\":\"top center\",\"x\":[24],\"y\":[1.13],\"type\":\"scatter\"},{\"line\":{\"color\":\"rgb(149, 162, 171)\",\"dash\":\"dash\",\"width\":1},\"mode\":\"lines\",\"showlegend\":false,\"x\":[56,56],\"y\":[0,1.12],\"type\":\"scatter\"},{\"marker\":{\"size\":0},\"mode\":\"text\",\"showlegend\":false,\"text\":[\"56\"],\"textfont\":{\"color\":\"black\",\"family\":\"Arial\",\"size\":8.5},\"textposition\":\"top center\",\"x\":[56],\"y\":[1.13],\"type\":\"scatter\"},{\"line\":{\"color\":\"rgb(149, 162, 171)\",\"dash\":\"dash\",\"width\":1},\"mode\":\"lines\",\"showlegend\":false,\"x\":[112,112],\"y\":[0,1.12],\"type\":\"scatter\"},{\"marker\":{\"size\":0},\"mode\":\"text\",\"showlegend\":false,\"text\":[\"112\"],\"textfont\":{\"color\":\"black\",\"family\":\"Arial\",\"size\":8.5},\"textposition\":\"top center\",\"x\":[112],\"y\":[1.13],\"type\":\"scatter\"},{\"line\":{\"color\":\"rgb(149, 162, 171)\",\"dash\":\"dash\",\"width\":1},\"mode\":\"lines\",\"showlegend\":false,\"x\":[212,212],\"y\":[0,1.12],\"type\":\"scatter\"},{\"marker\":{\"size\":0},\"mode\":\"text\",\"showlegend\":false,\"text\":[\"212\"],\"textfont\":{\"color\":\"black\",\"family\":\"Arial\",\"size\":8.5},\"textposition\":\"top center\",\"x\":[212],\"y\":[1.13],\"type\":\"scatter\"},{\"line\":{\"color\":\"rgb(149, 162, 171)\",\"dash\":\"dash\",\"width\":1},\"mode\":\"lines\",\"showlegend\":false,\"x\":[388,388],\"y\":[0,1.12],\"type\":\"scatter\"},{\"marker\":{\"size\":0},\"mode\":\"text\",\"showlegend\":false,\"text\":[\"388\"],\"textfont\":{\"color\":\"black\",\"family\":\"Arial\",\"size\":8.5},\"textposition\":\"top center\",\"x\":[388],\"y\":[1.13],\"type\":\"scatter\"},{\"line\":{\"color\":\"rgb(149, 162, 171)\",\"dash\":\"dash\",\"width\":1},\"mode\":\"lines\",\"showlegend\":false,\"x\":[704,704],\"y\":[0,1.12],\"type\":\"scatter\"},{\"marker\":{\"size\":0},\"mode\":\"text\",\"showlegend\":false,\"text\":[\"704\"],\"textfont\":{\"color\":\"black\",\"family\":\"Arial\",\"size\":8.5},\"textposition\":\"top center\",\"x\":[704],\"y\":[1.13],\"type\":\"scatter\"},{\"line\":{\"color\":\"rgb(149, 162, 171)\",\"dash\":\"dash\",\"width\":1},\"mode\":\"lines\",\"showlegend\":false,\"x\":[1264,1264],\"y\":[0,1.12],\"type\":\"scatter\"},{\"marker\":{\"size\":0},\"mode\":\"text\",\"showlegend\":false,\"text\":[\"1264\"],\"textfont\":{\"color\":\"black\",\"family\":\"Arial\",\"size\":8.5},\"textposition\":\"top center\",\"x\":[1264],\"y\":[1.13],\"type\":\"scatter\"},{\"line\":{\"color\":\"rgb(149, 162, 171)\",\"dash\":\"dash\",\"width\":1},\"mode\":\"lines\",\"showlegend\":false,\"x\":[2264,2264],\"y\":[0,1.12],\"type\":\"scatter\"},{\"marker\":{\"size\":0},\"mode\":\"text\",\"showlegend\":false,\"text\":[\"2264\"],\"textfont\":{\"color\":\"black\",\"family\":\"Arial\",\"size\":8.5},\"textposition\":\"top center\",\"x\":[2264],\"y\":[1.13],\"type\":\"scatter\"},{\"line\":{\"color\":\"rgb(149, 162, 171)\",\"dash\":\"dash\",\"width\":1},\"mode\":\"lines\",\"showlegend\":false,\"x\":[4048,4048],\"y\":[0,1.12],\"type\":\"scatter\"},{\"marker\":{\"size\":0},\"mode\":\"text\",\"showlegend\":false,\"text\":[\"4048\"],\"textfont\":{\"color\":\"black\",\"family\":\"Arial\",\"size\":8.5},\"textposition\":\"top center\",\"x\":[4048],\"y\":[1.13],\"type\":\"scatter\"},{\"line\":{\"color\":\"rgb(149, 162, 171)\",\"dash\":\"dash\",\"width\":1},\"mode\":\"lines\",\"showlegend\":false,\"x\":[7200,7200],\"y\":[0,1.12],\"type\":\"scatter\"},{\"marker\":{\"size\":0},\"mode\":\"text\",\"showlegend\":false,\"text\":[\"7200\"],\"textfont\":{\"color\":\"black\",\"family\":\"Arial\",\"size\":8.5},\"textposition\":\"top center\",\"x\":[7200],\"y\":[1.13],\"type\":\"scatter\"},{\"line\":{\"color\":\"rgb(149, 162, 171)\",\"dash\":\"dash\",\"width\":1},\"mode\":\"lines\",\"showlegend\":false,\"x\":[12824,12824],\"y\":[0,1.12],\"type\":\"scatter\"},{\"marker\":{\"size\":0},\"mode\":\"text\",\"showlegend\":false,\"text\":[\"12824\"],\"textfont\":{\"color\":\"black\",\"family\":\"Arial\",\"size\":8.5},\"textposition\":\"top center\",\"x\":[12824],\"y\":[1.13],\"type\":\"scatter\"},{\"line\":{\"color\":\"rgb(149, 162, 171)\",\"dash\":\"dash\",\"width\":1},\"mode\":\"lines\",\"showlegend\":false,\"x\":[22824,22824],\"y\":[0,1.12],\"type\":\"scatter\"},{\"marker\":{\"size\":0},\"mode\":\"text\",\"showlegend\":false,\"text\":[\"22824\"],\"textfont\":{\"color\":\"black\",\"family\":\"Arial\",\"size\":8.5},\"textposition\":\"top center\",\"x\":[22824],\"y\":[1.13],\"type\":\"scatter\"},{\"line\":{\"color\":\"rgb(149, 162, 171)\",\"dash\":\"dash\",\"width\":1},\"mode\":\"lines\",\"showlegend\":false,\"x\":[26880,26880],\"y\":[0,1.12],\"type\":\"scatter\"},{\"marker\":{\"size\":0},\"mode\":\"text\",\"showlegend\":false,\"text\":[\"26880\"],\"textfont\":{\"color\":\"black\",\"family\":\"Arial\",\"size\":8.5},\"textposition\":\"top center\",\"x\":[26880],\"y\":[1.13],\"type\":\"scatter\"},{\"line\":{\"width\":2},\"marker\":{\"color\":\"rgb(151,193,57)\"},\"name\":\"Test F1 score (0.843)\",\"textfont\":{\"family\":\"Arial\",\"size\":11},\"x\":[8,24,56,112,212,388,704,1264,2264,4048,7200,12824,22824,26880],\"y\":[0.2331770833333333,0.49039930555555555,0.5953819444444444,0.689982638888889,0.736440972222222,0.7779513888888889,0.8091493055555556,0.8209201388888889,0.8328125,0.8283854166666668,0.832951388888889,0.8354687499999999,0.8418229166666666,0.8433159722222223],\"type\":\"scatter\"}],                        {\"template\":{\"data\":{\"histogram2dcontour\":[{\"type\":\"histogram2dcontour\",\"colorbar\":{\"outlinewidth\":0,\"ticks\":\"\"},\"colorscale\":[[0.0,\"#0d0887\"],[0.1111111111111111,\"#46039f\"],[0.2222222222222222,\"#7201a8\"],[0.3333333333333333,\"#9c179e\"],[0.4444444444444444,\"#bd3786\"],[0.5555555555555556,\"#d8576b\"],[0.6666666666666666,\"#ed7953\"],[0.7777777777777778,\"#fb9f3a\"],[0.8888888888888888,\"#fdca26\"],[1.0,\"#f0f921\"]]}],\"choropleth\":[{\"type\":\"choropleth\",\"colorbar\":{\"outlinewidth\":0,\"ticks\":\"\"}}],\"histogram2d\":[{\"type\":\"histogram2d\",\"colorbar\":{\"outlinewidth\":0,\"ticks\":\"\"},\"colorscale\":[[0.0,\"#0d0887\"],[0.1111111111111111,\"#46039f\"],[0.2222222222222222,\"#7201a8\"],[0.3333333333333333,\"#9c179e\"],[0.4444444444444444,\"#bd3786\"],[0.5555555555555556,\"#d8576b\"],[0.6666666666666666,\"#ed7953\"],[0.7777777777777778,\"#fb9f3a\"],[0.8888888888888888,\"#fdca26\"],[1.0,\"#f0f921\"]]}],\"heatmap\":[{\"type\":\"heatmap\",\"colorbar\":{\"outlinewidth\":0,\"ticks\":\"\"},\"colorscale\":[[0.0,\"#0d0887\"],[0.1111111111111111,\"#46039f\"],[0.2222222222222222,\"#7201a8\"],[0.3333333333333333,\"#9c179e\"],[0.4444444444444444,\"#bd3786\"],[0.5555555555555556,\"#d8576b\"],[0.6666666666666666,\"#ed7953\"],[0.7777777777777778,\"#fb9f3a\"],[0.8888888888888888,\"#fdca26\"],[1.0,\"#f0f921\"]]}],\"heatmapgl\":[{\"type\":\"heatmapgl\",\"colorbar\":{\"outlinewidth\":0,\"ticks\":\"\"},\"colorscale\":[[0.0,\"#0d0887\"],[0.1111111111111111,\"#46039f\"],[0.2222222222222222,\"#7201a8\"],[0.3333333333333333,\"#9c179e\"],[0.4444444444444444,\"#bd3786\"],[0.5555555555555556,\"#d8576b\"],[0.6666666666666666,\"#ed7953\"],[0.7777777777777778,\"#fb9f3a\"],[0.8888888888888888,\"#fdca26\"],[1.0,\"#f0f921\"]]}],\"contourcarpet\":[{\"type\":\"contourcarpet\",\"colorbar\":{\"outlinewidth\":0,\"ticks\":\"\"}}],\"contour\":[{\"type\":\"contour\",\"colorbar\":{\"outlinewidth\":0,\"ticks\":\"\"},\"colorscale\":[[0.0,\"#0d0887\"],[0.1111111111111111,\"#46039f\"],[0.2222222222222222,\"#7201a8\"],[0.3333333333333333,\"#9c179e\"],[0.4444444444444444,\"#bd3786\"],[0.5555555555555556,\"#d8576b\"],[0.6666666666666666,\"#ed7953\"],[0.7777777777777778,\"#fb9f3a\"],[0.8888888888888888,\"#fdca26\"],[1.0,\"#f0f921\"]]}],\"surface\":[{\"type\":\"surface\",\"colorbar\":{\"outlinewidth\":0,\"ticks\":\"\"},\"colorscale\":[[0.0,\"#0d0887\"],[0.1111111111111111,\"#46039f\"],[0.2222222222222222,\"#7201a8\"],[0.3333333333333333,\"#9c179e\"],[0.4444444444444444,\"#bd3786\"],[0.5555555555555556,\"#d8576b\"],[0.6666666666666666,\"#ed7953\"],[0.7777777777777778,\"#fb9f3a\"],[0.8888888888888888,\"#fdca26\"],[1.0,\"#f0f921\"]]}],\"mesh3d\":[{\"type\":\"mesh3d\",\"colorbar\":{\"outlinewidth\":0,\"ticks\":\"\"}}],\"scatter\":[{\"fillpattern\":{\"fillmode\":\"overlay\",\"size\":10,\"solidity\":0.2},\"type\":\"scatter\"}],\"parcoords\":[{\"type\":\"parcoords\",\"line\":{\"colorbar\":{\"outlinewidth\":0,\"ticks\":\"\"}}}],\"scatterpolargl\":[{\"type\":\"scatterpolargl\",\"marker\":{\"colorbar\":{\"outlinewidth\":0,\"ticks\":\"\"}}}],\"bar\":[{\"error_x\":{\"color\":\"#2a3f5f\"},\"error_y\":{\"color\":\"#2a3f5f\"},\"marker\":{\"line\":{\"color\":\"#E5ECF6\",\"width\":0.5},\"pattern\":{\"fillmode\":\"overlay\",\"size\":10,\"solidity\":0.2}},\"type\":\"bar\"}],\"scattergeo\":[{\"type\":\"scattergeo\",\"marker\":{\"colorbar\":{\"outlinewidth\":0,\"ticks\":\"\"}}}],\"scatterpolar\":[{\"type\":\"scatterpolar\",\"marker\":{\"colorbar\":{\"outlinewidth\":0,\"ticks\":\"\"}}}],\"histogram\":[{\"marker\":{\"pattern\":{\"fillmode\":\"overlay\",\"size\":10,\"solidity\":0.2}},\"type\":\"histogram\"}],\"scattergl\":[{\"type\":\"scattergl\",\"marker\":{\"colorbar\":{\"outlinewidth\":0,\"ticks\":\"\"}}}],\"scatter3d\":[{\"type\":\"scatter3d\",\"line\":{\"colorbar\":{\"outlinewidth\":0,\"ticks\":\"\"}},\"marker\":{\"colorbar\":{\"outlinewidth\":0,\"ticks\":\"\"}}}],\"scattermapbox\":[{\"type\":\"scattermapbox\",\"marker\":{\"colorbar\":{\"outlinewidth\":0,\"ticks\":\"\"}}}],\"scatterternary\":[{\"type\":\"scatterternary\",\"marker\":{\"colorbar\":{\"outlinewidth\":0,\"ticks\":\"\"}}}],\"scattercarpet\":[{\"type\":\"scattercarpet\",\"marker\":{\"colorbar\":{\"outlinewidth\":0,\"ticks\":\"\"}}}],\"carpet\":[{\"aaxis\":{\"endlinecolor\":\"#2a3f5f\",\"gridcolor\":\"white\",\"linecolor\":\"white\",\"minorgridcolor\":\"white\",\"startlinecolor\":\"#2a3f5f\"},\"baxis\":{\"endlinecolor\":\"#2a3f5f\",\"gridcolor\":\"white\",\"linecolor\":\"white\",\"minorgridcolor\":\"white\",\"startlinecolor\":\"#2a3f5f\"},\"type\":\"carpet\"}],\"table\":[{\"cells\":{\"fill\":{\"color\":\"#EBF0F8\"},\"line\":{\"color\":\"white\"}},\"header\":{\"fill\":{\"color\":\"#C8D4E3\"},\"line\":{\"color\":\"white\"}},\"type\":\"table\"}],\"barpolar\":[{\"marker\":{\"line\":{\"color\":\"#E5ECF6\",\"width\":0.5},\"pattern\":{\"fillmode\":\"overlay\",\"size\":10,\"solidity\":0.2}},\"type\":\"barpolar\"}],\"pie\":[{\"automargin\":true,\"type\":\"pie\"}]},\"layout\":{\"autotypenumbers\":\"strict\",\"colorway\":[\"#636efa\",\"#EF553B\",\"#00cc96\",\"#ab63fa\",\"#FFA15A\",\"#19d3f3\",\"#FF6692\",\"#B6E880\",\"#FF97FF\",\"#FECB52\"],\"font\":{\"color\":\"#2a3f5f\"},\"hovermode\":\"closest\",\"hoverlabel\":{\"align\":\"left\"},\"paper_bgcolor\":\"white\",\"plot_bgcolor\":\"#E5ECF6\",\"polar\":{\"bgcolor\":\"#E5ECF6\",\"angularaxis\":{\"gridcolor\":\"white\",\"linecolor\":\"white\",\"ticks\":\"\"},\"radialaxis\":{\"gridcolor\":\"white\",\"linecolor\":\"white\",\"ticks\":\"\"}},\"ternary\":{\"bgcolor\":\"#E5ECF6\",\"aaxis\":{\"gridcolor\":\"white\",\"linecolor\":\"white\",\"ticks\":\"\"},\"baxis\":{\"gridcolor\":\"white\",\"linecolor\":\"white\",\"ticks\":\"\"},\"caxis\":{\"gridcolor\":\"white\",\"linecolor\":\"white\",\"ticks\":\"\"}},\"coloraxis\":{\"colorbar\":{\"outlinewidth\":0,\"ticks\":\"\"}},\"colorscale\":{\"sequential\":[[0.0,\"#0d0887\"],[0.1111111111111111,\"#46039f\"],[0.2222222222222222,\"#7201a8\"],[0.3333333333333333,\"#9c179e\"],[0.4444444444444444,\"#bd3786\"],[0.5555555555555556,\"#d8576b\"],[0.6666666666666666,\"#ed7953\"],[0.7777777777777778,\"#fb9f3a\"],[0.8888888888888888,\"#fdca26\"],[1.0,\"#f0f921\"]],\"sequentialminus\":[[0.0,\"#0d0887\"],[0.1111111111111111,\"#46039f\"],[0.2222222222222222,\"#7201a8\"],[0.3333333333333333,\"#9c179e\"],[0.4444444444444444,\"#bd3786\"],[0.5555555555555556,\"#d8576b\"],[0.6666666666666666,\"#ed7953\"],[0.7777777777777778,\"#fb9f3a\"],[0.8888888888888888,\"#fdca26\"],[1.0,\"#f0f921\"]],\"diverging\":[[0,\"#8e0152\"],[0.1,\"#c51b7d\"],[0.2,\"#de77ae\"],[0.3,\"#f1b6da\"],[0.4,\"#fde0ef\"],[0.5,\"#f7f7f7\"],[0.6,\"#e6f5d0\"],[0.7,\"#b8e186\"],[0.8,\"#7fbc41\"],[0.9,\"#4d9221\"],[1,\"#276419\"]]},\"xaxis\":{\"gridcolor\":\"white\",\"linecolor\":\"white\",\"ticks\":\"\",\"title\":{\"standoff\":15},\"zerolinecolor\":\"white\",\"automargin\":true,\"zerolinewidth\":2},\"yaxis\":{\"gridcolor\":\"white\",\"linecolor\":\"white\",\"ticks\":\"\",\"title\":{\"standoff\":15},\"zerolinecolor\":\"white\",\"automargin\":true,\"zerolinewidth\":2},\"scene\":{\"xaxis\":{\"backgroundcolor\":\"#E5ECF6\",\"gridcolor\":\"white\",\"linecolor\":\"white\",\"showbackground\":true,\"ticks\":\"\",\"zerolinecolor\":\"white\",\"gridwidth\":2},\"yaxis\":{\"backgroundcolor\":\"#E5ECF6\",\"gridcolor\":\"white\",\"linecolor\":\"white\",\"showbackground\":true,\"ticks\":\"\",\"zerolinecolor\":\"white\",\"gridwidth\":2},\"zaxis\":{\"backgroundcolor\":\"#E5ECF6\",\"gridcolor\":\"white\",\"linecolor\":\"white\",\"showbackground\":true,\"ticks\":\"\",\"zerolinecolor\":\"white\",\"gridwidth\":2}},\"shapedefaults\":{\"line\":{\"color\":\"#2a3f5f\"}},\"annotationdefaults\":{\"arrowcolor\":\"#2a3f5f\",\"arrowhead\":0,\"arrowwidth\":1},\"geo\":{\"bgcolor\":\"white\",\"landcolor\":\"#E5ECF6\",\"subunitcolor\":\"white\",\"showland\":true,\"showlakes\":true,\"lakecolor\":\"white\"},\"title\":{\"x\":0.05},\"mapbox\":{\"style\":\"light\"}}},\"plot_bgcolor\":\"rgb(209, 217, 222)\",\"title\":{\"font\":{\"color\":\"black\"},\"text\":\"Average Test F1 Score for margin sampling\"},\"legend\":{\"font\":{\"color\":\"black\"}},\"xaxis\":{\"title\":{\"font\":{\"color\":\"black\",\"family\":\"Arial\"},\"text\":\"Amount of Training Samples\"},\"tickfont\":{\"color\":\"black\"},\"type\":\"log\"},\"yaxis\":{\"title\":{\"font\":{\"color\":\"black\",\"family\":\"Arial\"},\"text\":\"Test F1 Score\"},\"tickfont\":{\"color\":\"black\"}}},                        {\"responsive\": true}                    ).then(function(){\n",
       "                            \n",
       "var gd = document.getElementById('1f065226-f80c-4bc5-b572-fedda5363f6e');\n",
       "var x = new MutationObserver(function (mutations, observer) {{\n",
       "        var display = window.getComputedStyle(gd).display;\n",
       "        if (!display || display === 'none') {{\n",
       "            console.log([gd, 'removed!']);\n",
       "            Plotly.purge(gd);\n",
       "            observer.disconnect();\n",
       "        }}\n",
       "}});\n",
       "\n",
       "// Listen for the removal of the full notebook cells\n",
       "var notebookContainer = gd.closest('#notebook-container');\n",
       "if (notebookContainer) {{\n",
       "    x.observe(notebookContainer, {childList: true});\n",
       "}}\n",
       "\n",
       "// Listen for the clearing of the current output cell\n",
       "var outputEl = gd.closest('.output');\n",
       "if (outputEl) {{\n",
       "    x.observe(outputEl, {childList: true});\n",
       "}}\n",
       "\n",
       "                        })                };                });            </script>        </div>"
      ]
     },
     "metadata": {},
     "output_type": "display_data"
    }
   ],
   "source": [
    "import pickle\n",
    "import pandas as pd\n",
    "import numpy as np\n",
    "import plotly.graph_objects as go\n",
    "import plotly.subplots as subplots\n",
    "import os\n",
    "\n",
    "# Define the root folder\n",
    "root_folder = \"/home/woody/iwfa/iwfa044h/CleanLab_Test/ActiveLearningApproaches/EOD/DInoS/multiclass/AL/MS\"\n",
    "\n",
    "# Folder names for all runs\n",
    "run_folders = [f\"run{i}\" for i in range(1, 11)]\n",
    "\n",
    "# Define corresponding filenames\n",
    "'''pickle_filenames = [f\"AL_margin_sampling_results_for_multiclass_classification_s4{i+2}.pickle\" for i in range(10)]\n",
    "csv_filenames = [f\"training_history_s4{i+2}.csv\" for i in range(10)]'''\n",
    "# Define corresponding filenames\n",
    "pickle_filenames = [f\"AL_margin_sampling_results_for_multiclass_classification_s{42 + i}.pickle\" if i < 8 else f\"AL_margin_sampling_results_for_multiclass_classification_s{50 + (i - 8)}.pickle\" for i in range(10)]\n",
    "csv_filenames = [f\"training_history_s{42 + i}.csv\" if i < 8 else f\"training_history_s{50 + (i - 8)}.csv\" for i in range(10)]\n",
    "\n",
    "\n",
    "# Initialize accumulators for averaging\n",
    "performance_test_data_all = []\n",
    "performance_all = []\n",
    "\n",
    "# Number of samples for each iteration\n",
    "no_of_samples = [8, 24, 56, 112, 212, 388, 704, 1264, 2264, 4048, 7200, 12824, 22824, 26880]\n",
    "\n",
    "# Loop through each run folder and collect the data\n",
    "for i in range(10):\n",
    "    # Construct file paths\n",
    "    pickle_path = os.path.join(root_folder, run_folders[i], pickle_filenames[i])\n",
    "    csv_path = os.path.join(root_folder, run_folders[i], csv_filenames[i])\n",
    "    \n",
    "    # Print which pickle file is being loaded\n",
    "    print(f\"Loading pickle file for run {i+1}: {pickle_path}\")\n",
    "    \n",
    "    # Load test F1 scores from pickle file\n",
    "    with open(pickle_path, 'rb') as pickle_file:\n",
    "        average_confidence_results = pickle.load(pickle_file)\n",
    "        performance_test_data_all.append(average_confidence_results[\"test_f1_scores_micro\"])\n",
    "    \n",
    "    # Print which CSV file is being loaded\n",
    "    print(f\"Loading CSV file for run {i+1}: {csv_path}\")\n",
    "    \n",
    "    # Load CSV for validation loss and F1 scores\n",
    "    df = pd.read_csv(csv_path)\n",
    "    df['iteration'] = (df['epoch'] == 1).cumsum()\n",
    "    \n",
    "    performance = []\n",
    "    for j in range(1, 15):  # Start from 2 and go up to 14 (inclusive)\n",
    "        iteration_data = df[df['iteration'] == j]\n",
    "        performance.append({\n",
    "            'val_loss': iteration_data['valid_loss'].tolist(),\n",
    "            'val_f1_score': iteration_data['valid_f1'].tolist()\n",
    "        })\n",
    "    \n",
    "    performance_all.append(performance)\n",
    "\n",
    "# Aggregate results\n",
    "min_length = min(len(no_of_samples), *[len(perf) for perf in performance_all])\n",
    "no_of_samples = no_of_samples[:min_length]\n",
    "\n",
    "average_performance = []\n",
    "for i in range(min_length):\n",
    "    avg_val_loss = np.mean([run[i]['val_loss'][-1] for run in performance_all])\n",
    "    avg_val_f1 = np.mean([run[i]['val_f1_score'][-1] for run in performance_all])\n",
    "    average_performance.append({'val_loss': avg_val_loss, 'val_f1_score': avg_val_f1})\n",
    "\n",
    "average_test_f1 = np.mean(performance_test_data_all, axis=0)\n",
    "\n",
    "def plot_validation_performance(performance, no_of_samples, title, x_axes, y_axes, y_axes_secondary):\n",
    "    fig = subplots.make_subplots(specs=[[{\"secondary_y\": True}]])\n",
    "    fig.update_layout(plot_bgcolor='rgb(209, 217, 222)')\n",
    "\n",
    "    # Add dashed lines for sample numbers and text labels on top of the graph\n",
    "    samples_text = [str(f) for f in no_of_samples]\n",
    "    for line, label in zip(no_of_samples, samples_text):\n",
    "        fig.add_trace(go.Scatter(\n",
    "            x=[line, line],\n",
    "            y=[0, 1.12],\n",
    "            mode='lines',\n",
    "            line=dict(dash='dash', color='rgb(149, 162, 171)', width=1),\n",
    "            showlegend=False,\n",
    "            yaxis='y2'\n",
    "        ))\n",
    "\n",
    "        fig.add_trace(go.Scatter(\n",
    "            x=[line],\n",
    "            y=[1.13],\n",
    "            mode='text',\n",
    "            marker=dict(size=0),\n",
    "            text=[label],\n",
    "            textposition='top center',\n",
    "            showlegend=False,\n",
    "            yaxis='y2',\n",
    "            textfont=dict(family='Arial', color='black', size=8.5)\n",
    "        ))\n",
    "\n",
    "    loss = []\n",
    "    f1 = []\n",
    "\n",
    "    for i in range(len(performance)):\n",
    "        if isinstance(performance[i], dict):\n",
    "            # Ensure that the keys 'val_loss' and 'val_f1_score' are present in each entry\n",
    "            if \"val_loss\" in performance[i] and \"val_f1_score\" in performance[i]:\n",
    "                loss.append(performance[i][\"val_loss\"])  # Directly collect the scalar validation loss\n",
    "                f1.append(performance[i][\"val_f1_score\"])  # Directly collect the scalar validation F1 score\n",
    "            else:\n",
    "                print(f\"Missing 'val_loss' or 'val_f1_score' in performance entry {i}\")\n",
    "        else:\n",
    "            print(f\"Invalid performance entry at index {i}, expected dictionary, got {type(performance[i])}\")\n",
    "\n",
    "    # Add traces for validation loss and validation F1 score\n",
    "    fig.add_trace(go.Scatter(\n",
    "        x=no_of_samples,\n",
    "        y=loss,\n",
    "        name=f\"Val loss ({loss[-1]:.3f})\",\n",
    "        marker=dict(color='rgb(97,192,134)'),\n",
    "        textfont=dict(family=\"Arial\", size=11),\n",
    "        line=dict(width=2)\n",
    "    ), secondary_y=False)\n",
    "\n",
    "    fig.add_trace(go.Scatter(\n",
    "        x=no_of_samples,\n",
    "        y=f1,\n",
    "        name=f\"Val F1 score ({f1[-1]:.3f})\",\n",
    "        marker=dict(color='rgb(245,130,31)'),\n",
    "        textfont=dict(family=\"Arial\", size=11),\n",
    "        line=dict(width=2)\n",
    "    ), secondary_y=True)\n",
    "\n",
    "    fig.update_layout(\n",
    "        title_text=str(title),\n",
    "        legend=dict(font=dict(color='black')),\n",
    "        title_font_color='black'\n",
    "    )\n",
    "\n",
    "    # Set the x-axis to be on a log scale\n",
    "    fig.update_xaxes(\n",
    "        title_text=str(x_axes),\n",
    "        title_font=dict(color=\"black\", family=\"Arial\"),\n",
    "        tickfont_color='black',\n",
    "        type=\"log\"\n",
    "    )\n",
    "\n",
    "    # Update y-axes for primary and secondary y-axes\n",
    "    fig.update_yaxes(\n",
    "        title_text=str(y_axes),\n",
    "        title_font=dict(color=\"black\", family=\"Arial\"),\n",
    "        tickfont_color='black',\n",
    "        secondary_y=False\n",
    "    )\n",
    "\n",
    "    fig.update_yaxes(\n",
    "        title_text=str(y_axes_secondary),\n",
    "        title_font=dict(color=\"black\", family=\"Arial\"),\n",
    "        tickfont_color='black',\n",
    "        secondary_y=True\n",
    "    )\n",
    "\n",
    "    fig.show()\n",
    "\n",
    "def plot_test_performance(no_of_samples, performance_test_data, title, x_axes, y_axes):\n",
    "    fig = go.Figure()\n",
    "    fig.update_layout(plot_bgcolor='rgb(209, 217, 222)')\n",
    "\n",
    "    # Add dashed lines for sample numbers and text labels on top of the graph\n",
    "    samples_text = [str(f) for f in no_of_samples]\n",
    "    for line, label in zip(no_of_samples, samples_text):\n",
    "        fig.add_trace(go.Scatter(\n",
    "            x=[line, line],\n",
    "            y=[0, 1.12],\n",
    "            mode='lines',\n",
    "            line=dict(dash='dash', color='rgb(149, 162, 171)', width=1),\n",
    "            showlegend=False\n",
    "        ))\n",
    "\n",
    "        fig.add_trace(go.Scatter(\n",
    "            x=[line],\n",
    "            y=[1.13],\n",
    "            mode='text',\n",
    "            marker=dict(size=0),\n",
    "            text=[label],\n",
    "            textposition='top center',\n",
    "            showlegend=False,\n",
    "            textfont=dict(family='Arial', color='black', size=8.5)\n",
    "        ))\n",
    "\n",
    "    # Add traces for test F1 score\n",
    "    fig.add_trace(go.Scatter(\n",
    "        x=no_of_samples,\n",
    "        y=performance_test_data,\n",
    "        name=f\"Test F1 score ({performance_test_data[-1]:.3f})\",\n",
    "        marker=dict(color='rgb(151,193,57)'),\n",
    "        textfont=dict(family=\"Arial\", size=11),\n",
    "        line=dict(width=2)\n",
    "    ))\n",
    "\n",
    "    fig.update_layout(\n",
    "        title_text=str(title),\n",
    "        legend=dict(font=dict(color='black')),\n",
    "        title_font_color='black'\n",
    "    )\n",
    "\n",
    "    # Set the x-axis to be on a log scale\n",
    "    fig.update_xaxes(\n",
    "        title_text=str(x_axes),\n",
    "        title_font=dict(color=\"black\", family=\"Arial\"),\n",
    "        tickfont_color='black',\n",
    "        type=\"log\"\n",
    "    )\n",
    "\n",
    "    # Update y-axis for test F1 score\n",
    "    fig.update_yaxes(\n",
    "        title_text=str(y_axes),\n",
    "        title_font=dict(color=\"black\", family=\"Arial\"),\n",
    "        tickfont_color='black'\n",
    "    )\n",
    "\n",
    "    fig.show()\n",
    "\n",
    "# Plot the average validation loss and F1 score (log scale x-axis)\n",
    "plot_validation_performance(\n",
    "    average_performance, \n",
    "    no_of_samples, \n",
    "    title=\"Average Validation Loss and F1 Score for margin sampling\",\n",
    "    x_axes=\"Amount of Training Samples\",\n",
    "    y_axes=\"Validation Loss\",\n",
    "    y_axes_secondary=\"Validation F1 Score\"\n",
    ")\n",
    "\n",
    "# Plot the average test F1 score (log scale x-axis)\n",
    "plot_test_performance(\n",
    "    no_of_samples, \n",
    "    average_test_f1,\n",
    "    title=\"Average Test F1 Score for margin sampling\",\n",
    "    x_axes=\"Amount of Training Samples\",\n",
    "    y_axes=\"Test F1 Score\"\n",
    ")\n"
   ]
  },
  {
   "cell_type": "code",
   "execution_count": 52,
   "metadata": {},
   "outputs": [
    {
     "data": {
      "application/vnd.plotly.v1+json": {
       "config": {
        "plotlyServerURL": "https://plot.ly"
       },
       "data": [
        {
         "line": {
          "color": "rgb(149, 162, 171)",
          "dash": "dash",
          "width": 1
         },
         "mode": "lines",
         "showlegend": false,
         "type": "scatter",
         "x": [
          8,
          8
         ],
         "xaxis": "x",
         "y": [
          0,
          1.12
         ],
         "yaxis": "y"
        },
        {
         "marker": {
          "size": 0
         },
         "mode": "text",
         "showlegend": false,
         "text": [
          "8"
         ],
         "textfont": {
          "color": "black",
          "family": "Arial",
          "size": 8.5
         },
         "textposition": "top center",
         "type": "scatter",
         "x": [
          8
         ],
         "xaxis": "x",
         "y": [
          1.13
         ],
         "yaxis": "y"
        },
        {
         "line": {
          "color": "rgb(149, 162, 171)",
          "dash": "dash",
          "width": 1
         },
         "mode": "lines",
         "showlegend": false,
         "type": "scatter",
         "x": [
          24,
          24
         ],
         "xaxis": "x",
         "y": [
          0,
          1.12
         ],
         "yaxis": "y"
        },
        {
         "marker": {
          "size": 0
         },
         "mode": "text",
         "showlegend": false,
         "text": [
          "24"
         ],
         "textfont": {
          "color": "black",
          "family": "Arial",
          "size": 8.5
         },
         "textposition": "top center",
         "type": "scatter",
         "x": [
          24
         ],
         "xaxis": "x",
         "y": [
          1.13
         ],
         "yaxis": "y"
        },
        {
         "line": {
          "color": "rgb(149, 162, 171)",
          "dash": "dash",
          "width": 1
         },
         "mode": "lines",
         "showlegend": false,
         "type": "scatter",
         "x": [
          56,
          56
         ],
         "xaxis": "x",
         "y": [
          0,
          1.12
         ],
         "yaxis": "y"
        },
        {
         "marker": {
          "size": 0
         },
         "mode": "text",
         "showlegend": false,
         "text": [
          "56"
         ],
         "textfont": {
          "color": "black",
          "family": "Arial",
          "size": 8.5
         },
         "textposition": "top center",
         "type": "scatter",
         "x": [
          56
         ],
         "xaxis": "x",
         "y": [
          1.13
         ],
         "yaxis": "y"
        },
        {
         "line": {
          "color": "rgb(149, 162, 171)",
          "dash": "dash",
          "width": 1
         },
         "mode": "lines",
         "showlegend": false,
         "type": "scatter",
         "x": [
          112,
          112
         ],
         "xaxis": "x",
         "y": [
          0,
          1.12
         ],
         "yaxis": "y"
        },
        {
         "marker": {
          "size": 0
         },
         "mode": "text",
         "showlegend": false,
         "text": [
          "112"
         ],
         "textfont": {
          "color": "black",
          "family": "Arial",
          "size": 8.5
         },
         "textposition": "top center",
         "type": "scatter",
         "x": [
          112
         ],
         "xaxis": "x",
         "y": [
          1.13
         ],
         "yaxis": "y"
        },
        {
         "line": {
          "color": "rgb(149, 162, 171)",
          "dash": "dash",
          "width": 1
         },
         "mode": "lines",
         "showlegend": false,
         "type": "scatter",
         "x": [
          212,
          212
         ],
         "xaxis": "x",
         "y": [
          0,
          1.12
         ],
         "yaxis": "y"
        },
        {
         "marker": {
          "size": 0
         },
         "mode": "text",
         "showlegend": false,
         "text": [
          "212"
         ],
         "textfont": {
          "color": "black",
          "family": "Arial",
          "size": 8.5
         },
         "textposition": "top center",
         "type": "scatter",
         "x": [
          212
         ],
         "xaxis": "x",
         "y": [
          1.13
         ],
         "yaxis": "y"
        },
        {
         "line": {
          "color": "rgb(149, 162, 171)",
          "dash": "dash",
          "width": 1
         },
         "mode": "lines",
         "showlegend": false,
         "type": "scatter",
         "x": [
          388,
          388
         ],
         "xaxis": "x",
         "y": [
          0,
          1.12
         ],
         "yaxis": "y"
        },
        {
         "marker": {
          "size": 0
         },
         "mode": "text",
         "showlegend": false,
         "text": [
          "388"
         ],
         "textfont": {
          "color": "black",
          "family": "Arial",
          "size": 8.5
         },
         "textposition": "top center",
         "type": "scatter",
         "x": [
          388
         ],
         "xaxis": "x",
         "y": [
          1.13
         ],
         "yaxis": "y"
        },
        {
         "line": {
          "color": "rgb(149, 162, 171)",
          "dash": "dash",
          "width": 1
         },
         "mode": "lines",
         "showlegend": false,
         "type": "scatter",
         "x": [
          704,
          704
         ],
         "xaxis": "x",
         "y": [
          0,
          1.12
         ],
         "yaxis": "y"
        },
        {
         "marker": {
          "size": 0
         },
         "mode": "text",
         "showlegend": false,
         "text": [
          "704"
         ],
         "textfont": {
          "color": "black",
          "family": "Arial",
          "size": 8.5
         },
         "textposition": "top center",
         "type": "scatter",
         "x": [
          704
         ],
         "xaxis": "x",
         "y": [
          1.13
         ],
         "yaxis": "y"
        },
        {
         "line": {
          "color": "rgb(149, 162, 171)",
          "dash": "dash",
          "width": 1
         },
         "mode": "lines",
         "showlegend": false,
         "type": "scatter",
         "x": [
          1264,
          1264
         ],
         "xaxis": "x",
         "y": [
          0,
          1.12
         ],
         "yaxis": "y"
        },
        {
         "marker": {
          "size": 0
         },
         "mode": "text",
         "showlegend": false,
         "text": [
          "1264"
         ],
         "textfont": {
          "color": "black",
          "family": "Arial",
          "size": 8.5
         },
         "textposition": "top center",
         "type": "scatter",
         "x": [
          1264
         ],
         "xaxis": "x",
         "y": [
          1.13
         ],
         "yaxis": "y"
        },
        {
         "line": {
          "color": "rgb(149, 162, 171)",
          "dash": "dash",
          "width": 1
         },
         "mode": "lines",
         "showlegend": false,
         "type": "scatter",
         "x": [
          2264,
          2264
         ],
         "xaxis": "x",
         "y": [
          0,
          1.12
         ],
         "yaxis": "y"
        },
        {
         "marker": {
          "size": 0
         },
         "mode": "text",
         "showlegend": false,
         "text": [
          "2264"
         ],
         "textfont": {
          "color": "black",
          "family": "Arial",
          "size": 8.5
         },
         "textposition": "top center",
         "type": "scatter",
         "x": [
          2264
         ],
         "xaxis": "x",
         "y": [
          1.13
         ],
         "yaxis": "y"
        },
        {
         "line": {
          "color": "rgb(149, 162, 171)",
          "dash": "dash",
          "width": 1
         },
         "mode": "lines",
         "showlegend": false,
         "type": "scatter",
         "x": [
          4048,
          4048
         ],
         "xaxis": "x",
         "y": [
          0,
          1.12
         ],
         "yaxis": "y"
        },
        {
         "marker": {
          "size": 0
         },
         "mode": "text",
         "showlegend": false,
         "text": [
          "4048"
         ],
         "textfont": {
          "color": "black",
          "family": "Arial",
          "size": 8.5
         },
         "textposition": "top center",
         "type": "scatter",
         "x": [
          4048
         ],
         "xaxis": "x",
         "y": [
          1.13
         ],
         "yaxis": "y"
        },
        {
         "line": {
          "color": "rgb(149, 162, 171)",
          "dash": "dash",
          "width": 1
         },
         "mode": "lines",
         "showlegend": false,
         "type": "scatter",
         "x": [
          7200,
          7200
         ],
         "xaxis": "x",
         "y": [
          0,
          1.12
         ],
         "yaxis": "y"
        },
        {
         "marker": {
          "size": 0
         },
         "mode": "text",
         "showlegend": false,
         "text": [
          "7200"
         ],
         "textfont": {
          "color": "black",
          "family": "Arial",
          "size": 8.5
         },
         "textposition": "top center",
         "type": "scatter",
         "x": [
          7200
         ],
         "xaxis": "x",
         "y": [
          1.13
         ],
         "yaxis": "y"
        },
        {
         "line": {
          "color": "rgb(149, 162, 171)",
          "dash": "dash",
          "width": 1
         },
         "mode": "lines",
         "showlegend": false,
         "type": "scatter",
         "x": [
          12824,
          12824
         ],
         "xaxis": "x",
         "y": [
          0,
          1.12
         ],
         "yaxis": "y"
        },
        {
         "marker": {
          "size": 0
         },
         "mode": "text",
         "showlegend": false,
         "text": [
          "12824"
         ],
         "textfont": {
          "color": "black",
          "family": "Arial",
          "size": 8.5
         },
         "textposition": "top center",
         "type": "scatter",
         "x": [
          12824
         ],
         "xaxis": "x",
         "y": [
          1.13
         ],
         "yaxis": "y"
        },
        {
         "line": {
          "color": "rgb(149, 162, 171)",
          "dash": "dash",
          "width": 1
         },
         "mode": "lines",
         "showlegend": false,
         "type": "scatter",
         "x": [
          22824,
          22824
         ],
         "xaxis": "x",
         "y": [
          0,
          1.12
         ],
         "yaxis": "y"
        },
        {
         "marker": {
          "size": 0
         },
         "mode": "text",
         "showlegend": false,
         "text": [
          "22824"
         ],
         "textfont": {
          "color": "black",
          "family": "Arial",
          "size": 8.5
         },
         "textposition": "top center",
         "type": "scatter",
         "x": [
          22824
         ],
         "xaxis": "x",
         "y": [
          1.13
         ],
         "yaxis": "y"
        },
        {
         "line": {
          "color": "rgb(149, 162, 171)",
          "dash": "dash",
          "width": 1
         },
         "mode": "lines",
         "showlegend": false,
         "type": "scatter",
         "x": [
          26880,
          26880
         ],
         "xaxis": "x",
         "y": [
          0,
          1.12
         ],
         "yaxis": "y"
        },
        {
         "marker": {
          "size": 0
         },
         "mode": "text",
         "showlegend": false,
         "text": [
          "26880"
         ],
         "textfont": {
          "color": "black",
          "family": "Arial",
          "size": 8.5
         },
         "textposition": "top center",
         "type": "scatter",
         "x": [
          26880
         ],
         "xaxis": "x",
         "y": [
          1.13
         ],
         "yaxis": "y"
        },
        {
         "line": {
          "color": "rgb(97,192,134)",
          "width": 0
         },
         "mode": "lines",
         "showlegend": false,
         "type": "scatter",
         "x": [
          8,
          24,
          56,
          112,
          212,
          388,
          704,
          1264,
          2264,
          4048,
          7200,
          12824,
          22824,
          26880
         ],
         "xaxis": "x",
         "y": [
          0.32328235772894615,
          0.32328235772894615,
          0.32328235772894615,
          0.32328235772894615,
          0.32328235772894615,
          0.32328235772894615,
          0.32328235772894615,
          0.32328235772894615,
          0.32328235772894615,
          0.32328235772894615,
          0.32328235772894615,
          0.32328235772894615,
          0.32328235772894615,
          0.32328235772894615
         ],
         "yaxis": "y"
        },
        {
         "fill": "tonexty",
         "fillcolor": "rgba(97,192,134,0.2)",
         "line": {
          "color": "rgb(97,192,134)",
          "width": 0
         },
         "mode": "lines",
         "name": "Val Loss Variability",
         "showlegend": true,
         "type": "scatter",
         "x": [
          8,
          24,
          56,
          112,
          212,
          388,
          704,
          1264,
          2264,
          4048,
          7200,
          12824,
          22824,
          26880
         ],
         "xaxis": "x",
         "y": [
          0.28640319954753185,
          0.28640319954753185,
          0.28640319954753185,
          0.28640319954753185,
          0.28640319954753185,
          0.28640319954753185,
          0.28640319954753185,
          0.28640319954753185,
          0.28640319954753185,
          0.28640319954753185,
          0.28640319954753185,
          0.28640319954753185,
          0.28640319954753185,
          0.28640319954753185
         ],
         "yaxis": "y"
        },
        {
         "line": {
          "color": "rgb(245,130,31)",
          "width": 0
         },
         "mode": "lines",
         "showlegend": false,
         "type": "scatter",
         "x": [
          8,
          24,
          56,
          112,
          212,
          388,
          704,
          1264,
          2264,
          4048,
          7200,
          12824,
          22824,
          26880
         ],
         "xaxis": "x2",
         "y": [
          0.8015820188347097,
          0.8015820188347097,
          0.8015820188347097,
          0.8015820188347097,
          0.8015820188347097,
          0.8015820188347097,
          0.8015820188347097,
          0.8015820188347097,
          0.8015820188347097,
          0.8015820188347097,
          0.8015820188347097,
          0.8015820188347097,
          0.8015820188347097,
          0.8015820188347097
         ],
         "yaxis": "y2"
        },
        {
         "fill": "tonexty",
         "fillcolor": "rgba(245,130,31,0.2)",
         "line": {
          "color": "rgb(245,130,31)",
          "width": 0
         },
         "mode": "lines",
         "name": "Val F1 Variability",
         "showlegend": true,
         "type": "scatter",
         "x": [
          8,
          24,
          56,
          112,
          212,
          388,
          704,
          1264,
          2264,
          4048,
          7200,
          12824,
          22824,
          26880
         ],
         "xaxis": "x2",
         "y": [
          0.795949644608155,
          0.795949644608155,
          0.795949644608155,
          0.795949644608155,
          0.795949644608155,
          0.795949644608155,
          0.795949644608155,
          0.795949644608155,
          0.795949644608155,
          0.795949644608155,
          0.795949644608155,
          0.795949644608155,
          0.795949644608155,
          0.795949644608155
         ],
         "yaxis": "y2"
        },
        {
         "line": {
          "width": 2
         },
         "marker": {
          "color": "rgb(97,192,134)"
         },
         "name": "Val loss (0.305)",
         "textfont": {
          "family": "Arial",
          "size": 11
         },
         "type": "scatter",
         "x": [
          8,
          24,
          56,
          112,
          212,
          388,
          704,
          1264,
          2264,
          4048,
          7200,
          12824,
          22824,
          26880
         ],
         "xaxis": "x",
         "y": [
          0.304842778638239
         ],
         "yaxis": "y"
        },
        {
         "line": {
          "width": 2
         },
         "marker": {
          "color": "rgb(245,130,31)"
         },
         "name": "Val F1 score (0.799)",
         "textfont": {
          "family": "Arial",
          "size": 11
         },
         "type": "scatter",
         "x": [
          8,
          24,
          56,
          112,
          212,
          388,
          704,
          1264,
          2264,
          4048,
          7200,
          12824,
          22824,
          26880
         ],
         "xaxis": "x2",
         "y": [
          0.7987658317214323
         ],
         "yaxis": "y2"
        }
       ],
       "layout": {
        "annotations": [
         {
          "font": {
           "size": 16
          },
          "showarrow": false,
          "text": "Validation Loss",
          "x": 0.5,
          "xanchor": "center",
          "xref": "paper",
          "y": 1,
          "yanchor": "bottom",
          "yref": "paper"
         },
         {
          "font": {
           "size": 16
          },
          "showarrow": false,
          "text": "Validation F1 Score",
          "x": 0.5,
          "xanchor": "center",
          "xref": "paper",
          "y": 0.45,
          "yanchor": "bottom",
          "yref": "paper"
         }
        ],
        "height": 800,
        "legend": {
         "font": {
          "color": "black"
         }
        },
        "plot_bgcolor": "rgb(209, 217, 222)",
        "template": {
         "data": {
          "bar": [
           {
            "error_x": {
             "color": "#2a3f5f"
            },
            "error_y": {
             "color": "#2a3f5f"
            },
            "marker": {
             "line": {
              "color": "#E5ECF6",
              "width": 0.5
             },
             "pattern": {
              "fillmode": "overlay",
              "size": 10,
              "solidity": 0.2
             }
            },
            "type": "bar"
           }
          ],
          "barpolar": [
           {
            "marker": {
             "line": {
              "color": "#E5ECF6",
              "width": 0.5
             },
             "pattern": {
              "fillmode": "overlay",
              "size": 10,
              "solidity": 0.2
             }
            },
            "type": "barpolar"
           }
          ],
          "carpet": [
           {
            "aaxis": {
             "endlinecolor": "#2a3f5f",
             "gridcolor": "white",
             "linecolor": "white",
             "minorgridcolor": "white",
             "startlinecolor": "#2a3f5f"
            },
            "baxis": {
             "endlinecolor": "#2a3f5f",
             "gridcolor": "white",
             "linecolor": "white",
             "minorgridcolor": "white",
             "startlinecolor": "#2a3f5f"
            },
            "type": "carpet"
           }
          ],
          "choropleth": [
           {
            "colorbar": {
             "outlinewidth": 0,
             "ticks": ""
            },
            "type": "choropleth"
           }
          ],
          "contour": [
           {
            "colorbar": {
             "outlinewidth": 0,
             "ticks": ""
            },
            "colorscale": [
             [
              0,
              "#0d0887"
             ],
             [
              0.1111111111111111,
              "#46039f"
             ],
             [
              0.2222222222222222,
              "#7201a8"
             ],
             [
              0.3333333333333333,
              "#9c179e"
             ],
             [
              0.4444444444444444,
              "#bd3786"
             ],
             [
              0.5555555555555556,
              "#d8576b"
             ],
             [
              0.6666666666666666,
              "#ed7953"
             ],
             [
              0.7777777777777778,
              "#fb9f3a"
             ],
             [
              0.8888888888888888,
              "#fdca26"
             ],
             [
              1,
              "#f0f921"
             ]
            ],
            "type": "contour"
           }
          ],
          "contourcarpet": [
           {
            "colorbar": {
             "outlinewidth": 0,
             "ticks": ""
            },
            "type": "contourcarpet"
           }
          ],
          "heatmap": [
           {
            "colorbar": {
             "outlinewidth": 0,
             "ticks": ""
            },
            "colorscale": [
             [
              0,
              "#0d0887"
             ],
             [
              0.1111111111111111,
              "#46039f"
             ],
             [
              0.2222222222222222,
              "#7201a8"
             ],
             [
              0.3333333333333333,
              "#9c179e"
             ],
             [
              0.4444444444444444,
              "#bd3786"
             ],
             [
              0.5555555555555556,
              "#d8576b"
             ],
             [
              0.6666666666666666,
              "#ed7953"
             ],
             [
              0.7777777777777778,
              "#fb9f3a"
             ],
             [
              0.8888888888888888,
              "#fdca26"
             ],
             [
              1,
              "#f0f921"
             ]
            ],
            "type": "heatmap"
           }
          ],
          "heatmapgl": [
           {
            "colorbar": {
             "outlinewidth": 0,
             "ticks": ""
            },
            "colorscale": [
             [
              0,
              "#0d0887"
             ],
             [
              0.1111111111111111,
              "#46039f"
             ],
             [
              0.2222222222222222,
              "#7201a8"
             ],
             [
              0.3333333333333333,
              "#9c179e"
             ],
             [
              0.4444444444444444,
              "#bd3786"
             ],
             [
              0.5555555555555556,
              "#d8576b"
             ],
             [
              0.6666666666666666,
              "#ed7953"
             ],
             [
              0.7777777777777778,
              "#fb9f3a"
             ],
             [
              0.8888888888888888,
              "#fdca26"
             ],
             [
              1,
              "#f0f921"
             ]
            ],
            "type": "heatmapgl"
           }
          ],
          "histogram": [
           {
            "marker": {
             "pattern": {
              "fillmode": "overlay",
              "size": 10,
              "solidity": 0.2
             }
            },
            "type": "histogram"
           }
          ],
          "histogram2d": [
           {
            "colorbar": {
             "outlinewidth": 0,
             "ticks": ""
            },
            "colorscale": [
             [
              0,
              "#0d0887"
             ],
             [
              0.1111111111111111,
              "#46039f"
             ],
             [
              0.2222222222222222,
              "#7201a8"
             ],
             [
              0.3333333333333333,
              "#9c179e"
             ],
             [
              0.4444444444444444,
              "#bd3786"
             ],
             [
              0.5555555555555556,
              "#d8576b"
             ],
             [
              0.6666666666666666,
              "#ed7953"
             ],
             [
              0.7777777777777778,
              "#fb9f3a"
             ],
             [
              0.8888888888888888,
              "#fdca26"
             ],
             [
              1,
              "#f0f921"
             ]
            ],
            "type": "histogram2d"
           }
          ],
          "histogram2dcontour": [
           {
            "colorbar": {
             "outlinewidth": 0,
             "ticks": ""
            },
            "colorscale": [
             [
              0,
              "#0d0887"
             ],
             [
              0.1111111111111111,
              "#46039f"
             ],
             [
              0.2222222222222222,
              "#7201a8"
             ],
             [
              0.3333333333333333,
              "#9c179e"
             ],
             [
              0.4444444444444444,
              "#bd3786"
             ],
             [
              0.5555555555555556,
              "#d8576b"
             ],
             [
              0.6666666666666666,
              "#ed7953"
             ],
             [
              0.7777777777777778,
              "#fb9f3a"
             ],
             [
              0.8888888888888888,
              "#fdca26"
             ],
             [
              1,
              "#f0f921"
             ]
            ],
            "type": "histogram2dcontour"
           }
          ],
          "mesh3d": [
           {
            "colorbar": {
             "outlinewidth": 0,
             "ticks": ""
            },
            "type": "mesh3d"
           }
          ],
          "parcoords": [
           {
            "line": {
             "colorbar": {
              "outlinewidth": 0,
              "ticks": ""
             }
            },
            "type": "parcoords"
           }
          ],
          "pie": [
           {
            "automargin": true,
            "type": "pie"
           }
          ],
          "scatter": [
           {
            "fillpattern": {
             "fillmode": "overlay",
             "size": 10,
             "solidity": 0.2
            },
            "type": "scatter"
           }
          ],
          "scatter3d": [
           {
            "line": {
             "colorbar": {
              "outlinewidth": 0,
              "ticks": ""
             }
            },
            "marker": {
             "colorbar": {
              "outlinewidth": 0,
              "ticks": ""
             }
            },
            "type": "scatter3d"
           }
          ],
          "scattercarpet": [
           {
            "marker": {
             "colorbar": {
              "outlinewidth": 0,
              "ticks": ""
             }
            },
            "type": "scattercarpet"
           }
          ],
          "scattergeo": [
           {
            "marker": {
             "colorbar": {
              "outlinewidth": 0,
              "ticks": ""
             }
            },
            "type": "scattergeo"
           }
          ],
          "scattergl": [
           {
            "marker": {
             "colorbar": {
              "outlinewidth": 0,
              "ticks": ""
             }
            },
            "type": "scattergl"
           }
          ],
          "scattermapbox": [
           {
            "marker": {
             "colorbar": {
              "outlinewidth": 0,
              "ticks": ""
             }
            },
            "type": "scattermapbox"
           }
          ],
          "scatterpolar": [
           {
            "marker": {
             "colorbar": {
              "outlinewidth": 0,
              "ticks": ""
             }
            },
            "type": "scatterpolar"
           }
          ],
          "scatterpolargl": [
           {
            "marker": {
             "colorbar": {
              "outlinewidth": 0,
              "ticks": ""
             }
            },
            "type": "scatterpolargl"
           }
          ],
          "scatterternary": [
           {
            "marker": {
             "colorbar": {
              "outlinewidth": 0,
              "ticks": ""
             }
            },
            "type": "scatterternary"
           }
          ],
          "surface": [
           {
            "colorbar": {
             "outlinewidth": 0,
             "ticks": ""
            },
            "colorscale": [
             [
              0,
              "#0d0887"
             ],
             [
              0.1111111111111111,
              "#46039f"
             ],
             [
              0.2222222222222222,
              "#7201a8"
             ],
             [
              0.3333333333333333,
              "#9c179e"
             ],
             [
              0.4444444444444444,
              "#bd3786"
             ],
             [
              0.5555555555555556,
              "#d8576b"
             ],
             [
              0.6666666666666666,
              "#ed7953"
             ],
             [
              0.7777777777777778,
              "#fb9f3a"
             ],
             [
              0.8888888888888888,
              "#fdca26"
             ],
             [
              1,
              "#f0f921"
             ]
            ],
            "type": "surface"
           }
          ],
          "table": [
           {
            "cells": {
             "fill": {
              "color": "#EBF0F8"
             },
             "line": {
              "color": "white"
             }
            },
            "header": {
             "fill": {
              "color": "#C8D4E3"
             },
             "line": {
              "color": "white"
             }
            },
            "type": "table"
           }
          ]
         },
         "layout": {
          "annotationdefaults": {
           "arrowcolor": "#2a3f5f",
           "arrowhead": 0,
           "arrowwidth": 1
          },
          "autotypenumbers": "strict",
          "coloraxis": {
           "colorbar": {
            "outlinewidth": 0,
            "ticks": ""
           }
          },
          "colorscale": {
           "diverging": [
            [
             0,
             "#8e0152"
            ],
            [
             0.1,
             "#c51b7d"
            ],
            [
             0.2,
             "#de77ae"
            ],
            [
             0.3,
             "#f1b6da"
            ],
            [
             0.4,
             "#fde0ef"
            ],
            [
             0.5,
             "#f7f7f7"
            ],
            [
             0.6,
             "#e6f5d0"
            ],
            [
             0.7,
             "#b8e186"
            ],
            [
             0.8,
             "#7fbc41"
            ],
            [
             0.9,
             "#4d9221"
            ],
            [
             1,
             "#276419"
            ]
           ],
           "sequential": [
            [
             0,
             "#0d0887"
            ],
            [
             0.1111111111111111,
             "#46039f"
            ],
            [
             0.2222222222222222,
             "#7201a8"
            ],
            [
             0.3333333333333333,
             "#9c179e"
            ],
            [
             0.4444444444444444,
             "#bd3786"
            ],
            [
             0.5555555555555556,
             "#d8576b"
            ],
            [
             0.6666666666666666,
             "#ed7953"
            ],
            [
             0.7777777777777778,
             "#fb9f3a"
            ],
            [
             0.8888888888888888,
             "#fdca26"
            ],
            [
             1,
             "#f0f921"
            ]
           ],
           "sequentialminus": [
            [
             0,
             "#0d0887"
            ],
            [
             0.1111111111111111,
             "#46039f"
            ],
            [
             0.2222222222222222,
             "#7201a8"
            ],
            [
             0.3333333333333333,
             "#9c179e"
            ],
            [
             0.4444444444444444,
             "#bd3786"
            ],
            [
             0.5555555555555556,
             "#d8576b"
            ],
            [
             0.6666666666666666,
             "#ed7953"
            ],
            [
             0.7777777777777778,
             "#fb9f3a"
            ],
            [
             0.8888888888888888,
             "#fdca26"
            ],
            [
             1,
             "#f0f921"
            ]
           ]
          },
          "colorway": [
           "#636efa",
           "#EF553B",
           "#00cc96",
           "#ab63fa",
           "#FFA15A",
           "#19d3f3",
           "#FF6692",
           "#B6E880",
           "#FF97FF",
           "#FECB52"
          ],
          "font": {
           "color": "#2a3f5f"
          },
          "geo": {
           "bgcolor": "white",
           "lakecolor": "white",
           "landcolor": "#E5ECF6",
           "showlakes": true,
           "showland": true,
           "subunitcolor": "white"
          },
          "hoverlabel": {
           "align": "left"
          },
          "hovermode": "closest",
          "mapbox": {
           "style": "light"
          },
          "paper_bgcolor": "white",
          "plot_bgcolor": "#E5ECF6",
          "polar": {
           "angularaxis": {
            "gridcolor": "white",
            "linecolor": "white",
            "ticks": ""
           },
           "bgcolor": "#E5ECF6",
           "radialaxis": {
            "gridcolor": "white",
            "linecolor": "white",
            "ticks": ""
           }
          },
          "scene": {
           "xaxis": {
            "backgroundcolor": "#E5ECF6",
            "gridcolor": "white",
            "gridwidth": 2,
            "linecolor": "white",
            "showbackground": true,
            "ticks": "",
            "zerolinecolor": "white"
           },
           "yaxis": {
            "backgroundcolor": "#E5ECF6",
            "gridcolor": "white",
            "gridwidth": 2,
            "linecolor": "white",
            "showbackground": true,
            "ticks": "",
            "zerolinecolor": "white"
           },
           "zaxis": {
            "backgroundcolor": "#E5ECF6",
            "gridcolor": "white",
            "gridwidth": 2,
            "linecolor": "white",
            "showbackground": true,
            "ticks": "",
            "zerolinecolor": "white"
           }
          },
          "shapedefaults": {
           "line": {
            "color": "#2a3f5f"
           }
          },
          "ternary": {
           "aaxis": {
            "gridcolor": "white",
            "linecolor": "white",
            "ticks": ""
           },
           "baxis": {
            "gridcolor": "white",
            "linecolor": "white",
            "ticks": ""
           },
           "bgcolor": "#E5ECF6",
           "caxis": {
            "gridcolor": "white",
            "linecolor": "white",
            "ticks": ""
           }
          },
          "title": {
           "x": 0.05
          },
          "xaxis": {
           "automargin": true,
           "gridcolor": "white",
           "linecolor": "white",
           "ticks": "",
           "title": {
            "standoff": 15
           },
           "zerolinecolor": "white",
           "zerolinewidth": 2
          },
          "yaxis": {
           "automargin": true,
           "gridcolor": "white",
           "linecolor": "white",
           "ticks": "",
           "title": {
            "standoff": 15
           },
           "zerolinecolor": "white",
           "zerolinewidth": 2
          }
         }
        },
        "title": {
         "font": {
          "color": "black"
         },
         "text": "Average Validation Loss and F1 Score"
        },
        "xaxis": {
         "anchor": "y",
         "domain": [
          0,
          1
         ],
         "matches": "x2",
         "showticklabels": false,
         "tickfont": {
          "color": "black"
         },
         "title": {
          "font": {
           "color": "black",
           "family": "Arial"
          },
          "text": "Amount of Training Samples"
         },
         "type": "log"
        },
        "xaxis2": {
         "anchor": "y2",
         "domain": [
          0,
          1
         ],
         "tickfont": {
          "color": "black"
         },
         "title": {
          "font": {
           "color": "black",
           "family": "Arial"
          },
          "text": "Amount of Training Samples"
         },
         "type": "log"
        },
        "yaxis": {
         "anchor": "x",
         "domain": [
          0.55,
          1
         ],
         "tickfont": {
          "color": "black"
         },
         "title": {
          "font": {
           "color": "black",
           "family": "Arial"
          },
          "text": "Validation Loss"
         }
        },
        "yaxis2": {
         "anchor": "x2",
         "domain": [
          0,
          0.45
         ],
         "tickfont": {
          "color": "black"
         },
         "title": {
          "font": {
           "color": "black",
           "family": "Arial"
          },
          "text": "Validation F1 Score"
         }
        }
       }
      },
      "text/html": [
       "<div>                            <div id=\"1a64f3c6-4373-44ad-a1c0-ed0da63116d3\" class=\"plotly-graph-div\" style=\"height:800px; width:100%;\"></div>            <script type=\"text/javascript\">                require([\"plotly\"], function(Plotly) {                    window.PLOTLYENV=window.PLOTLYENV || {};                                    if (document.getElementById(\"1a64f3c6-4373-44ad-a1c0-ed0da63116d3\")) {                    Plotly.newPlot(                        \"1a64f3c6-4373-44ad-a1c0-ed0da63116d3\",                        [{\"line\":{\"color\":\"rgb(149, 162, 171)\",\"dash\":\"dash\",\"width\":1},\"mode\":\"lines\",\"showlegend\":false,\"x\":[8,8],\"y\":[0,1.12],\"type\":\"scatter\",\"xaxis\":\"x\",\"yaxis\":\"y\"},{\"marker\":{\"size\":0},\"mode\":\"text\",\"showlegend\":false,\"text\":[\"8\"],\"textfont\":{\"color\":\"black\",\"family\":\"Arial\",\"size\":8.5},\"textposition\":\"top center\",\"x\":[8],\"y\":[1.13],\"type\":\"scatter\",\"xaxis\":\"x\",\"yaxis\":\"y\"},{\"line\":{\"color\":\"rgb(149, 162, 171)\",\"dash\":\"dash\",\"width\":1},\"mode\":\"lines\",\"showlegend\":false,\"x\":[24,24],\"y\":[0,1.12],\"type\":\"scatter\",\"xaxis\":\"x\",\"yaxis\":\"y\"},{\"marker\":{\"size\":0},\"mode\":\"text\",\"showlegend\":false,\"text\":[\"24\"],\"textfont\":{\"color\":\"black\",\"family\":\"Arial\",\"size\":8.5},\"textposition\":\"top center\",\"x\":[24],\"y\":[1.13],\"type\":\"scatter\",\"xaxis\":\"x\",\"yaxis\":\"y\"},{\"line\":{\"color\":\"rgb(149, 162, 171)\",\"dash\":\"dash\",\"width\":1},\"mode\":\"lines\",\"showlegend\":false,\"x\":[56,56],\"y\":[0,1.12],\"type\":\"scatter\",\"xaxis\":\"x\",\"yaxis\":\"y\"},{\"marker\":{\"size\":0},\"mode\":\"text\",\"showlegend\":false,\"text\":[\"56\"],\"textfont\":{\"color\":\"black\",\"family\":\"Arial\",\"size\":8.5},\"textposition\":\"top center\",\"x\":[56],\"y\":[1.13],\"type\":\"scatter\",\"xaxis\":\"x\",\"yaxis\":\"y\"},{\"line\":{\"color\":\"rgb(149, 162, 171)\",\"dash\":\"dash\",\"width\":1},\"mode\":\"lines\",\"showlegend\":false,\"x\":[112,112],\"y\":[0,1.12],\"type\":\"scatter\",\"xaxis\":\"x\",\"yaxis\":\"y\"},{\"marker\":{\"size\":0},\"mode\":\"text\",\"showlegend\":false,\"text\":[\"112\"],\"textfont\":{\"color\":\"black\",\"family\":\"Arial\",\"size\":8.5},\"textposition\":\"top center\",\"x\":[112],\"y\":[1.13],\"type\":\"scatter\",\"xaxis\":\"x\",\"yaxis\":\"y\"},{\"line\":{\"color\":\"rgb(149, 162, 171)\",\"dash\":\"dash\",\"width\":1},\"mode\":\"lines\",\"showlegend\":false,\"x\":[212,212],\"y\":[0,1.12],\"type\":\"scatter\",\"xaxis\":\"x\",\"yaxis\":\"y\"},{\"marker\":{\"size\":0},\"mode\":\"text\",\"showlegend\":false,\"text\":[\"212\"],\"textfont\":{\"color\":\"black\",\"family\":\"Arial\",\"size\":8.5},\"textposition\":\"top center\",\"x\":[212],\"y\":[1.13],\"type\":\"scatter\",\"xaxis\":\"x\",\"yaxis\":\"y\"},{\"line\":{\"color\":\"rgb(149, 162, 171)\",\"dash\":\"dash\",\"width\":1},\"mode\":\"lines\",\"showlegend\":false,\"x\":[388,388],\"y\":[0,1.12],\"type\":\"scatter\",\"xaxis\":\"x\",\"yaxis\":\"y\"},{\"marker\":{\"size\":0},\"mode\":\"text\",\"showlegend\":false,\"text\":[\"388\"],\"textfont\":{\"color\":\"black\",\"family\":\"Arial\",\"size\":8.5},\"textposition\":\"top center\",\"x\":[388],\"y\":[1.13],\"type\":\"scatter\",\"xaxis\":\"x\",\"yaxis\":\"y\"},{\"line\":{\"color\":\"rgb(149, 162, 171)\",\"dash\":\"dash\",\"width\":1},\"mode\":\"lines\",\"showlegend\":false,\"x\":[704,704],\"y\":[0,1.12],\"type\":\"scatter\",\"xaxis\":\"x\",\"yaxis\":\"y\"},{\"marker\":{\"size\":0},\"mode\":\"text\",\"showlegend\":false,\"text\":[\"704\"],\"textfont\":{\"color\":\"black\",\"family\":\"Arial\",\"size\":8.5},\"textposition\":\"top center\",\"x\":[704],\"y\":[1.13],\"type\":\"scatter\",\"xaxis\":\"x\",\"yaxis\":\"y\"},{\"line\":{\"color\":\"rgb(149, 162, 171)\",\"dash\":\"dash\",\"width\":1},\"mode\":\"lines\",\"showlegend\":false,\"x\":[1264,1264],\"y\":[0,1.12],\"type\":\"scatter\",\"xaxis\":\"x\",\"yaxis\":\"y\"},{\"marker\":{\"size\":0},\"mode\":\"text\",\"showlegend\":false,\"text\":[\"1264\"],\"textfont\":{\"color\":\"black\",\"family\":\"Arial\",\"size\":8.5},\"textposition\":\"top center\",\"x\":[1264],\"y\":[1.13],\"type\":\"scatter\",\"xaxis\":\"x\",\"yaxis\":\"y\"},{\"line\":{\"color\":\"rgb(149, 162, 171)\",\"dash\":\"dash\",\"width\":1},\"mode\":\"lines\",\"showlegend\":false,\"x\":[2264,2264],\"y\":[0,1.12],\"type\":\"scatter\",\"xaxis\":\"x\",\"yaxis\":\"y\"},{\"marker\":{\"size\":0},\"mode\":\"text\",\"showlegend\":false,\"text\":[\"2264\"],\"textfont\":{\"color\":\"black\",\"family\":\"Arial\",\"size\":8.5},\"textposition\":\"top center\",\"x\":[2264],\"y\":[1.13],\"type\":\"scatter\",\"xaxis\":\"x\",\"yaxis\":\"y\"},{\"line\":{\"color\":\"rgb(149, 162, 171)\",\"dash\":\"dash\",\"width\":1},\"mode\":\"lines\",\"showlegend\":false,\"x\":[4048,4048],\"y\":[0,1.12],\"type\":\"scatter\",\"xaxis\":\"x\",\"yaxis\":\"y\"},{\"marker\":{\"size\":0},\"mode\":\"text\",\"showlegend\":false,\"text\":[\"4048\"],\"textfont\":{\"color\":\"black\",\"family\":\"Arial\",\"size\":8.5},\"textposition\":\"top center\",\"x\":[4048],\"y\":[1.13],\"type\":\"scatter\",\"xaxis\":\"x\",\"yaxis\":\"y\"},{\"line\":{\"color\":\"rgb(149, 162, 171)\",\"dash\":\"dash\",\"width\":1},\"mode\":\"lines\",\"showlegend\":false,\"x\":[7200,7200],\"y\":[0,1.12],\"type\":\"scatter\",\"xaxis\":\"x\",\"yaxis\":\"y\"},{\"marker\":{\"size\":0},\"mode\":\"text\",\"showlegend\":false,\"text\":[\"7200\"],\"textfont\":{\"color\":\"black\",\"family\":\"Arial\",\"size\":8.5},\"textposition\":\"top center\",\"x\":[7200],\"y\":[1.13],\"type\":\"scatter\",\"xaxis\":\"x\",\"yaxis\":\"y\"},{\"line\":{\"color\":\"rgb(149, 162, 171)\",\"dash\":\"dash\",\"width\":1},\"mode\":\"lines\",\"showlegend\":false,\"x\":[12824,12824],\"y\":[0,1.12],\"type\":\"scatter\",\"xaxis\":\"x\",\"yaxis\":\"y\"},{\"marker\":{\"size\":0},\"mode\":\"text\",\"showlegend\":false,\"text\":[\"12824\"],\"textfont\":{\"color\":\"black\",\"family\":\"Arial\",\"size\":8.5},\"textposition\":\"top center\",\"x\":[12824],\"y\":[1.13],\"type\":\"scatter\",\"xaxis\":\"x\",\"yaxis\":\"y\"},{\"line\":{\"color\":\"rgb(149, 162, 171)\",\"dash\":\"dash\",\"width\":1},\"mode\":\"lines\",\"showlegend\":false,\"x\":[22824,22824],\"y\":[0,1.12],\"type\":\"scatter\",\"xaxis\":\"x\",\"yaxis\":\"y\"},{\"marker\":{\"size\":0},\"mode\":\"text\",\"showlegend\":false,\"text\":[\"22824\"],\"textfont\":{\"color\":\"black\",\"family\":\"Arial\",\"size\":8.5},\"textposition\":\"top center\",\"x\":[22824],\"y\":[1.13],\"type\":\"scatter\",\"xaxis\":\"x\",\"yaxis\":\"y\"},{\"line\":{\"color\":\"rgb(149, 162, 171)\",\"dash\":\"dash\",\"width\":1},\"mode\":\"lines\",\"showlegend\":false,\"x\":[26880,26880],\"y\":[0,1.12],\"type\":\"scatter\",\"xaxis\":\"x\",\"yaxis\":\"y\"},{\"marker\":{\"size\":0},\"mode\":\"text\",\"showlegend\":false,\"text\":[\"26880\"],\"textfont\":{\"color\":\"black\",\"family\":\"Arial\",\"size\":8.5},\"textposition\":\"top center\",\"x\":[26880],\"y\":[1.13],\"type\":\"scatter\",\"xaxis\":\"x\",\"yaxis\":\"y\"},{\"line\":{\"color\":\"rgb(97,192,134)\",\"width\":0},\"mode\":\"lines\",\"showlegend\":false,\"x\":[8,24,56,112,212,388,704,1264,2264,4048,7200,12824,22824,26880],\"y\":[0.32328235772894615,0.32328235772894615,0.32328235772894615,0.32328235772894615,0.32328235772894615,0.32328235772894615,0.32328235772894615,0.32328235772894615,0.32328235772894615,0.32328235772894615,0.32328235772894615,0.32328235772894615,0.32328235772894615,0.32328235772894615],\"type\":\"scatter\",\"xaxis\":\"x\",\"yaxis\":\"y\"},{\"fill\":\"tonexty\",\"fillcolor\":\"rgba(97,192,134,0.2)\",\"line\":{\"color\":\"rgb(97,192,134)\",\"width\":0},\"mode\":\"lines\",\"name\":\"Val Loss Variability\",\"showlegend\":true,\"x\":[8,24,56,112,212,388,704,1264,2264,4048,7200,12824,22824,26880],\"y\":[0.28640319954753185,0.28640319954753185,0.28640319954753185,0.28640319954753185,0.28640319954753185,0.28640319954753185,0.28640319954753185,0.28640319954753185,0.28640319954753185,0.28640319954753185,0.28640319954753185,0.28640319954753185,0.28640319954753185,0.28640319954753185],\"type\":\"scatter\",\"xaxis\":\"x\",\"yaxis\":\"y\"},{\"line\":{\"color\":\"rgb(245,130,31)\",\"width\":0},\"mode\":\"lines\",\"showlegend\":false,\"x\":[8,24,56,112,212,388,704,1264,2264,4048,7200,12824,22824,26880],\"y\":[0.8015820188347097,0.8015820188347097,0.8015820188347097,0.8015820188347097,0.8015820188347097,0.8015820188347097,0.8015820188347097,0.8015820188347097,0.8015820188347097,0.8015820188347097,0.8015820188347097,0.8015820188347097,0.8015820188347097,0.8015820188347097],\"type\":\"scatter\",\"xaxis\":\"x2\",\"yaxis\":\"y2\"},{\"fill\":\"tonexty\",\"fillcolor\":\"rgba(245,130,31,0.2)\",\"line\":{\"color\":\"rgb(245,130,31)\",\"width\":0},\"mode\":\"lines\",\"name\":\"Val F1 Variability\",\"showlegend\":true,\"x\":[8,24,56,112,212,388,704,1264,2264,4048,7200,12824,22824,26880],\"y\":[0.795949644608155,0.795949644608155,0.795949644608155,0.795949644608155,0.795949644608155,0.795949644608155,0.795949644608155,0.795949644608155,0.795949644608155,0.795949644608155,0.795949644608155,0.795949644608155,0.795949644608155,0.795949644608155],\"type\":\"scatter\",\"xaxis\":\"x2\",\"yaxis\":\"y2\"},{\"line\":{\"width\":2},\"marker\":{\"color\":\"rgb(97,192,134)\"},\"name\":\"Val loss (0.305)\",\"textfont\":{\"family\":\"Arial\",\"size\":11},\"x\":[8,24,56,112,212,388,704,1264,2264,4048,7200,12824,22824,26880],\"y\":[0.304842778638239],\"type\":\"scatter\",\"xaxis\":\"x\",\"yaxis\":\"y\"},{\"line\":{\"width\":2},\"marker\":{\"color\":\"rgb(245,130,31)\"},\"name\":\"Val F1 score (0.799)\",\"textfont\":{\"family\":\"Arial\",\"size\":11},\"x\":[8,24,56,112,212,388,704,1264,2264,4048,7200,12824,22824,26880],\"y\":[0.7987658317214323],\"type\":\"scatter\",\"xaxis\":\"x2\",\"yaxis\":\"y2\"}],                        {\"template\":{\"data\":{\"histogram2dcontour\":[{\"type\":\"histogram2dcontour\",\"colorbar\":{\"outlinewidth\":0,\"ticks\":\"\"},\"colorscale\":[[0.0,\"#0d0887\"],[0.1111111111111111,\"#46039f\"],[0.2222222222222222,\"#7201a8\"],[0.3333333333333333,\"#9c179e\"],[0.4444444444444444,\"#bd3786\"],[0.5555555555555556,\"#d8576b\"],[0.6666666666666666,\"#ed7953\"],[0.7777777777777778,\"#fb9f3a\"],[0.8888888888888888,\"#fdca26\"],[1.0,\"#f0f921\"]]}],\"choropleth\":[{\"type\":\"choropleth\",\"colorbar\":{\"outlinewidth\":0,\"ticks\":\"\"}}],\"histogram2d\":[{\"type\":\"histogram2d\",\"colorbar\":{\"outlinewidth\":0,\"ticks\":\"\"},\"colorscale\":[[0.0,\"#0d0887\"],[0.1111111111111111,\"#46039f\"],[0.2222222222222222,\"#7201a8\"],[0.3333333333333333,\"#9c179e\"],[0.4444444444444444,\"#bd3786\"],[0.5555555555555556,\"#d8576b\"],[0.6666666666666666,\"#ed7953\"],[0.7777777777777778,\"#fb9f3a\"],[0.8888888888888888,\"#fdca26\"],[1.0,\"#f0f921\"]]}],\"heatmap\":[{\"type\":\"heatmap\",\"colorbar\":{\"outlinewidth\":0,\"ticks\":\"\"},\"colorscale\":[[0.0,\"#0d0887\"],[0.1111111111111111,\"#46039f\"],[0.2222222222222222,\"#7201a8\"],[0.3333333333333333,\"#9c179e\"],[0.4444444444444444,\"#bd3786\"],[0.5555555555555556,\"#d8576b\"],[0.6666666666666666,\"#ed7953\"],[0.7777777777777778,\"#fb9f3a\"],[0.8888888888888888,\"#fdca26\"],[1.0,\"#f0f921\"]]}],\"heatmapgl\":[{\"type\":\"heatmapgl\",\"colorbar\":{\"outlinewidth\":0,\"ticks\":\"\"},\"colorscale\":[[0.0,\"#0d0887\"],[0.1111111111111111,\"#46039f\"],[0.2222222222222222,\"#7201a8\"],[0.3333333333333333,\"#9c179e\"],[0.4444444444444444,\"#bd3786\"],[0.5555555555555556,\"#d8576b\"],[0.6666666666666666,\"#ed7953\"],[0.7777777777777778,\"#fb9f3a\"],[0.8888888888888888,\"#fdca26\"],[1.0,\"#f0f921\"]]}],\"contourcarpet\":[{\"type\":\"contourcarpet\",\"colorbar\":{\"outlinewidth\":0,\"ticks\":\"\"}}],\"contour\":[{\"type\":\"contour\",\"colorbar\":{\"outlinewidth\":0,\"ticks\":\"\"},\"colorscale\":[[0.0,\"#0d0887\"],[0.1111111111111111,\"#46039f\"],[0.2222222222222222,\"#7201a8\"],[0.3333333333333333,\"#9c179e\"],[0.4444444444444444,\"#bd3786\"],[0.5555555555555556,\"#d8576b\"],[0.6666666666666666,\"#ed7953\"],[0.7777777777777778,\"#fb9f3a\"],[0.8888888888888888,\"#fdca26\"],[1.0,\"#f0f921\"]]}],\"surface\":[{\"type\":\"surface\",\"colorbar\":{\"outlinewidth\":0,\"ticks\":\"\"},\"colorscale\":[[0.0,\"#0d0887\"],[0.1111111111111111,\"#46039f\"],[0.2222222222222222,\"#7201a8\"],[0.3333333333333333,\"#9c179e\"],[0.4444444444444444,\"#bd3786\"],[0.5555555555555556,\"#d8576b\"],[0.6666666666666666,\"#ed7953\"],[0.7777777777777778,\"#fb9f3a\"],[0.8888888888888888,\"#fdca26\"],[1.0,\"#f0f921\"]]}],\"mesh3d\":[{\"type\":\"mesh3d\",\"colorbar\":{\"outlinewidth\":0,\"ticks\":\"\"}}],\"scatter\":[{\"fillpattern\":{\"fillmode\":\"overlay\",\"size\":10,\"solidity\":0.2},\"type\":\"scatter\"}],\"parcoords\":[{\"type\":\"parcoords\",\"line\":{\"colorbar\":{\"outlinewidth\":0,\"ticks\":\"\"}}}],\"scatterpolargl\":[{\"type\":\"scatterpolargl\",\"marker\":{\"colorbar\":{\"outlinewidth\":0,\"ticks\":\"\"}}}],\"bar\":[{\"error_x\":{\"color\":\"#2a3f5f\"},\"error_y\":{\"color\":\"#2a3f5f\"},\"marker\":{\"line\":{\"color\":\"#E5ECF6\",\"width\":0.5},\"pattern\":{\"fillmode\":\"overlay\",\"size\":10,\"solidity\":0.2}},\"type\":\"bar\"}],\"scattergeo\":[{\"type\":\"scattergeo\",\"marker\":{\"colorbar\":{\"outlinewidth\":0,\"ticks\":\"\"}}}],\"scatterpolar\":[{\"type\":\"scatterpolar\",\"marker\":{\"colorbar\":{\"outlinewidth\":0,\"ticks\":\"\"}}}],\"histogram\":[{\"marker\":{\"pattern\":{\"fillmode\":\"overlay\",\"size\":10,\"solidity\":0.2}},\"type\":\"histogram\"}],\"scattergl\":[{\"type\":\"scattergl\",\"marker\":{\"colorbar\":{\"outlinewidth\":0,\"ticks\":\"\"}}}],\"scatter3d\":[{\"type\":\"scatter3d\",\"line\":{\"colorbar\":{\"outlinewidth\":0,\"ticks\":\"\"}},\"marker\":{\"colorbar\":{\"outlinewidth\":0,\"ticks\":\"\"}}}],\"scattermapbox\":[{\"type\":\"scattermapbox\",\"marker\":{\"colorbar\":{\"outlinewidth\":0,\"ticks\":\"\"}}}],\"scatterternary\":[{\"type\":\"scatterternary\",\"marker\":{\"colorbar\":{\"outlinewidth\":0,\"ticks\":\"\"}}}],\"scattercarpet\":[{\"type\":\"scattercarpet\",\"marker\":{\"colorbar\":{\"outlinewidth\":0,\"ticks\":\"\"}}}],\"carpet\":[{\"aaxis\":{\"endlinecolor\":\"#2a3f5f\",\"gridcolor\":\"white\",\"linecolor\":\"white\",\"minorgridcolor\":\"white\",\"startlinecolor\":\"#2a3f5f\"},\"baxis\":{\"endlinecolor\":\"#2a3f5f\",\"gridcolor\":\"white\",\"linecolor\":\"white\",\"minorgridcolor\":\"white\",\"startlinecolor\":\"#2a3f5f\"},\"type\":\"carpet\"}],\"table\":[{\"cells\":{\"fill\":{\"color\":\"#EBF0F8\"},\"line\":{\"color\":\"white\"}},\"header\":{\"fill\":{\"color\":\"#C8D4E3\"},\"line\":{\"color\":\"white\"}},\"type\":\"table\"}],\"barpolar\":[{\"marker\":{\"line\":{\"color\":\"#E5ECF6\",\"width\":0.5},\"pattern\":{\"fillmode\":\"overlay\",\"size\":10,\"solidity\":0.2}},\"type\":\"barpolar\"}],\"pie\":[{\"automargin\":true,\"type\":\"pie\"}]},\"layout\":{\"autotypenumbers\":\"strict\",\"colorway\":[\"#636efa\",\"#EF553B\",\"#00cc96\",\"#ab63fa\",\"#FFA15A\",\"#19d3f3\",\"#FF6692\",\"#B6E880\",\"#FF97FF\",\"#FECB52\"],\"font\":{\"color\":\"#2a3f5f\"},\"hovermode\":\"closest\",\"hoverlabel\":{\"align\":\"left\"},\"paper_bgcolor\":\"white\",\"plot_bgcolor\":\"#E5ECF6\",\"polar\":{\"bgcolor\":\"#E5ECF6\",\"angularaxis\":{\"gridcolor\":\"white\",\"linecolor\":\"white\",\"ticks\":\"\"},\"radialaxis\":{\"gridcolor\":\"white\",\"linecolor\":\"white\",\"ticks\":\"\"}},\"ternary\":{\"bgcolor\":\"#E5ECF6\",\"aaxis\":{\"gridcolor\":\"white\",\"linecolor\":\"white\",\"ticks\":\"\"},\"baxis\":{\"gridcolor\":\"white\",\"linecolor\":\"white\",\"ticks\":\"\"},\"caxis\":{\"gridcolor\":\"white\",\"linecolor\":\"white\",\"ticks\":\"\"}},\"coloraxis\":{\"colorbar\":{\"outlinewidth\":0,\"ticks\":\"\"}},\"colorscale\":{\"sequential\":[[0.0,\"#0d0887\"],[0.1111111111111111,\"#46039f\"],[0.2222222222222222,\"#7201a8\"],[0.3333333333333333,\"#9c179e\"],[0.4444444444444444,\"#bd3786\"],[0.5555555555555556,\"#d8576b\"],[0.6666666666666666,\"#ed7953\"],[0.7777777777777778,\"#fb9f3a\"],[0.8888888888888888,\"#fdca26\"],[1.0,\"#f0f921\"]],\"sequentialminus\":[[0.0,\"#0d0887\"],[0.1111111111111111,\"#46039f\"],[0.2222222222222222,\"#7201a8\"],[0.3333333333333333,\"#9c179e\"],[0.4444444444444444,\"#bd3786\"],[0.5555555555555556,\"#d8576b\"],[0.6666666666666666,\"#ed7953\"],[0.7777777777777778,\"#fb9f3a\"],[0.8888888888888888,\"#fdca26\"],[1.0,\"#f0f921\"]],\"diverging\":[[0,\"#8e0152\"],[0.1,\"#c51b7d\"],[0.2,\"#de77ae\"],[0.3,\"#f1b6da\"],[0.4,\"#fde0ef\"],[0.5,\"#f7f7f7\"],[0.6,\"#e6f5d0\"],[0.7,\"#b8e186\"],[0.8,\"#7fbc41\"],[0.9,\"#4d9221\"],[1,\"#276419\"]]},\"xaxis\":{\"gridcolor\":\"white\",\"linecolor\":\"white\",\"ticks\":\"\",\"title\":{\"standoff\":15},\"zerolinecolor\":\"white\",\"automargin\":true,\"zerolinewidth\":2},\"yaxis\":{\"gridcolor\":\"white\",\"linecolor\":\"white\",\"ticks\":\"\",\"title\":{\"standoff\":15},\"zerolinecolor\":\"white\",\"automargin\":true,\"zerolinewidth\":2},\"scene\":{\"xaxis\":{\"backgroundcolor\":\"#E5ECF6\",\"gridcolor\":\"white\",\"linecolor\":\"white\",\"showbackground\":true,\"ticks\":\"\",\"zerolinecolor\":\"white\",\"gridwidth\":2},\"yaxis\":{\"backgroundcolor\":\"#E5ECF6\",\"gridcolor\":\"white\",\"linecolor\":\"white\",\"showbackground\":true,\"ticks\":\"\",\"zerolinecolor\":\"white\",\"gridwidth\":2},\"zaxis\":{\"backgroundcolor\":\"#E5ECF6\",\"gridcolor\":\"white\",\"linecolor\":\"white\",\"showbackground\":true,\"ticks\":\"\",\"zerolinecolor\":\"white\",\"gridwidth\":2}},\"shapedefaults\":{\"line\":{\"color\":\"#2a3f5f\"}},\"annotationdefaults\":{\"arrowcolor\":\"#2a3f5f\",\"arrowhead\":0,\"arrowwidth\":1},\"geo\":{\"bgcolor\":\"white\",\"landcolor\":\"#E5ECF6\",\"subunitcolor\":\"white\",\"showland\":true,\"showlakes\":true,\"lakecolor\":\"white\"},\"title\":{\"x\":0.05},\"mapbox\":{\"style\":\"light\"}}},\"xaxis\":{\"anchor\":\"y\",\"domain\":[0.0,1.0],\"matches\":\"x2\",\"showticklabels\":false,\"title\":{\"font\":{\"color\":\"black\",\"family\":\"Arial\"},\"text\":\"Amount of Training Samples\"},\"tickfont\":{\"color\":\"black\"},\"type\":\"log\"},\"yaxis\":{\"anchor\":\"x\",\"domain\":[0.55,1.0],\"title\":{\"font\":{\"color\":\"black\",\"family\":\"Arial\"},\"text\":\"Validation Loss\"},\"tickfont\":{\"color\":\"black\"}},\"xaxis2\":{\"anchor\":\"y2\",\"domain\":[0.0,1.0],\"title\":{\"font\":{\"color\":\"black\",\"family\":\"Arial\"},\"text\":\"Amount of Training Samples\"},\"tickfont\":{\"color\":\"black\"},\"type\":\"log\"},\"yaxis2\":{\"anchor\":\"x2\",\"domain\":[0.0,0.45],\"title\":{\"font\":{\"color\":\"black\",\"family\":\"Arial\"},\"text\":\"Validation F1 Score\"},\"tickfont\":{\"color\":\"black\"}},\"annotations\":[{\"font\":{\"size\":16},\"showarrow\":false,\"text\":\"Validation Loss\",\"x\":0.5,\"xanchor\":\"center\",\"xref\":\"paper\",\"y\":1.0,\"yanchor\":\"bottom\",\"yref\":\"paper\"},{\"font\":{\"size\":16},\"showarrow\":false,\"text\":\"Validation F1 Score\",\"x\":0.5,\"xanchor\":\"center\",\"xref\":\"paper\",\"y\":0.45,\"yanchor\":\"bottom\",\"yref\":\"paper\"}],\"plot_bgcolor\":\"rgb(209, 217, 222)\",\"height\":800,\"title\":{\"font\":{\"color\":\"black\"},\"text\":\"Average Validation Loss and F1 Score\"},\"legend\":{\"font\":{\"color\":\"black\"}}},                        {\"responsive\": true}                    ).then(function(){\n",
       "                            \n",
       "var gd = document.getElementById('1a64f3c6-4373-44ad-a1c0-ed0da63116d3');\n",
       "var x = new MutationObserver(function (mutations, observer) {{\n",
       "        var display = window.getComputedStyle(gd).display;\n",
       "        if (!display || display === 'none') {{\n",
       "            console.log([gd, 'removed!']);\n",
       "            Plotly.purge(gd);\n",
       "            observer.disconnect();\n",
       "        }}\n",
       "}});\n",
       "\n",
       "// Listen for the removal of the full notebook cells\n",
       "var notebookContainer = gd.closest('#notebook-container');\n",
       "if (notebookContainer) {{\n",
       "    x.observe(notebookContainer, {childList: true});\n",
       "}}\n",
       "\n",
       "// Listen for the clearing of the current output cell\n",
       "var outputEl = gd.closest('.output');\n",
       "if (outputEl) {{\n",
       "    x.observe(outputEl, {childList: true});\n",
       "}}\n",
       "\n",
       "                        })                };                });            </script>        </div>"
      ]
     },
     "metadata": {},
     "output_type": "display_data"
    }
   ],
   "source": [
    "#Experimental code\n",
    "import pickle\n",
    "import pandas as pd\n",
    "import numpy as np\n",
    "import plotly.graph_objects as go\n",
    "import plotly.subplots as subplots\n",
    "import os\n",
    "\n",
    "# Define the root folder\n",
    "root_folder = \"/home/woody/iwfa/iwfa044h/CleanLab_Test/ActiveLearningApproaches/EOD/DInoS/AL/avg_confidence\"\n",
    "\n",
    "# Folder names for all runs\n",
    "run_folders = [f\"run{i}\" for i in range(1, 6)]\n",
    "\n",
    "# Define corresponding filenames\n",
    "pickle_filenames = [f\"AL_average_confidence_results_for_multilabel_classification_s4{i+2}.pickle\" for i in range(5)]\n",
    "csv_filenames = [f\"training_history_s4{i+2}.csv\" for i in range(6)]\n",
    "\n",
    "# Initialize accumulators for averaging\n",
    "performance_test_data_all = []\n",
    "performance_all = []\n",
    "\n",
    "# Number of samples for each iteration\n",
    "no_of_samples = [8, 24, 56, 112, 212, 388, 704, 1264, 2264, 4048, 7200, 12824, 22824, 26880]\n",
    "\n",
    "# Loop through each run folder and collect the data\n",
    "for i in range(5):\n",
    "    # Construct file paths\n",
    "    pickle_path = os.path.join(root_folder, run_folders[i], pickle_filenames[i])\n",
    "    csv_path = os.path.join(root_folder, run_folders[i], csv_filenames[i])\n",
    "    \n",
    "    # Load test F1 scores from pickle file\n",
    "    with open(pickle_path, 'rb') as pickle_file:\n",
    "        average_confidence_results = pickle.load(pickle_file)\n",
    "        performance_test_data_all.append(average_confidence_results[\"test_f1_scores_macro\"])\n",
    "    \n",
    "    # Load CSV for validation loss and F1 scores\n",
    "    df = pd.read_csv(csv_path)\n",
    "    df['iteration'] = (df['epoch'] == 1).cumsum()\n",
    "    \n",
    "    performance = []\n",
    "    for j in range(1, 15):  # Start from 2 and go up to 14 (inclusive)\n",
    "        iteration_data = df[df['iteration'] == j]\n",
    "        performance.append({\n",
    "            'val_loss': iteration_data['valid_loss'].tolist(),\n",
    "            'val_f1_score': iteration_data['valid_f1'].tolist()\n",
    "        })\n",
    "    \n",
    "    performance_all.append(performance)\n",
    "\n",
    "# Aggregate results\n",
    "min_length = min(len(no_of_samples), *[len(perf) for perf in performance_all])\n",
    "no_of_samples = no_of_samples[:min_length]\n",
    "\n",
    "average_performance = []\n",
    "for i in range(min_length):\n",
    "    avg_val_loss = np.mean([run[i]['val_loss'][-1] for run in performance_all])\n",
    "    avg_val_f1 = np.mean([run[i]['val_f1_score'][-1] for run in performance_all])\n",
    "    average_performance.append({'val_loss': avg_val_loss, 'val_f1_score': avg_val_f1})\n",
    "\n",
    "average_test_f1 = np.mean(performance_test_data_all, axis=0)\n",
    "\n",
    "# Calculate the variability (standard deviation) for the shaded region\n",
    "std_val_loss = np.std([run[i]['val_loss'][-1] for run in performance_all], axis=0)\n",
    "std_val_f1 = np.std([run[i]['val_f1_score'][-1] for run in performance_all], axis=0)\n",
    "\n",
    "# Ensure that std_val_loss and std_val_f1 are arrays with the same length as no_of_samples\n",
    "if np.isscalar(std_val_loss):\n",
    "    std_val_loss = np.repeat(std_val_loss, len(no_of_samples))\n",
    "if np.isscalar(std_val_f1):\n",
    "    std_val_f1 = np.repeat(std_val_f1, len(no_of_samples))\n",
    "\n",
    "def plot_validation_performance(performance, no_of_samples, title, x_axes, y_axes, y_axes_secondary):\n",
    "    # Create a subplot with two rows (one for each metric)\n",
    "    fig = subplots.make_subplots(\n",
    "        rows=2, cols=1, \n",
    "        shared_xaxes=True, \n",
    "        vertical_spacing=0.1, \n",
    "        subplot_titles=('Validation Loss', 'Validation F1 Score')\n",
    "    )\n",
    "    fig.update_layout(plot_bgcolor='rgb(209, 217, 222)', height=800)\n",
    "\n",
    "    # Add dashed lines for sample numbers and text labels on top of the graph\n",
    "    samples_text = [str(f) for f in no_of_samples]\n",
    "    for line, label in zip(no_of_samples, samples_text):\n",
    "        fig.add_trace(go.Scatter(\n",
    "            x=[line, line],\n",
    "            y=[0, 1.12],\n",
    "            mode='lines',\n",
    "            line=dict(dash='dash', color='rgb(149, 162, 171)', width=1),\n",
    "            showlegend=False\n",
    "        ), row=1, col=1)  # Ensure this is on row 1, column 1\n",
    "\n",
    "        fig.add_trace(go.Scatter(\n",
    "            x=[line],\n",
    "            y=[1.13],\n",
    "            mode='text',\n",
    "            marker=dict(size=0),\n",
    "            text=[label],\n",
    "            textposition='top center',\n",
    "            showlegend=False,\n",
    "            textfont=dict(family='Arial', color='black', size=8.5)\n",
    "        ), row=1, col=1)  # Ensure this is on row 1, column 1\n",
    "\n",
    "    loss = []\n",
    "    f1 = []\n",
    "\n",
    "    # Extract values for the main line and shaded region\n",
    "    for i in range(len(performance)):\n",
    "        loss.append(performance[i][\"val_loss\"])\n",
    "        f1.append(performance[i][\"val_f1_score\"])\n",
    "\n",
    "    # Calculate the mean values\n",
    "    loss_mean = np.array([np.mean(loss)])  # Wrap the mean value in an array\n",
    "    f1_mean = np.array([np.mean(f1)])  \n",
    "\n",
    "    # Calculate the upper and lower bounds for the shaded region\n",
    "    loss_upper = loss_mean + std_val_loss\n",
    "    loss_lower = loss_mean - std_val_loss\n",
    "    f1_upper = f1_mean + std_val_f1\n",
    "    f1_lower = f1_mean - std_val_f1\n",
    "\n",
    "    # Add the shaded region for validation loss\n",
    "    fig.add_trace(go.Scatter(\n",
    "        x=no_of_samples,\n",
    "        y=loss_upper,\n",
    "        fill=None,\n",
    "        mode='lines',\n",
    "        line=dict(color='rgb(97,192,134)', width=0),\n",
    "        showlegend=False\n",
    "    ), row=1, col=1)  # Ensure this is on row 1, column 1\n",
    "\n",
    "    fig.add_trace(go.Scatter(\n",
    "        x=no_of_samples,\n",
    "        y=loss_lower,\n",
    "        fill='tonexty',\n",
    "        mode='lines',\n",
    "        line=dict(color='rgb(97,192,134)', width=0),\n",
    "        name=\"Val Loss Variability\",\n",
    "        fillcolor='rgba(97,192,134,0.2)',\n",
    "        showlegend=True\n",
    "    ), row=1, col=1)  # Ensure this is on row 1, column 1\n",
    "\n",
    "    # Add the shaded region for validation F1 score\n",
    "    fig.add_trace(go.Scatter(\n",
    "        x=no_of_samples,\n",
    "        y=f1_upper,\n",
    "        fill=None,\n",
    "        mode='lines',\n",
    "        line=dict(color='rgb(245,130,31)', width=0),\n",
    "        showlegend=False\n",
    "    ), row=2, col=1)  # Ensure this is on row 2, column 1\n",
    "\n",
    "    fig.add_trace(go.Scatter(\n",
    "        x=no_of_samples,\n",
    "        y=f1_lower,\n",
    "        fill='tonexty',\n",
    "        mode='lines',\n",
    "        line=dict(color='rgb(245,130,31)', width=0),\n",
    "        name=\"Val F1 Variability\",\n",
    "        fillcolor='rgba(245,130,31,0.2)',\n",
    "        showlegend=True\n",
    "    ), row=2, col=1)  # Ensure this is on row 2, column 1\n",
    "\n",
    "    # Add the main line for validation loss\n",
    "    fig.add_trace(go.Scatter(\n",
    "        x=no_of_samples,\n",
    "        y=loss_mean,\n",
    "        name=f\"Val loss ({loss_mean[-1]:.3f})\",\n",
    "        marker=dict(color='rgb(97,192,134)'),\n",
    "        textfont=dict(family=\"Arial\", size=11),\n",
    "        line=dict(width=2)\n",
    "    ), row=1, col=1)  # Ensure this is on row 1, column 1\n",
    "\n",
    "    # Add the main line for validation F1 score\n",
    "    fig.add_trace(go.Scatter(\n",
    "        x=no_of_samples,\n",
    "        y=f1_mean,\n",
    "        name=f\"Val F1 score ({f1_mean[-1]:.3f})\",\n",
    "        marker=dict(color='rgb(245,130,31)'),\n",
    "        textfont=dict(family=\"Arial\", size=11),\n",
    "        line=dict(width=2)\n",
    "    ), row=2, col=1)  # Ensure this is on row 2, column 1\n",
    "\n",
    "    fig.update_layout(\n",
    "        title_text=str(title),\n",
    "        legend=dict(font=dict(color='black')),\n",
    "        title_font_color='black'\n",
    "    )\n",
    "\n",
    "    # Set the x-axis to be on a log scale\n",
    "    fig.update_xaxes(\n",
    "        title_text=str(x_axes),\n",
    "        title_font=dict(color=\"black\", family=\"Arial\"),\n",
    "        tickfont_color='black',\n",
    "        type=\"log\"\n",
    "    )\n",
    "\n",
    "    # Update y-axes for both subplots\n",
    "    fig.update_yaxes(\n",
    "        title_text=str(y_axes),\n",
    "        title_font=dict(color=\"black\", family=\"Arial\"),\n",
    "        tickfont_color='black',\n",
    "        row=1, col=1  # Set y-axis for the first subplot\n",
    "    )\n",
    "\n",
    "    fig.update_yaxes(\n",
    "        title_text=str(y_axes_secondary),\n",
    "        title_font=dict(color=\"black\", family=\"Arial\"),\n",
    "        tickfont_color='black',\n",
    "        row=2, col=1  # Set y-axis for the second subplot\n",
    "    )\n",
    "\n",
    "    fig.show()\n",
    "\n",
    "\n",
    "# Plot the average validation loss and F1 score (log scale x-axis)\n",
    "plot_validation_performance(\n",
    "    average_performance, \n",
    "    no_of_samples, \n",
    "    title=\"Average Validation Loss and F1 Score\",\n",
    "    x_axes=\"Amount of Training Samples\",\n",
    "    y_axes=\"Validation Loss\",\n",
    "    y_axes_secondary=\"Validation F1 Score\"\n",
    ")\n"
   ]
  }
 ],
 "metadata": {
  "kernelspec": {
   "display_name": "ActiveLearning01",
   "language": "python",
   "name": "python3"
  },
  "language_info": {
   "codemirror_mode": {
    "name": "ipython",
    "version": 3
   },
   "file_extension": ".py",
   "mimetype": "text/x-python",
   "name": "python",
   "nbconvert_exporter": "python",
   "pygments_lexer": "ipython3",
   "version": "3.8.19"
  }
 },
 "nbformat": 4,
 "nbformat_minor": 2
}
