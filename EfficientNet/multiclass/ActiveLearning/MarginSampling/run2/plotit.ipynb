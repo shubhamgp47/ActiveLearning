{
 "cells": [
  {
   "cell_type": "code",
   "execution_count": 1,
   "metadata": {},
   "outputs": [
    {
     "name": "stderr",
     "output_type": "stream",
     "text": [
      "/home/hpc/iwfa/iwfa044h/.local/lib/python3.8/site-packages/pandas/core/computation/expressions.py:20: UserWarning: Pandas requires version '2.7.3' or newer of 'numexpr' (version '2.7.1' currently installed).\n",
      "  from pandas.core.computation.check import NUMEXPR_INSTALLED\n"
     ]
    }
   ],
   "source": [
    "# Below pickle reading and displaying the data\n",
    "import os\n",
    "import pickle\n",
    "import numpy as np\n",
    "import pandas as pd\n",
    "import matplotlib.pyplot as plt\n",
    "from plotly import graph_objects, subplots\n",
    "import pickle\n",
    "import plotly.graph_objects as go\n",
    "import plotly.subplots as subplots\n",
    "import numpy as np"
   ]
  },
  {
   "cell_type": "code",
   "execution_count": 13,
   "metadata": {},
   "outputs": [],
   "source": [
    "margin_sampling_file = \"AL_margin_sampling_results_for_multiclass_classification_s43.pickle\"\n",
    "\n",
    "with open(margin_sampling_file, 'rb') as pickle_file:\n",
    "    margin_sampling_results = pickle.load(pickle_file)\n",
    "\n"
   ]
  },
  {
   "cell_type": "code",
   "execution_count": 14,
   "metadata": {},
   "outputs": [],
   "source": [
    "no_of_samples = [8, 24, 56, 120, 216, 392, 712, 1272, 2264, 4040, 7200, 12824, 22824, 26880]\n",
    "performance_test_data = margin_sampling_results[\"test_f1_scores_micro\"]"
   ]
  },
  {
   "cell_type": "code",
   "execution_count": 4,
   "metadata": {},
   "outputs": [],
   "source": [
    "import pandas as pd\n",
    "import plotly.graph_objects as go\n",
    "import numpy as np\n",
    "\n",
    "# Load the CSV file\n",
    "csv_path = 'training_history_s43.csv'\n",
    "df = pd.read_csv(csv_path)\n",
    "\n",
    "# Create an 'iteration' column by checking where epoch == 1\n",
    "df['iteration'] = (df['epoch'] == 1).cumsum()\n",
    "\n",
    "# We start from the second iteration (skipping the first one) and go through 13 iterations\n",
    "performance = []\n",
    "for i in range(1, 15):  # Start from 2 and go up to 14 (inclusive)\n",
    "    iteration_data = df[df['iteration'] == i]\n",
    "    performance.append({\n",
    "        'val_loss': iteration_data['valid_loss'].tolist(),\n",
    "        'val_f1_score': iteration_data['valid_f1'].tolist()\n",
    "    })\n",
    "\n",
    "# Ensure that performance and no_of_samples have the same length\n",
    "min_length = min(len(performance), len(no_of_samples))\n",
    "performance = performance[:min_length]\n",
    "no_of_samples = no_of_samples[:min_length]\n",
    "\n",
    "# Function to plot validation performance\n",
    "def plot_validation_performance_vs_epochs(performance, no_of_samples, title, x_axes, y_axes, plotting_curve):\n",
    "    fig = go.Figure()\n",
    "\n",
    "    if \"loss\" in plotting_curve.lower():  \n",
    "        for i in range(len(performance)):\n",
    "            val_loss = performance[i]['val_loss']\n",
    "            fig.add_trace(go.Scatter(\n",
    "                x=list(range(1, len(val_loss) + 1)),\n",
    "                y=val_loss,\n",
    "                mode='lines',\n",
    "                name=f\"{no_of_samples[i]} Images used: Val loss: {val_loss[-1]:.3f}\",\n",
    "                line=dict(width=2)  # Adjust the line width here\n",
    "            ))\n",
    "    \n",
    "    elif \"f1\" in plotting_curve.lower():  \n",
    "        for i in range(len(performance)):\n",
    "            val_f1 = performance[i]['val_f1_score']\n",
    "            fig.add_trace(go.Scatter(\n",
    "                x=list(range(1, len(val_f1) + 1)),\n",
    "                y=val_f1,\n",
    "                mode='lines',\n",
    "                name=f\"{no_of_samples[i]} Images used: Val F1 score: {val_f1[-1]:.3f}\",\n",
    "                line=dict(width=2)  # Adjust the line width here\n",
    "            ))\n",
    "    \n",
    "    else:\n",
    "        raise NameError(\"Unknown name given for plotting curve\")\n",
    "    \n",
    "    fig.update_layout(\n",
    "        title=title,\n",
    "        xaxis_title=x_axes,\n",
    "        yaxis_title=y_axes,\n",
    "        legend_title=\"Legend\",\n",
    "        hovermode=\"x unified\"\n",
    "    )\n",
    "\n",
    "    fig.show()\n"
   ]
  },
  {
   "cell_type": "code",
   "execution_count": 15,
   "metadata": {},
   "outputs": [
    {
     "data": {
      "application/vnd.plotly.v1+json": {
       "config": {
        "plotlyServerURL": "https://plot.ly"
       },
       "data": [
        {
         "line": {
          "width": 2
         },
         "mode": "lines",
         "name": "8 Images used: Val loss: 2.237",
         "type": "scatter",
         "x": [
          1,
          2,
          3,
          4,
          5,
          6,
          7,
          8,
          9,
          10,
          11,
          12,
          13,
          14,
          15,
          16,
          17,
          18,
          19
         ],
         "y": [
          2.054226949479845,
          2.0212673326333364,
          1.9865096191565197,
          1.9784477336539164,
          1.993433478474617,
          2.0017911838160622,
          2.0168208334181044,
          2.039908640583356,
          2.05954657693704,
          2.0859319398800533,
          2.117687581645118,
          2.1407077640295027,
          2.153761250442929,
          2.1595334506697124,
          2.173300822575887,
          2.1849065333604814,
          2.203549141685168,
          2.2169558703899384,
          2.2369741515980825
         ]
        },
        {
         "line": {
          "width": 2
         },
         "mode": "lines",
         "name": "24 Images used: Val loss: 1.539",
         "type": "scatter",
         "x": [
          1,
          2,
          3,
          4,
          5,
          6,
          7,
          8,
          9,
          10,
          11,
          12,
          13,
          14,
          15,
          16,
          17,
          18,
          19,
          20,
          21,
          22,
          23,
          24,
          25,
          26,
          27,
          28,
          29,
          30,
          31,
          32,
          33,
          34,
          35,
          36,
          37,
          38,
          39,
          40,
          41,
          42,
          43,
          44,
          45,
          46,
          47,
          48,
          49,
          50,
          51,
          52
         ],
         "y": [
          2.070232648319668,
          1.961342689726088,
          1.864778443508678,
          1.804108467201392,
          1.7347732818788952,
          1.6941432133316994,
          1.6653735434843435,
          1.631986933035983,
          1.6062046067582236,
          1.596155109256506,
          1.588575806385941,
          1.574994145333767,
          1.562432291607062,
          1.5583094840248426,
          1.5505579469932451,
          1.5486469991505143,
          1.5468686737120152,
          1.542966448681222,
          1.5464298584394984,
          1.541766207996342,
          1.5439963229000568,
          1.540937998228603,
          1.5387061970101463,
          1.5384329475462435,
          1.5376152685946889,
          1.5304579972392982,
          1.5321023299462266,
          1.5292258884343837,
          1.52848716535502,
          1.532544069074922,
          1.5330296274688509,
          1.5327800637318028,
          1.529713833083709,
          1.5252641775541835,
          1.5245634256965583,
          1.5236418367260032,
          1.522192544490099,
          1.5249816787739594,
          1.5253563909067047,
          1.524346427536673,
          1.5279117547803456,
          1.5251553412112924,
          1.5249597397115495,
          1.5239671485291586,
          1.524314905785852,
          1.5305856292446454,
          1.5311318276656998,
          1.5273474134504794,
          1.5313688610990843,
          1.529798881461223,
          1.534726246777508,
          1.5389778989884588
         ]
        },
        {
         "line": {
          "width": 2
         },
         "mode": "lines",
         "name": "56 Images used: Val loss: 1.200",
         "type": "scatter",
         "x": [
          1,
          2,
          3,
          4,
          5,
          6,
          7,
          8,
          9,
          10,
          11,
          12,
          13,
          14,
          15,
          16,
          17,
          18,
          19,
          20,
          21,
          22,
          23,
          24,
          25,
          26,
          27,
          28,
          29,
          30,
          31,
          32,
          33,
          34,
          35,
          36
         ],
         "y": [
          1.3843841046094894,
          1.3117884994381004,
          1.3099141024880938,
          1.2745418267117603,
          1.2490722772975762,
          1.2374150331235594,
          1.2300081262158022,
          1.2189010030279557,
          1.2100931918869415,
          1.2169857715153032,
          1.2080066027740637,
          1.206064073658652,
          1.2060394980841214,
          1.2082848548475238,
          1.2085934188630847,
          1.2048332776046462,
          1.198271576066812,
          1.1979517554243406,
          1.197535750642419,
          1.1910153014378415,
          1.184452030724949,
          1.1870671160105202,
          1.190966139609615,
          1.1949946413437524,
          1.1995837449613544,
          1.193733659841948,
          1.1958856080141331,
          1.1928709691597357,
          1.196918676834967,
          1.189560657987992,
          1.192812561409341,
          1.1937793595095476,
          1.2037148175968064,
          1.191916133877304,
          1.194090908103519,
          1.200268374880155
         ]
        },
        {
         "line": {
          "width": 2
         },
         "mode": "lines",
         "name": "120 Images used: Val loss: 0.899",
         "type": "scatter",
         "x": [
          1,
          2,
          3,
          4,
          5,
          6,
          7,
          8,
          9,
          10,
          11,
          12,
          13,
          14,
          15,
          16,
          17,
          18,
          19,
          20,
          21,
          22,
          23,
          24,
          25,
          26,
          27,
          28,
          29,
          30,
          31,
          32
         ],
         "y": [
          1.035513853530089,
          1.007669475219316,
          0.9751312696271472,
          0.9508558149553008,
          0.935786092819439,
          0.9257208990967936,
          0.923897235488726,
          0.9277415166298548,
          0.9175981850052872,
          0.9093348753742044,
          0.9143362749367951,
          0.912205092401968,
          0.901054476781024,
          0.9092649282680616,
          0.899389120667345,
          0.8982214688219958,
          0.8939366860315203,
          0.8984459050206675,
          0.9062562654208806,
          0.9003756730299857,
          0.8984730576889383,
          0.906520207122796,
          0.9094361123111512,
          0.9039700837805869,
          0.903217706663741,
          0.9026713895301024,
          0.9094173694236412,
          0.898753545474675,
          0.9022289612433976,
          0.8940997293425931,
          0.8989596917397447,
          0.8994612990775042
         ]
        },
        {
         "line": {
          "width": 2
         },
         "mode": "lines",
         "name": "216 Images used: Val loss: 0.813",
         "type": "scatter",
         "x": [
          1,
          2,
          3,
          4,
          5,
          6,
          7,
          8,
          9,
          10,
          11,
          12,
          13,
          14,
          15,
          16
         ],
         "y": [
          0.7681690309817593,
          0.7861218580976128,
          0.7890786638276445,
          0.8188010363115205,
          0.7983355030831364,
          0.8016714702981214,
          0.807151722866628,
          0.7865926431905892,
          0.7926921862384512,
          0.7925402148833706,
          0.8040894926525652,
          0.8150475202749173,
          0.8056195224014421,
          0.79995861488084,
          0.8212458809009857,
          0.8127273929719295
         ]
        },
        {
         "line": {
          "width": 2
         },
         "mode": "lines",
         "name": "392 Images used: Val loss: 0.787",
         "type": "scatter",
         "x": [
          1,
          2,
          3,
          4,
          5,
          6,
          7,
          8,
          9,
          10,
          11,
          12,
          13,
          14,
          15,
          16,
          17,
          18,
          19
         ],
         "y": [
          0.7693908522940345,
          0.7272972319792542,
          0.7383522393906282,
          0.7204139986489382,
          0.7749012325735142,
          0.7328458763762481,
          0.7295943708210769,
          0.7217171618818409,
          0.7331313024688926,
          0.7541568858445519,
          0.7603147375552605,
          0.7683227042150166,
          0.775453360668487,
          0.7917841494859507,
          0.7781404552619077,
          0.7772240523869792,
          0.7891118770465255,
          0.7975254358516799,
          0.7872602123715398
         ]
        },
        {
         "line": {
          "width": 2
         },
         "mode": "lines",
         "name": "712 Images used: Val loss: 0.752",
         "type": "scatter",
         "x": [
          1,
          2,
          3,
          4,
          5,
          6,
          7,
          8,
          9,
          10,
          11,
          12,
          13,
          14,
          15,
          16,
          17,
          18,
          19,
          20
         ],
         "y": [
          0.7157000444001622,
          0.7023078113328666,
          0.6848010613013886,
          0.6805003756243322,
          0.6647206833586097,
          0.6978088405190243,
          0.7063187278341502,
          0.6831466926675703,
          0.7228815949159778,
          0.7259418586139671,
          0.7414537655370724,
          0.7481334800909584,
          0.7346576370066031,
          0.7271234260044164,
          0.7314507498535224,
          0.7592270534304488,
          0.7556042234930728,
          0.7607661734154034,
          0.7369224882632908,
          0.7518075709593379
         ]
        },
        {
         "line": {
          "width": 2
         },
         "mode": "lines",
         "name": "1272 Images used: Val loss: 0.756",
         "type": "scatter",
         "x": [
          1,
          2,
          3,
          4,
          5,
          6,
          7,
          8,
          9,
          10,
          11,
          12,
          13,
          14,
          15,
          16
         ],
         "y": [
          0.65304434193143,
          0.6992515735819729,
          0.6917970002991044,
          0.6922765733609494,
          0.7097951858058675,
          0.7572958819076626,
          0.689343132220933,
          0.7424425046994454,
          0.7396274279893583,
          0.7454040284152142,
          0.7285117003407019,
          0.7394327550169287,
          0.736827481064635,
          0.7572954225431506,
          0.7760097217733144,
          0.7557047667641503
         ]
        },
        {
         "line": {
          "width": 2
         },
         "mode": "lines",
         "name": "2264 Images used: Val loss: 0.785",
         "type": "scatter",
         "x": [
          1,
          2,
          3,
          4,
          5,
          6,
          7,
          8,
          9,
          10,
          11,
          12,
          13,
          14,
          15,
          16,
          17,
          18
         ],
         "y": [
          0.7202027073207622,
          0.684890207177442,
          0.6553586370247002,
          0.7000044911491892,
          0.7457822353320404,
          0.7055754457251169,
          0.7026936381680167,
          0.7437927446942518,
          0.722327443394008,
          0.7643119893256678,
          0.7841255170092659,
          0.7865977184116167,
          0.8075848830954379,
          0.7954462433350272,
          0.7966186136699334,
          0.7928293046450967,
          0.8083070388865761,
          0.7854764667171468
         ]
        },
        {
         "line": {
          "width": 2
         },
         "mode": "lines",
         "name": "4040 Images used: Val loss: 0.783",
         "type": "scatter",
         "x": [
          1,
          2,
          3,
          4,
          5,
          6,
          7,
          8,
          9,
          10,
          11,
          12,
          13,
          14,
          15,
          16,
          17,
          18,
          19,
          20,
          21,
          22
         ],
         "y": [
          0.7080093266688183,
          0.6712934885212841,
          0.6824287955429301,
          0.6837714275539232,
          0.6971803402288869,
          0.6715479595340892,
          0.668342114107347,
          0.7200629187010539,
          0.6972542881008444,
          0.7476164958743741,
          0.7313673175709684,
          0.7267564975216778,
          0.7346663210987269,
          0.7747151281183404,
          0.7681240566217133,
          0.770859582128469,
          0.7702217762157993,
          0.7722270070966463,
          0.7637348185319246,
          0.7597198055061097,
          0.783583412656056,
          0.7831583061520683
         ]
        },
        {
         "line": {
          "width": 2
         },
         "mode": "lines",
         "name": "7200 Images used: Val loss: 0.883",
         "type": "scatter",
         "x": [
          1,
          2,
          3,
          4,
          5,
          6,
          7,
          8,
          9,
          10,
          11,
          12,
          13,
          14,
          15,
          16,
          17
         ],
         "y": [
          0.782172745646676,
          0.7373619285095224,
          0.7923632870771042,
          0.7566885993188609,
          0.7585551402900212,
          0.7558319547601665,
          0.7871018375548172,
          0.8178957587133886,
          0.8086680417996831,
          0.8061550491292211,
          0.7754638126905775,
          0.7749557057026929,
          0.7982994655192468,
          0.8185159829231755,
          0.8298025966592831,
          0.8571774631269767,
          0.8825686800180443
         ]
        },
        {
         "line": {
          "width": 2
         },
         "mode": "lines",
         "name": "12824 Images used: Val loss: 0.774",
         "type": "scatter",
         "x": [
          1,
          2,
          3,
          4,
          5,
          6,
          7,
          8,
          9,
          10,
          11,
          12,
          13,
          14,
          15,
          16,
          17,
          18
         ],
         "y": [
          0.7611117288515541,
          0.760765398537559,
          0.7202772067717483,
          0.7466084796317672,
          0.7847282186601661,
          0.7539569231924058,
          0.7912302993039096,
          0.7703572958229213,
          0.7558347428574861,
          0.7994877392421282,
          0.7735829735686518,
          0.799853550077872,
          0.7761597821225426,
          0.7974451306766747,
          0.8053206547205466,
          0.8090351122563233,
          0.7869413101484598,
          0.773940385944459
         ]
        },
        {
         "line": {
          "width": 2
         },
         "mode": "lines",
         "name": "22824 Images used: Val loss: 0.910",
         "type": "scatter",
         "x": [
          1,
          2,
          3,
          4,
          5,
          6,
          7,
          8,
          9,
          10,
          11,
          12,
          13,
          14,
          15,
          16,
          17,
          18,
          19,
          20,
          21,
          22,
          23
         ],
         "y": [
          0.8353599364720543,
          0.8173588436041933,
          0.8331646910830588,
          0.7888588187659076,
          0.8891083963877463,
          0.9677688181137152,
          0.7853774473310396,
          0.7657988547054426,
          0.824038096704458,
          0.8384103831486653,
          0.8828478674510633,
          0.9239669000776808,
          0.8718801930999487,
          0.8947986569270142,
          0.8033679857263956,
          0.8615923048960212,
          0.8775617004503147,
          0.8682309841959776,
          0.9266760074939662,
          0.8911664559448784,
          0.8801263425346406,
          0.8571970847293717,
          0.9096668712624504
         ]
        },
        {
         "line": {
          "width": 2
         },
         "mode": "lines",
         "name": "26880 Images used: Val loss: 1.197",
         "type": "scatter",
         "x": [
          1,
          2,
          3,
          4,
          5,
          6,
          7,
          8,
          9,
          10,
          11,
          12,
          13,
          14,
          15,
          16,
          17,
          18,
          19,
          20,
          21
         ],
         "y": [
          1.054350887617895,
          1.1623101110935952,
          1.216284397387618,
          1.1850155997448686,
          1.14423765325124,
          1.0270113020486962,
          1.091610634680309,
          1.1981564453478262,
          1.2736096187479082,
          1.2887570290160233,
          1.1734329786874949,
          1.220328933984663,
          1.2655908562772007,
          1.1950584003429816,
          1.1579410935794967,
          1.1678248335935804,
          1.148417743374671,
          1.172730194373844,
          1.1590167341119115,
          1.1956670157227325,
          1.1972031704821335
         ]
        }
       ],
       "layout": {
        "hovermode": "x unified",
        "legend": {
         "title": {
          "text": "Legend"
         }
        },
        "template": {
         "data": {
          "bar": [
           {
            "error_x": {
             "color": "#2a3f5f"
            },
            "error_y": {
             "color": "#2a3f5f"
            },
            "marker": {
             "line": {
              "color": "#E5ECF6",
              "width": 0.5
             },
             "pattern": {
              "fillmode": "overlay",
              "size": 10,
              "solidity": 0.2
             }
            },
            "type": "bar"
           }
          ],
          "barpolar": [
           {
            "marker": {
             "line": {
              "color": "#E5ECF6",
              "width": 0.5
             },
             "pattern": {
              "fillmode": "overlay",
              "size": 10,
              "solidity": 0.2
             }
            },
            "type": "barpolar"
           }
          ],
          "carpet": [
           {
            "aaxis": {
             "endlinecolor": "#2a3f5f",
             "gridcolor": "white",
             "linecolor": "white",
             "minorgridcolor": "white",
             "startlinecolor": "#2a3f5f"
            },
            "baxis": {
             "endlinecolor": "#2a3f5f",
             "gridcolor": "white",
             "linecolor": "white",
             "minorgridcolor": "white",
             "startlinecolor": "#2a3f5f"
            },
            "type": "carpet"
           }
          ],
          "choropleth": [
           {
            "colorbar": {
             "outlinewidth": 0,
             "ticks": ""
            },
            "type": "choropleth"
           }
          ],
          "contour": [
           {
            "colorbar": {
             "outlinewidth": 0,
             "ticks": ""
            },
            "colorscale": [
             [
              0,
              "#0d0887"
             ],
             [
              0.1111111111111111,
              "#46039f"
             ],
             [
              0.2222222222222222,
              "#7201a8"
             ],
             [
              0.3333333333333333,
              "#9c179e"
             ],
             [
              0.4444444444444444,
              "#bd3786"
             ],
             [
              0.5555555555555556,
              "#d8576b"
             ],
             [
              0.6666666666666666,
              "#ed7953"
             ],
             [
              0.7777777777777778,
              "#fb9f3a"
             ],
             [
              0.8888888888888888,
              "#fdca26"
             ],
             [
              1,
              "#f0f921"
             ]
            ],
            "type": "contour"
           }
          ],
          "contourcarpet": [
           {
            "colorbar": {
             "outlinewidth": 0,
             "ticks": ""
            },
            "type": "contourcarpet"
           }
          ],
          "heatmap": [
           {
            "colorbar": {
             "outlinewidth": 0,
             "ticks": ""
            },
            "colorscale": [
             [
              0,
              "#0d0887"
             ],
             [
              0.1111111111111111,
              "#46039f"
             ],
             [
              0.2222222222222222,
              "#7201a8"
             ],
             [
              0.3333333333333333,
              "#9c179e"
             ],
             [
              0.4444444444444444,
              "#bd3786"
             ],
             [
              0.5555555555555556,
              "#d8576b"
             ],
             [
              0.6666666666666666,
              "#ed7953"
             ],
             [
              0.7777777777777778,
              "#fb9f3a"
             ],
             [
              0.8888888888888888,
              "#fdca26"
             ],
             [
              1,
              "#f0f921"
             ]
            ],
            "type": "heatmap"
           }
          ],
          "heatmapgl": [
           {
            "colorbar": {
             "outlinewidth": 0,
             "ticks": ""
            },
            "colorscale": [
             [
              0,
              "#0d0887"
             ],
             [
              0.1111111111111111,
              "#46039f"
             ],
             [
              0.2222222222222222,
              "#7201a8"
             ],
             [
              0.3333333333333333,
              "#9c179e"
             ],
             [
              0.4444444444444444,
              "#bd3786"
             ],
             [
              0.5555555555555556,
              "#d8576b"
             ],
             [
              0.6666666666666666,
              "#ed7953"
             ],
             [
              0.7777777777777778,
              "#fb9f3a"
             ],
             [
              0.8888888888888888,
              "#fdca26"
             ],
             [
              1,
              "#f0f921"
             ]
            ],
            "type": "heatmapgl"
           }
          ],
          "histogram": [
           {
            "marker": {
             "pattern": {
              "fillmode": "overlay",
              "size": 10,
              "solidity": 0.2
             }
            },
            "type": "histogram"
           }
          ],
          "histogram2d": [
           {
            "colorbar": {
             "outlinewidth": 0,
             "ticks": ""
            },
            "colorscale": [
             [
              0,
              "#0d0887"
             ],
             [
              0.1111111111111111,
              "#46039f"
             ],
             [
              0.2222222222222222,
              "#7201a8"
             ],
             [
              0.3333333333333333,
              "#9c179e"
             ],
             [
              0.4444444444444444,
              "#bd3786"
             ],
             [
              0.5555555555555556,
              "#d8576b"
             ],
             [
              0.6666666666666666,
              "#ed7953"
             ],
             [
              0.7777777777777778,
              "#fb9f3a"
             ],
             [
              0.8888888888888888,
              "#fdca26"
             ],
             [
              1,
              "#f0f921"
             ]
            ],
            "type": "histogram2d"
           }
          ],
          "histogram2dcontour": [
           {
            "colorbar": {
             "outlinewidth": 0,
             "ticks": ""
            },
            "colorscale": [
             [
              0,
              "#0d0887"
             ],
             [
              0.1111111111111111,
              "#46039f"
             ],
             [
              0.2222222222222222,
              "#7201a8"
             ],
             [
              0.3333333333333333,
              "#9c179e"
             ],
             [
              0.4444444444444444,
              "#bd3786"
             ],
             [
              0.5555555555555556,
              "#d8576b"
             ],
             [
              0.6666666666666666,
              "#ed7953"
             ],
             [
              0.7777777777777778,
              "#fb9f3a"
             ],
             [
              0.8888888888888888,
              "#fdca26"
             ],
             [
              1,
              "#f0f921"
             ]
            ],
            "type": "histogram2dcontour"
           }
          ],
          "mesh3d": [
           {
            "colorbar": {
             "outlinewidth": 0,
             "ticks": ""
            },
            "type": "mesh3d"
           }
          ],
          "parcoords": [
           {
            "line": {
             "colorbar": {
              "outlinewidth": 0,
              "ticks": ""
             }
            },
            "type": "parcoords"
           }
          ],
          "pie": [
           {
            "automargin": true,
            "type": "pie"
           }
          ],
          "scatter": [
           {
            "fillpattern": {
             "fillmode": "overlay",
             "size": 10,
             "solidity": 0.2
            },
            "type": "scatter"
           }
          ],
          "scatter3d": [
           {
            "line": {
             "colorbar": {
              "outlinewidth": 0,
              "ticks": ""
             }
            },
            "marker": {
             "colorbar": {
              "outlinewidth": 0,
              "ticks": ""
             }
            },
            "type": "scatter3d"
           }
          ],
          "scattercarpet": [
           {
            "marker": {
             "colorbar": {
              "outlinewidth": 0,
              "ticks": ""
             }
            },
            "type": "scattercarpet"
           }
          ],
          "scattergeo": [
           {
            "marker": {
             "colorbar": {
              "outlinewidth": 0,
              "ticks": ""
             }
            },
            "type": "scattergeo"
           }
          ],
          "scattergl": [
           {
            "marker": {
             "colorbar": {
              "outlinewidth": 0,
              "ticks": ""
             }
            },
            "type": "scattergl"
           }
          ],
          "scattermapbox": [
           {
            "marker": {
             "colorbar": {
              "outlinewidth": 0,
              "ticks": ""
             }
            },
            "type": "scattermapbox"
           }
          ],
          "scatterpolar": [
           {
            "marker": {
             "colorbar": {
              "outlinewidth": 0,
              "ticks": ""
             }
            },
            "type": "scatterpolar"
           }
          ],
          "scatterpolargl": [
           {
            "marker": {
             "colorbar": {
              "outlinewidth": 0,
              "ticks": ""
             }
            },
            "type": "scatterpolargl"
           }
          ],
          "scatterternary": [
           {
            "marker": {
             "colorbar": {
              "outlinewidth": 0,
              "ticks": ""
             }
            },
            "type": "scatterternary"
           }
          ],
          "surface": [
           {
            "colorbar": {
             "outlinewidth": 0,
             "ticks": ""
            },
            "colorscale": [
             [
              0,
              "#0d0887"
             ],
             [
              0.1111111111111111,
              "#46039f"
             ],
             [
              0.2222222222222222,
              "#7201a8"
             ],
             [
              0.3333333333333333,
              "#9c179e"
             ],
             [
              0.4444444444444444,
              "#bd3786"
             ],
             [
              0.5555555555555556,
              "#d8576b"
             ],
             [
              0.6666666666666666,
              "#ed7953"
             ],
             [
              0.7777777777777778,
              "#fb9f3a"
             ],
             [
              0.8888888888888888,
              "#fdca26"
             ],
             [
              1,
              "#f0f921"
             ]
            ],
            "type": "surface"
           }
          ],
          "table": [
           {
            "cells": {
             "fill": {
              "color": "#EBF0F8"
             },
             "line": {
              "color": "white"
             }
            },
            "header": {
             "fill": {
              "color": "#C8D4E3"
             },
             "line": {
              "color": "white"
             }
            },
            "type": "table"
           }
          ]
         },
         "layout": {
          "annotationdefaults": {
           "arrowcolor": "#2a3f5f",
           "arrowhead": 0,
           "arrowwidth": 1
          },
          "autotypenumbers": "strict",
          "coloraxis": {
           "colorbar": {
            "outlinewidth": 0,
            "ticks": ""
           }
          },
          "colorscale": {
           "diverging": [
            [
             0,
             "#8e0152"
            ],
            [
             0.1,
             "#c51b7d"
            ],
            [
             0.2,
             "#de77ae"
            ],
            [
             0.3,
             "#f1b6da"
            ],
            [
             0.4,
             "#fde0ef"
            ],
            [
             0.5,
             "#f7f7f7"
            ],
            [
             0.6,
             "#e6f5d0"
            ],
            [
             0.7,
             "#b8e186"
            ],
            [
             0.8,
             "#7fbc41"
            ],
            [
             0.9,
             "#4d9221"
            ],
            [
             1,
             "#276419"
            ]
           ],
           "sequential": [
            [
             0,
             "#0d0887"
            ],
            [
             0.1111111111111111,
             "#46039f"
            ],
            [
             0.2222222222222222,
             "#7201a8"
            ],
            [
             0.3333333333333333,
             "#9c179e"
            ],
            [
             0.4444444444444444,
             "#bd3786"
            ],
            [
             0.5555555555555556,
             "#d8576b"
            ],
            [
             0.6666666666666666,
             "#ed7953"
            ],
            [
             0.7777777777777778,
             "#fb9f3a"
            ],
            [
             0.8888888888888888,
             "#fdca26"
            ],
            [
             1,
             "#f0f921"
            ]
           ],
           "sequentialminus": [
            [
             0,
             "#0d0887"
            ],
            [
             0.1111111111111111,
             "#46039f"
            ],
            [
             0.2222222222222222,
             "#7201a8"
            ],
            [
             0.3333333333333333,
             "#9c179e"
            ],
            [
             0.4444444444444444,
             "#bd3786"
            ],
            [
             0.5555555555555556,
             "#d8576b"
            ],
            [
             0.6666666666666666,
             "#ed7953"
            ],
            [
             0.7777777777777778,
             "#fb9f3a"
            ],
            [
             0.8888888888888888,
             "#fdca26"
            ],
            [
             1,
             "#f0f921"
            ]
           ]
          },
          "colorway": [
           "#636efa",
           "#EF553B",
           "#00cc96",
           "#ab63fa",
           "#FFA15A",
           "#19d3f3",
           "#FF6692",
           "#B6E880",
           "#FF97FF",
           "#FECB52"
          ],
          "font": {
           "color": "#2a3f5f"
          },
          "geo": {
           "bgcolor": "white",
           "lakecolor": "white",
           "landcolor": "#E5ECF6",
           "showlakes": true,
           "showland": true,
           "subunitcolor": "white"
          },
          "hoverlabel": {
           "align": "left"
          },
          "hovermode": "closest",
          "mapbox": {
           "style": "light"
          },
          "paper_bgcolor": "white",
          "plot_bgcolor": "#E5ECF6",
          "polar": {
           "angularaxis": {
            "gridcolor": "white",
            "linecolor": "white",
            "ticks": ""
           },
           "bgcolor": "#E5ECF6",
           "radialaxis": {
            "gridcolor": "white",
            "linecolor": "white",
            "ticks": ""
           }
          },
          "scene": {
           "xaxis": {
            "backgroundcolor": "#E5ECF6",
            "gridcolor": "white",
            "gridwidth": 2,
            "linecolor": "white",
            "showbackground": true,
            "ticks": "",
            "zerolinecolor": "white"
           },
           "yaxis": {
            "backgroundcolor": "#E5ECF6",
            "gridcolor": "white",
            "gridwidth": 2,
            "linecolor": "white",
            "showbackground": true,
            "ticks": "",
            "zerolinecolor": "white"
           },
           "zaxis": {
            "backgroundcolor": "#E5ECF6",
            "gridcolor": "white",
            "gridwidth": 2,
            "linecolor": "white",
            "showbackground": true,
            "ticks": "",
            "zerolinecolor": "white"
           }
          },
          "shapedefaults": {
           "line": {
            "color": "#2a3f5f"
           }
          },
          "ternary": {
           "aaxis": {
            "gridcolor": "white",
            "linecolor": "white",
            "ticks": ""
           },
           "baxis": {
            "gridcolor": "white",
            "linecolor": "white",
            "ticks": ""
           },
           "bgcolor": "#E5ECF6",
           "caxis": {
            "gridcolor": "white",
            "linecolor": "white",
            "ticks": ""
           }
          },
          "title": {
           "x": 0.05
          },
          "xaxis": {
           "automargin": true,
           "gridcolor": "white",
           "linecolor": "white",
           "ticks": "",
           "title": {
            "standoff": 15
           },
           "zerolinecolor": "white",
           "zerolinewidth": 2
          },
          "yaxis": {
           "automargin": true,
           "gridcolor": "white",
           "linecolor": "white",
           "ticks": "",
           "title": {
            "standoff": 15
           },
           "zerolinecolor": "white",
           "zerolinewidth": 2
          }
         }
        },
        "title": {
         "text": "Validation set loss using margin sampling"
        },
        "xaxis": {
         "title": {
          "text": "Number of Epochs"
         }
        },
        "yaxis": {
         "title": {
          "text": "Validation loss"
         }
        }
       }
      },
      "text/html": [
       "<div>                            <div id=\"91d6ea27-600c-40eb-857c-f7f11642c4e7\" class=\"plotly-graph-div\" style=\"height:525px; width:100%;\"></div>            <script type=\"text/javascript\">                require([\"plotly\"], function(Plotly) {                    window.PLOTLYENV=window.PLOTLYENV || {};                                    if (document.getElementById(\"91d6ea27-600c-40eb-857c-f7f11642c4e7\")) {                    Plotly.newPlot(                        \"91d6ea27-600c-40eb-857c-f7f11642c4e7\",                        [{\"line\":{\"width\":2},\"mode\":\"lines\",\"name\":\"8 Images used: Val loss: 2.237\",\"x\":[1,2,3,4,5,6,7,8,9,10,11,12,13,14,15,16,17,18,19],\"y\":[2.054226949479845,2.0212673326333364,1.9865096191565197,1.9784477336539164,1.993433478474617,2.0017911838160622,2.0168208334181044,2.039908640583356,2.05954657693704,2.0859319398800533,2.117687581645118,2.1407077640295027,2.153761250442929,2.1595334506697124,2.173300822575887,2.1849065333604814,2.203549141685168,2.2169558703899384,2.2369741515980825],\"type\":\"scatter\"},{\"line\":{\"width\":2},\"mode\":\"lines\",\"name\":\"24 Images used: Val loss: 1.539\",\"x\":[1,2,3,4,5,6,7,8,9,10,11,12,13,14,15,16,17,18,19,20,21,22,23,24,25,26,27,28,29,30,31,32,33,34,35,36,37,38,39,40,41,42,43,44,45,46,47,48,49,50,51,52],\"y\":[2.070232648319668,1.961342689726088,1.864778443508678,1.804108467201392,1.7347732818788952,1.6941432133316994,1.6653735434843435,1.631986933035983,1.6062046067582236,1.596155109256506,1.588575806385941,1.574994145333767,1.562432291607062,1.5583094840248426,1.5505579469932451,1.5486469991505143,1.5468686737120152,1.542966448681222,1.5464298584394984,1.541766207996342,1.5439963229000568,1.540937998228603,1.5387061970101463,1.5384329475462435,1.5376152685946889,1.5304579972392982,1.5321023299462266,1.5292258884343837,1.52848716535502,1.532544069074922,1.5330296274688509,1.5327800637318028,1.529713833083709,1.5252641775541835,1.5245634256965583,1.5236418367260032,1.522192544490099,1.5249816787739594,1.5253563909067047,1.524346427536673,1.5279117547803456,1.5251553412112924,1.5249597397115495,1.5239671485291586,1.524314905785852,1.5305856292446454,1.5311318276656998,1.5273474134504794,1.5313688610990843,1.529798881461223,1.534726246777508,1.5389778989884588],\"type\":\"scatter\"},{\"line\":{\"width\":2},\"mode\":\"lines\",\"name\":\"56 Images used: Val loss: 1.200\",\"x\":[1,2,3,4,5,6,7,8,9,10,11,12,13,14,15,16,17,18,19,20,21,22,23,24,25,26,27,28,29,30,31,32,33,34,35,36],\"y\":[1.3843841046094894,1.3117884994381004,1.3099141024880938,1.2745418267117603,1.2490722772975762,1.2374150331235594,1.2300081262158022,1.2189010030279557,1.2100931918869415,1.2169857715153032,1.2080066027740637,1.206064073658652,1.2060394980841214,1.2082848548475238,1.2085934188630847,1.2048332776046462,1.198271576066812,1.1979517554243406,1.197535750642419,1.1910153014378415,1.184452030724949,1.1870671160105202,1.190966139609615,1.1949946413437524,1.1995837449613544,1.193733659841948,1.1958856080141331,1.1928709691597357,1.196918676834967,1.189560657987992,1.192812561409341,1.1937793595095476,1.2037148175968064,1.191916133877304,1.194090908103519,1.200268374880155],\"type\":\"scatter\"},{\"line\":{\"width\":2},\"mode\":\"lines\",\"name\":\"120 Images used: Val loss: 0.899\",\"x\":[1,2,3,4,5,6,7,8,9,10,11,12,13,14,15,16,17,18,19,20,21,22,23,24,25,26,27,28,29,30,31,32],\"y\":[1.035513853530089,1.007669475219316,0.9751312696271472,0.9508558149553008,0.935786092819439,0.9257208990967936,0.923897235488726,0.9277415166298548,0.9175981850052872,0.9093348753742044,0.9143362749367951,0.912205092401968,0.901054476781024,0.9092649282680616,0.899389120667345,0.8982214688219958,0.8939366860315203,0.8984459050206675,0.9062562654208806,0.9003756730299857,0.8984730576889383,0.906520207122796,0.9094361123111512,0.9039700837805869,0.903217706663741,0.9026713895301024,0.9094173694236412,0.898753545474675,0.9022289612433976,0.8940997293425931,0.8989596917397447,0.8994612990775042],\"type\":\"scatter\"},{\"line\":{\"width\":2},\"mode\":\"lines\",\"name\":\"216 Images used: Val loss: 0.813\",\"x\":[1,2,3,4,5,6,7,8,9,10,11,12,13,14,15,16],\"y\":[0.7681690309817593,0.7861218580976128,0.7890786638276445,0.8188010363115205,0.7983355030831364,0.8016714702981214,0.807151722866628,0.7865926431905892,0.7926921862384512,0.7925402148833706,0.8040894926525652,0.8150475202749173,0.8056195224014421,0.79995861488084,0.8212458809009857,0.8127273929719295],\"type\":\"scatter\"},{\"line\":{\"width\":2},\"mode\":\"lines\",\"name\":\"392 Images used: Val loss: 0.787\",\"x\":[1,2,3,4,5,6,7,8,9,10,11,12,13,14,15,16,17,18,19],\"y\":[0.7693908522940345,0.7272972319792542,0.7383522393906282,0.7204139986489382,0.7749012325735142,0.7328458763762481,0.7295943708210769,0.7217171618818409,0.7331313024688926,0.7541568858445519,0.7603147375552605,0.7683227042150166,0.775453360668487,0.7917841494859507,0.7781404552619077,0.7772240523869792,0.7891118770465255,0.7975254358516799,0.7872602123715398],\"type\":\"scatter\"},{\"line\":{\"width\":2},\"mode\":\"lines\",\"name\":\"712 Images used: Val loss: 0.752\",\"x\":[1,2,3,4,5,6,7,8,9,10,11,12,13,14,15,16,17,18,19,20],\"y\":[0.7157000444001622,0.7023078113328666,0.6848010613013886,0.6805003756243322,0.6647206833586097,0.6978088405190243,0.7063187278341502,0.6831466926675703,0.7228815949159778,0.7259418586139671,0.7414537655370724,0.7481334800909584,0.7346576370066031,0.7271234260044164,0.7314507498535224,0.7592270534304488,0.7556042234930728,0.7607661734154034,0.7369224882632908,0.7518075709593379],\"type\":\"scatter\"},{\"line\":{\"width\":2},\"mode\":\"lines\",\"name\":\"1272 Images used: Val loss: 0.756\",\"x\":[1,2,3,4,5,6,7,8,9,10,11,12,13,14,15,16],\"y\":[0.65304434193143,0.6992515735819729,0.6917970002991044,0.6922765733609494,0.7097951858058675,0.7572958819076626,0.689343132220933,0.7424425046994454,0.7396274279893583,0.7454040284152142,0.7285117003407019,0.7394327550169287,0.736827481064635,0.7572954225431506,0.7760097217733144,0.7557047667641503],\"type\":\"scatter\"},{\"line\":{\"width\":2},\"mode\":\"lines\",\"name\":\"2264 Images used: Val loss: 0.785\",\"x\":[1,2,3,4,5,6,7,8,9,10,11,12,13,14,15,16,17,18],\"y\":[0.7202027073207622,0.684890207177442,0.6553586370247002,0.7000044911491892,0.7457822353320404,0.7055754457251169,0.7026936381680167,0.7437927446942518,0.722327443394008,0.7643119893256678,0.7841255170092659,0.7865977184116167,0.8075848830954379,0.7954462433350272,0.7966186136699334,0.7928293046450967,0.8083070388865761,0.7854764667171468],\"type\":\"scatter\"},{\"line\":{\"width\":2},\"mode\":\"lines\",\"name\":\"4040 Images used: Val loss: 0.783\",\"x\":[1,2,3,4,5,6,7,8,9,10,11,12,13,14,15,16,17,18,19,20,21,22],\"y\":[0.7080093266688183,0.6712934885212841,0.6824287955429301,0.6837714275539232,0.6971803402288869,0.6715479595340892,0.668342114107347,0.7200629187010539,0.6972542881008444,0.7476164958743741,0.7313673175709684,0.7267564975216778,0.7346663210987269,0.7747151281183404,0.7681240566217133,0.770859582128469,0.7702217762157993,0.7722270070966463,0.7637348185319246,0.7597198055061097,0.783583412656056,0.7831583061520683],\"type\":\"scatter\"},{\"line\":{\"width\":2},\"mode\":\"lines\",\"name\":\"7200 Images used: Val loss: 0.883\",\"x\":[1,2,3,4,5,6,7,8,9,10,11,12,13,14,15,16,17],\"y\":[0.782172745646676,0.7373619285095224,0.7923632870771042,0.7566885993188609,0.7585551402900212,0.7558319547601665,0.7871018375548172,0.8178957587133886,0.8086680417996831,0.8061550491292211,0.7754638126905775,0.7749557057026929,0.7982994655192468,0.8185159829231755,0.8298025966592831,0.8571774631269767,0.8825686800180443],\"type\":\"scatter\"},{\"line\":{\"width\":2},\"mode\":\"lines\",\"name\":\"12824 Images used: Val loss: 0.774\",\"x\":[1,2,3,4,5,6,7,8,9,10,11,12,13,14,15,16,17,18],\"y\":[0.7611117288515541,0.760765398537559,0.7202772067717483,0.7466084796317672,0.7847282186601661,0.7539569231924058,0.7912302993039096,0.7703572958229213,0.7558347428574861,0.7994877392421282,0.7735829735686518,0.799853550077872,0.7761597821225426,0.7974451306766747,0.8053206547205466,0.8090351122563233,0.7869413101484598,0.773940385944459],\"type\":\"scatter\"},{\"line\":{\"width\":2},\"mode\":\"lines\",\"name\":\"22824 Images used: Val loss: 0.910\",\"x\":[1,2,3,4,5,6,7,8,9,10,11,12,13,14,15,16,17,18,19,20,21,22,23],\"y\":[0.8353599364720543,0.8173588436041933,0.8331646910830588,0.7888588187659076,0.8891083963877463,0.9677688181137152,0.7853774473310396,0.7657988547054426,0.824038096704458,0.8384103831486653,0.8828478674510633,0.9239669000776808,0.8718801930999487,0.8947986569270142,0.8033679857263956,0.8615923048960212,0.8775617004503147,0.8682309841959776,0.9266760074939662,0.8911664559448784,0.8801263425346406,0.8571970847293717,0.9096668712624504],\"type\":\"scatter\"},{\"line\":{\"width\":2},\"mode\":\"lines\",\"name\":\"26880 Images used: Val loss: 1.197\",\"x\":[1,2,3,4,5,6,7,8,9,10,11,12,13,14,15,16,17,18,19,20,21],\"y\":[1.054350887617895,1.1623101110935952,1.216284397387618,1.1850155997448686,1.14423765325124,1.0270113020486962,1.091610634680309,1.1981564453478262,1.2736096187479082,1.2887570290160233,1.1734329786874949,1.220328933984663,1.2655908562772007,1.1950584003429816,1.1579410935794967,1.1678248335935804,1.148417743374671,1.172730194373844,1.1590167341119115,1.1956670157227325,1.1972031704821335],\"type\":\"scatter\"}],                        {\"template\":{\"data\":{\"histogram2dcontour\":[{\"type\":\"histogram2dcontour\",\"colorbar\":{\"outlinewidth\":0,\"ticks\":\"\"},\"colorscale\":[[0.0,\"#0d0887\"],[0.1111111111111111,\"#46039f\"],[0.2222222222222222,\"#7201a8\"],[0.3333333333333333,\"#9c179e\"],[0.4444444444444444,\"#bd3786\"],[0.5555555555555556,\"#d8576b\"],[0.6666666666666666,\"#ed7953\"],[0.7777777777777778,\"#fb9f3a\"],[0.8888888888888888,\"#fdca26\"],[1.0,\"#f0f921\"]]}],\"choropleth\":[{\"type\":\"choropleth\",\"colorbar\":{\"outlinewidth\":0,\"ticks\":\"\"}}],\"histogram2d\":[{\"type\":\"histogram2d\",\"colorbar\":{\"outlinewidth\":0,\"ticks\":\"\"},\"colorscale\":[[0.0,\"#0d0887\"],[0.1111111111111111,\"#46039f\"],[0.2222222222222222,\"#7201a8\"],[0.3333333333333333,\"#9c179e\"],[0.4444444444444444,\"#bd3786\"],[0.5555555555555556,\"#d8576b\"],[0.6666666666666666,\"#ed7953\"],[0.7777777777777778,\"#fb9f3a\"],[0.8888888888888888,\"#fdca26\"],[1.0,\"#f0f921\"]]}],\"heatmap\":[{\"type\":\"heatmap\",\"colorbar\":{\"outlinewidth\":0,\"ticks\":\"\"},\"colorscale\":[[0.0,\"#0d0887\"],[0.1111111111111111,\"#46039f\"],[0.2222222222222222,\"#7201a8\"],[0.3333333333333333,\"#9c179e\"],[0.4444444444444444,\"#bd3786\"],[0.5555555555555556,\"#d8576b\"],[0.6666666666666666,\"#ed7953\"],[0.7777777777777778,\"#fb9f3a\"],[0.8888888888888888,\"#fdca26\"],[1.0,\"#f0f921\"]]}],\"heatmapgl\":[{\"type\":\"heatmapgl\",\"colorbar\":{\"outlinewidth\":0,\"ticks\":\"\"},\"colorscale\":[[0.0,\"#0d0887\"],[0.1111111111111111,\"#46039f\"],[0.2222222222222222,\"#7201a8\"],[0.3333333333333333,\"#9c179e\"],[0.4444444444444444,\"#bd3786\"],[0.5555555555555556,\"#d8576b\"],[0.6666666666666666,\"#ed7953\"],[0.7777777777777778,\"#fb9f3a\"],[0.8888888888888888,\"#fdca26\"],[1.0,\"#f0f921\"]]}],\"contourcarpet\":[{\"type\":\"contourcarpet\",\"colorbar\":{\"outlinewidth\":0,\"ticks\":\"\"}}],\"contour\":[{\"type\":\"contour\",\"colorbar\":{\"outlinewidth\":0,\"ticks\":\"\"},\"colorscale\":[[0.0,\"#0d0887\"],[0.1111111111111111,\"#46039f\"],[0.2222222222222222,\"#7201a8\"],[0.3333333333333333,\"#9c179e\"],[0.4444444444444444,\"#bd3786\"],[0.5555555555555556,\"#d8576b\"],[0.6666666666666666,\"#ed7953\"],[0.7777777777777778,\"#fb9f3a\"],[0.8888888888888888,\"#fdca26\"],[1.0,\"#f0f921\"]]}],\"surface\":[{\"type\":\"surface\",\"colorbar\":{\"outlinewidth\":0,\"ticks\":\"\"},\"colorscale\":[[0.0,\"#0d0887\"],[0.1111111111111111,\"#46039f\"],[0.2222222222222222,\"#7201a8\"],[0.3333333333333333,\"#9c179e\"],[0.4444444444444444,\"#bd3786\"],[0.5555555555555556,\"#d8576b\"],[0.6666666666666666,\"#ed7953\"],[0.7777777777777778,\"#fb9f3a\"],[0.8888888888888888,\"#fdca26\"],[1.0,\"#f0f921\"]]}],\"mesh3d\":[{\"type\":\"mesh3d\",\"colorbar\":{\"outlinewidth\":0,\"ticks\":\"\"}}],\"scatter\":[{\"fillpattern\":{\"fillmode\":\"overlay\",\"size\":10,\"solidity\":0.2},\"type\":\"scatter\"}],\"parcoords\":[{\"type\":\"parcoords\",\"line\":{\"colorbar\":{\"outlinewidth\":0,\"ticks\":\"\"}}}],\"scatterpolargl\":[{\"type\":\"scatterpolargl\",\"marker\":{\"colorbar\":{\"outlinewidth\":0,\"ticks\":\"\"}}}],\"bar\":[{\"error_x\":{\"color\":\"#2a3f5f\"},\"error_y\":{\"color\":\"#2a3f5f\"},\"marker\":{\"line\":{\"color\":\"#E5ECF6\",\"width\":0.5},\"pattern\":{\"fillmode\":\"overlay\",\"size\":10,\"solidity\":0.2}},\"type\":\"bar\"}],\"scattergeo\":[{\"type\":\"scattergeo\",\"marker\":{\"colorbar\":{\"outlinewidth\":0,\"ticks\":\"\"}}}],\"scatterpolar\":[{\"type\":\"scatterpolar\",\"marker\":{\"colorbar\":{\"outlinewidth\":0,\"ticks\":\"\"}}}],\"histogram\":[{\"marker\":{\"pattern\":{\"fillmode\":\"overlay\",\"size\":10,\"solidity\":0.2}},\"type\":\"histogram\"}],\"scattergl\":[{\"type\":\"scattergl\",\"marker\":{\"colorbar\":{\"outlinewidth\":0,\"ticks\":\"\"}}}],\"scatter3d\":[{\"type\":\"scatter3d\",\"line\":{\"colorbar\":{\"outlinewidth\":0,\"ticks\":\"\"}},\"marker\":{\"colorbar\":{\"outlinewidth\":0,\"ticks\":\"\"}}}],\"scattermapbox\":[{\"type\":\"scattermapbox\",\"marker\":{\"colorbar\":{\"outlinewidth\":0,\"ticks\":\"\"}}}],\"scatterternary\":[{\"type\":\"scatterternary\",\"marker\":{\"colorbar\":{\"outlinewidth\":0,\"ticks\":\"\"}}}],\"scattercarpet\":[{\"type\":\"scattercarpet\",\"marker\":{\"colorbar\":{\"outlinewidth\":0,\"ticks\":\"\"}}}],\"carpet\":[{\"aaxis\":{\"endlinecolor\":\"#2a3f5f\",\"gridcolor\":\"white\",\"linecolor\":\"white\",\"minorgridcolor\":\"white\",\"startlinecolor\":\"#2a3f5f\"},\"baxis\":{\"endlinecolor\":\"#2a3f5f\",\"gridcolor\":\"white\",\"linecolor\":\"white\",\"minorgridcolor\":\"white\",\"startlinecolor\":\"#2a3f5f\"},\"type\":\"carpet\"}],\"table\":[{\"cells\":{\"fill\":{\"color\":\"#EBF0F8\"},\"line\":{\"color\":\"white\"}},\"header\":{\"fill\":{\"color\":\"#C8D4E3\"},\"line\":{\"color\":\"white\"}},\"type\":\"table\"}],\"barpolar\":[{\"marker\":{\"line\":{\"color\":\"#E5ECF6\",\"width\":0.5},\"pattern\":{\"fillmode\":\"overlay\",\"size\":10,\"solidity\":0.2}},\"type\":\"barpolar\"}],\"pie\":[{\"automargin\":true,\"type\":\"pie\"}]},\"layout\":{\"autotypenumbers\":\"strict\",\"colorway\":[\"#636efa\",\"#EF553B\",\"#00cc96\",\"#ab63fa\",\"#FFA15A\",\"#19d3f3\",\"#FF6692\",\"#B6E880\",\"#FF97FF\",\"#FECB52\"],\"font\":{\"color\":\"#2a3f5f\"},\"hovermode\":\"closest\",\"hoverlabel\":{\"align\":\"left\"},\"paper_bgcolor\":\"white\",\"plot_bgcolor\":\"#E5ECF6\",\"polar\":{\"bgcolor\":\"#E5ECF6\",\"angularaxis\":{\"gridcolor\":\"white\",\"linecolor\":\"white\",\"ticks\":\"\"},\"radialaxis\":{\"gridcolor\":\"white\",\"linecolor\":\"white\",\"ticks\":\"\"}},\"ternary\":{\"bgcolor\":\"#E5ECF6\",\"aaxis\":{\"gridcolor\":\"white\",\"linecolor\":\"white\",\"ticks\":\"\"},\"baxis\":{\"gridcolor\":\"white\",\"linecolor\":\"white\",\"ticks\":\"\"},\"caxis\":{\"gridcolor\":\"white\",\"linecolor\":\"white\",\"ticks\":\"\"}},\"coloraxis\":{\"colorbar\":{\"outlinewidth\":0,\"ticks\":\"\"}},\"colorscale\":{\"sequential\":[[0.0,\"#0d0887\"],[0.1111111111111111,\"#46039f\"],[0.2222222222222222,\"#7201a8\"],[0.3333333333333333,\"#9c179e\"],[0.4444444444444444,\"#bd3786\"],[0.5555555555555556,\"#d8576b\"],[0.6666666666666666,\"#ed7953\"],[0.7777777777777778,\"#fb9f3a\"],[0.8888888888888888,\"#fdca26\"],[1.0,\"#f0f921\"]],\"sequentialminus\":[[0.0,\"#0d0887\"],[0.1111111111111111,\"#46039f\"],[0.2222222222222222,\"#7201a8\"],[0.3333333333333333,\"#9c179e\"],[0.4444444444444444,\"#bd3786\"],[0.5555555555555556,\"#d8576b\"],[0.6666666666666666,\"#ed7953\"],[0.7777777777777778,\"#fb9f3a\"],[0.8888888888888888,\"#fdca26\"],[1.0,\"#f0f921\"]],\"diverging\":[[0,\"#8e0152\"],[0.1,\"#c51b7d\"],[0.2,\"#de77ae\"],[0.3,\"#f1b6da\"],[0.4,\"#fde0ef\"],[0.5,\"#f7f7f7\"],[0.6,\"#e6f5d0\"],[0.7,\"#b8e186\"],[0.8,\"#7fbc41\"],[0.9,\"#4d9221\"],[1,\"#276419\"]]},\"xaxis\":{\"gridcolor\":\"white\",\"linecolor\":\"white\",\"ticks\":\"\",\"title\":{\"standoff\":15},\"zerolinecolor\":\"white\",\"automargin\":true,\"zerolinewidth\":2},\"yaxis\":{\"gridcolor\":\"white\",\"linecolor\":\"white\",\"ticks\":\"\",\"title\":{\"standoff\":15},\"zerolinecolor\":\"white\",\"automargin\":true,\"zerolinewidth\":2},\"scene\":{\"xaxis\":{\"backgroundcolor\":\"#E5ECF6\",\"gridcolor\":\"white\",\"linecolor\":\"white\",\"showbackground\":true,\"ticks\":\"\",\"zerolinecolor\":\"white\",\"gridwidth\":2},\"yaxis\":{\"backgroundcolor\":\"#E5ECF6\",\"gridcolor\":\"white\",\"linecolor\":\"white\",\"showbackground\":true,\"ticks\":\"\",\"zerolinecolor\":\"white\",\"gridwidth\":2},\"zaxis\":{\"backgroundcolor\":\"#E5ECF6\",\"gridcolor\":\"white\",\"linecolor\":\"white\",\"showbackground\":true,\"ticks\":\"\",\"zerolinecolor\":\"white\",\"gridwidth\":2}},\"shapedefaults\":{\"line\":{\"color\":\"#2a3f5f\"}},\"annotationdefaults\":{\"arrowcolor\":\"#2a3f5f\",\"arrowhead\":0,\"arrowwidth\":1},\"geo\":{\"bgcolor\":\"white\",\"landcolor\":\"#E5ECF6\",\"subunitcolor\":\"white\",\"showland\":true,\"showlakes\":true,\"lakecolor\":\"white\"},\"title\":{\"x\":0.05},\"mapbox\":{\"style\":\"light\"}}},\"title\":{\"text\":\"Validation set loss using margin sampling\"},\"xaxis\":{\"title\":{\"text\":\"Number of Epochs\"}},\"yaxis\":{\"title\":{\"text\":\"Validation loss\"}},\"legend\":{\"title\":{\"text\":\"Legend\"}},\"hovermode\":\"x unified\"},                        {\"responsive\": true}                    ).then(function(){\n",
       "                            \n",
       "var gd = document.getElementById('91d6ea27-600c-40eb-857c-f7f11642c4e7');\n",
       "var x = new MutationObserver(function (mutations, observer) {{\n",
       "        var display = window.getComputedStyle(gd).display;\n",
       "        if (!display || display === 'none') {{\n",
       "            console.log([gd, 'removed!']);\n",
       "            Plotly.purge(gd);\n",
       "            observer.disconnect();\n",
       "        }}\n",
       "}});\n",
       "\n",
       "// Listen for the removal of the full notebook cells\n",
       "var notebookContainer = gd.closest('#notebook-container');\n",
       "if (notebookContainer) {{\n",
       "    x.observe(notebookContainer, {childList: true});\n",
       "}}\n",
       "\n",
       "// Listen for the clearing of the current output cell\n",
       "var outputEl = gd.closest('.output');\n",
       "if (outputEl) {{\n",
       "    x.observe(outputEl, {childList: true});\n",
       "}}\n",
       "\n",
       "                        })                };                });            </script>        </div>"
      ]
     },
     "metadata": {},
     "output_type": "display_data"
    }
   ],
   "source": [
    "plot_validation_performance_vs_epochs(\n",
    "    performance, \n",
    "    no_of_samples, \n",
    "    title=\"Validation set loss using margin sampling\", \n",
    "    x_axes=\"Number of Epochs\", \n",
    "    y_axes=\"Validation loss\", \n",
    "    plotting_curve=\"val loss\"\n",
    ")"
   ]
  },
  {
   "cell_type": "code",
   "execution_count": 16,
   "metadata": {},
   "outputs": [
    {
     "data": {
      "application/vnd.plotly.v1+json": {
       "config": {
        "plotlyServerURL": "https://plot.ly"
       },
       "data": [
        {
         "line": {
          "width": 2
         },
         "mode": "lines",
         "name": "8 Images used: Val F1 score: 0.028",
         "type": "scatter",
         "x": [
          1,
          2,
          3,
          4,
          5,
          6,
          7,
          8,
          9,
          10,
          11,
          12,
          13,
          14,
          15,
          16,
          17,
          18,
          19
         ],
         "y": [
          0.1677083333333333,
          0.2376736111111111,
          0.2300347222222222,
          0.1791666666666666,
          0.1229166666666666,
          0.1104166666666666,
          0.0961805555555555,
          0.0845486111111111,
          0.0796875,
          0.0753472222222222,
          0.0763888888888889,
          0.0664930555555555,
          0.0571180555555555,
          0.0517361111111111,
          0.0458333333333333,
          0.0381944444444444,
          0.0324652777777777,
          0.0279513888888888,
          0.0279513888888888
         ]
        },
        {
         "line": {
          "width": 2
         },
         "mode": "lines",
         "name": "24 Images used: Val F1 score: 0.546",
         "type": "scatter",
         "x": [
          1,
          2,
          3,
          4,
          5,
          6,
          7,
          8,
          9,
          10,
          11,
          12,
          13,
          14,
          15,
          16,
          17,
          18,
          19,
          20,
          21,
          22,
          23,
          24,
          25,
          26,
          27,
          28,
          29,
          30,
          31,
          32,
          33,
          34,
          35,
          36,
          37,
          38,
          39,
          40,
          41,
          42,
          43,
          44,
          45,
          46,
          47,
          48,
          49,
          50,
          51,
          52
         ],
         "y": [
          0.2019097222222222,
          0.3041666666666666,
          0.3678819444444444,
          0.4102430555555555,
          0.4328125,
          0.4456597222222222,
          0.4614583333333333,
          0.4821180555555555,
          0.4993055555555555,
          0.5078125,
          0.5173611111111112,
          0.5282986111111111,
          0.5366319444444444,
          0.5380208333333333,
          0.5380208333333333,
          0.5357638888888889,
          0.5355902777777778,
          0.5347222222222222,
          0.5361111111111111,
          0.5416666666666666,
          0.5401041666666667,
          0.5420138888888889,
          0.54375,
          0.5434027777777778,
          0.5411458333333333,
          0.5467013888888889,
          0.5461805555555556,
          0.5463541666666667,
          0.5461805555555556,
          0.5416666666666666,
          0.5414930555555556,
          0.5413194444444445,
          0.5449652777777778,
          0.5494791666666666,
          0.5475694444444444,
          0.5503472222222222,
          0.5475694444444444,
          0.5491319444444445,
          0.5449652777777778,
          0.5447916666666667,
          0.54375,
          0.5489583333333333,
          0.5453125,
          0.5451388888888888,
          0.546875,
          0.5421875,
          0.5423611111111111,
          0.5461805555555556,
          0.5435763888888889,
          0.546875,
          0.5461805555555556,
          0.5456597222222223
         ]
        },
        {
         "line": {
          "width": 2
         },
         "mode": "lines",
         "name": "56 Images used: Val F1 score: 0.631",
         "type": "scatter",
         "x": [
          1,
          2,
          3,
          4,
          5,
          6,
          7,
          8,
          9,
          10,
          11,
          12,
          13,
          14,
          15,
          16,
          17,
          18,
          19,
          20,
          21,
          22,
          23,
          24,
          25,
          26,
          27,
          28,
          29,
          30,
          31,
          32,
          33,
          34,
          35,
          36
         ],
         "y": [
          0.5807291666666666,
          0.5881944444444445,
          0.5979166666666667,
          0.6053819444444445,
          0.6192708333333333,
          0.6246527777777777,
          0.6256944444444444,
          0.6336805555555556,
          0.6366319444444445,
          0.6291666666666667,
          0.6298611111111111,
          0.6338541666666667,
          0.6373263888888889,
          0.6350694444444445,
          0.6321180555555556,
          0.63125,
          0.6352430555555556,
          0.6340277777777777,
          0.6357638888888889,
          0.6381944444444444,
          0.6420138888888889,
          0.6369791666666667,
          0.6380208333333334,
          0.6340277777777777,
          0.6352430555555556,
          0.6352430555555556,
          0.6348958333333333,
          0.6326388888888889,
          0.6347222222222222,
          0.6357638888888889,
          0.6373263888888889,
          0.6348958333333333,
          0.6307291666666667,
          0.6350694444444445,
          0.6340277777777777,
          0.63125
         ]
        },
        {
         "line": {
          "width": 2
         },
         "mode": "lines",
         "name": "120 Images used: Val F1 score: 0.690",
         "type": "scatter",
         "x": [
          1,
          2,
          3,
          4,
          5,
          6,
          7,
          8,
          9,
          10,
          11,
          12,
          13,
          14,
          15,
          16,
          17,
          18,
          19,
          20,
          21,
          22,
          23,
          24,
          25,
          26,
          27,
          28,
          29,
          30,
          31,
          32
         ],
         "y": [
          0.671875,
          0.6748263888888889,
          0.6786458333333333,
          0.6828125,
          0.6864583333333333,
          0.6894097222222222,
          0.6913194444444445,
          0.6885416666666667,
          0.6904513888888889,
          0.6866319444444444,
          0.6887152777777777,
          0.6904513888888889,
          0.6935763888888888,
          0.690625,
          0.6935763888888888,
          0.6925347222222222,
          0.6940972222222223,
          0.6909722222222222,
          0.6887152777777777,
          0.6894097222222222,
          0.6913194444444445,
          0.6871527777777777,
          0.6897569444444445,
          0.6895833333333333,
          0.6885416666666667,
          0.6918402777777778,
          0.6861111111111111,
          0.6899305555555556,
          0.6878472222222223,
          0.6918402777777778,
          0.6897569444444445,
          0.6904513888888889
         ]
        },
        {
         "line": {
          "width": 2
         },
         "mode": "lines",
         "name": "216 Images used: Val F1 score: 0.730",
         "type": "scatter",
         "x": [
          1,
          2,
          3,
          4,
          5,
          6,
          7,
          8,
          9,
          10,
          11,
          12,
          13,
          14,
          15,
          16
         ],
         "y": [
          0.7480902777777778,
          0.7350694444444444,
          0.7357638888888889,
          0.7246527777777778,
          0.7220486111111111,
          0.7307291666666667,
          0.7291666666666665,
          0.7428819444444444,
          0.7333333333333333,
          0.7317708333333334,
          0.7314236111111111,
          0.7260416666666667,
          0.7350694444444444,
          0.7347222222222223,
          0.7263888888888889,
          0.7300347222222222
         ]
        },
        {
         "line": {
          "width": 2
         },
         "mode": "lines",
         "name": "392 Images used: Val F1 score: 0.744",
         "type": "scatter",
         "x": [
          1,
          2,
          3,
          4,
          5,
          6,
          7,
          8,
          9,
          10,
          11,
          12,
          13,
          14,
          15,
          16,
          17,
          18,
          19
         ],
         "y": [
          0.7388888888888889,
          0.7585069444444446,
          0.7538194444444446,
          0.7564236111111112,
          0.7432291666666667,
          0.7541666666666665,
          0.7574652777777776,
          0.7532986111111111,
          0.7543402777777778,
          0.7517361111111112,
          0.7472222222222223,
          0.7425347222222222,
          0.7446180555555556,
          0.7430555555555556,
          0.746875,
          0.7454861111111111,
          0.7460069444444445,
          0.7423611111111111,
          0.7440972222222222
         ]
        },
        {
         "line": {
          "width": 2
         },
         "mode": "lines",
         "name": "712 Images used: Val F1 score: 0.782",
         "type": "scatter",
         "x": [
          1,
          2,
          3,
          4,
          5,
          6,
          7,
          8,
          9,
          10,
          11,
          12,
          13,
          14,
          15,
          16,
          17,
          18,
          19,
          20
         ],
         "y": [
          0.76875,
          0.7748263888888889,
          0.7828125,
          0.7829861111111112,
          0.7822916666666666,
          0.7781249999999998,
          0.7809027777777777,
          0.7850694444444445,
          0.775,
          0.781076388888889,
          0.7765625,
          0.7769097222222222,
          0.78125,
          0.7826388888888889,
          0.7836805555555556,
          0.7798611111111111,
          0.7822916666666666,
          0.7835069444444445,
          0.7866319444444444,
          0.7815972222222223
         ]
        },
        {
         "line": {
          "width": 2
         },
         "mode": "lines",
         "name": "1272 Images used: Val F1 score: 0.798",
         "type": "scatter",
         "x": [
          1,
          2,
          3,
          4,
          5,
          6,
          7,
          8,
          9,
          10,
          11,
          12,
          13,
          14,
          15,
          16
         ],
         "y": [
          0.7736111111111111,
          0.7664930555555556,
          0.7883680555555556,
          0.7885416666666668,
          0.7859375,
          0.7862847222222222,
          0.7970486111111111,
          0.7875,
          0.7911458333333333,
          0.7923611111111111,
          0.7935763888888888,
          0.7947916666666667,
          0.7956597222222223,
          0.7918402777777778,
          0.7920138888888889,
          0.7975694444444444
         ]
        },
        {
         "line": {
          "width": 2
         },
         "mode": "lines",
         "name": "2264 Images used: Val F1 score: 0.801",
         "type": "scatter",
         "x": [
          1,
          2,
          3,
          4,
          5,
          6,
          7,
          8,
          9,
          10,
          11,
          12,
          13,
          14,
          15,
          16,
          17,
          18
         ],
         "y": [
          0.784375,
          0.7819444444444444,
          0.7986111111111112,
          0.7979166666666667,
          0.7873263888888888,
          0.7986111111111112,
          0.7980902777777777,
          0.7960069444444444,
          0.803125,
          0.7958333333333333,
          0.7967013888888889,
          0.7970486111111111,
          0.7940972222222221,
          0.7970486111111111,
          0.7975694444444444,
          0.7984375,
          0.7993055555555556,
          0.8006944444444446
         ]
        },
        {
         "line": {
          "width": 2
         },
         "mode": "lines",
         "name": "4040 Images used: Val F1 score: 0.807",
         "type": "scatter",
         "x": [
          1,
          2,
          3,
          4,
          5,
          6,
          7,
          8,
          9,
          10,
          11,
          12,
          13,
          14,
          15,
          16,
          17,
          18,
          19,
          20,
          21,
          22
         ],
         "y": [
          0.7876736111111111,
          0.7899305555555556,
          0.7980902777777777,
          0.7907986111111113,
          0.7993055555555556,
          0.8013888888888889,
          0.8069444444444445,
          0.8026041666666667,
          0.803125,
          0.7989583333333332,
          0.8052083333333333,
          0.8062499999999999,
          0.8060763888888889,
          0.8038194444444444,
          0.8038194444444444,
          0.8038194444444444,
          0.8038194444444444,
          0.8064236111111112,
          0.8112847222222223,
          0.8090277777777779,
          0.8071180555555556,
          0.8065972222222222
         ]
        },
        {
         "line": {
          "width": 2
         },
         "mode": "lines",
         "name": "7200 Images used: Val F1 score: 0.806",
         "type": "scatter",
         "x": [
          1,
          2,
          3,
          4,
          5,
          6,
          7,
          8,
          9,
          10,
          11,
          12,
          13,
          14,
          15,
          16,
          17
         ],
         "y": [
          0.7979166666666667,
          0.8015625,
          0.8039930555555556,
          0.8079861111111111,
          0.8081597222222222,
          0.8123263888888889,
          0.8114583333333333,
          0.8006944444444446,
          0.8083333333333333,
          0.8076388888888889,
          0.8098958333333334,
          0.8125,
          0.8102430555555555,
          0.8064236111111112,
          0.8102430555555555,
          0.8088541666666667,
          0.8057291666666667
         ]
        },
        {
         "line": {
          "width": 2
         },
         "mode": "lines",
         "name": "12824 Images used: Val F1 score: 0.830",
         "type": "scatter",
         "x": [
          1,
          2,
          3,
          4,
          5,
          6,
          7,
          8,
          9,
          10,
          11,
          12,
          13,
          14,
          15,
          16,
          17,
          18
         ],
         "y": [
          0.8069444444444445,
          0.8102430555555555,
          0.8135416666666667,
          0.8083333333333333,
          0.8116319444444444,
          0.8241319444444445,
          0.8184027777777778,
          0.8282986111111111,
          0.8321180555555554,
          0.8262152777777778,
          0.8302083333333334,
          0.828125,
          0.8270833333333332,
          0.8269097222222223,
          0.8258680555555556,
          0.8258680555555556,
          0.831423611111111,
          0.8298611111111112
         ]
        },
        {
         "line": {
          "width": 2
         },
         "mode": "lines",
         "name": "22824 Images used: Val F1 score: 0.837",
         "type": "scatter",
         "x": [
          1,
          2,
          3,
          4,
          5,
          6,
          7,
          8,
          9,
          10,
          11,
          12,
          13,
          14,
          15,
          16,
          17,
          18,
          19,
          20,
          21,
          22,
          23
         ],
         "y": [
          0.7838541666666666,
          0.7876736111111111,
          0.7800347222222223,
          0.7911458333333333,
          0.7869791666666668,
          0.7777777777777778,
          0.8204861111111111,
          0.8272569444444444,
          0.8222222222222222,
          0.8223958333333333,
          0.8147569444444445,
          0.8199652777777777,
          0.8225694444444444,
          0.8300347222222222,
          0.8409722222222222,
          0.8388888888888889,
          0.8324652777777778,
          0.8315972222222223,
          0.8291666666666667,
          0.8378472222222222,
          0.8397569444444445,
          0.8411458333333333,
          0.8368055555555556
         ]
        },
        {
         "line": {
          "width": 2
         },
         "mode": "lines",
         "name": "26880 Images used: Val F1 score: 0.813",
         "type": "scatter",
         "x": [
          1,
          2,
          3,
          4,
          5,
          6,
          7,
          8,
          9,
          10,
          11,
          12,
          13,
          14,
          15,
          16,
          17,
          18,
          19,
          20,
          21
         ],
         "y": [
          0.7932291666666667,
          0.7725694444444444,
          0.7552083333333334,
          0.7800347222222223,
          0.7770833333333333,
          0.8026041666666667,
          0.8046875,
          0.7899305555555556,
          0.7833333333333333,
          0.7876736111111111,
          0.7958333333333333,
          0.7977430555555556,
          0.7914930555555556,
          0.803298611111111,
          0.8088541666666667,
          0.8109375,
          0.8147569444444445,
          0.8119791666666667,
          0.8145833333333333,
          0.8128472222222223,
          0.8133680555555556
         ]
        }
       ],
       "layout": {
        "hovermode": "x unified",
        "legend": {
         "title": {
          "text": "Legend"
         }
        },
        "template": {
         "data": {
          "bar": [
           {
            "error_x": {
             "color": "#2a3f5f"
            },
            "error_y": {
             "color": "#2a3f5f"
            },
            "marker": {
             "line": {
              "color": "#E5ECF6",
              "width": 0.5
             },
             "pattern": {
              "fillmode": "overlay",
              "size": 10,
              "solidity": 0.2
             }
            },
            "type": "bar"
           }
          ],
          "barpolar": [
           {
            "marker": {
             "line": {
              "color": "#E5ECF6",
              "width": 0.5
             },
             "pattern": {
              "fillmode": "overlay",
              "size": 10,
              "solidity": 0.2
             }
            },
            "type": "barpolar"
           }
          ],
          "carpet": [
           {
            "aaxis": {
             "endlinecolor": "#2a3f5f",
             "gridcolor": "white",
             "linecolor": "white",
             "minorgridcolor": "white",
             "startlinecolor": "#2a3f5f"
            },
            "baxis": {
             "endlinecolor": "#2a3f5f",
             "gridcolor": "white",
             "linecolor": "white",
             "minorgridcolor": "white",
             "startlinecolor": "#2a3f5f"
            },
            "type": "carpet"
           }
          ],
          "choropleth": [
           {
            "colorbar": {
             "outlinewidth": 0,
             "ticks": ""
            },
            "type": "choropleth"
           }
          ],
          "contour": [
           {
            "colorbar": {
             "outlinewidth": 0,
             "ticks": ""
            },
            "colorscale": [
             [
              0,
              "#0d0887"
             ],
             [
              0.1111111111111111,
              "#46039f"
             ],
             [
              0.2222222222222222,
              "#7201a8"
             ],
             [
              0.3333333333333333,
              "#9c179e"
             ],
             [
              0.4444444444444444,
              "#bd3786"
             ],
             [
              0.5555555555555556,
              "#d8576b"
             ],
             [
              0.6666666666666666,
              "#ed7953"
             ],
             [
              0.7777777777777778,
              "#fb9f3a"
             ],
             [
              0.8888888888888888,
              "#fdca26"
             ],
             [
              1,
              "#f0f921"
             ]
            ],
            "type": "contour"
           }
          ],
          "contourcarpet": [
           {
            "colorbar": {
             "outlinewidth": 0,
             "ticks": ""
            },
            "type": "contourcarpet"
           }
          ],
          "heatmap": [
           {
            "colorbar": {
             "outlinewidth": 0,
             "ticks": ""
            },
            "colorscale": [
             [
              0,
              "#0d0887"
             ],
             [
              0.1111111111111111,
              "#46039f"
             ],
             [
              0.2222222222222222,
              "#7201a8"
             ],
             [
              0.3333333333333333,
              "#9c179e"
             ],
             [
              0.4444444444444444,
              "#bd3786"
             ],
             [
              0.5555555555555556,
              "#d8576b"
             ],
             [
              0.6666666666666666,
              "#ed7953"
             ],
             [
              0.7777777777777778,
              "#fb9f3a"
             ],
             [
              0.8888888888888888,
              "#fdca26"
             ],
             [
              1,
              "#f0f921"
             ]
            ],
            "type": "heatmap"
           }
          ],
          "heatmapgl": [
           {
            "colorbar": {
             "outlinewidth": 0,
             "ticks": ""
            },
            "colorscale": [
             [
              0,
              "#0d0887"
             ],
             [
              0.1111111111111111,
              "#46039f"
             ],
             [
              0.2222222222222222,
              "#7201a8"
             ],
             [
              0.3333333333333333,
              "#9c179e"
             ],
             [
              0.4444444444444444,
              "#bd3786"
             ],
             [
              0.5555555555555556,
              "#d8576b"
             ],
             [
              0.6666666666666666,
              "#ed7953"
             ],
             [
              0.7777777777777778,
              "#fb9f3a"
             ],
             [
              0.8888888888888888,
              "#fdca26"
             ],
             [
              1,
              "#f0f921"
             ]
            ],
            "type": "heatmapgl"
           }
          ],
          "histogram": [
           {
            "marker": {
             "pattern": {
              "fillmode": "overlay",
              "size": 10,
              "solidity": 0.2
             }
            },
            "type": "histogram"
           }
          ],
          "histogram2d": [
           {
            "colorbar": {
             "outlinewidth": 0,
             "ticks": ""
            },
            "colorscale": [
             [
              0,
              "#0d0887"
             ],
             [
              0.1111111111111111,
              "#46039f"
             ],
             [
              0.2222222222222222,
              "#7201a8"
             ],
             [
              0.3333333333333333,
              "#9c179e"
             ],
             [
              0.4444444444444444,
              "#bd3786"
             ],
             [
              0.5555555555555556,
              "#d8576b"
             ],
             [
              0.6666666666666666,
              "#ed7953"
             ],
             [
              0.7777777777777778,
              "#fb9f3a"
             ],
             [
              0.8888888888888888,
              "#fdca26"
             ],
             [
              1,
              "#f0f921"
             ]
            ],
            "type": "histogram2d"
           }
          ],
          "histogram2dcontour": [
           {
            "colorbar": {
             "outlinewidth": 0,
             "ticks": ""
            },
            "colorscale": [
             [
              0,
              "#0d0887"
             ],
             [
              0.1111111111111111,
              "#46039f"
             ],
             [
              0.2222222222222222,
              "#7201a8"
             ],
             [
              0.3333333333333333,
              "#9c179e"
             ],
             [
              0.4444444444444444,
              "#bd3786"
             ],
             [
              0.5555555555555556,
              "#d8576b"
             ],
             [
              0.6666666666666666,
              "#ed7953"
             ],
             [
              0.7777777777777778,
              "#fb9f3a"
             ],
             [
              0.8888888888888888,
              "#fdca26"
             ],
             [
              1,
              "#f0f921"
             ]
            ],
            "type": "histogram2dcontour"
           }
          ],
          "mesh3d": [
           {
            "colorbar": {
             "outlinewidth": 0,
             "ticks": ""
            },
            "type": "mesh3d"
           }
          ],
          "parcoords": [
           {
            "line": {
             "colorbar": {
              "outlinewidth": 0,
              "ticks": ""
             }
            },
            "type": "parcoords"
           }
          ],
          "pie": [
           {
            "automargin": true,
            "type": "pie"
           }
          ],
          "scatter": [
           {
            "fillpattern": {
             "fillmode": "overlay",
             "size": 10,
             "solidity": 0.2
            },
            "type": "scatter"
           }
          ],
          "scatter3d": [
           {
            "line": {
             "colorbar": {
              "outlinewidth": 0,
              "ticks": ""
             }
            },
            "marker": {
             "colorbar": {
              "outlinewidth": 0,
              "ticks": ""
             }
            },
            "type": "scatter3d"
           }
          ],
          "scattercarpet": [
           {
            "marker": {
             "colorbar": {
              "outlinewidth": 0,
              "ticks": ""
             }
            },
            "type": "scattercarpet"
           }
          ],
          "scattergeo": [
           {
            "marker": {
             "colorbar": {
              "outlinewidth": 0,
              "ticks": ""
             }
            },
            "type": "scattergeo"
           }
          ],
          "scattergl": [
           {
            "marker": {
             "colorbar": {
              "outlinewidth": 0,
              "ticks": ""
             }
            },
            "type": "scattergl"
           }
          ],
          "scattermapbox": [
           {
            "marker": {
             "colorbar": {
              "outlinewidth": 0,
              "ticks": ""
             }
            },
            "type": "scattermapbox"
           }
          ],
          "scatterpolar": [
           {
            "marker": {
             "colorbar": {
              "outlinewidth": 0,
              "ticks": ""
             }
            },
            "type": "scatterpolar"
           }
          ],
          "scatterpolargl": [
           {
            "marker": {
             "colorbar": {
              "outlinewidth": 0,
              "ticks": ""
             }
            },
            "type": "scatterpolargl"
           }
          ],
          "scatterternary": [
           {
            "marker": {
             "colorbar": {
              "outlinewidth": 0,
              "ticks": ""
             }
            },
            "type": "scatterternary"
           }
          ],
          "surface": [
           {
            "colorbar": {
             "outlinewidth": 0,
             "ticks": ""
            },
            "colorscale": [
             [
              0,
              "#0d0887"
             ],
             [
              0.1111111111111111,
              "#46039f"
             ],
             [
              0.2222222222222222,
              "#7201a8"
             ],
             [
              0.3333333333333333,
              "#9c179e"
             ],
             [
              0.4444444444444444,
              "#bd3786"
             ],
             [
              0.5555555555555556,
              "#d8576b"
             ],
             [
              0.6666666666666666,
              "#ed7953"
             ],
             [
              0.7777777777777778,
              "#fb9f3a"
             ],
             [
              0.8888888888888888,
              "#fdca26"
             ],
             [
              1,
              "#f0f921"
             ]
            ],
            "type": "surface"
           }
          ],
          "table": [
           {
            "cells": {
             "fill": {
              "color": "#EBF0F8"
             },
             "line": {
              "color": "white"
             }
            },
            "header": {
             "fill": {
              "color": "#C8D4E3"
             },
             "line": {
              "color": "white"
             }
            },
            "type": "table"
           }
          ]
         },
         "layout": {
          "annotationdefaults": {
           "arrowcolor": "#2a3f5f",
           "arrowhead": 0,
           "arrowwidth": 1
          },
          "autotypenumbers": "strict",
          "coloraxis": {
           "colorbar": {
            "outlinewidth": 0,
            "ticks": ""
           }
          },
          "colorscale": {
           "diverging": [
            [
             0,
             "#8e0152"
            ],
            [
             0.1,
             "#c51b7d"
            ],
            [
             0.2,
             "#de77ae"
            ],
            [
             0.3,
             "#f1b6da"
            ],
            [
             0.4,
             "#fde0ef"
            ],
            [
             0.5,
             "#f7f7f7"
            ],
            [
             0.6,
             "#e6f5d0"
            ],
            [
             0.7,
             "#b8e186"
            ],
            [
             0.8,
             "#7fbc41"
            ],
            [
             0.9,
             "#4d9221"
            ],
            [
             1,
             "#276419"
            ]
           ],
           "sequential": [
            [
             0,
             "#0d0887"
            ],
            [
             0.1111111111111111,
             "#46039f"
            ],
            [
             0.2222222222222222,
             "#7201a8"
            ],
            [
             0.3333333333333333,
             "#9c179e"
            ],
            [
             0.4444444444444444,
             "#bd3786"
            ],
            [
             0.5555555555555556,
             "#d8576b"
            ],
            [
             0.6666666666666666,
             "#ed7953"
            ],
            [
             0.7777777777777778,
             "#fb9f3a"
            ],
            [
             0.8888888888888888,
             "#fdca26"
            ],
            [
             1,
             "#f0f921"
            ]
           ],
           "sequentialminus": [
            [
             0,
             "#0d0887"
            ],
            [
             0.1111111111111111,
             "#46039f"
            ],
            [
             0.2222222222222222,
             "#7201a8"
            ],
            [
             0.3333333333333333,
             "#9c179e"
            ],
            [
             0.4444444444444444,
             "#bd3786"
            ],
            [
             0.5555555555555556,
             "#d8576b"
            ],
            [
             0.6666666666666666,
             "#ed7953"
            ],
            [
             0.7777777777777778,
             "#fb9f3a"
            ],
            [
             0.8888888888888888,
             "#fdca26"
            ],
            [
             1,
             "#f0f921"
            ]
           ]
          },
          "colorway": [
           "#636efa",
           "#EF553B",
           "#00cc96",
           "#ab63fa",
           "#FFA15A",
           "#19d3f3",
           "#FF6692",
           "#B6E880",
           "#FF97FF",
           "#FECB52"
          ],
          "font": {
           "color": "#2a3f5f"
          },
          "geo": {
           "bgcolor": "white",
           "lakecolor": "white",
           "landcolor": "#E5ECF6",
           "showlakes": true,
           "showland": true,
           "subunitcolor": "white"
          },
          "hoverlabel": {
           "align": "left"
          },
          "hovermode": "closest",
          "mapbox": {
           "style": "light"
          },
          "paper_bgcolor": "white",
          "plot_bgcolor": "#E5ECF6",
          "polar": {
           "angularaxis": {
            "gridcolor": "white",
            "linecolor": "white",
            "ticks": ""
           },
           "bgcolor": "#E5ECF6",
           "radialaxis": {
            "gridcolor": "white",
            "linecolor": "white",
            "ticks": ""
           }
          },
          "scene": {
           "xaxis": {
            "backgroundcolor": "#E5ECF6",
            "gridcolor": "white",
            "gridwidth": 2,
            "linecolor": "white",
            "showbackground": true,
            "ticks": "",
            "zerolinecolor": "white"
           },
           "yaxis": {
            "backgroundcolor": "#E5ECF6",
            "gridcolor": "white",
            "gridwidth": 2,
            "linecolor": "white",
            "showbackground": true,
            "ticks": "",
            "zerolinecolor": "white"
           },
           "zaxis": {
            "backgroundcolor": "#E5ECF6",
            "gridcolor": "white",
            "gridwidth": 2,
            "linecolor": "white",
            "showbackground": true,
            "ticks": "",
            "zerolinecolor": "white"
           }
          },
          "shapedefaults": {
           "line": {
            "color": "#2a3f5f"
           }
          },
          "ternary": {
           "aaxis": {
            "gridcolor": "white",
            "linecolor": "white",
            "ticks": ""
           },
           "baxis": {
            "gridcolor": "white",
            "linecolor": "white",
            "ticks": ""
           },
           "bgcolor": "#E5ECF6",
           "caxis": {
            "gridcolor": "white",
            "linecolor": "white",
            "ticks": ""
           }
          },
          "title": {
           "x": 0.05
          },
          "xaxis": {
           "automargin": true,
           "gridcolor": "white",
           "linecolor": "white",
           "ticks": "",
           "title": {
            "standoff": 15
           },
           "zerolinecolor": "white",
           "zerolinewidth": 2
          },
          "yaxis": {
           "automargin": true,
           "gridcolor": "white",
           "linecolor": "white",
           "ticks": "",
           "title": {
            "standoff": 15
           },
           "zerolinecolor": "white",
           "zerolinewidth": 2
          }
         }
        },
        "title": {
         "text": "Validation set F1 using margin sampling"
        },
        "xaxis": {
         "title": {
          "text": "Number of Epochs"
         }
        },
        "yaxis": {
         "title": {
          "text": "Validation F1 score"
         }
        }
       }
      },
      "text/html": [
       "<div>                            <div id=\"dfd3c00c-9a07-427c-b67a-17ef611cf80c\" class=\"plotly-graph-div\" style=\"height:525px; width:100%;\"></div>            <script type=\"text/javascript\">                require([\"plotly\"], function(Plotly) {                    window.PLOTLYENV=window.PLOTLYENV || {};                                    if (document.getElementById(\"dfd3c00c-9a07-427c-b67a-17ef611cf80c\")) {                    Plotly.newPlot(                        \"dfd3c00c-9a07-427c-b67a-17ef611cf80c\",                        [{\"line\":{\"width\":2},\"mode\":\"lines\",\"name\":\"8 Images used: Val F1 score: 0.028\",\"x\":[1,2,3,4,5,6,7,8,9,10,11,12,13,14,15,16,17,18,19],\"y\":[0.1677083333333333,0.2376736111111111,0.2300347222222222,0.1791666666666666,0.1229166666666666,0.1104166666666666,0.0961805555555555,0.0845486111111111,0.0796875,0.0753472222222222,0.0763888888888889,0.0664930555555555,0.0571180555555555,0.0517361111111111,0.0458333333333333,0.0381944444444444,0.0324652777777777,0.0279513888888888,0.0279513888888888],\"type\":\"scatter\"},{\"line\":{\"width\":2},\"mode\":\"lines\",\"name\":\"24 Images used: Val F1 score: 0.546\",\"x\":[1,2,3,4,5,6,7,8,9,10,11,12,13,14,15,16,17,18,19,20,21,22,23,24,25,26,27,28,29,30,31,32,33,34,35,36,37,38,39,40,41,42,43,44,45,46,47,48,49,50,51,52],\"y\":[0.2019097222222222,0.3041666666666666,0.3678819444444444,0.4102430555555555,0.4328125,0.4456597222222222,0.4614583333333333,0.4821180555555555,0.4993055555555555,0.5078125,0.5173611111111112,0.5282986111111111,0.5366319444444444,0.5380208333333333,0.5380208333333333,0.5357638888888889,0.5355902777777778,0.5347222222222222,0.5361111111111111,0.5416666666666666,0.5401041666666667,0.5420138888888889,0.54375,0.5434027777777778,0.5411458333333333,0.5467013888888889,0.5461805555555556,0.5463541666666667,0.5461805555555556,0.5416666666666666,0.5414930555555556,0.5413194444444445,0.5449652777777778,0.5494791666666666,0.5475694444444444,0.5503472222222222,0.5475694444444444,0.5491319444444445,0.5449652777777778,0.5447916666666667,0.54375,0.5489583333333333,0.5453125,0.5451388888888888,0.546875,0.5421875,0.5423611111111111,0.5461805555555556,0.5435763888888889,0.546875,0.5461805555555556,0.5456597222222223],\"type\":\"scatter\"},{\"line\":{\"width\":2},\"mode\":\"lines\",\"name\":\"56 Images used: Val F1 score: 0.631\",\"x\":[1,2,3,4,5,6,7,8,9,10,11,12,13,14,15,16,17,18,19,20,21,22,23,24,25,26,27,28,29,30,31,32,33,34,35,36],\"y\":[0.5807291666666666,0.5881944444444445,0.5979166666666667,0.6053819444444445,0.6192708333333333,0.6246527777777777,0.6256944444444444,0.6336805555555556,0.6366319444444445,0.6291666666666667,0.6298611111111111,0.6338541666666667,0.6373263888888889,0.6350694444444445,0.6321180555555556,0.63125,0.6352430555555556,0.6340277777777777,0.6357638888888889,0.6381944444444444,0.6420138888888889,0.6369791666666667,0.6380208333333334,0.6340277777777777,0.6352430555555556,0.6352430555555556,0.6348958333333333,0.6326388888888889,0.6347222222222222,0.6357638888888889,0.6373263888888889,0.6348958333333333,0.6307291666666667,0.6350694444444445,0.6340277777777777,0.63125],\"type\":\"scatter\"},{\"line\":{\"width\":2},\"mode\":\"lines\",\"name\":\"120 Images used: Val F1 score: 0.690\",\"x\":[1,2,3,4,5,6,7,8,9,10,11,12,13,14,15,16,17,18,19,20,21,22,23,24,25,26,27,28,29,30,31,32],\"y\":[0.671875,0.6748263888888889,0.6786458333333333,0.6828125,0.6864583333333333,0.6894097222222222,0.6913194444444445,0.6885416666666667,0.6904513888888889,0.6866319444444444,0.6887152777777777,0.6904513888888889,0.6935763888888888,0.690625,0.6935763888888888,0.6925347222222222,0.6940972222222223,0.6909722222222222,0.6887152777777777,0.6894097222222222,0.6913194444444445,0.6871527777777777,0.6897569444444445,0.6895833333333333,0.6885416666666667,0.6918402777777778,0.6861111111111111,0.6899305555555556,0.6878472222222223,0.6918402777777778,0.6897569444444445,0.6904513888888889],\"type\":\"scatter\"},{\"line\":{\"width\":2},\"mode\":\"lines\",\"name\":\"216 Images used: Val F1 score: 0.730\",\"x\":[1,2,3,4,5,6,7,8,9,10,11,12,13,14,15,16],\"y\":[0.7480902777777778,0.7350694444444444,0.7357638888888889,0.7246527777777778,0.7220486111111111,0.7307291666666667,0.7291666666666665,0.7428819444444444,0.7333333333333333,0.7317708333333334,0.7314236111111111,0.7260416666666667,0.7350694444444444,0.7347222222222223,0.7263888888888889,0.7300347222222222],\"type\":\"scatter\"},{\"line\":{\"width\":2},\"mode\":\"lines\",\"name\":\"392 Images used: Val F1 score: 0.744\",\"x\":[1,2,3,4,5,6,7,8,9,10,11,12,13,14,15,16,17,18,19],\"y\":[0.7388888888888889,0.7585069444444446,0.7538194444444446,0.7564236111111112,0.7432291666666667,0.7541666666666665,0.7574652777777776,0.7532986111111111,0.7543402777777778,0.7517361111111112,0.7472222222222223,0.7425347222222222,0.7446180555555556,0.7430555555555556,0.746875,0.7454861111111111,0.7460069444444445,0.7423611111111111,0.7440972222222222],\"type\":\"scatter\"},{\"line\":{\"width\":2},\"mode\":\"lines\",\"name\":\"712 Images used: Val F1 score: 0.782\",\"x\":[1,2,3,4,5,6,7,8,9,10,11,12,13,14,15,16,17,18,19,20],\"y\":[0.76875,0.7748263888888889,0.7828125,0.7829861111111112,0.7822916666666666,0.7781249999999998,0.7809027777777777,0.7850694444444445,0.775,0.781076388888889,0.7765625,0.7769097222222222,0.78125,0.7826388888888889,0.7836805555555556,0.7798611111111111,0.7822916666666666,0.7835069444444445,0.7866319444444444,0.7815972222222223],\"type\":\"scatter\"},{\"line\":{\"width\":2},\"mode\":\"lines\",\"name\":\"1272 Images used: Val F1 score: 0.798\",\"x\":[1,2,3,4,5,6,7,8,9,10,11,12,13,14,15,16],\"y\":[0.7736111111111111,0.7664930555555556,0.7883680555555556,0.7885416666666668,0.7859375,0.7862847222222222,0.7970486111111111,0.7875,0.7911458333333333,0.7923611111111111,0.7935763888888888,0.7947916666666667,0.7956597222222223,0.7918402777777778,0.7920138888888889,0.7975694444444444],\"type\":\"scatter\"},{\"line\":{\"width\":2},\"mode\":\"lines\",\"name\":\"2264 Images used: Val F1 score: 0.801\",\"x\":[1,2,3,4,5,6,7,8,9,10,11,12,13,14,15,16,17,18],\"y\":[0.784375,0.7819444444444444,0.7986111111111112,0.7979166666666667,0.7873263888888888,0.7986111111111112,0.7980902777777777,0.7960069444444444,0.803125,0.7958333333333333,0.7967013888888889,0.7970486111111111,0.7940972222222221,0.7970486111111111,0.7975694444444444,0.7984375,0.7993055555555556,0.8006944444444446],\"type\":\"scatter\"},{\"line\":{\"width\":2},\"mode\":\"lines\",\"name\":\"4040 Images used: Val F1 score: 0.807\",\"x\":[1,2,3,4,5,6,7,8,9,10,11,12,13,14,15,16,17,18,19,20,21,22],\"y\":[0.7876736111111111,0.7899305555555556,0.7980902777777777,0.7907986111111113,0.7993055555555556,0.8013888888888889,0.8069444444444445,0.8026041666666667,0.803125,0.7989583333333332,0.8052083333333333,0.8062499999999999,0.8060763888888889,0.8038194444444444,0.8038194444444444,0.8038194444444444,0.8038194444444444,0.8064236111111112,0.8112847222222223,0.8090277777777779,0.8071180555555556,0.8065972222222222],\"type\":\"scatter\"},{\"line\":{\"width\":2},\"mode\":\"lines\",\"name\":\"7200 Images used: Val F1 score: 0.806\",\"x\":[1,2,3,4,5,6,7,8,9,10,11,12,13,14,15,16,17],\"y\":[0.7979166666666667,0.8015625,0.8039930555555556,0.8079861111111111,0.8081597222222222,0.8123263888888889,0.8114583333333333,0.8006944444444446,0.8083333333333333,0.8076388888888889,0.8098958333333334,0.8125,0.8102430555555555,0.8064236111111112,0.8102430555555555,0.8088541666666667,0.8057291666666667],\"type\":\"scatter\"},{\"line\":{\"width\":2},\"mode\":\"lines\",\"name\":\"12824 Images used: Val F1 score: 0.830\",\"x\":[1,2,3,4,5,6,7,8,9,10,11,12,13,14,15,16,17,18],\"y\":[0.8069444444444445,0.8102430555555555,0.8135416666666667,0.8083333333333333,0.8116319444444444,0.8241319444444445,0.8184027777777778,0.8282986111111111,0.8321180555555554,0.8262152777777778,0.8302083333333334,0.828125,0.8270833333333332,0.8269097222222223,0.8258680555555556,0.8258680555555556,0.831423611111111,0.8298611111111112],\"type\":\"scatter\"},{\"line\":{\"width\":2},\"mode\":\"lines\",\"name\":\"22824 Images used: Val F1 score: 0.837\",\"x\":[1,2,3,4,5,6,7,8,9,10,11,12,13,14,15,16,17,18,19,20,21,22,23],\"y\":[0.7838541666666666,0.7876736111111111,0.7800347222222223,0.7911458333333333,0.7869791666666668,0.7777777777777778,0.8204861111111111,0.8272569444444444,0.8222222222222222,0.8223958333333333,0.8147569444444445,0.8199652777777777,0.8225694444444444,0.8300347222222222,0.8409722222222222,0.8388888888888889,0.8324652777777778,0.8315972222222223,0.8291666666666667,0.8378472222222222,0.8397569444444445,0.8411458333333333,0.8368055555555556],\"type\":\"scatter\"},{\"line\":{\"width\":2},\"mode\":\"lines\",\"name\":\"26880 Images used: Val F1 score: 0.813\",\"x\":[1,2,3,4,5,6,7,8,9,10,11,12,13,14,15,16,17,18,19,20,21],\"y\":[0.7932291666666667,0.7725694444444444,0.7552083333333334,0.7800347222222223,0.7770833333333333,0.8026041666666667,0.8046875,0.7899305555555556,0.7833333333333333,0.7876736111111111,0.7958333333333333,0.7977430555555556,0.7914930555555556,0.803298611111111,0.8088541666666667,0.8109375,0.8147569444444445,0.8119791666666667,0.8145833333333333,0.8128472222222223,0.8133680555555556],\"type\":\"scatter\"}],                        {\"template\":{\"data\":{\"histogram2dcontour\":[{\"type\":\"histogram2dcontour\",\"colorbar\":{\"outlinewidth\":0,\"ticks\":\"\"},\"colorscale\":[[0.0,\"#0d0887\"],[0.1111111111111111,\"#46039f\"],[0.2222222222222222,\"#7201a8\"],[0.3333333333333333,\"#9c179e\"],[0.4444444444444444,\"#bd3786\"],[0.5555555555555556,\"#d8576b\"],[0.6666666666666666,\"#ed7953\"],[0.7777777777777778,\"#fb9f3a\"],[0.8888888888888888,\"#fdca26\"],[1.0,\"#f0f921\"]]}],\"choropleth\":[{\"type\":\"choropleth\",\"colorbar\":{\"outlinewidth\":0,\"ticks\":\"\"}}],\"histogram2d\":[{\"type\":\"histogram2d\",\"colorbar\":{\"outlinewidth\":0,\"ticks\":\"\"},\"colorscale\":[[0.0,\"#0d0887\"],[0.1111111111111111,\"#46039f\"],[0.2222222222222222,\"#7201a8\"],[0.3333333333333333,\"#9c179e\"],[0.4444444444444444,\"#bd3786\"],[0.5555555555555556,\"#d8576b\"],[0.6666666666666666,\"#ed7953\"],[0.7777777777777778,\"#fb9f3a\"],[0.8888888888888888,\"#fdca26\"],[1.0,\"#f0f921\"]]}],\"heatmap\":[{\"type\":\"heatmap\",\"colorbar\":{\"outlinewidth\":0,\"ticks\":\"\"},\"colorscale\":[[0.0,\"#0d0887\"],[0.1111111111111111,\"#46039f\"],[0.2222222222222222,\"#7201a8\"],[0.3333333333333333,\"#9c179e\"],[0.4444444444444444,\"#bd3786\"],[0.5555555555555556,\"#d8576b\"],[0.6666666666666666,\"#ed7953\"],[0.7777777777777778,\"#fb9f3a\"],[0.8888888888888888,\"#fdca26\"],[1.0,\"#f0f921\"]]}],\"heatmapgl\":[{\"type\":\"heatmapgl\",\"colorbar\":{\"outlinewidth\":0,\"ticks\":\"\"},\"colorscale\":[[0.0,\"#0d0887\"],[0.1111111111111111,\"#46039f\"],[0.2222222222222222,\"#7201a8\"],[0.3333333333333333,\"#9c179e\"],[0.4444444444444444,\"#bd3786\"],[0.5555555555555556,\"#d8576b\"],[0.6666666666666666,\"#ed7953\"],[0.7777777777777778,\"#fb9f3a\"],[0.8888888888888888,\"#fdca26\"],[1.0,\"#f0f921\"]]}],\"contourcarpet\":[{\"type\":\"contourcarpet\",\"colorbar\":{\"outlinewidth\":0,\"ticks\":\"\"}}],\"contour\":[{\"type\":\"contour\",\"colorbar\":{\"outlinewidth\":0,\"ticks\":\"\"},\"colorscale\":[[0.0,\"#0d0887\"],[0.1111111111111111,\"#46039f\"],[0.2222222222222222,\"#7201a8\"],[0.3333333333333333,\"#9c179e\"],[0.4444444444444444,\"#bd3786\"],[0.5555555555555556,\"#d8576b\"],[0.6666666666666666,\"#ed7953\"],[0.7777777777777778,\"#fb9f3a\"],[0.8888888888888888,\"#fdca26\"],[1.0,\"#f0f921\"]]}],\"surface\":[{\"type\":\"surface\",\"colorbar\":{\"outlinewidth\":0,\"ticks\":\"\"},\"colorscale\":[[0.0,\"#0d0887\"],[0.1111111111111111,\"#46039f\"],[0.2222222222222222,\"#7201a8\"],[0.3333333333333333,\"#9c179e\"],[0.4444444444444444,\"#bd3786\"],[0.5555555555555556,\"#d8576b\"],[0.6666666666666666,\"#ed7953\"],[0.7777777777777778,\"#fb9f3a\"],[0.8888888888888888,\"#fdca26\"],[1.0,\"#f0f921\"]]}],\"mesh3d\":[{\"type\":\"mesh3d\",\"colorbar\":{\"outlinewidth\":0,\"ticks\":\"\"}}],\"scatter\":[{\"fillpattern\":{\"fillmode\":\"overlay\",\"size\":10,\"solidity\":0.2},\"type\":\"scatter\"}],\"parcoords\":[{\"type\":\"parcoords\",\"line\":{\"colorbar\":{\"outlinewidth\":0,\"ticks\":\"\"}}}],\"scatterpolargl\":[{\"type\":\"scatterpolargl\",\"marker\":{\"colorbar\":{\"outlinewidth\":0,\"ticks\":\"\"}}}],\"bar\":[{\"error_x\":{\"color\":\"#2a3f5f\"},\"error_y\":{\"color\":\"#2a3f5f\"},\"marker\":{\"line\":{\"color\":\"#E5ECF6\",\"width\":0.5},\"pattern\":{\"fillmode\":\"overlay\",\"size\":10,\"solidity\":0.2}},\"type\":\"bar\"}],\"scattergeo\":[{\"type\":\"scattergeo\",\"marker\":{\"colorbar\":{\"outlinewidth\":0,\"ticks\":\"\"}}}],\"scatterpolar\":[{\"type\":\"scatterpolar\",\"marker\":{\"colorbar\":{\"outlinewidth\":0,\"ticks\":\"\"}}}],\"histogram\":[{\"marker\":{\"pattern\":{\"fillmode\":\"overlay\",\"size\":10,\"solidity\":0.2}},\"type\":\"histogram\"}],\"scattergl\":[{\"type\":\"scattergl\",\"marker\":{\"colorbar\":{\"outlinewidth\":0,\"ticks\":\"\"}}}],\"scatter3d\":[{\"type\":\"scatter3d\",\"line\":{\"colorbar\":{\"outlinewidth\":0,\"ticks\":\"\"}},\"marker\":{\"colorbar\":{\"outlinewidth\":0,\"ticks\":\"\"}}}],\"scattermapbox\":[{\"type\":\"scattermapbox\",\"marker\":{\"colorbar\":{\"outlinewidth\":0,\"ticks\":\"\"}}}],\"scatterternary\":[{\"type\":\"scatterternary\",\"marker\":{\"colorbar\":{\"outlinewidth\":0,\"ticks\":\"\"}}}],\"scattercarpet\":[{\"type\":\"scattercarpet\",\"marker\":{\"colorbar\":{\"outlinewidth\":0,\"ticks\":\"\"}}}],\"carpet\":[{\"aaxis\":{\"endlinecolor\":\"#2a3f5f\",\"gridcolor\":\"white\",\"linecolor\":\"white\",\"minorgridcolor\":\"white\",\"startlinecolor\":\"#2a3f5f\"},\"baxis\":{\"endlinecolor\":\"#2a3f5f\",\"gridcolor\":\"white\",\"linecolor\":\"white\",\"minorgridcolor\":\"white\",\"startlinecolor\":\"#2a3f5f\"},\"type\":\"carpet\"}],\"table\":[{\"cells\":{\"fill\":{\"color\":\"#EBF0F8\"},\"line\":{\"color\":\"white\"}},\"header\":{\"fill\":{\"color\":\"#C8D4E3\"},\"line\":{\"color\":\"white\"}},\"type\":\"table\"}],\"barpolar\":[{\"marker\":{\"line\":{\"color\":\"#E5ECF6\",\"width\":0.5},\"pattern\":{\"fillmode\":\"overlay\",\"size\":10,\"solidity\":0.2}},\"type\":\"barpolar\"}],\"pie\":[{\"automargin\":true,\"type\":\"pie\"}]},\"layout\":{\"autotypenumbers\":\"strict\",\"colorway\":[\"#636efa\",\"#EF553B\",\"#00cc96\",\"#ab63fa\",\"#FFA15A\",\"#19d3f3\",\"#FF6692\",\"#B6E880\",\"#FF97FF\",\"#FECB52\"],\"font\":{\"color\":\"#2a3f5f\"},\"hovermode\":\"closest\",\"hoverlabel\":{\"align\":\"left\"},\"paper_bgcolor\":\"white\",\"plot_bgcolor\":\"#E5ECF6\",\"polar\":{\"bgcolor\":\"#E5ECF6\",\"angularaxis\":{\"gridcolor\":\"white\",\"linecolor\":\"white\",\"ticks\":\"\"},\"radialaxis\":{\"gridcolor\":\"white\",\"linecolor\":\"white\",\"ticks\":\"\"}},\"ternary\":{\"bgcolor\":\"#E5ECF6\",\"aaxis\":{\"gridcolor\":\"white\",\"linecolor\":\"white\",\"ticks\":\"\"},\"baxis\":{\"gridcolor\":\"white\",\"linecolor\":\"white\",\"ticks\":\"\"},\"caxis\":{\"gridcolor\":\"white\",\"linecolor\":\"white\",\"ticks\":\"\"}},\"coloraxis\":{\"colorbar\":{\"outlinewidth\":0,\"ticks\":\"\"}},\"colorscale\":{\"sequential\":[[0.0,\"#0d0887\"],[0.1111111111111111,\"#46039f\"],[0.2222222222222222,\"#7201a8\"],[0.3333333333333333,\"#9c179e\"],[0.4444444444444444,\"#bd3786\"],[0.5555555555555556,\"#d8576b\"],[0.6666666666666666,\"#ed7953\"],[0.7777777777777778,\"#fb9f3a\"],[0.8888888888888888,\"#fdca26\"],[1.0,\"#f0f921\"]],\"sequentialminus\":[[0.0,\"#0d0887\"],[0.1111111111111111,\"#46039f\"],[0.2222222222222222,\"#7201a8\"],[0.3333333333333333,\"#9c179e\"],[0.4444444444444444,\"#bd3786\"],[0.5555555555555556,\"#d8576b\"],[0.6666666666666666,\"#ed7953\"],[0.7777777777777778,\"#fb9f3a\"],[0.8888888888888888,\"#fdca26\"],[1.0,\"#f0f921\"]],\"diverging\":[[0,\"#8e0152\"],[0.1,\"#c51b7d\"],[0.2,\"#de77ae\"],[0.3,\"#f1b6da\"],[0.4,\"#fde0ef\"],[0.5,\"#f7f7f7\"],[0.6,\"#e6f5d0\"],[0.7,\"#b8e186\"],[0.8,\"#7fbc41\"],[0.9,\"#4d9221\"],[1,\"#276419\"]]},\"xaxis\":{\"gridcolor\":\"white\",\"linecolor\":\"white\",\"ticks\":\"\",\"title\":{\"standoff\":15},\"zerolinecolor\":\"white\",\"automargin\":true,\"zerolinewidth\":2},\"yaxis\":{\"gridcolor\":\"white\",\"linecolor\":\"white\",\"ticks\":\"\",\"title\":{\"standoff\":15},\"zerolinecolor\":\"white\",\"automargin\":true,\"zerolinewidth\":2},\"scene\":{\"xaxis\":{\"backgroundcolor\":\"#E5ECF6\",\"gridcolor\":\"white\",\"linecolor\":\"white\",\"showbackground\":true,\"ticks\":\"\",\"zerolinecolor\":\"white\",\"gridwidth\":2},\"yaxis\":{\"backgroundcolor\":\"#E5ECF6\",\"gridcolor\":\"white\",\"linecolor\":\"white\",\"showbackground\":true,\"ticks\":\"\",\"zerolinecolor\":\"white\",\"gridwidth\":2},\"zaxis\":{\"backgroundcolor\":\"#E5ECF6\",\"gridcolor\":\"white\",\"linecolor\":\"white\",\"showbackground\":true,\"ticks\":\"\",\"zerolinecolor\":\"white\",\"gridwidth\":2}},\"shapedefaults\":{\"line\":{\"color\":\"#2a3f5f\"}},\"annotationdefaults\":{\"arrowcolor\":\"#2a3f5f\",\"arrowhead\":0,\"arrowwidth\":1},\"geo\":{\"bgcolor\":\"white\",\"landcolor\":\"#E5ECF6\",\"subunitcolor\":\"white\",\"showland\":true,\"showlakes\":true,\"lakecolor\":\"white\"},\"title\":{\"x\":0.05},\"mapbox\":{\"style\":\"light\"}}},\"title\":{\"text\":\"Validation set F1 using margin sampling\"},\"xaxis\":{\"title\":{\"text\":\"Number of Epochs\"}},\"yaxis\":{\"title\":{\"text\":\"Validation F1 score\"}},\"legend\":{\"title\":{\"text\":\"Legend\"}},\"hovermode\":\"x unified\"},                        {\"responsive\": true}                    ).then(function(){\n",
       "                            \n",
       "var gd = document.getElementById('dfd3c00c-9a07-427c-b67a-17ef611cf80c');\n",
       "var x = new MutationObserver(function (mutations, observer) {{\n",
       "        var display = window.getComputedStyle(gd).display;\n",
       "        if (!display || display === 'none') {{\n",
       "            console.log([gd, 'removed!']);\n",
       "            Plotly.purge(gd);\n",
       "            observer.disconnect();\n",
       "        }}\n",
       "}});\n",
       "\n",
       "// Listen for the removal of the full notebook cells\n",
       "var notebookContainer = gd.closest('#notebook-container');\n",
       "if (notebookContainer) {{\n",
       "    x.observe(notebookContainer, {childList: true});\n",
       "}}\n",
       "\n",
       "// Listen for the clearing of the current output cell\n",
       "var outputEl = gd.closest('.output');\n",
       "if (outputEl) {{\n",
       "    x.observe(outputEl, {childList: true});\n",
       "}}\n",
       "\n",
       "                        })                };                });            </script>        </div>"
      ]
     },
     "metadata": {},
     "output_type": "display_data"
    }
   ],
   "source": [
    "plot_validation_performance_vs_epochs(\n",
    "    performance, \n",
    "    no_of_samples, \n",
    "    title=\"Validation set F1 using margin sampling\", \n",
    "    x_axes=\"Number of Epochs\", \n",
    "    y_axes=\"Validation F1 score\", \n",
    "    plotting_curve=\"f1\"  # Change to \"f1\" if you want to plot F1 scores instead\n",
    ")"
   ]
  },
  {
   "cell_type": "code",
   "execution_count": 17,
   "metadata": {},
   "outputs": [],
   "source": [
    "import pandas as pd\n",
    "import plotly.graph_objects as go\n",
    "import plotly.subplots as subplots\n",
    "import numpy as np\n",
    "\n",
    "# Load the CSV file\n",
    "csv_path = 'training_history_s43.csv'\n",
    "df = pd.read_csv(csv_path)\n",
    "\n",
    "# Create an 'iteration' column by checking where epoch == 1\n",
    "df['iteration'] = (df['epoch'] == 1).cumsum()\n",
    "\n",
    "# We start from the second iteration (skipping the first one) and go through 13 iterations\n",
    "performance = []\n",
    "for i in range(1, 15):  # Start from 2 and go up to 14 (inclusive)\n",
    "    iteration_data = df[df['iteration'] == i]\n",
    "    performance.append({\n",
    "        'val_loss': iteration_data['valid_loss'].tolist(),\n",
    "        'val_f1_score': iteration_data['valid_f1'].tolist()\n",
    "    })\n",
    "\n",
    "# Ensure that performance and no_of_samples have the same length\n",
    "min_length = min(len(performance), len(no_of_samples))\n",
    "performance = performance[:min_length]\n",
    "no_of_samples = no_of_samples[:min_length]\n",
    "\n",
    "# Load test data\n",
    "performance_test_data = margin_sampling_results[\"test_f1_scores_micro\"]\n",
    "\n",
    "# Function to plot performance vs amount of data\n",
    "def plot_performance_vs_amount_of_data(performance, no_of_samples, performance_test_data, title, x_axes, y_axes, y_axes_secondary, mode):\n",
    "    fig = subplots.make_subplots(specs=[[{\"secondary_y\": True}]])\n",
    "    fig.update_layout(plot_bgcolor='rgb(209, 217, 222)')\n",
    "\n",
    "    samples_text = [str(f) for f in no_of_samples]\n",
    "\n",
    "    for line, label in zip(no_of_samples, samples_text):\n",
    "        fig.add_trace(go.Scatter(\n",
    "            x=[line, line],\n",
    "            y=[0, 1.12],\n",
    "            mode='lines',\n",
    "            line=dict(dash='dash', color='rgb(149, 162, 171)', width=1),\n",
    "            showlegend=False,\n",
    "            yaxis='y2'\n",
    "        ))\n",
    "\n",
    "        fig.add_trace(go.Scatter(\n",
    "            x=[line],\n",
    "            y=[1.13],\n",
    "            mode='text',\n",
    "            marker=dict(size=0),\n",
    "            text=[label],\n",
    "            textposition='top center',\n",
    "            showlegend=False,\n",
    "            yaxis='y2',\n",
    "            textfont=dict(family='Arial', color='black', size=8.5)\n",
    "        ))\n",
    "\n",
    "    if type(performance) == list:\n",
    "        if \"val\" in str(mode).casefold():\n",
    "            loss = []\n",
    "            f1 = []\n",
    "\n",
    "            for i in range(len(performance)):\n",
    "                loss.append(performance[i][\"val_loss\"][-1])  # Collecting the last validation loss\n",
    "                f1.append(performance[i][\"val_f1_score\"][-1])  # Collecting the last validation F1 score\n",
    "\n",
    "            fig.add_trace(go.Scatter(\n",
    "                x=no_of_samples,\n",
    "                y=loss,\n",
    "                name=f\"Val loss ({loss[-1]:.3f})\",\n",
    "                marker=dict(color='rgb(97,192,134)'),\n",
    "                textfont=dict(family=\"Arial\", size=11),\n",
    "                line=dict(width=2)\n",
    "            ), secondary_y=False)\n",
    "\n",
    "            fig.add_trace(go.Scatter(\n",
    "                x=no_of_samples,\n",
    "                y=f1,\n",
    "                name=f\"Val F1 score ({f1[-1]:.3f})\",\n",
    "                marker=dict(color='rgb(245,130,31)'),\n",
    "                textfont=dict(family=\"Arial\", size=11),\n",
    "                line=dict(width=2)\n",
    "            ), secondary_y=True)\n",
    "\n",
    "        elif \"test\" in str(mode).casefold():\n",
    "            fig.add_trace(go.Scatter(\n",
    "                x=no_of_samples,\n",
    "                y=performance_test_data,\n",
    "                name=f\"Test F1 score ({performance_test_data[-1]:.3f})\",\n",
    "                marker=dict(color='rgb(151,193,57)'),\n",
    "                textfont=dict(family=\"Arial\", size=11),\n",
    "                line=dict(width=2)\n",
    "            ), secondary_y=False)\n",
    "\n",
    "        else:\n",
    "            raise NameError(f\"Unknown mode: {str(mode)}\")\n",
    "\n",
    "    else:\n",
    "        raise TypeError(\"Performance input must be a list\")\n",
    "\n",
    "    if type(no_of_samples) != list:\n",
    "        raise TypeError(\"No of samples input must be a list\")\n",
    "\n",
    "    fig.update_layout(\n",
    "        title_text=str(title),\n",
    "        legend=dict(font=dict(color='black')),\n",
    "        title_font_color='black'\n",
    "    )\n",
    "\n",
    "    fig.update_xaxes(\n",
    "        title_text=str(x_axes),\n",
    "        title_font=dict(color=\"black\", family=\"Arial\"),\n",
    "        tickfont_color='black',\n",
    "        type=\"log\"\n",
    "    )\n",
    "\n",
    "    fig.update_yaxes(\n",
    "        title_text=str(y_axes),\n",
    "        title_font=dict(color=\"black\", family=\"Arial\"),\n",
    "        tickfont_color='black',\n",
    "        secondary_y=False\n",
    "    )\n",
    "\n",
    "    fig.update_yaxes(\n",
    "        title_text=str(y_axes_secondary),\n",
    "        title_font=dict(color=\"black\", family=\"Arial\"),\n",
    "        tickfont_color='black',\n",
    "        secondary_y=True\n",
    "    )\n",
    "\n",
    "    fig.show()\n"
   ]
  },
  {
   "cell_type": "code",
   "execution_count": 12,
   "metadata": {},
   "outputs": [
    {
     "data": {
      "application/vnd.plotly.v1+json": {
       "config": {
        "plotlyServerURL": "https://plot.ly"
       },
       "data": [
        {
         "line": {
          "color": "rgb(149, 162, 171)",
          "dash": "dash",
          "width": 1
         },
         "mode": "lines",
         "showlegend": false,
         "type": "scatter",
         "x": [
          8,
          8
         ],
         "y": [
          0,
          1.12
         ],
         "yaxis": "y2"
        },
        {
         "marker": {
          "size": 0
         },
         "mode": "text",
         "showlegend": false,
         "text": [
          "8"
         ],
         "textfont": {
          "color": "black",
          "family": "Arial",
          "size": 8.5
         },
         "textposition": "top center",
         "type": "scatter",
         "x": [
          8
         ],
         "y": [
          1.13
         ],
         "yaxis": "y2"
        },
        {
         "line": {
          "color": "rgb(149, 162, 171)",
          "dash": "dash",
          "width": 1
         },
         "mode": "lines",
         "showlegend": false,
         "type": "scatter",
         "x": [
          24,
          24
         ],
         "y": [
          0,
          1.12
         ],
         "yaxis": "y2"
        },
        {
         "marker": {
          "size": 0
         },
         "mode": "text",
         "showlegend": false,
         "text": [
          "24"
         ],
         "textfont": {
          "color": "black",
          "family": "Arial",
          "size": 8.5
         },
         "textposition": "top center",
         "type": "scatter",
         "x": [
          24
         ],
         "y": [
          1.13
         ],
         "yaxis": "y2"
        },
        {
         "line": {
          "color": "rgb(149, 162, 171)",
          "dash": "dash",
          "width": 1
         },
         "mode": "lines",
         "showlegend": false,
         "type": "scatter",
         "x": [
          56,
          56
         ],
         "y": [
          0,
          1.12
         ],
         "yaxis": "y2"
        },
        {
         "marker": {
          "size": 0
         },
         "mode": "text",
         "showlegend": false,
         "text": [
          "56"
         ],
         "textfont": {
          "color": "black",
          "family": "Arial",
          "size": 8.5
         },
         "textposition": "top center",
         "type": "scatter",
         "x": [
          56
         ],
         "y": [
          1.13
         ],
         "yaxis": "y2"
        },
        {
         "line": {
          "color": "rgb(149, 162, 171)",
          "dash": "dash",
          "width": 1
         },
         "mode": "lines",
         "showlegend": false,
         "type": "scatter",
         "x": [
          112,
          112
         ],
         "y": [
          0,
          1.12
         ],
         "yaxis": "y2"
        },
        {
         "marker": {
          "size": 0
         },
         "mode": "text",
         "showlegend": false,
         "text": [
          "112"
         ],
         "textfont": {
          "color": "black",
          "family": "Arial",
          "size": 8.5
         },
         "textposition": "top center",
         "type": "scatter",
         "x": [
          112
         ],
         "y": [
          1.13
         ],
         "yaxis": "y2"
        },
        {
         "line": {
          "color": "rgb(149, 162, 171)",
          "dash": "dash",
          "width": 1
         },
         "mode": "lines",
         "showlegend": false,
         "type": "scatter",
         "x": [
          208,
          208
         ],
         "y": [
          0,
          1.12
         ],
         "yaxis": "y2"
        },
        {
         "marker": {
          "size": 0
         },
         "mode": "text",
         "showlegend": false,
         "text": [
          "208"
         ],
         "textfont": {
          "color": "black",
          "family": "Arial",
          "size": 8.5
         },
         "textposition": "top center",
         "type": "scatter",
         "x": [
          208
         ],
         "y": [
          1.13
         ],
         "yaxis": "y2"
        },
        {
         "line": {
          "color": "rgb(149, 162, 171)",
          "dash": "dash",
          "width": 1
         },
         "mode": "lines",
         "showlegend": false,
         "type": "scatter",
         "x": [
          384,
          384
         ],
         "y": [
          0,
          1.12
         ],
         "yaxis": "y2"
        },
        {
         "marker": {
          "size": 0
         },
         "mode": "text",
         "showlegend": false,
         "text": [
          "384"
         ],
         "textfont": {
          "color": "black",
          "family": "Arial",
          "size": 8.5
         },
         "textposition": "top center",
         "type": "scatter",
         "x": [
          384
         ],
         "y": [
          1.13
         ],
         "yaxis": "y2"
        },
        {
         "line": {
          "color": "rgb(149, 162, 171)",
          "dash": "dash",
          "width": 1
         },
         "mode": "lines",
         "showlegend": false,
         "type": "scatter",
         "x": [
          704,
          704
         ],
         "y": [
          0,
          1.12
         ],
         "yaxis": "y2"
        },
        {
         "marker": {
          "size": 0
         },
         "mode": "text",
         "showlegend": false,
         "text": [
          "704"
         ],
         "textfont": {
          "color": "black",
          "family": "Arial",
          "size": 8.5
         },
         "textposition": "top center",
         "type": "scatter",
         "x": [
          704
         ],
         "y": [
          1.13
         ],
         "yaxis": "y2"
        },
        {
         "line": {
          "color": "rgb(149, 162, 171)",
          "dash": "dash",
          "width": 1
         },
         "mode": "lines",
         "showlegend": false,
         "type": "scatter",
         "x": [
          1264,
          1264
         ],
         "y": [
          0,
          1.12
         ],
         "yaxis": "y2"
        },
        {
         "marker": {
          "size": 0
         },
         "mode": "text",
         "showlegend": false,
         "text": [
          "1264"
         ],
         "textfont": {
          "color": "black",
          "family": "Arial",
          "size": 8.5
         },
         "textposition": "top center",
         "type": "scatter",
         "x": [
          1264
         ],
         "y": [
          1.13
         ],
         "yaxis": "y2"
        },
        {
         "line": {
          "color": "rgb(149, 162, 171)",
          "dash": "dash",
          "width": 1
         },
         "mode": "lines",
         "showlegend": false,
         "type": "scatter",
         "x": [
          2264,
          2264
         ],
         "y": [
          0,
          1.12
         ],
         "yaxis": "y2"
        },
        {
         "marker": {
          "size": 0
         },
         "mode": "text",
         "showlegend": false,
         "text": [
          "2264"
         ],
         "textfont": {
          "color": "black",
          "family": "Arial",
          "size": 8.5
         },
         "textposition": "top center",
         "type": "scatter",
         "x": [
          2264
         ],
         "y": [
          1.13
         ],
         "yaxis": "y2"
        },
        {
         "line": {
          "color": "rgb(149, 162, 171)",
          "dash": "dash",
          "width": 1
         },
         "mode": "lines",
         "showlegend": false,
         "type": "scatter",
         "x": [
          4040,
          4040
         ],
         "y": [
          0,
          1.12
         ],
         "yaxis": "y2"
        },
        {
         "marker": {
          "size": 0
         },
         "mode": "text",
         "showlegend": false,
         "text": [
          "4040"
         ],
         "textfont": {
          "color": "black",
          "family": "Arial",
          "size": 8.5
         },
         "textposition": "top center",
         "type": "scatter",
         "x": [
          4040
         ],
         "y": [
          1.13
         ],
         "yaxis": "y2"
        },
        {
         "line": {
          "color": "rgb(149, 162, 171)",
          "dash": "dash",
          "width": 1
         },
         "mode": "lines",
         "showlegend": false,
         "type": "scatter",
         "x": [
          7200,
          7200
         ],
         "y": [
          0,
          1.12
         ],
         "yaxis": "y2"
        },
        {
         "marker": {
          "size": 0
         },
         "mode": "text",
         "showlegend": false,
         "text": [
          "7200"
         ],
         "textfont": {
          "color": "black",
          "family": "Arial",
          "size": 8.5
         },
         "textposition": "top center",
         "type": "scatter",
         "x": [
          7200
         ],
         "y": [
          1.13
         ],
         "yaxis": "y2"
        },
        {
         "line": {
          "color": "rgb(149, 162, 171)",
          "dash": "dash",
          "width": 1
         },
         "mode": "lines",
         "showlegend": false,
         "type": "scatter",
         "x": [
          12824,
          12824
         ],
         "y": [
          0,
          1.12
         ],
         "yaxis": "y2"
        },
        {
         "marker": {
          "size": 0
         },
         "mode": "text",
         "showlegend": false,
         "text": [
          "12824"
         ],
         "textfont": {
          "color": "black",
          "family": "Arial",
          "size": 8.5
         },
         "textposition": "top center",
         "type": "scatter",
         "x": [
          12824
         ],
         "y": [
          1.13
         ],
         "yaxis": "y2"
        },
        {
         "line": {
          "color": "rgb(149, 162, 171)",
          "dash": "dash",
          "width": 1
         },
         "mode": "lines",
         "showlegend": false,
         "type": "scatter",
         "x": [
          22824,
          22824
         ],
         "y": [
          0,
          1.12
         ],
         "yaxis": "y2"
        },
        {
         "marker": {
          "size": 0
         },
         "mode": "text",
         "showlegend": false,
         "text": [
          "22824"
         ],
         "textfont": {
          "color": "black",
          "family": "Arial",
          "size": 8.5
         },
         "textposition": "top center",
         "type": "scatter",
         "x": [
          22824
         ],
         "y": [
          1.13
         ],
         "yaxis": "y2"
        },
        {
         "line": {
          "color": "rgb(149, 162, 171)",
          "dash": "dash",
          "width": 1
         },
         "mode": "lines",
         "showlegend": false,
         "type": "scatter",
         "x": [
          26880,
          26880
         ],
         "y": [
          0,
          1.12
         ],
         "yaxis": "y2"
        },
        {
         "marker": {
          "size": 0
         },
         "mode": "text",
         "showlegend": false,
         "text": [
          "26880"
         ],
         "textfont": {
          "color": "black",
          "family": "Arial",
          "size": 8.5
         },
         "textposition": "top center",
         "type": "scatter",
         "x": [
          26880
         ],
         "y": [
          1.13
         ],
         "yaxis": "y2"
        },
        {
         "line": {
          "width": 2
         },
         "marker": {
          "color": "rgb(97,192,134)"
         },
         "name": "Val loss (1.197)",
         "textfont": {
          "family": "Arial",
          "size": 11
         },
         "type": "scatter",
         "x": [
          8,
          24,
          56,
          112,
          208,
          384,
          704,
          1264,
          2264,
          4040,
          7200,
          12824,
          22824,
          26880
         ],
         "xaxis": "x",
         "y": [
          2.2369741515980825,
          1.5389778989884588,
          1.200268374880155,
          0.8994612990775042,
          0.8127273929719295,
          0.7872602123715398,
          0.7518075709593379,
          0.7557047667641503,
          0.7854764667171468,
          0.7831583061520683,
          0.8825686800180443,
          0.773940385944459,
          0.9096668712624504,
          1.1972031704821335
         ],
         "yaxis": "y"
        },
        {
         "line": {
          "width": 2
         },
         "marker": {
          "color": "rgb(245,130,31)"
         },
         "name": "Val F1 score (0.813)",
         "textfont": {
          "family": "Arial",
          "size": 11
         },
         "type": "scatter",
         "x": [
          8,
          24,
          56,
          112,
          208,
          384,
          704,
          1264,
          2264,
          4040,
          7200,
          12824,
          22824,
          26880
         ],
         "xaxis": "x",
         "y": [
          0.0279513888888888,
          0.5456597222222223,
          0.63125,
          0.6904513888888889,
          0.7300347222222222,
          0.7440972222222222,
          0.7815972222222223,
          0.7975694444444444,
          0.8006944444444446,
          0.8065972222222222,
          0.8057291666666667,
          0.8298611111111112,
          0.8368055555555556,
          0.8133680555555556
         ],
         "yaxis": "y2"
        }
       ],
       "layout": {
        "legend": {
         "font": {
          "color": "black"
         }
        },
        "plot_bgcolor": "rgb(209, 217, 222)",
        "template": {
         "data": {
          "bar": [
           {
            "error_x": {
             "color": "#2a3f5f"
            },
            "error_y": {
             "color": "#2a3f5f"
            },
            "marker": {
             "line": {
              "color": "#E5ECF6",
              "width": 0.5
             },
             "pattern": {
              "fillmode": "overlay",
              "size": 10,
              "solidity": 0.2
             }
            },
            "type": "bar"
           }
          ],
          "barpolar": [
           {
            "marker": {
             "line": {
              "color": "#E5ECF6",
              "width": 0.5
             },
             "pattern": {
              "fillmode": "overlay",
              "size": 10,
              "solidity": 0.2
             }
            },
            "type": "barpolar"
           }
          ],
          "carpet": [
           {
            "aaxis": {
             "endlinecolor": "#2a3f5f",
             "gridcolor": "white",
             "linecolor": "white",
             "minorgridcolor": "white",
             "startlinecolor": "#2a3f5f"
            },
            "baxis": {
             "endlinecolor": "#2a3f5f",
             "gridcolor": "white",
             "linecolor": "white",
             "minorgridcolor": "white",
             "startlinecolor": "#2a3f5f"
            },
            "type": "carpet"
           }
          ],
          "choropleth": [
           {
            "colorbar": {
             "outlinewidth": 0,
             "ticks": ""
            },
            "type": "choropleth"
           }
          ],
          "contour": [
           {
            "colorbar": {
             "outlinewidth": 0,
             "ticks": ""
            },
            "colorscale": [
             [
              0,
              "#0d0887"
             ],
             [
              0.1111111111111111,
              "#46039f"
             ],
             [
              0.2222222222222222,
              "#7201a8"
             ],
             [
              0.3333333333333333,
              "#9c179e"
             ],
             [
              0.4444444444444444,
              "#bd3786"
             ],
             [
              0.5555555555555556,
              "#d8576b"
             ],
             [
              0.6666666666666666,
              "#ed7953"
             ],
             [
              0.7777777777777778,
              "#fb9f3a"
             ],
             [
              0.8888888888888888,
              "#fdca26"
             ],
             [
              1,
              "#f0f921"
             ]
            ],
            "type": "contour"
           }
          ],
          "contourcarpet": [
           {
            "colorbar": {
             "outlinewidth": 0,
             "ticks": ""
            },
            "type": "contourcarpet"
           }
          ],
          "heatmap": [
           {
            "colorbar": {
             "outlinewidth": 0,
             "ticks": ""
            },
            "colorscale": [
             [
              0,
              "#0d0887"
             ],
             [
              0.1111111111111111,
              "#46039f"
             ],
             [
              0.2222222222222222,
              "#7201a8"
             ],
             [
              0.3333333333333333,
              "#9c179e"
             ],
             [
              0.4444444444444444,
              "#bd3786"
             ],
             [
              0.5555555555555556,
              "#d8576b"
             ],
             [
              0.6666666666666666,
              "#ed7953"
             ],
             [
              0.7777777777777778,
              "#fb9f3a"
             ],
             [
              0.8888888888888888,
              "#fdca26"
             ],
             [
              1,
              "#f0f921"
             ]
            ],
            "type": "heatmap"
           }
          ],
          "heatmapgl": [
           {
            "colorbar": {
             "outlinewidth": 0,
             "ticks": ""
            },
            "colorscale": [
             [
              0,
              "#0d0887"
             ],
             [
              0.1111111111111111,
              "#46039f"
             ],
             [
              0.2222222222222222,
              "#7201a8"
             ],
             [
              0.3333333333333333,
              "#9c179e"
             ],
             [
              0.4444444444444444,
              "#bd3786"
             ],
             [
              0.5555555555555556,
              "#d8576b"
             ],
             [
              0.6666666666666666,
              "#ed7953"
             ],
             [
              0.7777777777777778,
              "#fb9f3a"
             ],
             [
              0.8888888888888888,
              "#fdca26"
             ],
             [
              1,
              "#f0f921"
             ]
            ],
            "type": "heatmapgl"
           }
          ],
          "histogram": [
           {
            "marker": {
             "pattern": {
              "fillmode": "overlay",
              "size": 10,
              "solidity": 0.2
             }
            },
            "type": "histogram"
           }
          ],
          "histogram2d": [
           {
            "colorbar": {
             "outlinewidth": 0,
             "ticks": ""
            },
            "colorscale": [
             [
              0,
              "#0d0887"
             ],
             [
              0.1111111111111111,
              "#46039f"
             ],
             [
              0.2222222222222222,
              "#7201a8"
             ],
             [
              0.3333333333333333,
              "#9c179e"
             ],
             [
              0.4444444444444444,
              "#bd3786"
             ],
             [
              0.5555555555555556,
              "#d8576b"
             ],
             [
              0.6666666666666666,
              "#ed7953"
             ],
             [
              0.7777777777777778,
              "#fb9f3a"
             ],
             [
              0.8888888888888888,
              "#fdca26"
             ],
             [
              1,
              "#f0f921"
             ]
            ],
            "type": "histogram2d"
           }
          ],
          "histogram2dcontour": [
           {
            "colorbar": {
             "outlinewidth": 0,
             "ticks": ""
            },
            "colorscale": [
             [
              0,
              "#0d0887"
             ],
             [
              0.1111111111111111,
              "#46039f"
             ],
             [
              0.2222222222222222,
              "#7201a8"
             ],
             [
              0.3333333333333333,
              "#9c179e"
             ],
             [
              0.4444444444444444,
              "#bd3786"
             ],
             [
              0.5555555555555556,
              "#d8576b"
             ],
             [
              0.6666666666666666,
              "#ed7953"
             ],
             [
              0.7777777777777778,
              "#fb9f3a"
             ],
             [
              0.8888888888888888,
              "#fdca26"
             ],
             [
              1,
              "#f0f921"
             ]
            ],
            "type": "histogram2dcontour"
           }
          ],
          "mesh3d": [
           {
            "colorbar": {
             "outlinewidth": 0,
             "ticks": ""
            },
            "type": "mesh3d"
           }
          ],
          "parcoords": [
           {
            "line": {
             "colorbar": {
              "outlinewidth": 0,
              "ticks": ""
             }
            },
            "type": "parcoords"
           }
          ],
          "pie": [
           {
            "automargin": true,
            "type": "pie"
           }
          ],
          "scatter": [
           {
            "fillpattern": {
             "fillmode": "overlay",
             "size": 10,
             "solidity": 0.2
            },
            "type": "scatter"
           }
          ],
          "scatter3d": [
           {
            "line": {
             "colorbar": {
              "outlinewidth": 0,
              "ticks": ""
             }
            },
            "marker": {
             "colorbar": {
              "outlinewidth": 0,
              "ticks": ""
             }
            },
            "type": "scatter3d"
           }
          ],
          "scattercarpet": [
           {
            "marker": {
             "colorbar": {
              "outlinewidth": 0,
              "ticks": ""
             }
            },
            "type": "scattercarpet"
           }
          ],
          "scattergeo": [
           {
            "marker": {
             "colorbar": {
              "outlinewidth": 0,
              "ticks": ""
             }
            },
            "type": "scattergeo"
           }
          ],
          "scattergl": [
           {
            "marker": {
             "colorbar": {
              "outlinewidth": 0,
              "ticks": ""
             }
            },
            "type": "scattergl"
           }
          ],
          "scattermapbox": [
           {
            "marker": {
             "colorbar": {
              "outlinewidth": 0,
              "ticks": ""
             }
            },
            "type": "scattermapbox"
           }
          ],
          "scatterpolar": [
           {
            "marker": {
             "colorbar": {
              "outlinewidth": 0,
              "ticks": ""
             }
            },
            "type": "scatterpolar"
           }
          ],
          "scatterpolargl": [
           {
            "marker": {
             "colorbar": {
              "outlinewidth": 0,
              "ticks": ""
             }
            },
            "type": "scatterpolargl"
           }
          ],
          "scatterternary": [
           {
            "marker": {
             "colorbar": {
              "outlinewidth": 0,
              "ticks": ""
             }
            },
            "type": "scatterternary"
           }
          ],
          "surface": [
           {
            "colorbar": {
             "outlinewidth": 0,
             "ticks": ""
            },
            "colorscale": [
             [
              0,
              "#0d0887"
             ],
             [
              0.1111111111111111,
              "#46039f"
             ],
             [
              0.2222222222222222,
              "#7201a8"
             ],
             [
              0.3333333333333333,
              "#9c179e"
             ],
             [
              0.4444444444444444,
              "#bd3786"
             ],
             [
              0.5555555555555556,
              "#d8576b"
             ],
             [
              0.6666666666666666,
              "#ed7953"
             ],
             [
              0.7777777777777778,
              "#fb9f3a"
             ],
             [
              0.8888888888888888,
              "#fdca26"
             ],
             [
              1,
              "#f0f921"
             ]
            ],
            "type": "surface"
           }
          ],
          "table": [
           {
            "cells": {
             "fill": {
              "color": "#EBF0F8"
             },
             "line": {
              "color": "white"
             }
            },
            "header": {
             "fill": {
              "color": "#C8D4E3"
             },
             "line": {
              "color": "white"
             }
            },
            "type": "table"
           }
          ]
         },
         "layout": {
          "annotationdefaults": {
           "arrowcolor": "#2a3f5f",
           "arrowhead": 0,
           "arrowwidth": 1
          },
          "autotypenumbers": "strict",
          "coloraxis": {
           "colorbar": {
            "outlinewidth": 0,
            "ticks": ""
           }
          },
          "colorscale": {
           "diverging": [
            [
             0,
             "#8e0152"
            ],
            [
             0.1,
             "#c51b7d"
            ],
            [
             0.2,
             "#de77ae"
            ],
            [
             0.3,
             "#f1b6da"
            ],
            [
             0.4,
             "#fde0ef"
            ],
            [
             0.5,
             "#f7f7f7"
            ],
            [
             0.6,
             "#e6f5d0"
            ],
            [
             0.7,
             "#b8e186"
            ],
            [
             0.8,
             "#7fbc41"
            ],
            [
             0.9,
             "#4d9221"
            ],
            [
             1,
             "#276419"
            ]
           ],
           "sequential": [
            [
             0,
             "#0d0887"
            ],
            [
             0.1111111111111111,
             "#46039f"
            ],
            [
             0.2222222222222222,
             "#7201a8"
            ],
            [
             0.3333333333333333,
             "#9c179e"
            ],
            [
             0.4444444444444444,
             "#bd3786"
            ],
            [
             0.5555555555555556,
             "#d8576b"
            ],
            [
             0.6666666666666666,
             "#ed7953"
            ],
            [
             0.7777777777777778,
             "#fb9f3a"
            ],
            [
             0.8888888888888888,
             "#fdca26"
            ],
            [
             1,
             "#f0f921"
            ]
           ],
           "sequentialminus": [
            [
             0,
             "#0d0887"
            ],
            [
             0.1111111111111111,
             "#46039f"
            ],
            [
             0.2222222222222222,
             "#7201a8"
            ],
            [
             0.3333333333333333,
             "#9c179e"
            ],
            [
             0.4444444444444444,
             "#bd3786"
            ],
            [
             0.5555555555555556,
             "#d8576b"
            ],
            [
             0.6666666666666666,
             "#ed7953"
            ],
            [
             0.7777777777777778,
             "#fb9f3a"
            ],
            [
             0.8888888888888888,
             "#fdca26"
            ],
            [
             1,
             "#f0f921"
            ]
           ]
          },
          "colorway": [
           "#636efa",
           "#EF553B",
           "#00cc96",
           "#ab63fa",
           "#FFA15A",
           "#19d3f3",
           "#FF6692",
           "#B6E880",
           "#FF97FF",
           "#FECB52"
          ],
          "font": {
           "color": "#2a3f5f"
          },
          "geo": {
           "bgcolor": "white",
           "lakecolor": "white",
           "landcolor": "#E5ECF6",
           "showlakes": true,
           "showland": true,
           "subunitcolor": "white"
          },
          "hoverlabel": {
           "align": "left"
          },
          "hovermode": "closest",
          "mapbox": {
           "style": "light"
          },
          "paper_bgcolor": "white",
          "plot_bgcolor": "#E5ECF6",
          "polar": {
           "angularaxis": {
            "gridcolor": "white",
            "linecolor": "white",
            "ticks": ""
           },
           "bgcolor": "#E5ECF6",
           "radialaxis": {
            "gridcolor": "white",
            "linecolor": "white",
            "ticks": ""
           }
          },
          "scene": {
           "xaxis": {
            "backgroundcolor": "#E5ECF6",
            "gridcolor": "white",
            "gridwidth": 2,
            "linecolor": "white",
            "showbackground": true,
            "ticks": "",
            "zerolinecolor": "white"
           },
           "yaxis": {
            "backgroundcolor": "#E5ECF6",
            "gridcolor": "white",
            "gridwidth": 2,
            "linecolor": "white",
            "showbackground": true,
            "ticks": "",
            "zerolinecolor": "white"
           },
           "zaxis": {
            "backgroundcolor": "#E5ECF6",
            "gridcolor": "white",
            "gridwidth": 2,
            "linecolor": "white",
            "showbackground": true,
            "ticks": "",
            "zerolinecolor": "white"
           }
          },
          "shapedefaults": {
           "line": {
            "color": "#2a3f5f"
           }
          },
          "ternary": {
           "aaxis": {
            "gridcolor": "white",
            "linecolor": "white",
            "ticks": ""
           },
           "baxis": {
            "gridcolor": "white",
            "linecolor": "white",
            "ticks": ""
           },
           "bgcolor": "#E5ECF6",
           "caxis": {
            "gridcolor": "white",
            "linecolor": "white",
            "ticks": ""
           }
          },
          "title": {
           "x": 0.05
          },
          "xaxis": {
           "automargin": true,
           "gridcolor": "white",
           "linecolor": "white",
           "ticks": "",
           "title": {
            "standoff": 15
           },
           "zerolinecolor": "white",
           "zerolinewidth": 2
          },
          "yaxis": {
           "automargin": true,
           "gridcolor": "white",
           "linecolor": "white",
           "ticks": "",
           "title": {
            "standoff": 15
           },
           "zerolinecolor": "white",
           "zerolinewidth": 2
          }
         }
        },
        "title": {
         "font": {
          "color": "black"
         },
         "text": "Validation F1 micro score for margin sampling"
        },
        "xaxis": {
         "anchor": "y",
         "domain": [
          0,
          0.94
         ],
         "tickfont": {
          "color": "black"
         },
         "title": {
          "font": {
           "color": "black",
           "family": "Arial"
          },
          "text": "Amount of training samples"
         },
         "type": "log"
        },
        "yaxis": {
         "anchor": "x",
         "domain": [
          0,
          1
         ],
         "tickfont": {
          "color": "black"
         },
         "title": {
          "font": {
           "color": "black",
           "family": "Arial"
          },
          "text": "Validation set loss"
         }
        },
        "yaxis2": {
         "anchor": "x",
         "overlaying": "y",
         "side": "right",
         "tickfont": {
          "color": "black"
         },
         "title": {
          "font": {
           "color": "black",
           "family": "Arial"
          },
          "text": "Validation set F1 score"
         }
        }
       }
      },
      "text/html": [
       "<div>                            <div id=\"63109ce7-df41-4cdf-9727-a15948af59f4\" class=\"plotly-graph-div\" style=\"height:525px; width:100%;\"></div>            <script type=\"text/javascript\">                require([\"plotly\"], function(Plotly) {                    window.PLOTLYENV=window.PLOTLYENV || {};                                    if (document.getElementById(\"63109ce7-df41-4cdf-9727-a15948af59f4\")) {                    Plotly.newPlot(                        \"63109ce7-df41-4cdf-9727-a15948af59f4\",                        [{\"line\":{\"color\":\"rgb(149, 162, 171)\",\"dash\":\"dash\",\"width\":1},\"mode\":\"lines\",\"showlegend\":false,\"x\":[8,8],\"y\":[0,1.12],\"yaxis\":\"y2\",\"type\":\"scatter\"},{\"marker\":{\"size\":0},\"mode\":\"text\",\"showlegend\":false,\"text\":[\"8\"],\"textfont\":{\"color\":\"black\",\"family\":\"Arial\",\"size\":8.5},\"textposition\":\"top center\",\"x\":[8],\"y\":[1.13],\"yaxis\":\"y2\",\"type\":\"scatter\"},{\"line\":{\"color\":\"rgb(149, 162, 171)\",\"dash\":\"dash\",\"width\":1},\"mode\":\"lines\",\"showlegend\":false,\"x\":[24,24],\"y\":[0,1.12],\"yaxis\":\"y2\",\"type\":\"scatter\"},{\"marker\":{\"size\":0},\"mode\":\"text\",\"showlegend\":false,\"text\":[\"24\"],\"textfont\":{\"color\":\"black\",\"family\":\"Arial\",\"size\":8.5},\"textposition\":\"top center\",\"x\":[24],\"y\":[1.13],\"yaxis\":\"y2\",\"type\":\"scatter\"},{\"line\":{\"color\":\"rgb(149, 162, 171)\",\"dash\":\"dash\",\"width\":1},\"mode\":\"lines\",\"showlegend\":false,\"x\":[56,56],\"y\":[0,1.12],\"yaxis\":\"y2\",\"type\":\"scatter\"},{\"marker\":{\"size\":0},\"mode\":\"text\",\"showlegend\":false,\"text\":[\"56\"],\"textfont\":{\"color\":\"black\",\"family\":\"Arial\",\"size\":8.5},\"textposition\":\"top center\",\"x\":[56],\"y\":[1.13],\"yaxis\":\"y2\",\"type\":\"scatter\"},{\"line\":{\"color\":\"rgb(149, 162, 171)\",\"dash\":\"dash\",\"width\":1},\"mode\":\"lines\",\"showlegend\":false,\"x\":[112,112],\"y\":[0,1.12],\"yaxis\":\"y2\",\"type\":\"scatter\"},{\"marker\":{\"size\":0},\"mode\":\"text\",\"showlegend\":false,\"text\":[\"112\"],\"textfont\":{\"color\":\"black\",\"family\":\"Arial\",\"size\":8.5},\"textposition\":\"top center\",\"x\":[112],\"y\":[1.13],\"yaxis\":\"y2\",\"type\":\"scatter\"},{\"line\":{\"color\":\"rgb(149, 162, 171)\",\"dash\":\"dash\",\"width\":1},\"mode\":\"lines\",\"showlegend\":false,\"x\":[208,208],\"y\":[0,1.12],\"yaxis\":\"y2\",\"type\":\"scatter\"},{\"marker\":{\"size\":0},\"mode\":\"text\",\"showlegend\":false,\"text\":[\"208\"],\"textfont\":{\"color\":\"black\",\"family\":\"Arial\",\"size\":8.5},\"textposition\":\"top center\",\"x\":[208],\"y\":[1.13],\"yaxis\":\"y2\",\"type\":\"scatter\"},{\"line\":{\"color\":\"rgb(149, 162, 171)\",\"dash\":\"dash\",\"width\":1},\"mode\":\"lines\",\"showlegend\":false,\"x\":[384,384],\"y\":[0,1.12],\"yaxis\":\"y2\",\"type\":\"scatter\"},{\"marker\":{\"size\":0},\"mode\":\"text\",\"showlegend\":false,\"text\":[\"384\"],\"textfont\":{\"color\":\"black\",\"family\":\"Arial\",\"size\":8.5},\"textposition\":\"top center\",\"x\":[384],\"y\":[1.13],\"yaxis\":\"y2\",\"type\":\"scatter\"},{\"line\":{\"color\":\"rgb(149, 162, 171)\",\"dash\":\"dash\",\"width\":1},\"mode\":\"lines\",\"showlegend\":false,\"x\":[704,704],\"y\":[0,1.12],\"yaxis\":\"y2\",\"type\":\"scatter\"},{\"marker\":{\"size\":0},\"mode\":\"text\",\"showlegend\":false,\"text\":[\"704\"],\"textfont\":{\"color\":\"black\",\"family\":\"Arial\",\"size\":8.5},\"textposition\":\"top center\",\"x\":[704],\"y\":[1.13],\"yaxis\":\"y2\",\"type\":\"scatter\"},{\"line\":{\"color\":\"rgb(149, 162, 171)\",\"dash\":\"dash\",\"width\":1},\"mode\":\"lines\",\"showlegend\":false,\"x\":[1264,1264],\"y\":[0,1.12],\"yaxis\":\"y2\",\"type\":\"scatter\"},{\"marker\":{\"size\":0},\"mode\":\"text\",\"showlegend\":false,\"text\":[\"1264\"],\"textfont\":{\"color\":\"black\",\"family\":\"Arial\",\"size\":8.5},\"textposition\":\"top center\",\"x\":[1264],\"y\":[1.13],\"yaxis\":\"y2\",\"type\":\"scatter\"},{\"line\":{\"color\":\"rgb(149, 162, 171)\",\"dash\":\"dash\",\"width\":1},\"mode\":\"lines\",\"showlegend\":false,\"x\":[2264,2264],\"y\":[0,1.12],\"yaxis\":\"y2\",\"type\":\"scatter\"},{\"marker\":{\"size\":0},\"mode\":\"text\",\"showlegend\":false,\"text\":[\"2264\"],\"textfont\":{\"color\":\"black\",\"family\":\"Arial\",\"size\":8.5},\"textposition\":\"top center\",\"x\":[2264],\"y\":[1.13],\"yaxis\":\"y2\",\"type\":\"scatter\"},{\"line\":{\"color\":\"rgb(149, 162, 171)\",\"dash\":\"dash\",\"width\":1},\"mode\":\"lines\",\"showlegend\":false,\"x\":[4040,4040],\"y\":[0,1.12],\"yaxis\":\"y2\",\"type\":\"scatter\"},{\"marker\":{\"size\":0},\"mode\":\"text\",\"showlegend\":false,\"text\":[\"4040\"],\"textfont\":{\"color\":\"black\",\"family\":\"Arial\",\"size\":8.5},\"textposition\":\"top center\",\"x\":[4040],\"y\":[1.13],\"yaxis\":\"y2\",\"type\":\"scatter\"},{\"line\":{\"color\":\"rgb(149, 162, 171)\",\"dash\":\"dash\",\"width\":1},\"mode\":\"lines\",\"showlegend\":false,\"x\":[7200,7200],\"y\":[0,1.12],\"yaxis\":\"y2\",\"type\":\"scatter\"},{\"marker\":{\"size\":0},\"mode\":\"text\",\"showlegend\":false,\"text\":[\"7200\"],\"textfont\":{\"color\":\"black\",\"family\":\"Arial\",\"size\":8.5},\"textposition\":\"top center\",\"x\":[7200],\"y\":[1.13],\"yaxis\":\"y2\",\"type\":\"scatter\"},{\"line\":{\"color\":\"rgb(149, 162, 171)\",\"dash\":\"dash\",\"width\":1},\"mode\":\"lines\",\"showlegend\":false,\"x\":[12824,12824],\"y\":[0,1.12],\"yaxis\":\"y2\",\"type\":\"scatter\"},{\"marker\":{\"size\":0},\"mode\":\"text\",\"showlegend\":false,\"text\":[\"12824\"],\"textfont\":{\"color\":\"black\",\"family\":\"Arial\",\"size\":8.5},\"textposition\":\"top center\",\"x\":[12824],\"y\":[1.13],\"yaxis\":\"y2\",\"type\":\"scatter\"},{\"line\":{\"color\":\"rgb(149, 162, 171)\",\"dash\":\"dash\",\"width\":1},\"mode\":\"lines\",\"showlegend\":false,\"x\":[22824,22824],\"y\":[0,1.12],\"yaxis\":\"y2\",\"type\":\"scatter\"},{\"marker\":{\"size\":0},\"mode\":\"text\",\"showlegend\":false,\"text\":[\"22824\"],\"textfont\":{\"color\":\"black\",\"family\":\"Arial\",\"size\":8.5},\"textposition\":\"top center\",\"x\":[22824],\"y\":[1.13],\"yaxis\":\"y2\",\"type\":\"scatter\"},{\"line\":{\"color\":\"rgb(149, 162, 171)\",\"dash\":\"dash\",\"width\":1},\"mode\":\"lines\",\"showlegend\":false,\"x\":[26880,26880],\"y\":[0,1.12],\"yaxis\":\"y2\",\"type\":\"scatter\"},{\"marker\":{\"size\":0},\"mode\":\"text\",\"showlegend\":false,\"text\":[\"26880\"],\"textfont\":{\"color\":\"black\",\"family\":\"Arial\",\"size\":8.5},\"textposition\":\"top center\",\"x\":[26880],\"y\":[1.13],\"yaxis\":\"y2\",\"type\":\"scatter\"},{\"line\":{\"width\":2},\"marker\":{\"color\":\"rgb(97,192,134)\"},\"name\":\"Val loss (1.197)\",\"textfont\":{\"family\":\"Arial\",\"size\":11},\"x\":[8,24,56,112,208,384,704,1264,2264,4040,7200,12824,22824,26880],\"y\":[2.2369741515980825,1.5389778989884588,1.200268374880155,0.8994612990775042,0.8127273929719295,0.7872602123715398,0.7518075709593379,0.7557047667641503,0.7854764667171468,0.7831583061520683,0.8825686800180443,0.773940385944459,0.9096668712624504,1.1972031704821335],\"type\":\"scatter\",\"xaxis\":\"x\",\"yaxis\":\"y\"},{\"line\":{\"width\":2},\"marker\":{\"color\":\"rgb(245,130,31)\"},\"name\":\"Val F1 score (0.813)\",\"textfont\":{\"family\":\"Arial\",\"size\":11},\"x\":[8,24,56,112,208,384,704,1264,2264,4040,7200,12824,22824,26880],\"y\":[0.0279513888888888,0.5456597222222223,0.63125,0.6904513888888889,0.7300347222222222,0.7440972222222222,0.7815972222222223,0.7975694444444444,0.8006944444444446,0.8065972222222222,0.8057291666666667,0.8298611111111112,0.8368055555555556,0.8133680555555556],\"type\":\"scatter\",\"xaxis\":\"x\",\"yaxis\":\"y2\"}],                        {\"template\":{\"data\":{\"histogram2dcontour\":[{\"type\":\"histogram2dcontour\",\"colorbar\":{\"outlinewidth\":0,\"ticks\":\"\"},\"colorscale\":[[0.0,\"#0d0887\"],[0.1111111111111111,\"#46039f\"],[0.2222222222222222,\"#7201a8\"],[0.3333333333333333,\"#9c179e\"],[0.4444444444444444,\"#bd3786\"],[0.5555555555555556,\"#d8576b\"],[0.6666666666666666,\"#ed7953\"],[0.7777777777777778,\"#fb9f3a\"],[0.8888888888888888,\"#fdca26\"],[1.0,\"#f0f921\"]]}],\"choropleth\":[{\"type\":\"choropleth\",\"colorbar\":{\"outlinewidth\":0,\"ticks\":\"\"}}],\"histogram2d\":[{\"type\":\"histogram2d\",\"colorbar\":{\"outlinewidth\":0,\"ticks\":\"\"},\"colorscale\":[[0.0,\"#0d0887\"],[0.1111111111111111,\"#46039f\"],[0.2222222222222222,\"#7201a8\"],[0.3333333333333333,\"#9c179e\"],[0.4444444444444444,\"#bd3786\"],[0.5555555555555556,\"#d8576b\"],[0.6666666666666666,\"#ed7953\"],[0.7777777777777778,\"#fb9f3a\"],[0.8888888888888888,\"#fdca26\"],[1.0,\"#f0f921\"]]}],\"heatmap\":[{\"type\":\"heatmap\",\"colorbar\":{\"outlinewidth\":0,\"ticks\":\"\"},\"colorscale\":[[0.0,\"#0d0887\"],[0.1111111111111111,\"#46039f\"],[0.2222222222222222,\"#7201a8\"],[0.3333333333333333,\"#9c179e\"],[0.4444444444444444,\"#bd3786\"],[0.5555555555555556,\"#d8576b\"],[0.6666666666666666,\"#ed7953\"],[0.7777777777777778,\"#fb9f3a\"],[0.8888888888888888,\"#fdca26\"],[1.0,\"#f0f921\"]]}],\"heatmapgl\":[{\"type\":\"heatmapgl\",\"colorbar\":{\"outlinewidth\":0,\"ticks\":\"\"},\"colorscale\":[[0.0,\"#0d0887\"],[0.1111111111111111,\"#46039f\"],[0.2222222222222222,\"#7201a8\"],[0.3333333333333333,\"#9c179e\"],[0.4444444444444444,\"#bd3786\"],[0.5555555555555556,\"#d8576b\"],[0.6666666666666666,\"#ed7953\"],[0.7777777777777778,\"#fb9f3a\"],[0.8888888888888888,\"#fdca26\"],[1.0,\"#f0f921\"]]}],\"contourcarpet\":[{\"type\":\"contourcarpet\",\"colorbar\":{\"outlinewidth\":0,\"ticks\":\"\"}}],\"contour\":[{\"type\":\"contour\",\"colorbar\":{\"outlinewidth\":0,\"ticks\":\"\"},\"colorscale\":[[0.0,\"#0d0887\"],[0.1111111111111111,\"#46039f\"],[0.2222222222222222,\"#7201a8\"],[0.3333333333333333,\"#9c179e\"],[0.4444444444444444,\"#bd3786\"],[0.5555555555555556,\"#d8576b\"],[0.6666666666666666,\"#ed7953\"],[0.7777777777777778,\"#fb9f3a\"],[0.8888888888888888,\"#fdca26\"],[1.0,\"#f0f921\"]]}],\"surface\":[{\"type\":\"surface\",\"colorbar\":{\"outlinewidth\":0,\"ticks\":\"\"},\"colorscale\":[[0.0,\"#0d0887\"],[0.1111111111111111,\"#46039f\"],[0.2222222222222222,\"#7201a8\"],[0.3333333333333333,\"#9c179e\"],[0.4444444444444444,\"#bd3786\"],[0.5555555555555556,\"#d8576b\"],[0.6666666666666666,\"#ed7953\"],[0.7777777777777778,\"#fb9f3a\"],[0.8888888888888888,\"#fdca26\"],[1.0,\"#f0f921\"]]}],\"mesh3d\":[{\"type\":\"mesh3d\",\"colorbar\":{\"outlinewidth\":0,\"ticks\":\"\"}}],\"scatter\":[{\"fillpattern\":{\"fillmode\":\"overlay\",\"size\":10,\"solidity\":0.2},\"type\":\"scatter\"}],\"parcoords\":[{\"type\":\"parcoords\",\"line\":{\"colorbar\":{\"outlinewidth\":0,\"ticks\":\"\"}}}],\"scatterpolargl\":[{\"type\":\"scatterpolargl\",\"marker\":{\"colorbar\":{\"outlinewidth\":0,\"ticks\":\"\"}}}],\"bar\":[{\"error_x\":{\"color\":\"#2a3f5f\"},\"error_y\":{\"color\":\"#2a3f5f\"},\"marker\":{\"line\":{\"color\":\"#E5ECF6\",\"width\":0.5},\"pattern\":{\"fillmode\":\"overlay\",\"size\":10,\"solidity\":0.2}},\"type\":\"bar\"}],\"scattergeo\":[{\"type\":\"scattergeo\",\"marker\":{\"colorbar\":{\"outlinewidth\":0,\"ticks\":\"\"}}}],\"scatterpolar\":[{\"type\":\"scatterpolar\",\"marker\":{\"colorbar\":{\"outlinewidth\":0,\"ticks\":\"\"}}}],\"histogram\":[{\"marker\":{\"pattern\":{\"fillmode\":\"overlay\",\"size\":10,\"solidity\":0.2}},\"type\":\"histogram\"}],\"scattergl\":[{\"type\":\"scattergl\",\"marker\":{\"colorbar\":{\"outlinewidth\":0,\"ticks\":\"\"}}}],\"scatter3d\":[{\"type\":\"scatter3d\",\"line\":{\"colorbar\":{\"outlinewidth\":0,\"ticks\":\"\"}},\"marker\":{\"colorbar\":{\"outlinewidth\":0,\"ticks\":\"\"}}}],\"scattermapbox\":[{\"type\":\"scattermapbox\",\"marker\":{\"colorbar\":{\"outlinewidth\":0,\"ticks\":\"\"}}}],\"scatterternary\":[{\"type\":\"scatterternary\",\"marker\":{\"colorbar\":{\"outlinewidth\":0,\"ticks\":\"\"}}}],\"scattercarpet\":[{\"type\":\"scattercarpet\",\"marker\":{\"colorbar\":{\"outlinewidth\":0,\"ticks\":\"\"}}}],\"carpet\":[{\"aaxis\":{\"endlinecolor\":\"#2a3f5f\",\"gridcolor\":\"white\",\"linecolor\":\"white\",\"minorgridcolor\":\"white\",\"startlinecolor\":\"#2a3f5f\"},\"baxis\":{\"endlinecolor\":\"#2a3f5f\",\"gridcolor\":\"white\",\"linecolor\":\"white\",\"minorgridcolor\":\"white\",\"startlinecolor\":\"#2a3f5f\"},\"type\":\"carpet\"}],\"table\":[{\"cells\":{\"fill\":{\"color\":\"#EBF0F8\"},\"line\":{\"color\":\"white\"}},\"header\":{\"fill\":{\"color\":\"#C8D4E3\"},\"line\":{\"color\":\"white\"}},\"type\":\"table\"}],\"barpolar\":[{\"marker\":{\"line\":{\"color\":\"#E5ECF6\",\"width\":0.5},\"pattern\":{\"fillmode\":\"overlay\",\"size\":10,\"solidity\":0.2}},\"type\":\"barpolar\"}],\"pie\":[{\"automargin\":true,\"type\":\"pie\"}]},\"layout\":{\"autotypenumbers\":\"strict\",\"colorway\":[\"#636efa\",\"#EF553B\",\"#00cc96\",\"#ab63fa\",\"#FFA15A\",\"#19d3f3\",\"#FF6692\",\"#B6E880\",\"#FF97FF\",\"#FECB52\"],\"font\":{\"color\":\"#2a3f5f\"},\"hovermode\":\"closest\",\"hoverlabel\":{\"align\":\"left\"},\"paper_bgcolor\":\"white\",\"plot_bgcolor\":\"#E5ECF6\",\"polar\":{\"bgcolor\":\"#E5ECF6\",\"angularaxis\":{\"gridcolor\":\"white\",\"linecolor\":\"white\",\"ticks\":\"\"},\"radialaxis\":{\"gridcolor\":\"white\",\"linecolor\":\"white\",\"ticks\":\"\"}},\"ternary\":{\"bgcolor\":\"#E5ECF6\",\"aaxis\":{\"gridcolor\":\"white\",\"linecolor\":\"white\",\"ticks\":\"\"},\"baxis\":{\"gridcolor\":\"white\",\"linecolor\":\"white\",\"ticks\":\"\"},\"caxis\":{\"gridcolor\":\"white\",\"linecolor\":\"white\",\"ticks\":\"\"}},\"coloraxis\":{\"colorbar\":{\"outlinewidth\":0,\"ticks\":\"\"}},\"colorscale\":{\"sequential\":[[0.0,\"#0d0887\"],[0.1111111111111111,\"#46039f\"],[0.2222222222222222,\"#7201a8\"],[0.3333333333333333,\"#9c179e\"],[0.4444444444444444,\"#bd3786\"],[0.5555555555555556,\"#d8576b\"],[0.6666666666666666,\"#ed7953\"],[0.7777777777777778,\"#fb9f3a\"],[0.8888888888888888,\"#fdca26\"],[1.0,\"#f0f921\"]],\"sequentialminus\":[[0.0,\"#0d0887\"],[0.1111111111111111,\"#46039f\"],[0.2222222222222222,\"#7201a8\"],[0.3333333333333333,\"#9c179e\"],[0.4444444444444444,\"#bd3786\"],[0.5555555555555556,\"#d8576b\"],[0.6666666666666666,\"#ed7953\"],[0.7777777777777778,\"#fb9f3a\"],[0.8888888888888888,\"#fdca26\"],[1.0,\"#f0f921\"]],\"diverging\":[[0,\"#8e0152\"],[0.1,\"#c51b7d\"],[0.2,\"#de77ae\"],[0.3,\"#f1b6da\"],[0.4,\"#fde0ef\"],[0.5,\"#f7f7f7\"],[0.6,\"#e6f5d0\"],[0.7,\"#b8e186\"],[0.8,\"#7fbc41\"],[0.9,\"#4d9221\"],[1,\"#276419\"]]},\"xaxis\":{\"gridcolor\":\"white\",\"linecolor\":\"white\",\"ticks\":\"\",\"title\":{\"standoff\":15},\"zerolinecolor\":\"white\",\"automargin\":true,\"zerolinewidth\":2},\"yaxis\":{\"gridcolor\":\"white\",\"linecolor\":\"white\",\"ticks\":\"\",\"title\":{\"standoff\":15},\"zerolinecolor\":\"white\",\"automargin\":true,\"zerolinewidth\":2},\"scene\":{\"xaxis\":{\"backgroundcolor\":\"#E5ECF6\",\"gridcolor\":\"white\",\"linecolor\":\"white\",\"showbackground\":true,\"ticks\":\"\",\"zerolinecolor\":\"white\",\"gridwidth\":2},\"yaxis\":{\"backgroundcolor\":\"#E5ECF6\",\"gridcolor\":\"white\",\"linecolor\":\"white\",\"showbackground\":true,\"ticks\":\"\",\"zerolinecolor\":\"white\",\"gridwidth\":2},\"zaxis\":{\"backgroundcolor\":\"#E5ECF6\",\"gridcolor\":\"white\",\"linecolor\":\"white\",\"showbackground\":true,\"ticks\":\"\",\"zerolinecolor\":\"white\",\"gridwidth\":2}},\"shapedefaults\":{\"line\":{\"color\":\"#2a3f5f\"}},\"annotationdefaults\":{\"arrowcolor\":\"#2a3f5f\",\"arrowhead\":0,\"arrowwidth\":1},\"geo\":{\"bgcolor\":\"white\",\"landcolor\":\"#E5ECF6\",\"subunitcolor\":\"white\",\"showland\":true,\"showlakes\":true,\"lakecolor\":\"white\"},\"title\":{\"x\":0.05},\"mapbox\":{\"style\":\"light\"}}},\"xaxis\":{\"anchor\":\"y\",\"domain\":[0.0,0.94],\"title\":{\"font\":{\"color\":\"black\",\"family\":\"Arial\"},\"text\":\"Amount of training samples\"},\"tickfont\":{\"color\":\"black\"},\"type\":\"log\"},\"yaxis\":{\"anchor\":\"x\",\"domain\":[0.0,1.0],\"title\":{\"font\":{\"color\":\"black\",\"family\":\"Arial\"},\"text\":\"Validation set loss\"},\"tickfont\":{\"color\":\"black\"}},\"yaxis2\":{\"anchor\":\"x\",\"overlaying\":\"y\",\"side\":\"right\",\"title\":{\"font\":{\"color\":\"black\",\"family\":\"Arial\"},\"text\":\"Validation set F1 score\"},\"tickfont\":{\"color\":\"black\"}},\"plot_bgcolor\":\"rgb(209, 217, 222)\",\"title\":{\"font\":{\"color\":\"black\"},\"text\":\"Validation F1 micro score for margin sampling\"},\"legend\":{\"font\":{\"color\":\"black\"}}},                        {\"responsive\": true}                    ).then(function(){\n",
       "                            \n",
       "var gd = document.getElementById('63109ce7-df41-4cdf-9727-a15948af59f4');\n",
       "var x = new MutationObserver(function (mutations, observer) {{\n",
       "        var display = window.getComputedStyle(gd).display;\n",
       "        if (!display || display === 'none') {{\n",
       "            console.log([gd, 'removed!']);\n",
       "            Plotly.purge(gd);\n",
       "            observer.disconnect();\n",
       "        }}\n",
       "}});\n",
       "\n",
       "// Listen for the removal of the full notebook cells\n",
       "var notebookContainer = gd.closest('#notebook-container');\n",
       "if (notebookContainer) {{\n",
       "    x.observe(notebookContainer, {childList: true});\n",
       "}}\n",
       "\n",
       "// Listen for the clearing of the current output cell\n",
       "var outputEl = gd.closest('.output');\n",
       "if (outputEl) {{\n",
       "    x.observe(outputEl, {childList: true});\n",
       "}}\n",
       "\n",
       "                        })                };                });            </script>        </div>"
      ]
     },
     "metadata": {},
     "output_type": "display_data"
    }
   ],
   "source": [
    "plot_performance_vs_amount_of_data(\n",
    "    performance, \n",
    "    no_of_samples,\n",
    "    performance_test_data,\n",
    "    title=\"Validation F1 micro score for margin sampling\", \n",
    "    x_axes=\"Amount of training samples\", \n",
    "    y_axes=\"Validation set loss\", \n",
    "    y_axes_secondary=\"Validation set F1 score\", \n",
    "    mode=\"val\"\n",
    ")"
   ]
  },
  {
   "cell_type": "code",
   "execution_count": 18,
   "metadata": {},
   "outputs": [
    {
     "data": {
      "application/vnd.plotly.v1+json": {
       "config": {
        "plotlyServerURL": "https://plot.ly"
       },
       "data": [
        {
         "line": {
          "color": "rgb(149, 162, 171)",
          "dash": "dash",
          "width": 1
         },
         "mode": "lines",
         "showlegend": false,
         "type": "scatter",
         "x": [
          8,
          8
         ],
         "y": [
          0,
          1.12
         ],
         "yaxis": "y2"
        },
        {
         "marker": {
          "size": 0
         },
         "mode": "text",
         "showlegend": false,
         "text": [
          "8"
         ],
         "textfont": {
          "color": "black",
          "family": "Arial",
          "size": 8.5
         },
         "textposition": "top center",
         "type": "scatter",
         "x": [
          8
         ],
         "y": [
          1.13
         ],
         "yaxis": "y2"
        },
        {
         "line": {
          "color": "rgb(149, 162, 171)",
          "dash": "dash",
          "width": 1
         },
         "mode": "lines",
         "showlegend": false,
         "type": "scatter",
         "x": [
          24,
          24
         ],
         "y": [
          0,
          1.12
         ],
         "yaxis": "y2"
        },
        {
         "marker": {
          "size": 0
         },
         "mode": "text",
         "showlegend": false,
         "text": [
          "24"
         ],
         "textfont": {
          "color": "black",
          "family": "Arial",
          "size": 8.5
         },
         "textposition": "top center",
         "type": "scatter",
         "x": [
          24
         ],
         "y": [
          1.13
         ],
         "yaxis": "y2"
        },
        {
         "line": {
          "color": "rgb(149, 162, 171)",
          "dash": "dash",
          "width": 1
         },
         "mode": "lines",
         "showlegend": false,
         "type": "scatter",
         "x": [
          56,
          56
         ],
         "y": [
          0,
          1.12
         ],
         "yaxis": "y2"
        },
        {
         "marker": {
          "size": 0
         },
         "mode": "text",
         "showlegend": false,
         "text": [
          "56"
         ],
         "textfont": {
          "color": "black",
          "family": "Arial",
          "size": 8.5
         },
         "textposition": "top center",
         "type": "scatter",
         "x": [
          56
         ],
         "y": [
          1.13
         ],
         "yaxis": "y2"
        },
        {
         "line": {
          "color": "rgb(149, 162, 171)",
          "dash": "dash",
          "width": 1
         },
         "mode": "lines",
         "showlegend": false,
         "type": "scatter",
         "x": [
          120,
          120
         ],
         "y": [
          0,
          1.12
         ],
         "yaxis": "y2"
        },
        {
         "marker": {
          "size": 0
         },
         "mode": "text",
         "showlegend": false,
         "text": [
          "120"
         ],
         "textfont": {
          "color": "black",
          "family": "Arial",
          "size": 8.5
         },
         "textposition": "top center",
         "type": "scatter",
         "x": [
          120
         ],
         "y": [
          1.13
         ],
         "yaxis": "y2"
        },
        {
         "line": {
          "color": "rgb(149, 162, 171)",
          "dash": "dash",
          "width": 1
         },
         "mode": "lines",
         "showlegend": false,
         "type": "scatter",
         "x": [
          216,
          216
         ],
         "y": [
          0,
          1.12
         ],
         "yaxis": "y2"
        },
        {
         "marker": {
          "size": 0
         },
         "mode": "text",
         "showlegend": false,
         "text": [
          "216"
         ],
         "textfont": {
          "color": "black",
          "family": "Arial",
          "size": 8.5
         },
         "textposition": "top center",
         "type": "scatter",
         "x": [
          216
         ],
         "y": [
          1.13
         ],
         "yaxis": "y2"
        },
        {
         "line": {
          "color": "rgb(149, 162, 171)",
          "dash": "dash",
          "width": 1
         },
         "mode": "lines",
         "showlegend": false,
         "type": "scatter",
         "x": [
          392,
          392
         ],
         "y": [
          0,
          1.12
         ],
         "yaxis": "y2"
        },
        {
         "marker": {
          "size": 0
         },
         "mode": "text",
         "showlegend": false,
         "text": [
          "392"
         ],
         "textfont": {
          "color": "black",
          "family": "Arial",
          "size": 8.5
         },
         "textposition": "top center",
         "type": "scatter",
         "x": [
          392
         ],
         "y": [
          1.13
         ],
         "yaxis": "y2"
        },
        {
         "line": {
          "color": "rgb(149, 162, 171)",
          "dash": "dash",
          "width": 1
         },
         "mode": "lines",
         "showlegend": false,
         "type": "scatter",
         "x": [
          712,
          712
         ],
         "y": [
          0,
          1.12
         ],
         "yaxis": "y2"
        },
        {
         "marker": {
          "size": 0
         },
         "mode": "text",
         "showlegend": false,
         "text": [
          "712"
         ],
         "textfont": {
          "color": "black",
          "family": "Arial",
          "size": 8.5
         },
         "textposition": "top center",
         "type": "scatter",
         "x": [
          712
         ],
         "y": [
          1.13
         ],
         "yaxis": "y2"
        },
        {
         "line": {
          "color": "rgb(149, 162, 171)",
          "dash": "dash",
          "width": 1
         },
         "mode": "lines",
         "showlegend": false,
         "type": "scatter",
         "x": [
          1272,
          1272
         ],
         "y": [
          0,
          1.12
         ],
         "yaxis": "y2"
        },
        {
         "marker": {
          "size": 0
         },
         "mode": "text",
         "showlegend": false,
         "text": [
          "1272"
         ],
         "textfont": {
          "color": "black",
          "family": "Arial",
          "size": 8.5
         },
         "textposition": "top center",
         "type": "scatter",
         "x": [
          1272
         ],
         "y": [
          1.13
         ],
         "yaxis": "y2"
        },
        {
         "line": {
          "color": "rgb(149, 162, 171)",
          "dash": "dash",
          "width": 1
         },
         "mode": "lines",
         "showlegend": false,
         "type": "scatter",
         "x": [
          2264,
          2264
         ],
         "y": [
          0,
          1.12
         ],
         "yaxis": "y2"
        },
        {
         "marker": {
          "size": 0
         },
         "mode": "text",
         "showlegend": false,
         "text": [
          "2264"
         ],
         "textfont": {
          "color": "black",
          "family": "Arial",
          "size": 8.5
         },
         "textposition": "top center",
         "type": "scatter",
         "x": [
          2264
         ],
         "y": [
          1.13
         ],
         "yaxis": "y2"
        },
        {
         "line": {
          "color": "rgb(149, 162, 171)",
          "dash": "dash",
          "width": 1
         },
         "mode": "lines",
         "showlegend": false,
         "type": "scatter",
         "x": [
          4040,
          4040
         ],
         "y": [
          0,
          1.12
         ],
         "yaxis": "y2"
        },
        {
         "marker": {
          "size": 0
         },
         "mode": "text",
         "showlegend": false,
         "text": [
          "4040"
         ],
         "textfont": {
          "color": "black",
          "family": "Arial",
          "size": 8.5
         },
         "textposition": "top center",
         "type": "scatter",
         "x": [
          4040
         ],
         "y": [
          1.13
         ],
         "yaxis": "y2"
        },
        {
         "line": {
          "color": "rgb(149, 162, 171)",
          "dash": "dash",
          "width": 1
         },
         "mode": "lines",
         "showlegend": false,
         "type": "scatter",
         "x": [
          7200,
          7200
         ],
         "y": [
          0,
          1.12
         ],
         "yaxis": "y2"
        },
        {
         "marker": {
          "size": 0
         },
         "mode": "text",
         "showlegend": false,
         "text": [
          "7200"
         ],
         "textfont": {
          "color": "black",
          "family": "Arial",
          "size": 8.5
         },
         "textposition": "top center",
         "type": "scatter",
         "x": [
          7200
         ],
         "y": [
          1.13
         ],
         "yaxis": "y2"
        },
        {
         "line": {
          "color": "rgb(149, 162, 171)",
          "dash": "dash",
          "width": 1
         },
         "mode": "lines",
         "showlegend": false,
         "type": "scatter",
         "x": [
          12824,
          12824
         ],
         "y": [
          0,
          1.12
         ],
         "yaxis": "y2"
        },
        {
         "marker": {
          "size": 0
         },
         "mode": "text",
         "showlegend": false,
         "text": [
          "12824"
         ],
         "textfont": {
          "color": "black",
          "family": "Arial",
          "size": 8.5
         },
         "textposition": "top center",
         "type": "scatter",
         "x": [
          12824
         ],
         "y": [
          1.13
         ],
         "yaxis": "y2"
        },
        {
         "line": {
          "color": "rgb(149, 162, 171)",
          "dash": "dash",
          "width": 1
         },
         "mode": "lines",
         "showlegend": false,
         "type": "scatter",
         "x": [
          22824,
          22824
         ],
         "y": [
          0,
          1.12
         ],
         "yaxis": "y2"
        },
        {
         "marker": {
          "size": 0
         },
         "mode": "text",
         "showlegend": false,
         "text": [
          "22824"
         ],
         "textfont": {
          "color": "black",
          "family": "Arial",
          "size": 8.5
         },
         "textposition": "top center",
         "type": "scatter",
         "x": [
          22824
         ],
         "y": [
          1.13
         ],
         "yaxis": "y2"
        },
        {
         "line": {
          "color": "rgb(149, 162, 171)",
          "dash": "dash",
          "width": 1
         },
         "mode": "lines",
         "showlegend": false,
         "type": "scatter",
         "x": [
          26880,
          26880
         ],
         "y": [
          0,
          1.12
         ],
         "yaxis": "y2"
        },
        {
         "marker": {
          "size": 0
         },
         "mode": "text",
         "showlegend": false,
         "text": [
          "26880"
         ],
         "textfont": {
          "color": "black",
          "family": "Arial",
          "size": 8.5
         },
         "textposition": "top center",
         "type": "scatter",
         "x": [
          26880
         ],
         "y": [
          1.13
         ],
         "yaxis": "y2"
        },
        {
         "line": {
          "width": 2
         },
         "marker": {
          "color": "rgb(151,193,57)"
         },
         "name": "Test F1 score (0.827)",
         "textfont": {
          "family": "Arial",
          "size": 11
         },
         "type": "scatter",
         "x": [
          8,
          24,
          56,
          120,
          216,
          392,
          712,
          1272,
          2264,
          4040,
          7200,
          12824,
          22824,
          26880
         ],
         "xaxis": "x",
         "y": [
          0.04895833333333333,
          0.6173611111111111,
          0.6730902777777777,
          0.7364583333333333,
          0.7484375,
          0.7788194444444444,
          0.8086805555555555,
          0.8430555555555556,
          0.8282986111111111,
          0.8487847222222222,
          0.8440972222222223,
          0.8430555555555556,
          0.8213541666666667,
          0.8269097222222223
         ],
         "yaxis": "y"
        }
       ],
       "layout": {
        "legend": {
         "font": {
          "color": "black"
         }
        },
        "plot_bgcolor": "rgb(209, 217, 222)",
        "template": {
         "data": {
          "bar": [
           {
            "error_x": {
             "color": "#2a3f5f"
            },
            "error_y": {
             "color": "#2a3f5f"
            },
            "marker": {
             "line": {
              "color": "#E5ECF6",
              "width": 0.5
             },
             "pattern": {
              "fillmode": "overlay",
              "size": 10,
              "solidity": 0.2
             }
            },
            "type": "bar"
           }
          ],
          "barpolar": [
           {
            "marker": {
             "line": {
              "color": "#E5ECF6",
              "width": 0.5
             },
             "pattern": {
              "fillmode": "overlay",
              "size": 10,
              "solidity": 0.2
             }
            },
            "type": "barpolar"
           }
          ],
          "carpet": [
           {
            "aaxis": {
             "endlinecolor": "#2a3f5f",
             "gridcolor": "white",
             "linecolor": "white",
             "minorgridcolor": "white",
             "startlinecolor": "#2a3f5f"
            },
            "baxis": {
             "endlinecolor": "#2a3f5f",
             "gridcolor": "white",
             "linecolor": "white",
             "minorgridcolor": "white",
             "startlinecolor": "#2a3f5f"
            },
            "type": "carpet"
           }
          ],
          "choropleth": [
           {
            "colorbar": {
             "outlinewidth": 0,
             "ticks": ""
            },
            "type": "choropleth"
           }
          ],
          "contour": [
           {
            "colorbar": {
             "outlinewidth": 0,
             "ticks": ""
            },
            "colorscale": [
             [
              0,
              "#0d0887"
             ],
             [
              0.1111111111111111,
              "#46039f"
             ],
             [
              0.2222222222222222,
              "#7201a8"
             ],
             [
              0.3333333333333333,
              "#9c179e"
             ],
             [
              0.4444444444444444,
              "#bd3786"
             ],
             [
              0.5555555555555556,
              "#d8576b"
             ],
             [
              0.6666666666666666,
              "#ed7953"
             ],
             [
              0.7777777777777778,
              "#fb9f3a"
             ],
             [
              0.8888888888888888,
              "#fdca26"
             ],
             [
              1,
              "#f0f921"
             ]
            ],
            "type": "contour"
           }
          ],
          "contourcarpet": [
           {
            "colorbar": {
             "outlinewidth": 0,
             "ticks": ""
            },
            "type": "contourcarpet"
           }
          ],
          "heatmap": [
           {
            "colorbar": {
             "outlinewidth": 0,
             "ticks": ""
            },
            "colorscale": [
             [
              0,
              "#0d0887"
             ],
             [
              0.1111111111111111,
              "#46039f"
             ],
             [
              0.2222222222222222,
              "#7201a8"
             ],
             [
              0.3333333333333333,
              "#9c179e"
             ],
             [
              0.4444444444444444,
              "#bd3786"
             ],
             [
              0.5555555555555556,
              "#d8576b"
             ],
             [
              0.6666666666666666,
              "#ed7953"
             ],
             [
              0.7777777777777778,
              "#fb9f3a"
             ],
             [
              0.8888888888888888,
              "#fdca26"
             ],
             [
              1,
              "#f0f921"
             ]
            ],
            "type": "heatmap"
           }
          ],
          "heatmapgl": [
           {
            "colorbar": {
             "outlinewidth": 0,
             "ticks": ""
            },
            "colorscale": [
             [
              0,
              "#0d0887"
             ],
             [
              0.1111111111111111,
              "#46039f"
             ],
             [
              0.2222222222222222,
              "#7201a8"
             ],
             [
              0.3333333333333333,
              "#9c179e"
             ],
             [
              0.4444444444444444,
              "#bd3786"
             ],
             [
              0.5555555555555556,
              "#d8576b"
             ],
             [
              0.6666666666666666,
              "#ed7953"
             ],
             [
              0.7777777777777778,
              "#fb9f3a"
             ],
             [
              0.8888888888888888,
              "#fdca26"
             ],
             [
              1,
              "#f0f921"
             ]
            ],
            "type": "heatmapgl"
           }
          ],
          "histogram": [
           {
            "marker": {
             "pattern": {
              "fillmode": "overlay",
              "size": 10,
              "solidity": 0.2
             }
            },
            "type": "histogram"
           }
          ],
          "histogram2d": [
           {
            "colorbar": {
             "outlinewidth": 0,
             "ticks": ""
            },
            "colorscale": [
             [
              0,
              "#0d0887"
             ],
             [
              0.1111111111111111,
              "#46039f"
             ],
             [
              0.2222222222222222,
              "#7201a8"
             ],
             [
              0.3333333333333333,
              "#9c179e"
             ],
             [
              0.4444444444444444,
              "#bd3786"
             ],
             [
              0.5555555555555556,
              "#d8576b"
             ],
             [
              0.6666666666666666,
              "#ed7953"
             ],
             [
              0.7777777777777778,
              "#fb9f3a"
             ],
             [
              0.8888888888888888,
              "#fdca26"
             ],
             [
              1,
              "#f0f921"
             ]
            ],
            "type": "histogram2d"
           }
          ],
          "histogram2dcontour": [
           {
            "colorbar": {
             "outlinewidth": 0,
             "ticks": ""
            },
            "colorscale": [
             [
              0,
              "#0d0887"
             ],
             [
              0.1111111111111111,
              "#46039f"
             ],
             [
              0.2222222222222222,
              "#7201a8"
             ],
             [
              0.3333333333333333,
              "#9c179e"
             ],
             [
              0.4444444444444444,
              "#bd3786"
             ],
             [
              0.5555555555555556,
              "#d8576b"
             ],
             [
              0.6666666666666666,
              "#ed7953"
             ],
             [
              0.7777777777777778,
              "#fb9f3a"
             ],
             [
              0.8888888888888888,
              "#fdca26"
             ],
             [
              1,
              "#f0f921"
             ]
            ],
            "type": "histogram2dcontour"
           }
          ],
          "mesh3d": [
           {
            "colorbar": {
             "outlinewidth": 0,
             "ticks": ""
            },
            "type": "mesh3d"
           }
          ],
          "parcoords": [
           {
            "line": {
             "colorbar": {
              "outlinewidth": 0,
              "ticks": ""
             }
            },
            "type": "parcoords"
           }
          ],
          "pie": [
           {
            "automargin": true,
            "type": "pie"
           }
          ],
          "scatter": [
           {
            "fillpattern": {
             "fillmode": "overlay",
             "size": 10,
             "solidity": 0.2
            },
            "type": "scatter"
           }
          ],
          "scatter3d": [
           {
            "line": {
             "colorbar": {
              "outlinewidth": 0,
              "ticks": ""
             }
            },
            "marker": {
             "colorbar": {
              "outlinewidth": 0,
              "ticks": ""
             }
            },
            "type": "scatter3d"
           }
          ],
          "scattercarpet": [
           {
            "marker": {
             "colorbar": {
              "outlinewidth": 0,
              "ticks": ""
             }
            },
            "type": "scattercarpet"
           }
          ],
          "scattergeo": [
           {
            "marker": {
             "colorbar": {
              "outlinewidth": 0,
              "ticks": ""
             }
            },
            "type": "scattergeo"
           }
          ],
          "scattergl": [
           {
            "marker": {
             "colorbar": {
              "outlinewidth": 0,
              "ticks": ""
             }
            },
            "type": "scattergl"
           }
          ],
          "scattermapbox": [
           {
            "marker": {
             "colorbar": {
              "outlinewidth": 0,
              "ticks": ""
             }
            },
            "type": "scattermapbox"
           }
          ],
          "scatterpolar": [
           {
            "marker": {
             "colorbar": {
              "outlinewidth": 0,
              "ticks": ""
             }
            },
            "type": "scatterpolar"
           }
          ],
          "scatterpolargl": [
           {
            "marker": {
             "colorbar": {
              "outlinewidth": 0,
              "ticks": ""
             }
            },
            "type": "scatterpolargl"
           }
          ],
          "scatterternary": [
           {
            "marker": {
             "colorbar": {
              "outlinewidth": 0,
              "ticks": ""
             }
            },
            "type": "scatterternary"
           }
          ],
          "surface": [
           {
            "colorbar": {
             "outlinewidth": 0,
             "ticks": ""
            },
            "colorscale": [
             [
              0,
              "#0d0887"
             ],
             [
              0.1111111111111111,
              "#46039f"
             ],
             [
              0.2222222222222222,
              "#7201a8"
             ],
             [
              0.3333333333333333,
              "#9c179e"
             ],
             [
              0.4444444444444444,
              "#bd3786"
             ],
             [
              0.5555555555555556,
              "#d8576b"
             ],
             [
              0.6666666666666666,
              "#ed7953"
             ],
             [
              0.7777777777777778,
              "#fb9f3a"
             ],
             [
              0.8888888888888888,
              "#fdca26"
             ],
             [
              1,
              "#f0f921"
             ]
            ],
            "type": "surface"
           }
          ],
          "table": [
           {
            "cells": {
             "fill": {
              "color": "#EBF0F8"
             },
             "line": {
              "color": "white"
             }
            },
            "header": {
             "fill": {
              "color": "#C8D4E3"
             },
             "line": {
              "color": "white"
             }
            },
            "type": "table"
           }
          ]
         },
         "layout": {
          "annotationdefaults": {
           "arrowcolor": "#2a3f5f",
           "arrowhead": 0,
           "arrowwidth": 1
          },
          "autotypenumbers": "strict",
          "coloraxis": {
           "colorbar": {
            "outlinewidth": 0,
            "ticks": ""
           }
          },
          "colorscale": {
           "diverging": [
            [
             0,
             "#8e0152"
            ],
            [
             0.1,
             "#c51b7d"
            ],
            [
             0.2,
             "#de77ae"
            ],
            [
             0.3,
             "#f1b6da"
            ],
            [
             0.4,
             "#fde0ef"
            ],
            [
             0.5,
             "#f7f7f7"
            ],
            [
             0.6,
             "#e6f5d0"
            ],
            [
             0.7,
             "#b8e186"
            ],
            [
             0.8,
             "#7fbc41"
            ],
            [
             0.9,
             "#4d9221"
            ],
            [
             1,
             "#276419"
            ]
           ],
           "sequential": [
            [
             0,
             "#0d0887"
            ],
            [
             0.1111111111111111,
             "#46039f"
            ],
            [
             0.2222222222222222,
             "#7201a8"
            ],
            [
             0.3333333333333333,
             "#9c179e"
            ],
            [
             0.4444444444444444,
             "#bd3786"
            ],
            [
             0.5555555555555556,
             "#d8576b"
            ],
            [
             0.6666666666666666,
             "#ed7953"
            ],
            [
             0.7777777777777778,
             "#fb9f3a"
            ],
            [
             0.8888888888888888,
             "#fdca26"
            ],
            [
             1,
             "#f0f921"
            ]
           ],
           "sequentialminus": [
            [
             0,
             "#0d0887"
            ],
            [
             0.1111111111111111,
             "#46039f"
            ],
            [
             0.2222222222222222,
             "#7201a8"
            ],
            [
             0.3333333333333333,
             "#9c179e"
            ],
            [
             0.4444444444444444,
             "#bd3786"
            ],
            [
             0.5555555555555556,
             "#d8576b"
            ],
            [
             0.6666666666666666,
             "#ed7953"
            ],
            [
             0.7777777777777778,
             "#fb9f3a"
            ],
            [
             0.8888888888888888,
             "#fdca26"
            ],
            [
             1,
             "#f0f921"
            ]
           ]
          },
          "colorway": [
           "#636efa",
           "#EF553B",
           "#00cc96",
           "#ab63fa",
           "#FFA15A",
           "#19d3f3",
           "#FF6692",
           "#B6E880",
           "#FF97FF",
           "#FECB52"
          ],
          "font": {
           "color": "#2a3f5f"
          },
          "geo": {
           "bgcolor": "white",
           "lakecolor": "white",
           "landcolor": "#E5ECF6",
           "showlakes": true,
           "showland": true,
           "subunitcolor": "white"
          },
          "hoverlabel": {
           "align": "left"
          },
          "hovermode": "closest",
          "mapbox": {
           "style": "light"
          },
          "paper_bgcolor": "white",
          "plot_bgcolor": "#E5ECF6",
          "polar": {
           "angularaxis": {
            "gridcolor": "white",
            "linecolor": "white",
            "ticks": ""
           },
           "bgcolor": "#E5ECF6",
           "radialaxis": {
            "gridcolor": "white",
            "linecolor": "white",
            "ticks": ""
           }
          },
          "scene": {
           "xaxis": {
            "backgroundcolor": "#E5ECF6",
            "gridcolor": "white",
            "gridwidth": 2,
            "linecolor": "white",
            "showbackground": true,
            "ticks": "",
            "zerolinecolor": "white"
           },
           "yaxis": {
            "backgroundcolor": "#E5ECF6",
            "gridcolor": "white",
            "gridwidth": 2,
            "linecolor": "white",
            "showbackground": true,
            "ticks": "",
            "zerolinecolor": "white"
           },
           "zaxis": {
            "backgroundcolor": "#E5ECF6",
            "gridcolor": "white",
            "gridwidth": 2,
            "linecolor": "white",
            "showbackground": true,
            "ticks": "",
            "zerolinecolor": "white"
           }
          },
          "shapedefaults": {
           "line": {
            "color": "#2a3f5f"
           }
          },
          "ternary": {
           "aaxis": {
            "gridcolor": "white",
            "linecolor": "white",
            "ticks": ""
           },
           "baxis": {
            "gridcolor": "white",
            "linecolor": "white",
            "ticks": ""
           },
           "bgcolor": "#E5ECF6",
           "caxis": {
            "gridcolor": "white",
            "linecolor": "white",
            "ticks": ""
           }
          },
          "title": {
           "x": 0.05
          },
          "xaxis": {
           "automargin": true,
           "gridcolor": "white",
           "linecolor": "white",
           "ticks": "",
           "title": {
            "standoff": 15
           },
           "zerolinecolor": "white",
           "zerolinewidth": 2
          },
          "yaxis": {
           "automargin": true,
           "gridcolor": "white",
           "linecolor": "white",
           "ticks": "",
           "title": {
            "standoff": 15
           },
           "zerolinecolor": "white",
           "zerolinewidth": 2
          }
         }
        },
        "title": {
         "font": {
          "color": "black"
         },
         "text": "Test F1 micro score for margin sampling"
        },
        "xaxis": {
         "anchor": "y",
         "domain": [
          0,
          0.94
         ],
         "tickfont": {
          "color": "black"
         },
         "title": {
          "font": {
           "color": "black",
           "family": "Arial"
          },
          "text": "Number of training samples"
         },
         "type": "log"
        },
        "yaxis": {
         "anchor": "x",
         "domain": [
          0,
          1
         ],
         "tickfont": {
          "color": "black"
         },
         "title": {
          "font": {
           "color": "black",
           "family": "Arial"
          },
          "text": "Test set F1 micro score"
         }
        },
        "yaxis2": {
         "anchor": "x",
         "overlaying": "y",
         "side": "right",
         "tickfont": {
          "color": "black"
         },
         "title": {
          "font": {
           "color": "black",
           "family": "Arial"
          },
          "text": "Test set F1 score"
         }
        }
       }
      },
      "text/html": [
       "<div>                            <div id=\"8f1847c9-7188-4dd6-b543-623cce378de8\" class=\"plotly-graph-div\" style=\"height:525px; width:100%;\"></div>            <script type=\"text/javascript\">                require([\"plotly\"], function(Plotly) {                    window.PLOTLYENV=window.PLOTLYENV || {};                                    if (document.getElementById(\"8f1847c9-7188-4dd6-b543-623cce378de8\")) {                    Plotly.newPlot(                        \"8f1847c9-7188-4dd6-b543-623cce378de8\",                        [{\"line\":{\"color\":\"rgb(149, 162, 171)\",\"dash\":\"dash\",\"width\":1},\"mode\":\"lines\",\"showlegend\":false,\"x\":[8,8],\"y\":[0,1.12],\"yaxis\":\"y2\",\"type\":\"scatter\"},{\"marker\":{\"size\":0},\"mode\":\"text\",\"showlegend\":false,\"text\":[\"8\"],\"textfont\":{\"color\":\"black\",\"family\":\"Arial\",\"size\":8.5},\"textposition\":\"top center\",\"x\":[8],\"y\":[1.13],\"yaxis\":\"y2\",\"type\":\"scatter\"},{\"line\":{\"color\":\"rgb(149, 162, 171)\",\"dash\":\"dash\",\"width\":1},\"mode\":\"lines\",\"showlegend\":false,\"x\":[24,24],\"y\":[0,1.12],\"yaxis\":\"y2\",\"type\":\"scatter\"},{\"marker\":{\"size\":0},\"mode\":\"text\",\"showlegend\":false,\"text\":[\"24\"],\"textfont\":{\"color\":\"black\",\"family\":\"Arial\",\"size\":8.5},\"textposition\":\"top center\",\"x\":[24],\"y\":[1.13],\"yaxis\":\"y2\",\"type\":\"scatter\"},{\"line\":{\"color\":\"rgb(149, 162, 171)\",\"dash\":\"dash\",\"width\":1},\"mode\":\"lines\",\"showlegend\":false,\"x\":[56,56],\"y\":[0,1.12],\"yaxis\":\"y2\",\"type\":\"scatter\"},{\"marker\":{\"size\":0},\"mode\":\"text\",\"showlegend\":false,\"text\":[\"56\"],\"textfont\":{\"color\":\"black\",\"family\":\"Arial\",\"size\":8.5},\"textposition\":\"top center\",\"x\":[56],\"y\":[1.13],\"yaxis\":\"y2\",\"type\":\"scatter\"},{\"line\":{\"color\":\"rgb(149, 162, 171)\",\"dash\":\"dash\",\"width\":1},\"mode\":\"lines\",\"showlegend\":false,\"x\":[120,120],\"y\":[0,1.12],\"yaxis\":\"y2\",\"type\":\"scatter\"},{\"marker\":{\"size\":0},\"mode\":\"text\",\"showlegend\":false,\"text\":[\"120\"],\"textfont\":{\"color\":\"black\",\"family\":\"Arial\",\"size\":8.5},\"textposition\":\"top center\",\"x\":[120],\"y\":[1.13],\"yaxis\":\"y2\",\"type\":\"scatter\"},{\"line\":{\"color\":\"rgb(149, 162, 171)\",\"dash\":\"dash\",\"width\":1},\"mode\":\"lines\",\"showlegend\":false,\"x\":[216,216],\"y\":[0,1.12],\"yaxis\":\"y2\",\"type\":\"scatter\"},{\"marker\":{\"size\":0},\"mode\":\"text\",\"showlegend\":false,\"text\":[\"216\"],\"textfont\":{\"color\":\"black\",\"family\":\"Arial\",\"size\":8.5},\"textposition\":\"top center\",\"x\":[216],\"y\":[1.13],\"yaxis\":\"y2\",\"type\":\"scatter\"},{\"line\":{\"color\":\"rgb(149, 162, 171)\",\"dash\":\"dash\",\"width\":1},\"mode\":\"lines\",\"showlegend\":false,\"x\":[392,392],\"y\":[0,1.12],\"yaxis\":\"y2\",\"type\":\"scatter\"},{\"marker\":{\"size\":0},\"mode\":\"text\",\"showlegend\":false,\"text\":[\"392\"],\"textfont\":{\"color\":\"black\",\"family\":\"Arial\",\"size\":8.5},\"textposition\":\"top center\",\"x\":[392],\"y\":[1.13],\"yaxis\":\"y2\",\"type\":\"scatter\"},{\"line\":{\"color\":\"rgb(149, 162, 171)\",\"dash\":\"dash\",\"width\":1},\"mode\":\"lines\",\"showlegend\":false,\"x\":[712,712],\"y\":[0,1.12],\"yaxis\":\"y2\",\"type\":\"scatter\"},{\"marker\":{\"size\":0},\"mode\":\"text\",\"showlegend\":false,\"text\":[\"712\"],\"textfont\":{\"color\":\"black\",\"family\":\"Arial\",\"size\":8.5},\"textposition\":\"top center\",\"x\":[712],\"y\":[1.13],\"yaxis\":\"y2\",\"type\":\"scatter\"},{\"line\":{\"color\":\"rgb(149, 162, 171)\",\"dash\":\"dash\",\"width\":1},\"mode\":\"lines\",\"showlegend\":false,\"x\":[1272,1272],\"y\":[0,1.12],\"yaxis\":\"y2\",\"type\":\"scatter\"},{\"marker\":{\"size\":0},\"mode\":\"text\",\"showlegend\":false,\"text\":[\"1272\"],\"textfont\":{\"color\":\"black\",\"family\":\"Arial\",\"size\":8.5},\"textposition\":\"top center\",\"x\":[1272],\"y\":[1.13],\"yaxis\":\"y2\",\"type\":\"scatter\"},{\"line\":{\"color\":\"rgb(149, 162, 171)\",\"dash\":\"dash\",\"width\":1},\"mode\":\"lines\",\"showlegend\":false,\"x\":[2264,2264],\"y\":[0,1.12],\"yaxis\":\"y2\",\"type\":\"scatter\"},{\"marker\":{\"size\":0},\"mode\":\"text\",\"showlegend\":false,\"text\":[\"2264\"],\"textfont\":{\"color\":\"black\",\"family\":\"Arial\",\"size\":8.5},\"textposition\":\"top center\",\"x\":[2264],\"y\":[1.13],\"yaxis\":\"y2\",\"type\":\"scatter\"},{\"line\":{\"color\":\"rgb(149, 162, 171)\",\"dash\":\"dash\",\"width\":1},\"mode\":\"lines\",\"showlegend\":false,\"x\":[4040,4040],\"y\":[0,1.12],\"yaxis\":\"y2\",\"type\":\"scatter\"},{\"marker\":{\"size\":0},\"mode\":\"text\",\"showlegend\":false,\"text\":[\"4040\"],\"textfont\":{\"color\":\"black\",\"family\":\"Arial\",\"size\":8.5},\"textposition\":\"top center\",\"x\":[4040],\"y\":[1.13],\"yaxis\":\"y2\",\"type\":\"scatter\"},{\"line\":{\"color\":\"rgb(149, 162, 171)\",\"dash\":\"dash\",\"width\":1},\"mode\":\"lines\",\"showlegend\":false,\"x\":[7200,7200],\"y\":[0,1.12],\"yaxis\":\"y2\",\"type\":\"scatter\"},{\"marker\":{\"size\":0},\"mode\":\"text\",\"showlegend\":false,\"text\":[\"7200\"],\"textfont\":{\"color\":\"black\",\"family\":\"Arial\",\"size\":8.5},\"textposition\":\"top center\",\"x\":[7200],\"y\":[1.13],\"yaxis\":\"y2\",\"type\":\"scatter\"},{\"line\":{\"color\":\"rgb(149, 162, 171)\",\"dash\":\"dash\",\"width\":1},\"mode\":\"lines\",\"showlegend\":false,\"x\":[12824,12824],\"y\":[0,1.12],\"yaxis\":\"y2\",\"type\":\"scatter\"},{\"marker\":{\"size\":0},\"mode\":\"text\",\"showlegend\":false,\"text\":[\"12824\"],\"textfont\":{\"color\":\"black\",\"family\":\"Arial\",\"size\":8.5},\"textposition\":\"top center\",\"x\":[12824],\"y\":[1.13],\"yaxis\":\"y2\",\"type\":\"scatter\"},{\"line\":{\"color\":\"rgb(149, 162, 171)\",\"dash\":\"dash\",\"width\":1},\"mode\":\"lines\",\"showlegend\":false,\"x\":[22824,22824],\"y\":[0,1.12],\"yaxis\":\"y2\",\"type\":\"scatter\"},{\"marker\":{\"size\":0},\"mode\":\"text\",\"showlegend\":false,\"text\":[\"22824\"],\"textfont\":{\"color\":\"black\",\"family\":\"Arial\",\"size\":8.5},\"textposition\":\"top center\",\"x\":[22824],\"y\":[1.13],\"yaxis\":\"y2\",\"type\":\"scatter\"},{\"line\":{\"color\":\"rgb(149, 162, 171)\",\"dash\":\"dash\",\"width\":1},\"mode\":\"lines\",\"showlegend\":false,\"x\":[26880,26880],\"y\":[0,1.12],\"yaxis\":\"y2\",\"type\":\"scatter\"},{\"marker\":{\"size\":0},\"mode\":\"text\",\"showlegend\":false,\"text\":[\"26880\"],\"textfont\":{\"color\":\"black\",\"family\":\"Arial\",\"size\":8.5},\"textposition\":\"top center\",\"x\":[26880],\"y\":[1.13],\"yaxis\":\"y2\",\"type\":\"scatter\"},{\"line\":{\"width\":2},\"marker\":{\"color\":\"rgb(151,193,57)\"},\"name\":\"Test F1 score (0.827)\",\"textfont\":{\"family\":\"Arial\",\"size\":11},\"x\":[8,24,56,120,216,392,712,1272,2264,4040,7200,12824,22824,26880],\"y\":[0.04895833333333333,0.6173611111111111,0.6730902777777777,0.7364583333333333,0.7484375,0.7788194444444444,0.8086805555555555,0.8430555555555556,0.8282986111111111,0.8487847222222222,0.8440972222222223,0.8430555555555556,0.8213541666666667,0.8269097222222223],\"type\":\"scatter\",\"xaxis\":\"x\",\"yaxis\":\"y\"}],                        {\"template\":{\"data\":{\"histogram2dcontour\":[{\"type\":\"histogram2dcontour\",\"colorbar\":{\"outlinewidth\":0,\"ticks\":\"\"},\"colorscale\":[[0.0,\"#0d0887\"],[0.1111111111111111,\"#46039f\"],[0.2222222222222222,\"#7201a8\"],[0.3333333333333333,\"#9c179e\"],[0.4444444444444444,\"#bd3786\"],[0.5555555555555556,\"#d8576b\"],[0.6666666666666666,\"#ed7953\"],[0.7777777777777778,\"#fb9f3a\"],[0.8888888888888888,\"#fdca26\"],[1.0,\"#f0f921\"]]}],\"choropleth\":[{\"type\":\"choropleth\",\"colorbar\":{\"outlinewidth\":0,\"ticks\":\"\"}}],\"histogram2d\":[{\"type\":\"histogram2d\",\"colorbar\":{\"outlinewidth\":0,\"ticks\":\"\"},\"colorscale\":[[0.0,\"#0d0887\"],[0.1111111111111111,\"#46039f\"],[0.2222222222222222,\"#7201a8\"],[0.3333333333333333,\"#9c179e\"],[0.4444444444444444,\"#bd3786\"],[0.5555555555555556,\"#d8576b\"],[0.6666666666666666,\"#ed7953\"],[0.7777777777777778,\"#fb9f3a\"],[0.8888888888888888,\"#fdca26\"],[1.0,\"#f0f921\"]]}],\"heatmap\":[{\"type\":\"heatmap\",\"colorbar\":{\"outlinewidth\":0,\"ticks\":\"\"},\"colorscale\":[[0.0,\"#0d0887\"],[0.1111111111111111,\"#46039f\"],[0.2222222222222222,\"#7201a8\"],[0.3333333333333333,\"#9c179e\"],[0.4444444444444444,\"#bd3786\"],[0.5555555555555556,\"#d8576b\"],[0.6666666666666666,\"#ed7953\"],[0.7777777777777778,\"#fb9f3a\"],[0.8888888888888888,\"#fdca26\"],[1.0,\"#f0f921\"]]}],\"heatmapgl\":[{\"type\":\"heatmapgl\",\"colorbar\":{\"outlinewidth\":0,\"ticks\":\"\"},\"colorscale\":[[0.0,\"#0d0887\"],[0.1111111111111111,\"#46039f\"],[0.2222222222222222,\"#7201a8\"],[0.3333333333333333,\"#9c179e\"],[0.4444444444444444,\"#bd3786\"],[0.5555555555555556,\"#d8576b\"],[0.6666666666666666,\"#ed7953\"],[0.7777777777777778,\"#fb9f3a\"],[0.8888888888888888,\"#fdca26\"],[1.0,\"#f0f921\"]]}],\"contourcarpet\":[{\"type\":\"contourcarpet\",\"colorbar\":{\"outlinewidth\":0,\"ticks\":\"\"}}],\"contour\":[{\"type\":\"contour\",\"colorbar\":{\"outlinewidth\":0,\"ticks\":\"\"},\"colorscale\":[[0.0,\"#0d0887\"],[0.1111111111111111,\"#46039f\"],[0.2222222222222222,\"#7201a8\"],[0.3333333333333333,\"#9c179e\"],[0.4444444444444444,\"#bd3786\"],[0.5555555555555556,\"#d8576b\"],[0.6666666666666666,\"#ed7953\"],[0.7777777777777778,\"#fb9f3a\"],[0.8888888888888888,\"#fdca26\"],[1.0,\"#f0f921\"]]}],\"surface\":[{\"type\":\"surface\",\"colorbar\":{\"outlinewidth\":0,\"ticks\":\"\"},\"colorscale\":[[0.0,\"#0d0887\"],[0.1111111111111111,\"#46039f\"],[0.2222222222222222,\"#7201a8\"],[0.3333333333333333,\"#9c179e\"],[0.4444444444444444,\"#bd3786\"],[0.5555555555555556,\"#d8576b\"],[0.6666666666666666,\"#ed7953\"],[0.7777777777777778,\"#fb9f3a\"],[0.8888888888888888,\"#fdca26\"],[1.0,\"#f0f921\"]]}],\"mesh3d\":[{\"type\":\"mesh3d\",\"colorbar\":{\"outlinewidth\":0,\"ticks\":\"\"}}],\"scatter\":[{\"fillpattern\":{\"fillmode\":\"overlay\",\"size\":10,\"solidity\":0.2},\"type\":\"scatter\"}],\"parcoords\":[{\"type\":\"parcoords\",\"line\":{\"colorbar\":{\"outlinewidth\":0,\"ticks\":\"\"}}}],\"scatterpolargl\":[{\"type\":\"scatterpolargl\",\"marker\":{\"colorbar\":{\"outlinewidth\":0,\"ticks\":\"\"}}}],\"bar\":[{\"error_x\":{\"color\":\"#2a3f5f\"},\"error_y\":{\"color\":\"#2a3f5f\"},\"marker\":{\"line\":{\"color\":\"#E5ECF6\",\"width\":0.5},\"pattern\":{\"fillmode\":\"overlay\",\"size\":10,\"solidity\":0.2}},\"type\":\"bar\"}],\"scattergeo\":[{\"type\":\"scattergeo\",\"marker\":{\"colorbar\":{\"outlinewidth\":0,\"ticks\":\"\"}}}],\"scatterpolar\":[{\"type\":\"scatterpolar\",\"marker\":{\"colorbar\":{\"outlinewidth\":0,\"ticks\":\"\"}}}],\"histogram\":[{\"marker\":{\"pattern\":{\"fillmode\":\"overlay\",\"size\":10,\"solidity\":0.2}},\"type\":\"histogram\"}],\"scattergl\":[{\"type\":\"scattergl\",\"marker\":{\"colorbar\":{\"outlinewidth\":0,\"ticks\":\"\"}}}],\"scatter3d\":[{\"type\":\"scatter3d\",\"line\":{\"colorbar\":{\"outlinewidth\":0,\"ticks\":\"\"}},\"marker\":{\"colorbar\":{\"outlinewidth\":0,\"ticks\":\"\"}}}],\"scattermapbox\":[{\"type\":\"scattermapbox\",\"marker\":{\"colorbar\":{\"outlinewidth\":0,\"ticks\":\"\"}}}],\"scatterternary\":[{\"type\":\"scatterternary\",\"marker\":{\"colorbar\":{\"outlinewidth\":0,\"ticks\":\"\"}}}],\"scattercarpet\":[{\"type\":\"scattercarpet\",\"marker\":{\"colorbar\":{\"outlinewidth\":0,\"ticks\":\"\"}}}],\"carpet\":[{\"aaxis\":{\"endlinecolor\":\"#2a3f5f\",\"gridcolor\":\"white\",\"linecolor\":\"white\",\"minorgridcolor\":\"white\",\"startlinecolor\":\"#2a3f5f\"},\"baxis\":{\"endlinecolor\":\"#2a3f5f\",\"gridcolor\":\"white\",\"linecolor\":\"white\",\"minorgridcolor\":\"white\",\"startlinecolor\":\"#2a3f5f\"},\"type\":\"carpet\"}],\"table\":[{\"cells\":{\"fill\":{\"color\":\"#EBF0F8\"},\"line\":{\"color\":\"white\"}},\"header\":{\"fill\":{\"color\":\"#C8D4E3\"},\"line\":{\"color\":\"white\"}},\"type\":\"table\"}],\"barpolar\":[{\"marker\":{\"line\":{\"color\":\"#E5ECF6\",\"width\":0.5},\"pattern\":{\"fillmode\":\"overlay\",\"size\":10,\"solidity\":0.2}},\"type\":\"barpolar\"}],\"pie\":[{\"automargin\":true,\"type\":\"pie\"}]},\"layout\":{\"autotypenumbers\":\"strict\",\"colorway\":[\"#636efa\",\"#EF553B\",\"#00cc96\",\"#ab63fa\",\"#FFA15A\",\"#19d3f3\",\"#FF6692\",\"#B6E880\",\"#FF97FF\",\"#FECB52\"],\"font\":{\"color\":\"#2a3f5f\"},\"hovermode\":\"closest\",\"hoverlabel\":{\"align\":\"left\"},\"paper_bgcolor\":\"white\",\"plot_bgcolor\":\"#E5ECF6\",\"polar\":{\"bgcolor\":\"#E5ECF6\",\"angularaxis\":{\"gridcolor\":\"white\",\"linecolor\":\"white\",\"ticks\":\"\"},\"radialaxis\":{\"gridcolor\":\"white\",\"linecolor\":\"white\",\"ticks\":\"\"}},\"ternary\":{\"bgcolor\":\"#E5ECF6\",\"aaxis\":{\"gridcolor\":\"white\",\"linecolor\":\"white\",\"ticks\":\"\"},\"baxis\":{\"gridcolor\":\"white\",\"linecolor\":\"white\",\"ticks\":\"\"},\"caxis\":{\"gridcolor\":\"white\",\"linecolor\":\"white\",\"ticks\":\"\"}},\"coloraxis\":{\"colorbar\":{\"outlinewidth\":0,\"ticks\":\"\"}},\"colorscale\":{\"sequential\":[[0.0,\"#0d0887\"],[0.1111111111111111,\"#46039f\"],[0.2222222222222222,\"#7201a8\"],[0.3333333333333333,\"#9c179e\"],[0.4444444444444444,\"#bd3786\"],[0.5555555555555556,\"#d8576b\"],[0.6666666666666666,\"#ed7953\"],[0.7777777777777778,\"#fb9f3a\"],[0.8888888888888888,\"#fdca26\"],[1.0,\"#f0f921\"]],\"sequentialminus\":[[0.0,\"#0d0887\"],[0.1111111111111111,\"#46039f\"],[0.2222222222222222,\"#7201a8\"],[0.3333333333333333,\"#9c179e\"],[0.4444444444444444,\"#bd3786\"],[0.5555555555555556,\"#d8576b\"],[0.6666666666666666,\"#ed7953\"],[0.7777777777777778,\"#fb9f3a\"],[0.8888888888888888,\"#fdca26\"],[1.0,\"#f0f921\"]],\"diverging\":[[0,\"#8e0152\"],[0.1,\"#c51b7d\"],[0.2,\"#de77ae\"],[0.3,\"#f1b6da\"],[0.4,\"#fde0ef\"],[0.5,\"#f7f7f7\"],[0.6,\"#e6f5d0\"],[0.7,\"#b8e186\"],[0.8,\"#7fbc41\"],[0.9,\"#4d9221\"],[1,\"#276419\"]]},\"xaxis\":{\"gridcolor\":\"white\",\"linecolor\":\"white\",\"ticks\":\"\",\"title\":{\"standoff\":15},\"zerolinecolor\":\"white\",\"automargin\":true,\"zerolinewidth\":2},\"yaxis\":{\"gridcolor\":\"white\",\"linecolor\":\"white\",\"ticks\":\"\",\"title\":{\"standoff\":15},\"zerolinecolor\":\"white\",\"automargin\":true,\"zerolinewidth\":2},\"scene\":{\"xaxis\":{\"backgroundcolor\":\"#E5ECF6\",\"gridcolor\":\"white\",\"linecolor\":\"white\",\"showbackground\":true,\"ticks\":\"\",\"zerolinecolor\":\"white\",\"gridwidth\":2},\"yaxis\":{\"backgroundcolor\":\"#E5ECF6\",\"gridcolor\":\"white\",\"linecolor\":\"white\",\"showbackground\":true,\"ticks\":\"\",\"zerolinecolor\":\"white\",\"gridwidth\":2},\"zaxis\":{\"backgroundcolor\":\"#E5ECF6\",\"gridcolor\":\"white\",\"linecolor\":\"white\",\"showbackground\":true,\"ticks\":\"\",\"zerolinecolor\":\"white\",\"gridwidth\":2}},\"shapedefaults\":{\"line\":{\"color\":\"#2a3f5f\"}},\"annotationdefaults\":{\"arrowcolor\":\"#2a3f5f\",\"arrowhead\":0,\"arrowwidth\":1},\"geo\":{\"bgcolor\":\"white\",\"landcolor\":\"#E5ECF6\",\"subunitcolor\":\"white\",\"showland\":true,\"showlakes\":true,\"lakecolor\":\"white\"},\"title\":{\"x\":0.05},\"mapbox\":{\"style\":\"light\"}}},\"xaxis\":{\"anchor\":\"y\",\"domain\":[0.0,0.94],\"title\":{\"font\":{\"color\":\"black\",\"family\":\"Arial\"},\"text\":\"Number of training samples\"},\"tickfont\":{\"color\":\"black\"},\"type\":\"log\"},\"yaxis\":{\"anchor\":\"x\",\"domain\":[0.0,1.0],\"title\":{\"font\":{\"color\":\"black\",\"family\":\"Arial\"},\"text\":\"Test set F1 micro score\"},\"tickfont\":{\"color\":\"black\"}},\"yaxis2\":{\"anchor\":\"x\",\"overlaying\":\"y\",\"side\":\"right\",\"title\":{\"font\":{\"color\":\"black\",\"family\":\"Arial\"},\"text\":\"Test set F1 score\"},\"tickfont\":{\"color\":\"black\"}},\"plot_bgcolor\":\"rgb(209, 217, 222)\",\"title\":{\"font\":{\"color\":\"black\"},\"text\":\"Test F1 micro score for margin sampling\"},\"legend\":{\"font\":{\"color\":\"black\"}}},                        {\"responsive\": true}                    ).then(function(){\n",
       "                            \n",
       "var gd = document.getElementById('8f1847c9-7188-4dd6-b543-623cce378de8');\n",
       "var x = new MutationObserver(function (mutations, observer) {{\n",
       "        var display = window.getComputedStyle(gd).display;\n",
       "        if (!display || display === 'none') {{\n",
       "            console.log([gd, 'removed!']);\n",
       "            Plotly.purge(gd);\n",
       "            observer.disconnect();\n",
       "        }}\n",
       "}});\n",
       "\n",
       "// Listen for the removal of the full notebook cells\n",
       "var notebookContainer = gd.closest('#notebook-container');\n",
       "if (notebookContainer) {{\n",
       "    x.observe(notebookContainer, {childList: true});\n",
       "}}\n",
       "\n",
       "// Listen for the clearing of the current output cell\n",
       "var outputEl = gd.closest('.output');\n",
       "if (outputEl) {{\n",
       "    x.observe(outputEl, {childList: true});\n",
       "}}\n",
       "\n",
       "                        })                };                });            </script>        </div>"
      ]
     },
     "metadata": {},
     "output_type": "display_data"
    }
   ],
   "source": [
    "plot_performance_vs_amount_of_data(\n",
    "    performance, \n",
    "    no_of_samples, \n",
    "    performance_test_data,\n",
    "    title=\"Test F1 micro score for margin sampling\", \n",
    "    x_axes=\"Number of training samples\", \n",
    "    y_axes=\"Test set F1 micro score\", \n",
    "    y_axes_secondary=\"Test set F1 score\", \n",
    "    mode=\"test\"\n",
    ")"
   ]
  }
 ],
 "metadata": {
  "kernelspec": {
   "display_name": "ActiveLearning01",
   "language": "python",
   "name": "python3"
  },
  "language_info": {
   "codemirror_mode": {
    "name": "ipython",
    "version": 3
   },
   "file_extension": ".py",
   "mimetype": "text/x-python",
   "name": "python",
   "nbconvert_exporter": "python",
   "pygments_lexer": "ipython3",
   "version": "3.8.19"
  }
 },
 "nbformat": 4,
 "nbformat_minor": 2
}
