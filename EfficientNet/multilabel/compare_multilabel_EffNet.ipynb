{
 "cells": [
  {
   "cell_type": "code",
   "execution_count": 4,
   "metadata": {},
   "outputs": [
    {
     "name": "stdout",
     "output_type": "stream",
     "text": [
      "T-test between Random Sampling vs avg_confidence:\n",
      "T-statistic: -0.091, P-value: 0.928\n",
      "No significant difference (p >= 0.05)\n",
      "\n"
     ]
    }
   ],
   "source": [
    "from scipy import stats\n",
    "\n",
    "def perform_t_tests(performances, strategies):\n",
    "    \"\"\"\n",
    "    Perform t-tests and calculate p-values between each active learning approach and random sampling,\n",
    "    as well as between all pairs of active learning strategies.\n",
    "    \"\"\"\n",
    "    random_sampling_performance = performances[strategies.index('random_sampling')]  # Random sampling F1 scores\n",
    "    \n",
    "    # List to store results\n",
    "    t_test_results = []\n",
    "    \n",
    "    # Compare each active learning approach with random sampling\n",
    "    for strategy, performance in zip(strategies, performances):\n",
    "        if strategy == 'random_sampling':\n",
    "            continue  # Skip random sampling, since it's compared with others\n",
    "        \n",
    "        # Perform t-test between the random_sampling and the current strategy\n",
    "        t_stat, p_value = stats.ttest_ind(random_sampling_performance, performance, equal_var=False)  # Welch's t-test\n",
    "        \n",
    "        # Append the result\n",
    "        t_test_results.append((f\"Random Sampling vs {strategy}\", t_stat, p_value))\n",
    "    \n",
    "    # Compare all pairs of active learning strategies\n",
    "    for i in range(len(strategies)):\n",
    "        for j in range(i + 1, len(strategies)):\n",
    "            if strategies[i] != 'random_sampling' and strategies[j] != 'random_sampling':\n",
    "                strategy_1, strategy_2 = strategies[i], strategies[j]\n",
    "                performance_1, performance_2 = performances[i], performances[j]\n",
    "                \n",
    "                # Perform t-test between the two active learning strategies\n",
    "                t_stat, p_value = stats.ttest_ind(performance_1, performance_2, equal_var=False)  # Welch's t-test\n",
    "                \n",
    "                # Append the result\n",
    "                t_test_results.append((f\"{strategy_1} vs {strategy_2}\", t_stat, p_value))\n",
    "\n",
    "    # Display results\n",
    "    for comparison, t_stat, p_value in t_test_results:\n",
    "        print(f\"T-test between {comparison}:\")\n",
    "        print(f\"T-statistic: {t_stat:.3f}, P-value: {p_value:.3f}\")\n",
    "        if p_value < 0.05:\n",
    "            print(f\"Statistically significant difference (p < 0.05)\\n\")\n",
    "        else:\n",
    "            print(f\"No significant difference (p >= 0.05)\\n\")\n",
    "\n",
    "# Perform t-tests and display p-values\n",
    "perform_t_tests(performances, strategies)\n"
   ]
  },
  {
   "cell_type": "code",
   "execution_count": 3,
   "metadata": {},
   "outputs": [
    {
     "name": "stdout",
     "output_type": "stream",
     "text": [
      "Loading pickle file: /home/woody/iwfa/iwfa044h/CleanLab_Test/ActiveLearningApproaches/EOD/EfficientNet/multilabel/AL/avg_confidence/run1/AL_average_confidence_results_for_multilabel_classification_s42.pickle\n",
      "Loading pickle file: /home/woody/iwfa/iwfa044h/CleanLab_Test/ActiveLearningApproaches/EOD/EfficientNet/multilabel/AL/avg_confidence/run2/AL_average_confidence_results_for_multilabel_classification_s43.pickle\n",
      "Loading pickle file: /home/woody/iwfa/iwfa044h/CleanLab_Test/ActiveLearningApproaches/EOD/EfficientNet/multilabel/AL/avg_confidence/run1/AL_average_confidence_results_for_multilabel_classification_s42.pickle\n",
      "Loading pickle file: /home/woody/iwfa/iwfa044h/CleanLab_Test/ActiveLearningApproaches/EOD/EfficientNet/multilabel/AL/avg_confidence/run2/AL_average_confidence_results_for_multilabel_classification_s43.pickle\n",
      "Loading pickle file: /home/woody/iwfa/iwfa044h/CleanLab_Test/ActiveLearningApproaches/EOD/EfficientNet/multilabel/RS/run1/random_sampling_results_for_multilabel_classification_s42.pickle\n",
      "Loading pickle file: /home/woody/iwfa/iwfa044h/CleanLab_Test/ActiveLearningApproaches/EOD/EfficientNet/multilabel/RS/run2/random_sampling_results_for_multilabel_classification_s43.pickle\n",
      "Loading pickle file: /home/woody/iwfa/iwfa044h/CleanLab_Test/ActiveLearningApproaches/EOD/EfficientNet/multilabel/RS/run1/random_sampling_results_for_multilabel_classification_s42.pickle\n",
      "Loading pickle file: /home/woody/iwfa/iwfa044h/CleanLab_Test/ActiveLearningApproaches/EOD/EfficientNet/multilabel/RS/run2/random_sampling_results_for_multilabel_classification_s43.pickle\n"
     ]
    },
    {
     "data": {
      "application/vnd.plotly.v1+json": {
       "config": {
        "plotlyServerURL": "https://plot.ly"
       },
       "data": [
        {
         "line": {
          "color": "rgb(149, 162, 171)",
          "dash": "dash",
          "width": 1
         },
         "mode": "lines",
         "showlegend": false,
         "type": "scatter",
         "x": [
          8,
          8
         ],
         "y": [
          0,
          1.12
         ]
        },
        {
         "marker": {
          "size": 0
         },
         "mode": "text",
         "showlegend": false,
         "text": [
          "8"
         ],
         "textfont": {
          "color": "black",
          "family": "Arial",
          "size": 8.5
         },
         "textposition": "top center",
         "type": "scatter",
         "x": [
          8
         ],
         "y": [
          1.13
         ]
        },
        {
         "line": {
          "color": "rgb(149, 162, 171)",
          "dash": "dash",
          "width": 1
         },
         "mode": "lines",
         "showlegend": false,
         "type": "scatter",
         "x": [
          24,
          24
         ],
         "y": [
          0,
          1.12
         ]
        },
        {
         "marker": {
          "size": 0
         },
         "mode": "text",
         "showlegend": false,
         "text": [
          "24"
         ],
         "textfont": {
          "color": "black",
          "family": "Arial",
          "size": 8.5
         },
         "textposition": "top center",
         "type": "scatter",
         "x": [
          24
         ],
         "y": [
          1.13
         ]
        },
        {
         "line": {
          "color": "rgb(149, 162, 171)",
          "dash": "dash",
          "width": 1
         },
         "mode": "lines",
         "showlegend": false,
         "type": "scatter",
         "x": [
          56,
          56
         ],
         "y": [
          0,
          1.12
         ]
        },
        {
         "marker": {
          "size": 0
         },
         "mode": "text",
         "showlegend": false,
         "text": [
          "56"
         ],
         "textfont": {
          "color": "black",
          "family": "Arial",
          "size": 8.5
         },
         "textposition": "top center",
         "type": "scatter",
         "x": [
          56
         ],
         "y": [
          1.13
         ]
        },
        {
         "line": {
          "color": "rgb(149, 162, 171)",
          "dash": "dash",
          "width": 1
         },
         "mode": "lines",
         "showlegend": false,
         "type": "scatter",
         "x": [
          112,
          112
         ],
         "y": [
          0,
          1.12
         ]
        },
        {
         "marker": {
          "size": 0
         },
         "mode": "text",
         "showlegend": false,
         "text": [
          "112"
         ],
         "textfont": {
          "color": "black",
          "family": "Arial",
          "size": 8.5
         },
         "textposition": "top center",
         "type": "scatter",
         "x": [
          112
         ],
         "y": [
          1.13
         ]
        },
        {
         "line": {
          "color": "rgb(149, 162, 171)",
          "dash": "dash",
          "width": 1
         },
         "mode": "lines",
         "showlegend": false,
         "type": "scatter",
         "x": [
          208,
          208
         ],
         "y": [
          0,
          1.12
         ]
        },
        {
         "marker": {
          "size": 0
         },
         "mode": "text",
         "showlegend": false,
         "text": [
          "208"
         ],
         "textfont": {
          "color": "black",
          "family": "Arial",
          "size": 8.5
         },
         "textposition": "top center",
         "type": "scatter",
         "x": [
          208
         ],
         "y": [
          1.13
         ]
        },
        {
         "line": {
          "color": "rgb(149, 162, 171)",
          "dash": "dash",
          "width": 1
         },
         "mode": "lines",
         "showlegend": false,
         "type": "scatter",
         "x": [
          384,
          384
         ],
         "y": [
          0,
          1.12
         ]
        },
        {
         "marker": {
          "size": 0
         },
         "mode": "text",
         "showlegend": false,
         "text": [
          "384"
         ],
         "textfont": {
          "color": "black",
          "family": "Arial",
          "size": 8.5
         },
         "textposition": "top center",
         "type": "scatter",
         "x": [
          384
         ],
         "y": [
          1.13
         ]
        },
        {
         "line": {
          "color": "rgb(149, 162, 171)",
          "dash": "dash",
          "width": 1
         },
         "mode": "lines",
         "showlegend": false,
         "type": "scatter",
         "x": [
          704,
          704
         ],
         "y": [
          0,
          1.12
         ]
        },
        {
         "marker": {
          "size": 0
         },
         "mode": "text",
         "showlegend": false,
         "text": [
          "704"
         ],
         "textfont": {
          "color": "black",
          "family": "Arial",
          "size": 8.5
         },
         "textposition": "top center",
         "type": "scatter",
         "x": [
          704
         ],
         "y": [
          1.13
         ]
        },
        {
         "line": {
          "color": "rgb(149, 162, 171)",
          "dash": "dash",
          "width": 1
         },
         "mode": "lines",
         "showlegend": false,
         "type": "scatter",
         "x": [
          1264,
          1264
         ],
         "y": [
          0,
          1.12
         ]
        },
        {
         "marker": {
          "size": 0
         },
         "mode": "text",
         "showlegend": false,
         "text": [
          "1264"
         ],
         "textfont": {
          "color": "black",
          "family": "Arial",
          "size": 8.5
         },
         "textposition": "top center",
         "type": "scatter",
         "x": [
          1264
         ],
         "y": [
          1.13
         ]
        },
        {
         "line": {
          "color": "rgb(149, 162, 171)",
          "dash": "dash",
          "width": 1
         },
         "mode": "lines",
         "showlegend": false,
         "type": "scatter",
         "x": [
          2264,
          2264
         ],
         "y": [
          0,
          1.12
         ]
        },
        {
         "marker": {
          "size": 0
         },
         "mode": "text",
         "showlegend": false,
         "text": [
          "2264"
         ],
         "textfont": {
          "color": "black",
          "family": "Arial",
          "size": 8.5
         },
         "textposition": "top center",
         "type": "scatter",
         "x": [
          2264
         ],
         "y": [
          1.13
         ]
        },
        {
         "line": {
          "color": "rgb(149, 162, 171)",
          "dash": "dash",
          "width": 1
         },
         "mode": "lines",
         "showlegend": false,
         "type": "scatter",
         "x": [
          4040,
          4040
         ],
         "y": [
          0,
          1.12
         ]
        },
        {
         "marker": {
          "size": 0
         },
         "mode": "text",
         "showlegend": false,
         "text": [
          "4040"
         ],
         "textfont": {
          "color": "black",
          "family": "Arial",
          "size": 8.5
         },
         "textposition": "top center",
         "type": "scatter",
         "x": [
          4040
         ],
         "y": [
          1.13
         ]
        },
        {
         "line": {
          "color": "rgb(149, 162, 171)",
          "dash": "dash",
          "width": 1
         },
         "mode": "lines",
         "showlegend": false,
         "type": "scatter",
         "x": [
          7200,
          7200
         ],
         "y": [
          0,
          1.12
         ]
        },
        {
         "marker": {
          "size": 0
         },
         "mode": "text",
         "showlegend": false,
         "text": [
          "7200"
         ],
         "textfont": {
          "color": "black",
          "family": "Arial",
          "size": 8.5
         },
         "textposition": "top center",
         "type": "scatter",
         "x": [
          7200
         ],
         "y": [
          1.13
         ]
        },
        {
         "line": {
          "color": "rgb(149, 162, 171)",
          "dash": "dash",
          "width": 1
         },
         "mode": "lines",
         "showlegend": false,
         "type": "scatter",
         "x": [
          12824,
          12824
         ],
         "y": [
          0,
          1.12
         ]
        },
        {
         "marker": {
          "size": 0
         },
         "mode": "text",
         "showlegend": false,
         "text": [
          "12824"
         ],
         "textfont": {
          "color": "black",
          "family": "Arial",
          "size": 8.5
         },
         "textposition": "top center",
         "type": "scatter",
         "x": [
          12824
         ],
         "y": [
          1.13
         ]
        },
        {
         "line": {
          "color": "rgb(149, 162, 171)",
          "dash": "dash",
          "width": 1
         },
         "mode": "lines",
         "showlegend": false,
         "type": "scatter",
         "x": [
          22824,
          22824
         ],
         "y": [
          0,
          1.12
         ]
        },
        {
         "marker": {
          "size": 0
         },
         "mode": "text",
         "showlegend": false,
         "text": [
          "22824"
         ],
         "textfont": {
          "color": "black",
          "family": "Arial",
          "size": 8.5
         },
         "textposition": "top center",
         "type": "scatter",
         "x": [
          22824
         ],
         "y": [
          1.13
         ]
        },
        {
         "line": {
          "color": "rgb(149, 162, 171)",
          "dash": "dash",
          "width": 1
         },
         "mode": "lines",
         "showlegend": false,
         "type": "scatter",
         "x": [
          26880,
          26880
         ],
         "y": [
          0,
          1.12
         ]
        },
        {
         "marker": {
          "size": 0
         },
         "mode": "text",
         "showlegend": false,
         "text": [
          "26880"
         ],
         "textfont": {
          "color": "black",
          "family": "Arial",
          "size": 8.5
         },
         "textposition": "top center",
         "type": "scatter",
         "x": [
          26880
         ],
         "y": [
          1.08
         ]
        },
        {
         "fill": "toself",
         "fillcolor": "rgba(0, 67, 89,0.2)",
         "legendgroup": "avg_confidence",
         "line": {
          "width": 0
         },
         "showlegend": false,
         "type": "scatter",
         "x": [
          8,
          24,
          56,
          112,
          208,
          384,
          704,
          1264,
          2264,
          4040,
          7200,
          12824,
          22824,
          26880,
          26880,
          22824,
          12824,
          7200,
          4040,
          2264,
          1264,
          704,
          384,
          208,
          112,
          56,
          24,
          8
         ],
         "y": [
          0.4461327466040698,
          0.7170544218702329,
          0.8479021953026783,
          0.8460410290773747,
          0.8440806073292486,
          0.8987618647804432,
          0.8994103586479253,
          0.8822655577835716,
          0.9057334404288708,
          0.9264450742012306,
          0.8977787856323344,
          0.9288965755218713,
          0.9220903575760294,
          0.898243281582543,
          0.8957989510706401,
          0.8980010626524907,
          0.9071288809251236,
          0.8877406510829692,
          0.8993945074862814,
          0.8910953306038412,
          0.8729429657448494,
          0.8829754565810157,
          0.8667627903395453,
          0.8421588827398935,
          0.8379864004960966,
          0.8417860884900511,
          0.6980552786227937,
          0.3411089234518731
         ]
        },
        {
         "legendgroup": "avg_confidence",
         "line": {
          "width": 2
         },
         "marker": {
          "color": "rgb(0, 67, 89)"
         },
         "name": "avg_confidence (final: 0.897)",
         "textfont": {
          "family": "Arial",
          "size": 11
         },
         "type": "scatter",
         "x": [
          8,
          24,
          56,
          112,
          208,
          384,
          704,
          1264,
          2264,
          4040,
          7200,
          12824,
          22824,
          26880
         ],
         "y": [
          0.39362083502797146,
          0.7075548502465133,
          0.8448441418963647,
          0.8420137147867357,
          0.8431197450345711,
          0.8827623275599943,
          0.8911929076144705,
          0.8776042617642106,
          0.898414385516356,
          0.912919790843756,
          0.8927597183576518,
          0.9180127282234974,
          0.91004571011426,
          0.8970211163265915
         ]
        },
        {
         "fill": "toself",
         "fillcolor": "rgba(220, 30, 38,0.2)",
         "legendgroup": "random_sampling",
         "line": {
          "width": 0
         },
         "showlegend": false,
         "type": "scatter",
         "x": [
          8,
          24,
          56,
          112,
          208,
          384,
          704,
          1264,
          2264,
          4040,
          7200,
          12824,
          22824,
          26880,
          26880,
          22824,
          12824,
          7200,
          4040,
          2264,
          1264,
          704,
          384,
          208,
          112,
          56,
          24,
          8
         ],
         "y": [
          0.4441508332521193,
          0.7729266249794344,
          0.858903062208053,
          0.8792943812809332,
          0.8578830020769711,
          0.8942752361349054,
          0.8776328467732993,
          0.8694991938759734,
          0.8985956069566292,
          0.9069290613198975,
          0.9254324915807634,
          0.9103918105526897,
          0.9014834612448753,
          0.9002594514852177,
          0.8979755812100841,
          0.8824931977496443,
          0.8820940628681263,
          0.8857988260395516,
          0.8722700868129728,
          0.8721738249472635,
          0.8559950027238248,
          0.8591735338659916,
          0.8363213785339441,
          0.8520488410339117,
          0.8352666088054287,
          0.8245881320612497,
          0.698525118765683,
          0.34113755097316845
         ]
        },
        {
         "legendgroup": "random_sampling",
         "line": {
          "width": 2
         },
         "marker": {
          "color": "rgb(220, 30, 38)"
         },
         "name": "random_sampling (final: 0.899)",
         "textfont": {
          "family": "Arial",
          "size": 11
         },
         "type": "scatter",
         "x": [
          8,
          24,
          56,
          112,
          208,
          384,
          704,
          1264,
          2264,
          4040,
          7200,
          12824,
          22824,
          26880
         ],
         "y": [
          0.3926441921126439,
          0.7357258718725588,
          0.8417455971346514,
          0.8572804950431809,
          0.8549659215554414,
          0.8652983073344247,
          0.8684031903196454,
          0.862747098299899,
          0.8853847159519463,
          0.8895995740664351,
          0.9056156588101575,
          0.896242936710408,
          0.8919883294972598,
          0.8991175163476509
         ]
        }
       ],
       "layout": {
        "legend": {
         "font": {
          "color": "black",
          "family": "Arial"
         }
        },
        "plot_bgcolor": "rgb(209, 217, 222)",
        "template": {
         "data": {
          "bar": [
           {
            "error_x": {
             "color": "#2a3f5f"
            },
            "error_y": {
             "color": "#2a3f5f"
            },
            "marker": {
             "line": {
              "color": "#E5ECF6",
              "width": 0.5
             },
             "pattern": {
              "fillmode": "overlay",
              "size": 10,
              "solidity": 0.2
             }
            },
            "type": "bar"
           }
          ],
          "barpolar": [
           {
            "marker": {
             "line": {
              "color": "#E5ECF6",
              "width": 0.5
             },
             "pattern": {
              "fillmode": "overlay",
              "size": 10,
              "solidity": 0.2
             }
            },
            "type": "barpolar"
           }
          ],
          "carpet": [
           {
            "aaxis": {
             "endlinecolor": "#2a3f5f",
             "gridcolor": "white",
             "linecolor": "white",
             "minorgridcolor": "white",
             "startlinecolor": "#2a3f5f"
            },
            "baxis": {
             "endlinecolor": "#2a3f5f",
             "gridcolor": "white",
             "linecolor": "white",
             "minorgridcolor": "white",
             "startlinecolor": "#2a3f5f"
            },
            "type": "carpet"
           }
          ],
          "choropleth": [
           {
            "colorbar": {
             "outlinewidth": 0,
             "ticks": ""
            },
            "type": "choropleth"
           }
          ],
          "contour": [
           {
            "colorbar": {
             "outlinewidth": 0,
             "ticks": ""
            },
            "colorscale": [
             [
              0,
              "#0d0887"
             ],
             [
              0.1111111111111111,
              "#46039f"
             ],
             [
              0.2222222222222222,
              "#7201a8"
             ],
             [
              0.3333333333333333,
              "#9c179e"
             ],
             [
              0.4444444444444444,
              "#bd3786"
             ],
             [
              0.5555555555555556,
              "#d8576b"
             ],
             [
              0.6666666666666666,
              "#ed7953"
             ],
             [
              0.7777777777777778,
              "#fb9f3a"
             ],
             [
              0.8888888888888888,
              "#fdca26"
             ],
             [
              1,
              "#f0f921"
             ]
            ],
            "type": "contour"
           }
          ],
          "contourcarpet": [
           {
            "colorbar": {
             "outlinewidth": 0,
             "ticks": ""
            },
            "type": "contourcarpet"
           }
          ],
          "heatmap": [
           {
            "colorbar": {
             "outlinewidth": 0,
             "ticks": ""
            },
            "colorscale": [
             [
              0,
              "#0d0887"
             ],
             [
              0.1111111111111111,
              "#46039f"
             ],
             [
              0.2222222222222222,
              "#7201a8"
             ],
             [
              0.3333333333333333,
              "#9c179e"
             ],
             [
              0.4444444444444444,
              "#bd3786"
             ],
             [
              0.5555555555555556,
              "#d8576b"
             ],
             [
              0.6666666666666666,
              "#ed7953"
             ],
             [
              0.7777777777777778,
              "#fb9f3a"
             ],
             [
              0.8888888888888888,
              "#fdca26"
             ],
             [
              1,
              "#f0f921"
             ]
            ],
            "type": "heatmap"
           }
          ],
          "heatmapgl": [
           {
            "colorbar": {
             "outlinewidth": 0,
             "ticks": ""
            },
            "colorscale": [
             [
              0,
              "#0d0887"
             ],
             [
              0.1111111111111111,
              "#46039f"
             ],
             [
              0.2222222222222222,
              "#7201a8"
             ],
             [
              0.3333333333333333,
              "#9c179e"
             ],
             [
              0.4444444444444444,
              "#bd3786"
             ],
             [
              0.5555555555555556,
              "#d8576b"
             ],
             [
              0.6666666666666666,
              "#ed7953"
             ],
             [
              0.7777777777777778,
              "#fb9f3a"
             ],
             [
              0.8888888888888888,
              "#fdca26"
             ],
             [
              1,
              "#f0f921"
             ]
            ],
            "type": "heatmapgl"
           }
          ],
          "histogram": [
           {
            "marker": {
             "pattern": {
              "fillmode": "overlay",
              "size": 10,
              "solidity": 0.2
             }
            },
            "type": "histogram"
           }
          ],
          "histogram2d": [
           {
            "colorbar": {
             "outlinewidth": 0,
             "ticks": ""
            },
            "colorscale": [
             [
              0,
              "#0d0887"
             ],
             [
              0.1111111111111111,
              "#46039f"
             ],
             [
              0.2222222222222222,
              "#7201a8"
             ],
             [
              0.3333333333333333,
              "#9c179e"
             ],
             [
              0.4444444444444444,
              "#bd3786"
             ],
             [
              0.5555555555555556,
              "#d8576b"
             ],
             [
              0.6666666666666666,
              "#ed7953"
             ],
             [
              0.7777777777777778,
              "#fb9f3a"
             ],
             [
              0.8888888888888888,
              "#fdca26"
             ],
             [
              1,
              "#f0f921"
             ]
            ],
            "type": "histogram2d"
           }
          ],
          "histogram2dcontour": [
           {
            "colorbar": {
             "outlinewidth": 0,
             "ticks": ""
            },
            "colorscale": [
             [
              0,
              "#0d0887"
             ],
             [
              0.1111111111111111,
              "#46039f"
             ],
             [
              0.2222222222222222,
              "#7201a8"
             ],
             [
              0.3333333333333333,
              "#9c179e"
             ],
             [
              0.4444444444444444,
              "#bd3786"
             ],
             [
              0.5555555555555556,
              "#d8576b"
             ],
             [
              0.6666666666666666,
              "#ed7953"
             ],
             [
              0.7777777777777778,
              "#fb9f3a"
             ],
             [
              0.8888888888888888,
              "#fdca26"
             ],
             [
              1,
              "#f0f921"
             ]
            ],
            "type": "histogram2dcontour"
           }
          ],
          "mesh3d": [
           {
            "colorbar": {
             "outlinewidth": 0,
             "ticks": ""
            },
            "type": "mesh3d"
           }
          ],
          "parcoords": [
           {
            "line": {
             "colorbar": {
              "outlinewidth": 0,
              "ticks": ""
             }
            },
            "type": "parcoords"
           }
          ],
          "pie": [
           {
            "automargin": true,
            "type": "pie"
           }
          ],
          "scatter": [
           {
            "fillpattern": {
             "fillmode": "overlay",
             "size": 10,
             "solidity": 0.2
            },
            "type": "scatter"
           }
          ],
          "scatter3d": [
           {
            "line": {
             "colorbar": {
              "outlinewidth": 0,
              "ticks": ""
             }
            },
            "marker": {
             "colorbar": {
              "outlinewidth": 0,
              "ticks": ""
             }
            },
            "type": "scatter3d"
           }
          ],
          "scattercarpet": [
           {
            "marker": {
             "colorbar": {
              "outlinewidth": 0,
              "ticks": ""
             }
            },
            "type": "scattercarpet"
           }
          ],
          "scattergeo": [
           {
            "marker": {
             "colorbar": {
              "outlinewidth": 0,
              "ticks": ""
             }
            },
            "type": "scattergeo"
           }
          ],
          "scattergl": [
           {
            "marker": {
             "colorbar": {
              "outlinewidth": 0,
              "ticks": ""
             }
            },
            "type": "scattergl"
           }
          ],
          "scattermapbox": [
           {
            "marker": {
             "colorbar": {
              "outlinewidth": 0,
              "ticks": ""
             }
            },
            "type": "scattermapbox"
           }
          ],
          "scatterpolar": [
           {
            "marker": {
             "colorbar": {
              "outlinewidth": 0,
              "ticks": ""
             }
            },
            "type": "scatterpolar"
           }
          ],
          "scatterpolargl": [
           {
            "marker": {
             "colorbar": {
              "outlinewidth": 0,
              "ticks": ""
             }
            },
            "type": "scatterpolargl"
           }
          ],
          "scatterternary": [
           {
            "marker": {
             "colorbar": {
              "outlinewidth": 0,
              "ticks": ""
             }
            },
            "type": "scatterternary"
           }
          ],
          "surface": [
           {
            "colorbar": {
             "outlinewidth": 0,
             "ticks": ""
            },
            "colorscale": [
             [
              0,
              "#0d0887"
             ],
             [
              0.1111111111111111,
              "#46039f"
             ],
             [
              0.2222222222222222,
              "#7201a8"
             ],
             [
              0.3333333333333333,
              "#9c179e"
             ],
             [
              0.4444444444444444,
              "#bd3786"
             ],
             [
              0.5555555555555556,
              "#d8576b"
             ],
             [
              0.6666666666666666,
              "#ed7953"
             ],
             [
              0.7777777777777778,
              "#fb9f3a"
             ],
             [
              0.8888888888888888,
              "#fdca26"
             ],
             [
              1,
              "#f0f921"
             ]
            ],
            "type": "surface"
           }
          ],
          "table": [
           {
            "cells": {
             "fill": {
              "color": "#EBF0F8"
             },
             "line": {
              "color": "white"
             }
            },
            "header": {
             "fill": {
              "color": "#C8D4E3"
             },
             "line": {
              "color": "white"
             }
            },
            "type": "table"
           }
          ]
         },
         "layout": {
          "annotationdefaults": {
           "arrowcolor": "#2a3f5f",
           "arrowhead": 0,
           "arrowwidth": 1
          },
          "autotypenumbers": "strict",
          "coloraxis": {
           "colorbar": {
            "outlinewidth": 0,
            "ticks": ""
           }
          },
          "colorscale": {
           "diverging": [
            [
             0,
             "#8e0152"
            ],
            [
             0.1,
             "#c51b7d"
            ],
            [
             0.2,
             "#de77ae"
            ],
            [
             0.3,
             "#f1b6da"
            ],
            [
             0.4,
             "#fde0ef"
            ],
            [
             0.5,
             "#f7f7f7"
            ],
            [
             0.6,
             "#e6f5d0"
            ],
            [
             0.7,
             "#b8e186"
            ],
            [
             0.8,
             "#7fbc41"
            ],
            [
             0.9,
             "#4d9221"
            ],
            [
             1,
             "#276419"
            ]
           ],
           "sequential": [
            [
             0,
             "#0d0887"
            ],
            [
             0.1111111111111111,
             "#46039f"
            ],
            [
             0.2222222222222222,
             "#7201a8"
            ],
            [
             0.3333333333333333,
             "#9c179e"
            ],
            [
             0.4444444444444444,
             "#bd3786"
            ],
            [
             0.5555555555555556,
             "#d8576b"
            ],
            [
             0.6666666666666666,
             "#ed7953"
            ],
            [
             0.7777777777777778,
             "#fb9f3a"
            ],
            [
             0.8888888888888888,
             "#fdca26"
            ],
            [
             1,
             "#f0f921"
            ]
           ],
           "sequentialminus": [
            [
             0,
             "#0d0887"
            ],
            [
             0.1111111111111111,
             "#46039f"
            ],
            [
             0.2222222222222222,
             "#7201a8"
            ],
            [
             0.3333333333333333,
             "#9c179e"
            ],
            [
             0.4444444444444444,
             "#bd3786"
            ],
            [
             0.5555555555555556,
             "#d8576b"
            ],
            [
             0.6666666666666666,
             "#ed7953"
            ],
            [
             0.7777777777777778,
             "#fb9f3a"
            ],
            [
             0.8888888888888888,
             "#fdca26"
            ],
            [
             1,
             "#f0f921"
            ]
           ]
          },
          "colorway": [
           "#636efa",
           "#EF553B",
           "#00cc96",
           "#ab63fa",
           "#FFA15A",
           "#19d3f3",
           "#FF6692",
           "#B6E880",
           "#FF97FF",
           "#FECB52"
          ],
          "font": {
           "color": "#2a3f5f"
          },
          "geo": {
           "bgcolor": "white",
           "lakecolor": "white",
           "landcolor": "#E5ECF6",
           "showlakes": true,
           "showland": true,
           "subunitcolor": "white"
          },
          "hoverlabel": {
           "align": "left"
          },
          "hovermode": "closest",
          "mapbox": {
           "style": "light"
          },
          "paper_bgcolor": "white",
          "plot_bgcolor": "#E5ECF6",
          "polar": {
           "angularaxis": {
            "gridcolor": "white",
            "linecolor": "white",
            "ticks": ""
           },
           "bgcolor": "#E5ECF6",
           "radialaxis": {
            "gridcolor": "white",
            "linecolor": "white",
            "ticks": ""
           }
          },
          "scene": {
           "xaxis": {
            "backgroundcolor": "#E5ECF6",
            "gridcolor": "white",
            "gridwidth": 2,
            "linecolor": "white",
            "showbackground": true,
            "ticks": "",
            "zerolinecolor": "white"
           },
           "yaxis": {
            "backgroundcolor": "#E5ECF6",
            "gridcolor": "white",
            "gridwidth": 2,
            "linecolor": "white",
            "showbackground": true,
            "ticks": "",
            "zerolinecolor": "white"
           },
           "zaxis": {
            "backgroundcolor": "#E5ECF6",
            "gridcolor": "white",
            "gridwidth": 2,
            "linecolor": "white",
            "showbackground": true,
            "ticks": "",
            "zerolinecolor": "white"
           }
          },
          "shapedefaults": {
           "line": {
            "color": "#2a3f5f"
           }
          },
          "ternary": {
           "aaxis": {
            "gridcolor": "white",
            "linecolor": "white",
            "ticks": ""
           },
           "baxis": {
            "gridcolor": "white",
            "linecolor": "white",
            "ticks": ""
           },
           "bgcolor": "#E5ECF6",
           "caxis": {
            "gridcolor": "white",
            "linecolor": "white",
            "ticks": ""
           }
          },
          "title": {
           "x": 0.05
          },
          "xaxis": {
           "automargin": true,
           "gridcolor": "white",
           "linecolor": "white",
           "ticks": "",
           "title": {
            "standoff": 15
           },
           "zerolinecolor": "white",
           "zerolinewidth": 2
          },
          "yaxis": {
           "automargin": true,
           "gridcolor": "white",
           "linecolor": "white",
           "ticks": "",
           "title": {
            "standoff": 15
           },
           "zerolinecolor": "white",
           "zerolinewidth": 2
          }
         }
        },
        "title": {
         "font": {
          "color": "black"
         },
         "text": "Average EfficientNetV2 test F1 macro scores with fluctuations for multilabel classification"
        },
        "xaxis": {
         "tickfont": {
          "color": "black"
         },
         "title": {
          "font": {
           "color": "black",
           "family": "Arial"
          },
          "text": "Number of Training Samples"
         },
         "type": "log"
        },
        "yaxis": {
         "tickfont": {
          "color": "black"
         },
         "title": {
          "font": {
           "color": "black",
           "family": "Arial"
          },
          "text": "Test F1 macro score"
         }
        }
       }
      },
      "text/html": [
       "<div>                            <div id=\"c42428e5-326e-4ec2-921e-0fc3836bc65e\" class=\"plotly-graph-div\" style=\"height:525px; width:100%;\"></div>            <script type=\"text/javascript\">                require([\"plotly\"], function(Plotly) {                    window.PLOTLYENV=window.PLOTLYENV || {};                                    if (document.getElementById(\"c42428e5-326e-4ec2-921e-0fc3836bc65e\")) {                    Plotly.newPlot(                        \"c42428e5-326e-4ec2-921e-0fc3836bc65e\",                        [{\"line\":{\"color\":\"rgb(149, 162, 171)\",\"dash\":\"dash\",\"width\":1},\"mode\":\"lines\",\"showlegend\":false,\"x\":[8,8],\"y\":[0,1.12],\"type\":\"scatter\"},{\"marker\":{\"size\":0},\"mode\":\"text\",\"showlegend\":false,\"text\":[\"8\"],\"textfont\":{\"color\":\"black\",\"family\":\"Arial\",\"size\":8.5},\"textposition\":\"top center\",\"x\":[8],\"y\":[1.13],\"type\":\"scatter\"},{\"line\":{\"color\":\"rgb(149, 162, 171)\",\"dash\":\"dash\",\"width\":1},\"mode\":\"lines\",\"showlegend\":false,\"x\":[24,24],\"y\":[0,1.12],\"type\":\"scatter\"},{\"marker\":{\"size\":0},\"mode\":\"text\",\"showlegend\":false,\"text\":[\"24\"],\"textfont\":{\"color\":\"black\",\"family\":\"Arial\",\"size\":8.5},\"textposition\":\"top center\",\"x\":[24],\"y\":[1.13],\"type\":\"scatter\"},{\"line\":{\"color\":\"rgb(149, 162, 171)\",\"dash\":\"dash\",\"width\":1},\"mode\":\"lines\",\"showlegend\":false,\"x\":[56,56],\"y\":[0,1.12],\"type\":\"scatter\"},{\"marker\":{\"size\":0},\"mode\":\"text\",\"showlegend\":false,\"text\":[\"56\"],\"textfont\":{\"color\":\"black\",\"family\":\"Arial\",\"size\":8.5},\"textposition\":\"top center\",\"x\":[56],\"y\":[1.13],\"type\":\"scatter\"},{\"line\":{\"color\":\"rgb(149, 162, 171)\",\"dash\":\"dash\",\"width\":1},\"mode\":\"lines\",\"showlegend\":false,\"x\":[112,112],\"y\":[0,1.12],\"type\":\"scatter\"},{\"marker\":{\"size\":0},\"mode\":\"text\",\"showlegend\":false,\"text\":[\"112\"],\"textfont\":{\"color\":\"black\",\"family\":\"Arial\",\"size\":8.5},\"textposition\":\"top center\",\"x\":[112],\"y\":[1.13],\"type\":\"scatter\"},{\"line\":{\"color\":\"rgb(149, 162, 171)\",\"dash\":\"dash\",\"width\":1},\"mode\":\"lines\",\"showlegend\":false,\"x\":[208,208],\"y\":[0,1.12],\"type\":\"scatter\"},{\"marker\":{\"size\":0},\"mode\":\"text\",\"showlegend\":false,\"text\":[\"208\"],\"textfont\":{\"color\":\"black\",\"family\":\"Arial\",\"size\":8.5},\"textposition\":\"top center\",\"x\":[208],\"y\":[1.13],\"type\":\"scatter\"},{\"line\":{\"color\":\"rgb(149, 162, 171)\",\"dash\":\"dash\",\"width\":1},\"mode\":\"lines\",\"showlegend\":false,\"x\":[384,384],\"y\":[0,1.12],\"type\":\"scatter\"},{\"marker\":{\"size\":0},\"mode\":\"text\",\"showlegend\":false,\"text\":[\"384\"],\"textfont\":{\"color\":\"black\",\"family\":\"Arial\",\"size\":8.5},\"textposition\":\"top center\",\"x\":[384],\"y\":[1.13],\"type\":\"scatter\"},{\"line\":{\"color\":\"rgb(149, 162, 171)\",\"dash\":\"dash\",\"width\":1},\"mode\":\"lines\",\"showlegend\":false,\"x\":[704,704],\"y\":[0,1.12],\"type\":\"scatter\"},{\"marker\":{\"size\":0},\"mode\":\"text\",\"showlegend\":false,\"text\":[\"704\"],\"textfont\":{\"color\":\"black\",\"family\":\"Arial\",\"size\":8.5},\"textposition\":\"top center\",\"x\":[704],\"y\":[1.13],\"type\":\"scatter\"},{\"line\":{\"color\":\"rgb(149, 162, 171)\",\"dash\":\"dash\",\"width\":1},\"mode\":\"lines\",\"showlegend\":false,\"x\":[1264,1264],\"y\":[0,1.12],\"type\":\"scatter\"},{\"marker\":{\"size\":0},\"mode\":\"text\",\"showlegend\":false,\"text\":[\"1264\"],\"textfont\":{\"color\":\"black\",\"family\":\"Arial\",\"size\":8.5},\"textposition\":\"top center\",\"x\":[1264],\"y\":[1.13],\"type\":\"scatter\"},{\"line\":{\"color\":\"rgb(149, 162, 171)\",\"dash\":\"dash\",\"width\":1},\"mode\":\"lines\",\"showlegend\":false,\"x\":[2264,2264],\"y\":[0,1.12],\"type\":\"scatter\"},{\"marker\":{\"size\":0},\"mode\":\"text\",\"showlegend\":false,\"text\":[\"2264\"],\"textfont\":{\"color\":\"black\",\"family\":\"Arial\",\"size\":8.5},\"textposition\":\"top center\",\"x\":[2264],\"y\":[1.13],\"type\":\"scatter\"},{\"line\":{\"color\":\"rgb(149, 162, 171)\",\"dash\":\"dash\",\"width\":1},\"mode\":\"lines\",\"showlegend\":false,\"x\":[4040,4040],\"y\":[0,1.12],\"type\":\"scatter\"},{\"marker\":{\"size\":0},\"mode\":\"text\",\"showlegend\":false,\"text\":[\"4040\"],\"textfont\":{\"color\":\"black\",\"family\":\"Arial\",\"size\":8.5},\"textposition\":\"top center\",\"x\":[4040],\"y\":[1.13],\"type\":\"scatter\"},{\"line\":{\"color\":\"rgb(149, 162, 171)\",\"dash\":\"dash\",\"width\":1},\"mode\":\"lines\",\"showlegend\":false,\"x\":[7200,7200],\"y\":[0,1.12],\"type\":\"scatter\"},{\"marker\":{\"size\":0},\"mode\":\"text\",\"showlegend\":false,\"text\":[\"7200\"],\"textfont\":{\"color\":\"black\",\"family\":\"Arial\",\"size\":8.5},\"textposition\":\"top center\",\"x\":[7200],\"y\":[1.13],\"type\":\"scatter\"},{\"line\":{\"color\":\"rgb(149, 162, 171)\",\"dash\":\"dash\",\"width\":1},\"mode\":\"lines\",\"showlegend\":false,\"x\":[12824,12824],\"y\":[0,1.12],\"type\":\"scatter\"},{\"marker\":{\"size\":0},\"mode\":\"text\",\"showlegend\":false,\"text\":[\"12824\"],\"textfont\":{\"color\":\"black\",\"family\":\"Arial\",\"size\":8.5},\"textposition\":\"top center\",\"x\":[12824],\"y\":[1.13],\"type\":\"scatter\"},{\"line\":{\"color\":\"rgb(149, 162, 171)\",\"dash\":\"dash\",\"width\":1},\"mode\":\"lines\",\"showlegend\":false,\"x\":[22824,22824],\"y\":[0,1.12],\"type\":\"scatter\"},{\"marker\":{\"size\":0},\"mode\":\"text\",\"showlegend\":false,\"text\":[\"22824\"],\"textfont\":{\"color\":\"black\",\"family\":\"Arial\",\"size\":8.5},\"textposition\":\"top center\",\"x\":[22824],\"y\":[1.13],\"type\":\"scatter\"},{\"line\":{\"color\":\"rgb(149, 162, 171)\",\"dash\":\"dash\",\"width\":1},\"mode\":\"lines\",\"showlegend\":false,\"x\":[26880,26880],\"y\":[0,1.12],\"type\":\"scatter\"},{\"marker\":{\"size\":0},\"mode\":\"text\",\"showlegend\":false,\"text\":[\"26880\"],\"textfont\":{\"color\":\"black\",\"family\":\"Arial\",\"size\":8.5},\"textposition\":\"top center\",\"x\":[26880],\"y\":[1.08],\"type\":\"scatter\"},{\"fill\":\"toself\",\"fillcolor\":\"rgba(0, 67, 89,0.2)\",\"legendgroup\":\"avg_confidence\",\"line\":{\"width\":0},\"showlegend\":false,\"x\":[8,24,56,112,208,384,704,1264,2264,4040,7200,12824,22824,26880,26880,22824,12824,7200,4040,2264,1264,704,384,208,112,56,24,8],\"y\":[0.4461327466040698,0.7170544218702329,0.8479021953026783,0.8460410290773747,0.8440806073292486,0.8987618647804432,0.8994103586479253,0.8822655577835716,0.9057334404288708,0.9264450742012306,0.8977787856323344,0.9288965755218713,0.9220903575760294,0.898243281582543,0.8957989510706401,0.8980010626524907,0.9071288809251236,0.8877406510829692,0.8993945074862814,0.8910953306038412,0.8729429657448494,0.8829754565810157,0.8667627903395453,0.8421588827398935,0.8379864004960966,0.8417860884900511,0.6980552786227937,0.3411089234518731],\"type\":\"scatter\"},{\"legendgroup\":\"avg_confidence\",\"line\":{\"width\":2},\"marker\":{\"color\":\"rgb(0, 67, 89)\"},\"name\":\"avg_confidence (final: 0.897)\",\"textfont\":{\"family\":\"Arial\",\"size\":11},\"x\":[8,24,56,112,208,384,704,1264,2264,4040,7200,12824,22824,26880],\"y\":[0.39362083502797146,0.7075548502465133,0.8448441418963647,0.8420137147867357,0.8431197450345711,0.8827623275599943,0.8911929076144705,0.8776042617642106,0.898414385516356,0.912919790843756,0.8927597183576518,0.9180127282234974,0.91004571011426,0.8970211163265915],\"type\":\"scatter\"},{\"fill\":\"toself\",\"fillcolor\":\"rgba(220, 30, 38,0.2)\",\"legendgroup\":\"random_sampling\",\"line\":{\"width\":0},\"showlegend\":false,\"x\":[8,24,56,112,208,384,704,1264,2264,4040,7200,12824,22824,26880,26880,22824,12824,7200,4040,2264,1264,704,384,208,112,56,24,8],\"y\":[0.4441508332521193,0.7729266249794344,0.858903062208053,0.8792943812809332,0.8578830020769711,0.8942752361349054,0.8776328467732993,0.8694991938759734,0.8985956069566292,0.9069290613198975,0.9254324915807634,0.9103918105526897,0.9014834612448753,0.9002594514852177,0.8979755812100841,0.8824931977496443,0.8820940628681263,0.8857988260395516,0.8722700868129728,0.8721738249472635,0.8559950027238248,0.8591735338659916,0.8363213785339441,0.8520488410339117,0.8352666088054287,0.8245881320612497,0.698525118765683,0.34113755097316845],\"type\":\"scatter\"},{\"legendgroup\":\"random_sampling\",\"line\":{\"width\":2},\"marker\":{\"color\":\"rgb(220, 30, 38)\"},\"name\":\"random_sampling (final: 0.899)\",\"textfont\":{\"family\":\"Arial\",\"size\":11},\"x\":[8,24,56,112,208,384,704,1264,2264,4040,7200,12824,22824,26880],\"y\":[0.3926441921126439,0.7357258718725588,0.8417455971346514,0.8572804950431809,0.8549659215554414,0.8652983073344247,0.8684031903196454,0.862747098299899,0.8853847159519463,0.8895995740664351,0.9056156588101575,0.896242936710408,0.8919883294972598,0.8991175163476509],\"type\":\"scatter\"}],                        {\"template\":{\"data\":{\"histogram2dcontour\":[{\"type\":\"histogram2dcontour\",\"colorbar\":{\"outlinewidth\":0,\"ticks\":\"\"},\"colorscale\":[[0.0,\"#0d0887\"],[0.1111111111111111,\"#46039f\"],[0.2222222222222222,\"#7201a8\"],[0.3333333333333333,\"#9c179e\"],[0.4444444444444444,\"#bd3786\"],[0.5555555555555556,\"#d8576b\"],[0.6666666666666666,\"#ed7953\"],[0.7777777777777778,\"#fb9f3a\"],[0.8888888888888888,\"#fdca26\"],[1.0,\"#f0f921\"]]}],\"choropleth\":[{\"type\":\"choropleth\",\"colorbar\":{\"outlinewidth\":0,\"ticks\":\"\"}}],\"histogram2d\":[{\"type\":\"histogram2d\",\"colorbar\":{\"outlinewidth\":0,\"ticks\":\"\"},\"colorscale\":[[0.0,\"#0d0887\"],[0.1111111111111111,\"#46039f\"],[0.2222222222222222,\"#7201a8\"],[0.3333333333333333,\"#9c179e\"],[0.4444444444444444,\"#bd3786\"],[0.5555555555555556,\"#d8576b\"],[0.6666666666666666,\"#ed7953\"],[0.7777777777777778,\"#fb9f3a\"],[0.8888888888888888,\"#fdca26\"],[1.0,\"#f0f921\"]]}],\"heatmap\":[{\"type\":\"heatmap\",\"colorbar\":{\"outlinewidth\":0,\"ticks\":\"\"},\"colorscale\":[[0.0,\"#0d0887\"],[0.1111111111111111,\"#46039f\"],[0.2222222222222222,\"#7201a8\"],[0.3333333333333333,\"#9c179e\"],[0.4444444444444444,\"#bd3786\"],[0.5555555555555556,\"#d8576b\"],[0.6666666666666666,\"#ed7953\"],[0.7777777777777778,\"#fb9f3a\"],[0.8888888888888888,\"#fdca26\"],[1.0,\"#f0f921\"]]}],\"heatmapgl\":[{\"type\":\"heatmapgl\",\"colorbar\":{\"outlinewidth\":0,\"ticks\":\"\"},\"colorscale\":[[0.0,\"#0d0887\"],[0.1111111111111111,\"#46039f\"],[0.2222222222222222,\"#7201a8\"],[0.3333333333333333,\"#9c179e\"],[0.4444444444444444,\"#bd3786\"],[0.5555555555555556,\"#d8576b\"],[0.6666666666666666,\"#ed7953\"],[0.7777777777777778,\"#fb9f3a\"],[0.8888888888888888,\"#fdca26\"],[1.0,\"#f0f921\"]]}],\"contourcarpet\":[{\"type\":\"contourcarpet\",\"colorbar\":{\"outlinewidth\":0,\"ticks\":\"\"}}],\"contour\":[{\"type\":\"contour\",\"colorbar\":{\"outlinewidth\":0,\"ticks\":\"\"},\"colorscale\":[[0.0,\"#0d0887\"],[0.1111111111111111,\"#46039f\"],[0.2222222222222222,\"#7201a8\"],[0.3333333333333333,\"#9c179e\"],[0.4444444444444444,\"#bd3786\"],[0.5555555555555556,\"#d8576b\"],[0.6666666666666666,\"#ed7953\"],[0.7777777777777778,\"#fb9f3a\"],[0.8888888888888888,\"#fdca26\"],[1.0,\"#f0f921\"]]}],\"surface\":[{\"type\":\"surface\",\"colorbar\":{\"outlinewidth\":0,\"ticks\":\"\"},\"colorscale\":[[0.0,\"#0d0887\"],[0.1111111111111111,\"#46039f\"],[0.2222222222222222,\"#7201a8\"],[0.3333333333333333,\"#9c179e\"],[0.4444444444444444,\"#bd3786\"],[0.5555555555555556,\"#d8576b\"],[0.6666666666666666,\"#ed7953\"],[0.7777777777777778,\"#fb9f3a\"],[0.8888888888888888,\"#fdca26\"],[1.0,\"#f0f921\"]]}],\"mesh3d\":[{\"type\":\"mesh3d\",\"colorbar\":{\"outlinewidth\":0,\"ticks\":\"\"}}],\"scatter\":[{\"fillpattern\":{\"fillmode\":\"overlay\",\"size\":10,\"solidity\":0.2},\"type\":\"scatter\"}],\"parcoords\":[{\"type\":\"parcoords\",\"line\":{\"colorbar\":{\"outlinewidth\":0,\"ticks\":\"\"}}}],\"scatterpolargl\":[{\"type\":\"scatterpolargl\",\"marker\":{\"colorbar\":{\"outlinewidth\":0,\"ticks\":\"\"}}}],\"bar\":[{\"error_x\":{\"color\":\"#2a3f5f\"},\"error_y\":{\"color\":\"#2a3f5f\"},\"marker\":{\"line\":{\"color\":\"#E5ECF6\",\"width\":0.5},\"pattern\":{\"fillmode\":\"overlay\",\"size\":10,\"solidity\":0.2}},\"type\":\"bar\"}],\"scattergeo\":[{\"type\":\"scattergeo\",\"marker\":{\"colorbar\":{\"outlinewidth\":0,\"ticks\":\"\"}}}],\"scatterpolar\":[{\"type\":\"scatterpolar\",\"marker\":{\"colorbar\":{\"outlinewidth\":0,\"ticks\":\"\"}}}],\"histogram\":[{\"marker\":{\"pattern\":{\"fillmode\":\"overlay\",\"size\":10,\"solidity\":0.2}},\"type\":\"histogram\"}],\"scattergl\":[{\"type\":\"scattergl\",\"marker\":{\"colorbar\":{\"outlinewidth\":0,\"ticks\":\"\"}}}],\"scatter3d\":[{\"type\":\"scatter3d\",\"line\":{\"colorbar\":{\"outlinewidth\":0,\"ticks\":\"\"}},\"marker\":{\"colorbar\":{\"outlinewidth\":0,\"ticks\":\"\"}}}],\"scattermapbox\":[{\"type\":\"scattermapbox\",\"marker\":{\"colorbar\":{\"outlinewidth\":0,\"ticks\":\"\"}}}],\"scatterternary\":[{\"type\":\"scatterternary\",\"marker\":{\"colorbar\":{\"outlinewidth\":0,\"ticks\":\"\"}}}],\"scattercarpet\":[{\"type\":\"scattercarpet\",\"marker\":{\"colorbar\":{\"outlinewidth\":0,\"ticks\":\"\"}}}],\"carpet\":[{\"aaxis\":{\"endlinecolor\":\"#2a3f5f\",\"gridcolor\":\"white\",\"linecolor\":\"white\",\"minorgridcolor\":\"white\",\"startlinecolor\":\"#2a3f5f\"},\"baxis\":{\"endlinecolor\":\"#2a3f5f\",\"gridcolor\":\"white\",\"linecolor\":\"white\",\"minorgridcolor\":\"white\",\"startlinecolor\":\"#2a3f5f\"},\"type\":\"carpet\"}],\"table\":[{\"cells\":{\"fill\":{\"color\":\"#EBF0F8\"},\"line\":{\"color\":\"white\"}},\"header\":{\"fill\":{\"color\":\"#C8D4E3\"},\"line\":{\"color\":\"white\"}},\"type\":\"table\"}],\"barpolar\":[{\"marker\":{\"line\":{\"color\":\"#E5ECF6\",\"width\":0.5},\"pattern\":{\"fillmode\":\"overlay\",\"size\":10,\"solidity\":0.2}},\"type\":\"barpolar\"}],\"pie\":[{\"automargin\":true,\"type\":\"pie\"}]},\"layout\":{\"autotypenumbers\":\"strict\",\"colorway\":[\"#636efa\",\"#EF553B\",\"#00cc96\",\"#ab63fa\",\"#FFA15A\",\"#19d3f3\",\"#FF6692\",\"#B6E880\",\"#FF97FF\",\"#FECB52\"],\"font\":{\"color\":\"#2a3f5f\"},\"hovermode\":\"closest\",\"hoverlabel\":{\"align\":\"left\"},\"paper_bgcolor\":\"white\",\"plot_bgcolor\":\"#E5ECF6\",\"polar\":{\"bgcolor\":\"#E5ECF6\",\"angularaxis\":{\"gridcolor\":\"white\",\"linecolor\":\"white\",\"ticks\":\"\"},\"radialaxis\":{\"gridcolor\":\"white\",\"linecolor\":\"white\",\"ticks\":\"\"}},\"ternary\":{\"bgcolor\":\"#E5ECF6\",\"aaxis\":{\"gridcolor\":\"white\",\"linecolor\":\"white\",\"ticks\":\"\"},\"baxis\":{\"gridcolor\":\"white\",\"linecolor\":\"white\",\"ticks\":\"\"},\"caxis\":{\"gridcolor\":\"white\",\"linecolor\":\"white\",\"ticks\":\"\"}},\"coloraxis\":{\"colorbar\":{\"outlinewidth\":0,\"ticks\":\"\"}},\"colorscale\":{\"sequential\":[[0.0,\"#0d0887\"],[0.1111111111111111,\"#46039f\"],[0.2222222222222222,\"#7201a8\"],[0.3333333333333333,\"#9c179e\"],[0.4444444444444444,\"#bd3786\"],[0.5555555555555556,\"#d8576b\"],[0.6666666666666666,\"#ed7953\"],[0.7777777777777778,\"#fb9f3a\"],[0.8888888888888888,\"#fdca26\"],[1.0,\"#f0f921\"]],\"sequentialminus\":[[0.0,\"#0d0887\"],[0.1111111111111111,\"#46039f\"],[0.2222222222222222,\"#7201a8\"],[0.3333333333333333,\"#9c179e\"],[0.4444444444444444,\"#bd3786\"],[0.5555555555555556,\"#d8576b\"],[0.6666666666666666,\"#ed7953\"],[0.7777777777777778,\"#fb9f3a\"],[0.8888888888888888,\"#fdca26\"],[1.0,\"#f0f921\"]],\"diverging\":[[0,\"#8e0152\"],[0.1,\"#c51b7d\"],[0.2,\"#de77ae\"],[0.3,\"#f1b6da\"],[0.4,\"#fde0ef\"],[0.5,\"#f7f7f7\"],[0.6,\"#e6f5d0\"],[0.7,\"#b8e186\"],[0.8,\"#7fbc41\"],[0.9,\"#4d9221\"],[1,\"#276419\"]]},\"xaxis\":{\"gridcolor\":\"white\",\"linecolor\":\"white\",\"ticks\":\"\",\"title\":{\"standoff\":15},\"zerolinecolor\":\"white\",\"automargin\":true,\"zerolinewidth\":2},\"yaxis\":{\"gridcolor\":\"white\",\"linecolor\":\"white\",\"ticks\":\"\",\"title\":{\"standoff\":15},\"zerolinecolor\":\"white\",\"automargin\":true,\"zerolinewidth\":2},\"scene\":{\"xaxis\":{\"backgroundcolor\":\"#E5ECF6\",\"gridcolor\":\"white\",\"linecolor\":\"white\",\"showbackground\":true,\"ticks\":\"\",\"zerolinecolor\":\"white\",\"gridwidth\":2},\"yaxis\":{\"backgroundcolor\":\"#E5ECF6\",\"gridcolor\":\"white\",\"linecolor\":\"white\",\"showbackground\":true,\"ticks\":\"\",\"zerolinecolor\":\"white\",\"gridwidth\":2},\"zaxis\":{\"backgroundcolor\":\"#E5ECF6\",\"gridcolor\":\"white\",\"linecolor\":\"white\",\"showbackground\":true,\"ticks\":\"\",\"zerolinecolor\":\"white\",\"gridwidth\":2}},\"shapedefaults\":{\"line\":{\"color\":\"#2a3f5f\"}},\"annotationdefaults\":{\"arrowcolor\":\"#2a3f5f\",\"arrowhead\":0,\"arrowwidth\":1},\"geo\":{\"bgcolor\":\"white\",\"landcolor\":\"#E5ECF6\",\"subunitcolor\":\"white\",\"showland\":true,\"showlakes\":true,\"lakecolor\":\"white\"},\"title\":{\"x\":0.05},\"mapbox\":{\"style\":\"light\"}}},\"plot_bgcolor\":\"rgb(209, 217, 222)\",\"title\":{\"font\":{\"color\":\"black\"},\"text\":\"Average EfficientNetV2 test F1 macro scores with fluctuations for multilabel classification\"},\"legend\":{\"font\":{\"color\":\"black\",\"family\":\"Arial\"}},\"xaxis\":{\"title\":{\"font\":{\"color\":\"black\",\"family\":\"Arial\"},\"text\":\"Number of Training Samples\"},\"tickfont\":{\"color\":\"black\"},\"type\":\"log\"},\"yaxis\":{\"title\":{\"font\":{\"color\":\"black\",\"family\":\"Arial\"},\"text\":\"Test F1 macro score\"},\"tickfont\":{\"color\":\"black\"}}},                        {\"responsive\": true}                    ).then(function(){\n",
       "                            \n",
       "var gd = document.getElementById('c42428e5-326e-4ec2-921e-0fc3836bc65e');\n",
       "var x = new MutationObserver(function (mutations, observer) {{\n",
       "        var display = window.getComputedStyle(gd).display;\n",
       "        if (!display || display === 'none') {{\n",
       "            console.log([gd, 'removed!']);\n",
       "            Plotly.purge(gd);\n",
       "            observer.disconnect();\n",
       "        }}\n",
       "}});\n",
       "\n",
       "// Listen for the removal of the full notebook cells\n",
       "var notebookContainer = gd.closest('#notebook-container');\n",
       "if (notebookContainer) {{\n",
       "    x.observe(notebookContainer, {childList: true});\n",
       "}}\n",
       "\n",
       "// Listen for the clearing of the current output cell\n",
       "var outputEl = gd.closest('.output');\n",
       "if (outputEl) {{\n",
       "    x.observe(outputEl, {childList: true});\n",
       "}}\n",
       "\n",
       "                        })                };                });            </script>        </div>"
      ]
     },
     "metadata": {},
     "output_type": "display_data"
    }
   ],
   "source": [
    "import pickle\n",
    "import numpy as np\n",
    "import os\n",
    "import plotly.graph_objects as go\n",
    "\n",
    "def read_and_average_test_f1(root_folder, run_folders, filename_template, file_indices):\n",
    "    \"\"\"\n",
    "    Reads pickle files for a specific strategy, extracts test F1 scores, and computes their average across runs.\n",
    "    \"\"\"\n",
    "    performance_test_data_all = []\n",
    "\n",
    "    for run_folder, file_index in zip(run_folders, file_indices):\n",
    "        pickle_filename = filename_template.format(file_index)  # Dynamically generate filenames\n",
    "        pickle_path = os.path.join(root_folder, run_folder, pickle_filename)\n",
    "        \n",
    "        print(f\"Loading pickle file: {pickle_path}\")\n",
    "        with open(pickle_path, 'rb') as pickle_file:\n",
    "            results = pickle.load(pickle_file)\n",
    "            performance_test_data_all.append(results[\"test_f1_scores_macro\"])\n",
    "\n",
    "    # Calculate the average test F1 score across runs\n",
    "    average_test_f1 = np.mean(performance_test_data_all, axis=0)\n",
    "    return average_test_f1\n",
    "\n",
    "def read_test_f1_min_max(root_folder, run_folders, filename_template, file_indices):\n",
    "    \"\"\"\n",
    "    Reads pickle files for a specific strategy, extracts test F1 scores, and computes their min and max across runs.\n",
    "    \"\"\"\n",
    "    performance_test_data_all = []\n",
    "\n",
    "    for run_folder, file_index in zip(run_folders, file_indices):\n",
    "        pickle_filename = filename_template.format(file_index)  # Dynamically generate filenames\n",
    "        pickle_path = os.path.join(root_folder, run_folder, pickle_filename)\n",
    "        \n",
    "        print(f\"Loading pickle file: {pickle_path}\")\n",
    "        with open(pickle_path, 'rb') as pickle_file:\n",
    "            results = pickle.load(pickle_file)\n",
    "            performance_test_data_all.append(results[\"test_f1_scores_macro\"])\n",
    "\n",
    "    # Convert to a NumPy array for easier computation\n",
    "    performance_test_data_all = np.array(performance_test_data_all)\n",
    "    # Calculate min and max F1 scores across runs\n",
    "    min_f1 = np.min(performance_test_data_all, axis=0)\n",
    "    max_f1 = np.max(performance_test_data_all, axis=0)\n",
    "\n",
    "    return min_f1, max_f1\n",
    "\n",
    "def plot_all_test_performance_with_fluctuations(no_of_samples, performances, min_max_values, strategies, title, x_axes, y_axes):\n",
    "    \"\"\"\n",
    "    Plots the average test F1 scores of multiple strategies with fluctuation ranges shaded.\n",
    "    \"\"\"\n",
    "    fig = go.Figure()\n",
    "    fig.update_layout(plot_bgcolor='rgb(209, 217, 222)')\n",
    "\n",
    "    # Add dashed lines for sample numbers and text labels on top of the graph\n",
    "    samples_text = [str(f) for f in no_of_samples]\n",
    "    for i, (line, label) in enumerate(zip(no_of_samples, samples_text)):\n",
    "        fig.add_trace(go.Scatter(\n",
    "            x=[line, line],\n",
    "            y=[0, 1.12],\n",
    "            mode='lines',\n",
    "            line=dict(dash='dash', color='rgb(149, 162, 171)', width=1),\n",
    "            showlegend=False\n",
    "        ))\n",
    "\n",
    "        # Adjust the y-position for the last value to avoid collision\n",
    "        y_position = 1.13 if i < len(no_of_samples) - 1 else 1.08\n",
    "\n",
    "        fig.add_trace(go.Scatter(\n",
    "            x=[line],\n",
    "            y=[y_position],\n",
    "            mode='text',\n",
    "            marker=dict(size=0),\n",
    "            text=[label],\n",
    "            textposition='top center',\n",
    "            showlegend=False,\n",
    "            textfont=dict(family='Arial', color='black', size=8.5)\n",
    "        ))\n",
    "\n",
    "    # Define the color palette, with random sampling in red and other strategies in different shades of green\n",
    "    colors = [\n",
    "        'rgb(0, 67, 89)',  # Green for margin sampling\n",
    "        #'rgb(97, 192, 134)',   # Darker green for entropy sampling\n",
    "        'rgb(220, 30, 38)'      # Red for random sampling\n",
    "    ]\n",
    "\n",
    "    # Add traces for each strategy\n",
    "    for idx, (performance, (min_performance, max_performance), strategy) in enumerate(zip(performances, min_max_values, strategies)):\n",
    "        # Ensure random sampling is always red\n",
    "        color = colors[strategies.index(strategy)]\n",
    "        \n",
    "        # Add the shaded region (fluctuation range)\n",
    "        fig.add_trace(go.Scatter(\n",
    "            x=no_of_samples + no_of_samples[::-1],\n",
    "            y=list(max_performance) + list(min_performance)[::-1],\n",
    "            fill='toself',\n",
    "            fillcolor=color.replace('rgb', 'rgba').replace(')', ',0.2)'),  # Add transparency\n",
    "            line=dict(width=0),  # No border for shaded region\n",
    "            showlegend=False,  # Don't show a separate legend entry for the shaded region\n",
    "            legendgroup=strategy  # Group with the corresponding line\n",
    "        ))\n",
    "        \n",
    "        # Add the average line\n",
    "        fig.add_trace(go.Scatter(\n",
    "            x=no_of_samples,\n",
    "            y=performance,\n",
    "            name=f\"{strategy} (final: {performance[-1]:.3f})\",\n",
    "            marker=dict(color=color),\n",
    "            textfont=dict(family=\"Arial\", size=11),\n",
    "            line=dict(width=2),\n",
    "            legendgroup=strategy  # Group with the shaded region\n",
    "        ))\n",
    "\n",
    "    fig.update_layout(\n",
    "        title_text=str(title),\n",
    "        legend=dict(font=dict(color='black', family='Arial')),\n",
    "        title_font_color='black'\n",
    "    )\n",
    "\n",
    "    # Set the x-axis to be on a log scale\n",
    "    fig.update_xaxes(\n",
    "        title_text=str(x_axes),\n",
    "        title_font=dict(color=\"black\", family=\"Arial\"),\n",
    "        tickfont_color='black',\n",
    "        type=\"log\"\n",
    "    )\n",
    "\n",
    "    # Update y-axis for test F1 score\n",
    "    fig.update_yaxes(\n",
    "        title_text=str(y_axes),\n",
    "        title_font=dict(color=\"black\", family=\"Arial\"),\n",
    "        tickfont_color='black'\n",
    "    )\n",
    "\n",
    "    fig.show()\n",
    "\n",
    "# Define file paths and folders for each strategy\n",
    "#strategies = ['avg_confidence', 'avg_score', 'random_sampling']\n",
    "strategies = ['avg_confidence', 'random_sampling']\n",
    "root_folders = {\n",
    "    'avg_confidence': \"/home/woody/iwfa/iwfa044h/CleanLab_Test/ActiveLearningApproaches/EOD/EfficientNet/multilabel/AL/avg_confidence\",\n",
    "    #'avg_score': \"/home/woody/iwfa/iwfa044h/CleanLab_Test/ActiveLearningApproaches/EOD/EfficientNet/multilabel/AL/avg_score\",\n",
    "    'random_sampling': \"/home/woody/iwfa/iwfa044h/CleanLab_Test/ActiveLearningApproaches/EOD/EfficientNet/multilabel/RS\"\n",
    "}\n",
    "\n",
    "# Define run folders and file indices for each strategy\n",
    "run_folders_dict = {\n",
    "    'avg_confidence': [f\"run{i}\" for i in range(1, 3)],  # 2 runs\n",
    "    #'avg_score': [f\"run{i}\" for i in range(1, 2)],  # 1 run\n",
    "    'random_sampling': [f\"run{i}\" for i in range(1, 3)]  # 2 runs\n",
    "}\n",
    "\n",
    "file_indices_dict = {\n",
    "    'avg_confidence': [2, 3],\n",
    "    #'avg_score': [2],\n",
    "    'random_sampling': [2, 3]\n",
    "}\n",
    "\n",
    "# Template for filenames for each strategy\n",
    "filename_templates = {\n",
    "    'avg_confidence': \"AL_average_confidence_results_for_multilabel_classification_s4{}.pickle\",\n",
    "    #'avg_score': \"AL_average_score_results_for_multilabel_classification_s4{}.pickle\",\n",
    "    'random_sampling': \"random_sampling_results_for_multilabel_classification_s4{}.pickle\"\n",
    "}\n",
    "\n",
    "# Sample counts\n",
    "no_of_samples = [8, 24, 56, 112, 208, 384, 704, 1264, 2264, 4040, 7200, 12824, 22824, 26880]\n",
    "\n",
    "# Calculate averages and fluctuation ranges for each strategy\n",
    "performances = []\n",
    "min_max_values = []\n",
    "for strategy in strategies:\n",
    "    average_f1 = read_and_average_test_f1(\n",
    "        root_folder=root_folders[strategy],\n",
    "        run_folders=run_folders_dict[strategy],\n",
    "        filename_template=filename_templates[strategy],\n",
    "        file_indices=file_indices_dict[strategy]\n",
    "    )\n",
    "    min_f1, max_f1 = read_test_f1_min_max(\n",
    "        root_folder=root_folders[strategy],\n",
    "        run_folders=run_folders_dict[strategy],\n",
    "        filename_template=filename_templates[strategy],\n",
    "        file_indices=file_indices_dict[strategy]\n",
    "    )\n",
    "    performances.append(average_f1)\n",
    "    min_max_values.append((min_f1, max_f1))  # Append min and max values\n",
    "\n",
    "# Plot the results with fluctuation shading\n",
    "plot_all_test_performance_with_fluctuations(\n",
    "    no_of_samples, \n",
    "    performances, \n",
    "    min_max_values, \n",
    "    strategies, \n",
    "    title=\"Average EfficientNetV2 test F1 macro scores with fluctuations for multilabel classification\",\n",
    "    x_axes=\"Number of Training Samples\",\n",
    "    y_axes=\"Test F1 macro score\"\n",
    ")"
   ]
  }
 ],
 "metadata": {
  "kernelspec": {
   "display_name": "ActiveLearning01",
   "language": "python",
   "name": "python3"
  },
  "language_info": {
   "codemirror_mode": {
    "name": "ipython",
    "version": 3
   },
   "file_extension": ".py",
   "mimetype": "text/x-python",
   "name": "python",
   "nbconvert_exporter": "python",
   "pygments_lexer": "ipython3",
   "version": "3.8.19"
  }
 },
 "nbformat": 4,
 "nbformat_minor": 2
}
