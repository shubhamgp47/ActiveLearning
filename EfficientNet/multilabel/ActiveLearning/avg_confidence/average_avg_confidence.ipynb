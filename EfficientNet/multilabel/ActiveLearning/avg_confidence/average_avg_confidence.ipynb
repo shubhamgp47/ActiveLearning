{
 "cells": [
  {
   "cell_type": "code",
   "execution_count": null,
   "metadata": {},
   "outputs": [
    {
     "name": "stderr",
     "output_type": "stream",
     "text": [
      "/home/hpc/iwfa/iwfa044h/.local/lib/python3.8/site-packages/pandas/core/computation/expressions.py:20: UserWarning: Pandas requires version '2.7.3' or newer of 'numexpr' (version '2.7.1' currently installed).\n",
      "  from pandas.core.computation.check import NUMEXPR_INSTALLED\n"
     ]
    },
    {
     "name": "stdout",
     "output_type": "stream",
     "text": [
      "Loading pickle file for run 1: /home/woody/iwfa/iwfa044h/CleanLab_Test/ActiveLearningApproaches/EOD/EfficientNet/multilabel/AL/avg_confidence/run1/random_sampling_results_for_multilabel_classification_s42.pickle\n"
     ]
    },
    {
     "ename": "FileNotFoundError",
     "evalue": "[Errno 2] No such file or directory: '/home/woody/iwfa/iwfa044h/CleanLab_Test/ActiveLearningApproaches/EOD/EfficientNet/multilabel/AL/avg_confidence/run1/random_sampling_results_for_multilabel_classification_s42.pickle'",
     "output_type": "error",
     "traceback": [
      "\u001b[0;31m---------------------------------------------------------------------------\u001b[0m",
      "\u001b[0;31mFileNotFoundError\u001b[0m                         Traceback (most recent call last)",
      "\u001b[0;32m<ipython-input-1-6d2e0fb7bb21>\u001b[0m in \u001b[0;36m<module>\u001b[0;34m\u001b[0m\n\u001b[1;32m     33\u001b[0m \u001b[0;34m\u001b[0m\u001b[0m\n\u001b[1;32m     34\u001b[0m     \u001b[0;31m# Load test F1 scores from pickle file\u001b[0m\u001b[0;34m\u001b[0m\u001b[0;34m\u001b[0m\u001b[0;34m\u001b[0m\u001b[0m\n\u001b[0;32m---> 35\u001b[0;31m     \u001b[0;32mwith\u001b[0m \u001b[0mopen\u001b[0m\u001b[0;34m(\u001b[0m\u001b[0mpickle_path\u001b[0m\u001b[0;34m,\u001b[0m \u001b[0;34m'rb'\u001b[0m\u001b[0;34m)\u001b[0m \u001b[0;32mas\u001b[0m \u001b[0mpickle_file\u001b[0m\u001b[0;34m:\u001b[0m\u001b[0;34m\u001b[0m\u001b[0;34m\u001b[0m\u001b[0m\n\u001b[0m\u001b[1;32m     36\u001b[0m         \u001b[0mavg_confidence_results\u001b[0m \u001b[0;34m=\u001b[0m \u001b[0mpickle\u001b[0m\u001b[0;34m.\u001b[0m\u001b[0mload\u001b[0m\u001b[0;34m(\u001b[0m\u001b[0mpickle_file\u001b[0m\u001b[0;34m)\u001b[0m\u001b[0;34m\u001b[0m\u001b[0;34m\u001b[0m\u001b[0m\n\u001b[1;32m     37\u001b[0m         \u001b[0mperformance_test_data_all\u001b[0m\u001b[0;34m.\u001b[0m\u001b[0mappend\u001b[0m\u001b[0;34m(\u001b[0m\u001b[0mavg_confidence_results\u001b[0m\u001b[0;34m[\u001b[0m\u001b[0;34m\"test_f1_scores_macro\"\u001b[0m\u001b[0;34m]\u001b[0m\u001b[0;34m)\u001b[0m\u001b[0;34m\u001b[0m\u001b[0;34m\u001b[0m\u001b[0m\n",
      "\u001b[0;31mFileNotFoundError\u001b[0m: [Errno 2] No such file or directory: '/home/woody/iwfa/iwfa044h/CleanLab_Test/ActiveLearningApproaches/EOD/EfficientNet/multilabel/AL/avg_confidence/run1/random_sampling_results_for_multilabel_classification_s42.pickle'"
     ]
    }
   ],
   "source": [
    "import pickle\n",
    "import pandas as pd\n",
    "import numpy as np\n",
    "import plotly.graph_objects as go\n",
    "import plotly.subplots as subplots\n",
    "import os\n",
    "\n",
    "# Define the root folder\n",
    "root_folder = \"/home/woody/iwfa/iwfa044h/CleanLab_Test/ActiveLearningApproaches/EOD/EfficientNet/multilabel/AL/average_confidence\"\n",
    "\n",
    "# Folder names for all runs\n",
    "run_folders = [f\"run{i}\" for i in range(1, 3)]\n",
    "\n",
    "# Define corresponding filenames\n",
    "pickle_filenames = [f\"AL_average_confidence_results_for_multilabel_classification_s4{i+2}.pickle\" for i in range(3)]\n",
    "csv_filenames = [f\"training_history_s4{i+2}.csv\" for i in range(3)]\n",
    "\n",
    "# Initialize accumulators for averaging\n",
    "performance_test_data_all = []\n",
    "performance_all = []\n",
    "\n",
    "# Number of samples for each iteration\n",
    "no_of_samples = [8, 24, 56, 112, 208, 384, 704, 1264, 2264, 4040, 7200, 12824, 22824, 26880]\n",
    "\n",
    "# Loop through each run folder and collect the data\n",
    "for i in range(2):\n",
    "    # Construct file paths\n",
    "    pickle_path = os.path.join(root_folder, run_folders[i], pickle_filenames[i])\n",
    "    csv_path = os.path.join(root_folder, run_folders[i], csv_filenames[i])\n",
    "    \n",
    "    # Print which pickle file is being loaded\n",
    "    print(f\"Loading pickle file for run {i+1}: {pickle_path}\")\n",
    "    \n",
    "    # Load test F1 scores from pickle file\n",
    "    with open(pickle_path, 'rb') as pickle_file:\n",
    "        average_confidence_results = pickle.load(pickle_file)\n",
    "        performance_test_data_all.append(average_confidence_results[\"test_f1_scores_macro\"])\n",
    "    \n",
    "    # Print which CSV file is being loaded\n",
    "    print(f\"Loading CSV file for run {i+1}: {csv_path}\")\n",
    "    \n",
    "    # Load CSV for validation loss and F1 scores\n",
    "    df = pd.read_csv(csv_path)\n",
    "    df['iteration'] = (df['epoch'] == 1).cumsum()\n",
    "    \n",
    "    performance = []\n",
    "    for j in range(1, 15):  # Start from 2 and go up to 14 (inclusive)\n",
    "        iteration_data = df[df['iteration'] == j]\n",
    "        performance.append({\n",
    "            'val_loss': iteration_data['valid_loss'].tolist(),\n",
    "            'val_f1_score': iteration_data['valid_f1'].tolist()\n",
    "        })\n",
    "    \n",
    "    performance_all.append(performance)\n",
    "\n",
    "# Aggregate results\n",
    "min_length = min(len(no_of_samples), *[len(perf) for perf in performance_all])\n",
    "no_of_samples = no_of_samples[:min_length]\n",
    "\n",
    "average_performance = []\n",
    "for i in range(min_length):\n",
    "    avg_val_loss = np.mean([run[i]['val_loss'][-1] for run in performance_all])\n",
    "    avg_val_f1 = np.mean([run[i]['val_f1_score'][-1] for run in performance_all])\n",
    "    average_performance.append({'val_loss': avg_val_loss, 'val_f1_score': avg_val_f1})\n",
    "\n",
    "average_test_f1 = np.mean(performance_test_data_all, axis=0)\n",
    "\n",
    "def plot_validation_performance(performance, no_of_samples, title, x_axes, y_axes, y_axes_secondary):\n",
    "    fig = subplots.make_subplots(specs=[[{\"secondary_y\": True}]])\n",
    "    fig.update_layout(plot_bgcolor='rgb(209, 217, 222)')\n",
    "\n",
    "    # Add dashed lines for sample numbers and text labels on top of the graph\n",
    "    samples_text = [str(f) for f in no_of_samples]\n",
    "    for line, label in zip(no_of_samples, samples_text):\n",
    "        fig.add_trace(go.Scatter(\n",
    "            x=[line, line],\n",
    "            y=[0, 1.12],\n",
    "            mode='lines',\n",
    "            line=dict(dash='dash', color='rgb(149, 162, 171)', width=1),\n",
    "            showlegend=False,\n",
    "            yaxis='y2'\n",
    "        ))\n",
    "\n",
    "        fig.add_trace(go.Scatter(\n",
    "            x=[line],\n",
    "            y=[1.13],\n",
    "            mode='text',\n",
    "            marker=dict(size=0),\n",
    "            text=[label],\n",
    "            textposition='top center',\n",
    "            showlegend=False,\n",
    "            yaxis='y2',\n",
    "            textfont=dict(family='Arial', color='black', size=8.5)\n",
    "        ))\n",
    "\n",
    "    loss = []\n",
    "    f1 = []\n",
    "\n",
    "    for i in range(len(performance)):\n",
    "        if isinstance(performance[i], dict):\n",
    "            # Ensure that the keys 'val_loss' and 'val_f1_score' are present in each entry\n",
    "            if \"val_loss\" in performance[i] and \"val_f1_score\" in performance[i]:\n",
    "                loss.append(performance[i][\"val_loss\"])  # Directly collect the scalar validation loss\n",
    "                f1.append(performance[i][\"val_f1_score\"])  # Directly collect the scalar validation F1 score\n",
    "            else:\n",
    "                print(f\"Missing 'val_loss' or 'val_f1_score' in performance entry {i}\")\n",
    "        else:\n",
    "            print(f\"Invalid performance entry at index {i}, expected dictionary, got {type(performance[i])}\")\n",
    "\n",
    "    # Add traces for validation loss and validation F1 score\n",
    "    fig.add_trace(go.Scatter(\n",
    "        x=no_of_samples,\n",
    "        y=loss,\n",
    "        name=f\"Val loss ({loss[-1]:.3f})\",\n",
    "        marker=dict(color='rgb(97,192,134)'),\n",
    "        textfont=dict(family=\"Arial\", size=11),\n",
    "        line=dict(width=2)\n",
    "    ), secondary_y=False)\n",
    "\n",
    "    fig.add_trace(go.Scatter(\n",
    "        x=no_of_samples,\n",
    "        y=f1,\n",
    "        name=f\"Val F1 score ({f1[-1]:.3f})\",\n",
    "        marker=dict(color='rgb(245,130,31)'),\n",
    "        textfont=dict(family=\"Arial\", size=11),\n",
    "        line=dict(width=2)\n",
    "    ), secondary_y=True)\n",
    "\n",
    "    fig.update_layout(\n",
    "        title_text=str(title),\n",
    "        legend=dict(font=dict(color='black', family='Arial'), orientation='h', x=0.5, y=-0.2),\n",
    "        title_font_color='black'\n",
    "    )\n",
    "\n",
    "    # Set the x-axis to be on a log scale\n",
    "    fig.update_xaxes(\n",
    "        title_text=str(x_axes),\n",
    "        title_font=dict(color=\"black\", family=\"Arial\"),\n",
    "        tickfont_color='black',\n",
    "        type=\"log\"\n",
    "    )\n",
    "\n",
    "    # Update y-axes for primary and secondary y-axes\n",
    "    fig.update_yaxes(\n",
    "        title_text=str(y_axes),\n",
    "        title_font=dict(color=\"black\", family=\"Arial\"),\n",
    "        tickfont_color='black',\n",
    "        secondary_y=False\n",
    "    )\n",
    "\n",
    "    fig.update_yaxes(\n",
    "        title_text=str(y_axes_secondary),\n",
    "        title_font=dict(color=\"black\", family=\"Arial\"),\n",
    "        tickfont_color='black',\n",
    "        secondary_y=True\n",
    "    )\n",
    "\n",
    "    fig.show()\n",
    "\n",
    "def plot_test_performance(no_of_samples, performance_test_data, title, x_axes, y_axes):\n",
    "    fig = go.Figure()\n",
    "    fig.update_layout(plot_bgcolor='rgb(209, 217, 222)')\n",
    "\n",
    "    # Add dashed lines for sample numbers and text labels on top of the graph\n",
    "    samples_text = [str(f) for f in no_of_samples]\n",
    "    for line, label in zip(no_of_samples, samples_text):\n",
    "        fig.add_trace(go.Scatter(\n",
    "            x=[line, line],\n",
    "            y=[0, 1.12],\n",
    "            mode='lines',\n",
    "            line=dict(dash='dash', color='rgb(149, 162, 171)', width=1),\n",
    "            showlegend=False\n",
    "        ))\n",
    "\n",
    "        fig.add_trace(go.Scatter(\n",
    "            x=[line],\n",
    "            y=[1.13],\n",
    "            mode='text',\n",
    "            marker=dict(size=0),\n",
    "            text=[label],\n",
    "            textposition='top center',\n",
    "            showlegend=False,\n",
    "            textfont=dict(family='Arial', color='black', size=8.5)\n",
    "        ))\n",
    "\n",
    "    # Add traces for test F1 score\n",
    "    fig.add_trace(go.Scatter(\n",
    "        x=no_of_samples,\n",
    "        y=performance_test_data,\n",
    "        name=f\"Test F1 score ({performance_test_data[-1]:.3f})\",\n",
    "        marker=dict(color='rgb(151,193,57)'),\n",
    "        textfont=dict(family=\"Arial\", size=11),\n",
    "        line=dict(width=2)\n",
    "    ))\n",
    "\n",
    "    fig.update_layout(\n",
    "        title_text=str(title),\n",
    "        legend=dict(font=dict(color='black', family='Arial')),\n",
    "        title_font_color='black'\n",
    "    )\n",
    "\n",
    "    # Set the x-axis to be on a log scale\n",
    "    fig.update_xaxes(\n",
    "        title_text=str(x_axes),\n",
    "        title_font=dict(color=\"black\", family=\"Arial\"),\n",
    "        tickfont_color='black',\n",
    "        type=\"log\"\n",
    "    )\n",
    "\n",
    "    # Update y-axis for test F1 score\n",
    "    fig.update_yaxes(\n",
    "        title_text=str(y_axes),\n",
    "        title_font=dict(color=\"black\", family=\"Arial\"),\n",
    "        tickfont_color='black'\n",
    "    )\n",
    "\n",
    "    fig.show()\n",
    "\n",
    "# Plot the average validation loss and F1 score (log scale x-axis)\n",
    "plot_validation_performance(\n",
    "    average_performance, \n",
    "    no_of_samples, \n",
    "    title=\"Average Validation Loss and F1 Score for uncertainty sampling\",\n",
    "    x_axes=\"Amount of Training Samples\",\n",
    "    y_axes=\"Validation Loss\",\n",
    "    y_axes_secondary=\"Validation F1 Score\"\n",
    ")\n",
    "\n",
    "# Plot the average test F1 score (log scale x-axis)\n",
    "plot_test_performance(\n",
    "    no_of_samples, \n",
    "    average_test_f1,\n",
    "    title=\"Average Test F1 Score for uncertainty sampling\",\n",
    "    x_axes=\"Amount of Training Samples\",\n",
    "    y_axes=\"Test F1 Score\"\n",
    ")\n"
   ]
  },
  {
   "cell_type": "code",
   "execution_count": 9,
   "metadata": {},
   "outputs": [
    {
     "name": "stdout",
     "output_type": "stream",
     "text": [
      "Loading pickle file for run 1: /home/woody/iwfa/iwfa044h/CleanLab_Test/ActiveLearningApproaches/EOD/EfficientNet/multilabel/AL/avg_confidence/run1/AL_average_confidence_results_for_multilabel_classification_s42.pickle\n",
      "Loading CSV file for run 1: /home/woody/iwfa/iwfa044h/CleanLab_Test/ActiveLearningApproaches/EOD/EfficientNet/multilabel/AL/avg_confidence/run1/training_history_s42.csv\n",
      "Loading pickle file for run 2: /home/woody/iwfa/iwfa044h/CleanLab_Test/ActiveLearningApproaches/EOD/EfficientNet/multilabel/AL/avg_confidence/run2/AL_average_confidence_results_for_multilabel_classification_s43.pickle\n",
      "Loading CSV file for run 2: /home/woody/iwfa/iwfa044h/CleanLab_Test/ActiveLearningApproaches/EOD/EfficientNet/multilabel/AL/avg_confidence/run2/training_history_s43.csv\n"
     ]
    },
    {
     "data": {
      "application/vnd.plotly.v1+json": {
       "config": {
        "plotlyServerURL": "https://plot.ly"
       },
       "data": [
        {
         "line": {
          "color": "rgb(149, 162, 171)",
          "dash": "dash",
          "width": 1
         },
         "mode": "lines",
         "showlegend": false,
         "type": "scatter",
         "x": [
          8,
          8
         ],
         "y": [
          0,
          2.3
         ]
        },
        {
         "marker": {
          "size": 0
         },
         "mode": "text",
         "showlegend": false,
         "text": [
          "8"
         ],
         "textfont": {
          "color": "black",
          "family": "Arial",
          "size": 8.5
         },
         "textposition": "top center",
         "type": "scatter",
         "x": [
          8
         ],
         "y": [
          2.31
         ]
        },
        {
         "line": {
          "color": "rgb(149, 162, 171)",
          "dash": "dash",
          "width": 1
         },
         "mode": "lines",
         "showlegend": false,
         "type": "scatter",
         "x": [
          24,
          24
         ],
         "y": [
          0,
          2.3
         ]
        },
        {
         "marker": {
          "size": 0
         },
         "mode": "text",
         "showlegend": false,
         "text": [
          "24"
         ],
         "textfont": {
          "color": "black",
          "family": "Arial",
          "size": 8.5
         },
         "textposition": "top center",
         "type": "scatter",
         "x": [
          24
         ],
         "y": [
          2.31
         ]
        },
        {
         "line": {
          "color": "rgb(149, 162, 171)",
          "dash": "dash",
          "width": 1
         },
         "mode": "lines",
         "showlegend": false,
         "type": "scatter",
         "x": [
          56,
          56
         ],
         "y": [
          0,
          2.3
         ]
        },
        {
         "marker": {
          "size": 0
         },
         "mode": "text",
         "showlegend": false,
         "text": [
          "56"
         ],
         "textfont": {
          "color": "black",
          "family": "Arial",
          "size": 8.5
         },
         "textposition": "top center",
         "type": "scatter",
         "x": [
          56
         ],
         "y": [
          2.31
         ]
        },
        {
         "line": {
          "color": "rgb(149, 162, 171)",
          "dash": "dash",
          "width": 1
         },
         "mode": "lines",
         "showlegend": false,
         "type": "scatter",
         "x": [
          112,
          112
         ],
         "y": [
          0,
          2.3
         ]
        },
        {
         "marker": {
          "size": 0
         },
         "mode": "text",
         "showlegend": false,
         "text": [
          "112"
         ],
         "textfont": {
          "color": "black",
          "family": "Arial",
          "size": 8.5
         },
         "textposition": "top center",
         "type": "scatter",
         "x": [
          112
         ],
         "y": [
          2.31
         ]
        },
        {
         "line": {
          "color": "rgb(149, 162, 171)",
          "dash": "dash",
          "width": 1
         },
         "mode": "lines",
         "showlegend": false,
         "type": "scatter",
         "x": [
          208,
          208
         ],
         "y": [
          0,
          2.3
         ]
        },
        {
         "marker": {
          "size": 0
         },
         "mode": "text",
         "showlegend": false,
         "text": [
          "208"
         ],
         "textfont": {
          "color": "black",
          "family": "Arial",
          "size": 8.5
         },
         "textposition": "top center",
         "type": "scatter",
         "x": [
          208
         ],
         "y": [
          2.31
         ]
        },
        {
         "line": {
          "color": "rgb(149, 162, 171)",
          "dash": "dash",
          "width": 1
         },
         "mode": "lines",
         "showlegend": false,
         "type": "scatter",
         "x": [
          384,
          384
         ],
         "y": [
          0,
          2.3
         ]
        },
        {
         "marker": {
          "size": 0
         },
         "mode": "text",
         "showlegend": false,
         "text": [
          "384"
         ],
         "textfont": {
          "color": "black",
          "family": "Arial",
          "size": 8.5
         },
         "textposition": "top center",
         "type": "scatter",
         "x": [
          384
         ],
         "y": [
          2.31
         ]
        },
        {
         "line": {
          "color": "rgb(149, 162, 171)",
          "dash": "dash",
          "width": 1
         },
         "mode": "lines",
         "showlegend": false,
         "type": "scatter",
         "x": [
          704,
          704
         ],
         "y": [
          0,
          2.3
         ]
        },
        {
         "marker": {
          "size": 0
         },
         "mode": "text",
         "showlegend": false,
         "text": [
          "704"
         ],
         "textfont": {
          "color": "black",
          "family": "Arial",
          "size": 8.5
         },
         "textposition": "top center",
         "type": "scatter",
         "x": [
          704
         ],
         "y": [
          2.31
         ]
        },
        {
         "line": {
          "color": "rgb(149, 162, 171)",
          "dash": "dash",
          "width": 1
         },
         "mode": "lines",
         "showlegend": false,
         "type": "scatter",
         "x": [
          1264,
          1264
         ],
         "y": [
          0,
          2.3
         ]
        },
        {
         "marker": {
          "size": 0
         },
         "mode": "text",
         "showlegend": false,
         "text": [
          "1264"
         ],
         "textfont": {
          "color": "black",
          "family": "Arial",
          "size": 8.5
         },
         "textposition": "top center",
         "type": "scatter",
         "x": [
          1264
         ],
         "y": [
          2.31
         ]
        },
        {
         "line": {
          "color": "rgb(149, 162, 171)",
          "dash": "dash",
          "width": 1
         },
         "mode": "lines",
         "showlegend": false,
         "type": "scatter",
         "x": [
          2264,
          2264
         ],
         "y": [
          0,
          2.3
         ]
        },
        {
         "marker": {
          "size": 0
         },
         "mode": "text",
         "showlegend": false,
         "text": [
          "2264"
         ],
         "textfont": {
          "color": "black",
          "family": "Arial",
          "size": 8.5
         },
         "textposition": "top center",
         "type": "scatter",
         "x": [
          2264
         ],
         "y": [
          2.31
         ]
        },
        {
         "line": {
          "color": "rgb(149, 162, 171)",
          "dash": "dash",
          "width": 1
         },
         "mode": "lines",
         "showlegend": false,
         "type": "scatter",
         "x": [
          4040,
          4040
         ],
         "y": [
          0,
          2.3
         ]
        },
        {
         "marker": {
          "size": 0
         },
         "mode": "text",
         "showlegend": false,
         "text": [
          "4040"
         ],
         "textfont": {
          "color": "black",
          "family": "Arial",
          "size": 8.5
         },
         "textposition": "top center",
         "type": "scatter",
         "x": [
          4040
         ],
         "y": [
          2.31
         ]
        },
        {
         "line": {
          "color": "rgb(149, 162, 171)",
          "dash": "dash",
          "width": 1
         },
         "mode": "lines",
         "showlegend": false,
         "type": "scatter",
         "x": [
          7200,
          7200
         ],
         "y": [
          0,
          2.3
         ]
        },
        {
         "marker": {
          "size": 0
         },
         "mode": "text",
         "showlegend": false,
         "text": [
          "7200"
         ],
         "textfont": {
          "color": "black",
          "family": "Arial",
          "size": 8.5
         },
         "textposition": "top center",
         "type": "scatter",
         "x": [
          7200
         ],
         "y": [
          2.31
         ]
        },
        {
         "line": {
          "color": "rgb(149, 162, 171)",
          "dash": "dash",
          "width": 1
         },
         "mode": "lines",
         "showlegend": false,
         "type": "scatter",
         "x": [
          12824,
          12824
         ],
         "y": [
          0,
          2.3
         ]
        },
        {
         "marker": {
          "size": 0
         },
         "mode": "text",
         "showlegend": false,
         "text": [
          "12824"
         ],
         "textfont": {
          "color": "black",
          "family": "Arial",
          "size": 8.5
         },
         "textposition": "top center",
         "type": "scatter",
         "x": [
          12824
         ],
         "y": [
          2.31
         ]
        },
        {
         "line": {
          "color": "rgb(149, 162, 171)",
          "dash": "dash",
          "width": 1
         },
         "mode": "lines",
         "showlegend": false,
         "type": "scatter",
         "x": [
          22824,
          22824
         ],
         "y": [
          0,
          2.3
         ]
        },
        {
         "marker": {
          "size": 0
         },
         "mode": "text",
         "showlegend": false,
         "text": [
          "22824"
         ],
         "textfont": {
          "color": "black",
          "family": "Arial",
          "size": 8.5
         },
         "textposition": "top center",
         "type": "scatter",
         "x": [
          22824
         ],
         "y": [
          2.31
         ]
        },
        {
         "line": {
          "color": "rgb(149, 162, 171)",
          "dash": "dash",
          "width": 1
         },
         "mode": "lines",
         "showlegend": false,
         "type": "scatter",
         "x": [
          26880,
          26880
         ],
         "y": [
          0,
          2.3
         ]
        },
        {
         "marker": {
          "size": 0
         },
         "mode": "text",
         "showlegend": false,
         "text": [
          "26880"
         ],
         "textfont": {
          "color": "black",
          "family": "Arial",
          "size": 8.5
         },
         "textposition": "top center",
         "type": "scatter",
         "x": [
          26880
         ],
         "y": [
          2.26
         ]
        },
        {
         "fill": "toself",
         "fillcolor": "rgba(97, 192, 134, 0.2)",
         "line": {
          "width": 0
         },
         "showlegend": false,
         "type": "scatter",
         "x": [
          8,
          24,
          56,
          112,
          208,
          384,
          704,
          1264,
          2264,
          4040,
          7200,
          12824,
          22824,
          26880,
          26880,
          22824,
          12824,
          7200,
          4040,
          2264,
          1264,
          704,
          384,
          208,
          112,
          56,
          24,
          8
         ],
         "xaxis": "x",
         "y": [
          0.7268503335614999,
          0.6901733822292752,
          0.6718265891075135,
          0.3668305095543878,
          0.3904626348612106,
          0.4265027979697657,
          0.3553723022250374,
          0.3621937792237278,
          0.4030530310575765,
          0.3254719926118705,
          0.3641708998830811,
          0.3457384144062061,
          0.3247098623449542,
          0.4259429312537316,
          0.392319840459681,
          0.3189883496782392,
          0.3153453558993028,
          0.3265548332097738,
          0.2723970941402917,
          0.28998780776525,
          0.2841491388826196,
          0.333295153243105,
          0.3145465022993651,
          0.3191349931575435,
          0.3626636225768986,
          0.3162168050314196,
          0.4564440180030134,
          0.7156037528895669
         ],
         "yaxis": "y"
        },
        {
         "fill": "toself",
         "fillcolor": "rgba(245, 130, 31, 0.2)",
         "line": {
          "width": 0
         },
         "showlegend": false,
         "type": "scatter",
         "x": [
          8,
          24,
          56,
          112,
          208,
          384,
          704,
          1264,
          2264,
          4040,
          7200,
          12824,
          22824,
          26880,
          26880,
          22824,
          12824,
          7200,
          4040,
          2264,
          1264,
          704,
          384,
          208,
          112,
          56,
          24,
          8
         ],
         "xaxis": "x",
         "y": [
          0.456729755864955,
          0.7580633364478065,
          0.8341950310676887,
          0.8511020188894768,
          0.8461731470676712,
          0.8853832733702863,
          0.8810872194706486,
          0.8819100581654687,
          0.8941188064015938,
          0.8729638391395161,
          0.8882026306924247,
          0.8909531081593572,
          0.8957630784487045,
          0.8925022277338742,
          0.8832346473010521,
          0.8868055009656413,
          0.8861732189916777,
          0.8632874704509615,
          0.8726577371089593,
          0.8902547481147489,
          0.8425369681070385,
          0.8622190247821502,
          0.8325204498467907,
          0.8263328516549803,
          0.8224504740441052,
          0.6867234182145183,
          0.3293554486217877,
          0.3425815649737601
         ],
         "yaxis": "y2"
        },
        {
         "line": {
          "width": 2
         },
         "marker": {
          "color": "rgb(97,192,134)"
         },
         "name": "Val loss (0.409)",
         "textfont": {
          "family": "Arial",
          "size": 11
         },
         "type": "scatter",
         "x": [
          8,
          24,
          56,
          112,
          208,
          384,
          704,
          1264,
          2264,
          4040,
          7200,
          12824,
          22824,
          26880
         ],
         "xaxis": "x",
         "y": [
          0.7212270432255334,
          0.5733087001161443,
          0.4940216970694665,
          0.3647470660656432,
          0.3547988140093771,
          0.37052465013456537,
          0.3443337277340712,
          0.3231714590531737,
          0.34652041941141326,
          0.29893454337608105,
          0.34536286654642745,
          0.33054188515275446,
          0.32184910601159666,
          0.4091313858567063
         ],
         "yaxis": "y"
        },
        {
         "line": {
          "width": 2
         },
         "marker": {
          "color": "rgb(245,130,31)"
         },
         "name": "Val F1 score (0.888)",
         "textfont": {
          "family": "Arial",
          "size": 11
         },
         "type": "scatter",
         "x": [
          8,
          24,
          56,
          112,
          208,
          384,
          704,
          1264,
          2264,
          4040,
          7200,
          12824,
          22824,
          26880
         ],
         "xaxis": "x",
         "y": [
          0.3996556604193575,
          0.5437093925347971,
          0.7604592246411035,
          0.8367762464667909,
          0.8362529993613257,
          0.8589518616085385,
          0.8716531221263994,
          0.8622235131362537,
          0.8921867772581713,
          0.8728107881242377,
          0.875745050571693,
          0.8885631635755175,
          0.8912842897071729,
          0.8878684375174631
         ],
         "yaxis": "y2"
        }
       ],
       "layout": {
        "legend": {
         "font": {
          "color": "black",
          "family": "Arial"
         }
        },
        "plot_bgcolor": "rgb(209, 217, 222)",
        "template": {
         "data": {
          "bar": [
           {
            "error_x": {
             "color": "#2a3f5f"
            },
            "error_y": {
             "color": "#2a3f5f"
            },
            "marker": {
             "line": {
              "color": "#E5ECF6",
              "width": 0.5
             },
             "pattern": {
              "fillmode": "overlay",
              "size": 10,
              "solidity": 0.2
             }
            },
            "type": "bar"
           }
          ],
          "barpolar": [
           {
            "marker": {
             "line": {
              "color": "#E5ECF6",
              "width": 0.5
             },
             "pattern": {
              "fillmode": "overlay",
              "size": 10,
              "solidity": 0.2
             }
            },
            "type": "barpolar"
           }
          ],
          "carpet": [
           {
            "aaxis": {
             "endlinecolor": "#2a3f5f",
             "gridcolor": "white",
             "linecolor": "white",
             "minorgridcolor": "white",
             "startlinecolor": "#2a3f5f"
            },
            "baxis": {
             "endlinecolor": "#2a3f5f",
             "gridcolor": "white",
             "linecolor": "white",
             "minorgridcolor": "white",
             "startlinecolor": "#2a3f5f"
            },
            "type": "carpet"
           }
          ],
          "choropleth": [
           {
            "colorbar": {
             "outlinewidth": 0,
             "ticks": ""
            },
            "type": "choropleth"
           }
          ],
          "contour": [
           {
            "colorbar": {
             "outlinewidth": 0,
             "ticks": ""
            },
            "colorscale": [
             [
              0,
              "#0d0887"
             ],
             [
              0.1111111111111111,
              "#46039f"
             ],
             [
              0.2222222222222222,
              "#7201a8"
             ],
             [
              0.3333333333333333,
              "#9c179e"
             ],
             [
              0.4444444444444444,
              "#bd3786"
             ],
             [
              0.5555555555555556,
              "#d8576b"
             ],
             [
              0.6666666666666666,
              "#ed7953"
             ],
             [
              0.7777777777777778,
              "#fb9f3a"
             ],
             [
              0.8888888888888888,
              "#fdca26"
             ],
             [
              1,
              "#f0f921"
             ]
            ],
            "type": "contour"
           }
          ],
          "contourcarpet": [
           {
            "colorbar": {
             "outlinewidth": 0,
             "ticks": ""
            },
            "type": "contourcarpet"
           }
          ],
          "heatmap": [
           {
            "colorbar": {
             "outlinewidth": 0,
             "ticks": ""
            },
            "colorscale": [
             [
              0,
              "#0d0887"
             ],
             [
              0.1111111111111111,
              "#46039f"
             ],
             [
              0.2222222222222222,
              "#7201a8"
             ],
             [
              0.3333333333333333,
              "#9c179e"
             ],
             [
              0.4444444444444444,
              "#bd3786"
             ],
             [
              0.5555555555555556,
              "#d8576b"
             ],
             [
              0.6666666666666666,
              "#ed7953"
             ],
             [
              0.7777777777777778,
              "#fb9f3a"
             ],
             [
              0.8888888888888888,
              "#fdca26"
             ],
             [
              1,
              "#f0f921"
             ]
            ],
            "type": "heatmap"
           }
          ],
          "heatmapgl": [
           {
            "colorbar": {
             "outlinewidth": 0,
             "ticks": ""
            },
            "colorscale": [
             [
              0,
              "#0d0887"
             ],
             [
              0.1111111111111111,
              "#46039f"
             ],
             [
              0.2222222222222222,
              "#7201a8"
             ],
             [
              0.3333333333333333,
              "#9c179e"
             ],
             [
              0.4444444444444444,
              "#bd3786"
             ],
             [
              0.5555555555555556,
              "#d8576b"
             ],
             [
              0.6666666666666666,
              "#ed7953"
             ],
             [
              0.7777777777777778,
              "#fb9f3a"
             ],
             [
              0.8888888888888888,
              "#fdca26"
             ],
             [
              1,
              "#f0f921"
             ]
            ],
            "type": "heatmapgl"
           }
          ],
          "histogram": [
           {
            "marker": {
             "pattern": {
              "fillmode": "overlay",
              "size": 10,
              "solidity": 0.2
             }
            },
            "type": "histogram"
           }
          ],
          "histogram2d": [
           {
            "colorbar": {
             "outlinewidth": 0,
             "ticks": ""
            },
            "colorscale": [
             [
              0,
              "#0d0887"
             ],
             [
              0.1111111111111111,
              "#46039f"
             ],
             [
              0.2222222222222222,
              "#7201a8"
             ],
             [
              0.3333333333333333,
              "#9c179e"
             ],
             [
              0.4444444444444444,
              "#bd3786"
             ],
             [
              0.5555555555555556,
              "#d8576b"
             ],
             [
              0.6666666666666666,
              "#ed7953"
             ],
             [
              0.7777777777777778,
              "#fb9f3a"
             ],
             [
              0.8888888888888888,
              "#fdca26"
             ],
             [
              1,
              "#f0f921"
             ]
            ],
            "type": "histogram2d"
           }
          ],
          "histogram2dcontour": [
           {
            "colorbar": {
             "outlinewidth": 0,
             "ticks": ""
            },
            "colorscale": [
             [
              0,
              "#0d0887"
             ],
             [
              0.1111111111111111,
              "#46039f"
             ],
             [
              0.2222222222222222,
              "#7201a8"
             ],
             [
              0.3333333333333333,
              "#9c179e"
             ],
             [
              0.4444444444444444,
              "#bd3786"
             ],
             [
              0.5555555555555556,
              "#d8576b"
             ],
             [
              0.6666666666666666,
              "#ed7953"
             ],
             [
              0.7777777777777778,
              "#fb9f3a"
             ],
             [
              0.8888888888888888,
              "#fdca26"
             ],
             [
              1,
              "#f0f921"
             ]
            ],
            "type": "histogram2dcontour"
           }
          ],
          "mesh3d": [
           {
            "colorbar": {
             "outlinewidth": 0,
             "ticks": ""
            },
            "type": "mesh3d"
           }
          ],
          "parcoords": [
           {
            "line": {
             "colorbar": {
              "outlinewidth": 0,
              "ticks": ""
             }
            },
            "type": "parcoords"
           }
          ],
          "pie": [
           {
            "automargin": true,
            "type": "pie"
           }
          ],
          "scatter": [
           {
            "fillpattern": {
             "fillmode": "overlay",
             "size": 10,
             "solidity": 0.2
            },
            "type": "scatter"
           }
          ],
          "scatter3d": [
           {
            "line": {
             "colorbar": {
              "outlinewidth": 0,
              "ticks": ""
             }
            },
            "marker": {
             "colorbar": {
              "outlinewidth": 0,
              "ticks": ""
             }
            },
            "type": "scatter3d"
           }
          ],
          "scattercarpet": [
           {
            "marker": {
             "colorbar": {
              "outlinewidth": 0,
              "ticks": ""
             }
            },
            "type": "scattercarpet"
           }
          ],
          "scattergeo": [
           {
            "marker": {
             "colorbar": {
              "outlinewidth": 0,
              "ticks": ""
             }
            },
            "type": "scattergeo"
           }
          ],
          "scattergl": [
           {
            "marker": {
             "colorbar": {
              "outlinewidth": 0,
              "ticks": ""
             }
            },
            "type": "scattergl"
           }
          ],
          "scattermapbox": [
           {
            "marker": {
             "colorbar": {
              "outlinewidth": 0,
              "ticks": ""
             }
            },
            "type": "scattermapbox"
           }
          ],
          "scatterpolar": [
           {
            "marker": {
             "colorbar": {
              "outlinewidth": 0,
              "ticks": ""
             }
            },
            "type": "scatterpolar"
           }
          ],
          "scatterpolargl": [
           {
            "marker": {
             "colorbar": {
              "outlinewidth": 0,
              "ticks": ""
             }
            },
            "type": "scatterpolargl"
           }
          ],
          "scatterternary": [
           {
            "marker": {
             "colorbar": {
              "outlinewidth": 0,
              "ticks": ""
             }
            },
            "type": "scatterternary"
           }
          ],
          "surface": [
           {
            "colorbar": {
             "outlinewidth": 0,
             "ticks": ""
            },
            "colorscale": [
             [
              0,
              "#0d0887"
             ],
             [
              0.1111111111111111,
              "#46039f"
             ],
             [
              0.2222222222222222,
              "#7201a8"
             ],
             [
              0.3333333333333333,
              "#9c179e"
             ],
             [
              0.4444444444444444,
              "#bd3786"
             ],
             [
              0.5555555555555556,
              "#d8576b"
             ],
             [
              0.6666666666666666,
              "#ed7953"
             ],
             [
              0.7777777777777778,
              "#fb9f3a"
             ],
             [
              0.8888888888888888,
              "#fdca26"
             ],
             [
              1,
              "#f0f921"
             ]
            ],
            "type": "surface"
           }
          ],
          "table": [
           {
            "cells": {
             "fill": {
              "color": "#EBF0F8"
             },
             "line": {
              "color": "white"
             }
            },
            "header": {
             "fill": {
              "color": "#C8D4E3"
             },
             "line": {
              "color": "white"
             }
            },
            "type": "table"
           }
          ]
         },
         "layout": {
          "annotationdefaults": {
           "arrowcolor": "#2a3f5f",
           "arrowhead": 0,
           "arrowwidth": 1
          },
          "autotypenumbers": "strict",
          "coloraxis": {
           "colorbar": {
            "outlinewidth": 0,
            "ticks": ""
           }
          },
          "colorscale": {
           "diverging": [
            [
             0,
             "#8e0152"
            ],
            [
             0.1,
             "#c51b7d"
            ],
            [
             0.2,
             "#de77ae"
            ],
            [
             0.3,
             "#f1b6da"
            ],
            [
             0.4,
             "#fde0ef"
            ],
            [
             0.5,
             "#f7f7f7"
            ],
            [
             0.6,
             "#e6f5d0"
            ],
            [
             0.7,
             "#b8e186"
            ],
            [
             0.8,
             "#7fbc41"
            ],
            [
             0.9,
             "#4d9221"
            ],
            [
             1,
             "#276419"
            ]
           ],
           "sequential": [
            [
             0,
             "#0d0887"
            ],
            [
             0.1111111111111111,
             "#46039f"
            ],
            [
             0.2222222222222222,
             "#7201a8"
            ],
            [
             0.3333333333333333,
             "#9c179e"
            ],
            [
             0.4444444444444444,
             "#bd3786"
            ],
            [
             0.5555555555555556,
             "#d8576b"
            ],
            [
             0.6666666666666666,
             "#ed7953"
            ],
            [
             0.7777777777777778,
             "#fb9f3a"
            ],
            [
             0.8888888888888888,
             "#fdca26"
            ],
            [
             1,
             "#f0f921"
            ]
           ],
           "sequentialminus": [
            [
             0,
             "#0d0887"
            ],
            [
             0.1111111111111111,
             "#46039f"
            ],
            [
             0.2222222222222222,
             "#7201a8"
            ],
            [
             0.3333333333333333,
             "#9c179e"
            ],
            [
             0.4444444444444444,
             "#bd3786"
            ],
            [
             0.5555555555555556,
             "#d8576b"
            ],
            [
             0.6666666666666666,
             "#ed7953"
            ],
            [
             0.7777777777777778,
             "#fb9f3a"
            ],
            [
             0.8888888888888888,
             "#fdca26"
            ],
            [
             1,
             "#f0f921"
            ]
           ]
          },
          "colorway": [
           "#636efa",
           "#EF553B",
           "#00cc96",
           "#ab63fa",
           "#FFA15A",
           "#19d3f3",
           "#FF6692",
           "#B6E880",
           "#FF97FF",
           "#FECB52"
          ],
          "font": {
           "color": "#2a3f5f"
          },
          "geo": {
           "bgcolor": "white",
           "lakecolor": "white",
           "landcolor": "#E5ECF6",
           "showlakes": true,
           "showland": true,
           "subunitcolor": "white"
          },
          "hoverlabel": {
           "align": "left"
          },
          "hovermode": "closest",
          "mapbox": {
           "style": "light"
          },
          "paper_bgcolor": "white",
          "plot_bgcolor": "#E5ECF6",
          "polar": {
           "angularaxis": {
            "gridcolor": "white",
            "linecolor": "white",
            "ticks": ""
           },
           "bgcolor": "#E5ECF6",
           "radialaxis": {
            "gridcolor": "white",
            "linecolor": "white",
            "ticks": ""
           }
          },
          "scene": {
           "xaxis": {
            "backgroundcolor": "#E5ECF6",
            "gridcolor": "white",
            "gridwidth": 2,
            "linecolor": "white",
            "showbackground": true,
            "ticks": "",
            "zerolinecolor": "white"
           },
           "yaxis": {
            "backgroundcolor": "#E5ECF6",
            "gridcolor": "white",
            "gridwidth": 2,
            "linecolor": "white",
            "showbackground": true,
            "ticks": "",
            "zerolinecolor": "white"
           },
           "zaxis": {
            "backgroundcolor": "#E5ECF6",
            "gridcolor": "white",
            "gridwidth": 2,
            "linecolor": "white",
            "showbackground": true,
            "ticks": "",
            "zerolinecolor": "white"
           }
          },
          "shapedefaults": {
           "line": {
            "color": "#2a3f5f"
           }
          },
          "ternary": {
           "aaxis": {
            "gridcolor": "white",
            "linecolor": "white",
            "ticks": ""
           },
           "baxis": {
            "gridcolor": "white",
            "linecolor": "white",
            "ticks": ""
           },
           "bgcolor": "#E5ECF6",
           "caxis": {
            "gridcolor": "white",
            "linecolor": "white",
            "ticks": ""
           }
          },
          "title": {
           "x": 0.05
          },
          "xaxis": {
           "automargin": true,
           "gridcolor": "white",
           "linecolor": "white",
           "ticks": "",
           "title": {
            "standoff": 15
           },
           "zerolinecolor": "white",
           "zerolinewidth": 2
          },
          "yaxis": {
           "automargin": true,
           "gridcolor": "white",
           "linecolor": "white",
           "ticks": "",
           "title": {
            "standoff": 15
           },
           "zerolinecolor": "white",
           "zerolinewidth": 2
          }
         }
        },
        "title": {
         "font": {
          "color": "black"
         },
         "text": "Average validation loss and macro F1 score for average_confidence"
        },
        "xaxis": {
         "anchor": "y",
         "domain": [
          0,
          0.94
         ],
         "tickfont": {
          "color": "black"
         },
         "title": {
          "font": {
           "color": "black",
           "family": "Arial"
          },
          "text": "Number of training samples (log-scaled)"
         },
         "type": "log"
        },
        "yaxis": {
         "anchor": "x",
         "domain": [
          0,
          1
         ],
         "range": [
          0.3,
          0.75
         ],
         "tickfont": {
          "color": "black"
         },
         "title": {
          "font": {
           "color": "black",
           "family": "Arial"
          },
          "text": "Validation loss"
         }
        },
        "yaxis2": {
         "anchor": "x",
         "overlaying": "y",
         "range": [
          0,
          1
         ],
         "side": "right",
         "tickfont": {
          "color": "black"
         },
         "title": {
          "font": {
           "color": "black",
           "family": "Arial"
          },
          "text": "Validation set macro F1 score"
         }
        }
       }
      },
      "text/html": [
       "<div>                            <div id=\"92a20c44-7fe7-43c9-a181-1c4ace3c6398\" class=\"plotly-graph-div\" style=\"height:525px; width:100%;\"></div>            <script type=\"text/javascript\">                require([\"plotly\"], function(Plotly) {                    window.PLOTLYENV=window.PLOTLYENV || {};                                    if (document.getElementById(\"92a20c44-7fe7-43c9-a181-1c4ace3c6398\")) {                    Plotly.newPlot(                        \"92a20c44-7fe7-43c9-a181-1c4ace3c6398\",                        [{\"line\":{\"color\":\"rgb(149, 162, 171)\",\"dash\":\"dash\",\"width\":1},\"mode\":\"lines\",\"showlegend\":false,\"x\":[8,8],\"y\":[0,2.3],\"type\":\"scatter\"},{\"marker\":{\"size\":0},\"mode\":\"text\",\"showlegend\":false,\"text\":[\"8\"],\"textfont\":{\"color\":\"black\",\"family\":\"Arial\",\"size\":8.5},\"textposition\":\"top center\",\"x\":[8],\"y\":[2.31],\"type\":\"scatter\"},{\"line\":{\"color\":\"rgb(149, 162, 171)\",\"dash\":\"dash\",\"width\":1},\"mode\":\"lines\",\"showlegend\":false,\"x\":[24,24],\"y\":[0,2.3],\"type\":\"scatter\"},{\"marker\":{\"size\":0},\"mode\":\"text\",\"showlegend\":false,\"text\":[\"24\"],\"textfont\":{\"color\":\"black\",\"family\":\"Arial\",\"size\":8.5},\"textposition\":\"top center\",\"x\":[24],\"y\":[2.31],\"type\":\"scatter\"},{\"line\":{\"color\":\"rgb(149, 162, 171)\",\"dash\":\"dash\",\"width\":1},\"mode\":\"lines\",\"showlegend\":false,\"x\":[56,56],\"y\":[0,2.3],\"type\":\"scatter\"},{\"marker\":{\"size\":0},\"mode\":\"text\",\"showlegend\":false,\"text\":[\"56\"],\"textfont\":{\"color\":\"black\",\"family\":\"Arial\",\"size\":8.5},\"textposition\":\"top center\",\"x\":[56],\"y\":[2.31],\"type\":\"scatter\"},{\"line\":{\"color\":\"rgb(149, 162, 171)\",\"dash\":\"dash\",\"width\":1},\"mode\":\"lines\",\"showlegend\":false,\"x\":[112,112],\"y\":[0,2.3],\"type\":\"scatter\"},{\"marker\":{\"size\":0},\"mode\":\"text\",\"showlegend\":false,\"text\":[\"112\"],\"textfont\":{\"color\":\"black\",\"family\":\"Arial\",\"size\":8.5},\"textposition\":\"top center\",\"x\":[112],\"y\":[2.31],\"type\":\"scatter\"},{\"line\":{\"color\":\"rgb(149, 162, 171)\",\"dash\":\"dash\",\"width\":1},\"mode\":\"lines\",\"showlegend\":false,\"x\":[208,208],\"y\":[0,2.3],\"type\":\"scatter\"},{\"marker\":{\"size\":0},\"mode\":\"text\",\"showlegend\":false,\"text\":[\"208\"],\"textfont\":{\"color\":\"black\",\"family\":\"Arial\",\"size\":8.5},\"textposition\":\"top center\",\"x\":[208],\"y\":[2.31],\"type\":\"scatter\"},{\"line\":{\"color\":\"rgb(149, 162, 171)\",\"dash\":\"dash\",\"width\":1},\"mode\":\"lines\",\"showlegend\":false,\"x\":[384,384],\"y\":[0,2.3],\"type\":\"scatter\"},{\"marker\":{\"size\":0},\"mode\":\"text\",\"showlegend\":false,\"text\":[\"384\"],\"textfont\":{\"color\":\"black\",\"family\":\"Arial\",\"size\":8.5},\"textposition\":\"top center\",\"x\":[384],\"y\":[2.31],\"type\":\"scatter\"},{\"line\":{\"color\":\"rgb(149, 162, 171)\",\"dash\":\"dash\",\"width\":1},\"mode\":\"lines\",\"showlegend\":false,\"x\":[704,704],\"y\":[0,2.3],\"type\":\"scatter\"},{\"marker\":{\"size\":0},\"mode\":\"text\",\"showlegend\":false,\"text\":[\"704\"],\"textfont\":{\"color\":\"black\",\"family\":\"Arial\",\"size\":8.5},\"textposition\":\"top center\",\"x\":[704],\"y\":[2.31],\"type\":\"scatter\"},{\"line\":{\"color\":\"rgb(149, 162, 171)\",\"dash\":\"dash\",\"width\":1},\"mode\":\"lines\",\"showlegend\":false,\"x\":[1264,1264],\"y\":[0,2.3],\"type\":\"scatter\"},{\"marker\":{\"size\":0},\"mode\":\"text\",\"showlegend\":false,\"text\":[\"1264\"],\"textfont\":{\"color\":\"black\",\"family\":\"Arial\",\"size\":8.5},\"textposition\":\"top center\",\"x\":[1264],\"y\":[2.31],\"type\":\"scatter\"},{\"line\":{\"color\":\"rgb(149, 162, 171)\",\"dash\":\"dash\",\"width\":1},\"mode\":\"lines\",\"showlegend\":false,\"x\":[2264,2264],\"y\":[0,2.3],\"type\":\"scatter\"},{\"marker\":{\"size\":0},\"mode\":\"text\",\"showlegend\":false,\"text\":[\"2264\"],\"textfont\":{\"color\":\"black\",\"family\":\"Arial\",\"size\":8.5},\"textposition\":\"top center\",\"x\":[2264],\"y\":[2.31],\"type\":\"scatter\"},{\"line\":{\"color\":\"rgb(149, 162, 171)\",\"dash\":\"dash\",\"width\":1},\"mode\":\"lines\",\"showlegend\":false,\"x\":[4040,4040],\"y\":[0,2.3],\"type\":\"scatter\"},{\"marker\":{\"size\":0},\"mode\":\"text\",\"showlegend\":false,\"text\":[\"4040\"],\"textfont\":{\"color\":\"black\",\"family\":\"Arial\",\"size\":8.5},\"textposition\":\"top center\",\"x\":[4040],\"y\":[2.31],\"type\":\"scatter\"},{\"line\":{\"color\":\"rgb(149, 162, 171)\",\"dash\":\"dash\",\"width\":1},\"mode\":\"lines\",\"showlegend\":false,\"x\":[7200,7200],\"y\":[0,2.3],\"type\":\"scatter\"},{\"marker\":{\"size\":0},\"mode\":\"text\",\"showlegend\":false,\"text\":[\"7200\"],\"textfont\":{\"color\":\"black\",\"family\":\"Arial\",\"size\":8.5},\"textposition\":\"top center\",\"x\":[7200],\"y\":[2.31],\"type\":\"scatter\"},{\"line\":{\"color\":\"rgb(149, 162, 171)\",\"dash\":\"dash\",\"width\":1},\"mode\":\"lines\",\"showlegend\":false,\"x\":[12824,12824],\"y\":[0,2.3],\"type\":\"scatter\"},{\"marker\":{\"size\":0},\"mode\":\"text\",\"showlegend\":false,\"text\":[\"12824\"],\"textfont\":{\"color\":\"black\",\"family\":\"Arial\",\"size\":8.5},\"textposition\":\"top center\",\"x\":[12824],\"y\":[2.31],\"type\":\"scatter\"},{\"line\":{\"color\":\"rgb(149, 162, 171)\",\"dash\":\"dash\",\"width\":1},\"mode\":\"lines\",\"showlegend\":false,\"x\":[22824,22824],\"y\":[0,2.3],\"type\":\"scatter\"},{\"marker\":{\"size\":0},\"mode\":\"text\",\"showlegend\":false,\"text\":[\"22824\"],\"textfont\":{\"color\":\"black\",\"family\":\"Arial\",\"size\":8.5},\"textposition\":\"top center\",\"x\":[22824],\"y\":[2.31],\"type\":\"scatter\"},{\"line\":{\"color\":\"rgb(149, 162, 171)\",\"dash\":\"dash\",\"width\":1},\"mode\":\"lines\",\"showlegend\":false,\"x\":[26880,26880],\"y\":[0,2.3],\"type\":\"scatter\"},{\"marker\":{\"size\":0},\"mode\":\"text\",\"showlegend\":false,\"text\":[\"26880\"],\"textfont\":{\"color\":\"black\",\"family\":\"Arial\",\"size\":8.5},\"textposition\":\"top center\",\"x\":[26880],\"y\":[2.26],\"type\":\"scatter\"},{\"fill\":\"toself\",\"fillcolor\":\"rgba(97, 192, 134, 0.2)\",\"line\":{\"width\":0},\"showlegend\":false,\"x\":[8,24,56,112,208,384,704,1264,2264,4040,7200,12824,22824,26880,26880,22824,12824,7200,4040,2264,1264,704,384,208,112,56,24,8],\"y\":[0.7268503335614999,0.6901733822292752,0.6718265891075135,0.3668305095543878,0.3904626348612106,0.4265027979697657,0.3553723022250374,0.3621937792237278,0.4030530310575765,0.3254719926118705,0.3641708998830811,0.3457384144062061,0.3247098623449542,0.4259429312537316,0.392319840459681,0.3189883496782392,0.3153453558993028,0.3265548332097738,0.2723970941402917,0.28998780776525,0.2841491388826196,0.333295153243105,0.3145465022993651,0.3191349931575435,0.3626636225768986,0.3162168050314196,0.4564440180030134,0.7156037528895669],\"type\":\"scatter\",\"xaxis\":\"x\",\"yaxis\":\"y\"},{\"fill\":\"toself\",\"fillcolor\":\"rgba(245, 130, 31, 0.2)\",\"line\":{\"width\":0},\"showlegend\":false,\"x\":[8,24,56,112,208,384,704,1264,2264,4040,7200,12824,22824,26880,26880,22824,12824,7200,4040,2264,1264,704,384,208,112,56,24,8],\"y\":[0.456729755864955,0.7580633364478065,0.8341950310676887,0.8511020188894768,0.8461731470676712,0.8853832733702863,0.8810872194706486,0.8819100581654687,0.8941188064015938,0.8729638391395161,0.8882026306924247,0.8909531081593572,0.8957630784487045,0.8925022277338742,0.8832346473010521,0.8868055009656413,0.8861732189916777,0.8632874704509615,0.8726577371089593,0.8902547481147489,0.8425369681070385,0.8622190247821502,0.8325204498467907,0.8263328516549803,0.8224504740441052,0.6867234182145183,0.3293554486217877,0.3425815649737601],\"type\":\"scatter\",\"xaxis\":\"x\",\"yaxis\":\"y2\"},{\"line\":{\"width\":2},\"marker\":{\"color\":\"rgb(97,192,134)\"},\"name\":\"Val loss (0.409)\",\"textfont\":{\"family\":\"Arial\",\"size\":11},\"x\":[8,24,56,112,208,384,704,1264,2264,4040,7200,12824,22824,26880],\"y\":[0.7212270432255334,0.5733087001161443,0.4940216970694665,0.3647470660656432,0.3547988140093771,0.37052465013456537,0.3443337277340712,0.3231714590531737,0.34652041941141326,0.29893454337608105,0.34536286654642745,0.33054188515275446,0.32184910601159666,0.4091313858567063],\"type\":\"scatter\",\"xaxis\":\"x\",\"yaxis\":\"y\"},{\"line\":{\"width\":2},\"marker\":{\"color\":\"rgb(245,130,31)\"},\"name\":\"Val F1 score (0.888)\",\"textfont\":{\"family\":\"Arial\",\"size\":11},\"x\":[8,24,56,112,208,384,704,1264,2264,4040,7200,12824,22824,26880],\"y\":[0.3996556604193575,0.5437093925347971,0.7604592246411035,0.8367762464667909,0.8362529993613257,0.8589518616085385,0.8716531221263994,0.8622235131362537,0.8921867772581713,0.8728107881242377,0.875745050571693,0.8885631635755175,0.8912842897071729,0.8878684375174631],\"type\":\"scatter\",\"xaxis\":\"x\",\"yaxis\":\"y2\"}],                        {\"template\":{\"data\":{\"histogram2dcontour\":[{\"type\":\"histogram2dcontour\",\"colorbar\":{\"outlinewidth\":0,\"ticks\":\"\"},\"colorscale\":[[0.0,\"#0d0887\"],[0.1111111111111111,\"#46039f\"],[0.2222222222222222,\"#7201a8\"],[0.3333333333333333,\"#9c179e\"],[0.4444444444444444,\"#bd3786\"],[0.5555555555555556,\"#d8576b\"],[0.6666666666666666,\"#ed7953\"],[0.7777777777777778,\"#fb9f3a\"],[0.8888888888888888,\"#fdca26\"],[1.0,\"#f0f921\"]]}],\"choropleth\":[{\"type\":\"choropleth\",\"colorbar\":{\"outlinewidth\":0,\"ticks\":\"\"}}],\"histogram2d\":[{\"type\":\"histogram2d\",\"colorbar\":{\"outlinewidth\":0,\"ticks\":\"\"},\"colorscale\":[[0.0,\"#0d0887\"],[0.1111111111111111,\"#46039f\"],[0.2222222222222222,\"#7201a8\"],[0.3333333333333333,\"#9c179e\"],[0.4444444444444444,\"#bd3786\"],[0.5555555555555556,\"#d8576b\"],[0.6666666666666666,\"#ed7953\"],[0.7777777777777778,\"#fb9f3a\"],[0.8888888888888888,\"#fdca26\"],[1.0,\"#f0f921\"]]}],\"heatmap\":[{\"type\":\"heatmap\",\"colorbar\":{\"outlinewidth\":0,\"ticks\":\"\"},\"colorscale\":[[0.0,\"#0d0887\"],[0.1111111111111111,\"#46039f\"],[0.2222222222222222,\"#7201a8\"],[0.3333333333333333,\"#9c179e\"],[0.4444444444444444,\"#bd3786\"],[0.5555555555555556,\"#d8576b\"],[0.6666666666666666,\"#ed7953\"],[0.7777777777777778,\"#fb9f3a\"],[0.8888888888888888,\"#fdca26\"],[1.0,\"#f0f921\"]]}],\"heatmapgl\":[{\"type\":\"heatmapgl\",\"colorbar\":{\"outlinewidth\":0,\"ticks\":\"\"},\"colorscale\":[[0.0,\"#0d0887\"],[0.1111111111111111,\"#46039f\"],[0.2222222222222222,\"#7201a8\"],[0.3333333333333333,\"#9c179e\"],[0.4444444444444444,\"#bd3786\"],[0.5555555555555556,\"#d8576b\"],[0.6666666666666666,\"#ed7953\"],[0.7777777777777778,\"#fb9f3a\"],[0.8888888888888888,\"#fdca26\"],[1.0,\"#f0f921\"]]}],\"contourcarpet\":[{\"type\":\"contourcarpet\",\"colorbar\":{\"outlinewidth\":0,\"ticks\":\"\"}}],\"contour\":[{\"type\":\"contour\",\"colorbar\":{\"outlinewidth\":0,\"ticks\":\"\"},\"colorscale\":[[0.0,\"#0d0887\"],[0.1111111111111111,\"#46039f\"],[0.2222222222222222,\"#7201a8\"],[0.3333333333333333,\"#9c179e\"],[0.4444444444444444,\"#bd3786\"],[0.5555555555555556,\"#d8576b\"],[0.6666666666666666,\"#ed7953\"],[0.7777777777777778,\"#fb9f3a\"],[0.8888888888888888,\"#fdca26\"],[1.0,\"#f0f921\"]]}],\"surface\":[{\"type\":\"surface\",\"colorbar\":{\"outlinewidth\":0,\"ticks\":\"\"},\"colorscale\":[[0.0,\"#0d0887\"],[0.1111111111111111,\"#46039f\"],[0.2222222222222222,\"#7201a8\"],[0.3333333333333333,\"#9c179e\"],[0.4444444444444444,\"#bd3786\"],[0.5555555555555556,\"#d8576b\"],[0.6666666666666666,\"#ed7953\"],[0.7777777777777778,\"#fb9f3a\"],[0.8888888888888888,\"#fdca26\"],[1.0,\"#f0f921\"]]}],\"mesh3d\":[{\"type\":\"mesh3d\",\"colorbar\":{\"outlinewidth\":0,\"ticks\":\"\"}}],\"scatter\":[{\"fillpattern\":{\"fillmode\":\"overlay\",\"size\":10,\"solidity\":0.2},\"type\":\"scatter\"}],\"parcoords\":[{\"type\":\"parcoords\",\"line\":{\"colorbar\":{\"outlinewidth\":0,\"ticks\":\"\"}}}],\"scatterpolargl\":[{\"type\":\"scatterpolargl\",\"marker\":{\"colorbar\":{\"outlinewidth\":0,\"ticks\":\"\"}}}],\"bar\":[{\"error_x\":{\"color\":\"#2a3f5f\"},\"error_y\":{\"color\":\"#2a3f5f\"},\"marker\":{\"line\":{\"color\":\"#E5ECF6\",\"width\":0.5},\"pattern\":{\"fillmode\":\"overlay\",\"size\":10,\"solidity\":0.2}},\"type\":\"bar\"}],\"scattergeo\":[{\"type\":\"scattergeo\",\"marker\":{\"colorbar\":{\"outlinewidth\":0,\"ticks\":\"\"}}}],\"scatterpolar\":[{\"type\":\"scatterpolar\",\"marker\":{\"colorbar\":{\"outlinewidth\":0,\"ticks\":\"\"}}}],\"histogram\":[{\"marker\":{\"pattern\":{\"fillmode\":\"overlay\",\"size\":10,\"solidity\":0.2}},\"type\":\"histogram\"}],\"scattergl\":[{\"type\":\"scattergl\",\"marker\":{\"colorbar\":{\"outlinewidth\":0,\"ticks\":\"\"}}}],\"scatter3d\":[{\"type\":\"scatter3d\",\"line\":{\"colorbar\":{\"outlinewidth\":0,\"ticks\":\"\"}},\"marker\":{\"colorbar\":{\"outlinewidth\":0,\"ticks\":\"\"}}}],\"scattermapbox\":[{\"type\":\"scattermapbox\",\"marker\":{\"colorbar\":{\"outlinewidth\":0,\"ticks\":\"\"}}}],\"scatterternary\":[{\"type\":\"scatterternary\",\"marker\":{\"colorbar\":{\"outlinewidth\":0,\"ticks\":\"\"}}}],\"scattercarpet\":[{\"type\":\"scattercarpet\",\"marker\":{\"colorbar\":{\"outlinewidth\":0,\"ticks\":\"\"}}}],\"carpet\":[{\"aaxis\":{\"endlinecolor\":\"#2a3f5f\",\"gridcolor\":\"white\",\"linecolor\":\"white\",\"minorgridcolor\":\"white\",\"startlinecolor\":\"#2a3f5f\"},\"baxis\":{\"endlinecolor\":\"#2a3f5f\",\"gridcolor\":\"white\",\"linecolor\":\"white\",\"minorgridcolor\":\"white\",\"startlinecolor\":\"#2a3f5f\"},\"type\":\"carpet\"}],\"table\":[{\"cells\":{\"fill\":{\"color\":\"#EBF0F8\"},\"line\":{\"color\":\"white\"}},\"header\":{\"fill\":{\"color\":\"#C8D4E3\"},\"line\":{\"color\":\"white\"}},\"type\":\"table\"}],\"barpolar\":[{\"marker\":{\"line\":{\"color\":\"#E5ECF6\",\"width\":0.5},\"pattern\":{\"fillmode\":\"overlay\",\"size\":10,\"solidity\":0.2}},\"type\":\"barpolar\"}],\"pie\":[{\"automargin\":true,\"type\":\"pie\"}]},\"layout\":{\"autotypenumbers\":\"strict\",\"colorway\":[\"#636efa\",\"#EF553B\",\"#00cc96\",\"#ab63fa\",\"#FFA15A\",\"#19d3f3\",\"#FF6692\",\"#B6E880\",\"#FF97FF\",\"#FECB52\"],\"font\":{\"color\":\"#2a3f5f\"},\"hovermode\":\"closest\",\"hoverlabel\":{\"align\":\"left\"},\"paper_bgcolor\":\"white\",\"plot_bgcolor\":\"#E5ECF6\",\"polar\":{\"bgcolor\":\"#E5ECF6\",\"angularaxis\":{\"gridcolor\":\"white\",\"linecolor\":\"white\",\"ticks\":\"\"},\"radialaxis\":{\"gridcolor\":\"white\",\"linecolor\":\"white\",\"ticks\":\"\"}},\"ternary\":{\"bgcolor\":\"#E5ECF6\",\"aaxis\":{\"gridcolor\":\"white\",\"linecolor\":\"white\",\"ticks\":\"\"},\"baxis\":{\"gridcolor\":\"white\",\"linecolor\":\"white\",\"ticks\":\"\"},\"caxis\":{\"gridcolor\":\"white\",\"linecolor\":\"white\",\"ticks\":\"\"}},\"coloraxis\":{\"colorbar\":{\"outlinewidth\":0,\"ticks\":\"\"}},\"colorscale\":{\"sequential\":[[0.0,\"#0d0887\"],[0.1111111111111111,\"#46039f\"],[0.2222222222222222,\"#7201a8\"],[0.3333333333333333,\"#9c179e\"],[0.4444444444444444,\"#bd3786\"],[0.5555555555555556,\"#d8576b\"],[0.6666666666666666,\"#ed7953\"],[0.7777777777777778,\"#fb9f3a\"],[0.8888888888888888,\"#fdca26\"],[1.0,\"#f0f921\"]],\"sequentialminus\":[[0.0,\"#0d0887\"],[0.1111111111111111,\"#46039f\"],[0.2222222222222222,\"#7201a8\"],[0.3333333333333333,\"#9c179e\"],[0.4444444444444444,\"#bd3786\"],[0.5555555555555556,\"#d8576b\"],[0.6666666666666666,\"#ed7953\"],[0.7777777777777778,\"#fb9f3a\"],[0.8888888888888888,\"#fdca26\"],[1.0,\"#f0f921\"]],\"diverging\":[[0,\"#8e0152\"],[0.1,\"#c51b7d\"],[0.2,\"#de77ae\"],[0.3,\"#f1b6da\"],[0.4,\"#fde0ef\"],[0.5,\"#f7f7f7\"],[0.6,\"#e6f5d0\"],[0.7,\"#b8e186\"],[0.8,\"#7fbc41\"],[0.9,\"#4d9221\"],[1,\"#276419\"]]},\"xaxis\":{\"gridcolor\":\"white\",\"linecolor\":\"white\",\"ticks\":\"\",\"title\":{\"standoff\":15},\"zerolinecolor\":\"white\",\"automargin\":true,\"zerolinewidth\":2},\"yaxis\":{\"gridcolor\":\"white\",\"linecolor\":\"white\",\"ticks\":\"\",\"title\":{\"standoff\":15},\"zerolinecolor\":\"white\",\"automargin\":true,\"zerolinewidth\":2},\"scene\":{\"xaxis\":{\"backgroundcolor\":\"#E5ECF6\",\"gridcolor\":\"white\",\"linecolor\":\"white\",\"showbackground\":true,\"ticks\":\"\",\"zerolinecolor\":\"white\",\"gridwidth\":2},\"yaxis\":{\"backgroundcolor\":\"#E5ECF6\",\"gridcolor\":\"white\",\"linecolor\":\"white\",\"showbackground\":true,\"ticks\":\"\",\"zerolinecolor\":\"white\",\"gridwidth\":2},\"zaxis\":{\"backgroundcolor\":\"#E5ECF6\",\"gridcolor\":\"white\",\"linecolor\":\"white\",\"showbackground\":true,\"ticks\":\"\",\"zerolinecolor\":\"white\",\"gridwidth\":2}},\"shapedefaults\":{\"line\":{\"color\":\"#2a3f5f\"}},\"annotationdefaults\":{\"arrowcolor\":\"#2a3f5f\",\"arrowhead\":0,\"arrowwidth\":1},\"geo\":{\"bgcolor\":\"white\",\"landcolor\":\"#E5ECF6\",\"subunitcolor\":\"white\",\"showland\":true,\"showlakes\":true,\"lakecolor\":\"white\"},\"title\":{\"x\":0.05},\"mapbox\":{\"style\":\"light\"}}},\"xaxis\":{\"anchor\":\"y\",\"domain\":[0.0,0.94],\"title\":{\"font\":{\"color\":\"black\",\"family\":\"Arial\"},\"text\":\"Number of training samples (log-scaled)\"},\"tickfont\":{\"color\":\"black\"},\"type\":\"log\"},\"yaxis\":{\"anchor\":\"x\",\"domain\":[0.0,1.0],\"range\":[0.3,0.75],\"title\":{\"font\":{\"color\":\"black\",\"family\":\"Arial\"},\"text\":\"Validation loss\"},\"tickfont\":{\"color\":\"black\"}},\"yaxis2\":{\"anchor\":\"x\",\"overlaying\":\"y\",\"side\":\"right\",\"range\":[0,1],\"title\":{\"font\":{\"color\":\"black\",\"family\":\"Arial\"},\"text\":\"Validation set macro F1 score\"},\"tickfont\":{\"color\":\"black\"}},\"plot_bgcolor\":\"rgb(209, 217, 222)\",\"title\":{\"font\":{\"color\":\"black\"},\"text\":\"Average validation loss and macro F1 score for average_confidence\"},\"legend\":{\"font\":{\"color\":\"black\",\"family\":\"Arial\"}}},                        {\"responsive\": true}                    ).then(function(){\n",
       "                            \n",
       "var gd = document.getElementById('92a20c44-7fe7-43c9-a181-1c4ace3c6398');\n",
       "var x = new MutationObserver(function (mutations, observer) {{\n",
       "        var display = window.getComputedStyle(gd).display;\n",
       "        if (!display || display === 'none') {{\n",
       "            console.log([gd, 'removed!']);\n",
       "            Plotly.purge(gd);\n",
       "            observer.disconnect();\n",
       "        }}\n",
       "}});\n",
       "\n",
       "// Listen for the removal of the full notebook cells\n",
       "var notebookContainer = gd.closest('#notebook-container');\n",
       "if (notebookContainer) {{\n",
       "    x.observe(notebookContainer, {childList: true});\n",
       "}}\n",
       "\n",
       "// Listen for the clearing of the current output cell\n",
       "var outputEl = gd.closest('.output');\n",
       "if (outputEl) {{\n",
       "    x.observe(outputEl, {childList: true});\n",
       "}}\n",
       "\n",
       "                        })                };                });            </script>        </div>"
      ]
     },
     "metadata": {},
     "output_type": "display_data"
    },
    {
     "data": {
      "application/vnd.plotly.v1+json": {
       "config": {
        "plotlyServerURL": "https://plot.ly"
       },
       "data": [
        {
         "line": {
          "color": "rgb(149, 162, 171)",
          "dash": "dash",
          "width": 1
         },
         "mode": "lines",
         "showlegend": false,
         "type": "scatter",
         "x": [
          8,
          8
         ],
         "y": [
          0,
          1.12
         ]
        },
        {
         "marker": {
          "size": 0
         },
         "mode": "text",
         "showlegend": false,
         "text": [
          "8"
         ],
         "textfont": {
          "color": "black",
          "family": "Arial",
          "size": 8.5
         },
         "textposition": "top center",
         "type": "scatter",
         "x": [
          8
         ],
         "y": [
          1.13
         ]
        },
        {
         "line": {
          "color": "rgb(149, 162, 171)",
          "dash": "dash",
          "width": 1
         },
         "mode": "lines",
         "showlegend": false,
         "type": "scatter",
         "x": [
          24,
          24
         ],
         "y": [
          0,
          1.12
         ]
        },
        {
         "marker": {
          "size": 0
         },
         "mode": "text",
         "showlegend": false,
         "text": [
          "24"
         ],
         "textfont": {
          "color": "black",
          "family": "Arial",
          "size": 8.5
         },
         "textposition": "top center",
         "type": "scatter",
         "x": [
          24
         ],
         "y": [
          1.13
         ]
        },
        {
         "line": {
          "color": "rgb(149, 162, 171)",
          "dash": "dash",
          "width": 1
         },
         "mode": "lines",
         "showlegend": false,
         "type": "scatter",
         "x": [
          56,
          56
         ],
         "y": [
          0,
          1.12
         ]
        },
        {
         "marker": {
          "size": 0
         },
         "mode": "text",
         "showlegend": false,
         "text": [
          "56"
         ],
         "textfont": {
          "color": "black",
          "family": "Arial",
          "size": 8.5
         },
         "textposition": "top center",
         "type": "scatter",
         "x": [
          56
         ],
         "y": [
          1.13
         ]
        },
        {
         "line": {
          "color": "rgb(149, 162, 171)",
          "dash": "dash",
          "width": 1
         },
         "mode": "lines",
         "showlegend": false,
         "type": "scatter",
         "x": [
          112,
          112
         ],
         "y": [
          0,
          1.12
         ]
        },
        {
         "marker": {
          "size": 0
         },
         "mode": "text",
         "showlegend": false,
         "text": [
          "112"
         ],
         "textfont": {
          "color": "black",
          "family": "Arial",
          "size": 8.5
         },
         "textposition": "top center",
         "type": "scatter",
         "x": [
          112
         ],
         "y": [
          1.13
         ]
        },
        {
         "line": {
          "color": "rgb(149, 162, 171)",
          "dash": "dash",
          "width": 1
         },
         "mode": "lines",
         "showlegend": false,
         "type": "scatter",
         "x": [
          208,
          208
         ],
         "y": [
          0,
          1.12
         ]
        },
        {
         "marker": {
          "size": 0
         },
         "mode": "text",
         "showlegend": false,
         "text": [
          "208"
         ],
         "textfont": {
          "color": "black",
          "family": "Arial",
          "size": 8.5
         },
         "textposition": "top center",
         "type": "scatter",
         "x": [
          208
         ],
         "y": [
          1.13
         ]
        },
        {
         "line": {
          "color": "rgb(149, 162, 171)",
          "dash": "dash",
          "width": 1
         },
         "mode": "lines",
         "showlegend": false,
         "type": "scatter",
         "x": [
          384,
          384
         ],
         "y": [
          0,
          1.12
         ]
        },
        {
         "marker": {
          "size": 0
         },
         "mode": "text",
         "showlegend": false,
         "text": [
          "384"
         ],
         "textfont": {
          "color": "black",
          "family": "Arial",
          "size": 8.5
         },
         "textposition": "top center",
         "type": "scatter",
         "x": [
          384
         ],
         "y": [
          1.13
         ]
        },
        {
         "line": {
          "color": "rgb(149, 162, 171)",
          "dash": "dash",
          "width": 1
         },
         "mode": "lines",
         "showlegend": false,
         "type": "scatter",
         "x": [
          704,
          704
         ],
         "y": [
          0,
          1.12
         ]
        },
        {
         "marker": {
          "size": 0
         },
         "mode": "text",
         "showlegend": false,
         "text": [
          "704"
         ],
         "textfont": {
          "color": "black",
          "family": "Arial",
          "size": 8.5
         },
         "textposition": "top center",
         "type": "scatter",
         "x": [
          704
         ],
         "y": [
          1.13
         ]
        },
        {
         "line": {
          "color": "rgb(149, 162, 171)",
          "dash": "dash",
          "width": 1
         },
         "mode": "lines",
         "showlegend": false,
         "type": "scatter",
         "x": [
          1264,
          1264
         ],
         "y": [
          0,
          1.12
         ]
        },
        {
         "marker": {
          "size": 0
         },
         "mode": "text",
         "showlegend": false,
         "text": [
          "1264"
         ],
         "textfont": {
          "color": "black",
          "family": "Arial",
          "size": 8.5
         },
         "textposition": "top center",
         "type": "scatter",
         "x": [
          1264
         ],
         "y": [
          1.13
         ]
        },
        {
         "line": {
          "color": "rgb(149, 162, 171)",
          "dash": "dash",
          "width": 1
         },
         "mode": "lines",
         "showlegend": false,
         "type": "scatter",
         "x": [
          2264,
          2264
         ],
         "y": [
          0,
          1.12
         ]
        },
        {
         "marker": {
          "size": 0
         },
         "mode": "text",
         "showlegend": false,
         "text": [
          "2264"
         ],
         "textfont": {
          "color": "black",
          "family": "Arial",
          "size": 8.5
         },
         "textposition": "top center",
         "type": "scatter",
         "x": [
          2264
         ],
         "y": [
          1.13
         ]
        },
        {
         "line": {
          "color": "rgb(149, 162, 171)",
          "dash": "dash",
          "width": 1
         },
         "mode": "lines",
         "showlegend": false,
         "type": "scatter",
         "x": [
          4040,
          4040
         ],
         "y": [
          0,
          1.12
         ]
        },
        {
         "marker": {
          "size": 0
         },
         "mode": "text",
         "showlegend": false,
         "text": [
          "4040"
         ],
         "textfont": {
          "color": "black",
          "family": "Arial",
          "size": 8.5
         },
         "textposition": "top center",
         "type": "scatter",
         "x": [
          4040
         ],
         "y": [
          1.13
         ]
        },
        {
         "line": {
          "color": "rgb(149, 162, 171)",
          "dash": "dash",
          "width": 1
         },
         "mode": "lines",
         "showlegend": false,
         "type": "scatter",
         "x": [
          7200,
          7200
         ],
         "y": [
          0,
          1.12
         ]
        },
        {
         "marker": {
          "size": 0
         },
         "mode": "text",
         "showlegend": false,
         "text": [
          "7200"
         ],
         "textfont": {
          "color": "black",
          "family": "Arial",
          "size": 8.5
         },
         "textposition": "top center",
         "type": "scatter",
         "x": [
          7200
         ],
         "y": [
          1.13
         ]
        },
        {
         "line": {
          "color": "rgb(149, 162, 171)",
          "dash": "dash",
          "width": 1
         },
         "mode": "lines",
         "showlegend": false,
         "type": "scatter",
         "x": [
          12824,
          12824
         ],
         "y": [
          0,
          1.12
         ]
        },
        {
         "marker": {
          "size": 0
         },
         "mode": "text",
         "showlegend": false,
         "text": [
          "12824"
         ],
         "textfont": {
          "color": "black",
          "family": "Arial",
          "size": 8.5
         },
         "textposition": "top center",
         "type": "scatter",
         "x": [
          12824
         ],
         "y": [
          1.13
         ]
        },
        {
         "line": {
          "color": "rgb(149, 162, 171)",
          "dash": "dash",
          "width": 1
         },
         "mode": "lines",
         "showlegend": false,
         "type": "scatter",
         "x": [
          22824,
          22824
         ],
         "y": [
          0,
          1.12
         ]
        },
        {
         "marker": {
          "size": 0
         },
         "mode": "text",
         "showlegend": false,
         "text": [
          "22824"
         ],
         "textfont": {
          "color": "black",
          "family": "Arial",
          "size": 8.5
         },
         "textposition": "top center",
         "type": "scatter",
         "x": [
          22824
         ],
         "y": [
          1.13
         ]
        },
        {
         "line": {
          "color": "rgb(149, 162, 171)",
          "dash": "dash",
          "width": 1
         },
         "mode": "lines",
         "showlegend": false,
         "type": "scatter",
         "x": [
          26880,
          26880
         ],
         "y": [
          0,
          1.12
         ]
        },
        {
         "marker": {
          "size": 0
         },
         "mode": "text",
         "showlegend": false,
         "text": [
          "26880"
         ],
         "textfont": {
          "color": "black",
          "family": "Arial",
          "size": 8.5
         },
         "textposition": "top center",
         "type": "scatter",
         "x": [
          26880
         ],
         "y": [
          1.13
         ]
        },
        {
         "line": {
          "width": 2
         },
         "marker": {
          "color": "rgb(151,193,57)"
         },
         "name": "Test F1 score (0.897)",
         "textfont": {
          "family": "Arial",
          "size": 11
         },
         "type": "scatter",
         "x": [
          8,
          24,
          56,
          112,
          208,
          384,
          704,
          1264,
          2264,
          4040,
          7200,
          12824,
          22824,
          26880
         ],
         "y": [
          0.39362083502797146,
          0.7075548502465133,
          0.8448441418963647,
          0.8420137147867357,
          0.8431197450345711,
          0.8827623275599943,
          0.8911929076144705,
          0.8776042617642106,
          0.898414385516356,
          0.912919790843756,
          0.8927597183576518,
          0.9180127282234974,
          0.91004571011426,
          0.8970211163265915
         ]
        }
       ],
       "layout": {
        "legend": {
         "font": {
          "color": "black",
          "family": "Arial"
         }
        },
        "plot_bgcolor": "rgb(209, 217, 222)",
        "template": {
         "data": {
          "bar": [
           {
            "error_x": {
             "color": "#2a3f5f"
            },
            "error_y": {
             "color": "#2a3f5f"
            },
            "marker": {
             "line": {
              "color": "#E5ECF6",
              "width": 0.5
             },
             "pattern": {
              "fillmode": "overlay",
              "size": 10,
              "solidity": 0.2
             }
            },
            "type": "bar"
           }
          ],
          "barpolar": [
           {
            "marker": {
             "line": {
              "color": "#E5ECF6",
              "width": 0.5
             },
             "pattern": {
              "fillmode": "overlay",
              "size": 10,
              "solidity": 0.2
             }
            },
            "type": "barpolar"
           }
          ],
          "carpet": [
           {
            "aaxis": {
             "endlinecolor": "#2a3f5f",
             "gridcolor": "white",
             "linecolor": "white",
             "minorgridcolor": "white",
             "startlinecolor": "#2a3f5f"
            },
            "baxis": {
             "endlinecolor": "#2a3f5f",
             "gridcolor": "white",
             "linecolor": "white",
             "minorgridcolor": "white",
             "startlinecolor": "#2a3f5f"
            },
            "type": "carpet"
           }
          ],
          "choropleth": [
           {
            "colorbar": {
             "outlinewidth": 0,
             "ticks": ""
            },
            "type": "choropleth"
           }
          ],
          "contour": [
           {
            "colorbar": {
             "outlinewidth": 0,
             "ticks": ""
            },
            "colorscale": [
             [
              0,
              "#0d0887"
             ],
             [
              0.1111111111111111,
              "#46039f"
             ],
             [
              0.2222222222222222,
              "#7201a8"
             ],
             [
              0.3333333333333333,
              "#9c179e"
             ],
             [
              0.4444444444444444,
              "#bd3786"
             ],
             [
              0.5555555555555556,
              "#d8576b"
             ],
             [
              0.6666666666666666,
              "#ed7953"
             ],
             [
              0.7777777777777778,
              "#fb9f3a"
             ],
             [
              0.8888888888888888,
              "#fdca26"
             ],
             [
              1,
              "#f0f921"
             ]
            ],
            "type": "contour"
           }
          ],
          "contourcarpet": [
           {
            "colorbar": {
             "outlinewidth": 0,
             "ticks": ""
            },
            "type": "contourcarpet"
           }
          ],
          "heatmap": [
           {
            "colorbar": {
             "outlinewidth": 0,
             "ticks": ""
            },
            "colorscale": [
             [
              0,
              "#0d0887"
             ],
             [
              0.1111111111111111,
              "#46039f"
             ],
             [
              0.2222222222222222,
              "#7201a8"
             ],
             [
              0.3333333333333333,
              "#9c179e"
             ],
             [
              0.4444444444444444,
              "#bd3786"
             ],
             [
              0.5555555555555556,
              "#d8576b"
             ],
             [
              0.6666666666666666,
              "#ed7953"
             ],
             [
              0.7777777777777778,
              "#fb9f3a"
             ],
             [
              0.8888888888888888,
              "#fdca26"
             ],
             [
              1,
              "#f0f921"
             ]
            ],
            "type": "heatmap"
           }
          ],
          "heatmapgl": [
           {
            "colorbar": {
             "outlinewidth": 0,
             "ticks": ""
            },
            "colorscale": [
             [
              0,
              "#0d0887"
             ],
             [
              0.1111111111111111,
              "#46039f"
             ],
             [
              0.2222222222222222,
              "#7201a8"
             ],
             [
              0.3333333333333333,
              "#9c179e"
             ],
             [
              0.4444444444444444,
              "#bd3786"
             ],
             [
              0.5555555555555556,
              "#d8576b"
             ],
             [
              0.6666666666666666,
              "#ed7953"
             ],
             [
              0.7777777777777778,
              "#fb9f3a"
             ],
             [
              0.8888888888888888,
              "#fdca26"
             ],
             [
              1,
              "#f0f921"
             ]
            ],
            "type": "heatmapgl"
           }
          ],
          "histogram": [
           {
            "marker": {
             "pattern": {
              "fillmode": "overlay",
              "size": 10,
              "solidity": 0.2
             }
            },
            "type": "histogram"
           }
          ],
          "histogram2d": [
           {
            "colorbar": {
             "outlinewidth": 0,
             "ticks": ""
            },
            "colorscale": [
             [
              0,
              "#0d0887"
             ],
             [
              0.1111111111111111,
              "#46039f"
             ],
             [
              0.2222222222222222,
              "#7201a8"
             ],
             [
              0.3333333333333333,
              "#9c179e"
             ],
             [
              0.4444444444444444,
              "#bd3786"
             ],
             [
              0.5555555555555556,
              "#d8576b"
             ],
             [
              0.6666666666666666,
              "#ed7953"
             ],
             [
              0.7777777777777778,
              "#fb9f3a"
             ],
             [
              0.8888888888888888,
              "#fdca26"
             ],
             [
              1,
              "#f0f921"
             ]
            ],
            "type": "histogram2d"
           }
          ],
          "histogram2dcontour": [
           {
            "colorbar": {
             "outlinewidth": 0,
             "ticks": ""
            },
            "colorscale": [
             [
              0,
              "#0d0887"
             ],
             [
              0.1111111111111111,
              "#46039f"
             ],
             [
              0.2222222222222222,
              "#7201a8"
             ],
             [
              0.3333333333333333,
              "#9c179e"
             ],
             [
              0.4444444444444444,
              "#bd3786"
             ],
             [
              0.5555555555555556,
              "#d8576b"
             ],
             [
              0.6666666666666666,
              "#ed7953"
             ],
             [
              0.7777777777777778,
              "#fb9f3a"
             ],
             [
              0.8888888888888888,
              "#fdca26"
             ],
             [
              1,
              "#f0f921"
             ]
            ],
            "type": "histogram2dcontour"
           }
          ],
          "mesh3d": [
           {
            "colorbar": {
             "outlinewidth": 0,
             "ticks": ""
            },
            "type": "mesh3d"
           }
          ],
          "parcoords": [
           {
            "line": {
             "colorbar": {
              "outlinewidth": 0,
              "ticks": ""
             }
            },
            "type": "parcoords"
           }
          ],
          "pie": [
           {
            "automargin": true,
            "type": "pie"
           }
          ],
          "scatter": [
           {
            "fillpattern": {
             "fillmode": "overlay",
             "size": 10,
             "solidity": 0.2
            },
            "type": "scatter"
           }
          ],
          "scatter3d": [
           {
            "line": {
             "colorbar": {
              "outlinewidth": 0,
              "ticks": ""
             }
            },
            "marker": {
             "colorbar": {
              "outlinewidth": 0,
              "ticks": ""
             }
            },
            "type": "scatter3d"
           }
          ],
          "scattercarpet": [
           {
            "marker": {
             "colorbar": {
              "outlinewidth": 0,
              "ticks": ""
             }
            },
            "type": "scattercarpet"
           }
          ],
          "scattergeo": [
           {
            "marker": {
             "colorbar": {
              "outlinewidth": 0,
              "ticks": ""
             }
            },
            "type": "scattergeo"
           }
          ],
          "scattergl": [
           {
            "marker": {
             "colorbar": {
              "outlinewidth": 0,
              "ticks": ""
             }
            },
            "type": "scattergl"
           }
          ],
          "scattermapbox": [
           {
            "marker": {
             "colorbar": {
              "outlinewidth": 0,
              "ticks": ""
             }
            },
            "type": "scattermapbox"
           }
          ],
          "scatterpolar": [
           {
            "marker": {
             "colorbar": {
              "outlinewidth": 0,
              "ticks": ""
             }
            },
            "type": "scatterpolar"
           }
          ],
          "scatterpolargl": [
           {
            "marker": {
             "colorbar": {
              "outlinewidth": 0,
              "ticks": ""
             }
            },
            "type": "scatterpolargl"
           }
          ],
          "scatterternary": [
           {
            "marker": {
             "colorbar": {
              "outlinewidth": 0,
              "ticks": ""
             }
            },
            "type": "scatterternary"
           }
          ],
          "surface": [
           {
            "colorbar": {
             "outlinewidth": 0,
             "ticks": ""
            },
            "colorscale": [
             [
              0,
              "#0d0887"
             ],
             [
              0.1111111111111111,
              "#46039f"
             ],
             [
              0.2222222222222222,
              "#7201a8"
             ],
             [
              0.3333333333333333,
              "#9c179e"
             ],
             [
              0.4444444444444444,
              "#bd3786"
             ],
             [
              0.5555555555555556,
              "#d8576b"
             ],
             [
              0.6666666666666666,
              "#ed7953"
             ],
             [
              0.7777777777777778,
              "#fb9f3a"
             ],
             [
              0.8888888888888888,
              "#fdca26"
             ],
             [
              1,
              "#f0f921"
             ]
            ],
            "type": "surface"
           }
          ],
          "table": [
           {
            "cells": {
             "fill": {
              "color": "#EBF0F8"
             },
             "line": {
              "color": "white"
             }
            },
            "header": {
             "fill": {
              "color": "#C8D4E3"
             },
             "line": {
              "color": "white"
             }
            },
            "type": "table"
           }
          ]
         },
         "layout": {
          "annotationdefaults": {
           "arrowcolor": "#2a3f5f",
           "arrowhead": 0,
           "arrowwidth": 1
          },
          "autotypenumbers": "strict",
          "coloraxis": {
           "colorbar": {
            "outlinewidth": 0,
            "ticks": ""
           }
          },
          "colorscale": {
           "diverging": [
            [
             0,
             "#8e0152"
            ],
            [
             0.1,
             "#c51b7d"
            ],
            [
             0.2,
             "#de77ae"
            ],
            [
             0.3,
             "#f1b6da"
            ],
            [
             0.4,
             "#fde0ef"
            ],
            [
             0.5,
             "#f7f7f7"
            ],
            [
             0.6,
             "#e6f5d0"
            ],
            [
             0.7,
             "#b8e186"
            ],
            [
             0.8,
             "#7fbc41"
            ],
            [
             0.9,
             "#4d9221"
            ],
            [
             1,
             "#276419"
            ]
           ],
           "sequential": [
            [
             0,
             "#0d0887"
            ],
            [
             0.1111111111111111,
             "#46039f"
            ],
            [
             0.2222222222222222,
             "#7201a8"
            ],
            [
             0.3333333333333333,
             "#9c179e"
            ],
            [
             0.4444444444444444,
             "#bd3786"
            ],
            [
             0.5555555555555556,
             "#d8576b"
            ],
            [
             0.6666666666666666,
             "#ed7953"
            ],
            [
             0.7777777777777778,
             "#fb9f3a"
            ],
            [
             0.8888888888888888,
             "#fdca26"
            ],
            [
             1,
             "#f0f921"
            ]
           ],
           "sequentialminus": [
            [
             0,
             "#0d0887"
            ],
            [
             0.1111111111111111,
             "#46039f"
            ],
            [
             0.2222222222222222,
             "#7201a8"
            ],
            [
             0.3333333333333333,
             "#9c179e"
            ],
            [
             0.4444444444444444,
             "#bd3786"
            ],
            [
             0.5555555555555556,
             "#d8576b"
            ],
            [
             0.6666666666666666,
             "#ed7953"
            ],
            [
             0.7777777777777778,
             "#fb9f3a"
            ],
            [
             0.8888888888888888,
             "#fdca26"
            ],
            [
             1,
             "#f0f921"
            ]
           ]
          },
          "colorway": [
           "#636efa",
           "#EF553B",
           "#00cc96",
           "#ab63fa",
           "#FFA15A",
           "#19d3f3",
           "#FF6692",
           "#B6E880",
           "#FF97FF",
           "#FECB52"
          ],
          "font": {
           "color": "#2a3f5f"
          },
          "geo": {
           "bgcolor": "white",
           "lakecolor": "white",
           "landcolor": "#E5ECF6",
           "showlakes": true,
           "showland": true,
           "subunitcolor": "white"
          },
          "hoverlabel": {
           "align": "left"
          },
          "hovermode": "closest",
          "mapbox": {
           "style": "light"
          },
          "paper_bgcolor": "white",
          "plot_bgcolor": "#E5ECF6",
          "polar": {
           "angularaxis": {
            "gridcolor": "white",
            "linecolor": "white",
            "ticks": ""
           },
           "bgcolor": "#E5ECF6",
           "radialaxis": {
            "gridcolor": "white",
            "linecolor": "white",
            "ticks": ""
           }
          },
          "scene": {
           "xaxis": {
            "backgroundcolor": "#E5ECF6",
            "gridcolor": "white",
            "gridwidth": 2,
            "linecolor": "white",
            "showbackground": true,
            "ticks": "",
            "zerolinecolor": "white"
           },
           "yaxis": {
            "backgroundcolor": "#E5ECF6",
            "gridcolor": "white",
            "gridwidth": 2,
            "linecolor": "white",
            "showbackground": true,
            "ticks": "",
            "zerolinecolor": "white"
           },
           "zaxis": {
            "backgroundcolor": "#E5ECF6",
            "gridcolor": "white",
            "gridwidth": 2,
            "linecolor": "white",
            "showbackground": true,
            "ticks": "",
            "zerolinecolor": "white"
           }
          },
          "shapedefaults": {
           "line": {
            "color": "#2a3f5f"
           }
          },
          "ternary": {
           "aaxis": {
            "gridcolor": "white",
            "linecolor": "white",
            "ticks": ""
           },
           "baxis": {
            "gridcolor": "white",
            "linecolor": "white",
            "ticks": ""
           },
           "bgcolor": "#E5ECF6",
           "caxis": {
            "gridcolor": "white",
            "linecolor": "white",
            "ticks": ""
           }
          },
          "title": {
           "x": 0.05
          },
          "xaxis": {
           "automargin": true,
           "gridcolor": "white",
           "linecolor": "white",
           "ticks": "",
           "title": {
            "standoff": 15
           },
           "zerolinecolor": "white",
           "zerolinewidth": 2
          },
          "yaxis": {
           "automargin": true,
           "gridcolor": "white",
           "linecolor": "white",
           "ticks": "",
           "title": {
            "standoff": 15
           },
           "zerolinecolor": "white",
           "zerolinewidth": 2
          }
         }
        },
        "title": {
         "font": {
          "color": "black"
         },
         "text": "Average Test F1 Score for avg confidence"
        },
        "xaxis": {
         "tickfont": {
          "color": "black"
         },
         "title": {
          "font": {
           "color": "black",
           "family": "Arial"
          },
          "text": "Amount of Training Samples"
         },
         "type": "log"
        },
        "yaxis": {
         "tickfont": {
          "color": "black"
         },
         "title": {
          "font": {
           "color": "black",
           "family": "Arial"
          },
          "text": "Test F1 Score"
         }
        }
       }
      },
      "text/html": [
       "<div>                            <div id=\"82124744-0e1e-4a36-9e9b-2e5506850e37\" class=\"plotly-graph-div\" style=\"height:525px; width:100%;\"></div>            <script type=\"text/javascript\">                require([\"plotly\"], function(Plotly) {                    window.PLOTLYENV=window.PLOTLYENV || {};                                    if (document.getElementById(\"82124744-0e1e-4a36-9e9b-2e5506850e37\")) {                    Plotly.newPlot(                        \"82124744-0e1e-4a36-9e9b-2e5506850e37\",                        [{\"line\":{\"color\":\"rgb(149, 162, 171)\",\"dash\":\"dash\",\"width\":1},\"mode\":\"lines\",\"showlegend\":false,\"x\":[8,8],\"y\":[0,1.12],\"type\":\"scatter\"},{\"marker\":{\"size\":0},\"mode\":\"text\",\"showlegend\":false,\"text\":[\"8\"],\"textfont\":{\"color\":\"black\",\"family\":\"Arial\",\"size\":8.5},\"textposition\":\"top center\",\"x\":[8],\"y\":[1.13],\"type\":\"scatter\"},{\"line\":{\"color\":\"rgb(149, 162, 171)\",\"dash\":\"dash\",\"width\":1},\"mode\":\"lines\",\"showlegend\":false,\"x\":[24,24],\"y\":[0,1.12],\"type\":\"scatter\"},{\"marker\":{\"size\":0},\"mode\":\"text\",\"showlegend\":false,\"text\":[\"24\"],\"textfont\":{\"color\":\"black\",\"family\":\"Arial\",\"size\":8.5},\"textposition\":\"top center\",\"x\":[24],\"y\":[1.13],\"type\":\"scatter\"},{\"line\":{\"color\":\"rgb(149, 162, 171)\",\"dash\":\"dash\",\"width\":1},\"mode\":\"lines\",\"showlegend\":false,\"x\":[56,56],\"y\":[0,1.12],\"type\":\"scatter\"},{\"marker\":{\"size\":0},\"mode\":\"text\",\"showlegend\":false,\"text\":[\"56\"],\"textfont\":{\"color\":\"black\",\"family\":\"Arial\",\"size\":8.5},\"textposition\":\"top center\",\"x\":[56],\"y\":[1.13],\"type\":\"scatter\"},{\"line\":{\"color\":\"rgb(149, 162, 171)\",\"dash\":\"dash\",\"width\":1},\"mode\":\"lines\",\"showlegend\":false,\"x\":[112,112],\"y\":[0,1.12],\"type\":\"scatter\"},{\"marker\":{\"size\":0},\"mode\":\"text\",\"showlegend\":false,\"text\":[\"112\"],\"textfont\":{\"color\":\"black\",\"family\":\"Arial\",\"size\":8.5},\"textposition\":\"top center\",\"x\":[112],\"y\":[1.13],\"type\":\"scatter\"},{\"line\":{\"color\":\"rgb(149, 162, 171)\",\"dash\":\"dash\",\"width\":1},\"mode\":\"lines\",\"showlegend\":false,\"x\":[208,208],\"y\":[0,1.12],\"type\":\"scatter\"},{\"marker\":{\"size\":0},\"mode\":\"text\",\"showlegend\":false,\"text\":[\"208\"],\"textfont\":{\"color\":\"black\",\"family\":\"Arial\",\"size\":8.5},\"textposition\":\"top center\",\"x\":[208],\"y\":[1.13],\"type\":\"scatter\"},{\"line\":{\"color\":\"rgb(149, 162, 171)\",\"dash\":\"dash\",\"width\":1},\"mode\":\"lines\",\"showlegend\":false,\"x\":[384,384],\"y\":[0,1.12],\"type\":\"scatter\"},{\"marker\":{\"size\":0},\"mode\":\"text\",\"showlegend\":false,\"text\":[\"384\"],\"textfont\":{\"color\":\"black\",\"family\":\"Arial\",\"size\":8.5},\"textposition\":\"top center\",\"x\":[384],\"y\":[1.13],\"type\":\"scatter\"},{\"line\":{\"color\":\"rgb(149, 162, 171)\",\"dash\":\"dash\",\"width\":1},\"mode\":\"lines\",\"showlegend\":false,\"x\":[704,704],\"y\":[0,1.12],\"type\":\"scatter\"},{\"marker\":{\"size\":0},\"mode\":\"text\",\"showlegend\":false,\"text\":[\"704\"],\"textfont\":{\"color\":\"black\",\"family\":\"Arial\",\"size\":8.5},\"textposition\":\"top center\",\"x\":[704],\"y\":[1.13],\"type\":\"scatter\"},{\"line\":{\"color\":\"rgb(149, 162, 171)\",\"dash\":\"dash\",\"width\":1},\"mode\":\"lines\",\"showlegend\":false,\"x\":[1264,1264],\"y\":[0,1.12],\"type\":\"scatter\"},{\"marker\":{\"size\":0},\"mode\":\"text\",\"showlegend\":false,\"text\":[\"1264\"],\"textfont\":{\"color\":\"black\",\"family\":\"Arial\",\"size\":8.5},\"textposition\":\"top center\",\"x\":[1264],\"y\":[1.13],\"type\":\"scatter\"},{\"line\":{\"color\":\"rgb(149, 162, 171)\",\"dash\":\"dash\",\"width\":1},\"mode\":\"lines\",\"showlegend\":false,\"x\":[2264,2264],\"y\":[0,1.12],\"type\":\"scatter\"},{\"marker\":{\"size\":0},\"mode\":\"text\",\"showlegend\":false,\"text\":[\"2264\"],\"textfont\":{\"color\":\"black\",\"family\":\"Arial\",\"size\":8.5},\"textposition\":\"top center\",\"x\":[2264],\"y\":[1.13],\"type\":\"scatter\"},{\"line\":{\"color\":\"rgb(149, 162, 171)\",\"dash\":\"dash\",\"width\":1},\"mode\":\"lines\",\"showlegend\":false,\"x\":[4040,4040],\"y\":[0,1.12],\"type\":\"scatter\"},{\"marker\":{\"size\":0},\"mode\":\"text\",\"showlegend\":false,\"text\":[\"4040\"],\"textfont\":{\"color\":\"black\",\"family\":\"Arial\",\"size\":8.5},\"textposition\":\"top center\",\"x\":[4040],\"y\":[1.13],\"type\":\"scatter\"},{\"line\":{\"color\":\"rgb(149, 162, 171)\",\"dash\":\"dash\",\"width\":1},\"mode\":\"lines\",\"showlegend\":false,\"x\":[7200,7200],\"y\":[0,1.12],\"type\":\"scatter\"},{\"marker\":{\"size\":0},\"mode\":\"text\",\"showlegend\":false,\"text\":[\"7200\"],\"textfont\":{\"color\":\"black\",\"family\":\"Arial\",\"size\":8.5},\"textposition\":\"top center\",\"x\":[7200],\"y\":[1.13],\"type\":\"scatter\"},{\"line\":{\"color\":\"rgb(149, 162, 171)\",\"dash\":\"dash\",\"width\":1},\"mode\":\"lines\",\"showlegend\":false,\"x\":[12824,12824],\"y\":[0,1.12],\"type\":\"scatter\"},{\"marker\":{\"size\":0},\"mode\":\"text\",\"showlegend\":false,\"text\":[\"12824\"],\"textfont\":{\"color\":\"black\",\"family\":\"Arial\",\"size\":8.5},\"textposition\":\"top center\",\"x\":[12824],\"y\":[1.13],\"type\":\"scatter\"},{\"line\":{\"color\":\"rgb(149, 162, 171)\",\"dash\":\"dash\",\"width\":1},\"mode\":\"lines\",\"showlegend\":false,\"x\":[22824,22824],\"y\":[0,1.12],\"type\":\"scatter\"},{\"marker\":{\"size\":0},\"mode\":\"text\",\"showlegend\":false,\"text\":[\"22824\"],\"textfont\":{\"color\":\"black\",\"family\":\"Arial\",\"size\":8.5},\"textposition\":\"top center\",\"x\":[22824],\"y\":[1.13],\"type\":\"scatter\"},{\"line\":{\"color\":\"rgb(149, 162, 171)\",\"dash\":\"dash\",\"width\":1},\"mode\":\"lines\",\"showlegend\":false,\"x\":[26880,26880],\"y\":[0,1.12],\"type\":\"scatter\"},{\"marker\":{\"size\":0},\"mode\":\"text\",\"showlegend\":false,\"text\":[\"26880\"],\"textfont\":{\"color\":\"black\",\"family\":\"Arial\",\"size\":8.5},\"textposition\":\"top center\",\"x\":[26880],\"y\":[1.13],\"type\":\"scatter\"},{\"line\":{\"width\":2},\"marker\":{\"color\":\"rgb(151,193,57)\"},\"name\":\"Test F1 score (0.897)\",\"textfont\":{\"family\":\"Arial\",\"size\":11},\"x\":[8,24,56,112,208,384,704,1264,2264,4040,7200,12824,22824,26880],\"y\":[0.39362083502797146,0.7075548502465133,0.8448441418963647,0.8420137147867357,0.8431197450345711,0.8827623275599943,0.8911929076144705,0.8776042617642106,0.898414385516356,0.912919790843756,0.8927597183576518,0.9180127282234974,0.91004571011426,0.8970211163265915],\"type\":\"scatter\"}],                        {\"template\":{\"data\":{\"histogram2dcontour\":[{\"type\":\"histogram2dcontour\",\"colorbar\":{\"outlinewidth\":0,\"ticks\":\"\"},\"colorscale\":[[0.0,\"#0d0887\"],[0.1111111111111111,\"#46039f\"],[0.2222222222222222,\"#7201a8\"],[0.3333333333333333,\"#9c179e\"],[0.4444444444444444,\"#bd3786\"],[0.5555555555555556,\"#d8576b\"],[0.6666666666666666,\"#ed7953\"],[0.7777777777777778,\"#fb9f3a\"],[0.8888888888888888,\"#fdca26\"],[1.0,\"#f0f921\"]]}],\"choropleth\":[{\"type\":\"choropleth\",\"colorbar\":{\"outlinewidth\":0,\"ticks\":\"\"}}],\"histogram2d\":[{\"type\":\"histogram2d\",\"colorbar\":{\"outlinewidth\":0,\"ticks\":\"\"},\"colorscale\":[[0.0,\"#0d0887\"],[0.1111111111111111,\"#46039f\"],[0.2222222222222222,\"#7201a8\"],[0.3333333333333333,\"#9c179e\"],[0.4444444444444444,\"#bd3786\"],[0.5555555555555556,\"#d8576b\"],[0.6666666666666666,\"#ed7953\"],[0.7777777777777778,\"#fb9f3a\"],[0.8888888888888888,\"#fdca26\"],[1.0,\"#f0f921\"]]}],\"heatmap\":[{\"type\":\"heatmap\",\"colorbar\":{\"outlinewidth\":0,\"ticks\":\"\"},\"colorscale\":[[0.0,\"#0d0887\"],[0.1111111111111111,\"#46039f\"],[0.2222222222222222,\"#7201a8\"],[0.3333333333333333,\"#9c179e\"],[0.4444444444444444,\"#bd3786\"],[0.5555555555555556,\"#d8576b\"],[0.6666666666666666,\"#ed7953\"],[0.7777777777777778,\"#fb9f3a\"],[0.8888888888888888,\"#fdca26\"],[1.0,\"#f0f921\"]]}],\"heatmapgl\":[{\"type\":\"heatmapgl\",\"colorbar\":{\"outlinewidth\":0,\"ticks\":\"\"},\"colorscale\":[[0.0,\"#0d0887\"],[0.1111111111111111,\"#46039f\"],[0.2222222222222222,\"#7201a8\"],[0.3333333333333333,\"#9c179e\"],[0.4444444444444444,\"#bd3786\"],[0.5555555555555556,\"#d8576b\"],[0.6666666666666666,\"#ed7953\"],[0.7777777777777778,\"#fb9f3a\"],[0.8888888888888888,\"#fdca26\"],[1.0,\"#f0f921\"]]}],\"contourcarpet\":[{\"type\":\"contourcarpet\",\"colorbar\":{\"outlinewidth\":0,\"ticks\":\"\"}}],\"contour\":[{\"type\":\"contour\",\"colorbar\":{\"outlinewidth\":0,\"ticks\":\"\"},\"colorscale\":[[0.0,\"#0d0887\"],[0.1111111111111111,\"#46039f\"],[0.2222222222222222,\"#7201a8\"],[0.3333333333333333,\"#9c179e\"],[0.4444444444444444,\"#bd3786\"],[0.5555555555555556,\"#d8576b\"],[0.6666666666666666,\"#ed7953\"],[0.7777777777777778,\"#fb9f3a\"],[0.8888888888888888,\"#fdca26\"],[1.0,\"#f0f921\"]]}],\"surface\":[{\"type\":\"surface\",\"colorbar\":{\"outlinewidth\":0,\"ticks\":\"\"},\"colorscale\":[[0.0,\"#0d0887\"],[0.1111111111111111,\"#46039f\"],[0.2222222222222222,\"#7201a8\"],[0.3333333333333333,\"#9c179e\"],[0.4444444444444444,\"#bd3786\"],[0.5555555555555556,\"#d8576b\"],[0.6666666666666666,\"#ed7953\"],[0.7777777777777778,\"#fb9f3a\"],[0.8888888888888888,\"#fdca26\"],[1.0,\"#f0f921\"]]}],\"mesh3d\":[{\"type\":\"mesh3d\",\"colorbar\":{\"outlinewidth\":0,\"ticks\":\"\"}}],\"scatter\":[{\"fillpattern\":{\"fillmode\":\"overlay\",\"size\":10,\"solidity\":0.2},\"type\":\"scatter\"}],\"parcoords\":[{\"type\":\"parcoords\",\"line\":{\"colorbar\":{\"outlinewidth\":0,\"ticks\":\"\"}}}],\"scatterpolargl\":[{\"type\":\"scatterpolargl\",\"marker\":{\"colorbar\":{\"outlinewidth\":0,\"ticks\":\"\"}}}],\"bar\":[{\"error_x\":{\"color\":\"#2a3f5f\"},\"error_y\":{\"color\":\"#2a3f5f\"},\"marker\":{\"line\":{\"color\":\"#E5ECF6\",\"width\":0.5},\"pattern\":{\"fillmode\":\"overlay\",\"size\":10,\"solidity\":0.2}},\"type\":\"bar\"}],\"scattergeo\":[{\"type\":\"scattergeo\",\"marker\":{\"colorbar\":{\"outlinewidth\":0,\"ticks\":\"\"}}}],\"scatterpolar\":[{\"type\":\"scatterpolar\",\"marker\":{\"colorbar\":{\"outlinewidth\":0,\"ticks\":\"\"}}}],\"histogram\":[{\"marker\":{\"pattern\":{\"fillmode\":\"overlay\",\"size\":10,\"solidity\":0.2}},\"type\":\"histogram\"}],\"scattergl\":[{\"type\":\"scattergl\",\"marker\":{\"colorbar\":{\"outlinewidth\":0,\"ticks\":\"\"}}}],\"scatter3d\":[{\"type\":\"scatter3d\",\"line\":{\"colorbar\":{\"outlinewidth\":0,\"ticks\":\"\"}},\"marker\":{\"colorbar\":{\"outlinewidth\":0,\"ticks\":\"\"}}}],\"scattermapbox\":[{\"type\":\"scattermapbox\",\"marker\":{\"colorbar\":{\"outlinewidth\":0,\"ticks\":\"\"}}}],\"scatterternary\":[{\"type\":\"scatterternary\",\"marker\":{\"colorbar\":{\"outlinewidth\":0,\"ticks\":\"\"}}}],\"scattercarpet\":[{\"type\":\"scattercarpet\",\"marker\":{\"colorbar\":{\"outlinewidth\":0,\"ticks\":\"\"}}}],\"carpet\":[{\"aaxis\":{\"endlinecolor\":\"#2a3f5f\",\"gridcolor\":\"white\",\"linecolor\":\"white\",\"minorgridcolor\":\"white\",\"startlinecolor\":\"#2a3f5f\"},\"baxis\":{\"endlinecolor\":\"#2a3f5f\",\"gridcolor\":\"white\",\"linecolor\":\"white\",\"minorgridcolor\":\"white\",\"startlinecolor\":\"#2a3f5f\"},\"type\":\"carpet\"}],\"table\":[{\"cells\":{\"fill\":{\"color\":\"#EBF0F8\"},\"line\":{\"color\":\"white\"}},\"header\":{\"fill\":{\"color\":\"#C8D4E3\"},\"line\":{\"color\":\"white\"}},\"type\":\"table\"}],\"barpolar\":[{\"marker\":{\"line\":{\"color\":\"#E5ECF6\",\"width\":0.5},\"pattern\":{\"fillmode\":\"overlay\",\"size\":10,\"solidity\":0.2}},\"type\":\"barpolar\"}],\"pie\":[{\"automargin\":true,\"type\":\"pie\"}]},\"layout\":{\"autotypenumbers\":\"strict\",\"colorway\":[\"#636efa\",\"#EF553B\",\"#00cc96\",\"#ab63fa\",\"#FFA15A\",\"#19d3f3\",\"#FF6692\",\"#B6E880\",\"#FF97FF\",\"#FECB52\"],\"font\":{\"color\":\"#2a3f5f\"},\"hovermode\":\"closest\",\"hoverlabel\":{\"align\":\"left\"},\"paper_bgcolor\":\"white\",\"plot_bgcolor\":\"#E5ECF6\",\"polar\":{\"bgcolor\":\"#E5ECF6\",\"angularaxis\":{\"gridcolor\":\"white\",\"linecolor\":\"white\",\"ticks\":\"\"},\"radialaxis\":{\"gridcolor\":\"white\",\"linecolor\":\"white\",\"ticks\":\"\"}},\"ternary\":{\"bgcolor\":\"#E5ECF6\",\"aaxis\":{\"gridcolor\":\"white\",\"linecolor\":\"white\",\"ticks\":\"\"},\"baxis\":{\"gridcolor\":\"white\",\"linecolor\":\"white\",\"ticks\":\"\"},\"caxis\":{\"gridcolor\":\"white\",\"linecolor\":\"white\",\"ticks\":\"\"}},\"coloraxis\":{\"colorbar\":{\"outlinewidth\":0,\"ticks\":\"\"}},\"colorscale\":{\"sequential\":[[0.0,\"#0d0887\"],[0.1111111111111111,\"#46039f\"],[0.2222222222222222,\"#7201a8\"],[0.3333333333333333,\"#9c179e\"],[0.4444444444444444,\"#bd3786\"],[0.5555555555555556,\"#d8576b\"],[0.6666666666666666,\"#ed7953\"],[0.7777777777777778,\"#fb9f3a\"],[0.8888888888888888,\"#fdca26\"],[1.0,\"#f0f921\"]],\"sequentialminus\":[[0.0,\"#0d0887\"],[0.1111111111111111,\"#46039f\"],[0.2222222222222222,\"#7201a8\"],[0.3333333333333333,\"#9c179e\"],[0.4444444444444444,\"#bd3786\"],[0.5555555555555556,\"#d8576b\"],[0.6666666666666666,\"#ed7953\"],[0.7777777777777778,\"#fb9f3a\"],[0.8888888888888888,\"#fdca26\"],[1.0,\"#f0f921\"]],\"diverging\":[[0,\"#8e0152\"],[0.1,\"#c51b7d\"],[0.2,\"#de77ae\"],[0.3,\"#f1b6da\"],[0.4,\"#fde0ef\"],[0.5,\"#f7f7f7\"],[0.6,\"#e6f5d0\"],[0.7,\"#b8e186\"],[0.8,\"#7fbc41\"],[0.9,\"#4d9221\"],[1,\"#276419\"]]},\"xaxis\":{\"gridcolor\":\"white\",\"linecolor\":\"white\",\"ticks\":\"\",\"title\":{\"standoff\":15},\"zerolinecolor\":\"white\",\"automargin\":true,\"zerolinewidth\":2},\"yaxis\":{\"gridcolor\":\"white\",\"linecolor\":\"white\",\"ticks\":\"\",\"title\":{\"standoff\":15},\"zerolinecolor\":\"white\",\"automargin\":true,\"zerolinewidth\":2},\"scene\":{\"xaxis\":{\"backgroundcolor\":\"#E5ECF6\",\"gridcolor\":\"white\",\"linecolor\":\"white\",\"showbackground\":true,\"ticks\":\"\",\"zerolinecolor\":\"white\",\"gridwidth\":2},\"yaxis\":{\"backgroundcolor\":\"#E5ECF6\",\"gridcolor\":\"white\",\"linecolor\":\"white\",\"showbackground\":true,\"ticks\":\"\",\"zerolinecolor\":\"white\",\"gridwidth\":2},\"zaxis\":{\"backgroundcolor\":\"#E5ECF6\",\"gridcolor\":\"white\",\"linecolor\":\"white\",\"showbackground\":true,\"ticks\":\"\",\"zerolinecolor\":\"white\",\"gridwidth\":2}},\"shapedefaults\":{\"line\":{\"color\":\"#2a3f5f\"}},\"annotationdefaults\":{\"arrowcolor\":\"#2a3f5f\",\"arrowhead\":0,\"arrowwidth\":1},\"geo\":{\"bgcolor\":\"white\",\"landcolor\":\"#E5ECF6\",\"subunitcolor\":\"white\",\"showland\":true,\"showlakes\":true,\"lakecolor\":\"white\"},\"title\":{\"x\":0.05},\"mapbox\":{\"style\":\"light\"}}},\"plot_bgcolor\":\"rgb(209, 217, 222)\",\"title\":{\"font\":{\"color\":\"black\"},\"text\":\"Average Test F1 Score for avg confidence\"},\"legend\":{\"font\":{\"color\":\"black\",\"family\":\"Arial\"}},\"xaxis\":{\"title\":{\"font\":{\"color\":\"black\",\"family\":\"Arial\"},\"text\":\"Amount of Training Samples\"},\"tickfont\":{\"color\":\"black\"},\"type\":\"log\"},\"yaxis\":{\"title\":{\"font\":{\"color\":\"black\",\"family\":\"Arial\"},\"text\":\"Test F1 Score\"},\"tickfont\":{\"color\":\"black\"}}},                        {\"responsive\": true}                    ).then(function(){\n",
       "                            \n",
       "var gd = document.getElementById('82124744-0e1e-4a36-9e9b-2e5506850e37');\n",
       "var x = new MutationObserver(function (mutations, observer) {{\n",
       "        var display = window.getComputedStyle(gd).display;\n",
       "        if (!display || display === 'none') {{\n",
       "            console.log([gd, 'removed!']);\n",
       "            Plotly.purge(gd);\n",
       "            observer.disconnect();\n",
       "        }}\n",
       "}});\n",
       "\n",
       "// Listen for the removal of the full notebook cells\n",
       "var notebookContainer = gd.closest('#notebook-container');\n",
       "if (notebookContainer) {{\n",
       "    x.observe(notebookContainer, {childList: true});\n",
       "}}\n",
       "\n",
       "// Listen for the clearing of the current output cell\n",
       "var outputEl = gd.closest('.output');\n",
       "if (outputEl) {{\n",
       "    x.observe(outputEl, {childList: true});\n",
       "}}\n",
       "\n",
       "                        })                };                });            </script>        </div>"
      ]
     },
     "metadata": {},
     "output_type": "display_data"
    }
   ],
   "source": [
    "import pickle\n",
    "import pandas as pd\n",
    "import numpy as np\n",
    "import plotly.graph_objects as go\n",
    "import plotly.subplots as subplots\n",
    "import os\n",
    "\n",
    "# Define the root folder\n",
    "root_folder = \"/home/woody/iwfa/iwfa044h/CleanLab_Test/ActiveLearningApproaches/EOD/EfficientNet/multilabel/AL/avg_confidence\"\n",
    "\n",
    "# Folder names for all runs\n",
    "run_folders = [f\"run{i}\" for i in range(1, 3)]\n",
    "\n",
    "# Define corresponding filenames\n",
    "pickle_filenames = [f\"AL_average_confidence_results_for_multilabel_classification_s4{i+2}.pickle\" for i in range(2)]\n",
    "csv_filenames = [f\"training_history_s4{i+2}.csv\" for i in range(3)]\n",
    "\n",
    "# Initialize accumulators for averaging\n",
    "performance_test_data_all = []\n",
    "performance_all = []\n",
    "\n",
    "# Number of samples for each iteration\n",
    "no_of_samples = [8, 24, 56, 112, 208, 384, 704, 1264, 2264, 4040, 7200, 12824, 22824, 26880]\n",
    "\n",
    "# Loop through each run folder and collect the data\n",
    "for i in range(2):\n",
    "    # Construct file paths\n",
    "    pickle_path = os.path.join(root_folder, run_folders[i], pickle_filenames[i])\n",
    "    csv_path = os.path.join(root_folder, run_folders[i], csv_filenames[i])\n",
    "    \n",
    "    # Print which pickle file is being loaded\n",
    "    print(f\"Loading pickle file for run {i+1}: {pickle_path}\")\n",
    "    \n",
    "    # Load test F1 scores from pickle file\n",
    "    with open(pickle_path, 'rb') as pickle_file:\n",
    "        average_confidence_results = pickle.load(pickle_file)\n",
    "        performance_test_data_all.append(average_confidence_results[\"test_f1_scores_macro\"])\n",
    "    \n",
    "    # Print which CSV file is being loaded\n",
    "    print(f\"Loading CSV file for run {i+1}: {csv_path}\")\n",
    "    \n",
    "    # Load CSV for validation loss and F1 scores\n",
    "    df = pd.read_csv(csv_path)\n",
    "    df['iteration'] = (df['epoch'] == 1).cumsum()\n",
    "    \n",
    "    performance = []\n",
    "    for j in range(1, 15):  # Start from 2 and go up to 14 (inclusive)\n",
    "        iteration_data = df[df['iteration'] == j]\n",
    "        performance.append({\n",
    "            'val_loss': iteration_data['valid_loss'].tolist(),\n",
    "            'val_f1_score': iteration_data['valid_f1'].tolist()\n",
    "        })\n",
    "    \n",
    "    performance_all.append(performance)\n",
    "\n",
    "# Aggregate results\n",
    "min_length = min(len(no_of_samples), *[len(perf) for perf in performance_all])\n",
    "no_of_samples = no_of_samples[:min_length]\n",
    "\n",
    "average_performance = []\n",
    "for i in range(min_length):\n",
    "    avg_val_loss = np.mean([run[i]['val_loss'][-1] for run in performance_all])\n",
    "    avg_val_f1 = np.mean([run[i]['val_f1_score'][-1] for run in performance_all])\n",
    "    average_performance.append({'val_loss': avg_val_loss, 'val_f1_score': avg_val_f1})\n",
    "\n",
    "average_test_f1 = np.mean(performance_test_data_all, axis=0)\n",
    "\n",
    "def plot_validation_performance(performance, no_of_samples, min_max_values, title, x_axes, y_axes, y_axes_secondary):\n",
    "    fig = subplots.make_subplots(specs=[[{\"secondary_y\": True}]])\n",
    "    fig.update_layout(plot_bgcolor='rgb(209, 217, 222)')\n",
    "\n",
    "    # Add dashed lines for sample numbers and text labels on top of the graph\n",
    "    samples_text = [str(f) for f in no_of_samples]\n",
    "    for i, (line, label) in enumerate(zip(no_of_samples, samples_text)):\n",
    "        fig.add_trace(go.Scatter(\n",
    "            x=[line, line],\n",
    "            y=[0, 2.3],\n",
    "            mode='lines',\n",
    "            line=dict(dash='dash', color='rgb(149, 162, 171)', width=1),\n",
    "            showlegend=False\n",
    "        ))\n",
    "\n",
    "        # Adjust the y-position for the last value to avoid collision\n",
    "        y_position = 2.31 if i < len(no_of_samples) - 1 else 2.26\n",
    "\n",
    "        fig.add_trace(go.Scatter(\n",
    "            x=[line],\n",
    "            y=[y_position],\n",
    "            mode='text',\n",
    "            marker=dict(size=0),\n",
    "            text=[label],\n",
    "            textposition='top center',\n",
    "            showlegend=False,\n",
    "            textfont=dict(family='Arial', color='black', size=8.5)\n",
    "        ))\n",
    "\n",
    "    # Adjust the y-axis range to avoid extra space\n",
    "    fig.update_yaxes(range=[0.3, 0.75], secondary_y=False)\n",
    "    fig.update_yaxes(range=[0, 1], secondary_y=True)\n",
    "    \n",
    "    loss = []\n",
    "    f1 = []\n",
    "\n",
    "    for i in range(len(performance)):\n",
    "        if isinstance(performance[i], dict):\n",
    "            # Ensure that the keys 'val_loss' and 'val_f1_score' are present in each entry\n",
    "            if \"val_loss\" in performance[i] and \"val_f1_score\" in performance[i]:\n",
    "                loss.append(performance[i][\"val_loss\"])  # Directly collect the scalar validation loss\n",
    "                f1.append(performance[i][\"val_f1_score\"])  # Directly collect the scalar validation F1 score\n",
    "            else:\n",
    "                print(f\"Missing 'val_loss' or 'val_f1_score' in performance entry {i}\")\n",
    "        else:\n",
    "            print(f\"Invalid performance entry at index {i}, expected dictionary, got {type(performance[i])}\")\n",
    "\n",
    "    # Add the shaded region (fluctuation range) for validation loss\n",
    "    min_val_loss, max_val_loss, min_val_f1, max_val_f1 = min_max_values\n",
    "    fig.add_trace(go.Scatter(\n",
    "        x=no_of_samples + no_of_samples[::-1],\n",
    "        y=list(max_val_loss) + list(min_val_loss)[::-1],\n",
    "        fill='toself',\n",
    "        fillcolor='rgba(97, 192, 134, 0.2)',  # Add transparency\n",
    "        line=dict(width=0),  # No border for shaded region\n",
    "        showlegend=False  # Don't show a separate legend entry for the shaded region\n",
    "    ), secondary_y=False)\n",
    "\n",
    "    # Add the shaded region (fluctuation range) for validation F1 score\n",
    "    fig.add_trace(go.Scatter(\n",
    "        x=no_of_samples + no_of_samples[::-1],\n",
    "        y=list(max_val_f1) + list(min_val_f1)[::-1],\n",
    "        fill='toself',\n",
    "        fillcolor='rgba(245, 130, 31, 0.2)',  # Add transparency\n",
    "        line=dict(width=0),  # No border for shaded region\n",
    "        showlegend=False  # Don't show a separate legend entry for the shaded region\n",
    "    ), secondary_y=True)\n",
    "\n",
    "    # Add traces for validation loss and validation F1 score\n",
    "    fig.add_trace(go.Scatter(\n",
    "        x=no_of_samples,\n",
    "        y=loss,\n",
    "        name=f\"Val loss ({loss[-1]:.3f})\",\n",
    "        marker=dict(color='rgb(97,192,134)'),\n",
    "        textfont=dict(family=\"Arial\", size=11),\n",
    "        line=dict(width=2)\n",
    "    ), secondary_y=False)\n",
    "\n",
    "    fig.add_trace(go.Scatter(\n",
    "        x=no_of_samples,\n",
    "        y=f1,\n",
    "        name=f\"Val F1 score ({f1[-1]:.3f})\",\n",
    "        marker=dict(color='rgb(245,130,31)'),\n",
    "        textfont=dict(family=\"Arial\", size=11),\n",
    "        line=dict(width=2)\n",
    "    ), secondary_y=True)\n",
    "\n",
    "    fig.update_layout(\n",
    "        title_text=str(title),\n",
    "        legend=dict(font=dict(color='black', family=\"Arial\")),\n",
    "        title_font_color='black'\n",
    "    )\n",
    "\n",
    "    # Set the x-axis to be on a log scale\n",
    "    fig.update_xaxes(\n",
    "        title_text=str(x_axes),\n",
    "        title_font=dict(color=\"black\", family=\"Arial\"),\n",
    "        tickfont_color='black',\n",
    "        type=\"log\"\n",
    "    )\n",
    "\n",
    "    # Update y-axes for primary and secondary y-axes\n",
    "    fig.update_yaxes(\n",
    "        title_text=str(y_axes),\n",
    "        title_font=dict(color=\"black\", family=\"Arial\"),\n",
    "        tickfont_color='black',\n",
    "        secondary_y=False\n",
    "    )\n",
    "\n",
    "    fig.update_yaxes(\n",
    "        title_text=str(y_axes_secondary),\n",
    "        title_font=dict(color=\"black\", family=\"Arial\"),\n",
    "        tickfont_color='black',\n",
    "        secondary_y=True\n",
    "    )\n",
    "\n",
    "    fig.show()\n",
    "\n",
    "def plot_test_performance(no_of_samples, performance_test_data, title, x_axes, y_axes):\n",
    "    fig = go.Figure()\n",
    "    fig.update_layout(plot_bgcolor='rgb(209, 217, 222)')\n",
    "\n",
    "    # Add dashed lines for sample numbers and text labels on top of the graph\n",
    "    samples_text = [str(f) for f in no_of_samples]\n",
    "    for line, label in zip(no_of_samples, samples_text):\n",
    "        fig.add_trace(go.Scatter(\n",
    "            x=[line, line],\n",
    "            y=[0, 1.12],\n",
    "            mode='lines',\n",
    "            line=dict(dash='dash', color='rgb(149, 162, 171)', width=1),\n",
    "            showlegend=False\n",
    "        ))\n",
    "\n",
    "        fig.add_trace(go.Scatter(\n",
    "            x=[line],\n",
    "            y=[1.13],\n",
    "            mode='text',\n",
    "            marker=dict(size=0),\n",
    "            text=[label],\n",
    "            textposition='top center',\n",
    "            showlegend=False,\n",
    "            textfont=dict(family='Arial', color='black', size=8.5)\n",
    "        ))\n",
    "\n",
    "    # Add traces for test F1 score\n",
    "    fig.add_trace(go.Scatter(\n",
    "        x=no_of_samples,\n",
    "        y=performance_test_data,\n",
    "        name=f\"Test F1 score ({performance_test_data[-1]:.3f})\",\n",
    "        marker=dict(color='rgb(151,193,57)'),\n",
    "        textfont=dict(family=\"Arial\", size=11),\n",
    "        line=dict(width=2)\n",
    "    ))\n",
    "\n",
    "    fig.update_layout(\n",
    "        title_text=str(title),\n",
    "        legend=dict(font=dict(color='black', family='Arial')),\n",
    "        title_font_color='black'\n",
    "    )\n",
    "\n",
    "    # Set the x-axis to be on a log scale\n",
    "    fig.update_xaxes(\n",
    "        title_text=str(x_axes),\n",
    "        title_font=dict(color=\"black\", family=\"Arial\"),\n",
    "        tickfont_color='black',\n",
    "        type=\"log\"\n",
    "    )\n",
    "\n",
    "    # Update y-axis for test F1 score\n",
    "    fig.update_yaxes(\n",
    "        title_text=str(y_axes),\n",
    "        title_font=dict(color=\"black\", family=\"Arial\"),\n",
    "        tickfont_color='black'\n",
    "    )\n",
    "\n",
    "    fig.show()\n",
    "\n",
    "# Initialize lists to store validation loss and F1 score for each run\n",
    "val_loss_all = []\n",
    "val_f1_all = []\n",
    "\n",
    "# Loop through each run and collect the validation loss and F1 score\n",
    "for run in performance_all:\n",
    "    val_loss_run = [iteration['val_loss'][-1] for iteration in run]\n",
    "    val_f1_run = [iteration['val_f1_score'][-1] for iteration in run]\n",
    "    val_loss_all.append(val_loss_run)\n",
    "    val_f1_all.append(val_f1_run)\n",
    "\n",
    "# Convert to NumPy arrays for easier computation\n",
    "val_loss_all = np.array(val_loss_all)\n",
    "val_f1_all = np.array(val_f1_all)\n",
    "\n",
    "# Calculate min and max values for validation loss and F1 score\n",
    "min_val_loss = np.min(val_loss_all, axis=0)\n",
    "max_val_loss = np.max(val_loss_all, axis=0)\n",
    "min_val_f1 = np.min(val_f1_all, axis=0)\n",
    "max_val_f1 = np.max(val_f1_all, axis=0)\n",
    "\n",
    "# Assuming min_max_values for validation performance is calculated and stored in min_max_values_val\n",
    "min_max_values_val = (min_val_loss, max_val_loss, min_val_f1, max_val_f1)  # Replace with actual min and max values for validation loss and F1 score\n",
    "\n",
    "# Plot the average validation loss and F1 score (log scale x-axis)\n",
    "plot_validation_performance(\n",
    "    average_performance, \n",
    "    no_of_samples, \n",
    "    min_max_values_val,  # Pass the min_max_values for the shaded region\n",
    "    title=\"Average validation loss and macro F1 score for average_confidence\",\n",
    "    x_axes=\"Number of training samples (log-scaled)\",\n",
    "    y_axes=\"Validation loss\",\n",
    "    y_axes_secondary=\"Validation set macro F1 score\"\n",
    ")\n",
    "\n",
    "# Plot the average test F1 score (log scale x-axis)\n",
    "plot_test_performance(\n",
    "    no_of_samples, \n",
    "    average_test_f1,\n",
    "    title=\"Average Test F1 Score for avg confidence\",\n",
    "    x_axes=\"Amount of Training Samples\",\n",
    "    y_axes=\"Test F1 Score\"\n",
    ")\n"
   ]
  }
 ],
 "metadata": {
  "kernelspec": {
   "display_name": "ActiveLearning01",
   "language": "python",
   "name": "python3"
  },
  "language_info": {
   "codemirror_mode": {
    "name": "ipython",
    "version": 3
   },
   "file_extension": ".py",
   "mimetype": "text/x-python",
   "name": "python",
   "nbconvert_exporter": "python",
   "pygments_lexer": "ipython3",
   "version": "3.8.19"
  }
 },
 "nbformat": 4,
 "nbformat_minor": 2
}
